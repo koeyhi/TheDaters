{
  "cells": [
    {
      "cell_type": "markdown",
      "metadata": {
        "id": "fiM-Y4_rDr6P"
      },
      "source": [
        "# 1. Numpy"
      ]
    },
    {
      "cell_type": "markdown",
      "metadata": {
        "id": "coTi3dPhDjdH"
      },
      "source": [
        "## 1.1 NumPy란\n",
        "\n",
        "- Numerical Python의 줄임 말\n",
        "- 행렬 연산이나 대규모 다차원 배열을 편리하게 처리할 수 있도록 지원하는 파이썬 라이브러리\n",
        "- NumPy는 데이터 구조 외에도 수치 계산을 위해 효율적으로 구현된 기능을 제공"
      ]
    },
    {
      "cell_type": "markdown",
      "metadata": {
        "id": "Zt8E5ej1EOAD"
      },
      "source": [
        "### 1.1.1 NumPy 특징\n",
        "\n",
        "- N 차원 배열 객체\n",
        "- 기본적으로  array 단위로 데이터 관리\n",
        "- 큰 규모의 데이터 연산을 빠르게 수행 (반복문 없이 배열에 대한 처리 지원)\n",
        "- 정교한 브로드캐스팅(Broadcast) 기능"
      ]
    },
    {
      "cell_type": "markdown",
      "metadata": {
        "id": "LhZTM4niEPex"
      },
      "source": [
        "### 1.1.2 ndarray 클래스\n",
        "\n",
        "- Numpy의 핵심인 다차원 행렬 자료 구조를 지원하는 클래스"
      ]
    },
    {
      "cell_type": "code",
      "execution_count": 3,
      "metadata": {
        "id": "TrAZZGf6_lpM"
      },
      "outputs": [],
      "source": [
        "import numpy as np"
      ]
    },
    {
      "cell_type": "code",
      "execution_count": 4,
      "metadata": {
        "colab": {
          "base_uri": "https://localhost:8080/"
        },
        "id": "7AJa8-GxE4Xs",
        "outputId": "9afd1776-09c5-420f-ad76-6e5bc555083b"
      },
      "outputs": [
        {
          "name": "stdout",
          "output_type": "stream",
          "text": [
            "[1 2 3 4 5 6]\n"
          ]
        }
      ],
      "source": [
        "data = np.array([1, 2, 3, 4, 5, 6])\n",
        "print(data)"
      ]
    },
    {
      "cell_type": "code",
      "execution_count": 5,
      "metadata": {
        "colab": {
          "base_uri": "https://localhost:8080/"
        },
        "id": "aFjYp7PSFJON",
        "outputId": "181e1c54-ac28-45ac-b1c9-0fc78c3c1c62"
      },
      "outputs": [
        {
          "name": "stdout",
          "output_type": "stream",
          "text": [
            "[[1, 2], [3, 4]]\n"
          ]
        }
      ],
      "source": [
        "print([[1, 2], [3, 4]])"
      ]
    },
    {
      "cell_type": "code",
      "execution_count": 6,
      "metadata": {
        "colab": {
          "base_uri": "https://localhost:8080/"
        },
        "id": "l6C0A33yFEUg",
        "outputId": "65652aff-0f11-4bab-c304-9e5765ddd07b"
      },
      "outputs": [
        {
          "name": "stdout",
          "output_type": "stream",
          "text": [
            "[[1 2]\n",
            " [3 4]]\n"
          ]
        }
      ],
      "source": [
        "data = np.array([[1, 2], [3, 4]])\n",
        "print(data)"
      ]
    },
    {
      "cell_type": "code",
      "execution_count": 7,
      "metadata": {
        "colab": {
          "base_uri": "https://localhost:8080/"
        },
        "id": "Yut_fggsFOuq",
        "outputId": "88c7d292-b8cf-40c0-9997-2969388151ba"
      },
      "outputs": [
        {
          "name": "stdout",
          "output_type": "stream",
          "text": [
            "<class 'numpy.ndarray'>\n",
            "['T', '__abs__', '__add__', '__and__', '__array__', '__array_finalize__', '__array_function__', '__array_interface__', '__array_prepare__', '__array_priority__', '__array_struct__', '__array_ufunc__', '__array_wrap__', '__bool__', '__class__', '__class_getitem__', '__complex__', '__contains__', '__copy__', '__deepcopy__', '__delattr__', '__delitem__', '__dir__', '__divmod__', '__dlpack__', '__dlpack_device__', '__doc__', '__eq__', '__float__', '__floordiv__', '__format__', '__ge__', '__getattribute__', '__getitem__', '__gt__', '__hash__', '__iadd__', '__iand__', '__ifloordiv__', '__ilshift__', '__imatmul__', '__imod__', '__imul__', '__index__', '__init__', '__init_subclass__', '__int__', '__invert__', '__ior__', '__ipow__', '__irshift__', '__isub__', '__iter__', '__itruediv__', '__ixor__', '__le__', '__len__', '__lshift__', '__lt__', '__matmul__', '__mod__', '__mul__', '__ne__', '__neg__', '__new__', '__or__', '__pos__', '__pow__', '__radd__', '__rand__', '__rdivmod__', '__reduce__', '__reduce_ex__', '__repr__', '__rfloordiv__', '__rlshift__', '__rmatmul__', '__rmod__', '__rmul__', '__ror__', '__rpow__', '__rrshift__', '__rshift__', '__rsub__', '__rtruediv__', '__rxor__', '__setattr__', '__setitem__', '__setstate__', '__sizeof__', '__str__', '__sub__', '__subclasshook__', '__truediv__', '__xor__', 'all', 'any', 'argmax', 'argmin', 'argpartition', 'argsort', 'astype', 'base', 'byteswap', 'choose', 'clip', 'compress', 'conj', 'conjugate', 'copy', 'ctypes', 'cumprod', 'cumsum', 'data', 'diagonal', 'dot', 'dtype', 'dump', 'dumps', 'fill', 'flags', 'flat', 'flatten', 'getfield', 'imag', 'item', 'itemset', 'itemsize', 'max', 'mean', 'min', 'nbytes', 'ndim', 'newbyteorder', 'nonzero', 'partition', 'prod', 'ptp', 'put', 'ravel', 'real', 'repeat', 'reshape', 'resize', 'round', 'searchsorted', 'setfield', 'setflags', 'shape', 'size', 'sort', 'squeeze', 'std', 'strides', 'sum', 'swapaxes', 'take', 'tobytes', 'tofile', 'tolist', 'tostring', 'trace', 'transpose', 'var', 'view']\n"
          ]
        }
      ],
      "source": [
        "print(type(data))\n",
        "print(dir(data))"
      ]
    },
    {
      "cell_type": "code",
      "execution_count": 8,
      "metadata": {
        "colab": {
          "base_uri": "https://localhost:8080/"
        },
        "id": "UudzjG_NFaTi",
        "outputId": "206dfdac-776d-4aee-bf7a-dd7e473a19bd"
      },
      "outputs": [
        {
          "data": {
            "text/plain": [
              "array([[1, 3],\n",
              "       [2, 4]])"
            ]
          },
          "execution_count": 8,
          "metadata": {},
          "output_type": "execute_result"
        }
      ],
      "source": [
        "data.T"
      ]
    },
    {
      "cell_type": "markdown",
      "metadata": {
        "id": "I-1mK7ObFiEA"
      },
      "source": [
        "### 1.1.3 NumPy 산술 연산"
      ]
    },
    {
      "cell_type": "code",
      "execution_count": 9,
      "metadata": {
        "id": "yCLyIMuJFqXy"
      },
      "outputs": [],
      "source": [
        "data1 = [[1, 2, 3], [4, 5, 6], [7, 8, 9]]\n",
        "data2 = [[1, 1, 1], [4, 4, 4], [7, 7, 7]]"
      ]
    },
    {
      "cell_type": "code",
      "execution_count": 10,
      "metadata": {
        "colab": {
          "base_uri": "https://localhost:8080/"
        },
        "id": "iGMGh5EVF9r5",
        "outputId": "3871b8d7-1c82-4f6b-a959-8284eaeeaf16"
      },
      "outputs": [
        {
          "data": {
            "text/plain": [
              "[[1, 2, 3], [4, 5, 6], [7, 8, 9], [1, 2, 3], [4, 5, 6], [7, 8, 9]]"
            ]
          },
          "execution_count": 10,
          "metadata": {},
          "output_type": "execute_result"
        }
      ],
      "source": [
        "data1 * 2"
      ]
    },
    {
      "cell_type": "code",
      "execution_count": 11,
      "metadata": {
        "colab": {
          "base_uri": "https://localhost:8080/"
        },
        "id": "7QcHLQx1GDgv",
        "outputId": "0741dfe0-221e-4faa-c9a7-1fde2915fb34"
      },
      "outputs": [
        {
          "name": "stdout",
          "output_type": "stream",
          "text": [
            "[[2, 4, 6], [8, 10, 12], [14, 16, 18]]\n"
          ]
        }
      ],
      "source": [
        "# 행렬과 스칼라의 곱\n",
        "for i in range(len(data1)):\n",
        "    for j in range(len(data1[0])):\n",
        "        data1[i][j] *= 2\n",
        "\n",
        "# [[1, 2, 3], [4, 5, 6], [7, 8, 9]]\n",
        "print(data1)"
      ]
    },
    {
      "cell_type": "code",
      "execution_count": 12,
      "metadata": {
        "colab": {
          "base_uri": "https://localhost:8080/"
        },
        "id": "t0BzYUPNG3w3",
        "outputId": "c2ddac2b-a85a-4b64-ef3a-6924a94a7bb8"
      },
      "outputs": [
        {
          "name": "stdout",
          "output_type": "stream",
          "text": [
            "[[12, 14, 16], [18, 20, 22], [24, 26, 28]]\n"
          ]
        }
      ],
      "source": [
        "# 행렬과 스칼라의 합\n",
        "for i in range(len(data1)):\n",
        "    for j in range(len(data1[0])):\n",
        "        data1[i][j] += 10\n",
        "\n",
        "# [[1, 2, 3], [4, 5, 6], [7, 8, 9]]\n",
        "print(data1)"
      ]
    },
    {
      "cell_type": "code",
      "execution_count": 210,
      "metadata": {
        "colab": {
          "base_uri": "https://localhost:8080/"
        },
        "id": "4m-rzIpYHIv6",
        "outputId": "280ded7e-91be-4d63-e367-07142480da90"
      },
      "outputs": [
        {
          "data": {
            "text/plain": [
              "array([[11, 11, 11],\n",
              "       [12, 12, 12],\n",
              "       [13, 13, 13]])"
            ]
          },
          "execution_count": 211,
          "metadata": {},
          "output_type": "execute_result"
        }
      ],
      "source": [
        "data2 = np.array(data2)\n",
        "data2 * 2\n",
        "data2 + 10"
      ]
    },
    {
      "cell_type": "code",
      "execution_count": 14,
      "metadata": {
        "colab": {
          "base_uri": "https://localhost:8080/"
        },
        "id": "1F7t8VWYHhis",
        "outputId": "f08487b3-8f67-4ff2-8278-817b10239a9b"
      },
      "outputs": [
        {
          "data": {
            "text/plain": [
              "array([[14, 14, 14],\n",
              "       [32, 32, 32],\n",
              "       [50, 50, 50]])"
            ]
          },
          "execution_count": 14,
          "metadata": {},
          "output_type": "execute_result"
        }
      ],
      "source": [
        "data1 = np.array([[1, 2, 3], [4, 5, 6], [7, 8, 9]])\n",
        "data2 = np.array([[1, 1, 1], [2, 2, 2], [3, 3, 3]])\n",
        "\n",
        "data1 @ data2 # 행렬곱\n",
        "np.dot(data1, data2) # 행렬곱"
      ]
    },
    {
      "cell_type": "markdown",
      "metadata": {
        "id": "dJm1nryKI59h"
      },
      "source": [
        "### 행렬의 곱(연습문제)\n",
        "\n",
        "* 손으로 풀어보세요.\n",
        "\n",
        "```\n",
        " [[2, 1],  X  [[7, 1],\n",
        "  [5, 1]]      [3, 4]]\n",
        "```"
      ]
    },
    {
      "cell_type": "code",
      "execution_count": 15,
      "metadata": {
        "colab": {
          "base_uri": "https://localhost:8080/"
        },
        "id": "sUi0Ow4TJIHP",
        "outputId": "0a7c449f-f838-4d4a-c62e-b7d990e0f3b8"
      },
      "outputs": [
        {
          "data": {
            "text/plain": [
              "[[17, 6], [38, 9]]"
            ]
          },
          "execution_count": 15,
          "metadata": {},
          "output_type": "execute_result"
        }
      ],
      "source": [
        "[[2*7 + 1*3, 2*1 + 1*4], \n",
        " [5*7 + 1*3, 5*1 + 1*4]]"
      ]
    },
    {
      "cell_type": "code",
      "execution_count": 16,
      "metadata": {
        "colab": {
          "base_uri": "https://localhost:8080/"
        },
        "id": "csNJJGCxJIue",
        "outputId": "8f1420cf-3d09-4606-c583-465f9a123601"
      },
      "outputs": [
        {
          "data": {
            "text/plain": [
              "[[17, 6], [38, 9]]"
            ]
          },
          "execution_count": 16,
          "metadata": {},
          "output_type": "execute_result"
        }
      ],
      "source": [
        "[[17, 6], \n",
        " [38, 9]]"
      ]
    },
    {
      "cell_type": "code",
      "execution_count": 17,
      "metadata": {
        "id": "GL0c9U2iJIwd"
      },
      "outputs": [],
      "source": [
        "a = [[2, 1],[5, 1]] \n",
        "b = [[7, 1],[3, 4]]   "
      ]
    },
    {
      "cell_type": "code",
      "execution_count": 18,
      "metadata": {
        "colab": {
          "base_uri": "https://localhost:8080/"
        },
        "id": "02xgowkLKZHS",
        "outputId": "e242c4b9-af3a-4f63-e051-a57577fc789f"
      },
      "outputs": [
        {
          "data": {
            "text/plain": [
              "array([[17,  6],\n",
              "       [38,  9]])"
            ]
          },
          "execution_count": 18,
          "metadata": {},
          "output_type": "execute_result"
        }
      ],
      "source": [
        "a = np.array(a)\n",
        "b = np.array(b)\n",
        "\n",
        "a @ b"
      ]
    },
    {
      "cell_type": "code",
      "execution_count": 19,
      "metadata": {
        "colab": {
          "base_uri": "https://localhost:8080/"
        },
        "id": "uvH13mjiJIy6",
        "outputId": "880c5d80-8cbf-47bf-f9b7-ca9b364a4558"
      },
      "outputs": [
        {
          "data": {
            "text/plain": [
              "array([[17,  6],\n",
              "       [38,  9]])"
            ]
          },
          "execution_count": 19,
          "metadata": {},
          "output_type": "execute_result"
        }
      ],
      "source": [
        "np.dot(a, b)"
      ]
    },
    {
      "cell_type": "markdown",
      "metadata": {
        "id": "rzzUIezeKmfP"
      },
      "source": [
        "* [단위행렬](https://ko.wikipedia.org/wiki/%EB%8B%A8%EC%9C%84%ED%96%89%EB%A0%AC)\n",
        "* [역행렬](https://ko.wikipedia.org/wiki/%EA%B0%80%EC%97%AD%ED%96%89%EB%A0%AC)"
      ]
    },
    {
      "cell_type": "markdown",
      "metadata": {
        "id": "m3Bg1HZoIWca"
      },
      "source": [
        "### 1.1.4 데이터 타입의 종류\n",
        "0. python의 타입 : int, float, complex, string, bool, list, tuple, dict, set\n",
        "1. int(8bit, 16bit, 32bit, 64bit) i1, i2, i4, i8\n",
        "    - 부호가 있음\n",
        "    - 비트수 만큼 크기를 가지는 정수형\n",
        "    - 저장할 수 있는 값의 범위\n",
        "        - int8 : 8 비트 부호있는 정수\n",
        "        - int16 : 16 비트 부호있는 정수\n",
        "        - int32 : 32 비트 부호있는 정수\n",
        "        - int64 : 64 비트 부호있는 정수\n",
        "    \n",
        "\n",
        " 2. uint(8bit, 16bit, 32bit, 64bit) u1, u2, u4, u8\n",
        "\n",
        "    - 부호가 없음\n",
        "    - 비트수 만큼 크기를 가지는 정수형\n",
        "    - 저장할 수 있는 값의 범위\n",
        "        - uint8 : 8비트 부호없는 정수\n",
        "        - uint16 :  16비트 부호없는 정수\n",
        "        - uint32 :  32비트 부호없는 정수\n",
        "        - uint64 :  64비트 부호없는 정수\n",
        "\n",
        " 3. float(16bit, 32bit, 64bit, 128bit) f2, f4, f8, f16\n",
        "\n",
        "    - 부호가 있음\n",
        "    - 비트수 만큼 크기를 가지는 실수형\n",
        "\n",
        " 4. 복소수형\n",
        "\n",
        "    - complex64 : 두개의 32비트 부동 소수점으로 표시되는 복소수 c8\n",
        "    - complex128 : 두개의 64비트 부동소수점으로 표시되는 복소수 c16\n",
        "\n",
        " 5. unicode\n",
        "\n",
        "    - 고정 길이 문자열 unicode\n",
        "\n",
        " 6. bool\n",
        "\n",
        "    - True, False"
      ]
    },
    {
      "cell_type": "code",
      "execution_count": 226,
      "metadata": {
        "colab": {
          "base_uri": "https://localhost:8080/"
        },
        "id": "KRKPs1HJLzVu",
        "outputId": "ae95162b-3295-4c75-d2e8-367aae1c75b8"
      },
      "outputs": [
        {
          "name": "stdout",
          "output_type": "stream",
          "text": [
            "<class 'numpy.ndarray'> float64\n"
          ]
        }
      ],
      "source": [
        "data = [1.1, 2, 3]\n",
        "data = np.array(data)\n",
        "\n",
        "print(type(data), data.dtype)"
      ]
    },
    {
      "cell_type": "code",
      "execution_count": 230,
      "metadata": {
        "colab": {
          "base_uri": "https://localhost:8080/"
        },
        "id": "DXaQYhnjIg0S",
        "outputId": "49e94189-fc20-4ee9-c97b-60efb29113bf"
      },
      "outputs": [
        {
          "name": "stdout",
          "output_type": "stream",
          "text": [
            "[1.1 2.  3. ] float32\n"
          ]
        }
      ],
      "source": [
        "data = [1.1, 2, 3]\n",
        "data = np.array(data, dtype=np.float32)\n",
        "\n",
        "print(data, data.dtype)"
      ]
    },
    {
      "cell_type": "code",
      "execution_count": 231,
      "metadata": {
        "colab": {
          "base_uri": "https://localhost:8080/"
        },
        "id": "Jp5IflFLNrhf",
        "outputId": "87cb955f-fb27-4091-b067-3f42e71cf567"
      },
      "outputs": [
        {
          "name": "stdout",
          "output_type": "stream",
          "text": [
            "[1 2 3] int32\n"
          ]
        }
      ],
      "source": [
        "data = [1.1, 2, 3]\n",
        "data = np.array(data, dtype=np.int32)\n",
        "\n",
        "print(data, data.dtype)"
      ]
    },
    {
      "cell_type": "code",
      "execution_count": 236,
      "metadata": {
        "colab": {
          "base_uri": "https://localhost:8080/"
        },
        "id": "fPjcK0_ENyaF",
        "outputId": "9d02763e-17b7-4ff4-df20-a790f15b4423"
      },
      "outputs": [
        {
          "name": "stdout",
          "output_type": "stream",
          "text": [
            "[1 2 3] int64\n"
          ]
        }
      ],
      "source": [
        "data = [1.1, 2, 3]\n",
        "data = np.array(data, dtype=\"i8\")\n",
        "\n",
        "print(data, data.dtype)"
      ]
    },
    {
      "cell_type": "code",
      "execution_count": 251,
      "metadata": {
        "colab": {
          "base_uri": "https://localhost:8080/"
        },
        "id": "RHgsvvv1N69x",
        "outputId": "b5ddd1d4-65e2-4321-f3fc-0eb2a7a985e2"
      },
      "outputs": [
        {
          "name": "stdout",
          "output_type": "stream",
          "text": [
            "[-127    0    0] int8\n"
          ]
        }
      ],
      "source": [
        "data = [129, 256, 512]\n",
        "data = np.array(data, dtype='i1')\n",
        "\n",
        "print(data, data.dtype)"
      ]
    },
    {
      "cell_type": "code",
      "execution_count": 252,
      "metadata": {
        "colab": {
          "base_uri": "https://localhost:8080/"
        },
        "id": "DSc_ZYNtOfd8",
        "outputId": "975a802c-ebd2-47fe-9750-243cb18573d0"
      },
      "outputs": [
        {
          "name": "stdout",
          "output_type": "stream",
          "text": [
            "[1.1 2.  3. ] float64\n"
          ]
        }
      ],
      "source": [
        "data = [1.1, 2, 3]\n",
        "data = np.float64(data) # np.array(data, dtype=np.float64)\n",
        "\n",
        "print(data, data.dtype)"
      ]
    },
    {
      "cell_type": "markdown",
      "metadata": {
        "id": "OQQMSzUeRzr8"
      },
      "source": [
        "### 1.1.5 데이터 형 변환\n",
        "\n",
        "방법. 1\n",
        "\n",
        "- variable(변수) = np.astype(data)\n",
        "- astype : 변환하고자 하는 데이터 타입 지정\n",
        "- data : 변환하고자 하는 array 지정\n",
        "\n",
        "방법. 2\n",
        "\n",
        "- variable(변수) =  ndarray.astype(dtype)\n",
        "- ndarray : 변환하고자 하는 array 지정\n",
        "- dtype : 변환하고자 하는 데이터 타입 지정"
      ]
    },
    {
      "cell_type": "code",
      "execution_count": 269,
      "metadata": {
        "colab": {
          "base_uri": "https://localhost:8080/"
        },
        "id": "kcFmsBP8Om94",
        "outputId": "92d5d45b-b34d-4da4-b90f-be11771adb35"
      },
      "outputs": [
        {
          "name": "stdout",
          "output_type": "stream",
          "text": [
            "[1.1 2.  3. ] float64\n",
            "[1 2 3] int32\n"
          ]
        }
      ],
      "source": [
        "data = [1.1, 2, 3]\n",
        "\n",
        "data = np.float64(data)\n",
        "print(data, data.dtype)\n",
        "\n",
        "data = np.int32(data)\n",
        "print(data, data.dtype)"
      ]
    },
    {
      "cell_type": "code",
      "execution_count": 270,
      "metadata": {
        "colab": {
          "base_uri": "https://localhost:8080/"
        },
        "id": "9B4ArM2EOtgI",
        "outputId": "e54834f7-3fd0-484d-990a-f38faae5b47f"
      },
      "outputs": [
        {
          "name": "stdout",
          "output_type": "stream",
          "text": [
            "[b'1' b'2' b'3'] |S11\n"
          ]
        }
      ],
      "source": [
        "data = data.astype(np.string_)\n",
        "print(data, data.dtype)"
      ]
    },
    {
      "cell_type": "code",
      "execution_count": 281,
      "metadata": {
        "colab": {
          "base_uri": "https://localhost:8080/",
          "height": 35
        },
        "id": "dm2wwuZ4PW3S",
        "outputId": "dc89f913-c75c-4858-d03a-71bac6906e95"
      },
      "outputs": [
        {
          "data": {
            "text/plain": [
              "'1'"
            ]
          },
          "execution_count": 281,
          "metadata": {},
          "output_type": "execute_result"
        }
      ],
      "source": [
        "data.tolist()\n",
        "data.tolist()[0]\n",
        "type(data.tolist()[0])\n",
        "data.tolist()[0].decode('utf-8')\n",
        "type(data.tolist()[0].decode('utf-8'))\n",
        "str(data.tolist()[0], 'utf-8')"
      ]
    },
    {
      "cell_type": "code",
      "execution_count": 283,
      "metadata": {
        "colab": {
          "base_uri": "https://localhost:8080/"
        },
        "id": "doywfweJQlbv",
        "outputId": "af42f630-cc44-4b53-8e64-553b6b4f9054"
      },
      "outputs": [
        {
          "name": "stdout",
          "output_type": "stream",
          "text": [
            "0 uint16\n"
          ]
        }
      ],
      "source": [
        "data = np.uint16(0)\n",
        "print(data, data.dtype)"
      ]
    },
    {
      "cell_type": "code",
      "execution_count": 284,
      "metadata": {
        "colab": {
          "base_uri": "https://localhost:8080/"
        },
        "id": "yBb4mOLBQw77",
        "outputId": "facef48a-e24f-42c5-c003-34129afba0e0"
      },
      "outputs": [
        {
          "name": "stdout",
          "output_type": "stream",
          "text": [
            "-1 int32\n"
          ]
        }
      ],
      "source": [
        "data = data - 1\n",
        "print(data, data.dtype)"
      ]
    },
    {
      "cell_type": "code",
      "execution_count": 285,
      "metadata": {
        "colab": {
          "base_uri": "https://localhost:8080/"
        },
        "id": "WF-cv6ebQ7gV",
        "outputId": "9eacf94d-e75e-4a73-a090-7b2b495ec5c5"
      },
      "outputs": [
        {
          "name": "stdout",
          "output_type": "stream",
          "text": [
            "65535 uint16\n"
          ]
        }
      ],
      "source": [
        "data = np.uint16(-1)\n",
        "print(data, data.dtype)"
      ]
    },
    {
      "cell_type": "code",
      "execution_count": 34,
      "metadata": {
        "colab": {
          "base_uri": "https://localhost:8080/"
        },
        "id": "qCRU5AURRVxp",
        "outputId": "6d1c993d-cd14-43da-e21e-b6af2458c8bc"
      },
      "outputs": [
        {
          "data": {
            "text/plain": [
              "65536"
            ]
          },
          "execution_count": 34,
          "metadata": {},
          "output_type": "execute_result"
        }
      ],
      "source": [
        "2**16"
      ]
    },
    {
      "cell_type": "markdown",
      "metadata": {
        "id": "8cFaVmBSR9B3"
      },
      "source": [
        "## 1.2 NumPy 차원\n",
        "\n",
        "- Scalar : 0차원 하나의 데이터 값으로만 존재하는 것\n",
        "- Vector : 1차원 배열 (1D array, 행(rows) 또는 열(columns)만 존재)\n",
        "- Matrix : 2차원 배열 (2D array)\n",
        "- Tensor : 3차원 이상의 다차원 배열"
      ]
    },
    {
      "cell_type": "code",
      "execution_count": 289,
      "metadata": {
        "colab": {
          "base_uri": "https://localhost:8080/"
        },
        "id": "rkHz1N-wUkqT",
        "outputId": "54fb251b-dfde-44bf-a8a1-3227ada6d4a5"
      },
      "outputs": [
        {
          "name": "stdout",
          "output_type": "stream",
          "text": [
            "1 () 0\n"
          ]
        }
      ],
      "source": [
        "# 0 차원 (Scalar)\n",
        "\n",
        "a = np.array(1)\n",
        "print(a, a.shape, a.ndim)"
      ]
    },
    {
      "cell_type": "code",
      "execution_count": 290,
      "metadata": {
        "colab": {
          "base_uri": "https://localhost:8080/"
        },
        "id": "uTEyfh_VU6we",
        "outputId": "c224a803-9459-400c-f4e6-d1a540c9a755"
      },
      "outputs": [
        {
          "name": "stdout",
          "output_type": "stream",
          "text": [
            "[1 2 3] (3,) 1\n"
          ]
        }
      ],
      "source": [
        "# 1 차원 (Vector)\n",
        "\n",
        "a = np.array([1, 2, 3])\n",
        "print(a, a.shape, a.ndim)"
      ]
    },
    {
      "cell_type": "code",
      "execution_count": 291,
      "metadata": {
        "colab": {
          "base_uri": "https://localhost:8080/"
        },
        "id": "jXz1rYjAVHAc",
        "outputId": "8e12b6d2-5ee9-4257-e5ea-7e36cfd382a8"
      },
      "outputs": [
        {
          "name": "stdout",
          "output_type": "stream",
          "text": [
            "[[1 2 3]\n",
            " [4 5 6]] (2, 3) 2\n"
          ]
        }
      ],
      "source": [
        "# 2 차원 (Matrix)\n",
        "\n",
        "a = np.array([[1, 2, 3], [4, 5, 6]])\n",
        "print(a, a.shape, a.ndim)"
      ]
    },
    {
      "cell_type": "code",
      "execution_count": 292,
      "metadata": {
        "colab": {
          "base_uri": "https://localhost:8080/"
        },
        "id": "dilL9YG9VWDR",
        "outputId": "a9832198-68b1-422d-b7cb-0e605611a873"
      },
      "outputs": [
        {
          "name": "stdout",
          "output_type": "stream",
          "text": [
            "[[[1 2 3]\n",
            "  [4 5 6]]\n",
            "\n",
            " [[1 2 3]\n",
            "  [4 5 6]]] (2, 2, 3) 3\n"
          ]
        }
      ],
      "source": [
        "# 3 차원 (Tensor)\n",
        "\n",
        "a = np.array([[[1, 2, 3], [4, 5, 6]], [[1, 2, 3], [4, 5, 6]]])\n",
        "print(a, a.shape, a.ndim)"
      ]
    },
    {
      "cell_type": "code",
      "execution_count": 293,
      "metadata": {
        "colab": {
          "base_uri": "https://localhost:8080/"
        },
        "id": "-FFodvNkVfBa",
        "outputId": "4a97c905-3186-4c3d-f25d-260267fa67a8"
      },
      "outputs": [
        {
          "data": {
            "text/plain": [
              "[[[1, 2, 3], [4, 5, 6]], [[1, 2, 3], [4, 5, 6]]]"
            ]
          },
          "execution_count": 293,
          "metadata": {},
          "output_type": "execute_result"
        }
      ],
      "source": [
        "a.tolist()"
      ]
    },
    {
      "cell_type": "markdown",
      "metadata": {
        "id": "CWlZSz6QX8fN"
      },
      "source": [
        "### 1.2.1 Ndarray(다차원 array)의 활용\n",
        "\n",
        "- 이 챕터에서 살펴볼 내용 : arange, indexing, slicing"
      ]
    },
    {
      "cell_type": "code",
      "execution_count": 294,
      "metadata": {
        "colab": {
          "base_uri": "https://localhost:8080/"
        },
        "id": "W38-sgzHbAOi",
        "outputId": "2879e9a7-2a81-4269-9bea-a180509e39d0"
      },
      "outputs": [
        {
          "data": {
            "text/plain": [
              "range(0, 10)"
            ]
          },
          "execution_count": 294,
          "metadata": {},
          "output_type": "execute_result"
        }
      ],
      "source": [
        "range(0, 10)"
      ]
    },
    {
      "cell_type": "code",
      "execution_count": 295,
      "metadata": {
        "colab": {
          "base_uri": "https://localhost:8080/"
        },
        "id": "AY-1_Hz0bFVE",
        "outputId": "bb6aef46-52dc-48a5-d0e5-2e6f26b1fdba"
      },
      "outputs": [
        {
          "data": {
            "text/plain": [
              "[0, 1, 2, 3, 4, 5, 6, 7, 8, 9]"
            ]
          },
          "execution_count": 295,
          "metadata": {},
          "output_type": "execute_result"
        }
      ],
      "source": [
        "list(range(0, 10))"
      ]
    },
    {
      "cell_type": "code",
      "execution_count": 296,
      "metadata": {
        "colab": {
          "base_uri": "https://localhost:8080/"
        },
        "id": "K6_4IvNybKLi",
        "outputId": "15e5a8a1-eac0-4004-a7c4-1463eb8c03f2"
      },
      "outputs": [
        {
          "data": {
            "text/plain": [
              "array([0, 1, 2, 3, 4, 5, 6, 7, 8, 9])"
            ]
          },
          "execution_count": 296,
          "metadata": {},
          "output_type": "execute_result"
        }
      ],
      "source": [
        "np.array(range(0, 10))"
      ]
    },
    {
      "cell_type": "code",
      "execution_count": 297,
      "metadata": {
        "colab": {
          "base_uri": "https://localhost:8080/"
        },
        "id": "vMmPnEk0bRmr",
        "outputId": "47b7a25a-130a-4a34-a69b-37d49d5cf95d"
      },
      "outputs": [
        {
          "data": {
            "text/plain": [
              "array([0, 1, 2, 3, 4, 5, 6, 7, 8, 9])"
            ]
          },
          "execution_count": 297,
          "metadata": {},
          "output_type": "execute_result"
        }
      ],
      "source": [
        "np.arange(10)"
      ]
    },
    {
      "cell_type": "code",
      "execution_count": 298,
      "metadata": {
        "colab": {
          "base_uri": "https://localhost:8080/"
        },
        "id": "frzf7d16bWhD",
        "outputId": "7bc49d77-74bf-4448-fee3-920777d73b58"
      },
      "outputs": [
        {
          "data": {
            "text/plain": [
              "array([ 2,  4,  6,  8, 10])"
            ]
          },
          "execution_count": 298,
          "metadata": {},
          "output_type": "execute_result"
        }
      ],
      "source": [
        "np.arange(2, 11, 2)"
      ]
    },
    {
      "cell_type": "code",
      "execution_count": 301,
      "metadata": {
        "colab": {
          "base_uri": "https://localhost:8080/"
        },
        "id": "M2nM09lfba1e",
        "outputId": "2a105937-dda6-49e9-b6bf-81b852157cf2"
      },
      "outputs": [
        {
          "data": {
            "text/plain": [
              "array([ 0.,  1.,  2.,  3.,  4.,  5.,  6.,  7.,  8.,  9., 10.])"
            ]
          },
          "execution_count": 301,
          "metadata": {},
          "output_type": "execute_result"
        }
      ],
      "source": [
        "np.arange(10)\n",
        "np.arange(2, 11, 0.5)\n",
        "np.arange(2, 11, 2)\n",
        "np.arange(10, 15, .5)\n",
        "np.arange(10, 2, -1)\n",
        "np.arange(10, 2, -1.5) # arange(start, stop, step)\n",
        "np.linspace(0, 10, 20) # linspace(start, stop, count)\n",
        "np.linspace(0, 10, 21) # linspace(start, stop, count)\n",
        "np.linspace(0, 10, 10) # linspace(start, stop, count)\n",
        "np.linspace(0, 10, 11) # linspace(start, stop, count)"
      ]
    },
    {
      "cell_type": "code",
      "execution_count": 302,
      "metadata": {
        "colab": {
          "base_uri": "https://localhost:8080/"
        },
        "id": "leyVLjzxcOfR",
        "outputId": "3533397b-1da2-4d4e-d22b-91a355baa4c6"
      },
      "outputs": [
        {
          "name": "stdout",
          "output_type": "stream",
          "text": [
            "1 (18,) 18\n"
          ]
        }
      ],
      "source": [
        "a = np.arange(2, 11, 0.5)\n",
        "print(a.ndim, a.shape, a.size)"
      ]
    },
    {
      "cell_type": "code",
      "execution_count": 47,
      "metadata": {
        "colab": {
          "base_uri": "https://localhost:8080/"
        },
        "id": "Np65VnaJcbJ-",
        "outputId": "f5da8cf7-775f-449f-8708-4393166c6192"
      },
      "outputs": [
        {
          "data": {
            "text/plain": [
              "array([[[ 0,  1,  2,  3,  4],\n",
              "        [ 5,  6,  7,  8,  9]],\n",
              "\n",
              "       [[10, 11, 12, 13, 14],\n",
              "        [15, 16, 17, 18, 19]]])"
            ]
          },
          "execution_count": 47,
          "metadata": {},
          "output_type": "execute_result"
        }
      ],
      "source": [
        "np.arange(10)\n",
        "np.arange(10).reshape(5, 2)\n",
        "np.arange(10).reshape(2, 5)\n",
        "# np.arange(10).reshape(2, 4) # reshape할 때 요소의 갯수가 맞지 않으면 애러가 납니다.\n",
        "np.arange(20).reshape(2, 2, 5)"
      ]
    },
    {
      "cell_type": "code",
      "execution_count": 303,
      "metadata": {
        "colab": {
          "base_uri": "https://localhost:8080/"
        },
        "id": "xJT5ChSuc8fk",
        "outputId": "28837b91-20c1-468f-9284-46b5f960dc7e"
      },
      "outputs": [
        {
          "name": "stdout",
          "output_type": "stream",
          "text": [
            "3 (2, 2, 5) 20\n"
          ]
        }
      ],
      "source": [
        "a = np.arange(20).reshape(2, 2, 5)\n",
        "print(a.ndim, a.shape, a.size)"
      ]
    },
    {
      "cell_type": "code",
      "execution_count": 305,
      "metadata": {
        "colab": {
          "base_uri": "https://localhost:8080/"
        },
        "id": "nNU2c_hxdEa5",
        "outputId": "63c9f609-952d-423b-b81b-0fc1a5b29d14"
      },
      "outputs": [
        {
          "name": "stdout",
          "output_type": "stream",
          "text": [
            "5 (1, 1, 2, 2, 5) 20\n"
          ]
        }
      ],
      "source": [
        "# 1\n",
        "# [1]\n",
        "# [[1]]\n",
        "# [[[1]]]\n",
        "a = np.arange(20).reshape(1, 1, 2, 2, 5)\n",
        "print(a.ndim, a.shape, a.size)"
      ]
    },
    {
      "cell_type": "code",
      "execution_count": 306,
      "metadata": {
        "colab": {
          "base_uri": "https://localhost:8080/"
        },
        "id": "SGS4zQnIdNpN",
        "outputId": "c358ce78-76ce-4506-e372-a5f4264d428c"
      },
      "outputs": [
        {
          "name": "stdout",
          "output_type": "stream",
          "text": [
            "[[[[[ 0  1  2  3  4]\n",
            "    [ 5  6  7  8  9]]\n",
            "\n",
            "   [[10 11 12 13 14]\n",
            "    [15 16 17 18 19]]]]]\n"
          ]
        }
      ],
      "source": [
        "a = np.arange(20).reshape(1, 1, 2, 2, 5)\n",
        "print(a)"
      ]
    },
    {
      "cell_type": "code",
      "execution_count": 307,
      "metadata": {
        "colab": {
          "base_uri": "https://localhost:8080/"
        },
        "id": "LsJGL07mdVrR",
        "outputId": "3aea4084-72b7-46d1-bc15-643207ae993e"
      },
      "outputs": [
        {
          "name": "stdout",
          "output_type": "stream",
          "text": [
            "[[[[ 0  1  2  3  4]\n",
            "   [ 5  6  7  8  9]]\n",
            "\n",
            "  [[10 11 12 13 14]\n",
            "   [15 16 17 18 19]]]]\n"
          ]
        }
      ],
      "source": [
        "print(a[0])"
      ]
    },
    {
      "cell_type": "code",
      "execution_count": 310,
      "metadata": {},
      "outputs": [
        {
          "name": "stdout",
          "output_type": "stream",
          "text": [
            "[[[ 0  1  2  3  4]\n",
            "  [ 5  6  7  8  9]]\n",
            "\n",
            " [[10 11 12 13 14]\n",
            "  [15 16 17 18 19]]]\n"
          ]
        }
      ],
      "source": [
        "print(a[0][0])"
      ]
    },
    {
      "cell_type": "code",
      "execution_count": 308,
      "metadata": {
        "colab": {
          "base_uri": "https://localhost:8080/"
        },
        "id": "YfqTj7a9dXY-",
        "outputId": "861e5546-260f-40b1-d995-594bfbacff24"
      },
      "outputs": [
        {
          "name": "stdout",
          "output_type": "stream",
          "text": [
            "[[0 1 2 3 4]\n",
            " [5 6 7 8 9]]\n"
          ]
        }
      ],
      "source": [
        "print(a[0][0][0])"
      ]
    },
    {
      "cell_type": "code",
      "execution_count": 309,
      "metadata": {
        "colab": {
          "base_uri": "https://localhost:8080/"
        },
        "id": "_3PmVHBpdaE4",
        "outputId": "2c119007-4734-49d2-e054-425a2cd064ee"
      },
      "outputs": [
        {
          "name": "stdout",
          "output_type": "stream",
          "text": [
            "[0 1 2 3 4]\n"
          ]
        }
      ],
      "source": [
        "print(a[0][0][0][0])"
      ]
    },
    {
      "cell_type": "code",
      "execution_count": 311,
      "metadata": {
        "colab": {
          "base_uri": "https://localhost:8080/"
        },
        "id": "RsaDyXHtdcuW",
        "outputId": "3843430f-cd09-4ce7-e2a6-4197054604e0"
      },
      "outputs": [
        {
          "name": "stdout",
          "output_type": "stream",
          "text": [
            "4\n"
          ]
        }
      ],
      "source": [
        "print(a[0][0][0][0][4])"
      ]
    },
    {
      "cell_type": "code",
      "execution_count": 312,
      "metadata": {
        "colab": {
          "base_uri": "https://localhost:8080/"
        },
        "id": "8qXXY7WJdlAY",
        "outputId": "3cfd4124-cbb2-479f-9446-cb1530b64fb1"
      },
      "outputs": [
        {
          "name": "stdout",
          "output_type": "stream",
          "text": [
            "9\n"
          ]
        }
      ],
      "source": [
        "print(a[0][0][0][1][4])"
      ]
    },
    {
      "cell_type": "code",
      "execution_count": 314,
      "metadata": {
        "colab": {
          "base_uri": "https://localhost:8080/"
        },
        "id": "t5azlIv4dpEO",
        "outputId": "583c9dad-1006-4a17-909a-5d3cf3d83d14"
      },
      "outputs": [
        {
          "name": "stdout",
          "output_type": "stream",
          "text": [
            "18\n"
          ]
        }
      ],
      "source": [
        "print(a[0][0][-1][-1][-2])"
      ]
    },
    {
      "cell_type": "code",
      "execution_count": 317,
      "metadata": {
        "id": "b6IqekIZd3sq"
      },
      "outputs": [
        {
          "name": "stdout",
          "output_type": "stream",
          "text": [
            "[[[ 0  1  2  3  4]\n",
            "  [ 5  6  7  8  9]]\n",
            "\n",
            " [[10 11 12 13 14]\n",
            "  [15 16 17 18 19]]]\n"
          ]
        }
      ],
      "source": [
        "a = np.arange(20).reshape(2, 2, 5)\n",
        "print(a)"
      ]
    },
    {
      "cell_type": "code",
      "execution_count": 318,
      "metadata": {
        "colab": {
          "base_uri": "https://localhost:8080/"
        },
        "id": "rKvcEbU3d6lN",
        "outputId": "a647c4d5-0b37-4e00-d075-1c3f39c52aa8"
      },
      "outputs": [
        {
          "name": "stdout",
          "output_type": "stream",
          "text": [
            "5\n"
          ]
        }
      ],
      "source": [
        "print(a[0][1][0]) # a[0, 1, 0]"
      ]
    },
    {
      "cell_type": "code",
      "execution_count": 319,
      "metadata": {
        "colab": {
          "base_uri": "https://localhost:8080/"
        },
        "id": "-4bIQIgxeKW6",
        "outputId": "7ddc818f-89de-4126-abea-7b61b50eda62"
      },
      "outputs": [
        {
          "name": "stdout",
          "output_type": "stream",
          "text": [
            "[16 17 18 19]\n"
          ]
        }
      ],
      "source": [
        "print(a[a > 15])"
      ]
    },
    {
      "cell_type": "code",
      "execution_count": 321,
      "metadata": {
        "colab": {
          "base_uri": "https://localhost:8080/"
        },
        "id": "XDD-ygrjeRh6",
        "outputId": "2f6c7705-c319-487e-c88d-45120cca6e0e"
      },
      "outputs": [
        {
          "name": "stdout",
          "output_type": "stream",
          "text": [
            "[[[False False False False False]\n",
            "  [False False False False False]]\n",
            "\n",
            " [[False False False False False]\n",
            "  [False  True  True  True  True]]]\n"
          ]
        }
      ],
      "source": [
        "print(a > 15)"
      ]
    },
    {
      "cell_type": "code",
      "execution_count": 322,
      "metadata": {
        "colab": {
          "base_uri": "https://localhost:8080/"
        },
        "id": "fiG4U8X2eYKu",
        "outputId": "dfb720af-7d22-4117-8d54-112d4e37c14a"
      },
      "outputs": [
        {
          "name": "stdout",
          "output_type": "stream",
          "text": [
            "[[[False False False False False]\n",
            "  [False False False  True False]]\n",
            "\n",
            " [[ True False  True False  True]\n",
            "  [False  True False  True False]]]\n"
          ]
        }
      ],
      "source": [
        "print((a > 7) & (a % 2 == 0))"
      ]
    },
    {
      "cell_type": "code",
      "execution_count": 323,
      "metadata": {
        "colab": {
          "base_uri": "https://localhost:8080/"
        },
        "id": "p7tLcD-ZejTd",
        "outputId": "dc450d49-02ff-4b8b-c552-ca532539a7e4"
      },
      "outputs": [
        {
          "name": "stdout",
          "output_type": "stream",
          "text": [
            "[ 8 10 12 14 16 18]\n"
          ]
        }
      ],
      "source": [
        "print(a[(a > 7) & (a % 2 == 0)])"
      ]
    },
    {
      "cell_type": "markdown",
      "metadata": {
        "id": "k3eSIqrXe6PV"
      },
      "source": [
        "* slicing\n",
        "\n",
        "    - 연속된 객체에서 범위를 지정하고 선택한 객체를 가져옴\n",
        "    - 1차원 → [start : end : step]\n",
        "    - 2차원 배열은 행과 열을 콤마로 구분 → [ : ,  :]\n",
        "    - 3차원 배열 → [ :, :, :]"
      ]
    },
    {
      "cell_type": "code",
      "execution_count": 324,
      "metadata": {
        "colab": {
          "base_uri": "https://localhost:8080/"
        },
        "id": "qE0gd0IXek2T",
        "outputId": "259bc4ec-c0c3-41ca-a3aa-b867be5b1ccf"
      },
      "outputs": [
        {
          "name": "stdout",
          "output_type": "stream",
          "text": [
            "[ 0  1  2  3  4  5  6  7  8  9 10 11 12 13 14 15 16 17 18 19]\n"
          ]
        }
      ],
      "source": [
        "data = np.arange(20)\n",
        "print(data)"
      ]
    },
    {
      "cell_type": "code",
      "execution_count": 325,
      "metadata": {
        "colab": {
          "base_uri": "https://localhost:8080/"
        },
        "id": "5t3hLBjpmhin",
        "outputId": "f06dc13b-2cf7-4595-fe7b-94a29563c2d4"
      },
      "outputs": [
        {
          "name": "stdout",
          "output_type": "stream",
          "text": [
            "[ 0  2  4  6  8 10]\n",
            "[10  8  6  4  2]\n",
            "[19 18 17 16 15 14 13 12 11 10  9  8  7  6  5  4  3  2  1  0]\n",
            "[ 0  2  4  6  8 10 12 14 16 18]\n"
          ]
        }
      ],
      "source": [
        "# data[start:stop:step]\n",
        "print(data[0:11:2])\n",
        "print(data[10:0:-2])\n",
        "print(data[::-1])\n",
        "print(data[::2])"
      ]
    },
    {
      "cell_type": "code",
      "execution_count": 326,
      "metadata": {
        "colab": {
          "base_uri": "https://localhost:8080/"
        },
        "id": "pLej4smrmywH",
        "outputId": "bb1284d4-7eb2-414d-adb0-64b9e9e98c07"
      },
      "outputs": [
        {
          "name": "stdout",
          "output_type": "stream",
          "text": [
            "[[ 0  1  2  3  4]\n",
            " [ 5  6  7  8  9]\n",
            " [10 11 12 13 14]\n",
            " [15 16 17 18 19]]\n"
          ]
        }
      ],
      "source": [
        "data = data.reshape(4, 5)\n",
        "print(data)"
      ]
    },
    {
      "cell_type": "code",
      "execution_count": 327,
      "metadata": {
        "colab": {
          "base_uri": "https://localhost:8080/"
        },
        "id": "uCW0703Ym7Ol",
        "outputId": "19a75677-426c-42f2-9312-6b584b8226ac"
      },
      "outputs": [
        {
          "name": "stdout",
          "output_type": "stream",
          "text": [
            "[ 1  6 11 16]\n",
            "[5 6 7 8 9]\n",
            "[[ 5  6  7  8  9]\n",
            " [10 11 12 13 14]]\n",
            "[[ 7  8]\n",
            " [12 13]]\n",
            "[[ 6  7  8]\n",
            " [11 12 13]\n",
            " [16 17 18]]\n"
          ]
        }
      ],
      "source": [
        "# data[row, col]\n",
        "print(data[:, 1])\n",
        "print(data[1, :])\n",
        "print(data[1:3, :])\n",
        "print(data[1:3, 2:4])\n",
        "print(data[1:4, 1:4])"
      ]
    },
    {
      "cell_type": "code",
      "execution_count": 329,
      "metadata": {
        "colab": {
          "base_uri": "https://localhost:8080/"
        },
        "id": "CYH9fF4bntrc",
        "outputId": "07f3ca9a-8741-469f-ea49-54b234330af4"
      },
      "outputs": [
        {
          "name": "stdout",
          "output_type": "stream",
          "text": [
            "[[[ 0  1  2  3  4]\n",
            "  [ 5  6  7  8  9]\n",
            "  [10 11 12 13 14]\n",
            "  [15 16 17 18 19]]\n",
            "\n",
            " [[20 21 22 23 24]\n",
            "  [25 26 27 28 29]\n",
            "  [30 31 32 33 34]\n",
            "  [35 36 37 38 39]]]\n"
          ]
        }
      ],
      "source": [
        "data = np.arange(40)\n",
        "data = data.reshape(2, 4, 5)\n",
        "print(data)"
      ]
    },
    {
      "cell_type": "code",
      "execution_count": 330,
      "metadata": {
        "colab": {
          "base_uri": "https://localhost:8080/"
        },
        "id": "t0xYMOENn3x5",
        "outputId": "418c7526-5aed-4ba4-8ad3-eb2ee8bb201d"
      },
      "outputs": [
        {
          "name": "stdout",
          "output_type": "stream",
          "text": [
            "[[21 22]\n",
            " [26 27]]\n",
            "[[ 8  9]\n",
            " [13 14]]\n"
          ]
        }
      ],
      "source": [
        "print(data[1, 0:2, 1:3])\n",
        "print(data[0, 1:3, -2:])"
      ]
    },
    {
      "cell_type": "markdown",
      "metadata": {
        "id": "UPjxT5uDo9Cn"
      },
      "source": [
        "## 1.3 NumPy 배열"
      ]
    },
    {
      "cell_type": "markdown",
      "metadata": {
        "id": "QnmTIKDGoyrK"
      },
      "source": [
        "### 1.3.1 배열의 연결과 분할\n",
        "\n",
        "1. 연결 \n",
        "    - hstack : 열 추가\n",
        "    - vstack : 행 추가\n",
        "    - concatenate ([a, b], axis = ) : axis=0 → 행 추가, axis=1 →  열추가\n",
        "2. 분할\n",
        "    - vsplit : 수직축으로 분할, 행 분할\n",
        "    - hsplit : 수평축으로 분할, 열 분할"
      ]
    },
    {
      "cell_type": "code",
      "execution_count": 331,
      "metadata": {
        "colab": {
          "base_uri": "https://localhost:8080/"
        },
        "id": "-qjDYV_npBGJ",
        "outputId": "e9aac81e-3b1c-4c22-aa73-9300d035d67e"
      },
      "outputs": [
        {
          "name": "stdout",
          "output_type": "stream",
          "text": [
            "[5 7 9]\n"
          ]
        }
      ],
      "source": [
        "a = [1, 2, 3]\n",
        "b = [4, 5, 6]\n",
        "\n",
        "a = np.array(a)\n",
        "b = np.array(b)\n",
        "\n",
        "print(a + b)"
      ]
    },
    {
      "cell_type": "code",
      "execution_count": 332,
      "metadata": {
        "colab": {
          "base_uri": "https://localhost:8080/"
        },
        "id": "P8HHjdJ1qRWS",
        "outputId": "4387c47c-d9fd-4096-874f-95a51940f80d"
      },
      "outputs": [
        {
          "name": "stdout",
          "output_type": "stream",
          "text": [
            "[1 2 3 4 5 6]\n"
          ]
        }
      ],
      "source": [
        "print(np.concatenate([a, b]))\n",
        "# np.concatenate(a, b) # error"
      ]
    },
    {
      "cell_type": "code",
      "execution_count": 334,
      "metadata": {
        "colab": {
          "base_uri": "https://localhost:8080/"
        },
        "id": "4IdqygBNqZiq",
        "outputId": "930fbbd5-7985-4cdd-ee7a-f18933a61c17"
      },
      "outputs": [
        {
          "name": "stdout",
          "output_type": "stream",
          "text": [
            "[[0 1 2 3 4]\n",
            " [5 6 7 8 9]]\n",
            "[[10 11 12 13 14]\n",
            " [15 16 17 18 19]]\n"
          ]
        }
      ],
      "source": [
        "a = np.arange(10).reshape(2, 5)\n",
        "b = np.arange(10, 20).reshape(2, 5)\n",
        "\n",
        "print(a)\n",
        "print(b)"
      ]
    },
    {
      "cell_type": "code",
      "execution_count": 335,
      "metadata": {
        "colab": {
          "base_uri": "https://localhost:8080/"
        },
        "id": "oj_OOvvMqkVg",
        "outputId": "977b72dc-481a-401a-c2b0-82bf09f85a97"
      },
      "outputs": [
        {
          "data": {
            "text/plain": [
              "array([[ 0,  1,  2,  3,  4],\n",
              "       [ 5,  6,  7,  8,  9],\n",
              "       [10, 11, 12, 13, 14],\n",
              "       [15, 16, 17, 18, 19]])"
            ]
          },
          "execution_count": 335,
          "metadata": {},
          "output_type": "execute_result"
        }
      ],
      "source": [
        "np.concatenate([a, b])"
      ]
    },
    {
      "cell_type": "code",
      "execution_count": 336,
      "metadata": {
        "colab": {
          "base_uri": "https://localhost:8080/"
        },
        "id": "kOSBXnIWqnw5",
        "outputId": "ac7627f5-c90d-476d-f583-5c3a5abe10bd"
      },
      "outputs": [
        {
          "data": {
            "text/plain": [
              "array([[[ 0,  1,  2,  3,  4],\n",
              "        [ 5,  6,  7,  8,  9]],\n",
              "\n",
              "       [[10, 11, 12, 13, 14],\n",
              "        [15, 16, 17, 18, 19]]])"
            ]
          },
          "execution_count": 336,
          "metadata": {},
          "output_type": "execute_result"
        }
      ],
      "source": [
        "np.concatenate([[a], [b]])"
      ]
    },
    {
      "cell_type": "code",
      "execution_count": 340,
      "metadata": {
        "colab": {
          "base_uri": "https://localhost:8080/"
        },
        "id": "7k8z-G_squgr",
        "outputId": "29744d4e-16e3-4b2c-8ab2-ed6ce5715a25"
      },
      "outputs": [
        {
          "data": {
            "text/plain": [
              "array([[[ 0,  1,  2,  3,  4],\n",
              "        [ 5,  6,  7,  8,  9]],\n",
              "\n",
              "       [[10, 11, 12, 13, 14],\n",
              "        [15, 16, 17, 18, 19]]])"
            ]
          },
          "execution_count": 340,
          "metadata": {},
          "output_type": "execute_result"
        }
      ],
      "source": [
        "np.concatenate([[a, b]])"
      ]
    },
    {
      "cell_type": "code",
      "execution_count": 341,
      "metadata": {
        "colab": {
          "base_uri": "https://localhost:8080/"
        },
        "id": "rJEPEuQ0q7BQ",
        "outputId": "bdf10ab5-0f0a-4825-9219-ed3fb065edd1"
      },
      "outputs": [
        {
          "data": {
            "text/plain": [
              "array([[ 0,  1,  2,  3,  4],\n",
              "       [ 5,  6,  7,  8,  9],\n",
              "       [10, 11, 12, 13, 14],\n",
              "       [15, 16, 17, 18, 19]])"
            ]
          },
          "execution_count": 341,
          "metadata": {},
          "output_type": "execute_result"
        }
      ],
      "source": [
        "np.concatenate([a, b], axis=0)"
      ]
    },
    {
      "cell_type": "code",
      "execution_count": 342,
      "metadata": {
        "colab": {
          "base_uri": "https://localhost:8080/"
        },
        "id": "2OyvPtpIq_PP",
        "outputId": "837f702d-5dff-4e83-89d0-b5aa33784c5b"
      },
      "outputs": [
        {
          "data": {
            "text/plain": [
              "array([[ 0,  1,  2,  3,  4, 10, 11, 12, 13, 14],\n",
              "       [ 5,  6,  7,  8,  9, 15, 16, 17, 18, 19]])"
            ]
          },
          "execution_count": 342,
          "metadata": {},
          "output_type": "execute_result"
        }
      ],
      "source": [
        "np.concatenate([a, b], axis=1)"
      ]
    },
    {
      "cell_type": "code",
      "execution_count": 343,
      "metadata": {
        "colab": {
          "base_uri": "https://localhost:8080/"
        },
        "id": "4XByt24ArBlB",
        "outputId": "0fa47eae-658d-44e5-c2f2-73134c2398be"
      },
      "outputs": [
        {
          "name": "stdout",
          "output_type": "stream",
          "text": [
            "[[ 0  1  2  3  4]\n",
            " [ 5  6  7  8  9]\n",
            " [10 11 12 13 14]\n",
            " [15 16 17 18 19]]\n",
            "[[ 0  1  2  3  4 10 11 12 13 14]\n",
            " [ 5  6  7  8  9 15 16 17 18 19]]\n"
          ]
        }
      ],
      "source": [
        "print(np.vstack([a, b])) #vertical stack, np.concatenate([a, b], axis=0)\n",
        "print(np.hstack([a, b])) #horizontal stack, np.concatenate([a, b], axis=1)"
      ]
    },
    {
      "cell_type": "code",
      "execution_count": 345,
      "metadata": {
        "id": "XCXGB1sQrQMV"
      },
      "outputs": [
        {
          "data": {
            "text/plain": [
              "array([ 0,  1,  2,  3,  4,  5,  6,  7,  8,  9, 10, 11])"
            ]
          },
          "execution_count": 345,
          "metadata": {},
          "output_type": "execute_result"
        }
      ],
      "source": [
        "a = np.arange(12)\n",
        "a"
      ]
    },
    {
      "cell_type": "code",
      "execution_count": 348,
      "metadata": {
        "colab": {
          "base_uri": "https://localhost:8080/"
        },
        "id": "E-YLvRw3reJT",
        "outputId": "97993609-e2e2-400f-a386-2c0535c6f519"
      },
      "outputs": [
        {
          "name": "stdout",
          "output_type": "stream",
          "text": [
            "[array([0, 1, 2, 3, 4, 5]), array([ 6,  7,  8,  9, 10, 11])]\n",
            "[array([0, 1]), array([2, 3]), array([4, 5]), array([6, 7]), array([8, 9]), array([10, 11])]\n",
            "[array([0, 1, 2, 3]), array([4, 5, 6, 7]), array([ 8,  9, 10, 11])]\n"
          ]
        }
      ],
      "source": [
        "# np.split(a, 5)\n",
        "print(np.split(a, 2)) # 2개\n",
        "print(np.split(a, 6)) # 6개\n",
        "print(np.split(a, 3)) # 3개"
      ]
    },
    {
      "cell_type": "code",
      "execution_count": 349,
      "metadata": {
        "colab": {
          "base_uri": "https://localhost:8080/"
        },
        "id": "-PX73fZyr9oH",
        "outputId": "6609532a-84e2-4458-959a-ea9b65cc46f8"
      },
      "outputs": [
        {
          "data": {
            "text/plain": [
              "array([ 10,  20,  30,  40,  50,  60,  70,  80,  90, 100, 110, 120])"
            ]
          },
          "execution_count": 349,
          "metadata": {},
          "output_type": "execute_result"
        }
      ],
      "source": [
        "a = np.arange(10, 121, 10)\n",
        "a"
      ]
    },
    {
      "cell_type": "code",
      "execution_count": 350,
      "metadata": {
        "colab": {
          "base_uri": "https://localhost:8080/"
        },
        "id": "_XhRuY2zsCsZ",
        "outputId": "262bd7f4-3f19-4a4b-e8b4-29b9b178c525"
      },
      "outputs": [
        {
          "name": "stdout",
          "output_type": "stream",
          "text": [
            "[array([10, 20, 30, 40, 50, 60]), array([ 70,  80,  90, 100, 110, 120])]\n",
            "[array([10, 20, 30, 40, 50, 60]), array([ 70,  80,  90, 100, 110, 120]), array([], dtype=int32)]\n",
            "[array([10, 20, 30, 40, 50, 60]), array([ 70,  80,  90, 100, 110]), array([120])]\n",
            "[array([10, 20, 30]), array([40, 50]), array([60, 70, 80, 90]), array([100]), array([110, 120])]\n"
          ]
        }
      ],
      "source": [
        "print(np.split(a, 2)) # 2개\n",
        "print(np.split(a, [6, 12])) # 2개\n",
        "print(np.split(a, [6, 11])) # 3개\n",
        "print(np.split(a, [3, 5, 9, 10]))"
      ]
    },
    {
      "cell_type": "code",
      "execution_count": 351,
      "metadata": {
        "colab": {
          "base_uri": "https://localhost:8080/"
        },
        "id": "KL_7sVVosr00",
        "outputId": "32f9ad5a-da0a-4dd3-e5a0-709eb21215af"
      },
      "outputs": [
        {
          "data": {
            "text/plain": [
              "array([[ 10,  20,  30,  40],\n",
              "       [ 50,  60,  70,  80],\n",
              "       [ 90, 100, 110, 120]])"
            ]
          },
          "execution_count": 351,
          "metadata": {},
          "output_type": "execute_result"
        }
      ],
      "source": [
        "a = np.arange(10, 121, 10).reshape(3, 4)\n",
        "a"
      ]
    },
    {
      "cell_type": "code",
      "execution_count": 352,
      "metadata": {
        "colab": {
          "base_uri": "https://localhost:8080/"
        },
        "id": "XJMFUN3itJjw",
        "outputId": "a577da27-692d-4aff-e7cd-691f61e9d072"
      },
      "outputs": [
        {
          "data": {
            "text/plain": [
              "[array([[10, 20, 30, 40]]),\n",
              " array([[50, 60, 70, 80]]),\n",
              " array([[ 90, 100, 110, 120]])]"
            ]
          },
          "execution_count": 352,
          "metadata": {},
          "output_type": "execute_result"
        }
      ],
      "source": [
        "np.vsplit(a, 3)"
      ]
    },
    {
      "cell_type": "code",
      "execution_count": 354,
      "metadata": {
        "colab": {
          "base_uri": "https://localhost:8080/"
        },
        "id": "8rdWbcTQtJ3f",
        "outputId": "0900643c-6086-4eb5-ec2c-cc2b1d1afddc"
      },
      "outputs": [
        {
          "data": {
            "text/plain": [
              "array([[ 10,  20,  30,  40],\n",
              "       [ 50,  60,  70,  80],\n",
              "       [ 90, 100, 110, 120],\n",
              "       [130, 140, 150, 160]])"
            ]
          },
          "execution_count": 354,
          "metadata": {},
          "output_type": "execute_result"
        }
      ],
      "source": [
        "a = np.arange(10, 161, 10).reshape(4, 4)\n",
        "a"
      ]
    },
    {
      "cell_type": "code",
      "execution_count": 355,
      "metadata": {
        "colab": {
          "base_uri": "https://localhost:8080/"
        },
        "id": "_WZWYbmFsuOW",
        "outputId": "805d397e-4b3f-4314-beb5-6fe589c284a4"
      },
      "outputs": [
        {
          "data": {
            "text/plain": [
              "[array([[10, 20, 30, 40],\n",
              "        [50, 60, 70, 80]]),\n",
              " array([[ 90, 100, 110, 120],\n",
              "        [130, 140, 150, 160]])]"
            ]
          },
          "execution_count": 355,
          "metadata": {},
          "output_type": "execute_result"
        }
      ],
      "source": [
        "np.vsplit(a, 2)"
      ]
    },
    {
      "cell_type": "code",
      "execution_count": 356,
      "metadata": {
        "colab": {
          "base_uri": "https://localhost:8080/"
        },
        "id": "jJHYVHGstSQI",
        "outputId": "3c1c9023-76d2-4072-db7b-37097598ce3e"
      },
      "outputs": [
        {
          "data": {
            "text/plain": [
              "[array([[ 10],\n",
              "        [ 50],\n",
              "        [ 90],\n",
              "        [130]]),\n",
              " array([[ 20],\n",
              "        [ 60],\n",
              "        [100],\n",
              "        [140]]),\n",
              " array([[ 30],\n",
              "        [ 70],\n",
              "        [110],\n",
              "        [150]]),\n",
              " array([[ 40],\n",
              "        [ 80],\n",
              "        [120],\n",
              "        [160]])]"
            ]
          },
          "execution_count": 356,
          "metadata": {},
          "output_type": "execute_result"
        }
      ],
      "source": [
        "np.hsplit(a, 4)"
      ]
    },
    {
      "cell_type": "code",
      "execution_count": 359,
      "metadata": {
        "colab": {
          "base_uri": "https://localhost:8080/"
        },
        "id": "QOJvK3crtZH5",
        "outputId": "34333a6c-8cd0-41e3-fcd8-5899cfbbbbec"
      },
      "outputs": [
        {
          "data": {
            "text/plain": [
              "[array([[ 0,  1],\n",
              "        [ 4,  5],\n",
              "        [ 8,  9],\n",
              "        [12, 13]]),\n",
              " array([[ 2,  3],\n",
              "        [ 6,  7],\n",
              "        [10, 11],\n",
              "        [14, 15]])]"
            ]
          },
          "execution_count": 359,
          "metadata": {},
          "output_type": "execute_result"
        }
      ],
      "source": [
        "np.hsplit(a, 2)"
      ]
    },
    {
      "cell_type": "markdown",
      "metadata": {
        "id": "q47Hs0tvw37-"
      },
      "source": [
        "### 1.3.2 다양한 Matrix 만들기\n",
        "\n",
        "- zeros : 0으로 초기화된 배열 생성\n",
        "- ones  : 1로 초기화 된 배열 생성\n",
        "- eye : 주대각선의 원소가 모두 1이고 나머지 원소는 0인 정사각행렬 (단위행렬)\n",
        "- empty : 초기화 하지 않고 배열만 생성, 기존에 메모리에 저장되어 있는 값으로 나타남\n",
        "- linspace(시작, 끝, 개수, endpoint = ) : 지정한 구간에서 개수만큼 분할\n",
        "    - endpoint = True or False : 마지막 값을 포함시킬지 시키지 않을지 선택\n",
        "- logspace(시작, 끝, 개수, endpoint = ) : 지정한 구간에서 개수만큼 로그를 이용하여 분할\n",
        "- ravel : 다차원 배열을 1차원 배열로 변환"
      ]
    },
    {
      "cell_type": "code",
      "execution_count": 360,
      "metadata": {
        "colab": {
          "base_uri": "https://localhost:8080/"
        },
        "id": "AAN7uK3iw-I-",
        "outputId": "92b2f4b2-697d-40b2-fc7f-e52c35162d81"
      },
      "outputs": [
        {
          "data": {
            "text/plain": [
              "array([[0., 0., 0., 0.],\n",
              "       [0., 0., 0., 0.],\n",
              "       [0., 0., 0., 0.]])"
            ]
          },
          "execution_count": 360,
          "metadata": {},
          "output_type": "execute_result"
        }
      ],
      "source": [
        "np.zeros(10)\n",
        "np.zeros([3, 4])"
      ]
    },
    {
      "cell_type": "code",
      "execution_count": 361,
      "metadata": {
        "colab": {
          "base_uri": "https://localhost:8080/"
        },
        "id": "ydmgSUKixdzD",
        "outputId": "f1b5d090-92f2-45bf-ae60-4f1444803a2e"
      },
      "outputs": [
        {
          "data": {
            "text/plain": [
              "array([[1., 1., 1., 1.],\n",
              "       [1., 1., 1., 1.],\n",
              "       [1., 1., 1., 1.]])"
            ]
          },
          "execution_count": 361,
          "metadata": {},
          "output_type": "execute_result"
        }
      ],
      "source": [
        "np.ones(10)\n",
        "np.ones([3, 4])"
      ]
    },
    {
      "cell_type": "code",
      "execution_count": 362,
      "metadata": {
        "id": "9-T7mgC-xk1j"
      },
      "outputs": [
        {
          "name": "stdout",
          "output_type": "stream",
          "text": [
            "[[ 0.  1.  2.  3.]\n",
            " [ 4.  5.  6.  7.]\n",
            " [ 8.  9. 10. 11.]\n",
            " [12. 13. 14. 15.]]\n"
          ]
        }
      ],
      "source": [
        "a = np.arange(16).reshape(4, 4)\n",
        "b = np.eye(4)\n",
        "\n",
        "print(a @ b)"
      ]
    },
    {
      "cell_type": "code",
      "execution_count": 363,
      "metadata": {
        "id": "uumYyVUqxxcP"
      },
      "outputs": [],
      "source": [
        "# np.eye([3, 4]) # 다차원은 error"
      ]
    },
    {
      "cell_type": "code",
      "execution_count": 366,
      "metadata": {
        "colab": {
          "base_uri": "https://localhost:8080/"
        },
        "id": "hIjSDJ1ryMTc",
        "outputId": "afbb2681-232f-4feb-e2d1-e385eedfb28b"
      },
      "outputs": [
        {
          "data": {
            "text/plain": [
              "array([ 22.,  84.,  23.,  91.,  23.,  99.,  86.,  40.,  27., 104., 101.,\n",
              "        38.,  59.,  86.,  58.,  58., 126.,  55.,  74.,  77.,  64., 102.,\n",
              "       122., 143., 145., 146.,  75.,  73.,  73., 131., 131.,  94., 131.,\n",
              "        77.,  78., 140., 163.,  92., 174., 101., 137., 164., 124., 167.,\n",
              "       101., 170., 123., 153., 163., 111., 178., 136., 157., 192., 144.,\n",
              "       172., 202., 165., 208., 143., 194., 200., 159., 223., 145., 166.,\n",
              "       167., 166., 155., 215., 173., 179., 191., 213., 241., 198., 170.,\n",
              "       196., 200., 178., 193., 187., 261., 201., 249., 254., 244., 230.,\n",
              "       218., 276., 213., 247., 259., 273., 201., 200., 279., 210., 258.,\n",
              "       293.])"
            ]
          },
          "execution_count": 366,
          "metadata": {},
          "output_type": "execute_result"
        }
      ],
      "source": [
        "np.empty(100)"
      ]
    },
    {
      "cell_type": "code",
      "execution_count": 367,
      "metadata": {
        "colab": {
          "base_uri": "https://localhost:8080/"
        },
        "id": "XZhgKANlyfeW",
        "outputId": "648c5643-52f0-4936-f445-faf1c16f09a7"
      },
      "outputs": [
        {
          "name": "stdout",
          "output_type": "stream",
          "text": [
            "[1000 1000 1000 1000 1000 1000 1000 1000 1000 1000]\n",
            "[[1000 1000 1000]\n",
            " [1000 1000 1000]]\n",
            "[[[1000 1000 1000 1000]\n",
            "  [1000 1000 1000 1000]\n",
            "  [1000 1000 1000 1000]]\n",
            "\n",
            " [[1000 1000 1000 1000]\n",
            "  [1000 1000 1000 1000]\n",
            "  [1000 1000 1000 1000]]]\n"
          ]
        }
      ],
      "source": [
        "print(np.full(10, 1000))\n",
        "print(np.full((2, 3), 1000))\n",
        "print(np.full((2, 3, 4), 1000))"
      ]
    },
    {
      "cell_type": "code",
      "execution_count": 369,
      "metadata": {
        "colab": {
          "base_uri": "https://localhost:8080/"
        },
        "id": "u1L1blG1yowx",
        "outputId": "a9b90eaa-4322-49fc-883f-986bf6b9eb48"
      },
      "outputs": [
        {
          "data": {
            "text/plain": [
              "array([ 2. ,  3.6,  5.2,  6.8,  8.4, 10. ])"
            ]
          },
          "execution_count": 369,
          "metadata": {},
          "output_type": "execute_result"
        }
      ],
      "source": [
        "# linspace(시작, 끝, 개수, endpoint = ) : 지정한 구간에서 개수만큼 분할\n",
        "# endpoint = True or False : 마지막 값을 포함시킬지 시키지 않을지 선택\n",
        "np.linspace(2, 10, 6)"
      ]
    },
    {
      "cell_type": "code",
      "execution_count": 370,
      "metadata": {
        "colab": {
          "base_uri": "https://localhost:8080/"
        },
        "id": "uZBV_xEKzCSR",
        "outputId": "8252ed0a-25c7-4ed9-efd4-83af232e8353"
      },
      "outputs": [
        {
          "data": {
            "text/plain": [
              "array([  1.        ,   2.01010101,   3.02020202,   4.03030303,\n",
              "         5.04040404,   6.05050505,   7.06060606,   8.07070707,\n",
              "         9.08080808,  10.09090909,  11.1010101 ,  12.11111111,\n",
              "        13.12121212,  14.13131313,  15.14141414,  16.15151515,\n",
              "        17.16161616,  18.17171717,  19.18181818,  20.19191919,\n",
              "        21.2020202 ,  22.21212121,  23.22222222,  24.23232323,\n",
              "        25.24242424,  26.25252525,  27.26262626,  28.27272727,\n",
              "        29.28282828,  30.29292929,  31.3030303 ,  32.31313131,\n",
              "        33.32323232,  34.33333333,  35.34343434,  36.35353535,\n",
              "        37.36363636,  38.37373737,  39.38383838,  40.39393939,\n",
              "        41.4040404 ,  42.41414141,  43.42424242,  44.43434343,\n",
              "        45.44444444,  46.45454545,  47.46464646,  48.47474747,\n",
              "        49.48484848,  50.49494949,  51.50505051,  52.51515152,\n",
              "        53.52525253,  54.53535354,  55.54545455,  56.55555556,\n",
              "        57.56565657,  58.57575758,  59.58585859,  60.5959596 ,\n",
              "        61.60606061,  62.61616162,  63.62626263,  64.63636364,\n",
              "        65.64646465,  66.65656566,  67.66666667,  68.67676768,\n",
              "        69.68686869,  70.6969697 ,  71.70707071,  72.71717172,\n",
              "        73.72727273,  74.73737374,  75.74747475,  76.75757576,\n",
              "        77.76767677,  78.77777778,  79.78787879,  80.7979798 ,\n",
              "        81.80808081,  82.81818182,  83.82828283,  84.83838384,\n",
              "        85.84848485,  86.85858586,  87.86868687,  88.87878788,\n",
              "        89.88888889,  90.8989899 ,  91.90909091,  92.91919192,\n",
              "        93.92929293,  94.93939394,  95.94949495,  96.95959596,\n",
              "        97.96969697,  98.97979798,  99.98989899, 101.        ])"
            ]
          },
          "execution_count": 370,
          "metadata": {},
          "output_type": "execute_result"
        }
      ],
      "source": [
        "np.linspace(1, 101, 100)"
      ]
    },
    {
      "cell_type": "code",
      "execution_count": 371,
      "metadata": {
        "colab": {
          "base_uri": "https://localhost:8080/"
        },
        "id": "qQxCK7rnzLIU",
        "outputId": "8a2b52cb-7ba9-4430-cd74-2fd34c9ba88a"
      },
      "outputs": [
        {
          "data": {
            "text/plain": [
              "array([  1.,   2.,   3.,   4.,   5.,   6.,   7.,   8.,   9.,  10.,  11.,\n",
              "        12.,  13.,  14.,  15.,  16.,  17.,  18.,  19.,  20.,  21.,  22.,\n",
              "        23.,  24.,  25.,  26.,  27.,  28.,  29.,  30.,  31.,  32.,  33.,\n",
              "        34.,  35.,  36.,  37.,  38.,  39.,  40.,  41.,  42.,  43.,  44.,\n",
              "        45.,  46.,  47.,  48.,  49.,  50.,  51.,  52.,  53.,  54.,  55.,\n",
              "        56.,  57.,  58.,  59.,  60.,  61.,  62.,  63.,  64.,  65.,  66.,\n",
              "        67.,  68.,  69.,  70.,  71.,  72.,  73.,  74.,  75.,  76.,  77.,\n",
              "        78.,  79.,  80.,  81.,  82.,  83.,  84.,  85.,  86.,  87.,  88.,\n",
              "        89.,  90.,  91.,  92.,  93.,  94.,  95.,  96.,  97.,  98.,  99.,\n",
              "       100.])"
            ]
          },
          "execution_count": 371,
          "metadata": {},
          "output_type": "execute_result"
        }
      ],
      "source": [
        "np.linspace(1, 101, 100, endpoint=False)"
      ]
    },
    {
      "cell_type": "code",
      "execution_count": 374,
      "metadata": {
        "colab": {
          "base_uri": "https://localhost:8080/"
        },
        "id": "hiJ5ypblzXmx",
        "outputId": "03bf4a40-34af-474b-8444-c588148a955d"
      },
      "outputs": [
        {
          "data": {
            "text/plain": [
              "array([ 0,  1,  2,  3,  4,  5,  6,  7,  8,  9, 10, 11, 12, 13, 14, 15, 16,\n",
              "       17, 18, 19])"
            ]
          },
          "execution_count": 374,
          "metadata": {},
          "output_type": "execute_result"
        }
      ],
      "source": [
        "a = np.arange(20).reshape(4, 5)\n",
        "a.ravel()"
      ]
    },
    {
      "cell_type": "code",
      "execution_count": 375,
      "metadata": {
        "colab": {
          "base_uri": "https://localhost:8080/"
        },
        "id": "UN2_0imaznUc",
        "outputId": "76857ce0-d825-489f-8399-f454c072291a"
      },
      "outputs": [
        {
          "data": {
            "text/plain": [
              "array([ 0,  1,  2,  3,  4,  5,  6,  7,  8,  9, 10, 11, 12, 13, 14, 15, 16,\n",
              "       17, 18, 19])"
            ]
          },
          "execution_count": 375,
          "metadata": {},
          "output_type": "execute_result"
        }
      ],
      "source": [
        "a = np.arange(20).reshape(2, 2, 5)\n",
        "a.ravel()"
      ]
    },
    {
      "cell_type": "code",
      "execution_count": 378,
      "metadata": {
        "colab": {
          "base_uri": "https://localhost:8080/"
        },
        "id": "S-2M0WM1z08X",
        "outputId": "7de72d1e-97e0-4c1b-8af7-7a0f77e078b1"
      },
      "outputs": [
        {
          "name": "stdout",
          "output_type": "stream",
          "text": [
            "[[[ 0  1  2  3  4]\n",
            "  [ 5  6  7  8  9]]\n",
            "\n",
            " [[10 11 12 13 14]\n",
            "  [15 16 17 18 19]]]\n",
            "[ 0  1  2  3  4  5  6  7  8  9 10 11 12 13 14 15 16 17 18 19]\n"
          ]
        }
      ],
      "source": [
        "print(a, a.ravel(order='C'), sep=\"\\n\") # 행 기준"
      ]
    },
    {
      "cell_type": "code",
      "execution_count": 379,
      "metadata": {
        "colab": {
          "base_uri": "https://localhost:8080/"
        },
        "id": "d4-ySjihz_5d",
        "outputId": "e67a854e-1ae7-40ee-a7d8-f4c4af14f561"
      },
      "outputs": [
        {
          "data": {
            "text/plain": [
              "array([ 0, 10,  5, 15,  1, 11,  6, 16,  2, 12,  7, 17,  3, 13,  8, 18,  4,\n",
              "       14,  9, 19])"
            ]
          },
          "execution_count": 379,
          "metadata": {},
          "output_type": "execute_result"
        }
      ],
      "source": [
        "a.ravel(order='F') # 열 기준"
      ]
    },
    {
      "cell_type": "markdown",
      "metadata": {
        "id": "AlJaDe962jas"
      },
      "source": [
        "## 1.4 NumPy 함수"
      ]
    },
    {
      "cell_type": "markdown",
      "metadata": {
        "id": "dBoDu15F2ppG"
      },
      "source": [
        "### 1.4.1 범용함수 (universal function)\n",
        "\n",
        "- 배열의 값에 반복된 연산을 빠르게 수행하는 함수\n",
        "- 원소 단위로 연산합니다.\n",
        "- 파이썬의 루프는 느립니다. 범용 함수를 사용하세요!"
      ]
    },
    {
      "cell_type": "code",
      "execution_count": 382,
      "metadata": {
        "colab": {
          "base_uri": "https://localhost:8080/"
        },
        "id": "9LmXQxRFLhNw",
        "outputId": "03452377-d933-4a51-b4e5-f65db71eb0b5"
      },
      "outputs": [
        {
          "name": "stdout",
          "output_type": "stream",
          "text": [
            "[-1.  -1.1  1.2  1.3  1.7  2.5  5.  10. ]\n"
          ]
        }
      ],
      "source": [
        "data = np.array([-1, -1.1, 1.2, 1.3, 1.7, 2.5, 5, 10])\n",
        "print(data)"
      ]
    },
    {
      "cell_type": "code",
      "execution_count": 383,
      "metadata": {
        "colab": {
          "base_uri": "https://localhost:8080/"
        },
        "id": "OXQYey7INwOM",
        "outputId": "9cf208a4-5d18-484b-8aeb-7bbbbdeaf605"
      },
      "outputs": [
        {
          "name": "stdout",
          "output_type": "stream",
          "text": [
            "1.0\n",
            "1.1\n",
            "1.2\n",
            "1.3\n",
            "1.7\n",
            "2.5\n",
            "5.0\n",
            "10.0\n"
          ]
        }
      ],
      "source": [
        "for i in data:\n",
        "    print(abs(i))"
      ]
    },
    {
      "cell_type": "code",
      "execution_count": 385,
      "metadata": {
        "colab": {
          "base_uri": "https://localhost:8080/"
        },
        "id": "Jcgv72O_OQuZ",
        "outputId": "6aba1a30-e17a-4c40-bd89-6daabc4b4a05"
      },
      "outputs": [
        {
          "data": {
            "text/plain": [
              "array([ 1. ,  1.1,  1.2,  1.3,  1.7,  2.5,  5. , 10. ])"
            ]
          },
          "execution_count": 385,
          "metadata": {},
          "output_type": "execute_result"
        }
      ],
      "source": [
        "np.abs(data)"
      ]
    },
    {
      "cell_type": "code",
      "execution_count": 386,
      "metadata": {
        "colab": {
          "base_uri": "https://localhost:8080/"
        },
        "id": "9zACQuHDNwVd",
        "outputId": "96346e26-e6bd-485a-b286-03014b7e8772"
      },
      "outputs": [
        {
          "data": {
            "text/plain": [
              "array([-1., -1.,  2.,  2.,  2.,  3.,  5., 10.])"
            ]
          },
          "execution_count": 386,
          "metadata": {},
          "output_type": "execute_result"
        }
      ],
      "source": [
        "np.ceil(data)"
      ]
    },
    {
      "cell_type": "code",
      "execution_count": 387,
      "metadata": {
        "colab": {
          "base_uri": "https://localhost:8080/"
        },
        "id": "vGRBQPuBNwYR",
        "outputId": "4be96750-1f4b-4ca0-d151-793c2d306036"
      },
      "outputs": [
        {
          "data": {
            "text/plain": [
              "array([-1., -2.,  1.,  1.,  1.,  2.,  5., 10.])"
            ]
          },
          "execution_count": 387,
          "metadata": {},
          "output_type": "execute_result"
        }
      ],
      "source": [
        "np.floor(data)"
      ]
    },
    {
      "cell_type": "markdown",
      "metadata": {
        "id": "I-wbIFNzMvi2"
      },
      "source": [
        "* 실제로 빠른가요?"
      ]
    },
    {
      "cell_type": "code",
      "execution_count": 388,
      "metadata": {
        "colab": {
          "base_uri": "https://localhost:8080/"
        },
        "id": "x4_Kq-jn2uIm",
        "outputId": "5911ac59-3749-4e4d-8318-49d7f5854f56"
      },
      "outputs": [
        {
          "data": {
            "text/plain": [
              "99"
            ]
          },
          "execution_count": 388,
          "metadata": {},
          "output_type": "execute_result"
        }
      ],
      "source": [
        "max(range(100))"
      ]
    },
    {
      "cell_type": "code",
      "execution_count": 389,
      "metadata": {
        "colab": {
          "base_uri": "https://localhost:8080/"
        },
        "id": "DRk-FDY-JVjg",
        "outputId": "bb82d398-dc30-4f0f-eaef-4fe1d075062b"
      },
      "outputs": [
        {
          "data": {
            "text/plain": [
              "0"
            ]
          },
          "execution_count": 389,
          "metadata": {},
          "output_type": "execute_result"
        }
      ],
      "source": [
        "min(range(100))"
      ]
    },
    {
      "cell_type": "code",
      "execution_count": 390,
      "metadata": {
        "colab": {
          "base_uri": "https://localhost:8080/"
        },
        "id": "lcOyn9hmJe0F",
        "outputId": "42e0a73c-c66c-4a98-d4ac-b63eeb1e4f9c"
      },
      "outputs": [
        {
          "name": "stdout",
          "output_type": "stream",
          "text": [
            "109 ms ± 571 μs per loop (mean ± std. dev. of 7 runs, 10 loops each)\n"
          ]
        }
      ],
      "source": [
        "%%timeit # 셀 코드의 실행시간을 측정하는 IPython 매직 명령\n",
        "\n",
        "for _ in range(10):\n",
        "    max(range(1000000))"
      ]
    },
    {
      "cell_type": "code",
      "execution_count": 391,
      "metadata": {
        "colab": {
          "base_uri": "https://localhost:8080/"
        },
        "id": "atRUMd_mJpXJ",
        "outputId": "f9315b85-c6bf-43d0-d0c5-7c1baa5fa09d"
      },
      "outputs": [
        {
          "name": "stdout",
          "output_type": "stream",
          "text": [
            "9.72 ms ± 154 μs per loop (mean ± std. dev. of 7 runs, 100 loops each)\n"
          ]
        }
      ],
      "source": [
        "%%timeit\n",
        "\n",
        "for _ in range(10):\n",
        "    np.max(np.arange(1000000))"
      ]
    },
    {
      "cell_type": "code",
      "execution_count": 392,
      "metadata": {
        "colab": {
          "base_uri": "https://localhost:8080/"
        },
        "id": "PqNf-5OUJy-r",
        "outputId": "50c3c109-af7a-4cb3-84dc-4588528dc3c5"
      },
      "outputs": [
        {
          "data": {
            "text/plain": [
              "[7, 8, 9]"
            ]
          },
          "execution_count": 392,
          "metadata": {},
          "output_type": "execute_result"
        }
      ],
      "source": [
        "max([[1, 2, 3], [4, 5, 6], [7, 8, 9], [2, 10, 200]])"
      ]
    },
    {
      "cell_type": "code",
      "execution_count": 393,
      "metadata": {
        "colab": {
          "base_uri": "https://localhost:8080/"
        },
        "id": "y6N1tprMKJ7R",
        "outputId": "80c07dbb-505f-43b6-afa4-22a95aa7e64e"
      },
      "outputs": [
        {
          "data": {
            "text/plain": [
              "[1, 8, 9]"
            ]
          },
          "execution_count": 393,
          "metadata": {},
          "output_type": "execute_result"
        }
      ],
      "source": [
        "min([[10, 2, 3], [4, 5, 0], [1, 8, 9], [2, 10, 200]])"
      ]
    },
    {
      "cell_type": "code",
      "execution_count": 394,
      "metadata": {
        "colab": {
          "base_uri": "https://localhost:8080/"
        },
        "id": "Vfgg6JFuKbSl",
        "outputId": "e07e1c97-9a3d-475d-d081-55829a35fbef"
      },
      "outputs": [
        {
          "data": {
            "text/plain": [
              "200"
            ]
          },
          "execution_count": 394,
          "metadata": {},
          "output_type": "execute_result"
        }
      ],
      "source": [
        "np.max([[1, 2, 3], [4, 5, 6], [7, 8, 9], [2, 10, 200]])"
      ]
    },
    {
      "cell_type": "code",
      "execution_count": 395,
      "metadata": {
        "colab": {
          "base_uri": "https://localhost:8080/"
        },
        "id": "M76NdFsJKfm8",
        "outputId": "6633a797-f87e-49ce-b055-2434c9f9eeba"
      },
      "outputs": [
        {
          "data": {
            "text/plain": [
              "0"
            ]
          },
          "execution_count": 395,
          "metadata": {},
          "output_type": "execute_result"
        }
      ],
      "source": [
        "np.min([[1, 2, 3], [4, 5, 6], [7, 8, 0], [2, 10, 200]])"
      ]
    },
    {
      "cell_type": "code",
      "execution_count": 396,
      "metadata": {
        "colab": {
          "base_uri": "https://localhost:8080/"
        },
        "id": "I_v2c4XRKo3K",
        "outputId": "85cb08d3-f175-4b20-c1c9-a56428de1201"
      },
      "outputs": [
        {
          "data": {
            "text/plain": [
              "array([[  1,   2,   3],\n",
              "       [  4,   5,   6],\n",
              "       [  7,   8,   0],\n",
              "       [  2,  10, 200]])"
            ]
          },
          "execution_count": 396,
          "metadata": {},
          "output_type": "execute_result"
        }
      ],
      "source": [
        "data = np.array([[1, 2, 3], [4, 5, 6], [7, 8, 0], [2, 10, 200]])\n",
        "data"
      ]
    },
    {
      "cell_type": "code",
      "execution_count": 397,
      "metadata": {
        "colab": {
          "base_uri": "https://localhost:8080/"
        },
        "id": "fJyGg-d6KyoP",
        "outputId": "d4231522-6295-4f91-bc15-0029951a4f45"
      },
      "outputs": [
        {
          "data": {
            "text/plain": [
              "array([1, 2, 0])"
            ]
          },
          "execution_count": 397,
          "metadata": {},
          "output_type": "execute_result"
        }
      ],
      "source": [
        "# np.max(data, axis=0)\n",
        "np.min(data, axis=0)"
      ]
    },
    {
      "cell_type": "code",
      "execution_count": 398,
      "metadata": {
        "colab": {
          "base_uri": "https://localhost:8080/"
        },
        "id": "Zy9konavK8zn",
        "outputId": "9c4311ef-fe11-4c02-e9d8-00f117e2d9da"
      },
      "outputs": [
        {
          "data": {
            "text/plain": [
              "array([  3,   6,   8, 200])"
            ]
          },
          "execution_count": 398,
          "metadata": {},
          "output_type": "execute_result"
        }
      ],
      "source": [
        "np.max(data, axis=1)\n",
        "# np.min(data, axis=1)"
      ]
    },
    {
      "cell_type": "code",
      "execution_count": 124,
      "metadata": {
        "id": "xKbu6kenQh0m"
      },
      "outputs": [],
      "source": [
        "# sum([[1, 2, 3], [4, 5, 6], [7, 8, 0], [2, 10, 200]]) # error"
      ]
    },
    {
      "cell_type": "code",
      "execution_count": 400,
      "metadata": {
        "colab": {
          "base_uri": "https://localhost:8080/"
        },
        "id": "CLUcLEccQexw",
        "outputId": "c56e9fbf-703e-41de-b7c5-bf7eb0d04966"
      },
      "outputs": [
        {
          "data": {
            "text/plain": [
              "248"
            ]
          },
          "execution_count": 400,
          "metadata": {},
          "output_type": "execute_result"
        }
      ],
      "source": [
        "data.sum()"
      ]
    },
    {
      "cell_type": "code",
      "execution_count": 403,
      "metadata": {
        "colab": {
          "base_uri": "https://localhost:8080/"
        },
        "id": "0J7OrUJeQnoE",
        "outputId": "cf2093ad-6b2e-48a8-854c-3ba43e4366bb"
      },
      "outputs": [
        {
          "data": {
            "text/plain": [
              "array([ 14,  25, 209])"
            ]
          },
          "execution_count": 403,
          "metadata": {},
          "output_type": "execute_result"
        }
      ],
      "source": [
        "data.sum(axis=0)"
      ]
    },
    {
      "cell_type": "code",
      "execution_count": 404,
      "metadata": {
        "colab": {
          "base_uri": "https://localhost:8080/"
        },
        "id": "R1FA_1FXQwaR",
        "outputId": "2a5c7bca-80b2-4e7c-d6a6-bb7c371b6060"
      },
      "outputs": [
        {
          "data": {
            "text/plain": [
              "array([  6,  15,  15, 212])"
            ]
          },
          "execution_count": 404,
          "metadata": {},
          "output_type": "execute_result"
        }
      ],
      "source": [
        "data.sum(axis=1)"
      ]
    },
    {
      "cell_type": "markdown",
      "metadata": {
        "id": "2TLivMKyRTJD"
      },
      "source": [
        "### 1.4.2 집계 함수\n",
        "\n",
        "- mean : 평균 구하는 함수\n",
        "- median : 중앙값 구하는 함수\n",
        "- std : 표준편차 구하는 함수\n",
        "- var : 분산 구하는 함수\n",
        "- sum : 합계 구하는 함수\n",
        "- cusum :  누적값 구하는 함수\n",
        "- argmin : 최소값에 해당하는 index 값 찾는 함수\n",
        "- any : 배열에서 1개 이상의 원소가 참인지 평가하는 함수\n",
        "- all : 배열의 모든 원소가 참인지 평가하는 함수\n",
        "- nansum : NaN을 0으로 간주하고 더는 함수\n",
        "- where(조건, 조건에 맞을 때 값, 조건과 다를 때 값)"
      ]
    },
    {
      "cell_type": "code",
      "execution_count": 405,
      "metadata": {
        "colab": {
          "base_uri": "https://localhost:8080/"
        },
        "id": "istpMh73S_va",
        "outputId": "f2bee635-1241-401b-a53e-8a93b9d7c1da"
      },
      "outputs": [
        {
          "data": {
            "text/plain": [
              "array([[ 1,  2,  3,  4,  5],\n",
              "       [ 6,  7,  8,  9, 10]])"
            ]
          },
          "execution_count": 405,
          "metadata": {},
          "output_type": "execute_result"
        }
      ],
      "source": [
        "data = np.arange(1, 11).reshape(2, 5)\n",
        "data"
      ]
    },
    {
      "cell_type": "code",
      "execution_count": 416,
      "metadata": {
        "colab": {
          "base_uri": "https://localhost:8080/"
        },
        "id": "OTzjT54oTCFf",
        "outputId": "48784558-8931-4bdd-984e-97a3a7e3bd7f"
      },
      "outputs": [
        {
          "data": {
            "text/plain": [
              "55"
            ]
          },
          "execution_count": 416,
          "metadata": {},
          "output_type": "execute_result"
        }
      ],
      "source": [
        "data.sum()"
      ]
    },
    {
      "cell_type": "code",
      "execution_count": 415,
      "metadata": {},
      "outputs": [
        {
          "data": {
            "text/plain": [
              "5.5"
            ]
          },
          "execution_count": 415,
          "metadata": {},
          "output_type": "execute_result"
        }
      ],
      "source": [
        "data.mean()"
      ]
    },
    {
      "cell_type": "code",
      "execution_count": 411,
      "metadata": {
        "colab": {
          "base_uri": "https://localhost:8080/"
        },
        "id": "BUUyZG7xTto1",
        "outputId": "1de392db-cd5f-4a12-a687-53d40de9061f"
      },
      "outputs": [
        {
          "data": {
            "text/plain": [
              "array([3.5, 4.5, 5.5, 6.5, 7.5])"
            ]
          },
          "execution_count": 411,
          "metadata": {},
          "output_type": "execute_result"
        }
      ],
      "source": [
        "data.mean(axis=0)"
      ]
    },
    {
      "cell_type": "code",
      "execution_count": 412,
      "metadata": {
        "colab": {
          "base_uri": "https://localhost:8080/"
        },
        "id": "QdXjoAuVT8e0",
        "outputId": "cd07c2fe-3537-48d6-9e83-28921f557a47"
      },
      "outputs": [
        {
          "data": {
            "text/plain": [
              "array([3., 8.])"
            ]
          },
          "execution_count": 412,
          "metadata": {},
          "output_type": "execute_result"
        }
      ],
      "source": [
        "data.mean(axis=1)"
      ]
    },
    {
      "cell_type": "code",
      "execution_count": 408,
      "metadata": {
        "colab": {
          "base_uri": "https://localhost:8080/"
        },
        "id": "m3PU6j_TTae5",
        "outputId": "e78b2fda-c33c-42e5-88ab-4f371d7cbf68"
      },
      "outputs": [
        {
          "data": {
            "text/plain": [
              "5.5"
            ]
          },
          "execution_count": 408,
          "metadata": {},
          "output_type": "execute_result"
        }
      ],
      "source": [
        "np.median(data)"
      ]
    },
    {
      "cell_type": "code",
      "execution_count": 409,
      "metadata": {
        "colab": {
          "base_uri": "https://localhost:8080/"
        },
        "id": "cbCsYms7TjNu",
        "outputId": "df9992a2-5e74-45b7-c09e-524cf92fab5c"
      },
      "outputs": [
        {
          "data": {
            "text/plain": [
              "7.0"
            ]
          },
          "execution_count": 409,
          "metadata": {},
          "output_type": "execute_result"
        }
      ],
      "source": [
        "np.median(np.array([1, 4, 6, 7, 9, 21, 33]))"
      ]
    },
    {
      "cell_type": "markdown",
      "metadata": {
        "id": "K9EBMRz6UDKy"
      },
      "source": [
        "* [표준편차](https://ko.wikipedia.org/wiki/%ED%91%9C%EC%A4%80_%ED%8E%B8%EC%B0%A8)\n",
        "* [분산](https://ko.wikipedia.org/wiki/%EB%B6%84%EC%82%B0)\n",
        "---\n",
        "* [유튜브 영상 추천](https://youtu.be/trFS6ug4_T4)\n",
        "* [칸아카데미 영상 추천](https://ko.khanacademy.org/math/statistics-probability/analysis-of-variance-anova-library)"
      ]
    },
    {
      "cell_type": "code",
      "execution_count": 136,
      "metadata": {
        "colab": {
          "base_uri": "https://localhost:8080/"
        },
        "id": "WocZS1OtUBKX",
        "outputId": "2cad382d-f46e-47b1-b913-a39c746db99a"
      },
      "outputs": [
        {
          "data": {
            "text/plain": [
              "2.8722813232690143"
            ]
          },
          "execution_count": 136,
          "metadata": {},
          "output_type": "execute_result"
        }
      ],
      "source": [
        "np.std(data) # 표준편차"
      ]
    },
    {
      "cell_type": "code",
      "execution_count": 137,
      "metadata": {
        "colab": {
          "base_uri": "https://localhost:8080/"
        },
        "id": "UNoF0bfNUSr8",
        "outputId": "3e012c9f-616a-4eff-bff4-de006cd483e0"
      },
      "outputs": [
        {
          "data": {
            "text/plain": [
              "8.25"
            ]
          },
          "execution_count": 137,
          "metadata": {},
          "output_type": "execute_result"
        }
      ],
      "source": [
        "np.var(data) # 분산"
      ]
    },
    {
      "cell_type": "code",
      "execution_count": 140,
      "metadata": {
        "colab": {
          "base_uri": "https://localhost:8080/"
        },
        "id": "iFSAdD0MUbxb",
        "outputId": "523a8557-e245-45a3-ed02-638446291e35"
      },
      "outputs": [
        {
          "data": {
            "text/plain": [
              "array([ 1,  3,  6, 10, 15, 21, 28, 36, 45, 55])"
            ]
          },
          "execution_count": 140,
          "metadata": {},
          "output_type": "execute_result"
        }
      ],
      "source": [
        "np.cumsum(data)"
      ]
    },
    {
      "cell_type": "code",
      "execution_count": 417,
      "metadata": {
        "colab": {
          "base_uri": "https://localhost:8080/"
        },
        "id": "4pqJlBD8Ufp_",
        "outputId": "9241260a-7d32-4f99-f07c-146609fa52f5"
      },
      "outputs": [
        {
          "data": {
            "text/plain": [
              "1"
            ]
          },
          "execution_count": 417,
          "metadata": {},
          "output_type": "execute_result"
        }
      ],
      "source": [
        "np.min(data)"
      ]
    },
    {
      "cell_type": "code",
      "execution_count": 418,
      "metadata": {},
      "outputs": [
        {
          "data": {
            "text/plain": [
              "10"
            ]
          },
          "execution_count": 418,
          "metadata": {},
          "output_type": "execute_result"
        }
      ],
      "source": [
        "np.max(data)"
      ]
    },
    {
      "cell_type": "code",
      "execution_count": 422,
      "metadata": {
        "colab": {
          "base_uri": "https://localhost:8080/"
        },
        "id": "LnXKFPcBUoMY",
        "outputId": "324da2bd-72a1-4ba1-ab1c-5ebcb2714321"
      },
      "outputs": [
        {
          "data": {
            "text/plain": [
              "True"
            ]
          },
          "execution_count": 422,
          "metadata": {},
          "output_type": "execute_result"
        }
      ],
      "source": [
        "np.any(data)\n",
        "np.any([False, False, False])\n",
        "np.any([False, True, False])"
      ]
    },
    {
      "cell_type": "code",
      "execution_count": 423,
      "metadata": {
        "colab": {
          "base_uri": "https://localhost:8080/"
        },
        "id": "cy_wBnacU1vB",
        "outputId": "d991ef4f-beb4-4d0c-a4a3-28128fd7ccab"
      },
      "outputs": [
        {
          "data": {
            "text/plain": [
              "True"
            ]
          },
          "execution_count": 423,
          "metadata": {},
          "output_type": "execute_result"
        }
      ],
      "source": [
        "np.all(data)\n",
        "np.all([False, False, False])\n",
        "np.all([False, True, False])\n",
        "np.all([True, True, True])"
      ]
    },
    {
      "cell_type": "code",
      "execution_count": 424,
      "metadata": {
        "colab": {
          "base_uri": "https://localhost:8080/"
        },
        "id": "GLbmDpBdUuhv",
        "outputId": "a66a8582-408c-4493-c030-d86fa5b60f71"
      },
      "outputs": [
        {
          "data": {
            "text/plain": [
              "55"
            ]
          },
          "execution_count": 424,
          "metadata": {},
          "output_type": "execute_result"
        }
      ],
      "source": [
        "np.nansum(data)"
      ]
    },
    {
      "cell_type": "code",
      "execution_count": 426,
      "metadata": {
        "colab": {
          "base_uri": "https://localhost:8080/"
        },
        "id": "TOlrhaJhVOEK",
        "outputId": "dd5140d6-b239-46b2-ae73-8b3339f5d598"
      },
      "outputs": [
        {
          "data": {
            "text/plain": [
              "nan"
            ]
          },
          "execution_count": 426,
          "metadata": {},
          "output_type": "execute_result"
        }
      ],
      "source": [
        "np.sum([1, 2, 3, 4, 0, 0, np.nan, np.nan]) #더하는 숫자가 nan이면 nan 반환"
      ]
    },
    {
      "cell_type": "code",
      "execution_count": 425,
      "metadata": {
        "colab": {
          "base_uri": "https://localhost:8080/"
        },
        "id": "zFCK9xdhVJy_",
        "outputId": "385c6c94-348a-4021-987d-7a926b9b9af3"
      },
      "outputs": [
        {
          "data": {
            "text/plain": [
              "10.0"
            ]
          },
          "execution_count": 425,
          "metadata": {},
          "output_type": "execute_result"
        }
      ],
      "source": [
        "np.nansum([1, 2, 3, 4, 0, 0, np.nan, np.nan]) #숫자가 아닌 것까지 모두 더함"
      ]
    },
    {
      "cell_type": "code",
      "execution_count": 427,
      "metadata": {
        "colab": {
          "base_uri": "https://localhost:8080/"
        },
        "id": "FMY-sE9yVZEz",
        "outputId": "a2339909-880a-4e94-e2b6-00e448b1e0b0"
      },
      "outputs": [
        {
          "data": {
            "text/plain": [
              "array([False, False, False, False, False, False,  True,  True])"
            ]
          },
          "execution_count": 427,
          "metadata": {},
          "output_type": "execute_result"
        }
      ],
      "source": [
        "np.isnan(np.array([1, 2, 3, 4, 0, 0, np.nan, np.nan]))"
      ]
    },
    {
      "cell_type": "code",
      "execution_count": 428,
      "metadata": {
        "colab": {
          "base_uri": "https://localhost:8080/"
        },
        "id": "uBJA4nvMVdZJ",
        "outputId": "b80a05ed-6c5f-4432-86e3-b03202d4d4f7"
      },
      "outputs": [
        {
          "data": {
            "text/plain": [
              "2"
            ]
          },
          "execution_count": 428,
          "metadata": {},
          "output_type": "execute_result"
        }
      ],
      "source": [
        "np.isnan(np.array([1, 2, 3, 4, 0, 0, np.nan, np.nan])).sum()"
      ]
    },
    {
      "cell_type": "code",
      "execution_count": 429,
      "metadata": {
        "colab": {
          "base_uri": "https://localhost:8080/"
        },
        "id": "t2Y_PK24Vo6E",
        "outputId": "ce1ccbbd-b90c-4ff1-8d55-3491547aff5b"
      },
      "outputs": [
        {
          "data": {
            "text/plain": [
              "array([[False, False, False, False, False],\n",
              "       [ True,  True,  True,  True,  True]])"
            ]
          },
          "execution_count": 429,
          "metadata": {},
          "output_type": "execute_result"
        }
      ],
      "source": [
        "data > 5"
      ]
    },
    {
      "cell_type": "code",
      "execution_count": 430,
      "metadata": {
        "colab": {
          "base_uri": "https://localhost:8080/"
        },
        "id": "cWg7D9haVrSq",
        "outputId": "3056ed41-711a-4502-fbc3-7f1d22966b73"
      },
      "outputs": [
        {
          "data": {
            "text/plain": [
              "False"
            ]
          },
          "execution_count": 430,
          "metadata": {},
          "output_type": "execute_result"
        }
      ],
      "source": [
        "np.all(data > 5)"
      ]
    },
    {
      "cell_type": "code",
      "execution_count": 431,
      "metadata": {
        "colab": {
          "base_uri": "https://localhost:8080/"
        },
        "id": "jI6yfSccVyE3",
        "outputId": "4435a987-ec45-4540-f4b9-cb363f8b9442"
      },
      "outputs": [
        {
          "data": {
            "text/plain": [
              "True"
            ]
          },
          "execution_count": 431,
          "metadata": {},
          "output_type": "execute_result"
        }
      ],
      "source": [
        "np.all(data > 0)"
      ]
    },
    {
      "cell_type": "code",
      "execution_count": 434,
      "metadata": {
        "colab": {
          "base_uri": "https://localhost:8080/"
        },
        "id": "1tca2B4jV9Hb",
        "outputId": "92fa2ffa-dce9-4f33-c651-ec845d2bf727"
      },
      "outputs": [
        {
          "data": {
            "text/plain": [
              "(array([1, 1, 1, 1, 1], dtype=int64), array([0, 1, 2, 3, 4], dtype=int64))"
            ]
          },
          "execution_count": 434,
          "metadata": {},
          "output_type": "execute_result"
        }
      ],
      "source": [
        "np.where(data > 5)"
      ]
    },
    {
      "cell_type": "code",
      "execution_count": 435,
      "metadata": {
        "colab": {
          "base_uri": "https://localhost:8080/"
        },
        "id": "E78FdhKrWBA4",
        "outputId": "fbf4ae90-cc2e-4362-8205-311a73005a87"
      },
      "outputs": [
        {
          "data": {
            "text/plain": [
              "6"
            ]
          },
          "execution_count": 435,
          "metadata": {},
          "output_type": "execute_result"
        }
      ],
      "source": [
        "data[1][0]"
      ]
    },
    {
      "cell_type": "code",
      "execution_count": 436,
      "metadata": {
        "colab": {
          "base_uri": "https://localhost:8080/"
        },
        "id": "QhljrFBgWOby",
        "outputId": "fc42f077-587e-496d-e22c-9f733849f516"
      },
      "outputs": [
        {
          "data": {
            "text/plain": [
              "(array([0, 0, 1, 1, 1, 1, 1], dtype=int64),\n",
              " array([3, 4, 0, 1, 2, 3, 4], dtype=int64))"
            ]
          },
          "execution_count": 436,
          "metadata": {},
          "output_type": "execute_result"
        }
      ],
      "source": [
        "np.where(data > 3)"
      ]
    },
    {
      "cell_type": "code",
      "execution_count": 437,
      "metadata": {
        "colab": {
          "base_uri": "https://localhost:8080/"
        },
        "id": "h7yIe8wOWjmK",
        "outputId": "456e5fce-dc6a-466f-b8b0-3a15a6736cb5"
      },
      "outputs": [
        {
          "data": {
            "text/plain": [
              "array([[-100, -100, -100,    4,    5],\n",
              "       [   6,    7,    8,    9,   10]])"
            ]
          },
          "execution_count": 437,
          "metadata": {},
          "output_type": "execute_result"
        }
      ],
      "source": [
        "np.where(data > 3, data, -100)"
      ]
    },
    {
      "cell_type": "code",
      "execution_count": 438,
      "metadata": {
        "colab": {
          "base_uri": "https://localhost:8080/"
        },
        "id": "U4ZvgM8XWmth",
        "outputId": "da7600cf-dd75-4b7d-af1e-7f5c176dc5ca"
      },
      "outputs": [
        {
          "data": {
            "text/plain": [
              "array([[   1,    2,    3, -100, -100],\n",
              "       [-100, -100, -100, -100, -100]])"
            ]
          },
          "execution_count": 438,
          "metadata": {},
          "output_type": "execute_result"
        }
      ],
      "source": [
        "np.where(data <= 3, data, -100)"
      ]
    },
    {
      "cell_type": "markdown",
      "metadata": {
        "id": "83qMw2izaazA"
      },
      "source": [
        "## 1.5 Boolean Indexing\n",
        "\n",
        "- 조건에 만족 여부를 따져 논리값(True, False)을 출력\n",
        "- 단, 행 값을 활용한 조건만 선택이 가능"
      ]
    },
    {
      "cell_type": "code",
      "execution_count": 441,
      "metadata": {
        "id": "ktK_Y8czae7A"
      },
      "outputs": [
        {
          "data": {
            "text/plain": [
              "[True, True, False, False, False]"
            ]
          },
          "execution_count": 441,
          "metadata": {},
          "output_type": "execute_result"
        }
      ],
      "source": [
        "[10,   20,   30,    40,    50]\n",
        "[True, True, False, False, False]"
      ]
    },
    {
      "cell_type": "code",
      "execution_count": 442,
      "metadata": {
        "colab": {
          "base_uri": "https://localhost:8080/"
        },
        "id": "0YbyHN0nbjrJ",
        "outputId": "c07453ff-3fa2-4b19-decf-5409722f3ce5"
      },
      "outputs": [
        {
          "data": {
            "text/plain": [
              "array([10, 20, 30, 40, 50])"
            ]
          },
          "execution_count": 442,
          "metadata": {},
          "output_type": "execute_result"
        }
      ],
      "source": [
        "data = np.array([10,   20,   30,    40,    50])\n",
        "data"
      ]
    },
    {
      "cell_type": "code",
      "execution_count": 443,
      "metadata": {
        "colab": {
          "base_uri": "https://localhost:8080/"
        },
        "id": "m5APZirBboLL",
        "outputId": "a82c0cea-db36-4659-d0a8-2f5e3c42b1be"
      },
      "outputs": [
        {
          "data": {
            "text/plain": [
              "array([10, 20])"
            ]
          },
          "execution_count": 443,
          "metadata": {},
          "output_type": "execute_result"
        }
      ],
      "source": [
        "data[[True, True, False, False, False]]"
      ]
    },
    {
      "cell_type": "code",
      "execution_count": 444,
      "metadata": {
        "colab": {
          "base_uri": "https://localhost:8080/"
        },
        "id": "_KkW1jDdbrt5",
        "outputId": "775d8f97-e0fc-4d97-85c6-0dc5cc7113cf"
      },
      "outputs": [
        {
          "data": {
            "text/plain": [
              "array([[ 0,  1,  2,  3],\n",
              "       [ 4,  5,  6,  7],\n",
              "       [ 8,  9, 10, 11]])"
            ]
          },
          "execution_count": 444,
          "metadata": {},
          "output_type": "execute_result"
        }
      ],
      "source": [
        "data = np.arange(12).reshape(3, 4)\n",
        "data"
      ]
    },
    {
      "cell_type": "code",
      "execution_count": 445,
      "metadata": {
        "colab": {
          "base_uri": "https://localhost:8080/"
        },
        "id": "nAHp9xoUb4hd",
        "outputId": "c20dab4e-e14c-4798-b40c-3371e3123591"
      },
      "outputs": [
        {
          "data": {
            "text/plain": [
              "array([[False, False, False, False],\n",
              "       [False, False, False,  True],\n",
              "       [ True,  True,  True,  True]])"
            ]
          },
          "execution_count": 445,
          "metadata": {},
          "output_type": "execute_result"
        }
      ],
      "source": [
        "data > 6"
      ]
    },
    {
      "cell_type": "code",
      "execution_count": 446,
      "metadata": {
        "colab": {
          "base_uri": "https://localhost:8080/"
        },
        "id": "hVNjYO4RcIDY",
        "outputId": "c94e810c-3aaa-4691-dc6a-19169059d9d1"
      },
      "outputs": [
        {
          "data": {
            "text/plain": [
              "array([ 7,  8,  9, 10, 11])"
            ]
          },
          "execution_count": 446,
          "metadata": {},
          "output_type": "execute_result"
        }
      ],
      "source": [
        "data[data > 6]"
      ]
    },
    {
      "cell_type": "code",
      "execution_count": 450,
      "metadata": {
        "id": "_9Ss9fpDcNZH"
      },
      "outputs": [
        {
          "data": {
            "text/plain": [
              "array([ 0,  2,  4,  6,  8, 10])"
            ]
          },
          "execution_count": 450,
          "metadata": {},
          "output_type": "execute_result"
        }
      ],
      "source": [
        "boolean = data % 2 == 0\n",
        "data[boolean]"
      ]
    },
    {
      "cell_type": "code",
      "execution_count": 449,
      "metadata": {
        "colab": {
          "base_uri": "https://localhost:8080/"
        },
        "id": "gYgWvLmQca49",
        "outputId": "f34c840a-2679-4e25-c240-7d58610fc79f"
      },
      "outputs": [
        {
          "data": {
            "text/plain": [
              "array([ 0,  2,  4,  6,  8, 10])"
            ]
          },
          "execution_count": 449,
          "metadata": {},
          "output_type": "execute_result"
        }
      ],
      "source": [
        "data[data % 2 == 0]"
      ]
    },
    {
      "cell_type": "code",
      "execution_count": 451,
      "metadata": {
        "colab": {
          "base_uri": "https://localhost:8080/"
        },
        "id": "kJE9kIZRcer6",
        "outputId": "20bdedef-0daa-42d5-97b4-713d2387f8d1"
      },
      "outputs": [
        {
          "data": {
            "text/plain": [
              "array([ 1,  3,  5,  7,  9, 11])"
            ]
          },
          "execution_count": 451,
          "metadata": {},
          "output_type": "execute_result"
        }
      ],
      "source": [
        "data[~(data % 2 == 0)]"
      ]
    },
    {
      "cell_type": "code",
      "execution_count": 452,
      "metadata": {
        "colab": {
          "base_uri": "https://localhost:8080/"
        },
        "id": "8IIy-qkecnCq",
        "outputId": "568e1ffc-3c8a-4fea-fe30-2b113986500a"
      },
      "outputs": [
        {
          "data": {
            "text/plain": [
              "array([ 0,  4,  6,  8, 10])"
            ]
          },
          "execution_count": 452,
          "metadata": {},
          "output_type": "execute_result"
        }
      ],
      "source": [
        "data[~(data == 2) & (data % 2 == 0)]"
      ]
    },
    {
      "cell_type": "code",
      "execution_count": 453,
      "metadata": {
        "colab": {
          "base_uri": "https://localhost:8080/"
        },
        "id": "Bw3zPRikb_w1",
        "outputId": "170fba32-fbd2-4678-cfa4-6f355efa5c9f"
      },
      "outputs": [
        {
          "data": {
            "text/plain": [
              "array([ 0,  1,  2,  3,  4,  5,  6,  8, 10])"
            ]
          },
          "execution_count": 453,
          "metadata": {},
          "output_type": "execute_result"
        }
      ],
      "source": [
        "data[(data < 6) | (data % 2 == 0)]"
      ]
    },
    {
      "cell_type": "markdown",
      "metadata": {
        "id": "hhBJ3wV2rcRD"
      },
      "source": [
        "## 1.6 Broadcast\n",
        "\n",
        "- 크기가 다른 배열 간의 연산 함수를 적용하는 규칙 집합"
      ]
    },
    {
      "cell_type": "code",
      "execution_count": 454,
      "metadata": {
        "id": "YyDrW7CnrgWX"
      },
      "outputs": [],
      "source": [
        "#[1, 2, 3] + 1 # error"
      ]
    },
    {
      "cell_type": "code",
      "execution_count": 455,
      "metadata": {
        "colab": {
          "base_uri": "https://localhost:8080/"
        },
        "id": "VeagjBe-r-SB",
        "outputId": "62bbfbf4-3c8e-4b95-f9e2-d510d98ac649"
      },
      "outputs": [
        {
          "data": {
            "text/plain": [
              "array([2, 3, 4])"
            ]
          },
          "execution_count": 455,
          "metadata": {},
          "output_type": "execute_result"
        }
      ],
      "source": [
        "np.array([1, 2, 3]) + 1"
      ]
    },
    {
      "cell_type": "code",
      "execution_count": 456,
      "metadata": {
        "colab": {
          "base_uri": "https://localhost:8080/"
        },
        "id": "azDi3wiWsFx6",
        "outputId": "401c4dce-41fd-438f-cbf6-e42b4ddcbda5"
      },
      "outputs": [
        {
          "data": {
            "text/plain": [
              "array([[2, 3],\n",
              "       [4, 5],\n",
              "       [6, 7]])"
            ]
          },
          "execution_count": 456,
          "metadata": {},
          "output_type": "execute_result"
        }
      ],
      "source": [
        "data = np.array([[1, 2], [3, 4], [5, 6]])\n",
        "ones_row = np.array([[1, 1]])\n",
        "data + ones_row"
      ]
    },
    {
      "cell_type": "code",
      "execution_count": 457,
      "metadata": {
        "colab": {
          "base_uri": "https://localhost:8080/"
        },
        "id": "0clPVgMNsbhM",
        "outputId": "3ae91c43-9fe6-4737-889d-79ddccda2255"
      },
      "outputs": [
        {
          "data": {
            "text/plain": [
              "array([[  2, 102],\n",
              "       [  4, 104],\n",
              "       [  6, 106]])"
            ]
          },
          "execution_count": 457,
          "metadata": {},
          "output_type": "execute_result"
        }
      ],
      "source": [
        "data = np.array([[1, 2], [3, 4], [5, 6]])\n",
        "ones_row = np.array([[1, 100]])\n",
        "data + ones_row"
      ]
    },
    {
      "cell_type": "code",
      "execution_count": 458,
      "metadata": {
        "colab": {
          "base_uri": "https://localhost:8080/"
        },
        "id": "SqBcmaYir7lK",
        "outputId": "373bb598-3a7d-4dd6-a8b3-9638fcaa2f92"
      },
      "outputs": [
        {
          "data": {
            "text/plain": [
              "array([[0, 1, 2],\n",
              "       [3, 4, 5],\n",
              "       [6, 7, 8]])"
            ]
          },
          "execution_count": 458,
          "metadata": {},
          "output_type": "execute_result"
        }
      ],
      "source": [
        "np.arange(9).reshape(3, 3)"
      ]
    },
    {
      "cell_type": "code",
      "execution_count": 459,
      "metadata": {
        "colab": {
          "base_uri": "https://localhost:8080/"
        },
        "id": "rdgH9fmts2QY",
        "outputId": "be225428-36d7-4e0d-aed6-8c39945515a7"
      },
      "outputs": [
        {
          "data": {
            "text/plain": [
              "array([[ 1,  3,  5],\n",
              "       [ 4,  6,  8],\n",
              "       [ 7,  9, 11]])"
            ]
          },
          "execution_count": 459,
          "metadata": {},
          "output_type": "execute_result"
        }
      ],
      "source": [
        "np.arange(9).reshape(3, 3) + np.array([1, 2, 3])"
      ]
    },
    {
      "cell_type": "code",
      "execution_count": 460,
      "metadata": {
        "colab": {
          "base_uri": "https://localhost:8080/"
        },
        "id": "2a30VEf9s-zz",
        "outputId": "649371a9-09cc-4c15-ce86-dc7ac55cbbc0"
      },
      "outputs": [
        {
          "data": {
            "text/plain": [
              "array([[[ 0,  1,  2],\n",
              "        [ 3,  4,  5],\n",
              "        [ 6,  7,  8]],\n",
              "\n",
              "       [[ 9, 10, 11],\n",
              "        [12, 13, 14],\n",
              "        [15, 16, 17]],\n",
              "\n",
              "       [[18, 19, 20],\n",
              "        [21, 22, 23],\n",
              "        [24, 25, 26]]])"
            ]
          },
          "execution_count": 460,
          "metadata": {},
          "output_type": "execute_result"
        }
      ],
      "source": [
        "np.arange(27).reshape(3, 3, 3)"
      ]
    },
    {
      "cell_type": "code",
      "execution_count": 461,
      "metadata": {
        "colab": {
          "base_uri": "https://localhost:8080/"
        },
        "id": "hJyEaGXItERm",
        "outputId": "f8569d93-ab11-4f9c-c85d-574b1830420a"
      },
      "outputs": [
        {
          "data": {
            "text/plain": [
              "array([[[10, 21, 32],\n",
              "        [13, 24, 35],\n",
              "        [16, 27, 38]],\n",
              "\n",
              "       [[19, 30, 41],\n",
              "        [22, 33, 44],\n",
              "        [25, 36, 47]],\n",
              "\n",
              "       [[28, 39, 50],\n",
              "        [31, 42, 53],\n",
              "        [34, 45, 56]]])"
            ]
          },
          "execution_count": 461,
          "metadata": {},
          "output_type": "execute_result"
        }
      ],
      "source": [
        "np.arange(27).reshape(3, 3, 3) + np.array([10, 20, 30])"
      ]
    },
    {
      "cell_type": "code",
      "execution_count": 462,
      "metadata": {
        "colab": {
          "base_uri": "https://localhost:8080/"
        },
        "id": "LpPWVFPatQY3",
        "outputId": "eeb4f6dd-9a35-4d44-ff36-62fe3eaa74fd"
      },
      "outputs": [
        {
          "data": {
            "text/plain": [
              "array([[[10, 11, 12],\n",
              "        [13, 14, 15],\n",
              "        [16, 17, 18]],\n",
              "\n",
              "       [[19, 20, 21],\n",
              "        [22, 23, 24],\n",
              "        [25, 26, 27]],\n",
              "\n",
              "       [[28, 29, 30],\n",
              "        [31, 32, 33],\n",
              "        [34, 35, 36]]])"
            ]
          },
          "execution_count": 462,
          "metadata": {},
          "output_type": "execute_result"
        }
      ],
      "source": [
        "# np.arange(27).reshape(3, 3, 3) + np.array([10, 20]) # error\n",
        "np.arange(27).reshape(3, 3, 3) + np.array([10])"
      ]
    },
    {
      "cell_type": "markdown",
      "metadata": {
        "id": "7FThqDoiucyb"
      },
      "source": [
        "## 1.7 random\n",
        "\n",
        "- seed : 시작 숫자를 정해 정해진 난수 알고리즘으로 난수 생성\n",
        "- shuffle : 데이터의 순서를 바꿔줌\n",
        "- choice : 데이터에서 일부를 무작위로 선택\n",
        "- rand : 0부터 1까지 균일 분포로 난수 생성\n",
        "- randn : 가우시안 표준 정규 분포로 난수 생성"
      ]
    },
    {
      "cell_type": "code",
      "execution_count": 463,
      "metadata": {
        "id": "wTkRmDZWumeX"
      },
      "outputs": [],
      "source": [
        "import random as r"
      ]
    },
    {
      "cell_type": "code",
      "execution_count": 465,
      "metadata": {
        "colab": {
          "base_uri": "https://localhost:8080/"
        },
        "id": "TJjSi0Tfu2Xd",
        "outputId": "9ddd4786-b689-4588-ad64-cb484ccd3591"
      },
      "outputs": [
        {
          "data": {
            "text/plain": [
              "7"
            ]
          },
          "execution_count": 465,
          "metadata": {},
          "output_type": "execute_result"
        }
      ],
      "source": [
        "r.randint(1, 10) # 1 <= 난수 <= 10"
      ]
    },
    {
      "cell_type": "code",
      "execution_count": 468,
      "metadata": {
        "colab": {
          "base_uri": "https://localhost:8080/"
        },
        "id": "jr1DOWHmu53J",
        "outputId": "b87afc27-7440-4cc2-8623-b9fde5cec927"
      },
      "outputs": [
        {
          "data": {
            "text/plain": [
              "0.5358820043066892"
            ]
          },
          "execution_count": 468,
          "metadata": {},
          "output_type": "execute_result"
        }
      ],
      "source": [
        "r.random() # 0부터 1까지의 부동소수점 숫자를 리턴(0 <= 난수 < 1)"
      ]
    },
    {
      "cell_type": "code",
      "execution_count": 469,
      "metadata": {
        "colab": {
          "base_uri": "https://localhost:8080/"
        },
        "id": "Wk_IcvDUvZXq",
        "outputId": "4df8ab10-9901-4866-ef2a-7cacc6444065"
      },
      "outputs": [
        {
          "data": {
            "text/plain": [
              "4.29120025221327"
            ]
          },
          "execution_count": 469,
          "metadata": {},
          "output_type": "execute_result"
        }
      ],
      "source": [
        "r.uniform(1, 10) # 1부터 10까지의 부동소수점 숫자를 리턴(1 <= 난수 <= 10)"
      ]
    },
    {
      "cell_type": "code",
      "execution_count": 470,
      "metadata": {
        "colab": {
          "base_uri": "https://localhost:8080/"
        },
        "id": "nZVtGu48vql4",
        "outputId": "65702f4b-f17e-4c84-8742-f139ad9bacd5"
      },
      "outputs": [
        {
          "data": {
            "text/plain": [
              "1"
            ]
          },
          "execution_count": 470,
          "metadata": {},
          "output_type": "execute_result"
        }
      ],
      "source": [
        "# [1, 3, 5, 7, 9]\n",
        "r.randrange(1, 10, 2)"
      ]
    },
    {
      "cell_type": "code",
      "execution_count": 471,
      "metadata": {
        "colab": {
          "base_uri": "https://localhost:8080/"
        },
        "id": "mene-7Nvv2ma",
        "outputId": "9b85cec5-2b71-421a-e5dc-7ed8ebde63c9"
      },
      "outputs": [
        {
          "data": {
            "text/plain": [
              "[0, 1, 2, 3, 4, 5, 6, 7, 8, 9, 10, 11, 12, 13, 14, 15, 16, 17, 18, 19]"
            ]
          },
          "execution_count": 471,
          "metadata": {},
          "output_type": "execute_result"
        }
      ],
      "source": [
        "l = [i for i in range(20)]\n",
        "l"
      ]
    },
    {
      "cell_type": "code",
      "execution_count": 479,
      "metadata": {
        "colab": {
          "base_uri": "https://localhost:8080/"
        },
        "id": "jt1Dbz6av8Ai",
        "outputId": "96484f01-1976-4859-84f7-a6bd54fc9f3b"
      },
      "outputs": [
        {
          "data": {
            "text/plain": [
              "[16, 10, 2, 14, 11, 13, 7, 9, 0, 15, 5, 1, 4, 19, 3, 18, 17, 8, 6, 12]"
            ]
          },
          "execution_count": 479,
          "metadata": {},
          "output_type": "execute_result"
        }
      ],
      "source": [
        "r.shuffle(l)\n",
        "l"
      ]
    },
    {
      "cell_type": "code",
      "execution_count": 490,
      "metadata": {
        "colab": {
          "base_uri": "https://localhost:8080/"
        },
        "id": "7406nG3Fv-SI",
        "outputId": "4b1bf3f3-70b4-4c21-92b5-4bfef123a556"
      },
      "outputs": [
        {
          "data": {
            "text/plain": [
              "3"
            ]
          },
          "execution_count": 490,
          "metadata": {},
          "output_type": "execute_result"
        }
      ],
      "source": [
        "r.choice(l)"
      ]
    },
    {
      "cell_type": "code",
      "execution_count": 497,
      "metadata": {
        "colab": {
          "base_uri": "https://localhost:8080/"
        },
        "id": "cml56aefwExq",
        "outputId": "8e3b517b-8000-4ec6-8d35-a1694de66076"
      },
      "outputs": [
        {
          "data": {
            "text/plain": [
              "[0, 18, 13, 17, 16]"
            ]
          },
          "execution_count": 497,
          "metadata": {},
          "output_type": "execute_result"
        }
      ],
      "source": [
        "r.sample(l, 5)"
      ]
    },
    {
      "cell_type": "code",
      "execution_count": 501,
      "metadata": {
        "colab": {
          "base_uri": "https://localhost:8080/"
        },
        "id": "MV7SeziFwQwB",
        "outputId": "9a40942c-6e1d-4502-8cb5-375ba796da70"
      },
      "outputs": [
        {
          "data": {
            "text/plain": [
              "6"
            ]
          },
          "execution_count": 501,
          "metadata": {},
          "output_type": "execute_result"
        }
      ],
      "source": [
        "r.seed(7)\n",
        "r.randint(1, 10)"
      ]
    },
    {
      "cell_type": "code",
      "execution_count": 504,
      "metadata": {
        "colab": {
          "base_uri": "https://localhost:8080/"
        },
        "id": "TtcFS7vFwqk3",
        "outputId": "d0d00854-aec9-4743-d70f-6762da64e0cb"
      },
      "outputs": [
        {
          "name": "stdout",
          "output_type": "stream",
          "text": [
            "9\n",
            "[  1.26831491  -5.41125995  -2.69316253 -10.67294518   1.24545422\n",
            "  -8.82376255  -2.02915303  -4.70418829  -8.30755199  -6.74580856]\n",
            "[[1.82400798 6.13059994 4.76133885 4.31058917]\n",
            " [8.31695473 3.60784002 7.45652441 6.51653283]\n",
            " [4.84218843 7.76685673 4.85031369 4.85544165]]\n"
          ]
        }
      ],
      "source": [
        "print(np.random.randint(1, 10))\n",
        "print(np.random.normal(1, 10, size=(10))) # 정규분포로 임의 샘플\n",
        "print(np.random.uniform(1, 10, size=(3, 4)))"
      ]
    },
    {
      "cell_type": "code",
      "execution_count": 506,
      "metadata": {
        "colab": {
          "base_uri": "https://localhost:8080/"
        },
        "id": "8T2EbA6wxl-l",
        "outputId": "73d323ec-945d-4a09-ecc4-809daa0d155e"
      },
      "outputs": [
        {
          "data": {
            "text/plain": [
              "6"
            ]
          },
          "execution_count": 506,
          "metadata": {},
          "output_type": "execute_result"
        }
      ],
      "source": [
        "np.random.seed(1)\n",
        "np.random.randint(1, 10)"
      ]
    },
    {
      "cell_type": "code",
      "execution_count": 507,
      "metadata": {
        "colab": {
          "base_uri": "https://localhost:8080/",
          "height": 265
        },
        "id": "ErNHLFM7xpll",
        "outputId": "c07715bd-d7be-4275-e1e6-a33ec2bc0ddb"
      },
      "outputs": [
        {
          "data": {
            "image/png": "[encoded data removed]",
            "text/plain": [
              "<Figure size 640x480 with 1 Axes>"
            ]
          },
          "metadata": {},
          "output_type": "display_data"
        }
      ],
      "source": [
        "import matplotlib.pyplot as plt\n",
        "\n",
        "주가 = [np.random.randint(10, 100) + i*2 for i in range(100)]\n",
        "\n",
        "plt.plot(np.arange(1, 101), 주가)\n",
        "plt.show()"
      ]
    }
  ],
  "metadata": {
    "colab": {
      "collapsed_sections": [
        "dJm1nryKI59h",
        "m3Bg1HZoIWca",
        "OQQMSzUeRzr8",
        "8cFaVmBSR9B3",
        "CWlZSz6QX8fN",
        "UPjxT5uDo9Cn",
        "QnmTIKDGoyrK",
        "q47Hs0tvw37-",
        "AlJaDe962jas",
        "dBoDu15F2ppG",
        "2TLivMKyRTJD",
        "83qMw2izaazA",
        "hhBJ3wV2rcRD"
      ],
      "provenance": [],
      "toc_visible": true
    },
    "kernelspec": {
      "display_name": "Python 3",
      "name": "python3"
    },
    "language_info": {
      "codemirror_mode": {
        "name": "ipython",
        "version": 3
      },
      "file_extension": ".py",
      "mimetype": "text/x-python",
      "name": "python",
      "nbconvert_exporter": "python",
      "pygments_lexer": "ipython3",
      "version": "3.10.8"
    }
  },
  "nbformat": 4,
  "nbformat_minor": 0
}
