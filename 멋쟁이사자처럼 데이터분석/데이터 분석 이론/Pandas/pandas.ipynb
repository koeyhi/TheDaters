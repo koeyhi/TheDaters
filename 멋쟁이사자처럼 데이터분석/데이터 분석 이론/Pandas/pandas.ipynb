{
  "cells": [
    {
      "cell_type": "markdown",
      "metadata": {
        "id": "v6qhjPKW4oKp"
      },
      "source": [
        "# pandas"
      ]
    },
    {
      "cell_type": "markdown",
      "metadata": {
        "id": "BK225odl4m61"
      },
      "source": [
        "## 1 pandas란?\n",
        "\n",
        "- Python에서 사용하는 데이터를 분석하는 라이브러리\n",
        "- 행과 열을 쉽게 처리할 수 있는 함수를 제공하는 도구\n",
        "    \n",
        "    ※ 각 열은 단일 데이터 형식만 저장\n",
        "    \n",
        "- numpy보다 유연하게 수치연산 가능\n",
        "- numpy는 데이터 누락을 허락하지 않지만, pandas는 데이터 누락을 허락"
      ]
    },
    {
      "cell_type": "code",
      "execution_count": 2,
      "metadata": {
        "colab": {
          "base_uri": "https://localhost:8080/"
        },
        "id": "abjTQqiy0yCm",
        "outputId": "bf2cad3d-3bd4-4156-c465-da46217dd49a"
      },
      "outputs": [
        {
          "data": {
            "text/plain": [
              "('2.2.2', '1.23.5')"
            ]
          },
          "execution_count": 2,
          "metadata": {},
          "output_type": "execute_result"
        }
      ],
      "source": [
        "import pandas as pd\n",
        "import numpy as np\n",
        "\n",
        "pd.__version__, np.__version__"
      ]
    },
    {
      "cell_type": "markdown",
      "metadata": {
        "id": "OHzf79B562g1"
      },
      "source": [
        "## 2 Series\n",
        "\n",
        "- 인덱스와 values로 이루어진 1차원 배열\n",
        "- 모든 유형의 데이터를 보유할 수 있음\n",
        "- 인덱스를 지정해 줄 수 있음\n",
        "- 명시적 인덱스와 암묵적 인덱스를 가짐"
      ]
    },
    {
      "cell_type": "markdown",
      "metadata": {
        "id": "xVIM8_xM7Ih3"
      },
      "source": [
        "### 2.1 Series 형태\n",
        "\n",
        "- RangeIndex :  인덱스 자동 생성"
      ]
    },
    {
      "cell_type": "markdown",
      "metadata": {
        "id": "AjzOB_1i9Z9q"
      },
      "source": [
        "* DataFrame에서 각각의 컬럼은 Series입니다.\n",
        "![](https://pandas.pydata.org/docs/_images/01_table_dataframe.svg)\n",
        "\n",
        "![](https://pandas.pydata.org/docs/_images/01_table_series.svg)"
      ]
    },
    {
      "cell_type": "code",
      "execution_count": 3,
      "metadata": {
        "colab": {
          "base_uri": "https://localhost:8080/"
        },
        "id": "k2V5FmFh92jw",
        "outputId": "d7c381f7-68ba-4dbe-c3c1-59fc5dffd360"
      },
      "outputs": [
        {
          "data": {
            "text/plain": [
              "0    10\n",
              "1    20\n",
              "2    30\n",
              "3    40\n",
              "4    50\n",
              "5    60\n",
              "dtype: int64"
            ]
          },
          "execution_count": 3,
          "metadata": {},
          "output_type": "execute_result"
        }
      ],
      "source": [
        "data = [10, 20, 30, 40, 50, 60]\n",
        "data = pd.Series(data)\n",
        "data"
      ]
    },
    {
      "cell_type": "code",
      "execution_count": 4,
      "metadata": {
        "colab": {
          "base_uri": "https://localhost:8080/"
        },
        "id": "CbWKi02N9_dT",
        "outputId": "d491e822-4667-4464-82bd-f59a9b141728"
      },
      "outputs": [
        {
          "name": "stdout",
          "output_type": "stream",
          "text": [
            "10\n",
            "20\n",
            "2    30\n",
            "3    40\n",
            "4    50\n",
            "dtype: int64\n",
            "5    60\n",
            "4    50\n",
            "3    40\n",
            "2    30\n",
            "1    20\n",
            "0    10\n",
            "dtype: int64\n"
          ]
        }
      ],
      "source": [
        "print(data[0])\n",
        "print(data[1])\n",
        "print(data[2:5])\n",
        "# data[-1]\n",
        "print(data[::-1])"
      ]
    },
    {
      "cell_type": "code",
      "execution_count": 5,
      "metadata": {
        "colab": {
          "base_uri": "https://localhost:8080/"
        },
        "id": "ZmhejCBn-Zp9",
        "outputId": "5354d756-f5ae-4479-df4c-4f27b5f5038d"
      },
      "outputs": [
        {
          "data": {
            "text/plain": [
              "pandas.core.series.Series"
            ]
          },
          "execution_count": 5,
          "metadata": {},
          "output_type": "execute_result"
        }
      ],
      "source": [
        "type(data)"
      ]
    },
    {
      "cell_type": "code",
      "execution_count": 6,
      "metadata": {
        "colab": {
          "base_uri": "https://localhost:8080/"
        },
        "id": "zMsA5SQM-FHb",
        "outputId": "8f464fc7-3eda-4cde-f2e1-c317765476df"
      },
      "outputs": [
        {
          "data": {
            "text/plain": [
              "numpy.ndarray"
            ]
          },
          "execution_count": 6,
          "metadata": {},
          "output_type": "execute_result"
        }
      ],
      "source": [
        "type(data.values)"
      ]
    },
    {
      "cell_type": "code",
      "execution_count": 7,
      "metadata": {},
      "outputs": [
        {
          "data": {
            "text/plain": [
              "array([10, 20, 30, 40, 50, 60], dtype=int64)"
            ]
          },
          "execution_count": 7,
          "metadata": {},
          "output_type": "execute_result"
        }
      ],
      "source": [
        "data.values"
      ]
    },
    {
      "cell_type": "code",
      "execution_count": 8,
      "metadata": {
        "colab": {
          "base_uri": "https://localhost:8080/"
        },
        "id": "04XYXLfT-YMm",
        "outputId": "676ad639-d21f-47f3-b4f2-d31b7d46735c"
      },
      "outputs": [
        {
          "data": {
            "text/plain": [
              "RangeIndex(start=0, stop=6, step=1)"
            ]
          },
          "execution_count": 8,
          "metadata": {},
          "output_type": "execute_result"
        }
      ],
      "source": [
        "data.index"
      ]
    },
    {
      "cell_type": "code",
      "execution_count": 9,
      "metadata": {
        "colab": {
          "base_uri": "https://localhost:8080/"
        },
        "id": "w2jJ3P1--qMu",
        "outputId": "dd636ddb-1ce5-4d44-9b90-60378898ee36"
      },
      "outputs": [
        {
          "data": {
            "text/plain": [
              "a    10\n",
              "b    20\n",
              "c    30\n",
              "d    40\n",
              "e    50\n",
              "f    60\n",
              "dtype: int64"
            ]
          },
          "execution_count": 9,
          "metadata": {},
          "output_type": "execute_result"
        }
      ],
      "source": [
        "data = [10, 20, 30, 40, 50, 60]\n",
        "index = ['a', 'b', 'c', 'd', 'e', 'f']\n",
        "sample = pd.Series(data, index)\n",
        "sample"
      ]
    },
    {
      "cell_type": "code",
      "execution_count": 10,
      "metadata": {
        "colab": {
          "base_uri": "https://localhost:8080/"
        },
        "id": "eWVwMRrx-6LC",
        "outputId": "379c491b-d58f-4605-84b7-dd1555297ee4"
      },
      "outputs": [
        {
          "data": {
            "text/plain": [
              "10"
            ]
          },
          "execution_count": 10,
          "metadata": {},
          "output_type": "execute_result"
        }
      ],
      "source": [
        "sample['a']"
      ]
    },
    {
      "cell_type": "code",
      "execution_count": 11,
      "metadata": {},
      "outputs": [
        {
          "data": {
            "text/plain": [
              "a    10\n",
              "b    20\n",
              "c    30\n",
              "d    40\n",
              "dtype: int64"
            ]
          },
          "execution_count": 11,
          "metadata": {},
          "output_type": "execute_result"
        }
      ],
      "source": [
        "sample['a':'d']"
      ]
    },
    {
      "cell_type": "code",
      "execution_count": 12,
      "metadata": {
        "colab": {
          "base_uri": "https://localhost:8080/"
        },
        "id": "E7JJw8o9_l8b",
        "outputId": "f72a969b-8766-4bed-d974-86d7630cd6cb"
      },
      "outputs": [
        {
          "data": {
            "text/plain": [
              "10"
            ]
          },
          "execution_count": 12,
          "metadata": {},
          "output_type": "execute_result"
        }
      ],
      "source": [
        "sample.a"
      ]
    },
    {
      "cell_type": "code",
      "execution_count": 13,
      "metadata": {},
      "outputs": [
        {
          "data": {
            "text/plain": [
              "30"
            ]
          },
          "execution_count": 13,
          "metadata": {},
          "output_type": "execute_result"
        }
      ],
      "source": [
        "sample.c"
      ]
    },
    {
      "cell_type": "code",
      "execution_count": 14,
      "metadata": {
        "colab": {
          "base_uri": "https://localhost:8080/"
        },
        "id": "Ma8OcMU--8Hy",
        "outputId": "3da243b4-a72f-45ff-ac72-5386ebad1b6c"
      },
      "outputs": [
        {
          "name": "stderr",
          "output_type": "stream",
          "text": [
            "C:\\Users\\kwon3\\AppData\\Local\\Temp\\ipykernel_22692\\1138358554.py:1: FutureWarning: Series.__getitem__ treating keys as positions is deprecated. In a future version, integer keys will always be treated as labels (consistent with DataFrame behavior). To access a value by position, use `ser.iloc[pos]`\n",
            "  sample[0]\n"
          ]
        },
        {
          "data": {
            "text/plain": [
              "10"
            ]
          },
          "execution_count": 14,
          "metadata": {},
          "output_type": "execute_result"
        }
      ],
      "source": [
        "sample[0]"
      ]
    },
    {
      "cell_type": "code",
      "execution_count": 15,
      "metadata": {
        "colab": {
          "base_uri": "https://localhost:8080/"
        },
        "id": "9F-vVqxG_Flm",
        "outputId": "d7903d5b-b29f-4725-ee06-ade47daedd35"
      },
      "outputs": [
        {
          "data": {
            "text/plain": [
              "array([10, 20, 30, 40, 50, 60], dtype=int64)"
            ]
          },
          "execution_count": 15,
          "metadata": {},
          "output_type": "execute_result"
        }
      ],
      "source": [
        "sample.values"
      ]
    },
    {
      "cell_type": "code",
      "execution_count": 16,
      "metadata": {},
      "outputs": [
        {
          "data": {
            "text/plain": [
              "Index(['a', 'b', 'c', 'd', 'e', 'f'], dtype='object')"
            ]
          },
          "execution_count": 16,
          "metadata": {},
          "output_type": "execute_result"
        }
      ],
      "source": [
        "sample.index"
      ]
    },
    {
      "cell_type": "markdown",
      "metadata": {
        "id": "KDECzTbWAQD5"
      },
      "source": [
        "### 2.2 Series의 산술 연산"
      ]
    },
    {
      "cell_type": "code",
      "execution_count": 17,
      "metadata": {
        "colab": {
          "base_uri": "https://localhost:8080/"
        },
        "id": "a9qB0LmCATZm",
        "outputId": "14af88f9-378b-438a-9b9d-2f8456bb46af"
      },
      "outputs": [
        {
          "data": {
            "text/plain": [
              "0    10\n",
              "1    20\n",
              "2    30\n",
              "3    40\n",
              "4    50\n",
              "5    60\n",
              "dtype: int64"
            ]
          },
          "execution_count": 17,
          "metadata": {},
          "output_type": "execute_result"
        }
      ],
      "source": [
        "pd.Series([10, 20, 30, 40, 50, 60])"
      ]
    },
    {
      "cell_type": "code",
      "execution_count": 18,
      "metadata": {
        "id": "e7yUraetAt3T"
      },
      "outputs": [],
      "source": [
        "data = pd.Series([10, 20, 30, 40, 50, 60])"
      ]
    },
    {
      "cell_type": "code",
      "execution_count": 19,
      "metadata": {
        "colab": {
          "base_uri": "https://localhost:8080/"
        },
        "id": "xpsriEYQAvo1",
        "outputId": "a39553e1-bfce-4623-ee68-ec2b887f95b4"
      },
      "outputs": [
        {
          "data": {
            "text/plain": [
              "0     20\n",
              "1     40\n",
              "2     60\n",
              "3     80\n",
              "4    100\n",
              "5    120\n",
              "dtype: int64"
            ]
          },
          "execution_count": 19,
          "metadata": {},
          "output_type": "execute_result"
        }
      ],
      "source": [
        "data + 100\n",
        "data - 100\n",
        "data * 10\n",
        "data / 10\n",
        "data // 10\n",
        "data % 10\n",
        "data + data"
      ]
    },
    {
      "cell_type": "code",
      "execution_count": 20,
      "metadata": {
        "colab": {
          "base_uri": "https://localhost:8080/"
        },
        "id": "8uLNikefBbt7",
        "outputId": "623aa94b-cc5d-455a-e3c0-e4158714b1da"
      },
      "outputs": [
        {
          "data": {
            "text/plain": [
              "0    20\n",
              "1    40\n",
              "2    60\n",
              "dtype: int64"
            ]
          },
          "execution_count": 20,
          "metadata": {},
          "output_type": "execute_result"
        }
      ],
      "source": [
        "data1 = pd.Series([10, 20, 30])\n",
        "data2 = pd.Series(['10', '20', '30'])\n",
        "\n",
        "# data1 + data2 #error\n",
        "data1 + data2.astype('int32')"
      ]
    },
    {
      "cell_type": "code",
      "execution_count": 21,
      "metadata": {
        "colab": {
          "base_uri": "https://localhost:8080/"
        },
        "id": "ITQ5USU6CE_d",
        "outputId": "3f639a65-1599-4573-bc25-3c511041495f"
      },
      "outputs": [
        {
          "data": {
            "text/plain": [
              "dtype('int64')"
            ]
          },
          "execution_count": 21,
          "metadata": {},
          "output_type": "execute_result"
        }
      ],
      "source": [
        "data1.dtype"
      ]
    },
    {
      "cell_type": "markdown",
      "metadata": {
        "id": "FP2MUHrDCfLs"
      },
      "source": [
        "### 2.3 Series indexing , slicing, boolean indexing"
      ]
    },
    {
      "cell_type": "code",
      "execution_count": 22,
      "metadata": {
        "id": "hzxSzMxuCqjX"
      },
      "outputs": [],
      "source": [
        "data = [10, 20, 30, 40, 50, 60]\n",
        "index = ['a', 'b', 'c', 'd', 'e', 'f']\n",
        "sample = pd.Series(data, index)"
      ]
    },
    {
      "cell_type": "code",
      "execution_count": 23,
      "metadata": {
        "colab": {
          "base_uri": "https://localhost:8080/"
        },
        "id": "9dDF3DEUCxlR",
        "outputId": "39cc0bf4-64dc-48a9-f2e9-2d35350a96ed"
      },
      "outputs": [
        {
          "data": {
            "text/plain": [
              "a    10\n",
              "b    20\n",
              "c    30\n",
              "d    40\n",
              "e    50\n",
              "f    60\n",
              "dtype: int64"
            ]
          },
          "execution_count": 23,
          "metadata": {},
          "output_type": "execute_result"
        }
      ],
      "source": [
        "sample"
      ]
    },
    {
      "cell_type": "code",
      "execution_count": 24,
      "metadata": {
        "colab": {
          "base_uri": "https://localhost:8080/"
        },
        "id": "P8HO-ttKCzpD",
        "outputId": "f26b1e99-926b-4ba4-8acc-3a2714cbed8a"
      },
      "outputs": [
        {
          "name": "stderr",
          "output_type": "stream",
          "text": [
            "C:\\Users\\kwon3\\AppData\\Local\\Temp\\ipykernel_22692\\3881578318.py:2: FutureWarning: Series.__getitem__ treating keys as positions is deprecated. In a future version, integer keys will always be treated as labels (consistent with DataFrame behavior). To access a value by position, use `ser.iloc[pos]`\n",
            "  sample[0]\n",
            "C:\\Users\\kwon3\\AppData\\Local\\Temp\\ipykernel_22692\\3881578318.py:4: FutureWarning: Series.__getitem__ treating keys as positions is deprecated. In a future version, integer keys will always be treated as labels (consistent with DataFrame behavior). To access a value by position, use `ser.iloc[pos]`\n",
            "  sample[-1] # 우리가 직접 index를 설정했을 경우에는 -indexing이 됩니다.\n"
          ]
        },
        {
          "data": {
            "text/plain": [
              "60"
            ]
          },
          "execution_count": 24,
          "metadata": {},
          "output_type": "execute_result"
        }
      ],
      "source": [
        "sample['a']\n",
        "sample[0]\n",
        "sample.a\n",
        "sample[-1] # 우리가 직접 index를 설정했을 경우에는 -indexing이 됩니다."
      ]
    },
    {
      "cell_type": "code",
      "execution_count": 25,
      "metadata": {
        "colab": {
          "base_uri": "https://localhost:8080/"
        },
        "id": "dLgOvVP2C-I1",
        "outputId": "f0cb1029-9dee-4871-babc-ee39262ccf16"
      },
      "outputs": [
        {
          "data": {
            "text/plain": [
              "f    60\n",
              "e    50\n",
              "d    40\n",
              "c    30\n",
              "b    20\n",
              "a    10\n",
              "dtype: int64"
            ]
          },
          "execution_count": 25,
          "metadata": {},
          "output_type": "execute_result"
        }
      ],
      "source": [
        "sample['a':'d']\n",
        "sample['a':'f':2]\n",
        "sample[::2]\n",
        "sample[::-1]"
      ]
    },
    {
      "cell_type": "code",
      "execution_count": 26,
      "metadata": {
        "id": "8bLykKGvDuay"
      },
      "outputs": [],
      "source": [
        "data = [10, 20, 30, 40, 50, 60]\n",
        "index = ['a', 'b', 'c', 'd', 'e', 'f']\n",
        "sample = pd.Series(data, index)"
      ]
    },
    {
      "cell_type": "code",
      "execution_count": 27,
      "metadata": {
        "colab": {
          "base_uri": "https://localhost:8080/"
        },
        "id": "7SNlmCqPDvOd",
        "outputId": "093d164a-ff6b-42c0-a510-edd58368a52f"
      },
      "outputs": [
        {
          "data": {
            "text/plain": [
              "a    10\n",
              "b    20\n",
              "dtype: int64"
            ]
          },
          "execution_count": 27,
          "metadata": {},
          "output_type": "execute_result"
        }
      ],
      "source": [
        "sample[[True, True, False, False, False, False]]"
      ]
    },
    {
      "cell_type": "code",
      "execution_count": 28,
      "metadata": {
        "colab": {
          "base_uri": "https://localhost:8080/"
        },
        "id": "n4taDuk_D86v",
        "outputId": "058be93c-04eb-44c9-c6fd-818754029259"
      },
      "outputs": [
        {
          "data": {
            "text/plain": [
              "a    False\n",
              "b    False\n",
              "c    False\n",
              "d     True\n",
              "e     True\n",
              "f     True\n",
              "dtype: bool"
            ]
          },
          "execution_count": 28,
          "metadata": {},
          "output_type": "execute_result"
        }
      ],
      "source": [
        "sample > 30"
      ]
    },
    {
      "cell_type": "code",
      "execution_count": 29,
      "metadata": {
        "colab": {
          "base_uri": "https://localhost:8080/"
        },
        "id": "ouNyPyvmECda",
        "outputId": "2f4b29e7-aec4-4ca7-a942-028a775a08ec"
      },
      "outputs": [
        {
          "data": {
            "text/plain": [
              "d    40\n",
              "e    50\n",
              "f    60\n",
              "dtype: int64"
            ]
          },
          "execution_count": 29,
          "metadata": {},
          "output_type": "execute_result"
        }
      ],
      "source": [
        "sample[sample > 30]"
      ]
    },
    {
      "cell_type": "code",
      "execution_count": 30,
      "metadata": {
        "colab": {
          "base_uri": "https://localhost:8080/"
        },
        "id": "xAUp5X_ZEHNu",
        "outputId": "9d653fe0-fae2-4a60-cbac-6a803a4611e8"
      },
      "outputs": [
        {
          "name": "stdout",
          "output_type": "stream",
          "text": [
            "10\n",
            "20\n",
            "30\n",
            "40\n",
            "50\n",
            "60\n"
          ]
        }
      ],
      "source": [
        "for i in sample:\n",
        "    print(i)"
      ]
    },
    {
      "cell_type": "code",
      "execution_count": 31,
      "metadata": {
        "colab": {
          "base_uri": "https://localhost:8080/"
        },
        "id": "PccTNOViELyj",
        "outputId": "1e6087d1-9951-45d0-8a87-fa0e239f2a36"
      },
      "outputs": [
        {
          "data": {
            "text/plain": [
              "array([10, 20, 30, 40, 50, 60], dtype=int64)"
            ]
          },
          "execution_count": 31,
          "metadata": {},
          "output_type": "execute_result"
        }
      ],
      "source": [
        "# error\n",
        "# for index, value in sample:\n",
        "#     print(index, value)\n",
        "\n",
        "sample.index\n",
        "sample.values"
      ]
    },
    {
      "cell_type": "code",
      "execution_count": 32,
      "metadata": {
        "colab": {
          "base_uri": "https://localhost:8080/"
        },
        "id": "lFF7ds8BEbRg",
        "outputId": "4ec76534-0fd9-49a0-b4a2-d40d72bf9048"
      },
      "outputs": [
        {
          "name": "stdout",
          "output_type": "stream",
          "text": [
            "a 10\n",
            "b 20\n",
            "c 30\n",
            "d 40\n",
            "e 50\n",
            "f 60\n"
          ]
        }
      ],
      "source": [
        "for i, j in zip(sample.index, sample.values):\n",
        "    print(i, j)"
      ]
    },
    {
      "cell_type": "code",
      "execution_count": 33,
      "metadata": {
        "colab": {
          "base_uri": "https://localhost:8080/"
        },
        "id": "WzxBLztcEkN1",
        "outputId": "b3a6dace-3e3c-48d3-9982-6ec3ae82ac6c"
      },
      "outputs": [
        {
          "data": {
            "text/plain": [
              "{'학원': 10, '연구원': 20, '출판사': 30, '미디어사': 40, '위니브': 50}"
            ]
          },
          "execution_count": 33,
          "metadata": {},
          "output_type": "execute_result"
        }
      ],
      "source": [
        "d = {\n",
        "    '학원' : 10,\n",
        "    '연구원' : 20,\n",
        "    '출판사' : 30,\n",
        "    '미디어사' : 40,\n",
        "    '위니브' : 50\n",
        "}\n",
        "d"
      ]
    },
    {
      "cell_type": "code",
      "execution_count": 34,
      "metadata": {
        "colab": {
          "base_uri": "https://localhost:8080/"
        },
        "id": "ME9wKIF3E4kc",
        "outputId": "97fe39fa-4bc3-4f72-fbea-9bc61ca012a4"
      },
      "outputs": [
        {
          "data": {
            "text/plain": [
              "학원      10\n",
              "연구원     20\n",
              "출판사     30\n",
              "미디어사    40\n",
              "위니브     50\n",
              "dtype: int64"
            ]
          },
          "execution_count": 34,
          "metadata": {},
          "output_type": "execute_result"
        }
      ],
      "source": [
        "data = pd.Series(d)\n",
        "data"
      ]
    },
    {
      "cell_type": "code",
      "execution_count": 35,
      "metadata": {
        "colab": {
          "base_uri": "https://localhost:8080/"
        },
        "id": "BUqf5r6CE9kn",
        "outputId": "d113826f-67df-41ee-f476-c62b02406d74"
      },
      "outputs": [
        {
          "data": {
            "text/plain": [
              "학원     10\n",
              "연구원    20\n",
              "출판사    30\n",
              "dtype: int64"
            ]
          },
          "execution_count": 35,
          "metadata": {},
          "output_type": "execute_result"
        }
      ],
      "source": [
        "data['학원':'출판사']"
      ]
    },
    {
      "cell_type": "code",
      "execution_count": 36,
      "metadata": {
        "colab": {
          "base_uri": "https://localhost:8080/"
        },
        "id": "fv8phpLrFLEy",
        "outputId": "b0babc71-37fe-411f-fd23-29f4d09a66d7"
      },
      "outputs": [
        {
          "name": "stderr",
          "output_type": "stream",
          "text": [
            "C:\\Users\\kwon3\\AppData\\Local\\Temp\\ipykernel_22692\\1743741225.py:1: FutureWarning: Series.__getitem__ treating keys as positions is deprecated. In a future version, integer keys will always be treated as labels (consistent with DataFrame behavior). To access a value by position, use `ser.iloc[pos]`\n",
            "  data[0]\n"
          ]
        },
        {
          "data": {
            "text/plain": [
              "10"
            ]
          },
          "execution_count": 36,
          "metadata": {},
          "output_type": "execute_result"
        }
      ],
      "source": [
        "data[0]"
      ]
    },
    {
      "cell_type": "code",
      "execution_count": 37,
      "metadata": {
        "colab": {
          "base_uri": "https://localhost:8080/"
        },
        "id": "kU25rKKKFFxz",
        "outputId": "90812d02-20ec-46ba-9c28-433e7b4fb4dc"
      },
      "outputs": [
        {
          "data": {
            "text/plain": [
              "학원     10\n",
              "연구원    20\n",
              "출판사    30\n",
              "dtype: int64"
            ]
          },
          "execution_count": 37,
          "metadata": {},
          "output_type": "execute_result"
        }
      ],
      "source": [
        "data[0:3]"
      ]
    },
    {
      "cell_type": "code",
      "execution_count": 38,
      "metadata": {
        "colab": {
          "base_uri": "https://localhost:8080/"
        },
        "id": "nlurhfWOFRPZ",
        "outputId": "7bd03f9f-e3f8-4d2d-e9f4-5687cad045b3"
      },
      "outputs": [
        {
          "data": {
            "text/plain": [
              "학원      10\n",
              "연구원     20\n",
              "출판사     30\n",
              "미디어사    40\n",
              "위니브     50\n",
              "dtype: int64"
            ]
          },
          "execution_count": 38,
          "metadata": {},
          "output_type": "execute_result"
        }
      ],
      "source": [
        "data"
      ]
    },
    {
      "cell_type": "code",
      "execution_count": 39,
      "metadata": {
        "colab": {
          "base_uri": "https://localhost:8080/"
        },
        "id": "w-rv59Z-FS-s",
        "outputId": "3c9483e8-7b55-4484-d628-ec3fd770a42e"
      },
      "outputs": [
        {
          "data": {
            "text/plain": [
              "출판사     30\n",
              "미디어사    40\n",
              "위니브     50\n",
              "dtype: int64"
            ]
          },
          "execution_count": 39,
          "metadata": {},
          "output_type": "execute_result"
        }
      ],
      "source": [
        "data['출판사':]"
      ]
    },
    {
      "cell_type": "code",
      "execution_count": 40,
      "metadata": {
        "colab": {
          "base_uri": "https://localhost:8080/"
        },
        "id": "1DqfgdDZFYRt",
        "outputId": "773d7de5-76b7-40da-f626-71647c51087c"
      },
      "outputs": [
        {
          "data": {
            "text/plain": [
              "학원     10\n",
              "연구원    20\n",
              "출판사    30\n",
              "dtype: int64"
            ]
          },
          "execution_count": 40,
          "metadata": {},
          "output_type": "execute_result"
        }
      ],
      "source": [
        "data[:-2]"
      ]
    },
    {
      "cell_type": "code",
      "execution_count": 41,
      "metadata": {
        "colab": {
          "base_uri": "https://localhost:8080/"
        },
        "id": "edlfdMS3Fhh0",
        "outputId": "4a062988-8460-47ab-cdfb-2fd0386fe9c4"
      },
      "outputs": [
        {
          "data": {
            "text/plain": [
              "출판사     30\n",
              "미디어사    40\n",
              "위니브     50\n",
              "dtype: int64"
            ]
          },
          "execution_count": 41,
          "metadata": {},
          "output_type": "execute_result"
        }
      ],
      "source": [
        "data[-3:]"
      ]
    },
    {
      "cell_type": "code",
      "execution_count": 42,
      "metadata": {
        "colab": {
          "base_uri": "https://localhost:8080/"
        },
        "id": "vRmV_xO4Fo4M",
        "outputId": "2a131b33-7e16-43ce-dcec-f183df07d749"
      },
      "outputs": [
        {
          "data": {
            "text/plain": [
              "연구원     20\n",
              "미디어사    40\n",
              "dtype: int64"
            ]
          },
          "execution_count": 42,
          "metadata": {},
          "output_type": "execute_result"
        }
      ],
      "source": [
        "data[-4::2]"
      ]
    },
    {
      "cell_type": "code",
      "execution_count": 43,
      "metadata": {
        "colab": {
          "base_uri": "https://localhost:8080/"
        },
        "id": "36stdS2sF18D",
        "outputId": "de49aaad-596d-4980-9115-ff217405da9e"
      },
      "outputs": [
        {
          "data": {
            "text/plain": [
              "2016년     200\n",
              "2018년     400\n",
              "2020년    3000\n",
              "2021년    6000\n",
              "2022년    9000\n",
              "dtype: int64"
            ]
          },
          "execution_count": 43,
          "metadata": {},
          "output_type": "execute_result"
        }
      ],
      "source": [
        "d = {\n",
        "    '2015년':100,\n",
        "    '2016년':200,\n",
        "    '2017년':300,\n",
        "    '2018년':400,\n",
        "    '2019년':1100,\n",
        "    '2020년':3000,\n",
        "    '2021년':6000,\n",
        "    '2022년':9000,\n",
        "}\n",
        "\n",
        "pd.Series(d, index=['2016년', '2018년', '2020년', '2021년', '2022년'])"
      ]
    },
    {
      "cell_type": "markdown",
      "metadata": {
        "id": "nLmVStVeG5HU"
      },
      "source": [
        "### 2.4 Series의 key, value, index\n",
        "\n",
        "- index\n",
        "    - Series, DataFrame의 레코드를 식별\n",
        "    - 집합 연산이 가능\n",
        "- loc :  인덱스를 기반으로 행 데이터를 읽음\n",
        "- iloc :  행 번호를 기반으로 행 데이터를 읽음\n",
        "- items() : key와 value를 튜플로 묶어서 리턴\n",
        "- 팬시 인덱싱(fancy indexing) : 스칼라 대신 인덱스 배열을 사용한 인덱싱"
      ]
    },
    {
      "cell_type": "code",
      "execution_count": 44,
      "metadata": {
        "id": "1WbnXRAhGNg3"
      },
      "outputs": [],
      "source": [
        "data = [10, 20, 30, 40, 50, 60]\n",
        "index = ['a', 'b', 'c', 'd', 'e', 'f']\n",
        "s = pd.Series(data, index)"
      ]
    },
    {
      "cell_type": "code",
      "execution_count": 45,
      "metadata": {
        "colab": {
          "base_uri": "https://localhost:8080/"
        },
        "id": "Zwwg0dr5Koc0",
        "outputId": "498c2385-3d32-4381-8682-419d8884b97e"
      },
      "outputs": [
        {
          "data": {
            "text/plain": [
              "True"
            ]
          },
          "execution_count": 45,
          "metadata": {},
          "output_type": "execute_result"
        }
      ],
      "source": [
        "'a' in s"
      ]
    },
    {
      "cell_type": "code",
      "execution_count": 46,
      "metadata": {
        "colab": {
          "base_uri": "https://localhost:8080/"
        },
        "id": "WtUztcQ6Ks5n",
        "outputId": "94b5c49f-a6fd-4d3e-abea-24dadfee3966"
      },
      "outputs": [
        {
          "data": {
            "text/plain": [
              "False"
            ]
          },
          "execution_count": 46,
          "metadata": {},
          "output_type": "execute_result"
        }
      ],
      "source": [
        "10 in s"
      ]
    },
    {
      "cell_type": "code",
      "execution_count": 47,
      "metadata": {
        "colab": {
          "base_uri": "https://localhost:8080/"
        },
        "id": "6bE-FZvXKwVX",
        "outputId": "76e468c7-9441-44bf-fed1-078aad4755ed"
      },
      "outputs": [
        {
          "data": {
            "text/plain": [
              "Index(['a', 'b', 'c', 'd', 'e', 'f'], dtype='object')"
            ]
          },
          "execution_count": 47,
          "metadata": {},
          "output_type": "execute_result"
        }
      ],
      "source": [
        "s.keys()"
      ]
    },
    {
      "cell_type": "code",
      "execution_count": 48,
      "metadata": {
        "id": "HMOKEsVZKxyi"
      },
      "outputs": [],
      "source": [
        "# s.values() # error"
      ]
    },
    {
      "cell_type": "code",
      "execution_count": 49,
      "metadata": {
        "colab": {
          "base_uri": "https://localhost:8080/"
        },
        "id": "Ca4q8J2wK3pS",
        "outputId": "a39b8864-a35c-4d92-9e1e-ff75c31010cf"
      },
      "outputs": [
        {
          "data": {
            "text/plain": [
              "<zip at 0x1accf48f580>"
            ]
          },
          "execution_count": 49,
          "metadata": {},
          "output_type": "execute_result"
        }
      ],
      "source": [
        "s.items()"
      ]
    },
    {
      "cell_type": "code",
      "execution_count": 50,
      "metadata": {
        "colab": {
          "base_uri": "https://localhost:8080/"
        },
        "id": "LjFk8qkPK6Bg",
        "outputId": "7a878c7b-7fd2-429f-fbae-5c6ffd21351d"
      },
      "outputs": [
        {
          "data": {
            "text/plain": [
              "[('a', 10), ('b', 20), ('c', 30), ('d', 40), ('e', 50), ('f', 60)]"
            ]
          },
          "execution_count": 50,
          "metadata": {},
          "output_type": "execute_result"
        }
      ],
      "source": [
        "list(s.items())"
      ]
    },
    {
      "cell_type": "code",
      "execution_count": 51,
      "metadata": {
        "colab": {
          "base_uri": "https://localhost:8080/"
        },
        "id": "Sjvkw2SgK9ug",
        "outputId": "cc6e6950-433d-4780-c14f-92e5ac79d0b4"
      },
      "outputs": [
        {
          "name": "stdout",
          "output_type": "stream",
          "text": [
            "a 10\n",
            "b 20\n",
            "c 30\n",
            "d 40\n",
            "e 50\n",
            "f 60\n"
          ]
        }
      ],
      "source": [
        "for i, j in s.items():\n",
        "    print(i, j)"
      ]
    },
    {
      "cell_type": "code",
      "execution_count": 52,
      "metadata": {
        "colab": {
          "base_uri": "https://localhost:8080/"
        },
        "id": "IvEL_9VqLEgc",
        "outputId": "40d19528-73c0-404f-aa89-3cfbb36601b8"
      },
      "outputs": [
        {
          "data": {
            "text/plain": [
              "a    10\n",
              "b    20\n",
              "c    30\n",
              "d    40\n",
              "dtype: int64"
            ]
          },
          "execution_count": 52,
          "metadata": {},
          "output_type": "execute_result"
        }
      ],
      "source": [
        "# s.loc('a') #error\n",
        "# s.loc[0] #error\n",
        "s.loc['a'] # index를 입력하지 않아 숫자가 자동으로 들어갔을 경우에는 숫자 사용 가능\n",
        "s.loc['a' : 'd']\n",
        "s['a' : 'd']"
      ]
    },
    {
      "cell_type": "code",
      "execution_count": 53,
      "metadata": {
        "colab": {
          "base_uri": "https://localhost:8080/"
        },
        "id": "aGU6UtUdLe6C",
        "outputId": "65c50b6d-4d9c-4cec-f6a2-62fbd0a41840"
      },
      "outputs": [
        {
          "data": {
            "text/plain": [
              "a    10\n",
              "b    20\n",
              "c    30\n",
              "dtype: int64"
            ]
          },
          "execution_count": 53,
          "metadata": {},
          "output_type": "execute_result"
        }
      ],
      "source": [
        "s.iloc[0]\n",
        "s.iloc[0:3]\n",
        "s[0:3]"
      ]
    },
    {
      "cell_type": "code",
      "execution_count": 54,
      "metadata": {
        "id": "SWXCP5I2L4q1"
      },
      "outputs": [],
      "source": [
        "data = [10, 20, 30, 40, 50, 60]\n",
        "index = [3, 4, 5, 6, 7, 8]\n",
        "s = pd.Series(data, index)"
      ]
    },
    {
      "cell_type": "code",
      "execution_count": 55,
      "metadata": {
        "colab": {
          "base_uri": "https://localhost:8080/"
        },
        "id": "Q_JItELLL7ZW",
        "outputId": "72cf011a-95b5-46e7-acc8-c824359d0267"
      },
      "outputs": [
        {
          "data": {
            "text/plain": [
              "6    40\n",
              "7    50\n",
              "dtype: int64"
            ]
          },
          "execution_count": 55,
          "metadata": {},
          "output_type": "execute_result"
        }
      ],
      "source": [
        "s[3:5] #loc가 아니라 iloc가 된 것임!"
      ]
    },
    {
      "cell_type": "code",
      "execution_count": 56,
      "metadata": {
        "colab": {
          "base_uri": "https://localhost:8080/"
        },
        "id": "9egr7SkKMEms",
        "outputId": "32b95ff0-c8f3-45d5-ca7b-40480d6dd7e3"
      },
      "outputs": [
        {
          "data": {
            "text/plain": [
              "10"
            ]
          },
          "execution_count": 56,
          "metadata": {},
          "output_type": "execute_result"
        }
      ],
      "source": [
        "s[3] #iloc가 아니라 loc가 된 것임!"
      ]
    },
    {
      "cell_type": "code",
      "execution_count": 57,
      "metadata": {
        "colab": {
          "base_uri": "https://localhost:8080/"
        },
        "id": "Ymxa3OCxMhyR",
        "outputId": "8abd2131-817e-4604-b19f-70d770226c87"
      },
      "outputs": [
        {
          "data": {
            "text/plain": [
              "1    10\n",
              "3    20\n",
              "dtype: int64"
            ]
          },
          "execution_count": 57,
          "metadata": {},
          "output_type": "execute_result"
        }
      ],
      "source": [
        "data = [10, 20, 30, 40, 50]\n",
        "index = [1, 3, 5, 7, 9]\n",
        "pd.Series(data, index).loc[1:4] # 명시적인 인덱스만 따름"
      ]
    },
    {
      "cell_type": "code",
      "execution_count": 58,
      "metadata": {
        "colab": {
          "base_uri": "https://localhost:8080/"
        },
        "id": "tN0V14-mM5R9",
        "outputId": "65c76f3d-1664-421e-c8e5-35d57cdd8218"
      },
      "outputs": [
        {
          "data": {
            "text/plain": [
              "3    20\n",
              "5    30\n",
              "7    40\n",
              "dtype: int64"
            ]
          },
          "execution_count": 58,
          "metadata": {},
          "output_type": "execute_result"
        }
      ],
      "source": [
        "data = [10, 20, 30, 40, 50]\n",
        "index = [1, 3, 5, 7, 9]\n",
        "pd.Series(data, index).iloc[1:4] # 묵시적인 인덱스만 따름"
      ]
    },
    {
      "cell_type": "code",
      "execution_count": 59,
      "metadata": {
        "id": "SPCJWBpkN1x3"
      },
      "outputs": [],
      "source": [
        "# 팬시 인덱싱\n",
        "data = [10, 20, 30, 40, 50]\n",
        "index = ['a', 'b', 'c', 'd', 'e']\n",
        "s = pd.Series(data, index)"
      ]
    },
    {
      "cell_type": "code",
      "execution_count": 60,
      "metadata": {
        "colab": {
          "base_uri": "https://localhost:8080/"
        },
        "id": "XbcZ1OzmOSn2",
        "outputId": "e3e5b703-693e-4a48-d445-f111f274aefd"
      },
      "outputs": [
        {
          "data": {
            "text/plain": [
              "a    10\n",
              "d    40\n",
              "dtype: int64"
            ]
          },
          "execution_count": 60,
          "metadata": {},
          "output_type": "execute_result"
        }
      ],
      "source": [
        "s[['a', 'd']]"
      ]
    },
    {
      "cell_type": "markdown",
      "metadata": {
        "id": "ZnBpz2DbNb3W"
      },
      "source": [
        "### 2.5 결측값(NaN, None) 처리\n",
        "\n",
        "1. NaN\n",
        "    - 자료형이 Float\n",
        "    - 배열에서 연산할 경우 오류가 발생하지 않지만  결과값이 NaN이 됨\n",
        "        - numpy : nan\n",
        "        - pandas : 연산가능\n",
        "2. None \n",
        "    - 자료형이 None\n",
        "    - 배열 연산을 할 경우 오류가 발생\n",
        "        - numpy : error\n",
        "        - pandas : 연산가능\n",
        "\n",
        "3.  처리방법 \n",
        "\n",
        "    - isnull() : 결측값 확인 (결측 이면  True , 결측이 아니면  False )\n",
        "    - notnull() : 결측값 확인 (결측 이면  False , 결측이 아니면  True )\n",
        "    - dropna() : 결측값을 삭제\n",
        "        - axis=0 : 행 삭제 / axis=1 : 열 삭제\n",
        "        - inplace = True : drop후 원본에 반영\n",
        "    - fillna(Num) : 결측을 Num 으로 채워 넣음"
      ]
    },
    {
      "cell_type": "code",
      "execution_count": 61,
      "metadata": {
        "id": "WRW4HwpNNdQY"
      },
      "outputs": [],
      "source": [
        "import pandas as pd\n",
        "import numpy as np"
      ]
    },
    {
      "cell_type": "code",
      "execution_count": 62,
      "metadata": {
        "colab": {
          "base_uri": "https://localhost:8080/"
        },
        "id": "npZOp_rfA3o3",
        "outputId": "83ad53ed-7c42-4a81-83eb-d62f87f21407"
      },
      "outputs": [],
      "source": [
        "data = [10, 20, 30, 40, 50, None]\n",
        "data = np.array(data)\n",
        "# data.sum() # error"
      ]
    },
    {
      "cell_type": "code",
      "execution_count": 63,
      "metadata": {
        "colab": {
          "base_uri": "https://localhost:8080/"
        },
        "id": "gyP6G0SJBGML",
        "outputId": "7a8c64a5-9281-41f8-c93d-9b3614c9f0e5"
      },
      "outputs": [
        {
          "data": {
            "text/plain": [
              "nan"
            ]
          },
          "execution_count": 63,
          "metadata": {},
          "output_type": "execute_result"
        }
      ],
      "source": [
        "data = [10, 20, 30, 40, 50, np.nan]\n",
        "data = np.array(data)\n",
        "data.sum()"
      ]
    },
    {
      "cell_type": "code",
      "execution_count": 64,
      "metadata": {
        "colab": {
          "base_uri": "https://localhost:8080/"
        },
        "id": "BIPcU9eXBNQ_",
        "outputId": "5e94bbde-76ec-4cd6-b93b-af4cb4e32b6b"
      },
      "outputs": [
        {
          "data": {
            "text/plain": [
              "150.0"
            ]
          },
          "execution_count": 64,
          "metadata": {},
          "output_type": "execute_result"
        }
      ],
      "source": [
        "data = [10, 20, 30, 40, 50, None]\n",
        "data = pd.Series(data)\n",
        "data.sum()"
      ]
    },
    {
      "cell_type": "code",
      "execution_count": 65,
      "metadata": {
        "colab": {
          "base_uri": "https://localhost:8080/"
        },
        "id": "5PaId9oDBdNS",
        "outputId": "d54c6674-ea53-426f-c2dc-34a0f367ae23"
      },
      "outputs": [
        {
          "data": {
            "text/plain": [
              "150.0"
            ]
          },
          "execution_count": 65,
          "metadata": {},
          "output_type": "execute_result"
        }
      ],
      "source": [
        "data = [10, 20, 30, 40, 50, np.nan]\n",
        "data = pd.Series(data)\n",
        "data.sum()"
      ]
    },
    {
      "cell_type": "code",
      "execution_count": 66,
      "metadata": {
        "colab": {
          "base_uri": "https://localhost:8080/"
        },
        "id": "mIAUusQXB3Uu",
        "outputId": "e6ffd491-dbf4-4116-c8ba-1256fa504ba6"
      },
      "outputs": [
        {
          "data": {
            "text/plain": [
              "nan"
            ]
          },
          "execution_count": 66,
          "metadata": {},
          "output_type": "execute_result"
        }
      ],
      "source": [
        "data[5] + 100\n",
        "data[5] * 100\n",
        "data[5] * 0\n",
        "# data[5] + 'hello' # error"
      ]
    },
    {
      "cell_type": "code",
      "execution_count": 67,
      "metadata": {
        "colab": {
          "base_uri": "https://localhost:8080/"
        },
        "id": "-zevcqnXCHww",
        "outputId": "492c5744-d789-419d-ec34-a845cb67d953"
      },
      "outputs": [
        {
          "data": {
            "text/plain": [
              "150.0"
            ]
          },
          "execution_count": 67,
          "metadata": {},
          "output_type": "execute_result"
        }
      ],
      "source": [
        "data = [10, 20, 30, 40, 50, None]\n",
        "data = pd.Series(data)\n",
        "data.sum()"
      ]
    },
    {
      "cell_type": "code",
      "execution_count": 68,
      "metadata": {
        "colab": {
          "base_uri": "https://localhost:8080/"
        },
        "id": "PzMnIzc1CIuP",
        "outputId": "81cf8562-861e-40c8-d869-fb6d19259ebc"
      },
      "outputs": [
        {
          "data": {
            "text/plain": [
              "nan"
            ]
          },
          "execution_count": 68,
          "metadata": {},
          "output_type": "execute_result"
        }
      ],
      "source": [
        "data[5]\n",
        "# data[5] + 100\n",
        "# data[5] * 100\n",
        "# data[5] * 0\n",
        "# data[5] + 'hello' # error"
      ]
    },
    {
      "cell_type": "code",
      "execution_count": 69,
      "metadata": {
        "colab": {
          "base_uri": "https://localhost:8080/"
        },
        "id": "DNYNmmPbCGZh",
        "outputId": "ff0108d8-0b55-40b7-f53f-41ebc8bb4407"
      },
      "outputs": [
        {
          "data": {
            "text/plain": [
              "50.0"
            ]
          },
          "execution_count": 69,
          "metadata": {},
          "output_type": "execute_result"
        }
      ],
      "source": [
        "data.sum()\n",
        "data.min()\n",
        "data.max()"
      ]
    },
    {
      "cell_type": "code",
      "execution_count": 70,
      "metadata": {
        "colab": {
          "base_uri": "https://localhost:8080/"
        },
        "id": "OqFZQ7TsB7pJ",
        "outputId": "f2f942bf-6af9-4353-f161-e1eeea9c07cb"
      },
      "outputs": [
        {
          "data": {
            "text/plain": [
              "3"
            ]
          },
          "execution_count": 70,
          "metadata": {},
          "output_type": "execute_result"
        }
      ],
      "source": [
        "data = [10, 20, 30, 40, 50, None, None, None]\n",
        "data = pd.Series(data)\n",
        "\n",
        "data.isnull()\n",
        "data.isnull().sum()"
      ]
    },
    {
      "cell_type": "code",
      "execution_count": 71,
      "metadata": {
        "colab": {
          "base_uri": "https://localhost:8080/"
        },
        "id": "qZRY8ttFE1rO",
        "outputId": "97d95bf4-d3c4-4889-f7e6-ae303d7999be"
      },
      "outputs": [
        {
          "data": {
            "text/plain": [
              "5"
            ]
          },
          "execution_count": 71,
          "metadata": {},
          "output_type": "execute_result"
        }
      ],
      "source": [
        "data.notnull()\n",
        "data.notnull().sum()"
      ]
    },
    {
      "cell_type": "code",
      "execution_count": 72,
      "metadata": {
        "colab": {
          "base_uri": "https://localhost:8080/"
        },
        "id": "6dwT3qXjE--T",
        "outputId": "74ca863a-3093-4ac0-a71c-667e847a2ae7"
      },
      "outputs": [
        {
          "data": {
            "text/plain": [
              "0    10.0\n",
              "1    20.0\n",
              "2    30.0\n",
              "3    40.0\n",
              "4    50.0\n",
              "dtype: float64"
            ]
          },
          "execution_count": 72,
          "metadata": {},
          "output_type": "execute_result"
        }
      ],
      "source": [
        "data.dropna()"
      ]
    },
    {
      "cell_type": "code",
      "execution_count": 73,
      "metadata": {
        "colab": {
          "base_uri": "https://localhost:8080/"
        },
        "id": "atXywJHTFD7c",
        "outputId": "a6164228-8f85-4e02-f7af-30150517b09c"
      },
      "outputs": [
        {
          "data": {
            "text/plain": [
              "0    10.0\n",
              "1    20.0\n",
              "2    30.0\n",
              "3    40.0\n",
              "4    50.0\n",
              "5     NaN\n",
              "6     NaN\n",
              "7     NaN\n",
              "dtype: float64"
            ]
          },
          "execution_count": 73,
          "metadata": {},
          "output_type": "execute_result"
        }
      ],
      "source": [
        "data"
      ]
    },
    {
      "cell_type": "code",
      "execution_count": 74,
      "metadata": {
        "colab": {
          "base_uri": "https://localhost:8080/"
        },
        "id": "FVC_bjwyFLOi",
        "outputId": "8d3fbc52-f2e7-41e7-cc03-0fafd17fe6d3"
      },
      "outputs": [
        {
          "name": "stderr",
          "output_type": "stream",
          "text": [
            "C:\\Users\\kwon3\\AppData\\Local\\Temp\\ipykernel_22692\\3832442450.py:3: FutureWarning: Series.fillna with 'method' is deprecated and will raise in a future version. Use obj.ffill() or obj.bfill() instead.\n",
            "  data.fillna(method='ffill') # 결측값을 앞의 값으로 대체\n"
          ]
        },
        {
          "data": {
            "text/plain": [
              "0    10.0\n",
              "1    20.0\n",
              "2    30.0\n",
              "3    40.0\n",
              "4    50.0\n",
              "5    50.0\n",
              "6    50.0\n",
              "7    50.0\n",
              "dtype: float64"
            ]
          },
          "execution_count": 74,
          "metadata": {},
          "output_type": "execute_result"
        }
      ],
      "source": [
        "data.fillna(0) # 결측값을 0으로 변경\n",
        "data.fillna(data.mean()) # 결측값을 평균으로변경\n",
        "data.fillna(method='ffill') # 결측값을 앞의 값으로 대체"
      ]
    },
    {
      "cell_type": "code",
      "execution_count": 75,
      "metadata": {},
      "outputs": [
        {
          "name": "stderr",
          "output_type": "stream",
          "text": [
            "C:\\Users\\kwon3\\AppData\\Local\\Temp\\ipykernel_22692\\3961283009.py:3: FutureWarning: Series.fillna with 'method' is deprecated and will raise in a future version. Use obj.ffill() or obj.bfill() instead.\n",
            "  data.fillna(method='bfill') # 결측값을 뒤의 값으로 대체\n"
          ]
        },
        {
          "data": {
            "text/plain": [
              "0      10.0\n",
              "1      20.0\n",
              "2      30.0\n",
              "3      40.0\n",
              "4      50.0\n",
              "5    1000.0\n",
              "6    1000.0\n",
              "7    1000.0\n",
              "8    1000.0\n",
              "dtype: float64"
            ]
          },
          "execution_count": 75,
          "metadata": {},
          "output_type": "execute_result"
        }
      ],
      "source": [
        "data = [10, 20, 30, 40, 50, None, None, None, 1000]\n",
        "data = pd.Series(data)\n",
        "data.fillna(method='bfill') # 결측값을 뒤의 값으로 대체"
      ]
    },
    {
      "cell_type": "code",
      "execution_count": 76,
      "metadata": {
        "colab": {
          "base_uri": "https://localhost:8080/"
        },
        "id": "R4aXq7ttGmES",
        "outputId": "d07f609f-dd3c-4987-d32f-5d31e1692313"
      },
      "outputs": [
        {
          "data": {
            "text/plain": [
              "0    10.0\n",
              "1    20.0\n",
              "2    30.0\n",
              "dtype: float64"
            ]
          },
          "execution_count": 76,
          "metadata": {},
          "output_type": "execute_result"
        }
      ],
      "source": [
        "data[:3]"
      ]
    },
    {
      "cell_type": "code",
      "execution_count": 77,
      "metadata": {
        "colab": {
          "base_uri": "https://localhost:8080/"
        },
        "id": "pcMvYCRiGrMN",
        "outputId": "7d415cfd-1923-4fe5-c32e-e66d70952c80"
      },
      "outputs": [
        {
          "data": {
            "text/plain": [
              "0    1000.0\n",
              "1      20.0\n",
              "2      30.0\n",
              "dtype: float64"
            ]
          },
          "execution_count": 77,
          "metadata": {},
          "output_type": "execute_result"
        }
      ],
      "source": [
        "s = data[:3]\n",
        "s[0] = 1000\n",
        "s"
      ]
    },
    {
      "cell_type": "code",
      "execution_count": 78,
      "metadata": {
        "colab": {
          "base_uri": "https://localhost:8080/"
        },
        "id": "GQImA8rmGvWQ",
        "outputId": "efc9f4fb-46cc-4fe2-c5dd-da307cb39622"
      },
      "outputs": [
        {
          "data": {
            "text/plain": [
              "0    1000.0\n",
              "1      20.0\n",
              "2      30.0\n",
              "3      40.0\n",
              "4      50.0\n",
              "5       NaN\n",
              "6       NaN\n",
              "7       NaN\n",
              "8    1000.0\n",
              "dtype: float64"
            ]
          },
          "execution_count": 78,
          "metadata": {},
          "output_type": "execute_result"
        }
      ],
      "source": [
        "data"
      ]
    },
    {
      "cell_type": "code",
      "execution_count": 79,
      "metadata": {
        "colab": {
          "base_uri": "https://localhost:8080/"
        },
        "id": "lVXcS63LGz-1",
        "outputId": "34e8bb8f-0092-43ad-f546-087964624f29"
      },
      "outputs": [
        {
          "data": {
            "text/plain": [
              "array([1000, 20, 30], dtype=object)"
            ]
          },
          "execution_count": 79,
          "metadata": {},
          "output_type": "execute_result"
        }
      ],
      "source": [
        "data = [10, 20, 30, 40, 50, None, None, None, 1000]\n",
        "data = np.array(data)\n",
        "s = data[:3]\n",
        "s[0] = 1000\n",
        "s"
      ]
    },
    {
      "cell_type": "code",
      "execution_count": 80,
      "metadata": {
        "colab": {
          "base_uri": "https://localhost:8080/"
        },
        "id": "zgwrEzFyG5Qe",
        "outputId": "4c361c2b-c2db-4c2f-e150-0951e7db74a8"
      },
      "outputs": [
        {
          "data": {
            "text/plain": [
              "array([1000, 20, 30, 40, 50, None, None, None, 1000], dtype=object)"
            ]
          },
          "execution_count": 80,
          "metadata": {},
          "output_type": "execute_result"
        }
      ],
      "source": [
        "data"
      ]
    },
    {
      "cell_type": "code",
      "execution_count": 81,
      "metadata": {
        "colab": {
          "base_uri": "https://localhost:8080/"
        },
        "id": "mb59w_GEG_UU",
        "outputId": "bf12ea41-5c50-4a9b-c447-eb660889de55"
      },
      "outputs": [
        {
          "data": {
            "text/plain": [
              "(array([1000, 20, 30], dtype=object),\n",
              " array([10, 20, 30, 40, 50, None, None, None, 1000], dtype=object))"
            ]
          },
          "execution_count": 81,
          "metadata": {},
          "output_type": "execute_result"
        }
      ],
      "source": [
        "data = [10, 20, 30, 40, 50, None, None, None, 1000]\n",
        "data = np.array(data)\n",
        "s = data[:3].copy()\n",
        "s[0] = 1000\n",
        "s, data"
      ]
    },
    {
      "cell_type": "code",
      "execution_count": 82,
      "metadata": {
        "colab": {
          "base_uri": "https://localhost:8080/"
        },
        "id": "qRau5mfuHD8e",
        "outputId": "97a7b4f5-d170-4839-cac5-fefea95370ff"
      },
      "outputs": [
        {
          "data": {
            "text/plain": [
              "(0    1000.0\n",
              " 1      20.0\n",
              " 2      30.0\n",
              " dtype: float64,\n",
              " 0      10.0\n",
              " 1      20.0\n",
              " 2      30.0\n",
              " 3      40.0\n",
              " 4      50.0\n",
              " 5       NaN\n",
              " 6       NaN\n",
              " 7       NaN\n",
              " 8    1000.0\n",
              " dtype: float64)"
            ]
          },
          "execution_count": 82,
          "metadata": {},
          "output_type": "execute_result"
        }
      ],
      "source": [
        "data = [10, 20, 30, 40, 50, None, None, None, 1000]\n",
        "data = pd.Series(data)\n",
        "s = data[:3].copy()\n",
        "s[0] = 1000\n",
        "s, data"
      ]
    },
    {
      "cell_type": "markdown",
      "metadata": {
        "id": "3sHZdxo1IaE0"
      },
      "source": [
        "### 2.6 multiIndex\n",
        "\n",
        "* 다중 인덱스입니다."
      ]
    },
    {
      "cell_type": "code",
      "execution_count": 83,
      "metadata": {
        "id": "NUlh6aOAIiwm"
      },
      "outputs": [],
      "source": [
        "매출 = {\n",
        "    '2015년':100,\n",
        "    '2016년':200,\n",
        "    '2017년':300,\n",
        "    '2018년':400,\n",
        "    '2019년':1100,\n",
        "    '2020년':3000,\n",
        "    '2021년':6000,\n",
        "    '2022년':9000,\n",
        "}\n",
        "순익 = {\n",
        "    '2015년':10,\n",
        "    '2016년':20,\n",
        "    '2017년':30,\n",
        "    '2018년':40,\n",
        "    '2019년':11,\n",
        "    '2020년':30,\n",
        "    '2021년':60,\n",
        "    '2022년':90,\n",
        "}"
      ]
    },
    {
      "cell_type": "code",
      "execution_count": 84,
      "metadata": {
        "colab": {
          "base_uri": "https://localhost:8080/"
        },
        "id": "xzR7iC5oJaWu",
        "outputId": "6cce8d4f-89e7-42e9-eed0-f3beb669e87a"
      },
      "outputs": [
        {
          "data": {
            "text/plain": [
              "[('매출', '2015년'),\n",
              " ('매출', '2016년'),\n",
              " ('매출', '2017년'),\n",
              " ('매출', '2018년'),\n",
              " ('매출', '2019년'),\n",
              " ('매출', '2020년'),\n",
              " ('매출', '2021년'),\n",
              " ('매출', '2022년'),\n",
              " ('순익', '2015년'),\n",
              " ('순익', '2016년'),\n",
              " ('순익', '2017년'),\n",
              " ('순익', '2018년'),\n",
              " ('순익', '2019년'),\n",
              " ('순익', '2020년'),\n",
              " ('순익', '2021년'),\n",
              " ('순익', '2022년')]"
            ]
          },
          "execution_count": 84,
          "metadata": {},
          "output_type": "execute_result"
        }
      ],
      "source": [
        "index1 = list(zip(['매출' for _ in range(len(매출.keys()))], 매출.keys()))\n",
        "index2 = list(zip(['순익' for _ in range(len(순익.keys()))], 순익.keys()))\n",
        "index = index1 + index2\n",
        "index"
      ]
    },
    {
      "cell_type": "code",
      "execution_count": 85,
      "metadata": {
        "colab": {
          "base_uri": "https://localhost:8080/"
        },
        "id": "9U1SRKduKNxa",
        "outputId": "6815a5d5-a22f-4064-b33a-6e2138d3cfe3"
      },
      "outputs": [
        {
          "data": {
            "text/plain": [
              "MultiIndex([('매출', '2015년'),\n",
              "            ('매출', '2016년'),\n",
              "            ('매출', '2017년'),\n",
              "            ('매출', '2018년'),\n",
              "            ('매출', '2019년'),\n",
              "            ('매출', '2020년'),\n",
              "            ('매출', '2021년'),\n",
              "            ('매출', '2022년'),\n",
              "            ('순익', '2015년'),\n",
              "            ('순익', '2016년'),\n",
              "            ('순익', '2017년'),\n",
              "            ('순익', '2018년'),\n",
              "            ('순익', '2019년'),\n",
              "            ('순익', '2020년'),\n",
              "            ('순익', '2021년'),\n",
              "            ('순익', '2022년')],\n",
              "           )"
            ]
          },
          "execution_count": 85,
          "metadata": {},
          "output_type": "execute_result"
        }
      ],
      "source": [
        "index = pd.MultiIndex.from_tuples(index)\n",
        "index"
      ]
    },
    {
      "cell_type": "code",
      "execution_count": 86,
      "metadata": {
        "colab": {
          "base_uri": "https://localhost:8080/"
        },
        "id": "1dDtC5IoKZWL",
        "outputId": "0c68b426-e8db-4b55-ebcb-041839b25a51"
      },
      "outputs": [
        {
          "data": {
            "text/plain": [
              "[100, 200, 300, 400, 1100, 3000, 6000, 9000, 10, 20, 30, 40, 11, 30, 60, 90]"
            ]
          },
          "execution_count": 86,
          "metadata": {},
          "output_type": "execute_result"
        }
      ],
      "source": [
        "값 = list(매출.values()) + list(순익.values())\n",
        "값"
      ]
    },
    {
      "cell_type": "code",
      "execution_count": 87,
      "metadata": {
        "colab": {
          "base_uri": "https://localhost:8080/"
        },
        "id": "VTtcL15_Ki4G",
        "outputId": "700f9f08-5f93-41ae-9b6c-4708114ff940"
      },
      "outputs": [
        {
          "data": {
            "text/plain": [
              "매출  2015년     100\n",
              "    2016년     200\n",
              "    2017년     300\n",
              "    2018년     400\n",
              "    2019년    1100\n",
              "    2020년    3000\n",
              "    2021년    6000\n",
              "    2022년    9000\n",
              "순익  2015년      10\n",
              "    2016년      20\n",
              "    2017년      30\n",
              "    2018년      40\n",
              "    2019년      11\n",
              "    2020년      30\n",
              "    2021년      60\n",
              "    2022년      90\n",
              "dtype: int64"
            ]
          },
          "execution_count": 87,
          "metadata": {},
          "output_type": "execute_result"
        }
      ],
      "source": [
        "s = pd.Series(값, index=index)\n",
        "s"
      ]
    },
    {
      "cell_type": "code",
      "execution_count": 88,
      "metadata": {
        "colab": {
          "base_uri": "https://localhost:8080/"
        },
        "id": "6lvL6seoKqEc",
        "outputId": "37df0083-4ce5-4466-9455-37330ed67e48"
      },
      "outputs": [
        {
          "data": {
            "text/plain": [
              "2015년     100\n",
              "2016년     200\n",
              "2017년     300\n",
              "2018년     400\n",
              "2019년    1100\n",
              "2020년    3000\n",
              "2021년    6000\n",
              "2022년    9000\n",
              "dtype: int64"
            ]
          },
          "execution_count": 88,
          "metadata": {},
          "output_type": "execute_result"
        }
      ],
      "source": [
        "s['매출']"
      ]
    },
    {
      "cell_type": "code",
      "execution_count": 89,
      "metadata": {
        "colab": {
          "base_uri": "https://localhost:8080/"
        },
        "id": "XSEYflanK1zT",
        "outputId": "60bf1322-7e0f-400f-883b-d26ac3167f7a"
      },
      "outputs": [
        {
          "data": {
            "text/plain": [
              "2015년    10\n",
              "2016년    20\n",
              "2017년    30\n",
              "2018년    40\n",
              "2019년    11\n",
              "2020년    30\n",
              "2021년    60\n",
              "2022년    90\n",
              "dtype: int64"
            ]
          },
          "execution_count": 89,
          "metadata": {},
          "output_type": "execute_result"
        }
      ],
      "source": [
        "s['순익']"
      ]
    },
    {
      "cell_type": "code",
      "execution_count": 90,
      "metadata": {
        "colab": {
          "base_uri": "https://localhost:8080/"
        },
        "id": "R9rsdVu3KsLu",
        "outputId": "a1412bc7-89dd-4cf1-8e4a-d9633a35e09a"
      },
      "outputs": [
        {
          "data": {
            "text/plain": [
              "180"
            ]
          },
          "execution_count": 90,
          "metadata": {},
          "output_type": "execute_result"
        }
      ],
      "source": [
        "s['순익']\n",
        "s['순익'].sum()\n",
        "s['순익'][-3:].sum()"
      ]
    },
    {
      "cell_type": "markdown",
      "metadata": {
        "id": "juAG6Ui6TPEB"
      },
      "source": [
        "### 2.7 연산 함수와 집계 함수\n",
        "\n",
        "- 연산 함수\n",
        "    - add : 더하기 연산 함수\n",
        "    - sub : 빼기 연산 함수\n",
        "    - mul : 곱하기 연산 함수\n",
        "    - floordiv : 나누었을 때 몫을 구하는 함수\n",
        "    - div : 나누기 연산 함수\n",
        "    - mod : 나머지 구하는 연산 함수\n",
        "    - pow : 거듭제곱 연산 함수\n",
        "\n",
        "- 집계 함수\n",
        "    - count : 데이터 개수 구하는 함수\n",
        "    - min : 최소값 구하는 함수\n",
        "    - max  : 최대값 구하는 함수\n",
        "    - mean : 평균 구하는 함수\n",
        "    - median : 중앙값 구하는 함수\n",
        "    - std : 표준편차 구하는 함수\n",
        "    - var : 분산 구하는 함수\n",
        "    - mad : 절대 표준편차 구하는 함수\n",
        "    - describe : 기초 통계를 한 번에 볼 수 있는 함수"
      ]
    },
    {
      "cell_type": "code",
      "execution_count": 91,
      "metadata": {
        "id": "wvSsb-THTFSX"
      },
      "outputs": [],
      "source": [
        "s1 = pd.Series([100, 200, 300, 400, 500])\n",
        "s2 = pd.Series([10, 20, 30, 40, 50])"
      ]
    },
    {
      "cell_type": "code",
      "execution_count": 92,
      "metadata": {
        "colab": {
          "base_uri": "https://localhost:8080/"
        },
        "id": "_0rqh2T8UV2E",
        "outputId": "ec8dfeec-57cf-45d8-8b61-b1e86402de00"
      },
      "outputs": [
        {
          "data": {
            "text/plain": [
              "0    200\n",
              "1    300\n",
              "2    400\n",
              "3    500\n",
              "4    600\n",
              "dtype: int64"
            ]
          },
          "execution_count": 92,
          "metadata": {},
          "output_type": "execute_result"
        }
      ],
      "source": [
        "s1 + 100"
      ]
    },
    {
      "cell_type": "code",
      "execution_count": 93,
      "metadata": {
        "colab": {
          "base_uri": "https://localhost:8080/"
        },
        "id": "icXdS7lWUY3E",
        "outputId": "c1d3a4b8-6558-4c61-952b-e75a83cf240a"
      },
      "outputs": [
        {
          "data": {
            "text/plain": [
              "0    1100\n",
              "1    1200\n",
              "2    1300\n",
              "3    1400\n",
              "4    1500\n",
              "dtype: int64"
            ]
          },
          "execution_count": 93,
          "metadata": {},
          "output_type": "execute_result"
        }
      ],
      "source": [
        "s1.add(1000)"
      ]
    },
    {
      "cell_type": "code",
      "execution_count": 94,
      "metadata": {
        "colab": {
          "base_uri": "https://localhost:8080/"
        },
        "id": "kAbNpqzmUdiH",
        "outputId": "9c4b21e2-34b9-4b55-ee35-c5de0ab23e94"
      },
      "outputs": [
        {
          "data": {
            "text/plain": [
              "0    100\n",
              "1    200\n",
              "2    300\n",
              "3    400\n",
              "4    500\n",
              "dtype: int64"
            ]
          },
          "execution_count": 94,
          "metadata": {},
          "output_type": "execute_result"
        }
      ],
      "source": [
        "s1"
      ]
    },
    {
      "cell_type": "code",
      "execution_count": 95,
      "metadata": {
        "colab": {
          "base_uri": "https://localhost:8080/"
        },
        "id": "Fyz4mbxuUiNu",
        "outputId": "50a7b530-b553-44bd-e2f1-8355e24b9a54"
      },
      "outputs": [
        {
          "data": {
            "text/plain": [
              "0    110\n",
              "1    220\n",
              "2    330\n",
              "3    440\n",
              "4    550\n",
              "dtype: int64"
            ]
          },
          "execution_count": 95,
          "metadata": {},
          "output_type": "execute_result"
        }
      ],
      "source": [
        "s1 + s2"
      ]
    },
    {
      "cell_type": "code",
      "execution_count": 96,
      "metadata": {
        "colab": {
          "base_uri": "https://localhost:8080/"
        },
        "id": "5DhUWuyMUnAb",
        "outputId": "a51de138-6342-4e83-a31b-986f2e3a4a1e"
      },
      "outputs": [
        {
          "data": {
            "text/plain": [
              "0    110\n",
              "1    220\n",
              "2    330\n",
              "3    440\n",
              "4    550\n",
              "dtype: int64"
            ]
          },
          "execution_count": 96,
          "metadata": {},
          "output_type": "execute_result"
        }
      ],
      "source": [
        "s1.add(s2)"
      ]
    },
    {
      "cell_type": "code",
      "execution_count": 97,
      "metadata": {
        "colab": {
          "base_uri": "https://localhost:8080/"
        },
        "id": "Dz48h5RWUtRZ",
        "outputId": "efbaf2e4-7f9f-47a5-a656-6050aad91af8"
      },
      "outputs": [
        {
          "data": {
            "text/plain": [
              "0     90\n",
              "1    180\n",
              "2    270\n",
              "3    360\n",
              "4    450\n",
              "dtype: int64"
            ]
          },
          "execution_count": 97,
          "metadata": {},
          "output_type": "execute_result"
        }
      ],
      "source": [
        "s1 - s2"
      ]
    },
    {
      "cell_type": "code",
      "execution_count": 98,
      "metadata": {
        "colab": {
          "base_uri": "https://localhost:8080/"
        },
        "id": "tT_puyWYUuF-",
        "outputId": "1215531c-a5f7-4901-b70a-6e6d1763bb15"
      },
      "outputs": [
        {
          "data": {
            "text/plain": [
              "0     90\n",
              "1    180\n",
              "2    270\n",
              "3    360\n",
              "4    450\n",
              "dtype: int64"
            ]
          },
          "execution_count": 98,
          "metadata": {},
          "output_type": "execute_result"
        }
      ],
      "source": [
        "s1.sub(s2)"
      ]
    },
    {
      "cell_type": "code",
      "execution_count": 99,
      "metadata": {
        "colab": {
          "base_uri": "https://localhost:8080/"
        },
        "id": "ZFYbfLF0U1T_",
        "outputId": "62ae33fb-356b-4781-d125-ee8201916280"
      },
      "outputs": [
        {
          "data": {
            "text/plain": [
              "0     10000\n",
              "1     40000\n",
              "2     90000\n",
              "3    160000\n",
              "4    250000\n",
              "dtype: int64"
            ]
          },
          "execution_count": 99,
          "metadata": {},
          "output_type": "execute_result"
        }
      ],
      "source": [
        "s1 * s2\n",
        "s1 / s2\n",
        "s1 // s2\n",
        "s1 % 3\n",
        "# s1 % '10' #error\n",
        "s1 ** 2"
      ]
    },
    {
      "cell_type": "code",
      "execution_count": 100,
      "metadata": {
        "colab": {
          "base_uri": "https://localhost:8080/"
        },
        "id": "-dih6ib4U2gQ",
        "outputId": "e54812a0-45f9-4091-8834-4afecea64e27"
      },
      "outputs": [
        {
          "data": {
            "text/plain": [
              "0     10000\n",
              "1     40000\n",
              "2     90000\n",
              "3    160000\n",
              "4    250000\n",
              "dtype: int64"
            ]
          },
          "execution_count": 100,
          "metadata": {},
          "output_type": "execute_result"
        }
      ],
      "source": [
        "s1.mul(s2)\n",
        "s1.div(s2)\n",
        "s1.floordiv(s2)\n",
        "s1.mod(3)\n",
        "# s1.mod('3') #error\n",
        "s1.pow(2)"
      ]
    },
    {
      "cell_type": "code",
      "execution_count": 101,
      "metadata": {
        "colab": {
          "base_uri": "https://localhost:8080/"
        },
        "id": "7JbolIKfWGkw",
        "outputId": "cbadb54e-69f2-4ffa-965a-529dd580d0bf"
      },
      "outputs": [
        {
          "data": {
            "text/plain": [
              "25000.0"
            ]
          },
          "execution_count": 101,
          "metadata": {},
          "output_type": "execute_result"
        }
      ],
      "source": [
        "s1.min()\n",
        "s1.max()\n",
        "s1.mean() #평균\n",
        "s1.median() #중앙값\n",
        "s1.sum()\n",
        "s1.std() #표준편차\n",
        "s1.var() #분산\n",
        "# s1.mad() #절대 표준편차 # pandas 1.5.0 버전 이후로 사용하지 않음"
      ]
    },
    {
      "cell_type": "code",
      "execution_count": 102,
      "metadata": {
        "colab": {
          "base_uri": "https://localhost:8080/"
        },
        "id": "_WIQW7KvWslN",
        "outputId": "e7b425b9-d0ca-4bc5-fdb3-2ed45a3563cb"
      },
      "outputs": [
        {
          "data": {
            "text/plain": [
              "count      5.000000\n",
              "mean     300.000000\n",
              "std      158.113883\n",
              "min      100.000000\n",
              "25%      200.000000\n",
              "50%      300.000000\n",
              "75%      400.000000\n",
              "max      500.000000\n",
              "dtype: float64"
            ]
          },
          "execution_count": 102,
          "metadata": {},
          "output_type": "execute_result"
        }
      ],
      "source": [
        "s1.describe() #기초 통계를 한 번에 볼 수 있음"
      ]
    },
    {
      "cell_type": "code",
      "execution_count": 103,
      "metadata": {
        "colab": {
          "base_uri": "https://localhost:8080/"
        },
        "id": "15cFvVW8W2eZ",
        "outputId": "408ed439-6a7e-4988-99c0-bd5fd0f0e252"
      },
      "outputs": [
        {
          "data": {
            "text/plain": [
              "0    0\n",
              "1    1\n",
              "2    2\n",
              "3    3\n",
              "4    4\n",
              "5    5\n",
              "6    6\n",
              "7    7\n",
              "8    8\n",
              "9    9\n",
              "dtype: int64"
            ]
          },
          "execution_count": 103,
          "metadata": {},
          "output_type": "execute_result"
        }
      ],
      "source": [
        "s = pd.Series(range(100))\n",
        "s.head() # default 5\n",
        "s.head(10)"
      ]
    },
    {
      "cell_type": "code",
      "execution_count": 104,
      "metadata": {
        "colab": {
          "base_uri": "https://localhost:8080/"
        },
        "id": "yyyqdTL1XInd",
        "outputId": "387d2420-3b65-4dc0-a61d-a4765e95e366"
      },
      "outputs": [
        {
          "data": {
            "text/plain": [
              "90    90\n",
              "91    91\n",
              "92    92\n",
              "93    93\n",
              "94    94\n",
              "95    95\n",
              "96    96\n",
              "97    97\n",
              "98    98\n",
              "99    99\n",
              "dtype: int64"
            ]
          },
          "execution_count": 104,
          "metadata": {},
          "output_type": "execute_result"
        }
      ],
      "source": [
        "s.tail() # default 5\n",
        "s.tail(10)"
      ]
    },
    {
      "cell_type": "markdown",
      "metadata": {
        "id": "OIc4Cxv3YgTg"
      },
      "source": [
        "### 2.8 데이터 결합\n",
        "\n",
        "- concat : 데이터 프레임이나 시리즈의 결합\n",
        "    - axis=0 or 1 : 아래로 데이터 연결 / 옆으로 데이터 연결\n",
        "    - verify_integrity=True일 때, 인덱스의 중복이 존재하면 error 출력\n",
        "    - ignore_index : 기존의 인덱스를 무시하고 차례대로 인덱스 출력\n",
        "    - join='inner' : 결합하는 데이터들의 공통 부분만 출력\n",
        "    - join='outer' : 결합하는 데이터들의 모든 값 출력\n",
        "- append : 마지막 행에 데이터를 추가\n",
        "\n",
        "※ concatenate : 배열 결합"
      ]
    },
    {
      "cell_type": "code",
      "execution_count": 105,
      "metadata": {
        "colab": {
          "base_uri": "https://localhost:8080/"
        },
        "id": "k0neAx_ZYsyd",
        "outputId": "32842235-abb6-460c-cda1-e3c8b529a131"
      },
      "outputs": [
        {
          "data": {
            "text/plain": [
              "array([[0, 1, 2, 3, 4],\n",
              "       [5, 6, 7, 8, 9]])"
            ]
          },
          "execution_count": 105,
          "metadata": {},
          "output_type": "execute_result"
        }
      ],
      "source": [
        "a = np.arange(10).reshape(2, 5)\n",
        "b = np.arange(10).reshape(2, 5)\n",
        "c = np.arange(10).reshape(2, 5)\n",
        "a"
      ]
    },
    {
      "cell_type": "code",
      "execution_count": 106,
      "metadata": {
        "colab": {
          "base_uri": "https://localhost:8080/"
        },
        "id": "XciX57MjZm_p",
        "outputId": "b2d448d7-df18-4c03-e8e1-ae4aa66c087e"
      },
      "outputs": [
        {
          "data": {
            "text/plain": [
              "array([[0, 1, 2, 3, 4],\n",
              "       [5, 6, 7, 8, 9],\n",
              "       [0, 1, 2, 3, 4],\n",
              "       [5, 6, 7, 8, 9],\n",
              "       [0, 1, 2, 3, 4],\n",
              "       [5, 6, 7, 8, 9]])"
            ]
          },
          "execution_count": 106,
          "metadata": {},
          "output_type": "execute_result"
        }
      ],
      "source": [
        "np.concatenate([a, b, c])"
      ]
    },
    {
      "cell_type": "code",
      "execution_count": 107,
      "metadata": {
        "colab": {
          "base_uri": "https://localhost:8080/"
        },
        "id": "zZVGP7WsZrCI",
        "outputId": "ad517850-fc4f-43fa-e76d-f8f3fc1d82b6"
      },
      "outputs": [
        {
          "data": {
            "text/plain": [
              "array([[0, 1, 2, 3, 4],\n",
              "       [5, 6, 7, 8, 9],\n",
              "       [0, 1, 2, 3, 4],\n",
              "       [5, 6, 7, 8, 9],\n",
              "       [0, 1, 2, 3, 4],\n",
              "       [5, 6, 7, 8, 9]])"
            ]
          },
          "execution_count": 107,
          "metadata": {},
          "output_type": "execute_result"
        }
      ],
      "source": [
        "np.concatenate([a, b, c], axis=0)"
      ]
    },
    {
      "cell_type": "code",
      "execution_count": 108,
      "metadata": {
        "colab": {
          "base_uri": "https://localhost:8080/"
        },
        "id": "V3aKyT2jZ2aa",
        "outputId": "03228a63-e5e5-4076-e093-e5e5c7839703"
      },
      "outputs": [
        {
          "data": {
            "text/plain": [
              "array([[0, 1, 2, 3, 4, 0, 1, 2, 3, 4, 0, 1, 2, 3, 4],\n",
              "       [5, 6, 7, 8, 9, 5, 6, 7, 8, 9, 5, 6, 7, 8, 9]])"
            ]
          },
          "execution_count": 108,
          "metadata": {},
          "output_type": "execute_result"
        }
      ],
      "source": [
        "np.concatenate([a, b, c], axis=1)"
      ]
    },
    {
      "cell_type": "code",
      "execution_count": 109,
      "metadata": {
        "colab": {
          "base_uri": "https://localhost:8080/"
        },
        "id": "Ro9QD9efZ5qU",
        "outputId": "00c6a846-34ed-4c2e-ef6c-b751bd2596b0"
      },
      "outputs": [
        {
          "data": {
            "text/plain": [
              "0    A\n",
              "1    B\n",
              "2    C\n",
              "3    D\n",
              "4    E\n",
              "dtype: object"
            ]
          },
          "execution_count": 109,
          "metadata": {},
          "output_type": "execute_result"
        }
      ],
      "source": [
        "a = pd.Series(['A', 'B', 'C', 'D', 'E'])\n",
        "b = pd.Series(['A', 'B', 'C', 'D', 'E'])\n",
        "c = pd.Series(['A', 'B', 'C', 'D', 'E'])\n",
        "a"
      ]
    },
    {
      "cell_type": "code",
      "execution_count": 110,
      "metadata": {
        "colab": {
          "base_uri": "https://localhost:8080/"
        },
        "id": "boQZvGeYaHvC",
        "outputId": "e0c5e534-376a-4d2e-9386-5da933c779ac"
      },
      "outputs": [
        {
          "data": {
            "text/plain": [
              "array(['A', 'B', 'C', 'D', 'E', 'A', 'B', 'C', 'D', 'E', 'A', 'B', 'C',\n",
              "       'D', 'E'], dtype=object)"
            ]
          },
          "execution_count": 110,
          "metadata": {},
          "output_type": "execute_result"
        }
      ],
      "source": [
        "np.concatenate([a, b, c], axis=0)"
      ]
    },
    {
      "cell_type": "code",
      "execution_count": 126,
      "metadata": {
        "colab": {
          "base_uri": "https://localhost:8080/"
        },
        "id": "YkbMi1gvaNlP",
        "outputId": "279e3f90-5ccb-48f5-8f7d-96db393f3dd1"
      },
      "outputs": [
        {
          "data": {
            "text/plain": [
              "0    [A, B]\n",
              "1    [C, D]\n",
              "2    [E, F]\n",
              "dtype: object"
            ]
          },
          "execution_count": 126,
          "metadata": {},
          "output_type": "execute_result"
        }
      ],
      "source": [
        "a = pd.Series([['A', 'B'], ['C', 'D'], ['E', 'F']])\n",
        "b = pd.Series([['A', 'B'], ['C', 'D'], ['E', 'F']])\n",
        "c = pd.Series([['A', 'B'], ['C', 'D'], ['E', 'F']])\n",
        "a"
      ]
    },
    {
      "cell_type": "code",
      "execution_count": 127,
      "metadata": {
        "colab": {
          "base_uri": "https://localhost:8080/"
        },
        "id": "pWyaXh_kacJQ",
        "outputId": "f7641699-abf3-4072-8484-164e7f3f6c8a"
      },
      "outputs": [
        {
          "data": {
            "text/plain": [
              "array([list(['A', 'B']), list(['C', 'D']), list(['E', 'F']),\n",
              "       list(['A', 'B']), list(['C', 'D']), list(['E', 'F']),\n",
              "       list(['A', 'B']), list(['C', 'D']), list(['E', 'F'])], dtype=object)"
            ]
          },
          "execution_count": 127,
          "metadata": {},
          "output_type": "execute_result"
        }
      ],
      "source": [
        "np.concatenate([a, b, c], axis=0)"
      ]
    },
    {
      "cell_type": "code",
      "execution_count": 113,
      "metadata": {
        "id": "nP4AlKEKac1-"
      },
      "outputs": [],
      "source": [
        "# np.concatenate([a, b, c], axis=1) #error"
      ]
    },
    {
      "cell_type": "code",
      "execution_count": 128,
      "metadata": {
        "colab": {
          "base_uri": "https://localhost:8080/"
        },
        "id": "lvLTr11aatqk",
        "outputId": "f2c67336-e21b-4f70-9b2e-36caa7c8b520"
      },
      "outputs": [
        {
          "data": {
            "text/plain": [
              "0    A\n",
              "1    B\n",
              "2    C\n",
              "3    D\n",
              "4    E\n",
              "dtype: object"
            ]
          },
          "execution_count": 128,
          "metadata": {},
          "output_type": "execute_result"
        }
      ],
      "source": [
        "a = pd.Series(['A', 'B', 'C', 'D', 'E'])\n",
        "b = pd.Series(['A', 'B', 'C', 'D', 'E'])\n",
        "c = pd.Series(['A', 'B', 'C', 'D', 'E'])\n",
        "a"
      ]
    },
    {
      "cell_type": "code",
      "execution_count": 131,
      "metadata": {
        "colab": {
          "base_uri": "https://localhost:8080/",
          "height": 35
        },
        "id": "j611gXDyaubc",
        "outputId": "c875b8b4-9947-4730-e75c-f374c5e3148b"
      },
      "outputs": [
        {
          "data": {
            "text/plain": [
              "'D'"
            ]
          },
          "execution_count": 131,
          "metadata": {},
          "output_type": "execute_result"
        }
      ],
      "source": [
        "np.concatenate([a, b, c])[3]"
      ]
    },
    {
      "cell_type": "code",
      "execution_count": 116,
      "metadata": {
        "colab": {
          "base_uri": "https://localhost:8080/"
        },
        "id": "1T6afIJEa1ll",
        "outputId": "956b0d41-403c-4a9a-c9f8-9e57a8fd9913"
      },
      "outputs": [
        {
          "data": {
            "text/plain": [
              "0    A\n",
              "1    B\n",
              "2    C\n",
              "3    D\n",
              "4    E\n",
              "0    A\n",
              "1    B\n",
              "2    C\n",
              "3    D\n",
              "4    E\n",
              "0    A\n",
              "1    B\n",
              "2    C\n",
              "3    D\n",
              "4    E\n",
              "dtype: object"
            ]
          },
          "execution_count": 116,
          "metadata": {},
          "output_type": "execute_result"
        }
      ],
      "source": [
        "pd.concat([a, b, c])"
      ]
    },
    {
      "cell_type": "code",
      "execution_count": 132,
      "metadata": {
        "colab": {
          "base_uri": "https://localhost:8080/"
        },
        "id": "nSd4vGzra9Y1",
        "outputId": "ab4b9285-c793-4a47-a440-83c2fa2a964f"
      },
      "outputs": [
        {
          "data": {
            "text/plain": [
              "pandas.core.series.Series"
            ]
          },
          "execution_count": 132,
          "metadata": {},
          "output_type": "execute_result"
        }
      ],
      "source": [
        "type(pd.concat([a, b, c]))"
      ]
    },
    {
      "cell_type": "code",
      "execution_count": 133,
      "metadata": {
        "colab": {
          "base_uri": "https://localhost:8080/"
        },
        "id": "wpXcnavpbI7E",
        "outputId": "103acf6b-48f3-4fe6-dd19-b6ef023a973c"
      },
      "outputs": [
        {
          "data": {
            "text/plain": [
              "3    D\n",
              "3    D\n",
              "3    D\n",
              "dtype: object"
            ]
          },
          "execution_count": 133,
          "metadata": {},
          "output_type": "execute_result"
        }
      ],
      "source": [
        "pd.concat([a, b, c])[3]"
      ]
    },
    {
      "cell_type": "code",
      "execution_count": 136,
      "metadata": {
        "colab": {
          "base_uri": "https://localhost:8080/"
        },
        "id": "JEAhbFLbbZzR",
        "outputId": "ada1c0ed-b649-47db-a4d9-a2e11fda86eb"
      },
      "outputs": [
        {
          "data": {
            "text/plain": [
              "0    A\n",
              "1    B\n",
              "2    C\n",
              "3    D\n",
              "4    E\n",
              "0    A\n",
              "1    B\n",
              "2    C\n",
              "3    D\n",
              "4    E\n",
              "0    A\n",
              "1    B\n",
              "2    C\n",
              "3    D\n",
              "4    E\n",
              "dtype: object"
            ]
          },
          "execution_count": 136,
          "metadata": {},
          "output_type": "execute_result"
        }
      ],
      "source": [
        "pd.concat([a, b, c], axis=0)"
      ]
    },
    {
      "cell_type": "code",
      "execution_count": 137,
      "metadata": {
        "colab": {
          "base_uri": "https://localhost:8080/",
          "height": 206
        },
        "id": "N1bzmKH-bdUS",
        "outputId": "5a3ec51e-1cf1-4682-e434-c794a0e1870d"
      },
      "outputs": [
        {
          "data": {
            "text/html": [
              "<div>\n",
              "<style scoped>\n",
              "    .dataframe tbody tr th:only-of-type {\n",
              "        vertical-align: middle;\n",
              "    }\n",
              "\n",
              "    .dataframe tbody tr th {\n",
              "        vertical-align: top;\n",
              "    }\n",
              "\n",
              "    .dataframe thead th {\n",
              "        text-align: right;\n",
              "    }\n",
              "</style>\n",
              "<table border=\"1\" class=\"dataframe\">\n",
              "  <thead>\n",
              "    <tr style=\"text-align: right;\">\n",
              "      <th></th>\n",
              "      <th>0</th>\n",
              "      <th>1</th>\n",
              "      <th>2</th>\n",
              "    </tr>\n",
              "  </thead>\n",
              "  <tbody>\n",
              "    <tr>\n",
              "      <th>0</th>\n",
              "      <td>A</td>\n",
              "      <td>A</td>\n",
              "      <td>A</td>\n",
              "    </tr>\n",
              "    <tr>\n",
              "      <th>1</th>\n",
              "      <td>B</td>\n",
              "      <td>B</td>\n",
              "      <td>B</td>\n",
              "    </tr>\n",
              "    <tr>\n",
              "      <th>2</th>\n",
              "      <td>C</td>\n",
              "      <td>C</td>\n",
              "      <td>C</td>\n",
              "    </tr>\n",
              "    <tr>\n",
              "      <th>3</th>\n",
              "      <td>D</td>\n",
              "      <td>D</td>\n",
              "      <td>D</td>\n",
              "    </tr>\n",
              "    <tr>\n",
              "      <th>4</th>\n",
              "      <td>E</td>\n",
              "      <td>E</td>\n",
              "      <td>E</td>\n",
              "    </tr>\n",
              "  </tbody>\n",
              "</table>\n",
              "</div>"
            ],
            "text/plain": [
              "   0  1  2\n",
              "0  A  A  A\n",
              "1  B  B  B\n",
              "2  C  C  C\n",
              "3  D  D  D\n",
              "4  E  E  E"
            ]
          },
          "execution_count": 137,
          "metadata": {},
          "output_type": "execute_result"
        }
      ],
      "source": [
        "pd.concat([a, b, c], axis=1)"
      ]
    },
    {
      "cell_type": "code",
      "execution_count": 138,
      "metadata": {
        "colab": {
          "base_uri": "https://localhost:8080/"
        },
        "id": "HHPhj2DbbiRA",
        "outputId": "f8033db6-9a58-4504-aa9c-6373455ce37e"
      },
      "outputs": [
        {
          "data": {
            "text/plain": [
              "pandas.core.frame.DataFrame"
            ]
          },
          "execution_count": 138,
          "metadata": {},
          "output_type": "execute_result"
        }
      ],
      "source": [
        "type(pd.concat([a, b, c], axis=1))"
      ]
    },
    {
      "cell_type": "code",
      "execution_count": 140,
      "metadata": {
        "colab": {
          "base_uri": "https://localhost:8080/"
        },
        "id": "JXNhSJ4SbnX8",
        "outputId": "ec47ebdd-d65b-4ce0-be77-5dbba30d6011"
      },
      "outputs": [
        {
          "data": {
            "text/plain": [
              "0    A\n",
              "1    B\n",
              "2    C\n",
              "3    D\n",
              "4    E\n",
              "0    A\n",
              "1    B\n",
              "2    C\n",
              "3    D\n",
              "4    E\n",
              "0    A\n",
              "1    B\n",
              "2    C\n",
              "3    D\n",
              "4    E\n",
              "dtype: object"
            ]
          },
          "execution_count": 140,
          "metadata": {},
          "output_type": "execute_result"
        }
      ],
      "source": [
        "pd.concat([a, b, c], verify_integrity=False) # verify_integrity=True일 때, 인덱스의 중복이 존재하면 error 출력"
      ]
    },
    {
      "cell_type": "code",
      "execution_count": 145,
      "metadata": {
        "colab": {
          "base_uri": "https://localhost:8080/"
        },
        "id": "o8g7VGOQcUkJ",
        "outputId": "705330f5-26a1-4310-e118-8f5aaa00dc4f"
      },
      "outputs": [
        {
          "data": {
            "text/plain": [
              "0     A\n",
              "1     B\n",
              "2     C\n",
              "3     D\n",
              "4     E\n",
              "5     A\n",
              "6     B\n",
              "7     C\n",
              "8     D\n",
              "9     E\n",
              "10    A\n",
              "11    B\n",
              "12    C\n",
              "13    D\n",
              "14    E\n",
              "dtype: object"
            ]
          },
          "execution_count": 145,
          "metadata": {},
          "output_type": "execute_result"
        }
      ],
      "source": [
        "pd.concat([a, b, c], verify_integrity=True, ignore_index=True) \n",
        "# verify_integrity=True일 때, 인덱스의 중복이 존재하면 error 출력\n",
        "# ignore_index : 기존의 인덱스를 무시하고 차례대로 인덱스 출력"
      ]
    },
    {
      "cell_type": "code",
      "execution_count": 148,
      "metadata": {
        "colab": {
          "base_uri": "https://localhost:8080/"
        },
        "id": "WX9Gs-ySe_w6",
        "outputId": "d97bed91-046c-4607-9c77-553784f4e3e1"
      },
      "outputs": [],
      "source": [
        "# a.append(b) # pandas 2.0 버전 이후로 사용하지 않음"
      ]
    },
    {
      "cell_type": "code",
      "execution_count": 149,
      "metadata": {
        "colab": {
          "base_uri": "https://localhost:8080/",
          "height": 206
        },
        "id": "YaL-3mdMfK1V",
        "outputId": "45eeeb8c-7a85-402e-cc9d-07bfb308c786"
      },
      "outputs": [
        {
          "data": {
            "text/html": [
              "<div>\n",
              "<style scoped>\n",
              "    .dataframe tbody tr th:only-of-type {\n",
              "        vertical-align: middle;\n",
              "    }\n",
              "\n",
              "    .dataframe tbody tr th {\n",
              "        vertical-align: top;\n",
              "    }\n",
              "\n",
              "    .dataframe thead th {\n",
              "        text-align: right;\n",
              "    }\n",
              "</style>\n",
              "<table border=\"1\" class=\"dataframe\">\n",
              "  <thead>\n",
              "    <tr style=\"text-align: right;\">\n",
              "      <th></th>\n",
              "      <th>0</th>\n",
              "      <th>1</th>\n",
              "      <th>2</th>\n",
              "    </tr>\n",
              "  </thead>\n",
              "  <tbody>\n",
              "    <tr>\n",
              "      <th>0</th>\n",
              "      <td>A</td>\n",
              "      <td>A</td>\n",
              "      <td>A</td>\n",
              "    </tr>\n",
              "    <tr>\n",
              "      <th>1</th>\n",
              "      <td>B</td>\n",
              "      <td>B</td>\n",
              "      <td>B</td>\n",
              "    </tr>\n",
              "    <tr>\n",
              "      <th>2</th>\n",
              "      <td>C</td>\n",
              "      <td>C</td>\n",
              "      <td>C</td>\n",
              "    </tr>\n",
              "    <tr>\n",
              "      <th>3</th>\n",
              "      <td>D</td>\n",
              "      <td>D</td>\n",
              "      <td>D</td>\n",
              "    </tr>\n",
              "    <tr>\n",
              "      <th>4</th>\n",
              "      <td>E</td>\n",
              "      <td>NaN</td>\n",
              "      <td>NaN</td>\n",
              "    </tr>\n",
              "  </tbody>\n",
              "</table>\n",
              "</div>"
            ],
            "text/plain": [
              "   0    1    2\n",
              "0  A    A    A\n",
              "1  B    B    B\n",
              "2  C    C    C\n",
              "3  D    D    D\n",
              "4  E  NaN  NaN"
            ]
          },
          "execution_count": 149,
          "metadata": {},
          "output_type": "execute_result"
        }
      ],
      "source": [
        "a = pd.Series(['A', 'B', 'C', 'D', 'E'])\n",
        "b = pd.Series(['A', 'B', 'C', 'D'])\n",
        "c = pd.Series(['A', 'B', 'C', 'D'])\n",
        "\n",
        "pd.concat([a, b, c], axis=1)"
      ]
    },
    {
      "cell_type": "code",
      "execution_count": 150,
      "metadata": {
        "colab": {
          "base_uri": "https://localhost:8080/",
          "height": 175
        },
        "id": "bLS2tIjcfcVK",
        "outputId": "68508b0e-e06d-4953-c964-5a0d0acd6fe4"
      },
      "outputs": [
        {
          "data": {
            "text/html": [
              "<div>\n",
              "<style scoped>\n",
              "    .dataframe tbody tr th:only-of-type {\n",
              "        vertical-align: middle;\n",
              "    }\n",
              "\n",
              "    .dataframe tbody tr th {\n",
              "        vertical-align: top;\n",
              "    }\n",
              "\n",
              "    .dataframe thead th {\n",
              "        text-align: right;\n",
              "    }\n",
              "</style>\n",
              "<table border=\"1\" class=\"dataframe\">\n",
              "  <thead>\n",
              "    <tr style=\"text-align: right;\">\n",
              "      <th></th>\n",
              "      <th>0</th>\n",
              "      <th>1</th>\n",
              "      <th>2</th>\n",
              "    </tr>\n",
              "  </thead>\n",
              "  <tbody>\n",
              "    <tr>\n",
              "      <th>0</th>\n",
              "      <td>A</td>\n",
              "      <td>A</td>\n",
              "      <td>A</td>\n",
              "    </tr>\n",
              "    <tr>\n",
              "      <th>1</th>\n",
              "      <td>B</td>\n",
              "      <td>B</td>\n",
              "      <td>B</td>\n",
              "    </tr>\n",
              "    <tr>\n",
              "      <th>2</th>\n",
              "      <td>C</td>\n",
              "      <td>C</td>\n",
              "      <td>C</td>\n",
              "    </tr>\n",
              "    <tr>\n",
              "      <th>3</th>\n",
              "      <td>D</td>\n",
              "      <td>D</td>\n",
              "      <td>D</td>\n",
              "    </tr>\n",
              "  </tbody>\n",
              "</table>\n",
              "</div>"
            ],
            "text/plain": [
              "   0  1  2\n",
              "0  A  A  A\n",
              "1  B  B  B\n",
              "2  C  C  C\n",
              "3  D  D  D"
            ]
          },
          "execution_count": 150,
          "metadata": {},
          "output_type": "execute_result"
        }
      ],
      "source": [
        "a = pd.Series(['A', 'B', 'C', 'D', 'E'])\n",
        "b = pd.Series(['A', 'B', 'C', 'D'])\n",
        "c = pd.Series(['A', 'B', 'C', 'D'])\n",
        "\n",
        "pd.concat([a, b, c], axis=1, join='inner') #join='inner' : 결합하는 데이터들의 공통 부분만 출력"
      ]
    },
    {
      "cell_type": "code",
      "execution_count": 151,
      "metadata": {
        "colab": {
          "base_uri": "https://localhost:8080/",
          "height": 206
        },
        "id": "lYVtaBqHfjCq",
        "outputId": "cf1a2ba9-9cda-47b3-e42c-3d130c0a9073"
      },
      "outputs": [
        {
          "data": {
            "text/html": [
              "<div>\n",
              "<style scoped>\n",
              "    .dataframe tbody tr th:only-of-type {\n",
              "        vertical-align: middle;\n",
              "    }\n",
              "\n",
              "    .dataframe tbody tr th {\n",
              "        vertical-align: top;\n",
              "    }\n",
              "\n",
              "    .dataframe thead th {\n",
              "        text-align: right;\n",
              "    }\n",
              "</style>\n",
              "<table border=\"1\" class=\"dataframe\">\n",
              "  <thead>\n",
              "    <tr style=\"text-align: right;\">\n",
              "      <th></th>\n",
              "      <th>0</th>\n",
              "      <th>1</th>\n",
              "      <th>2</th>\n",
              "    </tr>\n",
              "  </thead>\n",
              "  <tbody>\n",
              "    <tr>\n",
              "      <th>0</th>\n",
              "      <td>A</td>\n",
              "      <td>A</td>\n",
              "      <td>A</td>\n",
              "    </tr>\n",
              "    <tr>\n",
              "      <th>1</th>\n",
              "      <td>B</td>\n",
              "      <td>B</td>\n",
              "      <td>B</td>\n",
              "    </tr>\n",
              "    <tr>\n",
              "      <th>2</th>\n",
              "      <td>C</td>\n",
              "      <td>C</td>\n",
              "      <td>C</td>\n",
              "    </tr>\n",
              "    <tr>\n",
              "      <th>3</th>\n",
              "      <td>D</td>\n",
              "      <td>D</td>\n",
              "      <td>D</td>\n",
              "    </tr>\n",
              "    <tr>\n",
              "      <th>4</th>\n",
              "      <td>E</td>\n",
              "      <td>NaN</td>\n",
              "      <td>NaN</td>\n",
              "    </tr>\n",
              "  </tbody>\n",
              "</table>\n",
              "</div>"
            ],
            "text/plain": [
              "   0    1    2\n",
              "0  A    A    A\n",
              "1  B    B    B\n",
              "2  C    C    C\n",
              "3  D    D    D\n",
              "4  E  NaN  NaN"
            ]
          },
          "execution_count": 151,
          "metadata": {},
          "output_type": "execute_result"
        }
      ],
      "source": [
        "pd.concat([a, b, c], axis=1, join='outer') # join='outer' : 결합하는 데이터들의 모든 값 출력"
      ]
    },
    {
      "cell_type": "markdown",
      "metadata": {
        "id": "p0FLVh_LgEQg"
      },
      "source": [
        "## 3 DataFrame\n",
        "\n",
        "- 다차원 배열(Series의 특성을 가지고 있는 2차원 배열)\n",
        "- 가장 기본적인 데이터 구조"
      ]
    },
    {
      "cell_type": "markdown",
      "metadata": {
        "id": "KnRC6DjXgOO_"
      },
      "source": [
        "### 3.1 DataFrame의 형태"
      ]
    },
    {
      "cell_type": "markdown",
      "metadata": {
        "id": "vw4uXrgdgvmG"
      },
      "source": [
        "```\n",
        "연차  연도      매출    순익   직원수\n",
        "1     2015   1000000  100001        1\n",
        "2     2016   2000000  200001        2\n",
        "3     2017   3000000  300001        4\n",
        "4     2018   4000000  400001        8\n",
        "5     2019   8000000  800001       16\n",
        "6     2020  16000000 1600001       32\n",
        "```"
      ]
    },
    {
      "cell_type": "code",
      "execution_count": 154,
      "metadata": {
        "id": "L045GJOWgJGW"
      },
      "outputs": [],
      "source": [
        "rawData = {\n",
        "    '연차':[1, 2, 3, 4, 5, 6],\n",
        "    '연도':[2015, 2016, 2017, 2018, 2019, 2020],\n",
        "    '매출':[1000000, 2000000, 3000000, 4000000, 8000000, 16000000],\n",
        "    '순익':[100001, 200001, 300001, 400001, 800001, 1600001],\n",
        "    '직원수':[1, 2, 4, 8, 16, 32]\n",
        "}"
      ]
    },
    {
      "cell_type": "code",
      "execution_count": 155,
      "metadata": {
        "colab": {
          "base_uri": "https://localhost:8080/",
          "height": 237
        },
        "id": "WI__NIEUg9Ok",
        "outputId": "ebf2f371-eb93-4c0b-9f49-26779fc4eb6d"
      },
      "outputs": [
        {
          "data": {
            "text/html": [
              "<div>\n",
              "<style scoped>\n",
              "    .dataframe tbody tr th:only-of-type {\n",
              "        vertical-align: middle;\n",
              "    }\n",
              "\n",
              "    .dataframe tbody tr th {\n",
              "        vertical-align: top;\n",
              "    }\n",
              "\n",
              "    .dataframe thead th {\n",
              "        text-align: right;\n",
              "    }\n",
              "</style>\n",
              "<table border=\"1\" class=\"dataframe\">\n",
              "  <thead>\n",
              "    <tr style=\"text-align: right;\">\n",
              "      <th></th>\n",
              "      <th>연차</th>\n",
              "      <th>연도</th>\n",
              "      <th>매출</th>\n",
              "      <th>순익</th>\n",
              "      <th>직원수</th>\n",
              "    </tr>\n",
              "  </thead>\n",
              "  <tbody>\n",
              "    <tr>\n",
              "      <th>0</th>\n",
              "      <td>1</td>\n",
              "      <td>2015</td>\n",
              "      <td>1000000</td>\n",
              "      <td>100001</td>\n",
              "      <td>1</td>\n",
              "    </tr>\n",
              "    <tr>\n",
              "      <th>1</th>\n",
              "      <td>2</td>\n",
              "      <td>2016</td>\n",
              "      <td>2000000</td>\n",
              "      <td>200001</td>\n",
              "      <td>2</td>\n",
              "    </tr>\n",
              "    <tr>\n",
              "      <th>2</th>\n",
              "      <td>3</td>\n",
              "      <td>2017</td>\n",
              "      <td>3000000</td>\n",
              "      <td>300001</td>\n",
              "      <td>4</td>\n",
              "    </tr>\n",
              "    <tr>\n",
              "      <th>3</th>\n",
              "      <td>4</td>\n",
              "      <td>2018</td>\n",
              "      <td>4000000</td>\n",
              "      <td>400001</td>\n",
              "      <td>8</td>\n",
              "    </tr>\n",
              "    <tr>\n",
              "      <th>4</th>\n",
              "      <td>5</td>\n",
              "      <td>2019</td>\n",
              "      <td>8000000</td>\n",
              "      <td>800001</td>\n",
              "      <td>16</td>\n",
              "    </tr>\n",
              "    <tr>\n",
              "      <th>5</th>\n",
              "      <td>6</td>\n",
              "      <td>2020</td>\n",
              "      <td>16000000</td>\n",
              "      <td>1600001</td>\n",
              "      <td>32</td>\n",
              "    </tr>\n",
              "  </tbody>\n",
              "</table>\n",
              "</div>"
            ],
            "text/plain": [
              "   연차    연도        매출       순익  직원수\n",
              "0   1  2015   1000000   100001    1\n",
              "1   2  2016   2000000   200001    2\n",
              "2   3  2017   3000000   300001    4\n",
              "3   4  2018   4000000   400001    8\n",
              "4   5  2019   8000000   800001   16\n",
              "5   6  2020  16000000  1600001   32"
            ]
          },
          "execution_count": 155,
          "metadata": {},
          "output_type": "execute_result"
        }
      ],
      "source": [
        "pd.DataFrame(rawData)"
      ]
    },
    {
      "cell_type": "code",
      "execution_count": 156,
      "metadata": {
        "colab": {
          "base_uri": "https://localhost:8080/"
        },
        "id": "kAWNSBCVhGH_",
        "outputId": "5e560bdd-bbb9-4323-c586-5ebb638e87cd"
      },
      "outputs": [
        {
          "data": {
            "text/plain": [
              "pandas.core.frame.DataFrame"
            ]
          },
          "execution_count": 156,
          "metadata": {},
          "output_type": "execute_result"
        }
      ],
      "source": [
        "type(pd.DataFrame(rawData))"
      ]
    },
    {
      "cell_type": "code",
      "execution_count": 159,
      "metadata": {
        "colab": {
          "base_uri": "https://localhost:8080/"
        },
        "id": "yMSONWIphN4V",
        "outputId": "00dce712-2b57-4434-db8d-6f4b04df7530"
      },
      "outputs": [
        {
          "data": {
            "text/plain": [
              "pandas.core.series.Series"
            ]
          },
          "execution_count": 159,
          "metadata": {},
          "output_type": "execute_result"
        }
      ],
      "source": [
        "pd.DataFrame(rawData)['연도']\n",
        "type(pd.DataFrame(rawData)['연도'])"
      ]
    },
    {
      "cell_type": "code",
      "execution_count": 160,
      "metadata": {
        "colab": {
          "base_uri": "https://localhost:8080/"
        },
        "id": "xMsuZw0qhZMG",
        "outputId": "84ca810f-9af3-4511-8602-402cb1e098ca"
      },
      "outputs": [
        {
          "data": {
            "text/plain": [
              "연차            6\n",
              "연도         2020\n",
              "매출     16000000\n",
              "순익      1600001\n",
              "직원수          32\n",
              "Name: 5, dtype: int64"
            ]
          },
          "execution_count": 160,
          "metadata": {},
          "output_type": "execute_result"
        }
      ],
      "source": [
        "df = pd.DataFrame(rawData)\n",
        "df.iloc[0:3]\n",
        "df.iloc[-3:]\n",
        "df.iloc[-1]"
      ]
    },
    {
      "cell_type": "code",
      "execution_count": 161,
      "metadata": {
        "colab": {
          "base_uri": "https://localhost:8080/"
        },
        "id": "7EX2tMa-iPtX",
        "outputId": "3a7f1717-2383-4996-e119-f798152a6e45"
      },
      "outputs": [
        {
          "data": {
            "text/plain": [
              "[2015, 2016, 2017, 2018, 2019, 2020]"
            ]
          },
          "execution_count": 161,
          "metadata": {},
          "output_type": "execute_result"
        }
      ],
      "source": [
        "rawData['연도']"
      ]
    },
    {
      "cell_type": "code",
      "execution_count": 162,
      "metadata": {
        "id": "GpO73WoDhtYD"
      },
      "outputs": [],
      "source": [
        "# df = pd.DataFrame(rawData, columns=['연차','매출','순익','직원수'], index=[2015, 2016, 2017, 2018, 2019, 2020])\n",
        "df = pd.DataFrame(rawData, columns=['연차','매출','순익','직원수'], index=rawData['연도'])"
      ]
    },
    {
      "cell_type": "code",
      "execution_count": 163,
      "metadata": {
        "colab": {
          "base_uri": "https://localhost:8080/",
          "height": 237
        },
        "id": "XsUYr9bbich2",
        "outputId": "094afc84-a27f-457b-c1d6-c2b952e57bcb"
      },
      "outputs": [
        {
          "data": {
            "text/html": [
              "<div>\n",
              "<style scoped>\n",
              "    .dataframe tbody tr th:only-of-type {\n",
              "        vertical-align: middle;\n",
              "    }\n",
              "\n",
              "    .dataframe tbody tr th {\n",
              "        vertical-align: top;\n",
              "    }\n",
              "\n",
              "    .dataframe thead th {\n",
              "        text-align: right;\n",
              "    }\n",
              "</style>\n",
              "<table border=\"1\" class=\"dataframe\">\n",
              "  <thead>\n",
              "    <tr style=\"text-align: right;\">\n",
              "      <th></th>\n",
              "      <th>연차</th>\n",
              "      <th>매출</th>\n",
              "      <th>순익</th>\n",
              "      <th>직원수</th>\n",
              "    </tr>\n",
              "  </thead>\n",
              "  <tbody>\n",
              "    <tr>\n",
              "      <th>2015</th>\n",
              "      <td>1</td>\n",
              "      <td>1000000</td>\n",
              "      <td>100001</td>\n",
              "      <td>1</td>\n",
              "    </tr>\n",
              "    <tr>\n",
              "      <th>2016</th>\n",
              "      <td>2</td>\n",
              "      <td>2000000</td>\n",
              "      <td>200001</td>\n",
              "      <td>2</td>\n",
              "    </tr>\n",
              "    <tr>\n",
              "      <th>2017</th>\n",
              "      <td>3</td>\n",
              "      <td>3000000</td>\n",
              "      <td>300001</td>\n",
              "      <td>4</td>\n",
              "    </tr>\n",
              "    <tr>\n",
              "      <th>2018</th>\n",
              "      <td>4</td>\n",
              "      <td>4000000</td>\n",
              "      <td>400001</td>\n",
              "      <td>8</td>\n",
              "    </tr>\n",
              "    <tr>\n",
              "      <th>2019</th>\n",
              "      <td>5</td>\n",
              "      <td>8000000</td>\n",
              "      <td>800001</td>\n",
              "      <td>16</td>\n",
              "    </tr>\n",
              "    <tr>\n",
              "      <th>2020</th>\n",
              "      <td>6</td>\n",
              "      <td>16000000</td>\n",
              "      <td>1600001</td>\n",
              "      <td>32</td>\n",
              "    </tr>\n",
              "  </tbody>\n",
              "</table>\n",
              "</div>"
            ],
            "text/plain": [
              "      연차        매출       순익  직원수\n",
              "2015   1   1000000   100001    1\n",
              "2016   2   2000000   200001    2\n",
              "2017   3   3000000   300001    4\n",
              "2018   4   4000000   400001    8\n",
              "2019   5   8000000   800001   16\n",
              "2020   6  16000000  1600001   32"
            ]
          },
          "execution_count": 163,
          "metadata": {},
          "output_type": "execute_result"
        }
      ],
      "source": [
        "df"
      ]
    },
    {
      "cell_type": "code",
      "execution_count": 164,
      "metadata": {
        "colab": {
          "base_uri": "https://localhost:8080/",
          "height": 49
        },
        "id": "9Y_WgQxSiq6h",
        "outputId": "d9b9a80b-1257-4dfd-f59b-d82813dfc0e0"
      },
      "outputs": [
        {
          "data": {
            "text/html": [
              "<div>\n",
              "<style scoped>\n",
              "    .dataframe tbody tr th:only-of-type {\n",
              "        vertical-align: middle;\n",
              "    }\n",
              "\n",
              "    .dataframe tbody tr th {\n",
              "        vertical-align: top;\n",
              "    }\n",
              "\n",
              "    .dataframe thead th {\n",
              "        text-align: right;\n",
              "    }\n",
              "</style>\n",
              "<table border=\"1\" class=\"dataframe\">\n",
              "  <thead>\n",
              "    <tr style=\"text-align: right;\">\n",
              "      <th></th>\n",
              "      <th>연차</th>\n",
              "      <th>매출</th>\n",
              "      <th>순익</th>\n",
              "      <th>직원수</th>\n",
              "    </tr>\n",
              "  </thead>\n",
              "  <tbody>\n",
              "    <tr>\n",
              "      <th>2015</th>\n",
              "      <td>1</td>\n",
              "      <td>1000000</td>\n",
              "      <td>100001</td>\n",
              "      <td>1</td>\n",
              "    </tr>\n",
              "    <tr>\n",
              "      <th>2016</th>\n",
              "      <td>2</td>\n",
              "      <td>2000000</td>\n",
              "      <td>200001</td>\n",
              "      <td>2</td>\n",
              "    </tr>\n",
              "    <tr>\n",
              "      <th>2017</th>\n",
              "      <td>3</td>\n",
              "      <td>3000000</td>\n",
              "      <td>300001</td>\n",
              "      <td>4</td>\n",
              "    </tr>\n",
              "  </tbody>\n",
              "</table>\n",
              "</div>"
            ],
            "text/plain": [
              "      연차       매출      순익  직원수\n",
              "2015   1  1000000  100001    1\n",
              "2016   2  2000000  200001    2\n",
              "2017   3  3000000  300001    4"
            ]
          },
          "execution_count": 164,
          "metadata": {},
          "output_type": "execute_result"
        }
      ],
      "source": [
        "# df.iloc[2015:2017] # 원하는 값이 나오지 않습니다.\n",
        "df.iloc[0:3]"
      ]
    },
    {
      "cell_type": "code",
      "execution_count": 166,
      "metadata": {
        "colab": {
          "base_uri": "https://localhost:8080/",
          "height": 143
        },
        "id": "KWi2dROaiwZg",
        "outputId": "d3751ffe-cc06-4679-8c16-0f827dc43940"
      },
      "outputs": [
        {
          "data": {
            "text/html": [
              "<div>\n",
              "<style scoped>\n",
              "    .dataframe tbody tr th:only-of-type {\n",
              "        vertical-align: middle;\n",
              "    }\n",
              "\n",
              "    .dataframe tbody tr th {\n",
              "        vertical-align: top;\n",
              "    }\n",
              "\n",
              "    .dataframe thead th {\n",
              "        text-align: right;\n",
              "    }\n",
              "</style>\n",
              "<table border=\"1\" class=\"dataframe\">\n",
              "  <thead>\n",
              "    <tr style=\"text-align: right;\">\n",
              "      <th></th>\n",
              "      <th>연차</th>\n",
              "      <th>매출</th>\n",
              "      <th>순익</th>\n",
              "      <th>직원수</th>\n",
              "    </tr>\n",
              "  </thead>\n",
              "  <tbody>\n",
              "    <tr>\n",
              "      <th>2015</th>\n",
              "      <td>1</td>\n",
              "      <td>1000000</td>\n",
              "      <td>100001</td>\n",
              "      <td>1</td>\n",
              "    </tr>\n",
              "    <tr>\n",
              "      <th>2016</th>\n",
              "      <td>2</td>\n",
              "      <td>2000000</td>\n",
              "      <td>200001</td>\n",
              "      <td>2</td>\n",
              "    </tr>\n",
              "    <tr>\n",
              "      <th>2017</th>\n",
              "      <td>3</td>\n",
              "      <td>3000000</td>\n",
              "      <td>300001</td>\n",
              "      <td>4</td>\n",
              "    </tr>\n",
              "  </tbody>\n",
              "</table>\n",
              "</div>"
            ],
            "text/plain": [
              "      연차       매출      순익  직원수\n",
              "2015   1  1000000  100001    1\n",
              "2016   2  2000000  200001    2\n",
              "2017   3  3000000  300001    4"
            ]
          },
          "execution_count": 166,
          "metadata": {},
          "output_type": "execute_result"
        }
      ],
      "source": [
        "df.loc[2015:2017]"
      ]
    },
    {
      "cell_type": "code",
      "execution_count": 167,
      "metadata": {
        "colab": {
          "base_uri": "https://localhost:8080/"
        },
        "id": "2kgpJeAJjCT2",
        "outputId": "17468f74-d203-4e3e-cb90-2241e0c3d109"
      },
      "outputs": [
        {
          "name": "stdout",
          "output_type": "stream",
          "text": [
            "Writing rawData.csv\n"
          ]
        }
      ],
      "source": [
        "%%writefile rawData.csv\n",
        "1, 2, 3, 4, 5, 6, 7\n",
        "연차,1, 2, 3, 4, 5, 6\n",
        "연도,2015, 2016, 2017, 2018, 2019, 2020\n",
        "매출,1000000, 2000000, 3000000, 4000000, 8000000, 16000000\n",
        "순익,100001, 200001, 300001, 400001, 800001, 1600001\n",
        "직원수,1, 2, 4, 8, 16, 32"
      ]
    },
    {
      "cell_type": "markdown",
      "metadata": {
        "id": "w6aPMnakjoSJ"
      },
      "source": [
        "![](https://pandas.pydata.org/docs/_images/02_io_readwrite.svg)"
      ]
    },
    {
      "cell_type": "code",
      "execution_count": 168,
      "metadata": {
        "colab": {
          "base_uri": "https://localhost:8080/",
          "height": 206
        },
        "id": "JB8NkQOqjHpr",
        "outputId": "b7ee5331-18b4-454f-9152-cc704306b920"
      },
      "outputs": [
        {
          "data": {
            "text/html": [
              "<div>\n",
              "<style scoped>\n",
              "    .dataframe tbody tr th:only-of-type {\n",
              "        vertical-align: middle;\n",
              "    }\n",
              "\n",
              "    .dataframe tbody tr th {\n",
              "        vertical-align: top;\n",
              "    }\n",
              "\n",
              "    .dataframe thead th {\n",
              "        text-align: right;\n",
              "    }\n",
              "</style>\n",
              "<table border=\"1\" class=\"dataframe\">\n",
              "  <thead>\n",
              "    <tr style=\"text-align: right;\">\n",
              "      <th></th>\n",
              "      <th>1</th>\n",
              "      <th>2</th>\n",
              "      <th>3</th>\n",
              "      <th>4</th>\n",
              "      <th>5</th>\n",
              "      <th>6</th>\n",
              "      <th>7</th>\n",
              "    </tr>\n",
              "  </thead>\n",
              "  <tbody>\n",
              "    <tr>\n",
              "      <th>0</th>\n",
              "      <td>연차</td>\n",
              "      <td>1</td>\n",
              "      <td>2</td>\n",
              "      <td>3</td>\n",
              "      <td>4</td>\n",
              "      <td>5</td>\n",
              "      <td>6</td>\n",
              "    </tr>\n",
              "    <tr>\n",
              "      <th>1</th>\n",
              "      <td>연도</td>\n",
              "      <td>2015</td>\n",
              "      <td>2016</td>\n",
              "      <td>2017</td>\n",
              "      <td>2018</td>\n",
              "      <td>2019</td>\n",
              "      <td>2020</td>\n",
              "    </tr>\n",
              "    <tr>\n",
              "      <th>2</th>\n",
              "      <td>매출</td>\n",
              "      <td>1000000</td>\n",
              "      <td>2000000</td>\n",
              "      <td>3000000</td>\n",
              "      <td>4000000</td>\n",
              "      <td>8000000</td>\n",
              "      <td>16000000</td>\n",
              "    </tr>\n",
              "    <tr>\n",
              "      <th>3</th>\n",
              "      <td>순익</td>\n",
              "      <td>100001</td>\n",
              "      <td>200001</td>\n",
              "      <td>300001</td>\n",
              "      <td>400001</td>\n",
              "      <td>800001</td>\n",
              "      <td>1600001</td>\n",
              "    </tr>\n",
              "    <tr>\n",
              "      <th>4</th>\n",
              "      <td>직원수</td>\n",
              "      <td>1</td>\n",
              "      <td>2</td>\n",
              "      <td>4</td>\n",
              "      <td>8</td>\n",
              "      <td>16</td>\n",
              "      <td>32</td>\n",
              "    </tr>\n",
              "  </tbody>\n",
              "</table>\n",
              "</div>"
            ],
            "text/plain": [
              "     1        2        3        4        5        6         7\n",
              "0   연차        1        2        3        4        5         6\n",
              "1   연도     2015     2016     2017     2018     2019      2020\n",
              "2   매출  1000000  2000000  3000000  4000000  8000000  16000000\n",
              "3   순익   100001   200001   300001   400001   800001   1600001\n",
              "4  직원수        1        2        4        8       16        32"
            ]
          },
          "execution_count": 168,
          "metadata": {},
          "output_type": "execute_result"
        }
      ],
      "source": [
        "pd.read_csv('rawData.csv')"
      ]
    },
    {
      "cell_type": "code",
      "execution_count": 169,
      "metadata": {
        "colab": {
          "base_uri": "https://localhost:8080/"
        },
        "id": "cnEt9IWaj0Jp",
        "outputId": "e37e2974-62e7-403e-8813-d8d6428f1104"
      },
      "outputs": [
        {
          "data": {
            "text/plain": [
              "Index(['1', ' 2', ' 3', ' 4', ' 5', ' 6', ' 7'], dtype='object')"
            ]
          },
          "execution_count": 169,
          "metadata": {},
          "output_type": "execute_result"
        }
      ],
      "source": [
        "pd.read_csv('rawData.csv').columns"
      ]
    },
    {
      "cell_type": "code",
      "execution_count": 170,
      "metadata": {
        "colab": {
          "base_uri": "https://localhost:8080/"
        },
        "id": "o6xF3Z-qj5XP",
        "outputId": "8c30cc5c-51b2-46f5-a832-2526b572d775"
      },
      "outputs": [
        {
          "data": {
            "text/plain": [
              "RangeIndex(start=0, stop=5, step=1)"
            ]
          },
          "execution_count": 170,
          "metadata": {},
          "output_type": "execute_result"
        }
      ],
      "source": [
        "pd.read_csv('rawData.csv').index"
      ]
    },
    {
      "cell_type": "code",
      "execution_count": 173,
      "metadata": {
        "id": "-IGiUF8cj7MV"
      },
      "outputs": [],
      "source": [
        "df = pd.read_html('https://ko.wikipedia.org/wiki/%EB%8C%80%ED%95%9C%EB%AF%BC%EA%B5%AD%EC%9D%98_%EC%9D%B8%EA%B5%AC')"
      ]
    },
    {
      "cell_type": "code",
      "execution_count": 174,
      "metadata": {
        "colab": {
          "base_uri": "https://localhost:8080/",
          "height": 502
        },
        "id": "8xJ6Ag4qkNcO",
        "outputId": "39807e14-528b-4322-c126-984e52a49342"
      },
      "outputs": [
        {
          "data": {
            "text/html": [
              "<div>\n",
              "<style scoped>\n",
              "    .dataframe tbody tr th:only-of-type {\n",
              "        vertical-align: middle;\n",
              "    }\n",
              "\n",
              "    .dataframe tbody tr th {\n",
              "        vertical-align: top;\n",
              "    }\n",
              "\n",
              "    .dataframe thead th {\n",
              "        text-align: right;\n",
              "    }\n",
              "</style>\n",
              "<table border=\"1\" class=\"dataframe\">\n",
              "  <thead>\n",
              "    <tr style=\"text-align: right;\">\n",
              "      <th></th>\n",
              "      <th>연도 (년)</th>\n",
              "      <th>추계인구(명)</th>\n",
              "      <th>출생자수(명)</th>\n",
              "      <th>사망자수(명)</th>\n",
              "      <th>자연증가수(명)</th>\n",
              "      <th>조출생률 (1000명당)</th>\n",
              "      <th>조사망률 (1000명당)</th>\n",
              "      <th>자연증가율 (1000명당)</th>\n",
              "      <th>합계출산율</th>\n",
              "    </tr>\n",
              "  </thead>\n",
              "  <tbody>\n",
              "    <tr>\n",
              "      <th>0</th>\n",
              "      <td>1925</td>\n",
              "      <td>12997611</td>\n",
              "      <td>558897</td>\n",
              "      <td>359042</td>\n",
              "      <td>199855</td>\n",
              "      <td>43.0</td>\n",
              "      <td>27.6</td>\n",
              "      <td>15.4</td>\n",
              "      <td>6.59</td>\n",
              "    </tr>\n",
              "    <tr>\n",
              "      <th>1</th>\n",
              "      <td>1926</td>\n",
              "      <td>13052741</td>\n",
              "      <td>511667</td>\n",
              "      <td>337948</td>\n",
              "      <td>173719</td>\n",
              "      <td>39.2</td>\n",
              "      <td>25.9</td>\n",
              "      <td>13.3</td>\n",
              "      <td>NaN</td>\n",
              "    </tr>\n",
              "    <tr>\n",
              "      <th>2</th>\n",
              "      <td>1927</td>\n",
              "      <td>13037169</td>\n",
              "      <td>534524</td>\n",
              "      <td>353818</td>\n",
              "      <td>180706</td>\n",
              "      <td>41.0</td>\n",
              "      <td>27.1</td>\n",
              "      <td>13.9</td>\n",
              "      <td>NaN</td>\n",
              "    </tr>\n",
              "    <tr>\n",
              "      <th>3</th>\n",
              "      <td>1928</td>\n",
              "      <td>13105131</td>\n",
              "      <td>566142</td>\n",
              "      <td>357701</td>\n",
              "      <td>208441</td>\n",
              "      <td>43.2</td>\n",
              "      <td>27.3</td>\n",
              "      <td>15.9</td>\n",
              "      <td>NaN</td>\n",
              "    </tr>\n",
              "    <tr>\n",
              "      <th>4</th>\n",
              "      <td>1929</td>\n",
              "      <td>13124279</td>\n",
              "      <td>566969</td>\n",
              "      <td>414366</td>\n",
              "      <td>152603</td>\n",
              "      <td>43.2</td>\n",
              "      <td>31.6</td>\n",
              "      <td>11.6</td>\n",
              "      <td>NaN</td>\n",
              "    </tr>\n",
              "    <tr>\n",
              "      <th>5</th>\n",
              "      <td>1930</td>\n",
              "      <td>13880469</td>\n",
              "      <td>587144</td>\n",
              "      <td>322611</td>\n",
              "      <td>264533</td>\n",
              "      <td>42.3</td>\n",
              "      <td>23.2</td>\n",
              "      <td>19.1</td>\n",
              "      <td>6.41</td>\n",
              "    </tr>\n",
              "    <tr>\n",
              "      <th>6</th>\n",
              "      <td>1931</td>\n",
              "      <td>13895052</td>\n",
              "      <td>589428</td>\n",
              "      <td>346800</td>\n",
              "      <td>242628</td>\n",
              "      <td>42.4</td>\n",
              "      <td>25.0</td>\n",
              "      <td>17.4</td>\n",
              "      <td>NaN</td>\n",
              "    </tr>\n",
              "    <tr>\n",
              "      <th>7</th>\n",
              "      <td>1932</td>\n",
              "      <td>14117191</td>\n",
              "      <td>600545</td>\n",
              "      <td>384287</td>\n",
              "      <td>216258</td>\n",
              "      <td>42.5</td>\n",
              "      <td>27.2</td>\n",
              "      <td>15.3</td>\n",
              "      <td>NaN</td>\n",
              "    </tr>\n",
              "    <tr>\n",
              "      <th>8</th>\n",
              "      <td>1933</td>\n",
              "      <td>14229277</td>\n",
              "      <td>607021</td>\n",
              "      <td>336232</td>\n",
              "      <td>270789</td>\n",
              "      <td>42.7</td>\n",
              "      <td>23.6</td>\n",
              "      <td>19.1</td>\n",
              "      <td>NaN</td>\n",
              "    </tr>\n",
              "    <tr>\n",
              "      <th>9</th>\n",
              "      <td>1934</td>\n",
              "      <td>14449155</td>\n",
              "      <td>618135</td>\n",
              "      <td>356515</td>\n",
              "      <td>261620</td>\n",
              "      <td>42.8</td>\n",
              "      <td>24.7</td>\n",
              "      <td>18.1</td>\n",
              "      <td>NaN</td>\n",
              "    </tr>\n",
              "    <tr>\n",
              "      <th>10</th>\n",
              "      <td>1935</td>\n",
              "      <td>15061960</td>\n",
              "      <td>646158</td>\n",
              "      <td>377454</td>\n",
              "      <td>268704</td>\n",
              "      <td>42.9</td>\n",
              "      <td>25.1</td>\n",
              "      <td>17.8</td>\n",
              "      <td>6.60</td>\n",
              "    </tr>\n",
              "    <tr>\n",
              "      <th>11</th>\n",
              "      <td>1936</td>\n",
              "      <td>15114775</td>\n",
              "      <td>639355</td>\n",
              "      <td>381806</td>\n",
              "      <td>257549</td>\n",
              "      <td>42.3</td>\n",
              "      <td>25.3</td>\n",
              "      <td>17.0</td>\n",
              "      <td>NaN</td>\n",
              "    </tr>\n",
              "    <tr>\n",
              "      <th>12</th>\n",
              "      <td>1937</td>\n",
              "      <td>15235383</td>\n",
              "      <td>636839</td>\n",
              "      <td>342575</td>\n",
              "      <td>294264</td>\n",
              "      <td>41.8</td>\n",
              "      <td>22.5</td>\n",
              "      <td>19.3</td>\n",
              "      <td>NaN</td>\n",
              "    </tr>\n",
              "    <tr>\n",
              "      <th>13</th>\n",
              "      <td>1938</td>\n",
              "      <td>15358193</td>\n",
              "      <td>569299</td>\n",
              "      <td>347025</td>\n",
              "      <td>222274</td>\n",
              "      <td>37.1</td>\n",
              "      <td>22.6</td>\n",
              "      <td>14.5</td>\n",
              "      <td>NaN</td>\n",
              "    </tr>\n",
              "    <tr>\n",
              "      <th>14</th>\n",
              "      <td>1939</td>\n",
              "      <td>15486028</td>\n",
              "      <td>585482</td>\n",
              "      <td>353391</td>\n",
              "      <td>232091</td>\n",
              "      <td>37.8</td>\n",
              "      <td>22.8</td>\n",
              "      <td>15.0</td>\n",
              "      <td>NaN</td>\n",
              "    </tr>\n",
              "    <tr>\n",
              "      <th>15</th>\n",
              "      <td>1940</td>\n",
              "      <td>15559741</td>\n",
              "      <td>527964</td>\n",
              "      <td>358496</td>\n",
              "      <td>169468</td>\n",
              "      <td>33.9</td>\n",
              "      <td>23.0</td>\n",
              "      <td>10.9</td>\n",
              "      <td>6.56</td>\n",
              "    </tr>\n",
              "    <tr>\n",
              "      <th>16</th>\n",
              "      <td>1941</td>\n",
              "      <td>15745478</td>\n",
              "      <td>553690</td>\n",
              "      <td>366239</td>\n",
              "      <td>187451</td>\n",
              "      <td>35.2</td>\n",
              "      <td>23.3</td>\n",
              "      <td>11.9</td>\n",
              "      <td>NaN</td>\n",
              "    </tr>\n",
              "    <tr>\n",
              "      <th>17</th>\n",
              "      <td>1942</td>\n",
              "      <td>16013742</td>\n",
              "      <td>533768</td>\n",
              "      <td>376003</td>\n",
              "      <td>157765</td>\n",
              "      <td>33.3</td>\n",
              "      <td>23.5</td>\n",
              "      <td>9.8</td>\n",
              "      <td>NaN</td>\n",
              "    </tr>\n",
              "    <tr>\n",
              "      <th>18</th>\n",
              "      <td>1943</td>\n",
              "      <td>16239721</td>\n",
              "      <td>513846</td>\n",
              "      <td>384881</td>\n",
              "      <td>128965</td>\n",
              "      <td>31.6</td>\n",
              "      <td>23.7</td>\n",
              "      <td>7.9</td>\n",
              "      <td>NaN</td>\n",
              "    </tr>\n",
              "    <tr>\n",
              "      <th>19</th>\n",
              "      <td>1944</td>\n",
              "      <td>16599172</td>\n",
              "      <td>533215</td>\n",
              "      <td>380121</td>\n",
              "      <td>153094</td>\n",
              "      <td>32.1</td>\n",
              "      <td>22.9</td>\n",
              "      <td>9.2</td>\n",
              "      <td>6.78</td>\n",
              "    </tr>\n",
              "  </tbody>\n",
              "</table>\n",
              "</div>"
            ],
            "text/plain": [
              "    연도 (년)   추계인구(명)  출생자수(명)  사망자수(명)  자연증가수(명)  조출생률 (1000명당)  \\\n",
              "0     1925  12997611   558897   359042    199855           43.0   \n",
              "1     1926  13052741   511667   337948    173719           39.2   \n",
              "2     1927  13037169   534524   353818    180706           41.0   \n",
              "3     1928  13105131   566142   357701    208441           43.2   \n",
              "4     1929  13124279   566969   414366    152603           43.2   \n",
              "5     1930  13880469   587144   322611    264533           42.3   \n",
              "6     1931  13895052   589428   346800    242628           42.4   \n",
              "7     1932  14117191   600545   384287    216258           42.5   \n",
              "8     1933  14229277   607021   336232    270789           42.7   \n",
              "9     1934  14449155   618135   356515    261620           42.8   \n",
              "10    1935  15061960   646158   377454    268704           42.9   \n",
              "11    1936  15114775   639355   381806    257549           42.3   \n",
              "12    1937  15235383   636839   342575    294264           41.8   \n",
              "13    1938  15358193   569299   347025    222274           37.1   \n",
              "14    1939  15486028   585482   353391    232091           37.8   \n",
              "15    1940  15559741   527964   358496    169468           33.9   \n",
              "16    1941  15745478   553690   366239    187451           35.2   \n",
              "17    1942  16013742   533768   376003    157765           33.3   \n",
              "18    1943  16239721   513846   384881    128965           31.6   \n",
              "19    1944  16599172   533215   380121    153094           32.1   \n",
              "\n",
              "    조사망률 (1000명당)  자연증가율 (1000명당)  합계출산율  \n",
              "0            27.6            15.4   6.59  \n",
              "1            25.9            13.3    NaN  \n",
              "2            27.1            13.9    NaN  \n",
              "3            27.3            15.9    NaN  \n",
              "4            31.6            11.6    NaN  \n",
              "5            23.2            19.1   6.41  \n",
              "6            25.0            17.4    NaN  \n",
              "7            27.2            15.3    NaN  \n",
              "8            23.6            19.1    NaN  \n",
              "9            24.7            18.1    NaN  \n",
              "10           25.1            17.8   6.60  \n",
              "11           25.3            17.0    NaN  \n",
              "12           22.5            19.3    NaN  \n",
              "13           22.6            14.5    NaN  \n",
              "14           22.8            15.0    NaN  \n",
              "15           23.0            10.9   6.56  \n",
              "16           23.3            11.9    NaN  \n",
              "17           23.5             9.8    NaN  \n",
              "18           23.7             7.9    NaN  \n",
              "19           22.9             9.2   6.78  "
            ]
          },
          "execution_count": 174,
          "metadata": {},
          "output_type": "execute_result"
        }
      ],
      "source": [
        "df[4]"
      ]
    },
    {
      "cell_type": "code",
      "execution_count": 175,
      "metadata": {
        "colab": {
          "base_uri": "https://localhost:8080/"
        },
        "id": "zHdJKJ1zkiBh",
        "outputId": "6c6dd459-baa9-415a-bf75-b030e809826d"
      },
      "outputs": [
        {
          "data": {
            "text/plain": [
              "11480088"
            ]
          },
          "execution_count": 175,
          "metadata": {},
          "output_type": "execute_result"
        }
      ],
      "source": [
        "df[4]['출생자수(명)'].sum()"
      ]
    },
    {
      "cell_type": "code",
      "execution_count": 177,
      "metadata": {
        "id": "Txd3m73QkqT1"
      },
      "outputs": [],
      "source": [
        "df[4].to_csv('대한민국인구통계.csv')"
      ]
    },
    {
      "cell_type": "markdown",
      "metadata": {
        "id": "lJ5UHx34lgkI"
      },
      "source": [
        "## 4 DataFrame에 데이터 활용"
      ]
    },
    {
      "cell_type": "markdown",
      "metadata": {
        "id": "Z2G1-ksel2PJ"
      },
      "source": [
        "### 4.1 데이터 사전 분석\n",
        "\n",
        "- info() : DataFrame을 구성하는 행과 열에 대한 정보를 나타내 주는 함수\n",
        "- head(n) : DataFrame의 처음부터 n줄의 행을 출력\n",
        "- tail(n) : DataFrame의 마지막 n줄의 행을 출력\n",
        "- describe() : Series, DataFrame의 각 열에 대한 요약 통계\n",
        "- dtypes : 데이터 자료형 확인"
      ]
    },
    {
      "cell_type": "markdown",
      "metadata": {
        "id": "6cKZZXRzl8jZ"
      },
      "source": [
        "### 4.2 DataFrame에 데이터 조작\n",
        "\n",
        "- np.nan : NaN으로 값을 채움\n",
        "- drop : 컬럼 삭제\n",
        "    - inplace = True : drop후 원본에 반영\n",
        "- pd.to_numeric() : 문자형을 숫자형으로 변환"
      ]
    },
    {
      "cell_type": "code",
      "execution_count": 178,
      "metadata": {
        "id": "fn90-Fc3l3Ze"
      },
      "outputs": [],
      "source": [
        "rawData = {\n",
        "    '연차':[1, 2, 3, 4, 5, 6],\n",
        "    '연도':[2015, 2016, 2017, 2018, 2019, 2020],\n",
        "    '매출':[1000000, 2000000, 3000000, 4000000, 8000000, 16000000],\n",
        "    '순익':[100001, 200001, 300001, 400001, 800001, 1600001],\n",
        "    '직원수':[1, 2, 4, 8, 16, 32]\n",
        "}\n",
        "\n",
        "df = pd.DataFrame(rawData)"
      ]
    },
    {
      "cell_type": "code",
      "execution_count": 179,
      "metadata": {
        "colab": {
          "base_uri": "https://localhost:8080/",
          "height": 237
        },
        "id": "TSFlNGpYmrg6",
        "outputId": "b9c9786a-3606-45cf-8ca4-19bdda82e599"
      },
      "outputs": [
        {
          "data": {
            "text/html": [
              "<div>\n",
              "<style scoped>\n",
              "    .dataframe tbody tr th:only-of-type {\n",
              "        vertical-align: middle;\n",
              "    }\n",
              "\n",
              "    .dataframe tbody tr th {\n",
              "        vertical-align: top;\n",
              "    }\n",
              "\n",
              "    .dataframe thead th {\n",
              "        text-align: right;\n",
              "    }\n",
              "</style>\n",
              "<table border=\"1\" class=\"dataframe\">\n",
              "  <thead>\n",
              "    <tr style=\"text-align: right;\">\n",
              "      <th></th>\n",
              "      <th>연차</th>\n",
              "      <th>연도</th>\n",
              "      <th>매출</th>\n",
              "      <th>순익</th>\n",
              "      <th>직원수</th>\n",
              "    </tr>\n",
              "  </thead>\n",
              "  <tbody>\n",
              "    <tr>\n",
              "      <th>0</th>\n",
              "      <td>1</td>\n",
              "      <td>2015</td>\n",
              "      <td>1000000</td>\n",
              "      <td>100001</td>\n",
              "      <td>1</td>\n",
              "    </tr>\n",
              "    <tr>\n",
              "      <th>1</th>\n",
              "      <td>2</td>\n",
              "      <td>2016</td>\n",
              "      <td>2000000</td>\n",
              "      <td>200001</td>\n",
              "      <td>2</td>\n",
              "    </tr>\n",
              "    <tr>\n",
              "      <th>2</th>\n",
              "      <td>3</td>\n",
              "      <td>2017</td>\n",
              "      <td>3000000</td>\n",
              "      <td>300001</td>\n",
              "      <td>4</td>\n",
              "    </tr>\n",
              "    <tr>\n",
              "      <th>3</th>\n",
              "      <td>4</td>\n",
              "      <td>2018</td>\n",
              "      <td>4000000</td>\n",
              "      <td>400001</td>\n",
              "      <td>8</td>\n",
              "    </tr>\n",
              "    <tr>\n",
              "      <th>4</th>\n",
              "      <td>5</td>\n",
              "      <td>2019</td>\n",
              "      <td>8000000</td>\n",
              "      <td>800001</td>\n",
              "      <td>16</td>\n",
              "    </tr>\n",
              "    <tr>\n",
              "      <th>5</th>\n",
              "      <td>6</td>\n",
              "      <td>2020</td>\n",
              "      <td>16000000</td>\n",
              "      <td>1600001</td>\n",
              "      <td>32</td>\n",
              "    </tr>\n",
              "  </tbody>\n",
              "</table>\n",
              "</div>"
            ],
            "text/plain": [
              "   연차    연도        매출       순익  직원수\n",
              "0   1  2015   1000000   100001    1\n",
              "1   2  2016   2000000   200001    2\n",
              "2   3  2017   3000000   300001    4\n",
              "3   4  2018   4000000   400001    8\n",
              "4   5  2019   8000000   800001   16\n",
              "5   6  2020  16000000  1600001   32"
            ]
          },
          "execution_count": 179,
          "metadata": {},
          "output_type": "execute_result"
        }
      ],
      "source": [
        "df"
      ]
    },
    {
      "cell_type": "code",
      "execution_count": 186,
      "metadata": {
        "colab": {
          "base_uri": "https://localhost:8080/"
        },
        "id": "T28KkwyLmu4_",
        "outputId": "e338625b-01b0-48dc-8db8-4cc8379d595d"
      },
      "outputs": [
        {
          "name": "stdout",
          "output_type": "stream",
          "text": [
            "<class 'pandas.core.frame.DataFrame'>\n",
            "RangeIndex: 6 entries, 0 to 5\n",
            "Data columns (total 5 columns):\n",
            " #   Column  Non-Null Count  Dtype\n",
            "---  ------  --------------  -----\n",
            " 0   연차      6 non-null      int64\n",
            " 1   연도      6 non-null      int64\n",
            " 2   매출      6 non-null      int64\n",
            " 3   순익      6 non-null      int64\n",
            " 4   직원수     6 non-null      int64\n",
            "dtypes: int64(5)\n",
            "memory usage: 368.0 bytes\n"
          ]
        },
        {
          "data": {
            "text/plain": [
              "연차     int64\n",
              "연도     int64\n",
              "매출     int64\n",
              "순익     int64\n",
              "직원수    int64\n",
              "dtype: object"
            ]
          },
          "execution_count": 186,
          "metadata": {},
          "output_type": "execute_result"
        }
      ],
      "source": [
        "# info() : DataFrame을 구성하는 행과 열에 대한 정보를 나타내 주는 함수\n",
        "# head(n) : DataFrame의 처음부터 n줄의 행을 출력\n",
        "# tail(n) : DataFrame의 마지막 n줄의 행을 출력\n",
        "# describe() : Series, DataFrame의 각 열에 대한 요약 통계\n",
        "# dtypes : 데이터 자료형 확인\n",
        "\n",
        "df.info()\n",
        "df.head(3)\n",
        "df.tail(3)\n",
        "df.describe()\n",
        "df.dtypes"
      ]
    },
    {
      "cell_type": "code",
      "execution_count": 189,
      "metadata": {
        "colab": {
          "base_uri": "https://localhost:8080/"
        },
        "id": "TLKX-YBunXSf",
        "outputId": "d4e9bcb7-5724-42dd-8746-7d57d5ac11fb"
      },
      "outputs": [
        {
          "data": {
            "text/plain": [
              "0     1000000\n",
              "1     2000000\n",
              "2     3000000\n",
              "3     4000000\n",
              "4     8000000\n",
              "5    16000000\n",
              "Name: 매출, dtype: int64"
            ]
          },
          "execution_count": 189,
          "metadata": {},
          "output_type": "execute_result"
        }
      ],
      "source": [
        "df['매출']\n",
        "df.매출"
      ]
    },
    {
      "cell_type": "code",
      "execution_count": 190,
      "metadata": {
        "colab": {
          "base_uri": "https://localhost:8080/",
          "height": 237
        },
        "id": "QHbl6h1NneEr",
        "outputId": "3ae98675-ad3a-4465-c299-9ecc259d7eff"
      },
      "outputs": [
        {
          "data": {
            "text/html": [
              "<div>\n",
              "<style scoped>\n",
              "    .dataframe tbody tr th:only-of-type {\n",
              "        vertical-align: middle;\n",
              "    }\n",
              "\n",
              "    .dataframe tbody tr th {\n",
              "        vertical-align: top;\n",
              "    }\n",
              "\n",
              "    .dataframe thead th {\n",
              "        text-align: right;\n",
              "    }\n",
              "</style>\n",
              "<table border=\"1\" class=\"dataframe\">\n",
              "  <thead>\n",
              "    <tr style=\"text-align: right;\">\n",
              "      <th></th>\n",
              "      <th>연차</th>\n",
              "      <th>연도</th>\n",
              "      <th>매출</th>\n",
              "      <th>순익</th>\n",
              "      <th>직원수</th>\n",
              "      <th>순이익률</th>\n",
              "    </tr>\n",
              "  </thead>\n",
              "  <tbody>\n",
              "    <tr>\n",
              "      <th>0</th>\n",
              "      <td>1</td>\n",
              "      <td>2015</td>\n",
              "      <td>1000000</td>\n",
              "      <td>100001</td>\n",
              "      <td>1</td>\n",
              "      <td>10.000100</td>\n",
              "    </tr>\n",
              "    <tr>\n",
              "      <th>1</th>\n",
              "      <td>2</td>\n",
              "      <td>2016</td>\n",
              "      <td>2000000</td>\n",
              "      <td>200001</td>\n",
              "      <td>2</td>\n",
              "      <td>10.000050</td>\n",
              "    </tr>\n",
              "    <tr>\n",
              "      <th>2</th>\n",
              "      <td>3</td>\n",
              "      <td>2017</td>\n",
              "      <td>3000000</td>\n",
              "      <td>300001</td>\n",
              "      <td>4</td>\n",
              "      <td>10.000033</td>\n",
              "    </tr>\n",
              "    <tr>\n",
              "      <th>3</th>\n",
              "      <td>4</td>\n",
              "      <td>2018</td>\n",
              "      <td>4000000</td>\n",
              "      <td>400001</td>\n",
              "      <td>8</td>\n",
              "      <td>10.000025</td>\n",
              "    </tr>\n",
              "    <tr>\n",
              "      <th>4</th>\n",
              "      <td>5</td>\n",
              "      <td>2019</td>\n",
              "      <td>8000000</td>\n",
              "      <td>800001</td>\n",
              "      <td>16</td>\n",
              "      <td>10.000013</td>\n",
              "    </tr>\n",
              "    <tr>\n",
              "      <th>5</th>\n",
              "      <td>6</td>\n",
              "      <td>2020</td>\n",
              "      <td>16000000</td>\n",
              "      <td>1600001</td>\n",
              "      <td>32</td>\n",
              "      <td>10.000006</td>\n",
              "    </tr>\n",
              "  </tbody>\n",
              "</table>\n",
              "</div>"
            ],
            "text/plain": [
              "   연차    연도        매출       순익  직원수       순이익률\n",
              "0   1  2015   1000000   100001    1  10.000100\n",
              "1   2  2016   2000000   200001    2  10.000050\n",
              "2   3  2017   3000000   300001    4  10.000033\n",
              "3   4  2018   4000000   400001    8  10.000025\n",
              "4   5  2019   8000000   800001   16  10.000013\n",
              "5   6  2020  16000000  1600001   32  10.000006"
            ]
          },
          "execution_count": 190,
          "metadata": {},
          "output_type": "execute_result"
        }
      ],
      "source": [
        "df['순이익률'] = (df['순익'] / df['매출']) * 100\n",
        "df"
      ]
    },
    {
      "cell_type": "code",
      "execution_count": 205,
      "metadata": {
        "colab": {
          "base_uri": "https://localhost:8080/",
          "height": 237
        },
        "id": "lqnMeVcinxlU",
        "outputId": "31ac70c0-150c-4da6-b02f-b41036b3dd13"
      },
      "outputs": [
        {
          "data": {
            "text/html": [
              "<div>\n",
              "<style scoped>\n",
              "    .dataframe tbody tr th:only-of-type {\n",
              "        vertical-align: middle;\n",
              "    }\n",
              "\n",
              "    .dataframe tbody tr th {\n",
              "        vertical-align: top;\n",
              "    }\n",
              "\n",
              "    .dataframe thead th {\n",
              "        text-align: right;\n",
              "    }\n",
              "</style>\n",
              "<table border=\"1\" class=\"dataframe\">\n",
              "  <thead>\n",
              "    <tr style=\"text-align: right;\">\n",
              "      <th></th>\n",
              "      <th>연차</th>\n",
              "      <th>연도</th>\n",
              "      <th>매출</th>\n",
              "      <th>순익</th>\n",
              "      <th>직원수</th>\n",
              "      <th>순이익률</th>\n",
              "      <th>test2</th>\n",
              "      <th>test</th>\n",
              "    </tr>\n",
              "  </thead>\n",
              "  <tbody>\n",
              "    <tr>\n",
              "      <th>0</th>\n",
              "      <td>1</td>\n",
              "      <td>2015</td>\n",
              "      <td>1000000</td>\n",
              "      <td>100001</td>\n",
              "      <td>1</td>\n",
              "      <td>10.000100</td>\n",
              "      <td>10000</td>\n",
              "      <td>100</td>\n",
              "    </tr>\n",
              "    <tr>\n",
              "      <th>1</th>\n",
              "      <td>2</td>\n",
              "      <td>2016</td>\n",
              "      <td>2000000</td>\n",
              "      <td>200001</td>\n",
              "      <td>2</td>\n",
              "      <td>10.000050</td>\n",
              "      <td>10000</td>\n",
              "      <td>100</td>\n",
              "    </tr>\n",
              "    <tr>\n",
              "      <th>2</th>\n",
              "      <td>3</td>\n",
              "      <td>2017</td>\n",
              "      <td>3000000</td>\n",
              "      <td>300001</td>\n",
              "      <td>4</td>\n",
              "      <td>10.000033</td>\n",
              "      <td>10000</td>\n",
              "      <td>100</td>\n",
              "    </tr>\n",
              "    <tr>\n",
              "      <th>3</th>\n",
              "      <td>4</td>\n",
              "      <td>2018</td>\n",
              "      <td>4000000</td>\n",
              "      <td>400001</td>\n",
              "      <td>8</td>\n",
              "      <td>10.000025</td>\n",
              "      <td>10000</td>\n",
              "      <td>100</td>\n",
              "    </tr>\n",
              "    <tr>\n",
              "      <th>4</th>\n",
              "      <td>5</td>\n",
              "      <td>2019</td>\n",
              "      <td>8000000</td>\n",
              "      <td>800001</td>\n",
              "      <td>16</td>\n",
              "      <td>10.000013</td>\n",
              "      <td>10000</td>\n",
              "      <td>100</td>\n",
              "    </tr>\n",
              "    <tr>\n",
              "      <th>5</th>\n",
              "      <td>6</td>\n",
              "      <td>2020</td>\n",
              "      <td>16000000</td>\n",
              "      <td>1600001</td>\n",
              "      <td>32</td>\n",
              "      <td>10.000006</td>\n",
              "      <td>10000</td>\n",
              "      <td>100</td>\n",
              "    </tr>\n",
              "  </tbody>\n",
              "</table>\n",
              "</div>"
            ],
            "text/plain": [
              "   연차    연도        매출       순익  직원수       순이익률  test2  test\n",
              "0   1  2015   1000000   100001    1  10.000100  10000   100\n",
              "1   2  2016   2000000   200001    2  10.000050  10000   100\n",
              "2   3  2017   3000000   300001    4  10.000033  10000   100\n",
              "3   4  2018   4000000   400001    8  10.000025  10000   100\n",
              "4   5  2019   8000000   800001   16  10.000013  10000   100\n",
              "5   6  2020  16000000  1600001   32  10.000006  10000   100"
            ]
          },
          "execution_count": 205,
          "metadata": {},
          "output_type": "execute_result"
        }
      ],
      "source": [
        "df['test'] = 100\n",
        "df"
      ]
    },
    {
      "cell_type": "code",
      "execution_count": 206,
      "metadata": {
        "colab": {
          "base_uri": "https://localhost:8080/",
          "height": 237
        },
        "id": "MXHo6-1ZoI7_",
        "outputId": "4b192928-9964-488c-b012-ba44464e9d8f"
      },
      "outputs": [
        {
          "data": {
            "text/html": [
              "<div>\n",
              "<style scoped>\n",
              "    .dataframe tbody tr th:only-of-type {\n",
              "        vertical-align: middle;\n",
              "    }\n",
              "\n",
              "    .dataframe tbody tr th {\n",
              "        vertical-align: top;\n",
              "    }\n",
              "\n",
              "    .dataframe thead th {\n",
              "        text-align: right;\n",
              "    }\n",
              "</style>\n",
              "<table border=\"1\" class=\"dataframe\">\n",
              "  <thead>\n",
              "    <tr style=\"text-align: right;\">\n",
              "      <th></th>\n",
              "      <th>연차</th>\n",
              "      <th>연도</th>\n",
              "      <th>매출</th>\n",
              "      <th>순익</th>\n",
              "      <th>직원수</th>\n",
              "      <th>순이익률</th>\n",
              "      <th>test2</th>\n",
              "      <th>test</th>\n",
              "    </tr>\n",
              "  </thead>\n",
              "  <tbody>\n",
              "    <tr>\n",
              "      <th>0</th>\n",
              "      <td>1</td>\n",
              "      <td>2015</td>\n",
              "      <td>1000000</td>\n",
              "      <td>100001</td>\n",
              "      <td>1</td>\n",
              "      <td>10.000100</td>\n",
              "      <td>10000</td>\n",
              "      <td>100</td>\n",
              "    </tr>\n",
              "    <tr>\n",
              "      <th>1</th>\n",
              "      <td>2</td>\n",
              "      <td>2016</td>\n",
              "      <td>2000000</td>\n",
              "      <td>200001</td>\n",
              "      <td>2</td>\n",
              "      <td>10.000050</td>\n",
              "      <td>10000</td>\n",
              "      <td>100</td>\n",
              "    </tr>\n",
              "    <tr>\n",
              "      <th>2</th>\n",
              "      <td>3</td>\n",
              "      <td>2017</td>\n",
              "      <td>3000000</td>\n",
              "      <td>300001</td>\n",
              "      <td>4</td>\n",
              "      <td>10.000033</td>\n",
              "      <td>10000</td>\n",
              "      <td>100</td>\n",
              "    </tr>\n",
              "    <tr>\n",
              "      <th>3</th>\n",
              "      <td>4</td>\n",
              "      <td>2018</td>\n",
              "      <td>4000000</td>\n",
              "      <td>400001</td>\n",
              "      <td>8</td>\n",
              "      <td>10.000025</td>\n",
              "      <td>10000</td>\n",
              "      <td>100</td>\n",
              "    </tr>\n",
              "    <tr>\n",
              "      <th>4</th>\n",
              "      <td>5</td>\n",
              "      <td>2019</td>\n",
              "      <td>8000000</td>\n",
              "      <td>800001</td>\n",
              "      <td>16</td>\n",
              "      <td>10.000013</td>\n",
              "      <td>10000</td>\n",
              "      <td>100</td>\n",
              "    </tr>\n",
              "    <tr>\n",
              "      <th>5</th>\n",
              "      <td>6</td>\n",
              "      <td>2020</td>\n",
              "      <td>16000000</td>\n",
              "      <td>1600001</td>\n",
              "      <td>32</td>\n",
              "      <td>10.000006</td>\n",
              "      <td>10000</td>\n",
              "      <td>100</td>\n",
              "    </tr>\n",
              "  </tbody>\n",
              "</table>\n",
              "</div>"
            ],
            "text/plain": [
              "   연차    연도        매출       순익  직원수       순이익률  test2  test\n",
              "0   1  2015   1000000   100001    1  10.000100  10000   100\n",
              "1   2  2016   2000000   200001    2  10.000050  10000   100\n",
              "2   3  2017   3000000   300001    4  10.000033  10000   100\n",
              "3   4  2018   4000000   400001    8  10.000025  10000   100\n",
              "4   5  2019   8000000   800001   16  10.000013  10000   100\n",
              "5   6  2020  16000000  1600001   32  10.000006  10000   100"
            ]
          },
          "execution_count": 206,
          "metadata": {},
          "output_type": "execute_result"
        }
      ],
      "source": [
        "df.drop('test', axis='columns') # 원본 삭제가 아닙니다!\n",
        "df"
      ]
    },
    {
      "cell_type": "code",
      "execution_count": 207,
      "metadata": {
        "id": "wA984QNzoZd4"
      },
      "outputs": [
        {
          "data": {
            "text/html": [
              "<div>\n",
              "<style scoped>\n",
              "    .dataframe tbody tr th:only-of-type {\n",
              "        vertical-align: middle;\n",
              "    }\n",
              "\n",
              "    .dataframe tbody tr th {\n",
              "        vertical-align: top;\n",
              "    }\n",
              "\n",
              "    .dataframe thead th {\n",
              "        text-align: right;\n",
              "    }\n",
              "</style>\n",
              "<table border=\"1\" class=\"dataframe\">\n",
              "  <thead>\n",
              "    <tr style=\"text-align: right;\">\n",
              "      <th></th>\n",
              "      <th>연차</th>\n",
              "      <th>연도</th>\n",
              "      <th>매출</th>\n",
              "      <th>순익</th>\n",
              "      <th>직원수</th>\n",
              "      <th>순이익률</th>\n",
              "      <th>test2</th>\n",
              "    </tr>\n",
              "  </thead>\n",
              "  <tbody>\n",
              "    <tr>\n",
              "      <th>0</th>\n",
              "      <td>1</td>\n",
              "      <td>2015</td>\n",
              "      <td>1000000</td>\n",
              "      <td>100001</td>\n",
              "      <td>1</td>\n",
              "      <td>10.000100</td>\n",
              "      <td>10000</td>\n",
              "    </tr>\n",
              "    <tr>\n",
              "      <th>1</th>\n",
              "      <td>2</td>\n",
              "      <td>2016</td>\n",
              "      <td>2000000</td>\n",
              "      <td>200001</td>\n",
              "      <td>2</td>\n",
              "      <td>10.000050</td>\n",
              "      <td>10000</td>\n",
              "    </tr>\n",
              "    <tr>\n",
              "      <th>2</th>\n",
              "      <td>3</td>\n",
              "      <td>2017</td>\n",
              "      <td>3000000</td>\n",
              "      <td>300001</td>\n",
              "      <td>4</td>\n",
              "      <td>10.000033</td>\n",
              "      <td>10000</td>\n",
              "    </tr>\n",
              "    <tr>\n",
              "      <th>3</th>\n",
              "      <td>4</td>\n",
              "      <td>2018</td>\n",
              "      <td>4000000</td>\n",
              "      <td>400001</td>\n",
              "      <td>8</td>\n",
              "      <td>10.000025</td>\n",
              "      <td>10000</td>\n",
              "    </tr>\n",
              "    <tr>\n",
              "      <th>4</th>\n",
              "      <td>5</td>\n",
              "      <td>2019</td>\n",
              "      <td>8000000</td>\n",
              "      <td>800001</td>\n",
              "      <td>16</td>\n",
              "      <td>10.000013</td>\n",
              "      <td>10000</td>\n",
              "    </tr>\n",
              "    <tr>\n",
              "      <th>5</th>\n",
              "      <td>6</td>\n",
              "      <td>2020</td>\n",
              "      <td>16000000</td>\n",
              "      <td>1600001</td>\n",
              "      <td>32</td>\n",
              "      <td>10.000006</td>\n",
              "      <td>10000</td>\n",
              "    </tr>\n",
              "  </tbody>\n",
              "</table>\n",
              "</div>"
            ],
            "text/plain": [
              "   연차    연도        매출       순익  직원수       순이익률  test2\n",
              "0   1  2015   1000000   100001    1  10.000100  10000\n",
              "1   2  2016   2000000   200001    2  10.000050  10000\n",
              "2   3  2017   3000000   300001    4  10.000033  10000\n",
              "3   4  2018   4000000   400001    8  10.000025  10000\n",
              "4   5  2019   8000000   800001   16  10.000013  10000\n",
              "5   6  2020  16000000  1600001   32  10.000006  10000"
            ]
          },
          "execution_count": 207,
          "metadata": {},
          "output_type": "execute_result"
        }
      ],
      "source": [
        "df.drop('test', axis='columns', inplace=True) # 2번 실행하면 error! 있을 때만 실행해야 합니다.\n",
        "df"
      ]
    },
    {
      "cell_type": "code",
      "execution_count": 197,
      "metadata": {
        "colab": {
          "base_uri": "https://localhost:8080/",
          "height": 237
        },
        "id": "gDr8IG98oo-q",
        "outputId": "d4cdd6f4-f22b-411e-ff18-320e97f01760"
      },
      "outputs": [
        {
          "data": {
            "text/html": [
              "<div>\n",
              "<style scoped>\n",
              "    .dataframe tbody tr th:only-of-type {\n",
              "        vertical-align: middle;\n",
              "    }\n",
              "\n",
              "    .dataframe tbody tr th {\n",
              "        vertical-align: top;\n",
              "    }\n",
              "\n",
              "    .dataframe thead th {\n",
              "        text-align: right;\n",
              "    }\n",
              "</style>\n",
              "<table border=\"1\" class=\"dataframe\">\n",
              "  <thead>\n",
              "    <tr style=\"text-align: right;\">\n",
              "      <th></th>\n",
              "      <th>연차</th>\n",
              "      <th>연도</th>\n",
              "      <th>매출</th>\n",
              "      <th>순익</th>\n",
              "      <th>직원수</th>\n",
              "      <th>순이익률</th>\n",
              "      <th>test</th>\n",
              "    </tr>\n",
              "  </thead>\n",
              "  <tbody>\n",
              "    <tr>\n",
              "      <th>0</th>\n",
              "      <td>1</td>\n",
              "      <td>2015</td>\n",
              "      <td>1000000</td>\n",
              "      <td>100001</td>\n",
              "      <td>1</td>\n",
              "      <td>10.000100</td>\n",
              "      <td>NaN</td>\n",
              "    </tr>\n",
              "    <tr>\n",
              "      <th>1</th>\n",
              "      <td>2</td>\n",
              "      <td>2016</td>\n",
              "      <td>2000000</td>\n",
              "      <td>200001</td>\n",
              "      <td>2</td>\n",
              "      <td>10.000050</td>\n",
              "      <td>NaN</td>\n",
              "    </tr>\n",
              "    <tr>\n",
              "      <th>2</th>\n",
              "      <td>3</td>\n",
              "      <td>2017</td>\n",
              "      <td>3000000</td>\n",
              "      <td>300001</td>\n",
              "      <td>4</td>\n",
              "      <td>10.000033</td>\n",
              "      <td>NaN</td>\n",
              "    </tr>\n",
              "    <tr>\n",
              "      <th>3</th>\n",
              "      <td>4</td>\n",
              "      <td>2018</td>\n",
              "      <td>4000000</td>\n",
              "      <td>400001</td>\n",
              "      <td>8</td>\n",
              "      <td>10.000025</td>\n",
              "      <td>NaN</td>\n",
              "    </tr>\n",
              "    <tr>\n",
              "      <th>4</th>\n",
              "      <td>5</td>\n",
              "      <td>2019</td>\n",
              "      <td>8000000</td>\n",
              "      <td>800001</td>\n",
              "      <td>16</td>\n",
              "      <td>10.000013</td>\n",
              "      <td>NaN</td>\n",
              "    </tr>\n",
              "    <tr>\n",
              "      <th>5</th>\n",
              "      <td>6</td>\n",
              "      <td>2020</td>\n",
              "      <td>16000000</td>\n",
              "      <td>1600001</td>\n",
              "      <td>32</td>\n",
              "      <td>10.000006</td>\n",
              "      <td>NaN</td>\n",
              "    </tr>\n",
              "  </tbody>\n",
              "</table>\n",
              "</div>"
            ],
            "text/plain": [
              "   연차    연도        매출       순익  직원수       순이익률  test\n",
              "0   1  2015   1000000   100001    1  10.000100   NaN\n",
              "1   2  2016   2000000   200001    2  10.000050   NaN\n",
              "2   3  2017   3000000   300001    4  10.000033   NaN\n",
              "3   4  2018   4000000   400001    8  10.000025   NaN\n",
              "4   5  2019   8000000   800001   16  10.000013   NaN\n",
              "5   6  2020  16000000  1600001   32  10.000006   NaN"
            ]
          },
          "execution_count": 197,
          "metadata": {},
          "output_type": "execute_result"
        }
      ],
      "source": [
        "df['test'] = np.nan\n",
        "df"
      ]
    },
    {
      "cell_type": "code",
      "execution_count": 198,
      "metadata": {
        "colab": {
          "base_uri": "https://localhost:8080/",
          "height": 237
        },
        "id": "YzwKSKC7o0GT",
        "outputId": "e6373224-b9c9-426c-fa7f-d266d4236d14"
      },
      "outputs": [
        {
          "data": {
            "text/html": [
              "<div>\n",
              "<style scoped>\n",
              "    .dataframe tbody tr th:only-of-type {\n",
              "        vertical-align: middle;\n",
              "    }\n",
              "\n",
              "    .dataframe tbody tr th {\n",
              "        vertical-align: top;\n",
              "    }\n",
              "\n",
              "    .dataframe thead th {\n",
              "        text-align: right;\n",
              "    }\n",
              "</style>\n",
              "<table border=\"1\" class=\"dataframe\">\n",
              "  <thead>\n",
              "    <tr style=\"text-align: right;\">\n",
              "      <th></th>\n",
              "      <th>연차</th>\n",
              "      <th>연도</th>\n",
              "      <th>매출</th>\n",
              "      <th>순익</th>\n",
              "      <th>직원수</th>\n",
              "      <th>순이익률</th>\n",
              "      <th>test</th>\n",
              "      <th>test2</th>\n",
              "    </tr>\n",
              "  </thead>\n",
              "  <tbody>\n",
              "    <tr>\n",
              "      <th>0</th>\n",
              "      <td>1</td>\n",
              "      <td>2015</td>\n",
              "      <td>1000000</td>\n",
              "      <td>100001</td>\n",
              "      <td>1</td>\n",
              "      <td>10.000100</td>\n",
              "      <td>NaN</td>\n",
              "      <td>None</td>\n",
              "    </tr>\n",
              "    <tr>\n",
              "      <th>1</th>\n",
              "      <td>2</td>\n",
              "      <td>2016</td>\n",
              "      <td>2000000</td>\n",
              "      <td>200001</td>\n",
              "      <td>2</td>\n",
              "      <td>10.000050</td>\n",
              "      <td>NaN</td>\n",
              "      <td>None</td>\n",
              "    </tr>\n",
              "    <tr>\n",
              "      <th>2</th>\n",
              "      <td>3</td>\n",
              "      <td>2017</td>\n",
              "      <td>3000000</td>\n",
              "      <td>300001</td>\n",
              "      <td>4</td>\n",
              "      <td>10.000033</td>\n",
              "      <td>NaN</td>\n",
              "      <td>None</td>\n",
              "    </tr>\n",
              "    <tr>\n",
              "      <th>3</th>\n",
              "      <td>4</td>\n",
              "      <td>2018</td>\n",
              "      <td>4000000</td>\n",
              "      <td>400001</td>\n",
              "      <td>8</td>\n",
              "      <td>10.000025</td>\n",
              "      <td>NaN</td>\n",
              "      <td>None</td>\n",
              "    </tr>\n",
              "    <tr>\n",
              "      <th>4</th>\n",
              "      <td>5</td>\n",
              "      <td>2019</td>\n",
              "      <td>8000000</td>\n",
              "      <td>800001</td>\n",
              "      <td>16</td>\n",
              "      <td>10.000013</td>\n",
              "      <td>NaN</td>\n",
              "      <td>None</td>\n",
              "    </tr>\n",
              "    <tr>\n",
              "      <th>5</th>\n",
              "      <td>6</td>\n",
              "      <td>2020</td>\n",
              "      <td>16000000</td>\n",
              "      <td>1600001</td>\n",
              "      <td>32</td>\n",
              "      <td>10.000006</td>\n",
              "      <td>NaN</td>\n",
              "      <td>None</td>\n",
              "    </tr>\n",
              "  </tbody>\n",
              "</table>\n",
              "</div>"
            ],
            "text/plain": [
              "   연차    연도        매출       순익  직원수       순이익률  test test2\n",
              "0   1  2015   1000000   100001    1  10.000100   NaN  None\n",
              "1   2  2016   2000000   200001    2  10.000050   NaN  None\n",
              "2   3  2017   3000000   300001    4  10.000033   NaN  None\n",
              "3   4  2018   4000000   400001    8  10.000025   NaN  None\n",
              "4   5  2019   8000000   800001   16  10.000013   NaN  None\n",
              "5   6  2020  16000000  1600001   32  10.000006   NaN  None"
            ]
          },
          "execution_count": 198,
          "metadata": {},
          "output_type": "execute_result"
        }
      ],
      "source": [
        "df['test2'] = None\n",
        "df"
      ]
    },
    {
      "cell_type": "code",
      "execution_count": 202,
      "metadata": {
        "colab": {
          "base_uri": "https://localhost:8080/",
          "height": 237
        },
        "id": "6jnWzKmio6u5",
        "outputId": "bbd31064-a75e-4096-bf20-285ea1314d56"
      },
      "outputs": [
        {
          "data": {
            "text/html": [
              "<div>\n",
              "<style scoped>\n",
              "    .dataframe tbody tr th:only-of-type {\n",
              "        vertical-align: middle;\n",
              "    }\n",
              "\n",
              "    .dataframe tbody tr th {\n",
              "        vertical-align: top;\n",
              "    }\n",
              "\n",
              "    .dataframe thead th {\n",
              "        text-align: right;\n",
              "    }\n",
              "</style>\n",
              "<table border=\"1\" class=\"dataframe\">\n",
              "  <thead>\n",
              "    <tr style=\"text-align: right;\">\n",
              "      <th></th>\n",
              "      <th>연차</th>\n",
              "      <th>연도</th>\n",
              "      <th>매출</th>\n",
              "      <th>순익</th>\n",
              "      <th>직원수</th>\n",
              "      <th>순이익률</th>\n",
              "      <th>test2</th>\n",
              "      <th>test</th>\n",
              "    </tr>\n",
              "  </thead>\n",
              "  <tbody>\n",
              "    <tr>\n",
              "      <th>0</th>\n",
              "      <td>1</td>\n",
              "      <td>2015</td>\n",
              "      <td>1000000</td>\n",
              "      <td>100001</td>\n",
              "      <td>1</td>\n",
              "      <td>10.000100</td>\n",
              "      <td>10000</td>\n",
              "      <td>10000</td>\n",
              "    </tr>\n",
              "    <tr>\n",
              "      <th>1</th>\n",
              "      <td>2</td>\n",
              "      <td>2016</td>\n",
              "      <td>2000000</td>\n",
              "      <td>200001</td>\n",
              "      <td>2</td>\n",
              "      <td>10.000050</td>\n",
              "      <td>10000</td>\n",
              "      <td>10000</td>\n",
              "    </tr>\n",
              "    <tr>\n",
              "      <th>2</th>\n",
              "      <td>3</td>\n",
              "      <td>2017</td>\n",
              "      <td>3000000</td>\n",
              "      <td>300001</td>\n",
              "      <td>4</td>\n",
              "      <td>10.000033</td>\n",
              "      <td>10000</td>\n",
              "      <td>10000</td>\n",
              "    </tr>\n",
              "    <tr>\n",
              "      <th>3</th>\n",
              "      <td>4</td>\n",
              "      <td>2018</td>\n",
              "      <td>4000000</td>\n",
              "      <td>400001</td>\n",
              "      <td>8</td>\n",
              "      <td>10.000025</td>\n",
              "      <td>10000</td>\n",
              "      <td>10000</td>\n",
              "    </tr>\n",
              "    <tr>\n",
              "      <th>4</th>\n",
              "      <td>5</td>\n",
              "      <td>2019</td>\n",
              "      <td>8000000</td>\n",
              "      <td>800001</td>\n",
              "      <td>16</td>\n",
              "      <td>10.000013</td>\n",
              "      <td>10000</td>\n",
              "      <td>10000</td>\n",
              "    </tr>\n",
              "    <tr>\n",
              "      <th>5</th>\n",
              "      <td>6</td>\n",
              "      <td>2020</td>\n",
              "      <td>16000000</td>\n",
              "      <td>1600001</td>\n",
              "      <td>32</td>\n",
              "      <td>10.000006</td>\n",
              "      <td>10000</td>\n",
              "      <td>10000</td>\n",
              "    </tr>\n",
              "  </tbody>\n",
              "</table>\n",
              "</div>"
            ],
            "text/plain": [
              "   연차    연도        매출       순익  직원수       순이익률  test2   test\n",
              "0   1  2015   1000000   100001    1  10.000100  10000  10000\n",
              "1   2  2016   2000000   200001    2  10.000050  10000  10000\n",
              "2   3  2017   3000000   300001    4  10.000033  10000  10000\n",
              "3   4  2018   4000000   400001    8  10.000025  10000  10000\n",
              "4   5  2019   8000000   800001   16  10.000013  10000  10000\n",
              "5   6  2020  16000000  1600001   32  10.000006  10000  10000"
            ]
          },
          "execution_count": 202,
          "metadata": {},
          "output_type": "execute_result"
        }
      ],
      "source": [
        "df[['test', 'test2']] = 10000\n",
        "df"
      ]
    },
    {
      "cell_type": "code",
      "execution_count": 203,
      "metadata": {
        "colab": {
          "base_uri": "https://localhost:8080/",
          "height": 237
        },
        "id": "Z-qQlyx_pE0R",
        "outputId": "57438704-b9c5-445f-a517-996e76a080d7"
      },
      "outputs": [
        {
          "data": {
            "text/html": [
              "<div>\n",
              "<style scoped>\n",
              "    .dataframe tbody tr th:only-of-type {\n",
              "        vertical-align: middle;\n",
              "    }\n",
              "\n",
              "    .dataframe tbody tr th {\n",
              "        vertical-align: top;\n",
              "    }\n",
              "\n",
              "    .dataframe thead th {\n",
              "        text-align: right;\n",
              "    }\n",
              "</style>\n",
              "<table border=\"1\" class=\"dataframe\">\n",
              "  <thead>\n",
              "    <tr style=\"text-align: right;\">\n",
              "      <th></th>\n",
              "      <th>연차</th>\n",
              "      <th>연도</th>\n",
              "      <th>매출</th>\n",
              "      <th>순익</th>\n",
              "      <th>직원수</th>\n",
              "      <th>순이익률</th>\n",
              "      <th>test2</th>\n",
              "    </tr>\n",
              "  </thead>\n",
              "  <tbody>\n",
              "    <tr>\n",
              "      <th>0</th>\n",
              "      <td>1</td>\n",
              "      <td>2015</td>\n",
              "      <td>1000000</td>\n",
              "      <td>100001</td>\n",
              "      <td>1</td>\n",
              "      <td>10.000100</td>\n",
              "      <td>10000</td>\n",
              "    </tr>\n",
              "    <tr>\n",
              "      <th>1</th>\n",
              "      <td>2</td>\n",
              "      <td>2016</td>\n",
              "      <td>2000000</td>\n",
              "      <td>200001</td>\n",
              "      <td>2</td>\n",
              "      <td>10.000050</td>\n",
              "      <td>10000</td>\n",
              "    </tr>\n",
              "    <tr>\n",
              "      <th>2</th>\n",
              "      <td>3</td>\n",
              "      <td>2017</td>\n",
              "      <td>3000000</td>\n",
              "      <td>300001</td>\n",
              "      <td>4</td>\n",
              "      <td>10.000033</td>\n",
              "      <td>10000</td>\n",
              "    </tr>\n",
              "    <tr>\n",
              "      <th>3</th>\n",
              "      <td>4</td>\n",
              "      <td>2018</td>\n",
              "      <td>4000000</td>\n",
              "      <td>400001</td>\n",
              "      <td>8</td>\n",
              "      <td>10.000025</td>\n",
              "      <td>10000</td>\n",
              "    </tr>\n",
              "    <tr>\n",
              "      <th>4</th>\n",
              "      <td>5</td>\n",
              "      <td>2019</td>\n",
              "      <td>8000000</td>\n",
              "      <td>800001</td>\n",
              "      <td>16</td>\n",
              "      <td>10.000013</td>\n",
              "      <td>10000</td>\n",
              "    </tr>\n",
              "    <tr>\n",
              "      <th>5</th>\n",
              "      <td>6</td>\n",
              "      <td>2020</td>\n",
              "      <td>16000000</td>\n",
              "      <td>1600001</td>\n",
              "      <td>32</td>\n",
              "      <td>10.000006</td>\n",
              "      <td>10000</td>\n",
              "    </tr>\n",
              "  </tbody>\n",
              "</table>\n",
              "</div>"
            ],
            "text/plain": [
              "   연차    연도        매출       순익  직원수       순이익률  test2\n",
              "0   1  2015   1000000   100001    1  10.000100  10000\n",
              "1   2  2016   2000000   200001    2  10.000050  10000\n",
              "2   3  2017   3000000   300001    4  10.000033  10000\n",
              "3   4  2018   4000000   400001    8  10.000025  10000\n",
              "4   5  2019   8000000   800001   16  10.000013  10000\n",
              "5   6  2020  16000000  1600001   32  10.000006  10000"
            ]
          },
          "execution_count": 203,
          "metadata": {},
          "output_type": "execute_result"
        }
      ],
      "source": [
        "del df['test']\n",
        "df\n",
        "# df.drop(['test'], axis='columns', inplace=True) #원본에 직접 반영\n",
        "# df"
      ]
    },
    {
      "cell_type": "code",
      "execution_count": 208,
      "metadata": {
        "colab": {
          "base_uri": "https://localhost:8080/",
          "height": 237
        },
        "id": "tG1e78NkpIeT",
        "outputId": "ea584f3c-b58a-4cb1-924c-aa0dccd2e121"
      },
      "outputs": [
        {
          "data": {
            "text/html": [
              "<div>\n",
              "<style scoped>\n",
              "    .dataframe tbody tr th:only-of-type {\n",
              "        vertical-align: middle;\n",
              "    }\n",
              "\n",
              "    .dataframe tbody tr th {\n",
              "        vertical-align: top;\n",
              "    }\n",
              "\n",
              "    .dataframe thead th {\n",
              "        text-align: right;\n",
              "    }\n",
              "</style>\n",
              "<table border=\"1\" class=\"dataframe\">\n",
              "  <thead>\n",
              "    <tr style=\"text-align: right;\">\n",
              "      <th></th>\n",
              "      <th>연차</th>\n",
              "      <th>연도</th>\n",
              "      <th>매출</th>\n",
              "      <th>순익</th>\n",
              "      <th>직원수</th>\n",
              "      <th>순이익률</th>\n",
              "    </tr>\n",
              "  </thead>\n",
              "  <tbody>\n",
              "    <tr>\n",
              "      <th>0</th>\n",
              "      <td>1</td>\n",
              "      <td>2015</td>\n",
              "      <td>1000000</td>\n",
              "      <td>100001</td>\n",
              "      <td>1</td>\n",
              "      <td>10.000100</td>\n",
              "    </tr>\n",
              "    <tr>\n",
              "      <th>1</th>\n",
              "      <td>2</td>\n",
              "      <td>2016</td>\n",
              "      <td>2000000</td>\n",
              "      <td>200001</td>\n",
              "      <td>2</td>\n",
              "      <td>10.000050</td>\n",
              "    </tr>\n",
              "    <tr>\n",
              "      <th>2</th>\n",
              "      <td>3</td>\n",
              "      <td>2017</td>\n",
              "      <td>3000000</td>\n",
              "      <td>300001</td>\n",
              "      <td>4</td>\n",
              "      <td>10.000033</td>\n",
              "    </tr>\n",
              "    <tr>\n",
              "      <th>3</th>\n",
              "      <td>4</td>\n",
              "      <td>2018</td>\n",
              "      <td>4000000</td>\n",
              "      <td>400001</td>\n",
              "      <td>8</td>\n",
              "      <td>10.000025</td>\n",
              "    </tr>\n",
              "    <tr>\n",
              "      <th>4</th>\n",
              "      <td>5</td>\n",
              "      <td>2019</td>\n",
              "      <td>8000000</td>\n",
              "      <td>800001</td>\n",
              "      <td>16</td>\n",
              "      <td>10.000013</td>\n",
              "    </tr>\n",
              "    <tr>\n",
              "      <th>5</th>\n",
              "      <td>6</td>\n",
              "      <td>2020</td>\n",
              "      <td>16000000</td>\n",
              "      <td>1600001</td>\n",
              "      <td>32</td>\n",
              "      <td>10.000006</td>\n",
              "    </tr>\n",
              "  </tbody>\n",
              "</table>\n",
              "</div>"
            ],
            "text/plain": [
              "   연차    연도        매출       순익  직원수       순이익률\n",
              "0   1  2015   1000000   100001    1  10.000100\n",
              "1   2  2016   2000000   200001    2  10.000050\n",
              "2   3  2017   3000000   300001    4  10.000033\n",
              "3   4  2018   4000000   400001    8  10.000025\n",
              "4   5  2019   8000000   800001   16  10.000013\n",
              "5   6  2020  16000000  1600001   32  10.000006"
            ]
          },
          "execution_count": 208,
          "metadata": {},
          "output_type": "execute_result"
        }
      ],
      "source": [
        "del df['test2']\n",
        "df\n",
        "# df.drop(['test2'], axis='columns', inplace=True) #원본에 직접 반영\n",
        "# df"
      ]
    },
    {
      "cell_type": "code",
      "execution_count": 211,
      "metadata": {
        "colab": {
          "base_uri": "https://localhost:8080/",
          "height": 81
        },
        "id": "QVMcBhjgqL9J",
        "outputId": "f9265ee0-5d86-4205-c901-0678dc4608cd"
      },
      "outputs": [
        {
          "data": {
            "text/html": [
              "<div>\n",
              "<style scoped>\n",
              "    .dataframe tbody tr th:only-of-type {\n",
              "        vertical-align: middle;\n",
              "    }\n",
              "\n",
              "    .dataframe tbody tr th {\n",
              "        vertical-align: top;\n",
              "    }\n",
              "\n",
              "    .dataframe thead th {\n",
              "        text-align: right;\n",
              "    }\n",
              "</style>\n",
              "<table border=\"1\" class=\"dataframe\">\n",
              "  <thead>\n",
              "    <tr style=\"text-align: right;\">\n",
              "      <th></th>\n",
              "      <th>연차</th>\n",
              "      <th>연도</th>\n",
              "      <th>매출</th>\n",
              "      <th>순익</th>\n",
              "      <th>직원수</th>\n",
              "    </tr>\n",
              "  </thead>\n",
              "  <tbody>\n",
              "    <tr>\n",
              "      <th>0</th>\n",
              "      <td>7</td>\n",
              "      <td>2021</td>\n",
              "      <td>160000000</td>\n",
              "      <td>16000001</td>\n",
              "      <td>60</td>\n",
              "    </tr>\n",
              "  </tbody>\n",
              "</table>\n",
              "</div>"
            ],
            "text/plain": [
              "   연차    연도         매출        순익  직원수\n",
              "0   7  2021  160000000  16000001   60"
            ]
          },
          "execution_count": 211,
          "metadata": {},
          "output_type": "execute_result"
        }
      ],
      "source": [
        "df2 = pd.DataFrame(\n",
        "        np.array([[7, \n",
        "                   2021, \n",
        "                   160000000, \n",
        "                   16000001, \n",
        "                   60]]),\n",
        "        columns=['연차',\n",
        "                 '연도',\n",
        "                 '매출',\n",
        "                 '순익',\n",
        "                 '직원수'])\n",
        "df2"
      ]
    },
    {
      "cell_type": "code",
      "execution_count": 213,
      "metadata": {
        "colab": {
          "base_uri": "https://localhost:8080/",
          "height": 269
        },
        "id": "l06PGyJdqSvB",
        "outputId": "60a81e0d-7c23-48bb-a46e-213d5d79edb2"
      },
      "outputs": [],
      "source": [
        "# df2.append(df) # pandas 2.0 이상 append 함수 사용하지 않음"
      ]
    },
    {
      "cell_type": "code",
      "execution_count": 215,
      "metadata": {
        "colab": {
          "base_uri": "https://localhost:8080/",
          "height": 269
        },
        "id": "r8x40vcDpfxD",
        "outputId": "e6ce87b9-884a-4a7e-be55-847fcbb6d4c9"
      },
      "outputs": [],
      "source": [
        "# df2 = pd.DataFrame(\n",
        "#         np.array([[7, \n",
        "#                    2021, \n",
        "#                    160000000, \n",
        "#                    16000001, \n",
        "#                    60]]),\n",
        "#         columns=['연차',\n",
        "#                  '연도',\n",
        "#                  '매출',\n",
        "#                  '순익',\n",
        "#                  '직원수']).append(df, ignore_index=True) # pandas 2.0 이상 append 함수 사용하지 않음\n",
        "# df2"
      ]
    },
    {
      "cell_type": "code",
      "execution_count": 216,
      "metadata": {
        "colab": {
          "base_uri": "https://localhost:8080/",
          "height": 81
        },
        "id": "7j9jLb3ZqgNC",
        "outputId": "4e69bc0d-e103-4ae3-e73e-21618bb64ed8"
      },
      "outputs": [
        {
          "data": {
            "text/html": [
              "<div>\n",
              "<style scoped>\n",
              "    .dataframe tbody tr th:only-of-type {\n",
              "        vertical-align: middle;\n",
              "    }\n",
              "\n",
              "    .dataframe tbody tr th {\n",
              "        vertical-align: top;\n",
              "    }\n",
              "\n",
              "    .dataframe thead th {\n",
              "        text-align: right;\n",
              "    }\n",
              "</style>\n",
              "<table border=\"1\" class=\"dataframe\">\n",
              "  <thead>\n",
              "    <tr style=\"text-align: right;\">\n",
              "      <th></th>\n",
              "      <th>연차</th>\n",
              "      <th>연도</th>\n",
              "      <th>매출</th>\n",
              "      <th>순익</th>\n",
              "      <th>직원수</th>\n",
              "    </tr>\n",
              "  </thead>\n",
              "  <tbody>\n",
              "    <tr>\n",
              "      <th>0</th>\n",
              "      <td>7</td>\n",
              "      <td>2021</td>\n",
              "      <td>160000000</td>\n",
              "      <td>16000001</td>\n",
              "      <td>60</td>\n",
              "    </tr>\n",
              "  </tbody>\n",
              "</table>\n",
              "</div>"
            ],
            "text/plain": [
              "   연차    연도         매출        순익  직원수\n",
              "0   7  2021  160000000  16000001   60"
            ]
          },
          "execution_count": 216,
          "metadata": {},
          "output_type": "execute_result"
        }
      ],
      "source": [
        "df2 = pd.DataFrame(\n",
        "        np.array([[7, \n",
        "                   2021, \n",
        "                   160000000, \n",
        "                   16000001, \n",
        "                   60]]),\n",
        "        columns=['연차',\n",
        "                 '연도',\n",
        "                 '매출',\n",
        "                 '순익',\n",
        "                 '직원수'])\n",
        "df2"
      ]
    },
    {
      "cell_type": "code",
      "execution_count": 220,
      "metadata": {
        "id": "1AQAt_flqjkL"
      },
      "outputs": [],
      "source": [
        "df = pd.concat([df, df2], ignore_index=True)"
      ]
    },
    {
      "cell_type": "code",
      "execution_count": 222,
      "metadata": {
        "id": "vniuDvVZq2Lx"
      },
      "outputs": [],
      "source": [
        "df.drop([0], inplace=True)"
      ]
    },
    {
      "cell_type": "code",
      "execution_count": 223,
      "metadata": {
        "colab": {
          "base_uri": "https://localhost:8080/",
          "height": 237
        },
        "id": "2CjruSy_q-Vb",
        "outputId": "a5f75c06-deae-49af-8f57-55c298be50e4"
      },
      "outputs": [
        {
          "data": {
            "text/html": [
              "<div>\n",
              "<style scoped>\n",
              "    .dataframe tbody tr th:only-of-type {\n",
              "        vertical-align: middle;\n",
              "    }\n",
              "\n",
              "    .dataframe tbody tr th {\n",
              "        vertical-align: top;\n",
              "    }\n",
              "\n",
              "    .dataframe thead th {\n",
              "        text-align: right;\n",
              "    }\n",
              "</style>\n",
              "<table border=\"1\" class=\"dataframe\">\n",
              "  <thead>\n",
              "    <tr style=\"text-align: right;\">\n",
              "      <th></th>\n",
              "      <th>연차</th>\n",
              "      <th>연도</th>\n",
              "      <th>매출</th>\n",
              "      <th>순익</th>\n",
              "      <th>직원수</th>\n",
              "      <th>순이익률</th>\n",
              "    </tr>\n",
              "  </thead>\n",
              "  <tbody>\n",
              "    <tr>\n",
              "      <th>1</th>\n",
              "      <td>2</td>\n",
              "      <td>2016</td>\n",
              "      <td>2000000</td>\n",
              "      <td>200001</td>\n",
              "      <td>2</td>\n",
              "      <td>10.000050</td>\n",
              "    </tr>\n",
              "    <tr>\n",
              "      <th>2</th>\n",
              "      <td>3</td>\n",
              "      <td>2017</td>\n",
              "      <td>3000000</td>\n",
              "      <td>300001</td>\n",
              "      <td>4</td>\n",
              "      <td>10.000033</td>\n",
              "    </tr>\n",
              "    <tr>\n",
              "      <th>3</th>\n",
              "      <td>4</td>\n",
              "      <td>2018</td>\n",
              "      <td>4000000</td>\n",
              "      <td>400001</td>\n",
              "      <td>8</td>\n",
              "      <td>10.000025</td>\n",
              "    </tr>\n",
              "    <tr>\n",
              "      <th>4</th>\n",
              "      <td>5</td>\n",
              "      <td>2019</td>\n",
              "      <td>8000000</td>\n",
              "      <td>800001</td>\n",
              "      <td>16</td>\n",
              "      <td>10.000013</td>\n",
              "    </tr>\n",
              "    <tr>\n",
              "      <th>5</th>\n",
              "      <td>6</td>\n",
              "      <td>2020</td>\n",
              "      <td>16000000</td>\n",
              "      <td>1600001</td>\n",
              "      <td>32</td>\n",
              "      <td>10.000006</td>\n",
              "    </tr>\n",
              "    <tr>\n",
              "      <th>6</th>\n",
              "      <td>7</td>\n",
              "      <td>2021</td>\n",
              "      <td>160000000</td>\n",
              "      <td>16000001</td>\n",
              "      <td>60</td>\n",
              "      <td>NaN</td>\n",
              "    </tr>\n",
              "  </tbody>\n",
              "</table>\n",
              "</div>"
            ],
            "text/plain": [
              "   연차    연도         매출        순익  직원수       순이익률\n",
              "1   2  2016    2000000    200001    2  10.000050\n",
              "2   3  2017    3000000    300001    4  10.000033\n",
              "3   4  2018    4000000    400001    8  10.000025\n",
              "4   5  2019    8000000    800001   16  10.000013\n",
              "5   6  2020   16000000   1600001   32  10.000006\n",
              "6   7  2021  160000000  16000001   60        NaN"
            ]
          },
          "execution_count": 223,
          "metadata": {},
          "output_type": "execute_result"
        }
      ],
      "source": [
        "df"
      ]
    },
    {
      "cell_type": "code",
      "execution_count": 224,
      "metadata": {
        "colab": {
          "base_uri": "https://localhost:8080/",
          "height": 143
        },
        "id": "N9jY7NEhrBvy",
        "outputId": "5ae0a445-dfce-4603-a641-4029d2615b6d"
      },
      "outputs": [
        {
          "data": {
            "text/html": [
              "<div>\n",
              "<style scoped>\n",
              "    .dataframe tbody tr th:only-of-type {\n",
              "        vertical-align: middle;\n",
              "    }\n",
              "\n",
              "    .dataframe tbody tr th {\n",
              "        vertical-align: top;\n",
              "    }\n",
              "\n",
              "    .dataframe thead th {\n",
              "        text-align: right;\n",
              "    }\n",
              "</style>\n",
              "<table border=\"1\" class=\"dataframe\">\n",
              "  <thead>\n",
              "    <tr style=\"text-align: right;\">\n",
              "      <th></th>\n",
              "      <th>연차</th>\n",
              "      <th>연도</th>\n",
              "      <th>매출</th>\n",
              "      <th>순익</th>\n",
              "      <th>직원수</th>\n",
              "      <th>순이익률</th>\n",
              "    </tr>\n",
              "  </thead>\n",
              "  <tbody>\n",
              "    <tr>\n",
              "      <th>4</th>\n",
              "      <td>5</td>\n",
              "      <td>2019</td>\n",
              "      <td>8000000</td>\n",
              "      <td>800001</td>\n",
              "      <td>16</td>\n",
              "      <td>10.000013</td>\n",
              "    </tr>\n",
              "    <tr>\n",
              "      <th>5</th>\n",
              "      <td>6</td>\n",
              "      <td>2020</td>\n",
              "      <td>16000000</td>\n",
              "      <td>1600001</td>\n",
              "      <td>32</td>\n",
              "      <td>10.000006</td>\n",
              "    </tr>\n",
              "    <tr>\n",
              "      <th>6</th>\n",
              "      <td>7</td>\n",
              "      <td>2021</td>\n",
              "      <td>160000000</td>\n",
              "      <td>16000001</td>\n",
              "      <td>60</td>\n",
              "      <td>NaN</td>\n",
              "    </tr>\n",
              "  </tbody>\n",
              "</table>\n",
              "</div>"
            ],
            "text/plain": [
              "   연차    연도         매출        순익  직원수       순이익률\n",
              "4   5  2019    8000000    800001   16  10.000013\n",
              "5   6  2020   16000000   1600001   32  10.000006\n",
              "6   7  2021  160000000  16000001   60        NaN"
            ]
          },
          "execution_count": 224,
          "metadata": {},
          "output_type": "execute_result"
        }
      ],
      "source": [
        "df.매출 > 5000000\n",
        "df[df.매출 > 5000000]"
      ]
    },
    {
      "cell_type": "code",
      "execution_count": 225,
      "metadata": {
        "colab": {
          "base_uri": "https://localhost:8080/",
          "height": 143
        },
        "id": "FfYtDNksrMBp",
        "outputId": "49410890-17b7-4b4e-f8ae-44b550c0e0b0"
      },
      "outputs": [
        {
          "data": {
            "text/html": [
              "<div>\n",
              "<style scoped>\n",
              "    .dataframe tbody tr th:only-of-type {\n",
              "        vertical-align: middle;\n",
              "    }\n",
              "\n",
              "    .dataframe tbody tr th {\n",
              "        vertical-align: top;\n",
              "    }\n",
              "\n",
              "    .dataframe thead th {\n",
              "        text-align: right;\n",
              "    }\n",
              "</style>\n",
              "<table border=\"1\" class=\"dataframe\">\n",
              "  <thead>\n",
              "    <tr style=\"text-align: right;\">\n",
              "      <th></th>\n",
              "      <th>매출</th>\n",
              "      <th>순익</th>\n",
              "    </tr>\n",
              "  </thead>\n",
              "  <tbody>\n",
              "    <tr>\n",
              "      <th>4</th>\n",
              "      <td>8000000</td>\n",
              "      <td>800001</td>\n",
              "    </tr>\n",
              "    <tr>\n",
              "      <th>5</th>\n",
              "      <td>16000000</td>\n",
              "      <td>1600001</td>\n",
              "    </tr>\n",
              "    <tr>\n",
              "      <th>6</th>\n",
              "      <td>160000000</td>\n",
              "      <td>16000001</td>\n",
              "    </tr>\n",
              "  </tbody>\n",
              "</table>\n",
              "</div>"
            ],
            "text/plain": [
              "          매출        순익\n",
              "4    8000000    800001\n",
              "5   16000000   1600001\n",
              "6  160000000  16000001"
            ]
          },
          "execution_count": 225,
          "metadata": {},
          "output_type": "execute_result"
        }
      ],
      "source": [
        "df[df.매출 > 5000000]['매출']\n",
        "df[df.매출 > 5000000][['매출', '순익']]\n",
        "# df[df.매출 > 5000000]['매출', '순익'] #error\n",
        "df.loc[df.매출 > 5000000, ['매출', '순익']]"
      ]
    },
    {
      "cell_type": "code",
      "execution_count": 3,
      "metadata": {
        "colab": {
          "base_uri": "https://localhost:8080/",
          "height": 237
        },
        "id": "3rHsdXD-suG4",
        "outputId": "43f1f2c9-9433-49c7-8731-a031ed136ec7"
      },
      "outputs": [
        {
          "data": {
            "text/html": [
              "<div>\n",
              "<style scoped>\n",
              "    .dataframe tbody tr th:only-of-type {\n",
              "        vertical-align: middle;\n",
              "    }\n",
              "\n",
              "    .dataframe tbody tr th {\n",
              "        vertical-align: top;\n",
              "    }\n",
              "\n",
              "    .dataframe thead th {\n",
              "        text-align: right;\n",
              "    }\n",
              "</style>\n",
              "<table border=\"1\" class=\"dataframe\">\n",
              "  <thead>\n",
              "    <tr style=\"text-align: right;\">\n",
              "      <th></th>\n",
              "      <th>연차</th>\n",
              "      <th>연도</th>\n",
              "      <th>매출</th>\n",
              "      <th>순익</th>\n",
              "      <th>직원수</th>\n",
              "    </tr>\n",
              "  </thead>\n",
              "  <tbody>\n",
              "    <tr>\n",
              "      <th>0</th>\n",
              "      <td>1</td>\n",
              "      <td>2015</td>\n",
              "      <td>1000000</td>\n",
              "      <td>100001</td>\n",
              "      <td>1.0</td>\n",
              "    </tr>\n",
              "    <tr>\n",
              "      <th>1</th>\n",
              "      <td>2</td>\n",
              "      <td>2016</td>\n",
              "      <td>2000000</td>\n",
              "      <td>200001</td>\n",
              "      <td>2.0</td>\n",
              "    </tr>\n",
              "    <tr>\n",
              "      <th>2</th>\n",
              "      <td>3</td>\n",
              "      <td>2017</td>\n",
              "      <td>3000000</td>\n",
              "      <td>300001</td>\n",
              "      <td>4.0</td>\n",
              "    </tr>\n",
              "    <tr>\n",
              "      <th>3</th>\n",
              "      <td>4</td>\n",
              "      <td>2018</td>\n",
              "      <td>4000000</td>\n",
              "      <td>400001</td>\n",
              "      <td>8.0</td>\n",
              "    </tr>\n",
              "    <tr>\n",
              "      <th>4</th>\n",
              "      <td>5</td>\n",
              "      <td>2019</td>\n",
              "      <td>8000000</td>\n",
              "      <td>800001</td>\n",
              "      <td>16.0</td>\n",
              "    </tr>\n",
              "    <tr>\n",
              "      <th>5</th>\n",
              "      <td>6</td>\n",
              "      <td>2020</td>\n",
              "      <td>16000000</td>\n",
              "      <td>1600001</td>\n",
              "      <td>32.0</td>\n",
              "    </tr>\n",
              "  </tbody>\n",
              "</table>\n",
              "</div>"
            ],
            "text/plain": [
              "   연차    연도        매출       순익   직원수\n",
              "0   1  2015   1000000   100001   1.0\n",
              "1   2  2016   2000000   200001   2.0\n",
              "2   3  2017   3000000   300001   4.0\n",
              "3   4  2018   4000000   400001   8.0\n",
              "4   5  2019   8000000   800001  16.0\n",
              "5   6  2020  16000000  1600001  32.0"
            ]
          },
          "execution_count": 3,
          "metadata": {},
          "output_type": "execute_result"
        }
      ],
      "source": [
        "rawData = {\n",
        "    '연차':[1, 2, 3, 4, 5, 6],\n",
        "    '연도':[2015, 2016, 2017, 2018, 2019, 2020],\n",
        "    '매출':[1000000, 2000000, 3000000, 4000000, 8000000, 16000000],\n",
        "    '순익':[100001, 200001, 300001, 400001, 800001, 1600001],\n",
        "    '직원수':[1.0, 2.0, 4.0, 8.0, 16.0, 32.0]\n",
        "}\n",
        "\n",
        "df = pd.DataFrame(rawData)\n",
        "df"
      ]
    },
    {
      "cell_type": "code",
      "execution_count": 4,
      "metadata": {
        "colab": {
          "base_uri": "https://localhost:8080/"
        },
        "id": "vOhOrw5itsg3",
        "outputId": "03e0f2df-9dff-4436-ade1-808dd76aba35"
      },
      "outputs": [
        {
          "data": {
            "text/plain": [
              "연차       int64\n",
              "연도       int64\n",
              "매출       int64\n",
              "순익       int64\n",
              "직원수    float64\n",
              "dtype: object"
            ]
          },
          "execution_count": 4,
          "metadata": {},
          "output_type": "execute_result"
        }
      ],
      "source": [
        "df.dtypes"
      ]
    },
    {
      "cell_type": "code",
      "execution_count": 5,
      "metadata": {
        "colab": {
          "base_uri": "https://localhost:8080/",
          "height": 237
        },
        "id": "rgL752ZftzSh",
        "outputId": "2e5cb65e-c2bd-473f-b367-d93298432424"
      },
      "outputs": [
        {
          "data": {
            "text/html": [
              "<div>\n",
              "<style scoped>\n",
              "    .dataframe tbody tr th:only-of-type {\n",
              "        vertical-align: middle;\n",
              "    }\n",
              "\n",
              "    .dataframe tbody tr th {\n",
              "        vertical-align: top;\n",
              "    }\n",
              "\n",
              "    .dataframe thead th {\n",
              "        text-align: right;\n",
              "    }\n",
              "</style>\n",
              "<table border=\"1\" class=\"dataframe\">\n",
              "  <thead>\n",
              "    <tr style=\"text-align: right;\">\n",
              "      <th></th>\n",
              "      <th>연차</th>\n",
              "      <th>연도</th>\n",
              "      <th>매출</th>\n",
              "      <th>순익</th>\n",
              "      <th>직원수</th>\n",
              "    </tr>\n",
              "  </thead>\n",
              "  <tbody>\n",
              "    <tr>\n",
              "      <th>0</th>\n",
              "      <td>1</td>\n",
              "      <td>2015</td>\n",
              "      <td>1000000</td>\n",
              "      <td>100001</td>\n",
              "      <td>1</td>\n",
              "    </tr>\n",
              "    <tr>\n",
              "      <th>1</th>\n",
              "      <td>2</td>\n",
              "      <td>2016</td>\n",
              "      <td>2000000</td>\n",
              "      <td>200001</td>\n",
              "      <td>2</td>\n",
              "    </tr>\n",
              "    <tr>\n",
              "      <th>2</th>\n",
              "      <td>3</td>\n",
              "      <td>2017</td>\n",
              "      <td>3000000</td>\n",
              "      <td>300001</td>\n",
              "      <td>4</td>\n",
              "    </tr>\n",
              "    <tr>\n",
              "      <th>3</th>\n",
              "      <td>4</td>\n",
              "      <td>2018</td>\n",
              "      <td>4000000</td>\n",
              "      <td>400001</td>\n",
              "      <td>8</td>\n",
              "    </tr>\n",
              "    <tr>\n",
              "      <th>4</th>\n",
              "      <td>5</td>\n",
              "      <td>2019</td>\n",
              "      <td>8000000</td>\n",
              "      <td>800001</td>\n",
              "      <td>16</td>\n",
              "    </tr>\n",
              "    <tr>\n",
              "      <th>5</th>\n",
              "      <td>6</td>\n",
              "      <td>2020</td>\n",
              "      <td>16000000</td>\n",
              "      <td>1600001</td>\n",
              "      <td>32</td>\n",
              "    </tr>\n",
              "  </tbody>\n",
              "</table>\n",
              "</div>"
            ],
            "text/plain": [
              "   연차    연도        매출       순익  직원수\n",
              "0   1  2015   1000000   100001    1\n",
              "1   2  2016   2000000   200001    2\n",
              "2   3  2017   3000000   300001    4\n",
              "3   4  2018   4000000   400001    8\n",
              "4   5  2019   8000000   800001   16\n",
              "5   6  2020  16000000  1600001   32"
            ]
          },
          "execution_count": 5,
          "metadata": {},
          "output_type": "execute_result"
        }
      ],
      "source": [
        "df['직원수'] = df['직원수'].astype('int')\n",
        "df"
      ]
    },
    {
      "cell_type": "code",
      "execution_count": 6,
      "metadata": {
        "colab": {
          "base_uri": "https://localhost:8080/"
        },
        "id": "5yUx531Tt8RN",
        "outputId": "c5520857-aced-46df-c0c1-582f8c0059c9"
      },
      "outputs": [
        {
          "data": {
            "text/plain": [
              "연차     int64\n",
              "연도     int64\n",
              "매출     int64\n",
              "순익     int64\n",
              "직원수    int32\n",
              "dtype: object"
            ]
          },
          "execution_count": 6,
          "metadata": {},
          "output_type": "execute_result"
        }
      ],
      "source": [
        "df.dtypes"
      ]
    },
    {
      "cell_type": "code",
      "execution_count": 7,
      "metadata": {
        "colab": {
          "base_uri": "https://localhost:8080/"
        },
        "id": "g-ftnlVUuBau",
        "outputId": "3d296ffe-491b-434a-803c-10093fe7b90d"
      },
      "outputs": [
        {
          "data": {
            "text/plain": [
              "0        1\n",
              "1        2\n",
              "2        3\n",
              "3    hojun\n",
              "4     True\n",
              "5     10.1\n",
              "dtype: object"
            ]
          },
          "execution_count": 7,
          "metadata": {},
          "output_type": "execute_result"
        }
      ],
      "source": [
        "pd.Series([1, '2', '3', 'hojun', True, 10.1])"
      ]
    },
    {
      "cell_type": "code",
      "execution_count": null,
      "metadata": {
        "id": "3NkPmY0WuFdl"
      },
      "outputs": [],
      "source": [
        "data = pd.Series([1, '2', '3', 'hojun', True, 10.1])\n",
        "data.astype('int') # error 발생, 'hojun' 은 int 자료형으로 바꿀 수 없음"
      ]
    },
    {
      "cell_type": "code",
      "execution_count": 10,
      "metadata": {
        "colab": {
          "base_uri": "https://localhost:8080/"
        },
        "id": "_qapO51luYW5",
        "outputId": "c45ac4b7-b1f8-4ca0-c13f-924d73065862"
      },
      "outputs": [
        {
          "name": "stderr",
          "output_type": "stream",
          "text": [
            "C:\\Users\\kwon3\\AppData\\Local\\Temp\\ipykernel_24996\\684615866.py:1: FutureWarning: errors='ignore' is deprecated and will raise in a future version. Use to_numeric without passing `errors` and catch exceptions explicitly instead\n",
            "  pd.to_numeric(pd.Series([1, '2', '3', 'hojun', True, 10.1]), errors='ignore')\n"
          ]
        },
        {
          "data": {
            "text/plain": [
              "0        1\n",
              "1        2\n",
              "2        3\n",
              "3    hojun\n",
              "4     True\n",
              "5     10.1\n",
              "dtype: object"
            ]
          },
          "execution_count": 10,
          "metadata": {},
          "output_type": "execute_result"
        }
      ],
      "source": [
        "pd.to_numeric(pd.Series([1, '2', '3', 'hojun', True, 10.1]), errors='ignore')"
      ]
    },
    {
      "cell_type": "code",
      "execution_count": 11,
      "metadata": {
        "colab": {
          "base_uri": "https://localhost:8080/"
        },
        "id": "FLttTa1GuzEv",
        "outputId": "e514f063-5e97-4d49-ed6d-441219c1947f"
      },
      "outputs": [
        {
          "data": {
            "text/plain": [
              "0     1.0\n",
              "1     2.0\n",
              "2     3.0\n",
              "3     NaN\n",
              "4     1.0\n",
              "5    10.1\n",
              "dtype: float64"
            ]
          },
          "execution_count": 11,
          "metadata": {},
          "output_type": "execute_result"
        }
      ],
      "source": [
        "pd.to_numeric(pd.Series([1, '2', '3', 'hojun', True, 10.1]), errors='coerce')"
      ]
    },
    {
      "cell_type": "code",
      "execution_count": 12,
      "metadata": {
        "colab": {
          "base_uri": "https://localhost:8080/"
        },
        "id": "gt4TONYyu5FQ",
        "outputId": "0f9f5ba2-7f2e-46d7-b997-e80369ca9cff"
      },
      "outputs": [
        {
          "data": {
            "text/plain": [
              "0     1.0\n",
              "1     2.0\n",
              "2     3.0\n",
              "3     1.0\n",
              "4    10.1\n",
              "dtype: float64"
            ]
          },
          "execution_count": 12,
          "metadata": {},
          "output_type": "execute_result"
        }
      ],
      "source": [
        "pd.to_numeric(pd.Series([1, '2', '3', True, 10.1]))"
      ]
    },
    {
      "cell_type": "markdown",
      "metadata": {
        "id": "NbF-krggvkAn"
      },
      "source": [
        "### 4.3 MultiIndex\n",
        "\n",
        "- Index를 설정할 때 리스트의 리스트 형태로 넣어주면 다중 인덱스가 설정이 된다."
      ]
    },
    {
      "cell_type": "code",
      "execution_count": 16,
      "metadata": {
        "colab": {
          "base_uri": "https://localhost:8080/",
          "height": 175
        },
        "id": "p0YRnjhbvoyk",
        "outputId": "132089e8-25e2-4eb5-d6e1-7fe97f3ff41f"
      },
      "outputs": [
        {
          "data": {
            "text/html": [
              "<div>\n",
              "<style scoped>\n",
              "    .dataframe tbody tr th:only-of-type {\n",
              "        vertical-align: middle;\n",
              "    }\n",
              "\n",
              "    .dataframe tbody tr th {\n",
              "        vertical-align: top;\n",
              "    }\n",
              "\n",
              "    .dataframe thead th {\n",
              "        text-align: right;\n",
              "    }\n",
              "</style>\n",
              "<table border=\"1\" class=\"dataframe\">\n",
              "  <thead>\n",
              "    <tr style=\"text-align: right;\">\n",
              "      <th></th>\n",
              "      <th></th>\n",
              "      <th>국</th>\n",
              "      <th>영</th>\n",
              "      <th>수</th>\n",
              "    </tr>\n",
              "  </thead>\n",
              "  <tbody>\n",
              "    <tr>\n",
              "      <th rowspan=\"2\" valign=\"top\">1학년</th>\n",
              "      <th>1반</th>\n",
              "      <td>63</td>\n",
              "      <td>54</td>\n",
              "      <td>80</td>\n",
              "    </tr>\n",
              "    <tr>\n",
              "      <th>2반</th>\n",
              "      <td>75</td>\n",
              "      <td>86</td>\n",
              "      <td>79</td>\n",
              "    </tr>\n",
              "    <tr>\n",
              "      <th rowspan=\"2\" valign=\"top\">2학년</th>\n",
              "      <th>1반</th>\n",
              "      <td>51</td>\n",
              "      <td>53</td>\n",
              "      <td>71</td>\n",
              "    </tr>\n",
              "    <tr>\n",
              "      <th>2반</th>\n",
              "      <td>77</td>\n",
              "      <td>52</td>\n",
              "      <td>95</td>\n",
              "    </tr>\n",
              "  </tbody>\n",
              "</table>\n",
              "</div>"
            ],
            "text/plain": [
              "         국   영   수\n",
              "1학년 1반  63  54  80\n",
              "    2반  75  86  79\n",
              "2학년 1반  51  53  71\n",
              "    2반  77  52  95"
            ]
          },
          "execution_count": 16,
          "metadata": {},
          "output_type": "execute_result"
        }
      ],
      "source": [
        "df = pd.DataFrame(\n",
        "            np.random.randint(50, 100, size=(4, 3)),\n",
        "            index=[['1학년', '1학년', '2학년', '2학년'], \n",
        "                   ['1반', '2반', '1반', '2반']],\n",
        "            columns=['국', '영', '수']\n",
        "        )\n",
        "\n",
        "df"
      ]
    },
    {
      "cell_type": "code",
      "execution_count": 17,
      "metadata": {
        "colab": {
          "base_uri": "https://localhost:8080/"
        },
        "id": "NYvMQx-VwHEZ",
        "outputId": "9740f8fa-cb84-4dde-e992-4e867c2f03dc"
      },
      "outputs": [
        {
          "data": {
            "text/plain": [
              "MultiIndex([('1학년', '1반'),\n",
              "            ('1학년', '2반'),\n",
              "            ('2학년', '1반'),\n",
              "            ('2학년', '2반')],\n",
              "           )"
            ]
          },
          "execution_count": 17,
          "metadata": {},
          "output_type": "execute_result"
        }
      ],
      "source": [
        "df.index"
      ]
    },
    {
      "cell_type": "code",
      "execution_count": 18,
      "metadata": {
        "colab": {
          "base_uri": "https://localhost:8080/"
        },
        "id": "mVAOtPHmwRel",
        "outputId": "bfb63385-356a-4d9b-eb10-e570a669695e"
      },
      "outputs": [
        {
          "data": {
            "text/plain": [
              "Index(['국', '영', '수'], dtype='object')"
            ]
          },
          "execution_count": 18,
          "metadata": {},
          "output_type": "execute_result"
        }
      ],
      "source": [
        "df.columns"
      ]
    },
    {
      "cell_type": "code",
      "execution_count": 19,
      "metadata": {
        "colab": {
          "base_uri": "https://localhost:8080/"
        },
        "id": "t_K9f_ZNwWNr",
        "outputId": "b8c3c54b-fe62-4559-8cff-a44bba0edb39"
      },
      "outputs": [
        {
          "data": {
            "text/plain": [
              "1학년  1반    63\n",
              "     2반    75\n",
              "2학년  1반    51\n",
              "     2반    77\n",
              "Name: 국, dtype: int32"
            ]
          },
          "execution_count": 19,
          "metadata": {},
          "output_type": "execute_result"
        }
      ],
      "source": [
        "df['국']"
      ]
    },
    {
      "cell_type": "code",
      "execution_count": 20,
      "metadata": {
        "colab": {
          "base_uri": "https://localhost:8080/",
          "height": 175
        },
        "id": "W66Orqs-waTz",
        "outputId": "6e17a84f-953a-4441-8e65-c7c8664ae874"
      },
      "outputs": [
        {
          "data": {
            "text/html": [
              "<div>\n",
              "<style scoped>\n",
              "    .dataframe tbody tr th:only-of-type {\n",
              "        vertical-align: middle;\n",
              "    }\n",
              "\n",
              "    .dataframe tbody tr th {\n",
              "        vertical-align: top;\n",
              "    }\n",
              "\n",
              "    .dataframe thead th {\n",
              "        text-align: right;\n",
              "    }\n",
              "</style>\n",
              "<table border=\"1\" class=\"dataframe\">\n",
              "  <thead>\n",
              "    <tr style=\"text-align: right;\">\n",
              "      <th></th>\n",
              "      <th></th>\n",
              "      <th>국</th>\n",
              "      <th>영</th>\n",
              "    </tr>\n",
              "  </thead>\n",
              "  <tbody>\n",
              "    <tr>\n",
              "      <th rowspan=\"2\" valign=\"top\">1학년</th>\n",
              "      <th>1반</th>\n",
              "      <td>63</td>\n",
              "      <td>54</td>\n",
              "    </tr>\n",
              "    <tr>\n",
              "      <th>2반</th>\n",
              "      <td>75</td>\n",
              "      <td>86</td>\n",
              "    </tr>\n",
              "    <tr>\n",
              "      <th rowspan=\"2\" valign=\"top\">2학년</th>\n",
              "      <th>1반</th>\n",
              "      <td>51</td>\n",
              "      <td>53</td>\n",
              "    </tr>\n",
              "    <tr>\n",
              "      <th>2반</th>\n",
              "      <td>77</td>\n",
              "      <td>52</td>\n",
              "    </tr>\n",
              "  </tbody>\n",
              "</table>\n",
              "</div>"
            ],
            "text/plain": [
              "         국   영\n",
              "1학년 1반  63  54\n",
              "    2반  75  86\n",
              "2학년 1반  51  53\n",
              "    2반  77  52"
            ]
          },
          "execution_count": 20,
          "metadata": {},
          "output_type": "execute_result"
        }
      ],
      "source": [
        "df[['국', '영']]"
      ]
    },
    {
      "cell_type": "code",
      "execution_count": 21,
      "metadata": {
        "colab": {
          "base_uri": "https://localhost:8080/"
        },
        "id": "1H3OJ81Ewe9s",
        "outputId": "662bcbe8-a215-4356-9cbd-031fb2680ca9"
      },
      "outputs": [
        {
          "data": {
            "text/plain": [
              "국    63\n",
              "영    54\n",
              "수    80\n",
              "Name: (1학년, 1반), dtype: int32"
            ]
          },
          "execution_count": 21,
          "metadata": {},
          "output_type": "execute_result"
        }
      ],
      "source": [
        "df.loc['1학년']\n",
        "# df.loc['1학년']['1반']\n",
        "df.loc['1학년', '1반']"
      ]
    },
    {
      "cell_type": "code",
      "execution_count": 22,
      "metadata": {
        "colab": {
          "base_uri": "https://localhost:8080/",
          "height": 175
        },
        "id": "mUE52-Cvw67F",
        "outputId": "f0d8de08-65c6-4537-a33c-05e74a856443"
      },
      "outputs": [
        {
          "data": {
            "text/html": [
              "<div>\n",
              "<style scoped>\n",
              "    .dataframe tbody tr th:only-of-type {\n",
              "        vertical-align: middle;\n",
              "    }\n",
              "\n",
              "    .dataframe tbody tr th {\n",
              "        vertical-align: top;\n",
              "    }\n",
              "\n",
              "    .dataframe thead th {\n",
              "        text-align: right;\n",
              "    }\n",
              "</style>\n",
              "<table border=\"1\" class=\"dataframe\">\n",
              "  <thead>\n",
              "    <tr style=\"text-align: right;\">\n",
              "      <th></th>\n",
              "      <th></th>\n",
              "      <th></th>\n",
              "      <th>국</th>\n",
              "      <th>영</th>\n",
              "      <th>수</th>\n",
              "    </tr>\n",
              "  </thead>\n",
              "  <tbody>\n",
              "    <tr>\n",
              "      <th rowspan=\"4\" valign=\"top\">제주고</th>\n",
              "      <th rowspan=\"2\" valign=\"top\">1학년</th>\n",
              "      <th>1반</th>\n",
              "      <td>63</td>\n",
              "      <td>54</td>\n",
              "      <td>80</td>\n",
              "    </tr>\n",
              "    <tr>\n",
              "      <th>2반</th>\n",
              "      <td>75</td>\n",
              "      <td>86</td>\n",
              "      <td>79</td>\n",
              "    </tr>\n",
              "    <tr>\n",
              "      <th rowspan=\"2\" valign=\"top\">2학년</th>\n",
              "      <th>1반</th>\n",
              "      <td>51</td>\n",
              "      <td>53</td>\n",
              "      <td>71</td>\n",
              "    </tr>\n",
              "    <tr>\n",
              "      <th>2반</th>\n",
              "      <td>77</td>\n",
              "      <td>52</td>\n",
              "      <td>95</td>\n",
              "    </tr>\n",
              "  </tbody>\n",
              "</table>\n",
              "</div>"
            ],
            "text/plain": [
              "             국   영   수\n",
              "제주고 1학년 1반  63  54  80\n",
              "        2반  75  86  79\n",
              "    2학년 1반  51  53  71\n",
              "        2반  77  52  95"
            ]
          },
          "execution_count": 22,
          "metadata": {},
          "output_type": "execute_result"
        }
      ],
      "source": [
        "df.index = [['제주고', '제주고', '제주고', '제주고'], \n",
        "            ['1학년', '1학년', '2학년', '2학년'], \n",
        "            ['1반', '2반', '1반', '2반']]\n",
        "\n",
        "df"
      ]
    }
  ],
  "metadata": {
    "colab": {
      "provenance": []
    },
    "kernelspec": {
      "display_name": "Python 3",
      "name": "python3"
    },
    "language_info": {
      "codemirror_mode": {
        "name": "ipython",
        "version": 3
      },
      "file_extension": ".py",
      "mimetype": "text/x-python",
      "name": "python",
      "nbconvert_exporter": "python",
      "pygments_lexer": "ipython3",
      "version": "3.10.8"
    }
  },
  "nbformat": 4,
  "nbformat_minor": 0
}
