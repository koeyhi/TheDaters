{
 "cells": [
  {
   "cell_type": "markdown",
   "metadata": {},
   "source": [
    "## 1.7 연습문제"
   ]
  },
  {
   "cell_type": "markdown",
   "metadata": {},
   "source": [
    "### 1."
   ]
  },
  {
   "cell_type": "markdown",
   "metadata": {},
   "source": [
    "3, 5, 6 ```변수명 맨앞에 숫자 x```"
   ]
  },
  {
   "cell_type": "markdown",
   "metadata": {},
   "source": [
    "### 2."
   ]
  },
  {
   "cell_type": "code",
   "execution_count": 1,
   "metadata": {},
   "outputs": [
    {
     "data": {
      "text/plain": [
       "'abcabc'"
      ]
     },
     "execution_count": 1,
     "metadata": {},
     "output_type": "execute_result"
    }
   ],
   "source": [
    "'abc' * 2"
   ]
  },
  {
   "cell_type": "markdown",
   "metadata": {},
   "source": [
    "### 3."
   ]
  },
  {
   "cell_type": "code",
   "execution_count": 2,
   "metadata": {},
   "outputs": [
    {
     "data": {
      "text/plain": [
       "'4'"
      ]
     },
     "execution_count": 2,
     "metadata": {},
     "output_type": "execute_result"
    }
   ],
   "source": [
    "num = 1234567890\n",
    "list(str(num))[3]"
   ]
  },
  {
   "cell_type": "markdown",
   "metadata": {},
   "source": [
    "## 2.4 연습문제"
   ]
  },
  {
   "cell_type": "markdown",
   "metadata": {},
   "source": [
    "### 1."
   ]
  },
  {
   "cell_type": "markdown",
   "metadata": {},
   "source": [
    "```\n",
    "False True True True\n",
    "```"
   ]
  },
  {
   "cell_type": "markdown",
   "metadata": {},
   "source": [
    "### 2."
   ]
  },
  {
   "cell_type": "markdown",
   "metadata": {},
   "source": [
    "```False```"
   ]
  },
  {
   "cell_type": "markdown",
   "metadata": {},
   "source": [
    "### 3."
   ]
  },
  {
   "cell_type": "code",
   "execution_count": 3,
   "metadata": {},
   "outputs": [
    {
     "data": {
      "text/plain": [
       "10"
      ]
     },
     "execution_count": 3,
     "metadata": {},
     "output_type": "execute_result"
    }
   ],
   "source": [
    "c = 1000\n",
    "c // 100"
   ]
  },
  {
   "cell_type": "markdown",
   "metadata": {},
   "source": [
    "### 4."
   ]
  },
  {
   "cell_type": "code",
   "execution_count": 4,
   "metadata": {},
   "outputs": [
    {
     "name": "stdout",
     "output_type": "stream",
     "text": [
      "5000원 : 1\n",
      "1000원 : 0\n",
      "500원 : 1\n",
      "100원 : 1\n"
     ]
    }
   ],
   "source": [
    "money = int(input())\n",
    "print(\"5000원 :\", money // 5000)\n",
    "money %= 5000\n",
    "print(\"1000원 :\", money // 1000)\n",
    "money %= 1000\n",
    "print(\"500원 :\", money // 500)\n",
    "money %= 500\n",
    "print(\"100원 :\", money // 100)\n",
    "money %= 100"
   ]
  },
  {
   "cell_type": "markdown",
   "metadata": {},
   "source": [
    "## 3.4 연습문제"
   ]
  },
  {
   "cell_type": "markdown",
   "metadata": {},
   "source": [
    "### 1."
   ]
  },
  {
   "cell_type": "markdown",
   "metadata": {},
   "source": [
    "```\n",
    "I\n",
    "love\n",
    "python"
   ]
  },
  {
   "cell_type": "markdown",
   "metadata": {},
   "source": [
    "### 2."
   ]
  },
  {
   "cell_type": "code",
   "execution_count": 5,
   "metadata": {},
   "outputs": [
    {
     "name": "stdout",
     "output_type": "stream",
     "text": [
      "plus : 15\n",
      "minus : 5\n",
      "multiply : 50\n",
      "divide : 2.0\n"
     ]
    }
   ],
   "source": [
    "def plus(num1, num2):\n",
    "\treturn num1 + num2\n",
    "\n",
    "def minus(num1, num2):\n",
    "\treturn num1 - num2\n",
    "\n",
    "def multiply(num1, num2):\n",
    "\treturn num1 * num2\n",
    "\n",
    "def divide(num1, num2):\n",
    "\treturn num1 / num2\n",
    "\n",
    "print(f'plus : {plus(10, 5)}')\n",
    "print(f'minus : {minus(10, 5)}')\n",
    "print(f'multiply : {multiply(10, 5)}')\n",
    "print(f'divide : {divide(10, 5)}')"
   ]
  },
  {
   "cell_type": "markdown",
   "metadata": {},
   "source": [
    "### 3."
   ]
  },
  {
   "cell_type": "code",
   "execution_count": 6,
   "metadata": {},
   "outputs": [
    {
     "data": {
      "text/plain": [
       "25"
      ]
     },
     "execution_count": 6,
     "metadata": {},
     "output_type": "execute_result"
    }
   ],
   "source": [
    "def pow_func(x, n):\n",
    "    if n >= 1:\n",
    "        return x * pow_func(x, n-1)\n",
    "    else:\n",
    "        return 1\n",
    "\n",
    "x = 5\n",
    "n = 2\n",
    "pow_func(x, n)"
   ]
  },
  {
   "cell_type": "markdown",
   "metadata": {},
   "source": [
    "## 4.6 연습문제"
   ]
  },
  {
   "cell_type": "code",
   "execution_count": 7,
   "metadata": {},
   "outputs": [
    {
     "name": "stdout",
     "output_type": "stream",
     "text": [
      "총점 : 402\n",
      "평균 : 80.4\n",
      "1등 : 홍의 97 점\n",
      "꼴등 : 원희 60 점\n"
     ]
    }
   ],
   "source": [
    "student_score = {\n",
    "\t\t'홍의': 97,\n",
    "\t\t'원희': 60,\n",
    "\t\t'동해': 77,\n",
    "\t\t'변수': 79,\n",
    "\t\t'창현': 89,\n",
    "}\n",
    "\n",
    "max_name = max(student_score, key=student_score.get) # 딕셔너리에서 최대값을 갖는 키 반환\n",
    "min_name = min(student_score, key=student_score.get) # 딕셔너리에서 최소값을 갖는 키 반환\n",
    "max_score = max(student_score.values())\n",
    "min_score = min(student_score.values())\n",
    "\n",
    "print(\"총점 :\", sum(student_score.values()))\n",
    "print(\"평균 :\", sum(student_score.values()) / len(student_score))\n",
    "print(\"1등 :\", max_name, student_score[max_name], \"점\")\n",
    "print(\"꼴등 :\", min_name, student_score[min_name], \"점\")"
   ]
  },
  {
   "cell_type": "markdown",
   "metadata": {},
   "source": [
    "### 2."
   ]
  },
  {
   "cell_type": "code",
   "execution_count": 8,
   "metadata": {},
   "outputs": [
    {
     "name": "stdout",
     "output_type": "stream",
     "text": [
      "['라면', '치킨', '짜장면', '볶음밥']\n"
     ]
    }
   ],
   "source": [
    "like = ['볶음밥', '라면', '국수', '파스타', '치킨', '짜장면', '국밥']\n",
    "dislike = ['국밥', '짬뽕', '찜닭', '파스타', '국수', '카레', '덮밥']\n",
    "\n",
    "like = set(like)\n",
    "dislike = set(dislike)\n",
    "final_list = list(like.difference(dislike))\n",
    "\n",
    "print(final_list)"
   ]
  },
  {
   "cell_type": "markdown",
   "metadata": {},
   "source": [
    "## 5.3 연습문제"
   ]
  },
  {
   "cell_type": "markdown",
   "metadata": {},
   "source": [
    "### 1."
   ]
  },
  {
   "cell_type": "code",
   "execution_count": 16,
   "metadata": {},
   "outputs": [
    {
     "name": "stdout",
     "output_type": "stream",
     "text": [
      "회원들의 나이 평균: 29\n"
     ]
    }
   ],
   "source": [
    "import json\n",
    "\n",
    "with open(\"data.json\") as f:\n",
    "    data = json.load(f)\n",
    "\n",
    "age = 0\n",
    "for member in data:\n",
    "    age += member[\"age\"]\n",
    "\n",
    "print(f\"회원들의 나이 평균: {age//len(data)}\")"
   ]
  },
  {
   "cell_type": "markdown",
   "metadata": {},
   "source": [
    "### 2."
   ]
  },
  {
   "cell_type": "code",
   "execution_count": 18,
   "metadata": {},
   "outputs": [
    {
     "name": "stdout",
     "output_type": "stream",
     "text": [
      "남성비율: 0.7142857142857143\n",
      "여성비율: 0.2857142857142857\n"
     ]
    },
    {
     "data": {
      "image/png": "[encoded data removed]",
      "text/plain": [
       "<Figure size 640x480 with 1 Axes>"
      ]
     },
     "metadata": {},
     "output_type": "display_data"
    }
   ],
   "source": [
    "import matplotlib.pyplot as plt\n",
    "\n",
    "male = 0\n",
    "female = 0\n",
    "\n",
    "for member in data:\n",
    "    if member[\"gender\"] == \"male\":\n",
    "        male += 1\n",
    "    else:\n",
    "        female += 1\n",
    "\n",
    "print(\"남성비율:\", male/len(data))\n",
    "print(\"여성비율:\", female/len(data))\n",
    "\n",
    "plt.pie([male, female], labels=[\"Male\",\"Female\"], autopct=\"%1.1f%%\")\n",
    "plt.axis('equal')\n",
    "plt.show()"
   ]
  },
  {
   "cell_type": "markdown",
   "metadata": {},
   "source": [
    "## 6.3 연습문제"
   ]
  },
  {
   "cell_type": "code",
   "execution_count": 19,
   "metadata": {},
   "outputs": [],
   "source": [
    "class Person:\n",
    "\t\t\n",
    "\t\tdef work(self):\n",
    "\t\t\t\tprint('열심히 일하자')\n",
    "\n",
    "\n",
    "class Cook(Person):\n",
    "\n",
    "\t\tdef __init__(self, menu):\n",
    "\t\t\t\tself.menu = menu\n",
    "\t\t\t\tprint('주방장이 될꺼야!')\n",
    "\t\t\n",
    "\t\tdef work(self):\n",
    "\t\t\t\tprint(f'{self.menu}를 만들자')\n",
    "\n",
    "\n",
    "class Developer(Person):\n",
    "\t\t\n",
    "\t\tdef __init__(self, language):\n",
    "\t\t\t\tself.language = language\n",
    "\t\t\t\tprint('CTO가 될꺼야!')\n",
    "\n",
    "\t\tdef work(self):\n",
    "\t\t\t\tprint(f'{self.language} 코드를 짜보자')"
   ]
  },
  {
   "cell_type": "markdown",
   "metadata": {},
   "source": [
    "### 1."
   ]
  },
  {
   "cell_type": "code",
   "execution_count": 20,
   "metadata": {},
   "outputs": [
    {
     "name": "stdout",
     "output_type": "stream",
     "text": [
      "주방장이 될꺼야!\n",
      "CTO가 될꺼야!\n",
      "열심히 일하자\n",
      "피자를 만들자\n",
      "파이썬 코드를 짜보자\n"
     ]
    }
   ],
   "source": [
    "person = Person()\n",
    "cook = Cook('피자')\n",
    "developer = Developer('파이썬')\n",
    "\n",
    "person.work()\n",
    "cook.work()\n",
    "developer.work()"
   ]
  },
  {
   "cell_type": "markdown",
   "metadata": {},
   "source": [
    "```\n",
    "주방장이 될꺼야!\n",
    "CTO가 될꺼야!\n",
    "열심히 일하자\n",
    "피자를 만들자\n",
    "파이썬 코드를 짜보자"
   ]
  },
  {
   "cell_type": "markdown",
   "metadata": {},
   "source": [
    "### 2."
   ]
  },
  {
   "cell_type": "code",
   "execution_count": 23,
   "metadata": {},
   "outputs": [],
   "source": [
    "class MultiPlayer(Developer, Cook): # 먼저 들어오는 클래스로 상속\n",
    "\t\tpass"
   ]
  },
  {
   "cell_type": "code",
   "execution_count": 22,
   "metadata": {},
   "outputs": [
    {
     "name": "stdout",
     "output_type": "stream",
     "text": [
      "CTO가 될꺼야!\n",
      "파이썬 코드를 짜보자\n"
     ]
    }
   ],
   "source": [
    "multiPlayer = MultiPlayer('파이썬')\n",
    "multiPlayer.work()"
   ]
  },
  {
   "cell_type": "markdown",
   "metadata": {},
   "source": [
    "```\n",
    "CTO가 될꺼야!\n",
    "주방장이 될꺼야! X\n",
    "파이썬 코드를 짜보자\n",
    "파이썬을 만들자 X"
   ]
  }
 ],
 "metadata": {
  "kernelspec": {
   "display_name": "Python 3",
   "language": "python",
   "name": "python3"
  },
  "language_info": {
   "codemirror_mode": {
    "name": "ipython",
    "version": 3
   },
   "file_extension": ".py",
   "mimetype": "text/x-python",
   "name": "python",
   "nbconvert_exporter": "python",
   "pygments_lexer": "ipython3",
   "version": "3.10.8"
  }
 },
 "nbformat": 4,
 "nbformat_minor": 2
}
