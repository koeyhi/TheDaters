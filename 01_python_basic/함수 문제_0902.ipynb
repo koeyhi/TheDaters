{
 "cells": [
  {
   "cell_type": "markdown",
   "metadata": {},
   "source": [
    "# 문제1\n",
    "- 다음의 리스트에서 최대값이 위치한 인덱스를 반환하는 함수와\n",
    "최소값이 위치한 인덱스를 반환하는 함수를 작성하세요.\n",
    "\n",
    "```python\n",
    "data = [80,70,60,99,87,86]\n",
    "\n",
    "def argmax(lst):\n",
    "    code context\n",
    "\n",
    "def argmin(lst):\n",
    "    code context\n",
    "```"
   ]
  },
  {
   "cell_type": "code",
   "execution_count": 1,
   "metadata": {},
   "outputs": [],
   "source": [
    "def argmax(lst):\n",
    "    return lst.index(max(lst))\n",
    "\n",
    "def argmin(lst):\n",
    "    return lst.index(min(lst))"
   ]
  },
  {
   "cell_type": "code",
   "execution_count": 2,
   "metadata": {},
   "outputs": [
    {
     "data": {
      "text/plain": [
       "(3, 2)"
      ]
     },
     "execution_count": 2,
     "metadata": {},
     "output_type": "execute_result"
    }
   ],
   "source": [
    "data = [80,70,60,99,87,86]\n",
    "argmax(data), argmin(data)"
   ]
  },
  {
   "cell_type": "markdown",
   "metadata": {},
   "source": [
    "# 문제2\n",
    "- 정수 혹은 튜플을 입력받아 0으로만 채워진 행렬 형태의 리스트를 반환하는 함수를 작성하시오.\n",
    "\n",
    "```python\n",
    "ex)\n",
    "zeros(3) -> [0,0,0]\n",
    "zeros((2,3)) ->  [[0,0,0], [0,0,0]]\n",
    "\n",
    "[\n",
    "    [0,0,0],\n",
    "    [0,0,0]\n",
    "]\n",
    "```"
   ]
  },
  {
   "cell_type": "code",
   "execution_count": 12,
   "metadata": {},
   "outputs": [
    {
     "data": {
      "text/plain": [
       "[[0, 0, 0, 0], [0, 0, 0, 0], [0, 0, 0, 0]]"
      ]
     },
     "execution_count": 12,
     "metadata": {},
     "output_type": "execute_result"
    }
   ],
   "source": [
    "def zeros(shape):\n",
    "    if type(shape) is int:\n",
    "        result = [0] * shape\n",
    "    else:\n",
    "        result = [ [0] * shape[1]  for i in range(shape[0])  ]\n",
    "    return result\n",
    "\n",
    "zeros([3,4])"
   ]
  },
  {
   "cell_type": "markdown",
   "metadata": {},
   "source": [
    "```\n",
    "관수 스타일\n",
    "다차원도 가능하게 하기\n",
    "```"
   ]
  },
  {
   "cell_type": "code",
   "execution_count": 12,
   "metadata": {},
   "outputs": [],
   "source": [
    "def zeros(shape):\n",
    "    if type(shape) is int: \n",
    "        shape = shape,\n",
    "    result = 0 \n",
    "\n",
    "    for n in shape[::-1]:\n",
    "        result = [result] * n \n",
    "\n",
    "    return result"
   ]
  },
  {
   "cell_type": "code",
   "execution_count": 14,
   "metadata": {},
   "outputs": [
    {
     "data": {
      "text/plain": [
       "[[[0, 0, 0, 0], [0, 0, 0, 0], [0, 0, 0, 0]],\n",
       " [[0, 0, 0, 0], [0, 0, 0, 0], [0, 0, 0, 0]]]"
      ]
     },
     "execution_count": 14,
     "metadata": {},
     "output_type": "execute_result"
    }
   ],
   "source": [
    "zeros([2,3,4])\n",
    "# zeros(9)"
   ]
  },
  {
   "cell_type": "code",
   "execution_count": 25,
   "metadata": {},
   "outputs": [
    {
     "data": {
      "text/plain": [
       "[[0, 0, 0], [0, 0, 0]]"
      ]
     },
     "execution_count": 25,
     "metadata": {},
     "output_type": "execute_result"
    }
   ],
   "source": [
    "zeros([2,3])"
   ]
  },
  {
   "cell_type": "markdown",
   "metadata": {},
   "source": [
    "# 문제3\n",
    "- 행 혹은 행렬 형태의 리스트를 입력 받아 행의 크기와 열의 크기를 튜플로 반환하는 함수를 작성하시오\n",
    "\n",
    "```python\n",
    "ex)\n",
    "shape([]) -> (0,)\n",
    "shape([1,2,3]) -> (3,)\n",
    "shape([[1,2,3],[4,5,6]]) -> (2,3)\n",
    "\n",
    "[\n",
    "    [1,2,3],\n",
    "    [4,5,6]\n",
    "]\n",
    "```"
   ]
  },
  {
   "cell_type": "code",
   "execution_count": 19,
   "metadata": {},
   "outputs": [
    {
     "name": "stdout",
     "output_type": "stream",
     "text": [
      "(0,)\n",
      "(3,)\n",
      "(2, 3)\n"
     ]
    }
   ],
   "source": [
    "def shape(lst):\n",
    "    if not len(lst): # len(lst) == 0\n",
    "        result = 0,\n",
    "    elif type(lst[0]) is list:\n",
    "        result = len(lst), len(lst[0])\n",
    "    else:\n",
    "        result = len(lst), \n",
    "    return result\n",
    "print(shape([]))\n",
    "print(shape([1,2,3]))\n",
    "print(shape([[1,2,3],[4,5,6]]))"
   ]
  },
  {
   "cell_type": "code",
   "execution_count": 20,
   "metadata": {},
   "outputs": [
    {
     "name": "stdout",
     "output_type": "stream",
     "text": [
      "(0,)\n",
      "(3,)\n",
      "(2, 3)\n"
     ]
    }
   ],
   "source": [
    "def shape(lst):\n",
    "    result = len(lst),\n",
    "    if len(lst) and type(lst[0]) is list:  # len(lst) > 0\n",
    "        result = len(lst), len(lst[0])\n",
    "    return result\n",
    "\n",
    "print(shape([]))\n",
    "print(shape([1,2,3]))\n",
    "print(shape([[1,2,3],[4,5,6]]))"
   ]
  },
  {
   "cell_type": "markdown",
   "metadata": {},
   "source": [
    "# 문제4\n",
    "- 행렬 형태의 리스트를 입력 받고 변경하고자 하는 행의 크기와 열의 크기로 변환해서 리스트로 반환 함수를 작성하시오\n",
    "- 행과 열의 크기는 튜플로 받는다 .\n",
    "- 무조건 튜플 아니면 -1 입력이 들어온다고 가정한다.\n",
    "- 튜플은 무조건 2개의 요소가 포함되서 들어온다고 가정한다.\n",
    "- 튜플이 아닌 -1 이 들어올경우 1차원 형태로 flatten 시킨다.\n",
    "\n",
    "```python\n",
    "ex)\n",
    "data = [\n",
    "       [1,2,3],\n",
    "       [4,5,6]\n",
    "]\n",
    "reshape(data,-1) -> [1,2,3,4,5,6]\n",
    "reshape(data,(3,2)) -> [[1,2],[3,4],[5,6]]\n",
    "\n",
    "[\n",
    "    [1,2],\n",
    "    [3,4],\n",
    "    [5,6]\n",
    "]\n",
    "```"
   ]
  },
  {
   "cell_type": "code",
   "execution_count": 24,
   "metadata": {},
   "outputs": [],
   "source": [
    "data = [\n",
    "       [1,2,3],\n",
    "       [4,5,6]\n",
    "]"
   ]
  },
  {
   "cell_type": "code",
   "execution_count": 21,
   "metadata": {},
   "outputs": [
    {
     "data": {
      "text/plain": [
       "[[1, 2, 3], [4, 5, 6]]"
      ]
     },
     "execution_count": 21,
     "metadata": {},
     "output_type": "execute_result"
    }
   ],
   "source": [
    "def reshape(lst, shape):\n",
    "    result = []\n",
    "    for items in lst:\n",
    "        result.extend(items)\n",
    "\n",
    "    if shape != -1:\n",
    "        result = [ result[i:i+shape[1]] for i in range(0, len(result), shape[1]) ]\n",
    "    return result\n",
    "\n",
    "\n",
    "data = [\n",
    "       [1,2,3],\n",
    "       [4,5,6]\n",
    "]\n",
    "reshape(data,(2,3))"
   ]
  },
  {
   "cell_type": "code",
   "execution_count": 28,
   "metadata": {},
   "outputs": [
    {
     "data": {
      "text/plain": [
       "[[1], [2], [3], [4], [5], [6]]"
      ]
     },
     "execution_count": 28,
     "metadata": {},
     "output_type": "execute_result"
    }
   ],
   "source": [
    "reshape(data,(6,1))"
   ]
  },
  {
   "cell_type": "code",
   "execution_count": 3,
   "metadata": {},
   "outputs": [
    {
     "data": {
      "text/plain": [
       "[[1, 4, 7], [2, 5, 8], [3, 6, 9]]"
      ]
     },
     "execution_count": 3,
     "metadata": {},
     "output_type": "execute_result"
    }
   ],
   "source": [
    "data = [\n",
    "    [1,2,3],\n",
    "    [4,5,6],\n",
    "    [7,8,9]\n",
    "]\n",
    "\n",
    "def transpose(data):\n",
    "    return list(map(list, zip(*data)))\n",
    "\n",
    "transpose(data)"
   ]
  }
 ],
 "metadata": {
  "kernelspec": {
   "display_name": "Python 3",
   "language": "python",
   "name": "python3"
  },
  "language_info": {
   "codemirror_mode": {
    "name": "ipython",
    "version": 3
   },
   "file_extension": ".py",
   "mimetype": "text/x-python",
   "name": "python",
   "nbconvert_exporter": "python",
   "pygments_lexer": "ipython3",
   "version": "3.10.8"
  }
 },
 "nbformat": 4,
 "nbformat_minor": 2
}
