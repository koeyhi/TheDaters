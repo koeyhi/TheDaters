{
 "cells": [
  {
   "cell_type": "markdown",
   "metadata": {},
   "source": [
    "# match 문\n",
    "- python 3.10부터 도입된 match-case 문법으로 패턴 매칭을 지원\n",
    "\n",
    "```python\n",
    "match value:\n",
    "    case pattern1:\n",
    "        pattern1 매칭되면 실행되는 코드\n",
    "        ...\n",
    "    case pattern2:\n",
    "        pattern2 매칭되면 실행되는 코드\n",
    "        ...\n",
    "    case pattern3:\n",
    "        pattern3 매칭되면 실행되는 코드\n",
    "        ...\n",
    "    case _:\n",
    "        위에 모든 패턴이 매칭되지 않는 경우 실행되는 코드\n",
    "        ...\n",
    "```"
   ]
  },
  {
   "cell_type": "markdown",
   "metadata": {},
   "source": [
    "# 리터럴 패턴(Literal Pattern)\n",
    "- 값 자체를 패턴으로 사용하여 매칭"
   ]
  },
  {
   "cell_type": "code",
   "execution_count": 1,
   "metadata": {},
   "outputs": [
    {
     "name": "stdout",
     "output_type": "stream",
     "text": [
      "알수 없는 값입니다.\n"
     ]
    }
   ],
   "source": [
    "value = 12313123\n",
    "match value:\n",
    "    case 1004:\n",
    "        print(\"변수의 값은 1004 입니다.\")\n",
    "    case \"hello\":\n",
    "        print(\"변수의 값은 hello 입니다.\")\n",
    "    case _:\n",
    "        print(f\"알수 없는 값입니다.\")"
   ]
  },
  {
   "cell_type": "markdown",
   "metadata": {},
   "source": [
    "# 변수 패턴"
   ]
  },
  {
   "cell_type": "code",
   "execution_count": 2,
   "metadata": {},
   "outputs": [
    {
     "name": "stdout",
     "output_type": "stream",
     "text": [
      "변수의 값은 1004 입니다.\n"
     ]
    }
   ],
   "source": [
    "value = 1004\n",
    "match value:\n",
    "    case x:\n",
    "        print(f\"변수의 값은 {x} 입니다.\")\n",
    "    # case y: # 에러 발생\n",
    "    #     print(f\"변수의 값은 {y} 입니다.\")"
   ]
  },
  {
   "cell_type": "code",
   "execution_count": 3,
   "metadata": {},
   "outputs": [
    {
     "name": "stdout",
     "output_type": "stream",
     "text": [
      "알수 없는 값입니다.12313123\n"
     ]
    }
   ],
   "source": [
    "value = 12313123\n",
    "match value:\n",
    "    case 1004:\n",
    "        print(\"변수의 값은 1004 입니다.\")\n",
    "    case \"hello\":\n",
    "        print(\"변수의 값은 hello 입니다.\")\n",
    "    case y:\n",
    "        print(f\"알수 없는 값입니다.{y}\")"
   ]
  },
  {
   "cell_type": "markdown",
   "metadata": {},
   "source": [
    "# 시퀀스 패턴\n",
    "- 리스트나 튜플 같은 시퀀스 타입에 대해 매칭"
   ]
  },
  {
   "cell_type": "code",
   "execution_count": 11,
   "metadata": {},
   "outputs": [
    {
     "name": "stdout",
     "output_type": "stream",
     "text": [
      "리스트의 첫번째 요소는 1 입니다.\n",
      "리스트의 두번째 요소는 2 입니다.\n",
      "나머지 요소들은 [3, 4, 5, 6, 7] 입니다.\n"
     ]
    }
   ],
   "source": [
    "lst = [1,2,3,4,5,6,7]\n",
    "match lst:\n",
    "    case []:\n",
    "        print(\"빈 리스트에요\")\n",
    "    case [a, b]:\n",
    "        print(f\"리스트의 첫번째 요소는 {a} 입니다.\")\n",
    "        print(f\"리스트의 두번째 요소는 {b} 입니다.\")\n",
    "    case [a, b, *rest]:\n",
    "        print(f\"리스트의 첫번째 요소는 {a} 입니다.\")\n",
    "        print(f\"리스트의 두번째 요소는 {b} 입니다.\")\n",
    "        print(f\"나머지 요소들은 {rest} 입니다.\")"
   ]
  },
  {
   "cell_type": "code",
   "execution_count": 12,
   "metadata": {},
   "outputs": [
    {
     "name": "stdout",
     "output_type": "stream",
     "text": [
      "[1, 2, 3, 4, 5, 6, 7]\n"
     ]
    }
   ],
   "source": [
    "lst = [1,2,3,4,5,6,7]\n",
    "match lst:\n",
    "    case []:\n",
    "        print(\"빈 리스트에요\")\n",
    "    case [a, b]:\n",
    "        print(f\"리스트의 첫번째 요소는 {a} 입니다.\")\n",
    "        print(f\"리스트의 두번째 요소는 {b} 입니다.\")\n",
    "    case [a, b, *rest] as x:\n",
    "        # print(f\"리스트의 첫번째 요소는 {a} 입니다.\")\n",
    "        # print(f\"리스트의 두번째 요소는 {b} 입니다.\")\n",
    "        # print(f\"나머지 요소들은 {rest} 입니다.\")\n",
    "        print(x)"
   ]
  },
  {
   "cell_type": "markdown",
   "metadata": {},
   "source": [
    "# 매핑 패턴\n",
    "- 딕셔너리와 같은 자료형을 매칭 시킬때"
   ]
  },
  {
   "cell_type": "code",
   "execution_count": 15,
   "metadata": {},
   "outputs": [
    {
     "name": "stdout",
     "output_type": "stream",
     "text": [
      "{'key1': 1, 'key20': 2, 'key3': 3}\n"
     ]
    }
   ],
   "source": [
    "value = {\"key1\": 1, \"key20\" : 2, \"key3\": 3}\n",
    "match value:\n",
    "    case {\"key1\": val1, \"key2\": val2}:\n",
    "        print(val1, val2)\n",
    "\n",
    "    case {**rest}:\n",
    "        print(rest)"
   ]
  },
  {
   "cell_type": "markdown",
   "metadata": {},
   "source": [
    "# 클래스 패턴\n",
    "- 클래스의 속성에 대해 매칭"
   ]
  },
  {
   "cell_type": "code",
   "execution_count": 7,
   "metadata": {},
   "outputs": [],
   "source": [
    "class Student:\n",
    "    def __init__(self, name, gender, major):\n",
    "        self.name = name\n",
    "        self.gender = gender\n",
    "        self.major = major"
   ]
  },
  {
   "cell_type": "code",
   "execution_count": 8,
   "metadata": {},
   "outputs": [
    {
     "name": "stdout",
     "output_type": "stream",
     "text": [
      "남, 컴퓨터공학\n"
     ]
    }
   ],
   "source": [
    "st = Student(\"이관수\", \"남\", \"컴퓨터공학\")\n",
    "match st:\n",
    "    case Student(gender=\"여\", major=\"컴퓨터공학\"):\n",
    "        print(\"여자이고 컴퓨터공학과 입니다.\")\n",
    "    case Student(gender=gender, major=major):\n",
    "        print(f\"{gender}, {major}\")"
   ]
  },
  {
   "cell_type": "markdown",
   "metadata": {},
   "source": [
    "# 가드 패턴\n",
    "- `if` 문을 사용해 추가적인 조건을 검사"
   ]
  },
  {
   "cell_type": "code",
   "execution_count": 9,
   "metadata": {},
   "outputs": [
    {
     "name": "stdout",
     "output_type": "stream",
     "text": [
      "음수입니다.\n"
     ]
    }
   ],
   "source": [
    "value = -1\n",
    "match value:\n",
    "    case x if x > 0:\n",
    "        print(\"양수입니다.\")\n",
    "    case x if x < 0:\n",
    "        print(\"음수입니다.\")    "
   ]
  },
  {
   "cell_type": "markdown",
   "metadata": {},
   "source": [
    "# or 패턴\n",
    "- 여러 패턴중에 하나와 매칭되면 처리"
   ]
  },
  {
   "cell_type": "code",
   "execution_count": 10,
   "metadata": {},
   "outputs": [
    {
     "name": "stdout",
     "output_type": "stream",
     "text": [
      "1,2,3 중에 하나입니다.\n"
     ]
    }
   ],
   "source": [
    "value =2\n",
    "match value:\n",
    "    case 1|2|3:\n",
    "        print(\"1,2,3 중에 하나입니다.\")"
   ]
  }
 ],
 "metadata": {
  "kernelspec": {
   "display_name": "Python 3",
   "language": "python",
   "name": "python3"
  },
  "language_info": {
   "codemirror_mode": {
    "name": "ipython",
    "version": 3
   },
   "file_extension": ".py",
   "mimetype": "text/x-python",
   "name": "python",
   "nbconvert_exporter": "python",
   "pygments_lexer": "ipython3",
   "version": "3.10.8"
  }
 },
 "nbformat": 4,
 "nbformat_minor": 2
}
