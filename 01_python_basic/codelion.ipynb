{
 "cells": [
  {
   "cell_type": "markdown",
   "metadata": {},
   "source": [
    "# 1일차"
   ]
  },
  {
   "cell_type": "code",
   "execution_count": 35,
   "metadata": {},
   "outputs": [
    {
     "name": "stdout",
     "output_type": "stream",
     "text": [
      "된장찌개\n",
      "제육볶음\n",
      "된장찌개\n",
      "된장찌개\n",
      "제육볶음\n",
      "피자\n",
      "피자\n",
      "피자\n",
      "제육볶음\n",
      "제육볶음\n",
      "제육볶음\n",
      "제육볶음\n",
      "된장찌개\n",
      "제육볶음\n",
      "된장찌개\n",
      "제육볶음\n",
      "출력 종료\n"
     ]
    }
   ],
   "source": [
    "import time\n",
    "import random\n",
    "\n",
    "try:\n",
    "    while True: # 반복\n",
    "        lunch = random.choice([\"된장찌개\", \"피자\", \"제육볶음\"])\n",
    "        print(lunch)\n",
    "        time.sleep(1) # 1초씩 중단\n",
    "except:\n",
    "    print(\"출력 종료\")"
   ]
  },
  {
   "cell_type": "code",
   "execution_count": 36,
   "metadata": {},
   "outputs": [
    {
     "name": "stdout",
     "output_type": "stream",
     "text": [
      "영화관람\n",
      "{'고향': '수원', '취미': '영화관람', '특기': '피아노', '사는곳': '서울'}\n",
      "{}\n",
      "['된장찌개', '제육볶음']\n"
     ]
    }
   ],
   "source": [
    "information = {\"고향\":\"수원\", \"취미\":\"영화관람\",\"좋아하는 음식\":\"국수\"}\n",
    "print(information.get(\"취미\")) # get 함수\n",
    "\n",
    "information[\"특기\"] = \"피아노\" # 딕셔너리 요소 추가\n",
    "information[\"사는곳\"] = \"서울\"\n",
    "del information[\"좋아하는 음식\"] # 요소 삭제 del\n",
    "print(information)\n",
    "\n",
    "information.clear() # 딕셔너리 요소 전부 삭제\n",
    "print(information)\n",
    "\n",
    "foods = [\"된장찌개\", \"피자\", \"제육볶음\"]\n",
    "del foods[1]\n",
    "print(foods)"
   ]
  },
  {
   "cell_type": "code",
   "execution_count": 40,
   "metadata": {},
   "outputs": [
    {
     "name": "stdout",
     "output_type": "stream",
     "text": [
      "된장찌개\n",
      "피자\n",
      "제육볶음\n",
      "고향 수원\n",
      "취미 영화관람\n",
      "좋아하는 음식 국수\n"
     ]
    }
   ],
   "source": [
    "# for x in range(30):\n",
    "#     print(x)\n",
    "    \n",
    "foods = [\"된장찌개\", \"피자\", \"제육볶음\"]\n",
    "# for x in range(3):\n",
    "#     print(foods[x])\n",
    "for x in foods:\n",
    "    print(x)\n",
    "    \n",
    "information = {\"고향\":\"수원\",\"취미\":\"영화관람\",\"좋아하는 음식\":\"국수\"}\n",
    "for x,y in information.items(): # items => keys, values\n",
    "    print(x, y)"
   ]
  },
  {
   "cell_type": "code",
   "execution_count": 41,
   "metadata": {},
   "outputs": [
    {
     "name": "stdout",
     "output_type": "stream",
     "text": [
      "{'피자', '된장찌개', '제육볶음'}\n"
     ]
    }
   ],
   "source": [
    "foods = [\"된장찌개\", \"피자\", \"제육볶음\", \"된장찌개\"]\n",
    "foods_set = set(foods) # 집합은 중복 x\n",
    "print(foods_set)"
   ]
  },
  {
   "cell_type": "code",
   "execution_count": 51,
   "metadata": {},
   "outputs": [
    {
     "data": {
      "text/plain": [
       "{'된장찌개'}"
      ]
     },
     "execution_count": 51,
     "metadata": {},
     "output_type": "execute_result"
    }
   ],
   "source": [
    "menu1 = set([\"된장찌개\", \"피자\", \"제육볶음\"])\n",
    "menu2 = set([\"된장찌개\", \"떡국\", \"김밥\"])\n",
    "\n",
    "menu3 = menu1 & menu2 # '|' : 합집합, '-' : 차집합\n",
    "menu3"
   ]
  },
  {
   "cell_type": "code",
   "execution_count": 46,
   "metadata": {},
   "outputs": [
    {
     "name": "stdout",
     "output_type": "stream",
     "text": [
      "제육볶음\n",
      "곱빼기 주세요\n",
      "종료\n"
     ]
    }
   ],
   "source": [
    "import random\n",
    "\n",
    "food = random.choice([\"된장찌개\", \"피자\", \"제육볶음\"])\n",
    "\n",
    "print(food)\n",
    "if food == \"제육볶음\":\n",
    "    print(\"곱빼기 주세요\")\n",
    "else:\n",
    "    print(\"그냥 주세요\")\n",
    "print(\"종료\")"
   ]
  },
  {
   "cell_type": "code",
   "execution_count": 11,
   "metadata": {},
   "outputs": [
    {
     "data": {
      "text/plain": [
       "{'된장찌개', '제육볶음', '피자'}"
      ]
     },
     "execution_count": 11,
     "metadata": {},
     "output_type": "execute_result"
    }
   ],
   "source": [
    "set_dinner = set([\"된장찌개\", \"피자\", \"제육볶음\", \"짜장면\"])\n",
    "food = \"짜장면\"\n",
    "\n",
    "set_dinner = set_dinner - set([food]) # 차집합\n",
    "set_dinner"
   ]
  },
  {
   "cell_type": "code",
   "execution_count": 49,
   "metadata": {},
   "outputs": [
    {
     "name": "stdout",
     "output_type": "stream",
     "text": [
      "['된장찌개', '피자', '제육볶음', '짜장면']\n",
      "['된장찌개', '피자', '제육볶음', '짜장면', '김밥']\n",
      "['된장찌개', '피자', '제육볶음', '짜장면', '김밥', '쫄면']\n",
      "['된장찌개', '피자', '제육볶음', '짜장면', '김밥', '쫄면', '돈까쓰']\n",
      "['된장찌개', '피자', '제육볶음', '짜장면', '김밥', '쫄면', '돈까쓰']\n",
      "{'피자', '돈까쓰', '쫄면', '짜장면', '제육볶음', '김밥', '된장찌개'}\n",
      "{'돈까쓰', '쫄면', '짜장면', '제육볶음', '김밥', '된장찌개'}\n",
      "{'돈까쓰', '쫄면', '제육볶음', '김밥', '된장찌개'}\n",
      "{'제육볶음', '김밥', '돈까쓰', '쫄면'}\n",
      "제육볶음, 김밥, 돈까쓰, 쫄면 중에서 선택합니다.\n",
      "5\n",
      "4\n",
      "3\n",
      "2\n",
      "1\n",
      "제육볶음\n"
     ]
    }
   ],
   "source": [
    "import random\n",
    "import time\n",
    "\n",
    "lunch = [\"된장찌개\", \"피자\", \"제육볶음\", \"짜장면\"]\n",
    "while True:\n",
    "    print(lunch)\n",
    "    item = input(\"음식을 추가해주세요 : \")\n",
    "    if item == 'q':\n",
    "        break\n",
    "    else:\n",
    "        lunch.append(item)\n",
    "print(lunch)\n",
    "\n",
    "set_lunch = set(lunch)\n",
    "while True:\n",
    "    print(set_lunch)\n",
    "    item = input(\"음식을 삭제해주세요 : \")\n",
    "    if item == 'q':\n",
    "        break\n",
    "    else:\n",
    "        set_lunch = set_lunch - set([item])\n",
    "\n",
    "print(\", \".join(set_lunch), \"중에서 선택합니다.\")\n",
    "for x in range(5):\n",
    "    print(5-x)\n",
    "    time.sleep(1)\n",
    "print(random.choice(list(set_lunch)))"
   ]
  },
  {
   "cell_type": "code",
   "execution_count": 20,
   "metadata": {},
   "outputs": [
    {
     "name": "stdout",
     "output_type": "stream",
     "text": [
      "1. 커피를 넣는다.\n",
      "2. 우유를 넣는다.\n",
      "3. 신나게 섞는다.\n",
      "1. 블루베리 20g을 넣는다.\n",
      "2. 우유 300ml를 넣는다.\n",
      "3. 얼음을 넣는다.\n",
      "4. 믹서기에 간다.\n"
     ]
    }
   ],
   "source": [
    "def make_dolcelatte():\n",
    "    print(\"1. 얼음을 넣는다.\")\n",
    "    print(\"2. 연유를 30ml 넣는다.\")\n",
    "    print(\"3. 찬 우유를 넣는다.\")\n",
    "    print(\"4. 에스프레소 샷을 넣는다.\")\n",
    "\n",
    "def make_blueberry_smoothie():\n",
    "    print(\"1. 블루베리 20g을 넣는다.\")\n",
    "    print(\"2. 우유 300ml를 넣는다.\")\n",
    "    print(\"3. 얼음을 넣는다.\")\n",
    "    print(\"4. 믹서기에 간다.\")\n",
    "    \n",
    "def make_simple_late():\n",
    "    print(\"1. 커피를 넣는다.\")\n",
    "    print(\"2. 우유를 넣는다.\")\n",
    "    print(\"3. 신나게 섞는다.\")\n",
    "\n",
    "make_simple_late()\n",
    "make_blueberry_smoothie()"
   ]
  },
  {
   "cell_type": "code",
   "execution_count": 48,
   "metadata": {},
   "outputs": [
    {
     "name": "stdout",
     "output_type": "stream",
     "text": [
      "취미는?\n",
      "특기는?\n",
      "[{'질문': '취미는?', '답변': '야구'}, {'질문': '특기는?', '답변': '게임'}]\n"
     ]
    }
   ],
   "source": [
    "def question_dict():\n",
    "    total_dictionary = {}\n",
    "\n",
    "    while True:\n",
    "        question = input(\"질문을 입력해주세요 : \")\n",
    "        if question == 'q':\n",
    "            break\n",
    "        total_dictionary[question] = \"\"\n",
    "\n",
    "    for i in total_dictionary:\n",
    "        print(i)\n",
    "        answer = input(\"답변을 입력해주세요 : \")\n",
    "        total_dictionary[i] = answer\n",
    "\n",
    "    print(total_dictionary)\n",
    "\n",
    "def question_list():\n",
    "    total_list = []\n",
    "\n",
    "    while True:\n",
    "        question = input(\"질문을 입력해주세요 : \")\n",
    "        if question == 'q':\n",
    "            break\n",
    "        total_list.append({\"질문\": question, \"답변\": \"\"})\n",
    "\n",
    "    for i in total_list:\n",
    "        print(i[\"질문\"])\n",
    "        answer = input(\"답변을 입력해주세요 : \")\n",
    "        i[\"답변\"] = answer\n",
    "        \n",
    "    print(total_list)\n",
    "    \n",
    "# question_list()\n",
    "question_dict()"
   ]
  },
  {
   "cell_type": "markdown",
   "metadata": {},
   "source": [
    "# 2일차"
   ]
  },
  {
   "cell_type": "code",
   "execution_count": 21,
   "metadata": {},
   "outputs": [
    {
     "name": "stdout",
     "output_type": "stream",
     "text": [
      "4\n",
      "['짜장', '라면', '탕수육', '냉면']\n"
     ]
    }
   ],
   "source": [
    "orders = [\"짜장\", \"짬뽕\", \"탕수육\"]\n",
    "\n",
    "orders.append(\"냉면\")\n",
    "orders.insert(1, \"라면\")\n",
    "\n",
    "# del orders[2] # del은 인덱스번호로 지정\n",
    "orders.remove('짬뽕') # remove는 요소 이름으로 지정\n",
    "\n",
    "print(len(orders))\n",
    "\n",
    "print(orders)"
   ]
  },
  {
   "cell_type": "code",
   "execution_count": 25,
   "metadata": {},
   "outputs": [
    {
     "name": "stdout",
     "output_type": "stream",
     "text": [
      "150\n",
      "30.0\n",
      "50 10\n",
      "[20, 40, 50, 10, 30]\n"
     ]
    }
   ],
   "source": [
    "num = [20, 40, 50, 10, 30]\n",
    "\n",
    "print(sum(num)) # 합\n",
    "\n",
    "avg = sum(num) / len(num) # 평균\n",
    "print(avg)\n",
    "\n",
    "print(max(num), min(num)) # 최소, 최대\n",
    "\n",
    "print(num)"
   ]
  },
  {
   "cell_type": "code",
   "execution_count": 31,
   "metadata": {},
   "outputs": [
    {
     "name": "stdout",
     "output_type": "stream",
     "text": [
      "5000\n",
      "{'짬뽕': 5000, '탕수육': 8500, '냉면': 6000}\n"
     ]
    }
   ],
   "source": [
    "menu = {\n",
    "    \"짜장\":4000,\n",
    "    \"짬뽕\":5000,\n",
    "    \"탕수육\":9000,\n",
    "}\n",
    "\n",
    "menu[\"냉면\"] = 6000 # 추가\n",
    "\n",
    "print(menu[\"짬뽕\"]) # 출력\n",
    "\n",
    "menu[\"탕수육\"] = 8500 # 수정\n",
    "\n",
    "del menu[\"짜장\"] # 삭제\n",
    "\n",
    "print(menu)"
   ]
  },
  {
   "cell_type": "code",
   "execution_count": 38,
   "metadata": {},
   "outputs": [
    {
     "name": "stdout",
     "output_type": "stream",
     "text": [
      "안녕하세요 후배님\n"
     ]
    }
   ],
   "source": [
    "myGrade = int(input(\"학번을 입력하세요\"))\n",
    "yourGrade = int(input(\"학번을 입력하세요\"))\n",
    "\n",
    "if myGrade == yourGrade:\n",
    "    print(\"안녕하세요 동기님\")\n",
    "elif myGrade > yourGrade:\n",
    "    print(\"안녕하세요 선배님\")\n",
    "elif myGrade < yourGrade:\n",
    "    print(\"안녕하세요 후배님\")\n",
    "else:\n",
    "    print(\"누구세요?\")"
   ]
  },
  {
   "cell_type": "code",
   "execution_count": 41,
   "metadata": {},
   "outputs": [
    {
     "name": "stdout",
     "output_type": "stream",
     "text": [
      "주문할 수 있습니다.\n"
     ]
    }
   ],
   "source": [
    "orders = [\"짜장\", \"짬뽕\", \"탕수육\"]\n",
    "\n",
    "food = input(\"먹고싶은 메뉴를 입력해주세요\")\n",
    "\n",
    "if food in orders:\n",
    "    print(\"주문할 수 있습니다.\")\n",
    "else:\n",
    "    print(\"주문할 수 없습니다.\")"
   ]
  },
  {
   "cell_type": "code",
   "execution_count": 49,
   "metadata": {},
   "outputs": [
    {
     "name": "stdout",
     "output_type": "stream",
     "text": [
      "4000 원 입니다.\n"
     ]
    }
   ],
   "source": [
    "menu = {\n",
    "    \"짜장\":4000,\n",
    "    \"짬뽕\":5000,\n",
    "    \"탕수육\":9000,\n",
    "}\n",
    "\n",
    "food = input(\"먹고싶은 메뉴를 입력해주세요\")\n",
    "\n",
    "if food in menu:\n",
    "    print(menu[food], \"원 입니다.\")\n",
    "else:\n",
    "    print(\"주문 불가\")"
   ]
  },
  {
   "cell_type": "code",
   "execution_count": 57,
   "metadata": {},
   "outputs": [
    {
     "name": "stdout",
     "output_type": "stream",
     "text": [
      "1\n",
      "3\n",
      "5\n",
      "7\n",
      "9\n",
      "반복종료\n"
     ]
    }
   ],
   "source": [
    "i = 0\n",
    "while i < 10:\n",
    "    i += 1\n",
    "    if i % 2 == 0:\n",
    "        continue\n",
    "    print(i)\n",
    "print(\"반복종료\")"
   ]
  },
  {
   "cell_type": "code",
   "execution_count": 66,
   "metadata": {},
   "outputs": [
    {
     "name": "stdout",
     "output_type": "stream",
     "text": [
      "3628800\n"
     ]
    }
   ],
   "source": [
    "result = 1\n",
    "\n",
    "for x in range(1, 11):\n",
    "    result *= x\n",
    "    \n",
    "print(result)"
   ]
  },
  {
   "cell_type": "code",
   "execution_count": 129,
   "metadata": {},
   "outputs": [
    {
     "name": "stdout",
     "output_type": "stream",
     "text": [
      "*****\n",
      "*****\n",
      "*****\n",
      "*****\n",
      "*****\n",
      "*\n",
      "**\n",
      "***\n",
      "****\n",
      "*****\n"
     ]
    }
   ],
   "source": [
    "n = int(input())\n",
    "\n",
    "for x in range(n):\n",
    "    print(\"*\"*n)\n",
    "\n",
    "for x in range(1,n+1):\n",
    "    print(\"*\"*x)"
   ]
  },
  {
   "cell_type": "code",
   "execution_count": 135,
   "metadata": {},
   "outputs": [
    {
     "name": "stdout",
     "output_type": "stream",
     "text": [
      "5\n",
      "4\n",
      "3\n",
      "2\n",
      "1\n",
      "1\t2\t3\t4\t5\t6\t7\t8\t9\t10\t\n",
      "11\t12\t13\t14\t15\t16\t17\t18\t19\t20\t\n",
      "21\t22\t23\t24\t25\t26\t27\t28\t29\t30\t\n",
      "31\t32\t33\t34\t35\t36\t37\t38\t39\t"
     ]
    }
   ],
   "source": [
    "x = int(input())\n",
    "for i in range(x,0,-1):\n",
    "    print(i)\n",
    "    \n",
    "x = int(input())\n",
    "for i in range(1,x+1):\n",
    "    print(i, end=\"\\t\")\n",
    "    if i % 10 == 0:\n",
    "        print()"
   ]
  },
  {
   "cell_type": "code",
   "execution_count": 139,
   "metadata": {},
   "outputs": [
    {
     "name": "stdout",
     "output_type": "stream",
     "text": [
      "[6, 12, 21, 36, 37, 43]\n",
      "[6, 8, 13, 25, 26, 33]\n",
      "[5, 6, 13, 20, 21, 45]\n",
      "[4, 11, 19, 22, 23, 29]\n",
      "[16, 25, 26, 27, 32, 33]\n"
     ]
    }
   ],
   "source": [
    "import random\n",
    "\n",
    "count = int(input())\n",
    "\n",
    "for i in range(count):\n",
    "    print(sorted(random.sample(range(1, 46), 6)))"
   ]
  }
 ],
 "metadata": {
  "kernelspec": {
   "display_name": "Python 3",
   "language": "python",
   "name": "python3"
  },
  "language_info": {
   "codemirror_mode": {
    "name": "ipython",
    "version": 3
   },
   "file_extension": ".py",
   "mimetype": "text/x-python",
   "name": "python",
   "nbconvert_exporter": "python",
   "pygments_lexer": "ipython3",
   "version": "3.10.8"
  }
 },
 "nbformat": 4,
 "nbformat_minor": 2
}
