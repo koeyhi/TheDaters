{
 "cells": [
  {
   "cell_type": "code",
   "execution_count": 35,
   "metadata": {},
   "outputs": [
    {
     "name": "stdout",
     "output_type": "stream",
     "text": [
      "된장찌개\n",
      "제육볶음\n",
      "된장찌개\n",
      "된장찌개\n",
      "제육볶음\n",
      "피자\n",
      "피자\n",
      "피자\n",
      "제육볶음\n",
      "제육볶음\n",
      "제육볶음\n",
      "제육볶음\n",
      "된장찌개\n",
      "제육볶음\n",
      "된장찌개\n",
      "제육볶음\n",
      "출력 종료\n"
     ]
    }
   ],
   "source": [
    "import time\n",
    "import random\n",
    "\n",
    "try:\n",
    "    while True: # 반복\n",
    "        lunch = random.choice([\"된장찌개\", \"피자\", \"제육볶음\"])\n",
    "        print(lunch)\n",
    "        time.sleep(1) # 1초씩 중단\n",
    "except:\n",
    "    print(\"출력 종료\")"
   ]
  },
  {
   "cell_type": "code",
   "execution_count": 36,
   "metadata": {},
   "outputs": [
    {
     "name": "stdout",
     "output_type": "stream",
     "text": [
      "영화관람\n",
      "{'고향': '수원', '취미': '영화관람', '특기': '피아노', '사는곳': '서울'}\n",
      "{}\n",
      "['된장찌개', '제육볶음']\n"
     ]
    }
   ],
   "source": [
    "information = {\"고향\":\"수원\", \"취미\":\"영화관람\",\"좋아하는 음식\":\"국수\"}\n",
    "print(information.get(\"취미\")) # get 함수\n",
    "\n",
    "information[\"특기\"] = \"피아노\" # 딕셔너리 요소 추가\n",
    "information[\"사는곳\"] = \"서울\"\n",
    "del information[\"좋아하는 음식\"] # 요소 삭제 del\n",
    "print(information)\n",
    "\n",
    "information.clear() # 딕셔너리 요소 전부 삭제\n",
    "print(information)\n",
    "\n",
    "foods = [\"된장찌개\", \"피자\", \"제육볶음\"]\n",
    "del foods[1]\n",
    "print(foods)"
   ]
  },
  {
   "cell_type": "code",
   "execution_count": 40,
   "metadata": {},
   "outputs": [
    {
     "name": "stdout",
     "output_type": "stream",
     "text": [
      "된장찌개\n",
      "피자\n",
      "제육볶음\n",
      "고향 수원\n",
      "취미 영화관람\n",
      "좋아하는 음식 국수\n"
     ]
    }
   ],
   "source": [
    "# for x in range(30):\n",
    "#     print(x)\n",
    "    \n",
    "foods = [\"된장찌개\", \"피자\", \"제육볶음\"]\n",
    "# for x in range(3):\n",
    "#     print(foods[x])\n",
    "for x in foods:\n",
    "    print(x)\n",
    "    \n",
    "information = {\"고향\":\"수원\",\"취미\":\"영화관람\",\"좋아하는 음식\":\"국수\"}\n",
    "for x,y in information.items(): # items => keys, values\n",
    "    print(x, y)"
   ]
  },
  {
   "cell_type": "code",
   "execution_count": 41,
   "metadata": {},
   "outputs": [
    {
     "name": "stdout",
     "output_type": "stream",
     "text": [
      "{'피자', '된장찌개', '제육볶음'}\n"
     ]
    }
   ],
   "source": [
    "foods = [\"된장찌개\", \"피자\", \"제육볶음\", \"된장찌개\"]\n",
    "foods_set = set(foods) # 집합은 중복 x\n",
    "print(foods_set)"
   ]
  },
  {
   "cell_type": "code",
   "execution_count": 51,
   "metadata": {},
   "outputs": [
    {
     "data": {
      "text/plain": [
       "{'된장찌개'}"
      ]
     },
     "execution_count": 51,
     "metadata": {},
     "output_type": "execute_result"
    }
   ],
   "source": [
    "menu1 = set([\"된장찌개\", \"피자\", \"제육볶음\"])\n",
    "menu2 = set([\"된장찌개\", \"떡국\", \"김밥\"])\n",
    "\n",
    "menu3 = menu1 & menu2 # '|' : 합집합, '-' : 차집합\n",
    "menu3"
   ]
  },
  {
   "cell_type": "code",
   "execution_count": 46,
   "metadata": {},
   "outputs": [
    {
     "name": "stdout",
     "output_type": "stream",
     "text": [
      "제육볶음\n",
      "곱빼기 주세요\n",
      "종료\n"
     ]
    }
   ],
   "source": [
    "import random\n",
    "\n",
    "food = random.choice([\"된장찌개\", \"피자\", \"제육볶음\"])\n",
    "\n",
    "print(food)\n",
    "if food == \"제육볶음\":\n",
    "    print(\"곱빼기 주세요\")\n",
    "else:\n",
    "    print(\"그냥 주세요\")\n",
    "print(\"종료\")"
   ]
  },
  {
   "cell_type": "code",
   "execution_count": 11,
   "metadata": {},
   "outputs": [
    {
     "data": {
      "text/plain": [
       "{'된장찌개', '제육볶음', '피자'}"
      ]
     },
     "execution_count": 11,
     "metadata": {},
     "output_type": "execute_result"
    }
   ],
   "source": [
    "set_dinner = set([\"된장찌개\", \"피자\", \"제육볶음\", \"짜장면\"])\n",
    "food = \"짜장면\"\n",
    "\n",
    "set_dinner = set_dinner - set([food]) # 차집합\n",
    "set_dinner"
   ]
  },
  {
   "cell_type": "code",
   "execution_count": 49,
   "metadata": {},
   "outputs": [
    {
     "name": "stdout",
     "output_type": "stream",
     "text": [
      "['된장찌개', '피자', '제육볶음', '짜장면']\n",
      "['된장찌개', '피자', '제육볶음', '짜장면', '김밥']\n",
      "['된장찌개', '피자', '제육볶음', '짜장면', '김밥', '쫄면']\n",
      "['된장찌개', '피자', '제육볶음', '짜장면', '김밥', '쫄면', '돈까쓰']\n",
      "['된장찌개', '피자', '제육볶음', '짜장면', '김밥', '쫄면', '돈까쓰']\n",
      "{'피자', '돈까쓰', '쫄면', '짜장면', '제육볶음', '김밥', '된장찌개'}\n",
      "{'돈까쓰', '쫄면', '짜장면', '제육볶음', '김밥', '된장찌개'}\n",
      "{'돈까쓰', '쫄면', '제육볶음', '김밥', '된장찌개'}\n",
      "{'제육볶음', '김밥', '돈까쓰', '쫄면'}\n",
      "제육볶음, 김밥, 돈까쓰, 쫄면 중에서 선택합니다.\n",
      "5\n",
      "4\n",
      "3\n",
      "2\n",
      "1\n",
      "제육볶음\n"
     ]
    }
   ],
   "source": [
    "import random\n",
    "import time\n",
    "\n",
    "lunch = [\"된장찌개\", \"피자\", \"제육볶음\", \"짜장면\"]\n",
    "while True:\n",
    "    print(lunch)\n",
    "    item = input(\"음식을 추가해주세요 : \")\n",
    "    if item == 'q':\n",
    "        break\n",
    "    else:\n",
    "        lunch.append(item)\n",
    "print(lunch)\n",
    "\n",
    "set_lunch = set(lunch)\n",
    "while True:\n",
    "    print(set_lunch)\n",
    "    item = input(\"음식을 삭제해주세요 : \")\n",
    "    if item == 'q':\n",
    "        break\n",
    "    else:\n",
    "        set_lunch = set_lunch - set([item])\n",
    "\n",
    "print(\", \".join(set_lunch), \"중에서 선택합니다.\")\n",
    "for x in range(5):\n",
    "    print(5-x)\n",
    "    time.sleep(1)\n",
    "print(random.choice(list(set_lunch)))"
   ]
  },
  {
   "cell_type": "code",
   "execution_count": 20,
   "metadata": {},
   "outputs": [
    {
     "name": "stdout",
     "output_type": "stream",
     "text": [
      "1. 커피를 넣는다.\n",
      "2. 우유를 넣는다.\n",
      "3. 신나게 섞는다.\n",
      "1. 블루베리 20g을 넣는다.\n",
      "2. 우유 300ml를 넣는다.\n",
      "3. 얼음을 넣는다.\n",
      "4. 믹서기에 간다.\n"
     ]
    }
   ],
   "source": [
    "def make_dolcelatte():\n",
    "    print(\"1. 얼음을 넣는다.\")\n",
    "    print(\"2. 연유를 30ml 넣는다.\")\n",
    "    print(\"3. 찬 우유를 넣는다.\")\n",
    "    print(\"4. 에스프레소 샷을 넣는다.\")\n",
    "\n",
    "def make_blueberry_smoothie():\n",
    "    print(\"1. 블루베리 20g을 넣는다.\")\n",
    "    print(\"2. 우유 300ml를 넣는다.\")\n",
    "    print(\"3. 얼음을 넣는다.\")\n",
    "    print(\"4. 믹서기에 간다.\")\n",
    "    \n",
    "def make_simple_late():\n",
    "    print(\"1. 커피를 넣는다.\")\n",
    "    print(\"2. 우유를 넣는다.\")\n",
    "    print(\"3. 신나게 섞는다.\")\n",
    "\n",
    "make_simple_late()\n",
    "make_blueberry_smoothie()"
   ]
  },
  {
   "cell_type": "code",
   "execution_count": 48,
   "metadata": {},
   "outputs": [
    {
     "name": "stdout",
     "output_type": "stream",
     "text": [
      "취미는?\n",
      "특기는?\n",
      "[{'질문': '취미는?', '답변': '야구'}, {'질문': '특기는?', '답변': '게임'}]\n"
     ]
    }
   ],
   "source": [
    "def question_dict():\n",
    "    total_dictionary = {}\n",
    "\n",
    "    while True:\n",
    "        question = input(\"질문을 입력해주세요 : \")\n",
    "        if question == 'q':\n",
    "            break\n",
    "        total_dictionary[question] = \"\"\n",
    "\n",
    "    for i in total_dictionary:\n",
    "        print(i)\n",
    "        answer = input(\"답변을 입력해주세요 : \")\n",
    "        total_dictionary[i] = answer\n",
    "\n",
    "    print(total_dictionary)\n",
    "\n",
    "def question_list():\n",
    "    total_list = []\n",
    "\n",
    "    while True:\n",
    "        question = input(\"질문을 입력해주세요 : \")\n",
    "        if question == 'q':\n",
    "            break\n",
    "        total_list.append({\"질문\": question, \"답변\": \"\"})\n",
    "\n",
    "    for i in total_list:\n",
    "        print(i[\"질문\"])\n",
    "        answer = input(\"답변을 입력해주세요 : \")\n",
    "        i[\"답변\"] = answer\n",
    "        \n",
    "    print(total_list)\n",
    "    \n",
    "# question_list()\n",
    "question_dict()"
   ]
  }
 ],
 "metadata": {
  "kernelspec": {
   "display_name": "Python 3",
   "language": "python",
   "name": "python3"
  },
  "language_info": {
   "codemirror_mode": {
    "name": "ipython",
    "version": 3
   },
   "file_extension": ".py",
   "mimetype": "text/x-python",
   "name": "python",
   "nbconvert_exporter": "python",
   "pygments_lexer": "ipython3",
   "version": "3.10.8"
  }
 },
 "nbformat": 4,
 "nbformat_minor": 2
}
