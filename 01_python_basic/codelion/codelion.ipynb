{
 "cells": [
  {
   "cell_type": "markdown",
   "metadata": {},
   "source": [
    "# 1일차"
   ]
  },
  {
   "cell_type": "code",
   "execution_count": 35,
   "metadata": {},
   "outputs": [
    {
     "name": "stdout",
     "output_type": "stream",
     "text": [
      "된장찌개\n",
      "제육볶음\n",
      "된장찌개\n",
      "된장찌개\n",
      "제육볶음\n",
      "피자\n",
      "피자\n",
      "피자\n",
      "제육볶음\n",
      "제육볶음\n",
      "제육볶음\n",
      "제육볶음\n",
      "된장찌개\n",
      "제육볶음\n",
      "된장찌개\n",
      "제육볶음\n",
      "출력 종료\n"
     ]
    }
   ],
   "source": [
    "import time\n",
    "import random\n",
    "\n",
    "try:\n",
    "    while True: # 반복\n",
    "        lunch = random.choice([\"된장찌개\", \"피자\", \"제육볶음\"])\n",
    "        print(lunch)\n",
    "        time.sleep(1) # 1초씩 중단\n",
    "except:\n",
    "    print(\"출력 종료\")"
   ]
  },
  {
   "cell_type": "code",
   "execution_count": 36,
   "metadata": {},
   "outputs": [
    {
     "name": "stdout",
     "output_type": "stream",
     "text": [
      "영화관람\n",
      "{'고향': '수원', '취미': '영화관람', '특기': '피아노', '사는곳': '서울'}\n",
      "{}\n",
      "['된장찌개', '제육볶음']\n"
     ]
    }
   ],
   "source": [
    "information = {\"고향\":\"수원\", \"취미\":\"영화관람\",\"좋아하는 음식\":\"국수\"}\n",
    "print(information.get(\"취미\")) # get 함수\n",
    "\n",
    "information[\"특기\"] = \"피아노\" # 딕셔너리 요소 추가\n",
    "information[\"사는곳\"] = \"서울\"\n",
    "del information[\"좋아하는 음식\"] # 요소 삭제 del\n",
    "print(information)\n",
    "\n",
    "information.clear() # 딕셔너리 요소 전부 삭제\n",
    "print(information)\n",
    "\n",
    "foods = [\"된장찌개\", \"피자\", \"제육볶음\"]\n",
    "del foods[1]\n",
    "print(foods)"
   ]
  },
  {
   "cell_type": "code",
   "execution_count": 40,
   "metadata": {},
   "outputs": [
    {
     "name": "stdout",
     "output_type": "stream",
     "text": [
      "된장찌개\n",
      "피자\n",
      "제육볶음\n",
      "고향 수원\n",
      "취미 영화관람\n",
      "좋아하는 음식 국수\n"
     ]
    }
   ],
   "source": [
    "# for x in range(30):\n",
    "#     print(x)\n",
    "    \n",
    "foods = [\"된장찌개\", \"피자\", \"제육볶음\"]\n",
    "# for x in range(3):\n",
    "#     print(foods[x])\n",
    "for x in foods:\n",
    "    print(x)\n",
    "    \n",
    "information = {\"고향\":\"수원\",\"취미\":\"영화관람\",\"좋아하는 음식\":\"국수\"}\n",
    "for x,y in information.items(): # items => keys, values\n",
    "    print(x, y)"
   ]
  },
  {
   "cell_type": "code",
   "execution_count": 41,
   "metadata": {},
   "outputs": [
    {
     "name": "stdout",
     "output_type": "stream",
     "text": [
      "{'피자', '된장찌개', '제육볶음'}\n"
     ]
    }
   ],
   "source": [
    "foods = [\"된장찌개\", \"피자\", \"제육볶음\", \"된장찌개\"]\n",
    "foods_set = set(foods) # 집합은 중복 x\n",
    "print(foods_set)"
   ]
  },
  {
   "cell_type": "code",
   "execution_count": 51,
   "metadata": {},
   "outputs": [
    {
     "data": {
      "text/plain": [
       "{'된장찌개'}"
      ]
     },
     "execution_count": 51,
     "metadata": {},
     "output_type": "execute_result"
    }
   ],
   "source": [
    "menu1 = set([\"된장찌개\", \"피자\", \"제육볶음\"])\n",
    "menu2 = set([\"된장찌개\", \"떡국\", \"김밥\"])\n",
    "\n",
    "menu3 = menu1 & menu2 # '|' : 합집합, '-' : 차집합\n",
    "menu3"
   ]
  },
  {
   "cell_type": "code",
   "execution_count": 46,
   "metadata": {},
   "outputs": [
    {
     "name": "stdout",
     "output_type": "stream",
     "text": [
      "제육볶음\n",
      "곱빼기 주세요\n",
      "종료\n"
     ]
    }
   ],
   "source": [
    "import random\n",
    "\n",
    "food = random.choice([\"된장찌개\", \"피자\", \"제육볶음\"])\n",
    "\n",
    "print(food)\n",
    "if food == \"제육볶음\":\n",
    "    print(\"곱빼기 주세요\")\n",
    "else:\n",
    "    print(\"그냥 주세요\")\n",
    "print(\"종료\")"
   ]
  },
  {
   "cell_type": "code",
   "execution_count": 11,
   "metadata": {},
   "outputs": [
    {
     "data": {
      "text/plain": [
       "{'된장찌개', '제육볶음', '피자'}"
      ]
     },
     "execution_count": 11,
     "metadata": {},
     "output_type": "execute_result"
    }
   ],
   "source": [
    "set_dinner = set([\"된장찌개\", \"피자\", \"제육볶음\", \"짜장면\"])\n",
    "food = \"짜장면\"\n",
    "\n",
    "set_dinner = set_dinner - set([food]) # 차집합\n",
    "set_dinner"
   ]
  },
  {
   "cell_type": "code",
   "execution_count": 49,
   "metadata": {},
   "outputs": [
    {
     "name": "stdout",
     "output_type": "stream",
     "text": [
      "['된장찌개', '피자', '제육볶음', '짜장면']\n",
      "['된장찌개', '피자', '제육볶음', '짜장면', '김밥']\n",
      "['된장찌개', '피자', '제육볶음', '짜장면', '김밥', '쫄면']\n",
      "['된장찌개', '피자', '제육볶음', '짜장면', '김밥', '쫄면', '돈까쓰']\n",
      "['된장찌개', '피자', '제육볶음', '짜장면', '김밥', '쫄면', '돈까쓰']\n",
      "{'피자', '돈까쓰', '쫄면', '짜장면', '제육볶음', '김밥', '된장찌개'}\n",
      "{'돈까쓰', '쫄면', '짜장면', '제육볶음', '김밥', '된장찌개'}\n",
      "{'돈까쓰', '쫄면', '제육볶음', '김밥', '된장찌개'}\n",
      "{'제육볶음', '김밥', '돈까쓰', '쫄면'}\n",
      "제육볶음, 김밥, 돈까쓰, 쫄면 중에서 선택합니다.\n",
      "5\n",
      "4\n",
      "3\n",
      "2\n",
      "1\n",
      "제육볶음\n"
     ]
    }
   ],
   "source": [
    "import random\n",
    "import time\n",
    "\n",
    "lunch = [\"된장찌개\", \"피자\", \"제육볶음\", \"짜장면\"]\n",
    "while True:\n",
    "    print(lunch)\n",
    "    item = input(\"음식을 추가해주세요 : \")\n",
    "    if item == 'q':\n",
    "        break\n",
    "    else:\n",
    "        lunch.append(item)\n",
    "print(lunch)\n",
    "\n",
    "set_lunch = set(lunch)\n",
    "while True:\n",
    "    print(set_lunch)\n",
    "    item = input(\"음식을 삭제해주세요 : \")\n",
    "    if item == 'q':\n",
    "        break\n",
    "    else:\n",
    "        set_lunch = set_lunch - set([item])\n",
    "\n",
    "print(\", \".join(set_lunch), \"중에서 선택합니다.\")\n",
    "for x in range(5):\n",
    "    print(5-x)\n",
    "    time.sleep(1)\n",
    "print(random.choice(list(set_lunch)))"
   ]
  },
  {
   "cell_type": "code",
   "execution_count": 20,
   "metadata": {},
   "outputs": [
    {
     "name": "stdout",
     "output_type": "stream",
     "text": [
      "1. 커피를 넣는다.\n",
      "2. 우유를 넣는다.\n",
      "3. 신나게 섞는다.\n",
      "1. 블루베리 20g을 넣는다.\n",
      "2. 우유 300ml를 넣는다.\n",
      "3. 얼음을 넣는다.\n",
      "4. 믹서기에 간다.\n"
     ]
    }
   ],
   "source": [
    "def make_dolcelatte():\n",
    "    print(\"1. 얼음을 넣는다.\")\n",
    "    print(\"2. 연유를 30ml 넣는다.\")\n",
    "    print(\"3. 찬 우유를 넣는다.\")\n",
    "    print(\"4. 에스프레소 샷을 넣는다.\")\n",
    "\n",
    "def make_blueberry_smoothie():\n",
    "    print(\"1. 블루베리 20g을 넣는다.\")\n",
    "    print(\"2. 우유 300ml를 넣는다.\")\n",
    "    print(\"3. 얼음을 넣는다.\")\n",
    "    print(\"4. 믹서기에 간다.\")\n",
    "    \n",
    "def make_simple_late():\n",
    "    print(\"1. 커피를 넣는다.\")\n",
    "    print(\"2. 우유를 넣는다.\")\n",
    "    print(\"3. 신나게 섞는다.\")\n",
    "\n",
    "make_simple_late()\n",
    "make_blueberry_smoothie()"
   ]
  },
  {
   "cell_type": "code",
   "execution_count": 48,
   "metadata": {},
   "outputs": [
    {
     "name": "stdout",
     "output_type": "stream",
     "text": [
      "취미는?\n",
      "특기는?\n",
      "[{'질문': '취미는?', '답변': '야구'}, {'질문': '특기는?', '답변': '게임'}]\n"
     ]
    }
   ],
   "source": [
    "def question_dict():\n",
    "    total_dictionary = {}\n",
    "\n",
    "    while True:\n",
    "        question = input(\"질문을 입력해주세요 : \")\n",
    "        if question == 'q':\n",
    "            break\n",
    "        total_dictionary[question] = \"\"\n",
    "\n",
    "    for i in total_dictionary:\n",
    "        print(i)\n",
    "        answer = input(\"답변을 입력해주세요 : \")\n",
    "        total_dictionary[i] = answer\n",
    "\n",
    "    print(total_dictionary)\n",
    "\n",
    "def question_list():\n",
    "    total_list = []\n",
    "\n",
    "    while True:\n",
    "        question = input(\"질문을 입력해주세요 : \")\n",
    "        if question == 'q':\n",
    "            break\n",
    "        total_list.append({\"질문\": question, \"답변\": \"\"})\n",
    "\n",
    "    for i in total_list:\n",
    "        print(i[\"질문\"])\n",
    "        answer = input(\"답변을 입력해주세요 : \")\n",
    "        i[\"답변\"] = answer\n",
    "        \n",
    "    print(total_list)\n",
    "    \n",
    "# question_list()\n",
    "question_dict()"
   ]
  },
  {
   "cell_type": "markdown",
   "metadata": {},
   "source": [
    "# 2일차"
   ]
  },
  {
   "cell_type": "code",
   "execution_count": 21,
   "metadata": {},
   "outputs": [
    {
     "name": "stdout",
     "output_type": "stream",
     "text": [
      "4\n",
      "['짜장', '라면', '탕수육', '냉면']\n"
     ]
    }
   ],
   "source": [
    "orders = [\"짜장\", \"짬뽕\", \"탕수육\"]\n",
    "\n",
    "orders.append(\"냉면\")\n",
    "orders.insert(1, \"라면\")\n",
    "\n",
    "# del orders[2] # del은 인덱스번호로 지정\n",
    "orders.remove('짬뽕') # remove는 요소 이름으로 지정\n",
    "\n",
    "print(len(orders))\n",
    "\n",
    "print(orders)"
   ]
  },
  {
   "cell_type": "code",
   "execution_count": 25,
   "metadata": {},
   "outputs": [
    {
     "name": "stdout",
     "output_type": "stream",
     "text": [
      "150\n",
      "30.0\n",
      "50 10\n",
      "[20, 40, 50, 10, 30]\n"
     ]
    }
   ],
   "source": [
    "num = [20, 40, 50, 10, 30]\n",
    "\n",
    "print(sum(num)) # 합\n",
    "\n",
    "avg = sum(num) / len(num) # 평균\n",
    "print(avg)\n",
    "\n",
    "print(max(num), min(num)) # 최소, 최대\n",
    "\n",
    "print(num)"
   ]
  },
  {
   "cell_type": "code",
   "execution_count": 31,
   "metadata": {},
   "outputs": [
    {
     "name": "stdout",
     "output_type": "stream",
     "text": [
      "5000\n",
      "{'짬뽕': 5000, '탕수육': 8500, '냉면': 6000}\n"
     ]
    }
   ],
   "source": [
    "menu = {\n",
    "    \"짜장\":4000,\n",
    "    \"짬뽕\":5000,\n",
    "    \"탕수육\":9000,\n",
    "}\n",
    "\n",
    "menu[\"냉면\"] = 6000 # 추가\n",
    "\n",
    "print(menu[\"짬뽕\"]) # 출력\n",
    "\n",
    "menu[\"탕수육\"] = 8500 # 수정\n",
    "\n",
    "del menu[\"짜장\"] # 삭제\n",
    "\n",
    "print(menu)"
   ]
  },
  {
   "cell_type": "code",
   "execution_count": 38,
   "metadata": {},
   "outputs": [
    {
     "name": "stdout",
     "output_type": "stream",
     "text": [
      "안녕하세요 후배님\n"
     ]
    }
   ],
   "source": [
    "myGrade = int(input(\"학번을 입력하세요\"))\n",
    "yourGrade = int(input(\"학번을 입력하세요\"))\n",
    "\n",
    "if myGrade == yourGrade:\n",
    "    print(\"안녕하세요 동기님\")\n",
    "elif myGrade > yourGrade:\n",
    "    print(\"안녕하세요 선배님\")\n",
    "elif myGrade < yourGrade:\n",
    "    print(\"안녕하세요 후배님\")\n",
    "else:\n",
    "    print(\"누구세요?\")"
   ]
  },
  {
   "cell_type": "code",
   "execution_count": 41,
   "metadata": {},
   "outputs": [
    {
     "name": "stdout",
     "output_type": "stream",
     "text": [
      "주문할 수 있습니다.\n"
     ]
    }
   ],
   "source": [
    "orders = [\"짜장\", \"짬뽕\", \"탕수육\"]\n",
    "\n",
    "food = input(\"먹고싶은 메뉴를 입력해주세요\")\n",
    "\n",
    "if food in orders:\n",
    "    print(\"주문할 수 있습니다.\")\n",
    "else:\n",
    "    print(\"주문할 수 없습니다.\")"
   ]
  },
  {
   "cell_type": "code",
   "execution_count": 49,
   "metadata": {},
   "outputs": [
    {
     "name": "stdout",
     "output_type": "stream",
     "text": [
      "4000 원 입니다.\n"
     ]
    }
   ],
   "source": [
    "menu = {\n",
    "    \"짜장\":4000,\n",
    "    \"짬뽕\":5000,\n",
    "    \"탕수육\":9000,\n",
    "}\n",
    "\n",
    "food = input(\"먹고싶은 메뉴를 입력해주세요\")\n",
    "\n",
    "if food in menu:\n",
    "    print(menu[food], \"원 입니다.\")\n",
    "else:\n",
    "    print(\"주문 불가\")"
   ]
  },
  {
   "cell_type": "code",
   "execution_count": 57,
   "metadata": {},
   "outputs": [
    {
     "name": "stdout",
     "output_type": "stream",
     "text": [
      "1\n",
      "3\n",
      "5\n",
      "7\n",
      "9\n",
      "반복종료\n"
     ]
    }
   ],
   "source": [
    "i = 0\n",
    "while i < 10:\n",
    "    i += 1\n",
    "    if i % 2 == 0:\n",
    "        continue\n",
    "    print(i)\n",
    "print(\"반복종료\")"
   ]
  },
  {
   "cell_type": "code",
   "execution_count": 66,
   "metadata": {},
   "outputs": [
    {
     "name": "stdout",
     "output_type": "stream",
     "text": [
      "3628800\n"
     ]
    }
   ],
   "source": [
    "result = 1\n",
    "\n",
    "for x in range(1, 11):\n",
    "    result *= x\n",
    "    \n",
    "print(result)"
   ]
  },
  {
   "cell_type": "code",
   "execution_count": 129,
   "metadata": {},
   "outputs": [
    {
     "name": "stdout",
     "output_type": "stream",
     "text": [
      "*****\n",
      "*****\n",
      "*****\n",
      "*****\n",
      "*****\n",
      "*\n",
      "**\n",
      "***\n",
      "****\n",
      "*****\n"
     ]
    }
   ],
   "source": [
    "n = int(input())\n",
    "\n",
    "for x in range(n):\n",
    "    print(\"*\"*n)\n",
    "\n",
    "for x in range(1,n+1):\n",
    "    print(\"*\"*x)"
   ]
  },
  {
   "cell_type": "code",
   "execution_count": 135,
   "metadata": {},
   "outputs": [
    {
     "name": "stdout",
     "output_type": "stream",
     "text": [
      "5\n",
      "4\n",
      "3\n",
      "2\n",
      "1\n",
      "1\t2\t3\t4\t5\t6\t7\t8\t9\t10\t\n",
      "11\t12\t13\t14\t15\t16\t17\t18\t19\t20\t\n",
      "21\t22\t23\t24\t25\t26\t27\t28\t29\t30\t\n",
      "31\t32\t33\t34\t35\t36\t37\t38\t39\t"
     ]
    }
   ],
   "source": [
    "x = int(input())\n",
    "for i in range(x,0,-1):\n",
    "    print(i)\n",
    "    \n",
    "x = int(input())\n",
    "for i in range(1,x+1):\n",
    "    print(i, end=\"\\t\")\n",
    "    if i % 10 == 0:\n",
    "        print()"
   ]
  },
  {
   "cell_type": "code",
   "execution_count": 139,
   "metadata": {},
   "outputs": [
    {
     "name": "stdout",
     "output_type": "stream",
     "text": [
      "[6, 12, 21, 36, 37, 43]\n",
      "[6, 8, 13, 25, 26, 33]\n",
      "[5, 6, 13, 20, 21, 45]\n",
      "[4, 11, 19, 22, 23, 29]\n",
      "[16, 25, 26, 27, 32, 33]\n"
     ]
    }
   ],
   "source": [
    "import random\n",
    "\n",
    "count = int(input())\n",
    "\n",
    "for i in range(count):\n",
    "    print(sorted(random.sample(range(1, 46), 6)))"
   ]
  },
  {
   "cell_type": "markdown",
   "metadata": {},
   "source": [
    "# 3일차"
   ]
  },
  {
   "cell_type": "markdown",
   "metadata": {},
   "source": [
    "## 실시간 검색어 확인하기"
   ]
  },
  {
   "cell_type": "code",
   "execution_count": 24,
   "metadata": {},
   "outputs": [
    {
     "name": "stdout",
     "output_type": "stream",
     "text": [
      "2024년 09월 11일의 뉴스 헤드라인입니다.\n",
      "\n",
      "1. 의대 입학 이번이 기회… 수능 도전하는 졸업생 21년 만에 최다\n",
      "\n",
      "2. 싱가포르서 일본인 최초로 '태형 20대' 맞는다…\"항소 포기\"\n",
      "\n",
      "3. 민주당, 울산시의회 파행에 김기현 책임론 제기\n",
      "\n",
      "4. 미 대선 내·외조 경쟁… 세컨 젠틀맨 \"토론 승리\" vs 멜라니아, 암살 음모론 동조\n",
      "\n",
      "5. 해리스發 ‘달러 약세’…환율 1339원으로 하락[외환마감]\n",
      "\n",
      "6. 최민희 의원 \"인터넷도박에 이용된 계좌, 지급정지”\n",
      "\n",
      "7. \"뉴스에 팔아라\" 빈말 아니었네 (feat.하이로닉)\n",
      "\n",
      "8. 450년 전 ‘성녀’의 시신, 부패 없이 온전…“얼굴 알아볼 수 있을 정도”[핵잼 사이언스]\n",
      "\n",
      "9. 지난해 실업급여 받은 외국인 근로자 1만3천명 육박…5년새 5배 ↑\n",
      "\n",
      "10. “감히 우리 아파트에 들어와?” 펜스 설치 강남서 전국으로 번진다 [부동산360]\n",
      "\n",
      "11. 시멘트업계 당황하며 공포에 덜덜…\"IMF보다 큰 게 온다\"\n",
      "\n",
      "12. 테슬라 주가, 다시 날개 달까…\"40% 더 오른다\"\n",
      "\n",
      "13. 한강뷰 헬스장?…층간소음에 이용 불가\n",
      "\n",
      "14. 의정대화 막는 블랙리스트…\"부역자 꼬리표에 딴목소리 못 낸다\"\n",
      "\n",
      "15. [위고비 쇼크] 위고비보다 효과 좋은 먹는 비만 치료제… 안전성은 연구 더 필요\n",
      "\n",
      "16. 정부 \"응급실 사망률 증가는 국민 협조로 경증 환자 덜 왔기 때문\"\n",
      "\n",
      "17. [현장] '총선' 아픔 딛고 '재보선' 공들이는 한동훈…금정구청장 선거 '바람몰이'\n",
      "\n",
      "18. 집배원이 전화하면 휴대전화에 '우체국입니다' 피싱과 구별하세요\n",
      "\n",
      "19. [코인뉴스] 비트코인, 美 대선 토론서 '코인' 언급 없자 200만원 하락\n",
      "\n",
      "20. 야당 “정권주인 행세”, “권익위 국장 죽음 모르쇠”…김건희 비판\n",
      "\n",
      "21. “K-방산 진짜 잘 나간다? 수출만 해선 돈 되는 알짜 다 놓친다” [비즈360]\n",
      "\n",
      "22. [올댓차이나] 중국 증시 혼조 마감…상하이지수 0.82%↓\n",
      "\n",
      "23. [경제쏙쏙] 긴 연휴 해외여행 어디로…인류 최초 '조만 장자'는\n",
      "\n",
      "24. 수출-내수 연결고리 끊은 주범 : 고금리일까 대기업일까 [마켓톡톡]\n",
      "\n",
      "25. 450년 전 ‘성녀’의 시신, 부패 없이 온전…“얼굴 알아볼 수 있을 정도”[핵잼 사이언스]\n",
      "\n",
      "26. 대학은 캐나다에서? 학비 부담 과거보다 더 커져[통신One]\n",
      "\n",
      "27. “답답해 죽겠네” 플라스틱 쓰레기 물었더니…묵묵부답 정부 [지구, 뭐래?]\n",
      "\n",
      "28. \"별안간 승강기에 입맞춤\"…수상한 여성 정체는? [뉴블더]\n",
      "\n",
      "29. 한·캐나다 국방장관 회담\n",
      "\n",
      "30. 추석 명절 전 생활안정 지원금 지급하는 북구\n",
      "\n",
      "31. 이재명-정청래가 본 기사가 뭐길래\n",
      "\n",
      "32. 원/달러 환율, '해리스 트레이드'에 1,330원대 하락\n",
      "\n"
     ]
    }
   ],
   "source": [
    "from bs4 import BeautifulSoup\n",
    "import requests\n",
    "from datetime import datetime\n",
    "\n",
    "headers = {'user-agent':'Mozilla/5.0 (Windows NT 10.0; Win64; x64) AppleWebKit/537.36 (KHTML, like Gecko) Chrome/128.0.0.0 Safari/537.36'}\n",
    "url = \"https://news.daum.net/?nil_profile=mini&nil_src=news\"\n",
    "response = requests.get(url, headers=headers)\n",
    "soup = BeautifulSoup(response.text, 'html.parser')\n",
    "\n",
    "news_section = soup.find(\"main\")\n",
    "news_headlines = news_section.find_all('a', class_='link_txt')\n",
    "file_news_headlines = open(\"news_headlines.txt\", \"w\")\n",
    "\n",
    "print(datetime.today().strftime(\"%Y년 %m월 %d일의 뉴스 헤드라인입니다.\\n\"))\n",
    "\n",
    "for index, headline in enumerate(news_headlines, start=1):\n",
    "    title = headline.get_text().strip()\n",
    "    file_news_headlines.write(f\"{index}. {title}\\n\")\n",
    "    print(f\"{index}. {title}\\n\")\n",
    "\n",
    "file_news_headlines.close()"
   ]
  },
  {
   "cell_type": "markdown",
   "metadata": {},
   "source": [
    "## 날씨 정보 받아오기"
   ]
  },
  {
   "cell_type": "code",
   "execution_count": 60,
   "metadata": {},
   "outputs": [
    {
     "name": "stdout",
     "output_type": "stream",
     "text": [
      "Daejeon의 날씨입니다.\n",
      "튼구름\n",
      "현재 온도는 30.97 입니다.\n",
      "현재 온도는 37.97 입니다.\n",
      "최저 기온은 30.97 입니다.\n",
      "최고 기온은 30.97 입니다.\n",
      "습도는 86 입니다.\n",
      "기압는 1016 입니다.\n",
      "풍향는 240 입니다.\n",
      "풍속는 2.07 입니다.\n"
     ]
    }
   ],
   "source": [
    "import requests\n",
    "import json\n",
    "\n",
    "city = \"Daejeon\"\n",
    "apikey = '34bf30a240a8ff6ba62d11347fd8de89'\n",
    "api = f\"https://api.openweathermap.org/data/2.5/weather?q={city}&appid={apikey}&lang=kr&units=metric\"\n",
    "\n",
    "result = requests.get(api)\n",
    "data = json.loads(result.text) # result.json()\n",
    "\n",
    "print(data[\"name\"] + \"의 날씨입니다.\")\n",
    "print(data[\"weather\"][0][\"description\"])\n",
    "print(\"현재 온도는\",data[\"main\"]['temp'],\"입니다.\")\n",
    "print(f\"현재 온도는 {data['main']['feels_like']} 입니다.\") # \"\" '' 충돌 주의\n",
    "print(\"최저 기온은\", data[\"main\"][\"temp_min\"], \"입니다.\")\n",
    "print(\"최고 기온은\", data[\"main\"][\"temp_max\"], \"입니다.\")\n",
    "print(\"습도는\", data[\"main\"][\"humidity\"], \"입니다.\")\n",
    "print(\"기압는\", data[\"main\"][\"pressure\"], \"입니다.\")\n",
    "print(\"풍향는\", data[\"wind\"][\"deg\"], \"입니다.\")\n",
    "print(\"풍속는\", data[\"wind\"][\"speed\"], \"입니다.\")"
   ]
  },
  {
   "cell_type": "code",
   "execution_count": 9,
   "metadata": {},
   "outputs": [
    {
     "name": "stdout",
     "output_type": "stream",
     "text": [
      "\n",
      "============= 번역 결과 ============\n",
      "\n",
      "ko : 안녕하세요\n",
      "en : hello\n",
      "\n",
      "====================================\n",
      "\n"
     ]
    }
   ],
   "source": [
    "from googletrans import Translator\n",
    "\n",
    "translator = Translator()\n",
    "\n",
    "sentence = input(\"번역을 원하는 문장을 입력하세요\")\n",
    "dest = input(\"어떤 언어로 번역하시겠습니까?\")\n",
    "\n",
    "result = translator.translate(sentence, dest)\n",
    "detect = translator.detect(sentence)\n",
    "\n",
    "print(\"\\n============= 번역 결과 ============\\n\")\n",
    "print(detect.lang,\":\", result.origin)\n",
    "print(result.dest,\":\", result.text)\n",
    "print(\"\\n====================================\\n\")"
   ]
  },
  {
   "cell_type": "code",
   "execution_count": 8,
   "metadata": {},
   "outputs": [
    {
     "name": "stdout",
     "output_type": "stream",
     "text": [
      "정상적으로 메일이 발송되었습니다.\n"
     ]
    },
    {
     "data": {
      "text/plain": [
       "(221,\n",
       " b'2.0.0 closing connection d2e1a72fcca58-71908fc8fafsm2347645b3a.34 - gsmtp')"
      ]
     },
     "execution_count": 8,
     "metadata": {},
     "output_type": "execute_result"
    }
   ],
   "source": [
    "from email.message import EmailMessage\n",
    "import smtplib\n",
    "import imghdr\n",
    "import re\n",
    "\n",
    "SMTP_SERVER = \"smtp.gmail.com\"\n",
    "SMTP_PORT = 465\n",
    "password = \"구글 계정관리 - 앱 비밀번호 에서 일회용 비밀번호 발급 후 이곳에 입력\"\n",
    "\n",
    "def sendEmail(addr, message, smtp):\n",
    "    reg = \"^[a-zA-Z0-9.+_-]+@[a-zA-Z0-9]+\\.[a-zA-Z]{2,3}$\" # 유효성 검사\n",
    "    if bool(re.match(reg,addr)):\n",
    "        smtp.send_message(message)\n",
    "        print(\"정상적으로 메일이 발송되었습니다.\")\n",
    "    else:\n",
    "        print(\"유효한 이메일 주소가 아닙니다.\")\n",
    "\n",
    "message = EmailMessage()\n",
    "message.set_content(\"코드라이언 수업중입니다.\")\n",
    "\n",
    "message['Subject'] = \"이것은 제목입니다.\"\n",
    "message[\"From\"] = \"kwon37954@gmail.com\"\n",
    "message[\"To\"] = \"kwon37954@gmail.com\"\n",
    "\n",
    "with open('codelion.png', 'rb') as img:\n",
    "    img_file = img.read()\n",
    "    image_type = imghdr.what(None, img_file)\n",
    "    message.add_attachment(img_file, maintype=\"image\", subtype=image_type, filename=\"codelion.png\")\n",
    "\n",
    "smtp = smtplib.SMTP_SSL(SMTP_SERVER, SMTP_PORT)\n",
    "smtp.login(\"kwon37954@gmail.com\", password)\n",
    "\n",
    "sendEmail(\"kwon37954@gmail.com\", message, smtp)\n",
    "smtp.quit()"
   ]
  }
 ],
 "metadata": {
  "kernelspec": {
   "display_name": "Python 3",
   "language": "python",
   "name": "python3"
  },
  "language_info": {
   "codemirror_mode": {
    "name": "ipython",
    "version": 3
   },
   "file_extension": ".py",
   "mimetype": "text/x-python",
   "name": "python",
   "nbconvert_exporter": "python",
   "pygments_lexer": "ipython3",
   "version": "3.10.8"
  }
 },
 "nbformat": 4,
 "nbformat_minor": 2
}
