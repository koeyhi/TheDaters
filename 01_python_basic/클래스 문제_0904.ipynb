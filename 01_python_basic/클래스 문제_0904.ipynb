{
 "cells": [
  {
   "cell_type": "markdown",
   "metadata": {},
   "source": [
    "# 문제1\n",
    "- Scaler 클래스를 상속받아 StandardScaler 클래스를 구현하시오\n",
    "- Scaler 클래스 fit_transform 와 transform 메서드를 오버라이딩하시오\n",
    "- fit_transform의 기능\n",
    "    - 전달 받은 리스트의 평균값과 표준편차를 인스턴스변수에 저장\n",
    "    - 전달 받은 리스트를 표준화하여 스케일링을 적용하고 반환\n",
    "- transform의 기능\n",
    "    -  저장된 인스턴스변수를 이용하여 전달 받은 리스트를 표준화하여 스케일링을 적용하고 반환\n",
    "    \n",
    "$$\n",
    "\\frac{x-\\mu}{σ}\n",
    "$$"
   ]
  },
  {
   "cell_type": "code",
   "execution_count": 48,
   "metadata": {},
   "outputs": [],
   "source": [
    "train = [3,50,4,6,14,64]\n",
    "test = [90, 85, 79, 88, 94]"
   ]
  },
  {
   "cell_type": "code",
   "execution_count": 38,
   "metadata": {},
   "outputs": [],
   "source": [
    "class Scaler:\n",
    "    def get_avg(self,data):\n",
    "        avg = sum(data) / len(data)\n",
    "        return avg\n",
    "\n",
    "    def get_std(self,data):\n",
    "        avg = self.get_avg(data)\n",
    "        diff_list = [ (avg - x ) ** 2  for x in data ]\n",
    "        var = sum(diff_list) / len(data) \n",
    "        return var ** 0.5  \n",
    "\n",
    "    def fit_transform(self,data):\n",
    "        pass\n",
    "    def transform(self,data):\n",
    "        pass"
   ]
  },
  {
   "cell_type": "code",
   "execution_count": 45,
   "metadata": {},
   "outputs": [],
   "source": [
    "class StandardScaler(Scaler):\n",
    "    def fit_transform(self,data):\n",
    "        self.avg = self.get_avg(data)\n",
    "        self.std = self.get_std(data)\n",
    "        \n",
    "        # return [(x-self.avg) / self.std for x in data]\n",
    "        return self.transform(data)\n",
    "    def transform(self,data):\n",
    "        return [(x-self.avg) / self.std for x in data]"
   ]
  },
  {
   "cell_type": "code",
   "execution_count": 53,
   "metadata": {},
   "outputs": [
    {
     "data": {
      "text/plain": [
       "[-0.8440312526642227,\n",
       " 1.091064790029361,\n",
       " -0.8028589964366997,\n",
       " -0.7205144839816535,\n",
       " -0.3911364341614691,\n",
       " 1.667476377214684]"
      ]
     },
     "execution_count": 53,
     "metadata": {},
     "output_type": "execute_result"
    }
   ],
   "source": [
    "scaler = StandardScaler()\n",
    "train_data = scaler.fit_transform(train)\n",
    "train_data"
   ]
  },
  {
   "cell_type": "code",
   "execution_count": 54,
   "metadata": {},
   "outputs": [
    {
     "data": {
      "text/plain": [
       "[0.5560110295526758,\n",
       " -0.43686580893424626,\n",
       " -1.6283180151185526,\n",
       " 0.15886029415790695,\n",
       " 1.3503125003422134]"
      ]
     },
     "execution_count": 54,
     "metadata": {},
     "output_type": "execute_result"
    }
   ],
   "source": [
    "test_data = scaler.fit_transform(test)\n",
    "test_data"
   ]
  },
  {
   "cell_type": "markdown",
   "metadata": {},
   "source": [
    "# 문제2\n",
    "- MinMaxScaler 클래스를 구현하기\n",
    "- Min-Max 스케일링 기능이 있는 클래스 구현하기\n",
    "- fit, fit_transform , transform, inverse_transform 메서드를 구현\n",
    "- fit 메서드:\n",
    "    - 데이터의 최소값과 사이즈값(최대값- 최소값)을 인스턴스 변수에 저장하는 기능을 구현\n",
    "- fit_transform 메서드\n",
    "    - 데이터의 최소값과 사이즈값(최대값- 최소값)을 인스턴스변수에 저장하는 기능과 함께 전달받은 데이터를 Min-Max 스케일링을 적용하고 반환\n",
    "- transform 메서드\n",
    "    - 저장된 인스턴스 변수를 이용하여 전달받은 데이터를 Min-Max 스케일링을 적용하고 반환\n",
    "- inverse_transform 메서드\n",
    "    - Min-Max 스케일이 적용된 데이터를 전달받아 원래의 수치로 변경하여 반환\n",
    "\n",
    "\n",
    "    $$\n",
    "    \\frac{x-Min(X)}{Max(X)-Min(X)}\n",
    "    $$\n",
    "\n",
    "\n",
    "- 역변환\n",
    "    $$\n",
    "    x \\times (Max(X)-Min(X)) + Min(X)  \n",
    "    $$"
   ]
  },
  {
   "cell_type": "code",
   "execution_count": 3,
   "metadata": {},
   "outputs": [],
   "source": [
    "class MinMaxScaler:\n",
    "    def __init__(self, data):\n",
    "        self.data = data\n",
    "        \n",
    "    def fit(self):\n",
    "        self.min = min(self.data)\n",
    "        self.size = max(self.data) - self.min\n",
    "        \n",
    "    def fit_transform(self):\n",
    "        # self.min = min(self.data)\n",
    "        # self.size = max(self.data) - self.min\n",
    "        self.fit()\n",
    "        # scaled_data = [(x - self.min) / self.size for x in self.data]\n",
    "        # return scaled_data\n",
    "        return self.transform()\n",
    "    \n",
    "    def transform(self):\n",
    "        self.scaled_data = [(x - self.min) / self.size for x in self.data]\n",
    "        return self.scaled_data\n",
    "    \n",
    "    def inverse_transform(self):\n",
    "        return [x * self.size + self.min for x in self.scaled_data]"
   ]
  },
  {
   "cell_type": "code",
   "execution_count": 4,
   "metadata": {},
   "outputs": [],
   "source": [
    "data1 = [90, 85, 79, 88, 94]\n",
    "data2 = [4000, 6000, 2400, 12000, 17000]"
   ]
  },
  {
   "cell_type": "code",
   "execution_count": 5,
   "metadata": {},
   "outputs": [],
   "source": [
    "scaler1 = MinMaxScaler(data1)\n",
    "scaler2 = MinMaxScaler(data2)"
   ]
  },
  {
   "cell_type": "code",
   "execution_count": 6,
   "metadata": {},
   "outputs": [],
   "source": [
    "scaler1.fit()\n",
    "scaler2.fit()"
   ]
  },
  {
   "cell_type": "code",
   "execution_count": 12,
   "metadata": {},
   "outputs": [
    {
     "data": {
      "text/plain": [
       "[0.1095890410958904, 0.2465753424657534, 0.0, 0.6575342465753424, 1.0]"
      ]
     },
     "execution_count": 12,
     "metadata": {},
     "output_type": "execute_result"
    }
   ],
   "source": [
    "scaler1.fit_transform()\n",
    "scaler2.fit_transform()"
   ]
  },
  {
   "cell_type": "code",
   "execution_count": 9,
   "metadata": {},
   "outputs": [
    {
     "data": {
      "text/plain": [
       "[0.1095890410958904, 0.2465753424657534, 0.0, 0.6575342465753424, 1.0]"
      ]
     },
     "execution_count": 9,
     "metadata": {},
     "output_type": "execute_result"
    }
   ],
   "source": [
    "scaler1.transform()\n",
    "scaler2.transform()"
   ]
  },
  {
   "cell_type": "code",
   "execution_count": 10,
   "metadata": {},
   "outputs": [
    {
     "data": {
      "text/plain": [
       "[4000.0, 6000.0, 2400.0, 12000.0, 17000.0]"
      ]
     },
     "execution_count": 10,
     "metadata": {},
     "output_type": "execute_result"
    }
   ],
   "source": [
    "scaler1.inverse_transform()\n",
    "scaler2.inverse_transform()"
   ]
  },
  {
   "cell_type": "markdown",
   "metadata": {},
   "source": [
    "# 문제3\n",
    "- 객체 생성시 딕셔너리 데이터를 입력 받아 다음과 같은 예시로 데이터를 반환하는 클래스를 만드시오.\n",
    "\n",
    "    ```python\n",
    "    data = {\n",
    "        \"x\" : [0.4, 0.3, 0.8, 0.2, 0.3, 0.9, 0.7],\n",
    "        \"y\" : [0, 1, 0, 0, 1, 0, 0]\n",
    "    }\n",
    "\n",
    "    dt = Dataset(data)\n",
    "    len(dt)\n",
    "    # Output:\n",
    "    7\n",
    "\n",
    "    dt[0]\n",
    "    # Output:\n",
    "    (0.4, 0)\n",
    "\n",
    "    ```"
   ]
  },
  {
   "cell_type": "code",
   "execution_count": 14,
   "metadata": {},
   "outputs": [],
   "source": [
    "data = {\n",
    "    \"x\" : [0.4, 0.3, 0.8, 0.2, 0.3, 0.9, 0.7],\n",
    "    \"y\" : [0, 1, 0, 0, 1, 0, 0]\n",
    "}"
   ]
  },
  {
   "cell_type": "code",
   "execution_count": 15,
   "metadata": {},
   "outputs": [],
   "source": [
    "class Dataset:\n",
    "    def __init__(self, data):\n",
    "        self.x = data['x']\n",
    "        self.y = data['y']\n",
    "    \n",
    "    def __len__(self):\n",
    "        return len(self.x)\n",
    "    \n",
    "    def __getitem__(self, idx):\n",
    "        return self.x[idx], self.y[idx]"
   ]
  },
  {
   "cell_type": "code",
   "execution_count": 22,
   "metadata": {},
   "outputs": [],
   "source": [
    "class Dataset:\n",
    "    def __init__(self, data):\n",
    "        self.keys = list(data.keys())\n",
    "        self.values = list(data.values())\n",
    "    def __len__(self):\n",
    "        return len(self.values[0])\n",
    "    def __getitem__(self, i):\n",
    "        return tuple(v[i] for v in self.values)"
   ]
  },
  {
   "cell_type": "code",
   "execution_count": 20,
   "metadata": {},
   "outputs": [],
   "source": [
    "dt = Dataset(data)"
   ]
  },
  {
   "cell_type": "code",
   "execution_count": 17,
   "metadata": {},
   "outputs": [
    {
     "data": {
      "text/plain": [
       "7"
      ]
     },
     "execution_count": 17,
     "metadata": {},
     "output_type": "execute_result"
    }
   ],
   "source": [
    "len(dt)"
   ]
  },
  {
   "cell_type": "code",
   "execution_count": 18,
   "metadata": {},
   "outputs": [
    {
     "data": {
      "text/plain": [
       "(0.7, 0)"
      ]
     },
     "execution_count": 18,
     "metadata": {},
     "output_type": "execute_result"
    }
   ],
   "source": [
    "dt[6]"
   ]
  },
  {
   "cell_type": "code",
   "execution_count": null,
   "metadata": {},
   "outputs": [],
   "source": []
  }
 ],
 "metadata": {
  "kernelspec": {
   "display_name": "Python 3",
   "language": "python",
   "name": "python3"
  },
  "language_info": {
   "codemirror_mode": {
    "name": "ipython",
    "version": 3
   },
   "file_extension": ".py",
   "mimetype": "text/x-python",
   "name": "python",
   "nbconvert_exporter": "python",
   "pygments_lexer": "ipython3",
   "version": "3.10.8"
  }
 },
 "nbformat": 4,
 "nbformat_minor": 2
}
