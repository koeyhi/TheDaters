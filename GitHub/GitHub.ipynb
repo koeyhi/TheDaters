{
 "cells": [
  {
   "cell_type": "markdown",
   "metadata": {},
   "source": [
    "# Git, GitHub, GitLab"
   ]
  },
  {
   "cell_type": "markdown",
   "metadata": {},
   "source": [
    "- 깃 사용에 있어 문제점 찾고 해결하는 경험\n",
    "- 궁금한내용 깃허브에 검색해보는 습관 ex) 프로젝트 세팅 등 껍데기 프로젝트\n",
    "- 커뮤니티 사용하듯이\n",
    "- 차별성\n",
    "- 깃이 왜 좋은지, 현업에서  왜 쓰는지 생각해보기"
   ]
  },
  {
   "cell_type": "markdown",
   "metadata": {},
   "source": [
    "## Git 을 사용하는 이유\n",
    "- 버전 관리\n",
    "- 협업 용이\n",
    "    - 코드 충돌 관리\n",
    "- 분산 환경 지원\n",
    "    - 로컬, 오프라인 가능\n",
    "- 데이터 무결성\n",
    "- 백업과 복원 용이\n",
    "    - 모든 버전 저장됨\n",
    "- 브랜치와 머지\n",
    "    - 가지치기(각자 작업), 병합\n",
    "- 커뮤니티와 통합"
   ]
  },
  {
   "cell_type": "markdown",
   "metadata": {},
   "source": [
    "# GitBash\n",
    "- Linux 스타일의 쉘 경험\n",
    "- Git 명령어 접근\n",
    "- SSH 지원"
   ]
  },
  {
   "cell_type": "markdown",
   "metadata": {},
   "source": [
    "## Git 작업 흐름\n",
    "- Git의 로컬 저장소는 3가지\n",
    "    1. 작업 디렉토리(실제 파일)\n",
    "        - add\n",
    "    2. 인덱스(준비 영역)\n",
    "        - commit\n",
    "    3. HEAD(최종 확정본)"
   ]
  },
  {
   "cell_type": "markdown",
   "metadata": {},
   "source": [
    "### 명령어"
   ]
  },
  {
   "cell_type": "markdown",
   "metadata": {},
   "source": [
    "- `git status`: 상태확인\n",
    "- `git add .`: 인덱스 영역에 다 올림\n",
    "- `git add`: 파일이름\n",
    "- `git commit {옵션} {커밋 메시지}`: 커밋\n",
    "- `git push`: 원격 저장소에 푸시\n",
    "- `git log`: 커밋 여부"
   ]
  },
  {
   "cell_type": "markdown",
   "metadata": {},
   "source": [
    "## Git 가지(branch)치기\n",
    "\n",
    "- `branch`\n",
    "    - 안전하게 격리된 상태에서 무언가를 만들 때 사용함\n",
    "    - 다른 가지를 이용하여 개발을 진행하고, 개발 완료시 `master(main)` 가지에 병합\n",
    "\n",
    "- `git branch` : 로컬 저장소의 `branch` 목록 및 내가 현재 위치한 `branch`를 *로 표시\n",
    "- `git branch -r` : 원격 저장소의 `branch` 확인\n",
    "- `git branch -v` : `branch` 마지막 커밋 메세지 확인\n",
    "- `git branch 브랜치이름` : 새로운 `branch` 생성\n",
    "- `git checkout 브랜치이름` : 해당 `branch`로 이동\n",
    "- `git branch -b 브랜치이름` : 새로운 `branch` 생성 및 이동\n",
    "- `git checkout master` : \n",
    "- `git merge 브랜치이름` : 현재 `branch`에 `브랜치이름` 병합"
   ]
  },
  {
   "cell_type": "markdown",
   "metadata": {},
   "source": [
    "# Git WorkFlow\n",
    "\n",
    "- 각 브랜치 의미 파악"
   ]
  },
  {
   "cell_type": "markdown",
   "metadata": {},
   "source": [
    "# Git tag\n",
    "- 버전관리\n",
    "- 소스트리(`git` 관리 툴)"
   ]
  }
 ],
 "metadata": {
  "language_info": {
   "name": "python"
  }
 },
 "nbformat": 4,
 "nbformat_minor": 2
}
