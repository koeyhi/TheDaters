{
 "cells": [
  {
   "cell_type": "code",
   "execution_count": 2,
   "metadata": {},
   "outputs": [],
   "source": [
    "SEED = 42\n",
    "DATA_PATH = \"data/\""
   ]
  },
  {
   "cell_type": "code",
   "execution_count": 5,
   "metadata": {},
   "outputs": [
    {
     "data": {
      "text/plain": [
       "(19548, 10)"
      ]
     },
     "execution_count": 5,
     "metadata": {},
     "output_type": "execute_result"
    }
   ],
   "source": [
    "import pandas as pd\n",
    "\n",
    "train = pd.read_csv(f\"{DATA_PATH}loan_grade_train.csv\")\n",
    "train.shape"
   ]
  },
  {
   "cell_type": "code",
   "execution_count": 6,
   "metadata": {},
   "outputs": [
    {
     "data": {
      "text/html": [
       "<div>\n",
       "<style scoped>\n",
       "    .dataframe tbody tr th:only-of-type {\n",
       "        vertical-align: middle;\n",
       "    }\n",
       "\n",
       "    .dataframe tbody tr th {\n",
       "        vertical-align: top;\n",
       "    }\n",
       "\n",
       "    .dataframe thead th {\n",
       "        text-align: right;\n",
       "    }\n",
       "</style>\n",
       "<table border=\"1\" class=\"dataframe\">\n",
       "  <thead>\n",
       "    <tr style=\"text-align: right;\">\n",
       "      <th></th>\n",
       "      <th>ID</th>\n",
       "      <th>나이</th>\n",
       "      <th>연간소득</th>\n",
       "      <th>주택소유상태</th>\n",
       "      <th>근로기간</th>\n",
       "      <th>대출목적</th>\n",
       "      <th>대출금액</th>\n",
       "      <th>이자율</th>\n",
       "      <th>신용거래기간</th>\n",
       "      <th>target</th>\n",
       "    </tr>\n",
       "  </thead>\n",
       "  <tbody>\n",
       "    <tr>\n",
       "      <th>0</th>\n",
       "      <td>train_0</td>\n",
       "      <td>26</td>\n",
       "      <td>33996</td>\n",
       "      <td>임대</td>\n",
       "      <td>10.0</td>\n",
       "      <td>투자</td>\n",
       "      <td>7000</td>\n",
       "      <td>8.00</td>\n",
       "      <td>2</td>\n",
       "      <td>0</td>\n",
       "    </tr>\n",
       "    <tr>\n",
       "      <th>1</th>\n",
       "      <td>train_1</td>\n",
       "      <td>34</td>\n",
       "      <td>84000</td>\n",
       "      <td>임대</td>\n",
       "      <td>3.0</td>\n",
       "      <td>개인사업</td>\n",
       "      <td>9000</td>\n",
       "      <td>5.79</td>\n",
       "      <td>10</td>\n",
       "      <td>0</td>\n",
       "    </tr>\n",
       "    <tr>\n",
       "      <th>2</th>\n",
       "      <td>train_2</td>\n",
       "      <td>22</td>\n",
       "      <td>24702</td>\n",
       "      <td>임대</td>\n",
       "      <td>NaN</td>\n",
       "      <td>교육</td>\n",
       "      <td>2000</td>\n",
       "      <td>13.23</td>\n",
       "      <td>4</td>\n",
       "      <td>2</td>\n",
       "    </tr>\n",
       "    <tr>\n",
       "      <th>3</th>\n",
       "      <td>train_3</td>\n",
       "      <td>24</td>\n",
       "      <td>69996</td>\n",
       "      <td>임대</td>\n",
       "      <td>3.0</td>\n",
       "      <td>부채통합</td>\n",
       "      <td>2500</td>\n",
       "      <td>12.53</td>\n",
       "      <td>3</td>\n",
       "      <td>1</td>\n",
       "    </tr>\n",
       "    <tr>\n",
       "      <th>4</th>\n",
       "      <td>train_4</td>\n",
       "      <td>26</td>\n",
       "      <td>58125</td>\n",
       "      <td>모기지론</td>\n",
       "      <td>10.0</td>\n",
       "      <td>투자</td>\n",
       "      <td>6000</td>\n",
       "      <td>10.25</td>\n",
       "      <td>2</td>\n",
       "      <td>1</td>\n",
       "    </tr>\n",
       "  </tbody>\n",
       "</table>\n",
       "</div>"
      ],
      "text/plain": [
       "        ID  나이   연간소득 주택소유상태  근로기간  대출목적  대출금액    이자율  신용거래기간  target\n",
       "0  train_0  26  33996     임대  10.0    투자  7000   8.00       2       0\n",
       "1  train_1  34  84000     임대   3.0  개인사업  9000   5.79      10       0\n",
       "2  train_2  22  24702     임대   NaN    교육  2000  13.23       4       2\n",
       "3  train_3  24  69996     임대   3.0  부채통합  2500  12.53       3       1\n",
       "4  train_4  26  58125   모기지론  10.0    투자  6000  10.25       2       1"
      ]
     },
     "execution_count": 6,
     "metadata": {},
     "output_type": "execute_result"
    }
   ],
   "source": [
    "train.head()"
   ]
  },
  {
   "cell_type": "markdown",
   "metadata": {},
   "source": [
    "```\n",
    "근로기간과 이자율만 결측치가 생길 수 있다고 가정\n",
    "```"
   ]
  },
  {
   "cell_type": "code",
   "execution_count": 7,
   "metadata": {},
   "outputs": [
    {
     "data": {
      "text/plain": [
       "ID           0\n",
       "나이           0\n",
       "연간소득         0\n",
       "주택소유상태       0\n",
       "근로기간       571\n",
       "대출목적         0\n",
       "대출금액         0\n",
       "이자율       1874\n",
       "신용거래기간       0\n",
       "target       0\n",
       "dtype: int64"
      ]
     },
     "execution_count": 7,
     "metadata": {},
     "output_type": "execute_result"
    }
   ],
   "source": [
    "train.isnull().sum()"
   ]
  },
  {
   "cell_type": "code",
   "execution_count": 10,
   "metadata": {},
   "outputs": [
    {
     "data": {
      "text/plain": [
       "(4.810612847130737, 10.998815774584136)"
      ]
     },
     "execution_count": 10,
     "metadata": {},
     "output_type": "execute_result"
    }
   ],
   "source": [
    "train[\"근로기간\"].mean(), train[\"이자율\"].mean()"
   ]
  },
  {
   "cell_type": "code",
   "execution_count": 29,
   "metadata": {},
   "outputs": [],
   "source": [
    "def preprocessing_data(df, cat_enc=None, scaler=None):\n",
    "    cols = [\n",
    "        \"나이\",\n",
    "        \"연간소득\",\n",
    "        \"주택소유상태\",\n",
    "        \"근로기간\",\n",
    "        \"대출목적\",\n",
    "        \"대출금액\",\n",
    "        \"이자율\",\n",
    "        \"신용거래기간\",\n",
    "    ]\n",
    "    df = df[cols].copy()\n",
    "\n",
    "    df[\"근로기간\"] = df[\"근로기간\"].fillna(4.810612847130737)\n",
    "    df[\"이자율\"] = df[\"이자율\"].fillna(10.998815774584136)\n",
    "\n",
    "    from sklearn.preprocessing import OneHotEncoder, MinMaxScaler\n",
    "\n",
    "    cols = df.select_dtypes(\"object\").columns\n",
    "    if cat_enc is None:\n",
    "        cat_enc = OneHotEncoder(handle_unknown=\"ignore\")\n",
    "        cat_enc.fit(df[cols])\n",
    "\n",
    "    tmp = cat_enc.transform(df[cols]).toarray()\n",
    "    df[cat_enc.get_feature_names_out()] = tmp\n",
    "    df = df.drop(columns=cols)\n",
    "\n",
    "    if scaler is None:\n",
    "        scaler = MinMaxScaler()\n",
    "        scaler.fit(df)\n",
    "\n",
    "    return scaler.transform(df), cat_enc, scaler"
   ]
  },
  {
   "cell_type": "code",
   "execution_count": 31,
   "metadata": {},
   "outputs": [],
   "source": [
    "train_ft, cat_enc, scaler = preprocessing_data(train)"
   ]
  },
  {
   "cell_type": "code",
   "execution_count": 32,
   "metadata": {},
   "outputs": [],
   "source": [
    "test = pd.read_csv(f\"{DATA_PATH}loan_grade_test.csv\")"
   ]
  },
  {
   "cell_type": "code",
   "execution_count": 33,
   "metadata": {},
   "outputs": [],
   "source": [
    "test_ft, _, _ = preprocessing_data(test, cat_enc, scaler)"
   ]
  },
  {
   "cell_type": "code",
   "execution_count": 35,
   "metadata": {},
   "outputs": [
    {
     "data": {
      "text/html": [
       "<div>\n",
       "<style scoped>\n",
       "    .dataframe tbody tr th:only-of-type {\n",
       "        vertical-align: middle;\n",
       "    }\n",
       "\n",
       "    .dataframe tbody tr th {\n",
       "        vertical-align: top;\n",
       "    }\n",
       "\n",
       "    .dataframe thead th {\n",
       "        text-align: right;\n",
       "    }\n",
       "</style>\n",
       "<table border=\"1\" class=\"dataframe\">\n",
       "  <thead>\n",
       "    <tr style=\"text-align: right;\">\n",
       "      <th></th>\n",
       "      <th>ID</th>\n",
       "      <th>나이</th>\n",
       "      <th>연간소득</th>\n",
       "      <th>주택소유상태</th>\n",
       "      <th>근로기간</th>\n",
       "      <th>대출목적</th>\n",
       "      <th>대출금액</th>\n",
       "      <th>이자율</th>\n",
       "      <th>신용거래기간</th>\n",
       "    </tr>\n",
       "  </thead>\n",
       "  <tbody>\n",
       "    <tr>\n",
       "      <th>0</th>\n",
       "      <td>test_0</td>\n",
       "      <td>25</td>\n",
       "      <td>36000</td>\n",
       "      <td>임대</td>\n",
       "      <td>2.0</td>\n",
       "      <td>개인사업</td>\n",
       "      <td>10000</td>\n",
       "      <td>NaN</td>\n",
       "      <td>2</td>\n",
       "    </tr>\n",
       "  </tbody>\n",
       "</table>\n",
       "</div>"
      ],
      "text/plain": [
       "       ID  나이   연간소득 주택소유상태  근로기간  대출목적   대출금액  이자율  신용거래기간\n",
       "0  test_0  25  36000     임대   2.0  개인사업  10000  NaN       2"
      ]
     },
     "execution_count": 35,
     "metadata": {},
     "output_type": "execute_result"
    }
   ],
   "source": [
    "test.iloc[:1]"
   ]
  },
  {
   "cell_type": "code",
   "execution_count": 36,
   "metadata": {},
   "outputs": [
    {
     "data": {
      "text/plain": [
       "array([[0.04032258, 0.01571876, 0.01626016, 0.27536232, 0.33426098,\n",
       "        0.        , 0.        , 0.        , 0.        , 1.        ,\n",
       "        1.        , 0.        , 0.        , 0.        , 0.        ,\n",
       "        0.        ]])"
      ]
     },
     "execution_count": 36,
     "metadata": {},
     "output_type": "execute_result"
    }
   ],
   "source": [
    "test_data, _, _ = preprocessing_data(test.iloc[:1], cat_enc, scaler)\n",
    "test_data"
   ]
  }
 ],
 "metadata": {
  "kernelspec": {
   "display_name": "Python 3",
   "language": "python",
   "name": "python3"
  },
  "language_info": {
   "codemirror_mode": {
    "name": "ipython",
    "version": 3
   },
   "file_extension": ".py",
   "mimetype": "text/x-python",
   "name": "python",
   "nbconvert_exporter": "python",
   "pygments_lexer": "ipython3",
   "version": "3.10.8"
  }
 },
 "nbformat": 4,
 "nbformat_minor": 2
}
