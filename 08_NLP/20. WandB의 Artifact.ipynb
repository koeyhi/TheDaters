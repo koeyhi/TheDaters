{
 "cells": [
  {
   "cell_type": "markdown",
   "metadata": {
    "id": "saimgE0JXLYr"
   },
   "source": [
    "# W&B의 Artifact\n",
    "- 데이터, 모델, 또는 기타 파일을 체계적으로 저장하고 버전 관리할 수 있는 시스템\n",
    "- Artifact는 W&B에서 데이터, 모델, 파일을 저장하고 체계적으로 추적하며, 재현성과 협업을 가능하게 하는 버전 관리 시스템\n"
   ]
  },
  {
   "cell_type": "markdown",
   "metadata": {
    "id": "P5wbZUCX9op5"
   },
   "source": [
    "## 주요 특징\n",
    "- 버전 관리\n",
    "> 각 Artifact는 버전이 생성되므로 실험 간 비교와 재현성 확보할 수 있음\n",
    "- 유형 지정\n",
    "> 데이터(dataset), 모델(model), 분석 결과 등으로 유형을 지정할 수 있음\n",
    "- 협업 및 공유\n",
    "> 팀원들과 파일을 공유하거나 재사용할 수 있어 협업에 적합함\n"
   ]
  },
  {
   "cell_type": "markdown",
   "metadata": {
    "id": "qIyQkZyc-XAC"
   },
   "source": [
    "## 활용 예시\n",
    "- 데이터셋 저장\n",
    "> 데이터를 버전 관리하고 실험 간 동일한 데이터를 사용할 수 있게 함\n",
    "- 모델 저장\n",
    "> 모델의 체크포인트를 저장해 실험 결과를 재현 가능하게 함\n",
    "- 학습 관리\n",
    "> 모델 훈련에 필요한 종속 데이터셋이나 결과물을 체계적으로 관리"
   ]
  },
  {
   "cell_type": "code",
   "execution_count": 1,
   "metadata": {
    "colab": {
     "base_uri": "https://localhost:8080/"
    },
    "executionInfo": {
     "elapsed": 2263,
     "status": "ok",
     "timestamp": 1734499599445,
     "user": {
      "displayName": "koeyhi",
      "userId": "08049178071858703986"
     },
     "user_tz": -540
    },
    "id": "_rmiwZoThbB_",
    "outputId": "75322645-6e29-4ed6-80c5-ddd21b909677"
   },
   "outputs": [],
   "source": [
    "import pandas as pd\n",
    "import numpy as np\n",
    "import random\n",
    "import os\n",
    "import torch\n",
    "from sklearn.preprocessing import OneHotEncoder, MinMaxScaler\n",
    "\n",
    "DATA_PATH = \"../data/\"\n",
    "\n",
    "SEED = 42 # 시드값\n",
    "\n",
    "# 데이터 블러오기\n",
    "train = pd.read_csv(f\"{DATA_PATH}titanic_train.csv\") # 학습데이터\n",
    "test = pd.read_csv(f\"{DATA_PATH}titanic_test.csv\") # 테스트 데이터\n",
    "\n",
    "# 결측치 처리\n",
    "age_mean = train[\"age\"].mean()\n",
    "fare_median = train[\"fare\"].median()\n",
    "cabin_unk = \"UNK\"\n",
    "embarked_mode = train[\"embarked\"].mode()[0]\n",
    "train[\"age\"] = train[\"age\"].fillna(age_mean)\n",
    "train[\"cabin\"] = train[\"cabin\"].fillna(cabin_unk)\n",
    "test[\"age\"] = test[\"age\"].fillna(age_mean)\n",
    "test[\"fare\"] = test[\"fare\"].fillna(fare_median)\n",
    "test[\"cabin\"] = test[\"cabin\"].fillna(cabin_unk)\n",
    "test[\"embarked\"] = test[\"embarked\"].fillna(embarked_mode)\n",
    "\n",
    "# 특성으로 사용할 변수 선택\n",
    "cols = [\"age\",\"sibsp\",\"parch\",\"fare\",\"pclass\",\"gender\",\"embarked\"]\n",
    "train_ft = train[cols].copy()\n",
    "test_ft = test[cols].copy()\n",
    "\n",
    "# 범주형 변수 원핫인코딩\n",
    "cols = ['gender','embarked']\n",
    "enc = OneHotEncoder(handle_unknown = 'ignore')\n",
    "enc.fit(train[cols])\n",
    "tmp = pd.DataFrame(\n",
    "    enc.transform(train_ft[cols]).toarray(),\n",
    "    columns = enc.get_feature_names_out()\n",
    ")\n",
    "train_ft = pd.concat([train_ft,tmp],axis=1).drop(columns=cols)\n",
    "tmp = pd.DataFrame(\n",
    "    enc.transform(test_ft[cols]).toarray(),\n",
    "    columns = enc.get_feature_names_out()\n",
    ")\n",
    "test_ft = pd.concat([test_ft,tmp],axis=1).drop(columns=cols)\n",
    "\n",
    "\n",
    "# Min-Max Scaling\n",
    "scaler = MinMaxScaler()\n",
    "scaler.fit(train_ft)\n",
    "train_ft = scaler.transform(train_ft)\n",
    "test_ft = scaler.transform(test_ft)\n",
    "\n",
    "# 정답 데이터\n",
    "target = train[\"survived\"].to_numpy().reshape(-1,1) # 정답 데이터 2차원으로 변경\n",
    "\n",
    "class TitanicDataset(torch.utils.data.Dataset):\n",
    "    def __init__(self, x, y=None):\n",
    "        self.x = x\n",
    "        self.y = y\n",
    "\n",
    "    def __len__(self):\n",
    "        return len(self.x)\n",
    "\n",
    "    def __getitem__(self, idx):\n",
    "        item = {}\n",
    "        item[\"x\"] = torch.Tensor(self.x[idx])\n",
    "        if self.y is not None:\n",
    "            item[\"y\"] = torch.Tensor(self.y[idx])\n",
    "        return item"
   ]
  },
  {
   "cell_type": "code",
   "execution_count": 2,
   "metadata": {
    "executionInfo": {
     "elapsed": 6,
     "status": "ok",
     "timestamp": 1734499599445,
     "user": {
      "displayName": "koeyhi",
      "userId": "08049178071858703986"
     },
     "user_tz": -540
    },
    "id": "OJM6E95-iD7-"
   },
   "outputs": [],
   "source": [
    "def reset_seeds(seed):\n",
    "    random.seed(seed)\n",
    "    os.environ['PYTHONHASHSEED'] = str(seed)\n",
    "    np.random.seed(seed)\n",
    "    torch.manual_seed(seed)\n",
    "    torch.cuda.manual_seed(seed)\n",
    "    torch.backends.cudnn.deterministic = True\n",
    "\n",
    "class Net(torch.nn.Module):\n",
    "    def __init__(self, n_features):\n",
    "        super().__init__()\n",
    "        self.seq = torch.nn.Sequential(\n",
    "            torch.nn.Linear(n_features, 12),\n",
    "            torch.nn.BatchNorm1d(12),\n",
    "            torch.nn.LeakyReLU(),\n",
    "            torch.nn.Linear(12, 8),\n",
    "            torch.nn.BatchNorm1d(8),\n",
    "            torch.nn.LeakyReLU(),\n",
    "            torch.nn.Linear(8, 4),\n",
    "            torch.nn.BatchNorm1d(4),\n",
    "            torch.nn.LeakyReLU(),\n",
    "            torch.nn.Linear(4, 1)\n",
    "        )\n",
    "    def forward(self, x):\n",
    "        return self.seq(x)\n",
    "\n",
    "def train_loop(dl, model, loss_fn, optimizer, device):\n",
    "    epoch_loss = 0\n",
    "    model.train()\n",
    "    for batch in dl:\n",
    "        pred = model(batch[\"x\"].to(device))\n",
    "        loss = loss_fn(pred, batch[\"y\"].to(device))\n",
    "\n",
    "        optimizer.zero_grad()\n",
    "        loss.backward()\n",
    "        optimizer.step()\n",
    "\n",
    "        epoch_loss += loss.item()\n",
    "\n",
    "    epoch_loss /= len(dl)\n",
    "    return epoch_loss\n",
    "\n",
    "@torch.no_grad()\n",
    "def test_loop(dl, model, loss_fn, device):\n",
    "    epoch_loss = 0\n",
    "    model.eval()\n",
    "\n",
    "    act = torch.nn.Sigmoid()\n",
    "    pred_list = []\n",
    "    for batch in dl:\n",
    "        pred = model( batch[\"x\"].to(device) )\n",
    "        if batch.get(\"y\") is not None:\n",
    "            loss = loss_fn(pred, batch[\"y\"].to(device) )\n",
    "            epoch_loss += loss.item()\n",
    "\n",
    "        pred = act(pred)\n",
    "        pred = pred.to(\"cpu\").numpy()\n",
    "        pred_list.append(pred)\n",
    "\n",
    "    pred = np.concatenate(pred_list)\n",
    "    epoch_loss /= len(dl)\n",
    "    return epoch_loss, pred\n",
    "\n",
    "from sklearn.model_selection import KFold\n",
    "from sklearn.metrics import roc_auc_score\n",
    "\n",
    "loss_fn = torch.nn.BCEWithLogitsLoss()\n",
    "device = \"cuda\" if torch.cuda.is_available() else \"cpu\"\n",
    "batch_size = 32\n",
    "n_features = train_ft.shape[1]\n",
    "n_splits = 5\n",
    "\n",
    "cv = KFold(n_splits, shuffle=True, random_state=SEED)"
   ]
  },
  {
   "cell_type": "code",
   "execution_count": 3,
   "metadata": {
    "colab": {
     "base_uri": "https://localhost:8080/"
    },
    "executionInfo": {
     "elapsed": 6,
     "status": "ok",
     "timestamp": 1734499599445,
     "user": {
      "displayName": "koeyhi",
      "userId": "08049178071858703986"
     },
     "user_tz": -540
    },
    "id": "6iRC1ARDw0CI",
    "outputId": "ba31bd55-8d1c-4e7b-cdc0-5cd3d0dd3ce2"
   },
   "outputs": [
    {
     "name": "stderr",
     "output_type": "stream",
     "text": [
      "wandb: Using wandb-core as the SDK backend.  Please refer to https://wandb.me/wandb-core for more information.\n",
      "wandb: Currently logged in as: koeyhi (koeyhi-student). Use `wandb login --relogin` to force relogin\n"
     ]
    },
    {
     "data": {
      "text/plain": [
       "True"
      ]
     },
     "execution_count": 3,
     "metadata": {},
     "output_type": "execute_result"
    }
   ],
   "source": [
    "import wandb\n",
    "\n",
    "wandb.login()"
   ]
  },
  {
   "cell_type": "code",
   "execution_count": 38,
   "metadata": {
    "colab": {
     "base_uri": "https://localhost:8080/",
     "height": 799
    },
    "executionInfo": {
     "elapsed": 4803,
     "status": "ok",
     "timestamp": 1734499604243,
     "user": {
      "displayName": "koeyhi",
      "userId": "08049178071858703986"
     },
     "user_tz": -540
    },
    "id": "u_45fn-kxLxc",
    "outputId": "30e5b856-9422-4737-f282-f887c07cd284"
   },
   "outputs": [
    {
     "data": {
      "text/html": [
       "Finishing last run (ID:wroj3v9l) before initializing another..."
      ],
      "text/plain": [
       "<IPython.core.display.HTML object>"
      ]
     },
     "metadata": {},
     "output_type": "display_data"
    },
    {
     "data": {
      "text/html": [
       "\n",
       "    <style>\n",
       "        .wandb-row {\n",
       "            display: flex;\n",
       "            flex-direction: row;\n",
       "            flex-wrap: wrap;\n",
       "            justify-content: flex-start;\n",
       "            width: 100%;\n",
       "        }\n",
       "        .wandb-col {\n",
       "            display: flex;\n",
       "            flex-direction: column;\n",
       "            flex-basis: 100%;\n",
       "            flex: 1;\n",
       "            padding: 10px;\n",
       "        }\n",
       "    </style>\n",
       "<div class=\"wandb-row\"><div class=\"wandb-col\"><h3>Run history:</h3><br/><table class=\"wandb\"><tr><td>0-fold-auc</td><td>▁██▇▇██▁██▇▇██</td></tr><tr><td>0-fold-train_loss</td><td>█▆▄▃▂▁▁█▆▄▃▂▁▁</td></tr><tr><td>0-fold-valid_loss</td><td>█▅▃▂▂▁▁█▅▃▂▂▁▁</td></tr><tr><td>1-fold-auc</td><td>▁▆▇██████████</td></tr><tr><td>1-fold-train_loss</td><td>█▆▅▅▄▃▃▂▂▁▁▁▁</td></tr><tr><td>1-fold-valid_loss</td><td>█▅▅▄▃▃▂▂▂▂▁▁▁</td></tr><tr><td>2-fold-auc</td><td>▁▅▇████████████████</td></tr><tr><td>2-fold-train_loss</td><td>█▆▆▅▄▄▃▃▃▂▂▂▂▂▁▁▁▁▁</td></tr><tr><td>2-fold-valid_loss</td><td>█▇▅▄▄▃▃▃▂▂▂▂▂▂▁▁▁▁▁</td></tr><tr><td>3-fold-auc</td><td>▁▄▆▆▇▇▇▇▇▇▇▇█████████████████</td></tr><tr><td>3-fold-train_loss</td><td>█▇▆▅▅▄▄▃▃▃▃▂▂▂▂▂▁▁▁▁▁▁▁▁▁▁▁▁▁</td></tr><tr><td>3-fold-valid_loss</td><td>█▇▆▄▄▄▃▃▃▂▂▂▂▁▁▁▁▁▁▁▁▁▁▁▁▁▁▁▁</td></tr><tr><td>4-fold-auc</td><td>▁▂▂▃▄▄▄▄▄▄▅▅▅▅▅▅▅▆▆▆▆▆▆▇▇▇▇▇▆▇▇██▇▆▇▇</td></tr><tr><td>4-fold-train_loss</td><td>█▇▆▆▆▆▅▅▅▄▄▄▄▃▃▃▃▂▂▂▂▂▂▂▂▂▁▁▂▁▁▁▁▁▁▁▁</td></tr><tr><td>4-fold-valid_loss</td><td>█▆▆▆▆▅▅▄▄▄▄▃▃▃▃▂▂▂▂▂▂▂▂▁▁▁▁▁▁▁▁▁▁▁▁▁▁</td></tr></table><br/></div><div class=\"wandb-col\"><h3>Run summary:</h3><br/><table class=\"wandb\"><tr><td>0-fold-auc</td><td>0.87425</td></tr><tr><td>0-fold-train_loss</td><td>0.46725</td></tr><tr><td>0-fold-valid_loss</td><td>0.49049</td></tr><tr><td>1-fold-auc</td><td>0.95128</td></tr><tr><td>1-fold-train_loss</td><td>0.41106</td></tr><tr><td>1-fold-valid_loss</td><td>0.3453</td></tr><tr><td>2-fold-auc</td><td>0.89095</td></tr><tr><td>2-fold-train_loss</td><td>0.3688</td></tr><tr><td>2-fold-valid_loss</td><td>0.40596</td></tr><tr><td>3-fold-auc</td><td>0.87143</td></tr><tr><td>3-fold-train_loss</td><td>0.33918</td></tr><tr><td>3-fold-valid_loss</td><td>0.4271</td></tr><tr><td>4-fold-auc</td><td>0.92695</td></tr><tr><td>4-fold-train_loss</td><td>0.33791</td></tr><tr><td>4-fold-valid_loss</td><td>0.33627</td></tr><tr><td>cv-score</td><td>0.90297</td></tr></table><br/></div></div>"
      ],
      "text/plain": [
       "<IPython.core.display.HTML object>"
      ]
     },
     "metadata": {},
     "output_type": "display_data"
    },
    {
     "data": {
      "text/html": [
       " View run <strong style=\"color:#cdcd00\">true-feather-5</strong> at: <a href='https://wandb.ai/koeyhi-student/my-project/runs/wroj3v9l' target=\"_blank\">https://wandb.ai/koeyhi-student/my-project/runs/wroj3v9l</a><br/> View project at: <a href='https://wandb.ai/koeyhi-student/my-project' target=\"_blank\">https://wandb.ai/koeyhi-student/my-project</a><br/>Synced 5 W&B file(s), 0 media file(s), 7 artifact file(s) and 0 other file(s)"
      ],
      "text/plain": [
       "<IPython.core.display.HTML object>"
      ]
     },
     "metadata": {},
     "output_type": "display_data"
    },
    {
     "data": {
      "text/html": [
       "Find logs at: <code>./wandb/run-20241218_050137-wroj3v9l/logs</code>"
      ],
      "text/plain": [
       "<IPython.core.display.HTML object>"
      ]
     },
     "metadata": {},
     "output_type": "display_data"
    },
    {
     "data": {
      "text/html": [
       "Successfully finished last run (ID:wroj3v9l). Initializing new run:<br/>"
      ],
      "text/plain": [
       "<IPython.core.display.HTML object>"
      ]
     },
     "metadata": {},
     "output_type": "display_data"
    },
    {
     "data": {
      "text/html": [
       "Tracking run with wandb version 0.18.7"
      ],
      "text/plain": [
       "<IPython.core.display.HTML object>"
      ]
     },
     "metadata": {},
     "output_type": "display_data"
    },
    {
     "data": {
      "text/html": [
       "Run data is saved locally in <code>/content/wandb/run-20241218_052627-ys8a8xk9</code>"
      ],
      "text/plain": [
       "<IPython.core.display.HTML object>"
      ]
     },
     "metadata": {},
     "output_type": "display_data"
    },
    {
     "data": {
      "text/html": [
       "Syncing run <strong><a href='https://wandb.ai/koeyhi-student/my-project/runs/ys8a8xk9' target=\"_blank\">deft-durian-6</a></strong> to <a href='https://wandb.ai/koeyhi-student/my-project' target=\"_blank\">Weights & Biases</a> (<a href='https://wandb.me/developer-guide' target=\"_blank\">docs</a>)<br/>"
      ],
      "text/plain": [
       "<IPython.core.display.HTML object>"
      ]
     },
     "metadata": {},
     "output_type": "display_data"
    },
    {
     "data": {
      "text/html": [
       " View project at <a href='https://wandb.ai/koeyhi-student/my-project' target=\"_blank\">https://wandb.ai/koeyhi-student/my-project</a>"
      ],
      "text/plain": [
       "<IPython.core.display.HTML object>"
      ]
     },
     "metadata": {},
     "output_type": "display_data"
    },
    {
     "data": {
      "text/html": [
       " View run at <a href='https://wandb.ai/koeyhi-student/my-project/runs/ys8a8xk9' target=\"_blank\">https://wandb.ai/koeyhi-student/my-project/runs/ys8a8xk9</a>"
      ],
      "text/plain": [
       "<IPython.core.display.HTML object>"
      ]
     },
     "metadata": {},
     "output_type": "display_data"
    }
   ],
   "source": [
    "init_config = {\n",
    "    \"optimizer\": \"adam\",\n",
    "    \"batch_size\": batch_size,\n",
    "    \"lr\": 0.001,\n",
    "    \"validation\": f\"{n_splits}-fold\",\n",
    "    \"n_features\": n_features,\n",
    "}\n",
    "\n",
    "run = wandb.init(\n",
    "    project=\"my-project\",\n",
    "    config=init_config\n",
    ")"
   ]
  },
  {
   "cell_type": "markdown",
   "metadata": {
    "id": "y6LEIpZ9y1gM"
   },
   "source": [
    "# wandb.Artifact\n",
    "- WandB에서 버전 관리 대상이 되는 파일들을 담을 수 있는 artifact 객체 반환\n",
    "- artifact 객체의 메서드를 이용해서 버전 관리 대상이 되는 파일들을 담고, run 객체의 log_artifact 메서드에 전달\n",
    "- 주요파라미터\n",
    "    - name: 아티펙트 이름\n",
    "    - type: 아티펙트 유형\n",
    "    - description: 아티펙트 설명"
   ]
  },
  {
   "cell_type": "code",
   "execution_count": 39,
   "metadata": {
    "executionInfo": {
     "elapsed": 6,
     "status": "ok",
     "timestamp": 1734499604244,
     "user": {
      "displayName": "koeyhi",
      "userId": "08049178071858703986"
     },
     "user_tz": -540
    },
    "id": "QdwZSpLPymXp"
   },
   "outputs": [],
   "source": [
    "artifact = wandb.Artifact(name=\"titanic-dataset\", type=\"dataset\")"
   ]
  },
  {
   "cell_type": "markdown",
   "metadata": {
    "id": "78nKf4dy062T"
   },
   "source": [
    "## artifact 객체의 `add_dir`, `add_file` 메서드\n",
    "- 폴더 또는 파일을 아티펙트에 추가\n",
    "- 주요 파라미터\n",
    "    - local_path: 저장할 폴더 및 파일의 경로 지정\n",
    "    - name: 아티펙트 내에서 사용될 폴더 및 파일 경로"
   ]
  },
  {
   "cell_type": "code",
   "execution_count": 40,
   "metadata": {
    "executionInfo": {
     "elapsed": 5,
     "status": "ok",
     "timestamp": 1734499604244,
     "user": {
      "displayName": "koeyhi",
      "userId": "08049178071858703986"
     },
     "user_tz": -540
    },
    "id": "tfiVndGj2QZE"
   },
   "outputs": [],
   "source": [
    "np.save(\"train_ft.npy\", train_ft)\n",
    "np.save(\"target.npy\", target)\n",
    "np.save(\"test_ft.npy\", test_ft)"
   ]
  },
  {
   "cell_type": "code",
   "execution_count": 41,
   "metadata": {
    "colab": {
     "base_uri": "https://localhost:8080/"
    },
    "executionInfo": {
     "elapsed": 5,
     "status": "ok",
     "timestamp": 1734499604244,
     "user": {
      "displayName": "koeyhi",
      "userId": "08049178071858703986"
     },
     "user_tz": -540
    },
    "id": "4kv4-Glv2VzO",
    "outputId": "f13748fb-3717-4884-9e17-128277737387"
   },
   "outputs": [
    {
     "data": {
      "text/plain": [
       "ArtifactManifestEntry(path='test/test_ft.npy', digest='GGdqpwHXS0klVG7hiEwMAA==', size=31568, local_path='/root/.local/share/wandb/artifacts/staging/tmpq491_zq8', skip_cache=False)"
      ]
     },
     "execution_count": 41,
     "metadata": {},
     "output_type": "execute_result"
    }
   ],
   "source": [
    "artifact.add_file(\"train_ft.npy\", name=\"train/train_ft.npy\")\n",
    "artifact.add_file(\"target.npy\", name=\"train/target.npy\")\n",
    "artifact.add_file(\"test_ft.npy\", name=\"test/test_ft.npy\")"
   ]
  },
  {
   "cell_type": "code",
   "execution_count": 42,
   "metadata": {
    "colab": {
     "base_uri": "https://localhost:8080/"
    },
    "executionInfo": {
     "elapsed": 5,
     "status": "ok",
     "timestamp": 1734499604244,
     "user": {
      "displayName": "koeyhi",
      "userId": "08049178071858703986"
     },
     "user_tz": -540
    },
    "id": "erVQODeK29Rh",
    "outputId": "a2ca5de1-86e2-477f-bc6f-db84c9a84f54"
   },
   "outputs": [
    {
     "data": {
      "text/plain": [
       "<Artifact titanic-dataset>"
      ]
     },
     "execution_count": 42,
     "metadata": {},
     "output_type": "execute_result"
    }
   ],
   "source": [
    "run.log_artifact(artifact)"
   ]
  },
  {
   "cell_type": "code",
   "execution_count": 43,
   "metadata": {
    "executionInfo": {
     "elapsed": 13778,
     "status": "ok",
     "timestamp": 1734499618018,
     "user": {
      "displayName": "koeyhi",
      "userId": "08049178071858703986"
     },
     "user_tz": -540
    },
    "id": "skiRvWna3yQH"
   },
   "outputs": [],
   "source": [
    "reset_seeds(SEED)\n",
    "score_list = []\n",
    "artifact = wandb.Artifact(name=\"titanic-model\", type=\"model\")\n",
    "\n",
    "for i, (tri, vai) in enumerate(cv.split(train_ft)):\n",
    "    train_dt = TitanicDataset(train_ft[tri], target[tri])\n",
    "    train_dl = torch.utils.data.DataLoader(train_dt, batch_size=batch_size, shuffle=True)\n",
    "\n",
    "    valid_dt = TitanicDataset(train_ft[vai], target[vai])\n",
    "    valid_dl = torch.utils.data.DataLoader(valid_dt, batch_size=batch_size, shuffle=False)\n",
    "\n",
    "    model = Net(n_features).to(device)\n",
    "    optimizer = torch.optim.Adam(model.parameters())\n",
    "\n",
    "    patience = 0\n",
    "    best_score = 0\n",
    "\n",
    "\n",
    "    for _ in range(100):\n",
    "        train_loss = train_loop(train_dl, model, loss_fn, optimizer, device)\n",
    "        valid_loss, pred = test_loop(valid_dl, model, loss_fn, device)\n",
    "        score = roc_auc_score(target[vai], pred)\n",
    "        run.log({\n",
    "            f\"{i}-fold-auc\": score,\n",
    "            f\"{i}-fold-train_loss\": train_loss,\n",
    "            f\"{i}-fold-valid_loss\": valid_loss,\n",
    "        })\n",
    "\n",
    "        patience += 1\n",
    "        if score > best_score:\n",
    "            best_score = score\n",
    "            patience = 0\n",
    "            torch.save(model.state_dict(), f\"model_{i}.pth\")\n",
    "\n",
    "        if patience == 5:\n",
    "            break\n",
    "\n",
    "    run.summary[f\"{i}-fold-auc\"] = best_score\n",
    "\n",
    "    score_list.append(best_score)\n",
    "\n",
    "    artifact.add_file(f\"model_{i}.pth\", f\"model_{i}.pth\")"
   ]
  },
  {
   "cell_type": "code",
   "execution_count": 44,
   "metadata": {
    "executionInfo": {
     "elapsed": 10,
     "status": "ok",
     "timestamp": 1734499618018,
     "user": {
      "displayName": "koeyhi",
      "userId": "08049178071858703986"
     },
     "user_tz": -540
    },
    "id": "EsxtMoc-OHLN"
   },
   "outputs": [],
   "source": [
    "run.summary[\"cv-score\"] = np.mean(score_list)"
   ]
  },
  {
   "cell_type": "code",
   "execution_count": 45,
   "metadata": {
    "colab": {
     "base_uri": "https://localhost:8080/"
    },
    "executionInfo": {
     "elapsed": 10,
     "status": "ok",
     "timestamp": 1734499618018,
     "user": {
      "displayName": "koeyhi",
      "userId": "08049178071858703986"
     },
     "user_tz": -540
    },
    "id": "H5Z5_ReJOuLw",
    "outputId": "29ac86a9-4291-4a7e-c80d-fbef4ba2c4f0"
   },
   "outputs": [
    {
     "data": {
      "text/plain": [
       "<Artifact titanic-model>"
      ]
     },
     "execution_count": 45,
     "metadata": {},
     "output_type": "execute_result"
    }
   ],
   "source": [
    "run.log_artifact(artifact)"
   ]
  },
  {
   "cell_type": "code",
   "execution_count": 46,
   "metadata": {
    "colab": {
     "base_uri": "https://localhost:8080/",
     "height": 678
    },
    "executionInfo": {
     "elapsed": 1685,
     "status": "ok",
     "timestamp": 1734499666679,
     "user": {
      "displayName": "koeyhi",
      "userId": "08049178071858703986"
     },
     "user_tz": -540
    },
    "id": "5jCG08i0PHkG",
    "outputId": "b46ff97d-3336-4ea2-a46e-db371d8c3ebd"
   },
   "outputs": [
    {
     "data": {
      "text/html": [
       "\n",
       "    <style>\n",
       "        .wandb-row {\n",
       "            display: flex;\n",
       "            flex-direction: row;\n",
       "            flex-wrap: wrap;\n",
       "            justify-content: flex-start;\n",
       "            width: 100%;\n",
       "        }\n",
       "        .wandb-col {\n",
       "            display: flex;\n",
       "            flex-direction: column;\n",
       "            flex-basis: 100%;\n",
       "            flex: 1;\n",
       "            padding: 10px;\n",
       "        }\n",
       "    </style>\n",
       "<div class=\"wandb-row\"><div class=\"wandb-col\"><h3>Run history:</h3><br/><table class=\"wandb\"><tr><td>0-fold-auc</td><td>▁██▇▇██</td></tr><tr><td>0-fold-train_loss</td><td>█▆▄▃▂▁▁</td></tr><tr><td>0-fold-valid_loss</td><td>█▅▃▂▂▁▁</td></tr><tr><td>1-fold-auc</td><td>▁▆▇██████████</td></tr><tr><td>1-fold-train_loss</td><td>█▆▅▅▄▃▃▂▂▁▁▁▁</td></tr><tr><td>1-fold-valid_loss</td><td>█▅▅▄▃▃▂▂▂▂▁▁▁</td></tr><tr><td>2-fold-auc</td><td>▁▅▇████████████████</td></tr><tr><td>2-fold-train_loss</td><td>█▆▆▅▄▄▃▃▃▂▂▂▂▂▁▁▁▁▁</td></tr><tr><td>2-fold-valid_loss</td><td>█▇▅▄▄▃▃▃▂▂▂▂▂▂▁▁▁▁▁</td></tr><tr><td>3-fold-auc</td><td>▁▄▆▆▇▇▇▇▇▇▇▇█████████████████</td></tr><tr><td>3-fold-train_loss</td><td>█▇▆▅▅▄▄▃▃▃▃▂▂▂▂▂▁▁▁▁▁▁▁▁▁▁▁▁▁</td></tr><tr><td>3-fold-valid_loss</td><td>█▇▆▄▄▄▃▃▃▂▂▂▂▁▁▁▁▁▁▁▁▁▁▁▁▁▁▁▁</td></tr><tr><td>4-fold-auc</td><td>▁▂▂▃▄▄▄▄▄▄▅▅▅▅▅▅▅▆▆▆▆▆▆▇▇▇▇▇▆▇▇██▇▆▇▇</td></tr><tr><td>4-fold-train_loss</td><td>█▇▆▆▆▆▅▅▅▄▄▄▄▃▃▃▃▂▂▂▂▂▂▂▂▂▁▁▂▁▁▁▁▁▁▁▁</td></tr><tr><td>4-fold-valid_loss</td><td>█▆▆▆▆▅▅▄▄▄▄▃▃▃▃▂▂▂▂▂▂▂▂▁▁▁▁▁▁▁▁▁▁▁▁▁▁</td></tr></table><br/></div><div class=\"wandb-col\"><h3>Run summary:</h3><br/><table class=\"wandb\"><tr><td>0-fold-auc</td><td>0.87425</td></tr><tr><td>0-fold-train_loss</td><td>0.46725</td></tr><tr><td>0-fold-valid_loss</td><td>0.49049</td></tr><tr><td>1-fold-auc</td><td>0.95128</td></tr><tr><td>1-fold-train_loss</td><td>0.41106</td></tr><tr><td>1-fold-valid_loss</td><td>0.3453</td></tr><tr><td>2-fold-auc</td><td>0.89095</td></tr><tr><td>2-fold-train_loss</td><td>0.3688</td></tr><tr><td>2-fold-valid_loss</td><td>0.40596</td></tr><tr><td>3-fold-auc</td><td>0.87143</td></tr><tr><td>3-fold-train_loss</td><td>0.33918</td></tr><tr><td>3-fold-valid_loss</td><td>0.4271</td></tr><tr><td>4-fold-auc</td><td>0.92695</td></tr><tr><td>4-fold-train_loss</td><td>0.33791</td></tr><tr><td>4-fold-valid_loss</td><td>0.33627</td></tr><tr><td>cv-score</td><td>0.90297</td></tr></table><br/></div></div>"
      ],
      "text/plain": [
       "<IPython.core.display.HTML object>"
      ]
     },
     "metadata": {},
     "output_type": "display_data"
    },
    {
     "data": {
      "text/html": [
       " View run <strong style=\"color:#cdcd00\">deft-durian-6</strong> at: <a href='https://wandb.ai/koeyhi-student/my-project/runs/ys8a8xk9' target=\"_blank\">https://wandb.ai/koeyhi-student/my-project/runs/ys8a8xk9</a><br/> View project at: <a href='https://wandb.ai/koeyhi-student/my-project' target=\"_blank\">https://wandb.ai/koeyhi-student/my-project</a><br/>Synced 5 W&B file(s), 0 media file(s), 0 artifact file(s) and 0 other file(s)"
      ],
      "text/plain": [
       "<IPython.core.display.HTML object>"
      ]
     },
     "metadata": {},
     "output_type": "display_data"
    },
    {
     "data": {
      "text/html": [
       "Find logs at: <code>./wandb/run-20241218_052627-ys8a8xk9/logs</code>"
      ],
      "text/plain": [
       "<IPython.core.display.HTML object>"
      ]
     },
     "metadata": {},
     "output_type": "display_data"
    }
   ],
   "source": [
    "run.finish()"
   ]
  },
  {
   "cell_type": "markdown",
   "metadata": {
    "id": "mOvsGWIkPWZT"
   },
   "source": [
    "# 예측하기\n",
    "1. run 객체 생성\n",
    "2. run 객체의 `use_artifact` 메서드에 artifact 경로 전달\n",
    "    - artifact 객체 반환\n",
    "    - artifact 경로\n",
    "        - `<팀명>/<프로젝트명>/<아티펙트명>:<version>`\n",
    "        - 버전 예시: v0, v1, latest\n",
    "3. artifact 객체의 download 메서드 실행"
   ]
  },
  {
   "cell_type": "code",
   "execution_count": 47,
   "metadata": {
    "colab": {
     "base_uri": "https://localhost:8080/",
     "height": 104
    },
    "executionInfo": {
     "elapsed": 2021,
     "status": "ok",
     "timestamp": 1734499934234,
     "user": {
      "displayName": "koeyhi",
      "userId": "08049178071858703986"
     },
     "user_tz": -540
    },
    "id": "Ap4_l2rgPXVz",
    "outputId": "3a96d860-a54c-4ab1-a83c-322dbe18f1f9"
   },
   "outputs": [
    {
     "data": {
      "text/html": [
       "Tracking run with wandb version 0.18.7"
      ],
      "text/plain": [
       "<IPython.core.display.HTML object>"
      ]
     },
     "metadata": {},
     "output_type": "display_data"
    },
    {
     "data": {
      "text/html": [
       "Run data is saved locally in <code>/content/wandb/run-20241218_053200-y62dpdnt</code>"
      ],
      "text/plain": [
       "<IPython.core.display.HTML object>"
      ]
     },
     "metadata": {},
     "output_type": "display_data"
    },
    {
     "data": {
      "text/html": [
       "Syncing run <strong><a href='https://wandb.ai/koeyhi-student/my-project/runs/y62dpdnt' target=\"_blank\">inference</a></strong> to <a href='https://wandb.ai/koeyhi-student/my-project' target=\"_blank\">Weights & Biases</a> (<a href='https://wandb.me/developer-guide' target=\"_blank\">docs</a>)<br/>"
      ],
      "text/plain": [
       "<IPython.core.display.HTML object>"
      ]
     },
     "metadata": {},
     "output_type": "display_data"
    },
    {
     "data": {
      "text/html": [
       " View project at <a href='https://wandb.ai/koeyhi-student/my-project' target=\"_blank\">https://wandb.ai/koeyhi-student/my-project</a>"
      ],
      "text/plain": [
       "<IPython.core.display.HTML object>"
      ]
     },
     "metadata": {},
     "output_type": "display_data"
    },
    {
     "data": {
      "text/html": [
       " View run at <a href='https://wandb.ai/koeyhi-student/my-project/runs/y62dpdnt' target=\"_blank\">https://wandb.ai/koeyhi-student/my-project/runs/y62dpdnt</a>"
      ],
      "text/plain": [
       "<IPython.core.display.HTML object>"
      ]
     },
     "metadata": {},
     "output_type": "display_data"
    }
   ],
   "source": [
    "run = wandb.init(project=\"my-project\", name=\"inference\")"
   ]
  },
  {
   "cell_type": "code",
   "execution_count": 52,
   "metadata": {
    "executionInfo": {
     "elapsed": 473,
     "status": "ok",
     "timestamp": 1734500325768,
     "user": {
      "displayName": "koeyhi",
      "userId": "08049178071858703986"
     },
     "user_tz": -540
    },
    "id": "MqTdqg-5QQOY"
   },
   "outputs": [],
   "source": [
    "artifact = run.use_artifact(\"my-project/titanic-model:latest\", type=\"model\")"
   ]
  },
  {
   "cell_type": "code",
   "execution_count": 51,
   "metadata": {
    "colab": {
     "base_uri": "https://localhost:8080/",
     "height": 52
    },
    "executionInfo": {
     "elapsed": 3,
     "status": "ok",
     "timestamp": 1734500256742,
     "user": {
      "displayName": "koeyhi",
      "userId": "08049178071858703986"
     },
     "user_tz": -540
    },
    "id": "sc8xuqSgQQLv",
    "outputId": "51ac4881-84b4-4f1e-dfd1-38d89c48335b"
   },
   "outputs": [
    {
     "name": "stderr",
     "output_type": "stream",
     "text": [
      "\u001b[34m\u001b[1mwandb\u001b[0m:   5 of 5 files downloaded.  \n"
     ]
    },
    {
     "data": {
      "application/vnd.google.colaboratory.intrinsic+json": {
       "type": "string"
      },
      "text/plain": [
       "'models'"
      ]
     },
     "execution_count": 51,
     "metadata": {},
     "output_type": "execute_result"
    }
   ],
   "source": [
    "artifact.download(\"models\")"
   ]
  },
  {
   "cell_type": "code",
   "execution_count": 53,
   "metadata": {
    "colab": {
     "base_uri": "https://localhost:8080/",
     "height": 52
    },
    "executionInfo": {
     "elapsed": 507,
     "status": "ok",
     "timestamp": 1734500410547,
     "user": {
      "displayName": "koeyhi",
      "userId": "08049178071858703986"
     },
     "user_tz": -540
    },
    "id": "xKZ_zLCnQQHV",
    "outputId": "17d0c70d-923b-46a9-e142-c40ddb3a1177"
   },
   "outputs": [
    {
     "name": "stderr",
     "output_type": "stream",
     "text": [
      "\u001b[34m\u001b[1mwandb\u001b[0m:   3 of 3 files downloaded.  \n"
     ]
    },
    {
     "data": {
      "application/vnd.google.colaboratory.intrinsic+json": {
       "type": "string"
      },
      "text/plain": [
       "'data'"
      ]
     },
     "execution_count": 53,
     "metadata": {},
     "output_type": "execute_result"
    }
   ],
   "source": [
    "artifact = run.use_artifact(\"my-project/titanic-dataset:latest\", type=\"dataset\")\n",
    "artifact.download(\"data\")"
   ]
  },
  {
   "cell_type": "code",
   "execution_count": 54,
   "metadata": {
    "executionInfo": {
     "elapsed": 346,
     "status": "ok",
     "timestamp": 1734500836064,
     "user": {
      "displayName": "koeyhi",
      "userId": "08049178071858703986"
     },
     "user_tz": -540
    },
    "id": "4nvh5EPaTUy4"
   },
   "outputs": [],
   "source": [
    "test_dt = TitanicDataset(test_ft)\n",
    "test_dl = torch.utils.data.DataLoader(test_dt, batch_size, False)"
   ]
  },
  {
   "cell_type": "code",
   "execution_count": 55,
   "metadata": {
    "executionInfo": {
     "elapsed": 399,
     "status": "ok",
     "timestamp": 1734501713601,
     "user": {
      "displayName": "koeyhi",
      "userId": "08049178071858703986"
     },
     "user_tz": -540
    },
    "id": "4GR9p_ZzTmcw"
   },
   "outputs": [],
   "source": [
    "pred_list = []\n",
    "for i in range(n_splits):\n",
    "    model = Net(n_features).to(device)\n",
    "    state_dict = torch.load(f\"models/model_{i}.pth\", weights_only=True)\n",
    "    model.load_state_dict(state_dict)\n",
    "    _, pred = test_loop(test_dl, model, loss_fn, device)\n",
    "    pred_list.append(pred)"
   ]
  },
  {
   "cell_type": "code",
   "execution_count": 61,
   "metadata": {
    "colab": {
     "base_uri": "https://localhost:8080/"
    },
    "executionInfo": {
     "elapsed": 382,
     "status": "ok",
     "timestamp": 1734501795902,
     "user": {
      "displayName": "koeyhi",
      "userId": "08049178071858703986"
     },
     "user_tz": -540
    },
    "id": "h9ipSZg_XDTy",
    "outputId": "29061036-f34a-403a-d0e9-c05b85859f01"
   },
   "outputs": [
    {
     "data": {
      "text/plain": [
       "(393, 1)"
      ]
     },
     "execution_count": 61,
     "metadata": {},
     "output_type": "execute_result"
    }
   ],
   "source": [
    "pred = (np.mean(pred_list, axis=0) > 0.5).astype(int)\n",
    "pred.shape"
   ]
  },
  {
   "cell_type": "markdown",
   "metadata": {
    "id": "RbOW4ObwStaQ"
   },
   "source": [
    "# wandb.Table\n",
    "- 테이블 형식으로 데이터 로깅\n",
    "- 주요 파라미터\n",
    "    - columns: 컬럼명 리스트 전달\n",
    "    - data: 데이터 리스트 전달\n",
    "    - dataframe: 데이터프레임 전달"
   ]
  },
  {
   "cell_type": "code",
   "execution_count": 67,
   "metadata": {
    "executionInfo": {
     "elapsed": 243,
     "status": "ok",
     "timestamp": 1734502107153,
     "user": {
      "displayName": "koeyhi",
      "userId": "08049178071858703986"
     },
     "user_tz": -540
    },
    "id": "NZ6jYDcrXbD6"
   },
   "outputs": [],
   "source": [
    "pred_arr = np.concatenate([test[\"passengerid\"].to_numpy().reshape(-1, 1), pred], axis=1)\n",
    "pred_table = wandb.Table([\"test_id\", \"prediction\"], pred_arr)"
   ]
  },
  {
   "cell_type": "code",
   "execution_count": 68,
   "metadata": {
    "executionInfo": {
     "elapsed": 219,
     "status": "ok",
     "timestamp": 1734502213119,
     "user": {
      "displayName": "koeyhi",
      "userId": "08049178071858703986"
     },
     "user_tz": -540
    },
    "id": "QDtG3vnrYq7z"
   },
   "outputs": [],
   "source": [
    "pred_df = pd.DataFrame(pred_arr, columns=[\"test_id\", \"prediction\"])\n",
    "pred_table = wandb.Table(dataframe=pred_df)"
   ]
  },
  {
   "cell_type": "code",
   "execution_count": 69,
   "metadata": {
    "executionInfo": {
     "elapsed": 472,
     "status": "ok",
     "timestamp": 1734502229589,
     "user": {
      "displayName": "koeyhi",
      "userId": "08049178071858703986"
     },
     "user_tz": -540
    },
    "id": "V6r0iQJNY22H"
   },
   "outputs": [],
   "source": [
    "run.log({\"test predictions\": pred_table})"
   ]
  },
  {
   "cell_type": "code",
   "execution_count": 70,
   "metadata": {
    "colab": {
     "base_uri": "https://localhost:8080/",
     "height": 86
    },
    "executionInfo": {
     "elapsed": 1778,
     "status": "ok",
     "timestamp": 1734502235699,
     "user": {
      "displayName": "koeyhi",
      "userId": "08049178071858703986"
     },
     "user_tz": -540
    },
    "id": "QG8iCX4vY6L7",
    "outputId": "288ae412-3d1d-4a89-ba00-bfa8ed8029bc"
   },
   "outputs": [
    {
     "data": {
      "text/html": [
       " View run <strong style=\"color:#cdcd00\">inference</strong> at: <a href='https://wandb.ai/koeyhi-student/my-project/runs/y62dpdnt' target=\"_blank\">https://wandb.ai/koeyhi-student/my-project/runs/y62dpdnt</a><br/> View project at: <a href='https://wandb.ai/koeyhi-student/my-project' target=\"_blank\">https://wandb.ai/koeyhi-student/my-project</a><br/>Synced 5 W&B file(s), 0 media file(s), 2 artifact file(s) and 1 other file(s)"
      ],
      "text/plain": [
       "<IPython.core.display.HTML object>"
      ]
     },
     "metadata": {},
     "output_type": "display_data"
    },
    {
     "data": {
      "text/html": [
       "Find logs at: <code>./wandb/run-20241218_053200-y62dpdnt/logs</code>"
      ],
      "text/plain": [
       "<IPython.core.display.HTML object>"
      ]
     },
     "metadata": {},
     "output_type": "display_data"
    }
   ],
   "source": [
    "run.finish()"
   ]
  }
 ],
 "metadata": {
  "colab": {
   "provenance": []
  },
  "kernelspec": {
   "display_name": "Python 3",
   "name": "python3"
  },
  "language_info": {
   "codemirror_mode": {
    "name": "ipython",
    "version": 3
   },
   "file_extension": ".py",
   "mimetype": "text/x-python",
   "name": "python",
   "nbconvert_exporter": "python",
   "pygments_lexer": "ipython3",
   "version": "3.10.8"
  }
 },
 "nbformat": 4,
 "nbformat_minor": 0
}
