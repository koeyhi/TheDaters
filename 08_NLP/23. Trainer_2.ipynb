{
 "cells": [
  {
   "cell_type": "code",
   "execution_count": 2,
   "metadata": {
    "executionInfo": {
     "elapsed": 5,
     "status": "ok",
     "timestamp": 1734588522730,
     "user": {
      "displayName": "koeyhi",
      "userId": "08049178071858703986"
     },
     "user_tz": -540
    },
    "id": "_p95T9EbNi8k"
   },
   "outputs": [],
   "source": [
    "import random, os\n",
    "import torch\n",
    "import pandas as pd\n",
    "import numpy as np\n",
    "def reset_seeds(seed):\n",
    "    random.seed(seed)\n",
    "    os.environ['PYTHONHASHSEED'] = str(seed)\n",
    "    np.random.seed(seed)\n",
    "    torch.manual_seed(seed)\n",
    "    torch.cuda.manual_seed(seed)\n",
    "    torch.backends.cudnn.deterministic = True"
   ]
  },
  {
   "cell_type": "code",
   "execution_count": 3,
   "metadata": {
    "executionInfo": {
     "elapsed": 5,
     "status": "ok",
     "timestamp": 1734588522730,
     "user": {
      "displayName": "koeyhi",
      "userId": "08049178071858703986"
     },
     "user_tz": -540
    },
    "id": "UXZ8B1uvOR4f"
   },
   "outputs": [],
   "source": [
    "SEED = 42\n",
    "DATA_PATH = \"../data/\""
   ]
  },
  {
   "cell_type": "code",
   "execution_count": 4,
   "metadata": {
    "colab": {
     "base_uri": "https://localhost:8080/"
    },
    "executionInfo": {
     "elapsed": 5,
     "status": "ok",
     "timestamp": 1734588522730,
     "user": {
      "displayName": "koeyhi",
      "userId": "08049178071858703986"
     },
     "user_tz": -540
    },
    "id": "Wt8N3J2aOR1Z",
    "outputId": "e96f6ff1-fe62-4ad3-bbd8-4d85fd4d7a27"
   },
   "outputs": [
    {
     "data": {
      "text/plain": [
       "((1344, 27), (896, 26))"
      ]
     },
     "execution_count": 4,
     "metadata": {},
     "output_type": "execute_result"
    }
   ],
   "source": [
    "train = pd.read_csv(f\"{DATA_PATH}campaign_train.csv\")\n",
    "test = pd.read_csv(f\"{DATA_PATH}campaign_test.csv\")\n",
    "train.shape, test.shape"
   ]
  },
  {
   "cell_type": "code",
   "execution_count": 5,
   "metadata": {
    "colab": {
     "base_uri": "https://localhost:8080/",
     "height": 391
    },
    "executionInfo": {
     "elapsed": 481,
     "status": "ok",
     "timestamp": 1734588523208,
     "user": {
      "displayName": "koeyhi",
      "userId": "08049178071858703986"
     },
     "user_tz": -540
    },
    "id": "eZrASgESODYQ",
    "outputId": "abf67cdb-d189-4e41-e522-ba61ab052366"
   },
   "outputs": [
    {
     "data": {
      "text/html": [
       "<div>\n",
       "<style scoped>\n",
       "    .dataframe tbody tr th:only-of-type {\n",
       "        vertical-align: middle;\n",
       "    }\n",
       "\n",
       "    .dataframe tbody tr th {\n",
       "        vertical-align: top;\n",
       "    }\n",
       "\n",
       "    .dataframe thead th {\n",
       "        text-align: right;\n",
       "    }\n",
       "</style>\n",
       "<table border=\"1\" class=\"dataframe\">\n",
       "  <thead>\n",
       "    <tr style=\"text-align: right;\">\n",
       "      <th></th>\n",
       "      <th>ID</th>\n",
       "      <th>출생연도</th>\n",
       "      <th>고객_교육수준</th>\n",
       "      <th>고객_결혼여부</th>\n",
       "      <th>고객_소득</th>\n",
       "      <th>고객_자녀수</th>\n",
       "      <th>고객_청소년수</th>\n",
       "      <th>고객_가입날짜</th>\n",
       "      <th>고객_최신구매일_경과기간</th>\n",
       "      <th>고객_와인_구매금액</th>\n",
       "      <th>...</th>\n",
       "      <th>고객_카탈로그_통한_구매횟수</th>\n",
       "      <th>고객_매장방문_구매횟수</th>\n",
       "      <th>고객_지난달_회사사이트_방문횟수</th>\n",
       "      <th>캠페인1_수락여부</th>\n",
       "      <th>캠페인2_수락여부</th>\n",
       "      <th>캠페인3_수락여부</th>\n",
       "      <th>캠페인4_수락여부</th>\n",
       "      <th>캠페인5_수락여부</th>\n",
       "      <th>불만제기</th>\n",
       "      <th>target</th>\n",
       "    </tr>\n",
       "  </thead>\n",
       "  <tbody>\n",
       "    <tr>\n",
       "      <th>0</th>\n",
       "      <td>train_0</td>\n",
       "      <td>1969</td>\n",
       "      <td>박사</td>\n",
       "      <td>기혼</td>\n",
       "      <td>30396.0</td>\n",
       "      <td>1</td>\n",
       "      <td>0</td>\n",
       "      <td>2014-04-30</td>\n",
       "      <td>22</td>\n",
       "      <td>15</td>\n",
       "      <td>...</td>\n",
       "      <td>1</td>\n",
       "      <td>2</td>\n",
       "      <td>7</td>\n",
       "      <td>0</td>\n",
       "      <td>0</td>\n",
       "      <td>1</td>\n",
       "      <td>0</td>\n",
       "      <td>0</td>\n",
       "      <td>0</td>\n",
       "      <td>1</td>\n",
       "    </tr>\n",
       "    <tr>\n",
       "      <th>1</th>\n",
       "      <td>train_1</td>\n",
       "      <td>1967</td>\n",
       "      <td>박사</td>\n",
       "      <td>기혼</td>\n",
       "      <td>36947.0</td>\n",
       "      <td>1</td>\n",
       "      <td>1</td>\n",
       "      <td>2012-08-07</td>\n",
       "      <td>49</td>\n",
       "      <td>88</td>\n",
       "      <td>...</td>\n",
       "      <td>0</td>\n",
       "      <td>4</td>\n",
       "      <td>9</td>\n",
       "      <td>0</td>\n",
       "      <td>0</td>\n",
       "      <td>0</td>\n",
       "      <td>0</td>\n",
       "      <td>0</td>\n",
       "      <td>0</td>\n",
       "      <td>0</td>\n",
       "    </tr>\n",
       "    <tr>\n",
       "      <th>2</th>\n",
       "      <td>train_2</td>\n",
       "      <td>1949</td>\n",
       "      <td>석사</td>\n",
       "      <td>사별</td>\n",
       "      <td>47570.0</td>\n",
       "      <td>1</td>\n",
       "      <td>1</td>\n",
       "      <td>2013-05-29</td>\n",
       "      <td>3</td>\n",
       "      <td>67</td>\n",
       "      <td>...</td>\n",
       "      <td>2</td>\n",
       "      <td>2</td>\n",
       "      <td>7</td>\n",
       "      <td>0</td>\n",
       "      <td>0</td>\n",
       "      <td>0</td>\n",
       "      <td>0</td>\n",
       "      <td>0</td>\n",
       "      <td>0</td>\n",
       "      <td>1</td>\n",
       "    </tr>\n",
       "    <tr>\n",
       "      <th>3</th>\n",
       "      <td>train_3</td>\n",
       "      <td>1976</td>\n",
       "      <td>석사</td>\n",
       "      <td>기혼</td>\n",
       "      <td>81929.0</td>\n",
       "      <td>1</td>\n",
       "      <td>0</td>\n",
       "      <td>2012-09-29</td>\n",
       "      <td>60</td>\n",
       "      <td>1486</td>\n",
       "      <td>...</td>\n",
       "      <td>4</td>\n",
       "      <td>10</td>\n",
       "      <td>6</td>\n",
       "      <td>0</td>\n",
       "      <td>0</td>\n",
       "      <td>1</td>\n",
       "      <td>0</td>\n",
       "      <td>1</td>\n",
       "      <td>0</td>\n",
       "      <td>1</td>\n",
       "    </tr>\n",
       "    <tr>\n",
       "      <th>4</th>\n",
       "      <td>train_4</td>\n",
       "      <td>1982</td>\n",
       "      <td>고졸</td>\n",
       "      <td>기혼</td>\n",
       "      <td>57937.0</td>\n",
       "      <td>0</td>\n",
       "      <td>1</td>\n",
       "      <td>2014-02-16</td>\n",
       "      <td>56</td>\n",
       "      <td>261</td>\n",
       "      <td>...</td>\n",
       "      <td>4</td>\n",
       "      <td>9</td>\n",
       "      <td>3</td>\n",
       "      <td>0</td>\n",
       "      <td>0</td>\n",
       "      <td>0</td>\n",
       "      <td>0</td>\n",
       "      <td>0</td>\n",
       "      <td>0</td>\n",
       "      <td>0</td>\n",
       "    </tr>\n",
       "  </tbody>\n",
       "</table>\n",
       "<p>5 rows × 27 columns</p>\n",
       "</div>"
      ],
      "text/plain": [
       "        ID  출생연도 고객_교육수준 고객_결혼여부    고객_소득  고객_자녀수  고객_청소년수     고객_가입날짜  \\\n",
       "0  train_0  1969      박사      기혼  30396.0       1        0  2014-04-30   \n",
       "1  train_1  1967      박사      기혼  36947.0       1        1  2012-08-07   \n",
       "2  train_2  1949      석사      사별  47570.0       1        1  2013-05-29   \n",
       "3  train_3  1976      석사      기혼  81929.0       1        0  2012-09-29   \n",
       "4  train_4  1982      고졸      기혼  57937.0       0        1  2014-02-16   \n",
       "\n",
       "   고객_최신구매일_경과기간  고객_와인_구매금액  ...  고객_카탈로그_통한_구매횟수  고객_매장방문_구매횟수  \\\n",
       "0             22          15  ...                1             2   \n",
       "1             49          88  ...                0             4   \n",
       "2              3          67  ...                2             2   \n",
       "3             60        1486  ...                4            10   \n",
       "4             56         261  ...                4             9   \n",
       "\n",
       "   고객_지난달_회사사이트_방문횟수  캠페인1_수락여부  캠페인2_수락여부  캠페인3_수락여부  캠페인4_수락여부  캠페인5_수락여부  \\\n",
       "0                  7          0          0          1          0          0   \n",
       "1                  9          0          0          0          0          0   \n",
       "2                  7          0          0          0          0          0   \n",
       "3                  6          0          0          1          0          1   \n",
       "4                  3          0          0          0          0          0   \n",
       "\n",
       "   불만제기  target  \n",
       "0     0       1  \n",
       "1     0       0  \n",
       "2     0       1  \n",
       "3     0       1  \n",
       "4     0       0  \n",
       "\n",
       "[5 rows x 27 columns]"
      ]
     },
     "execution_count": 5,
     "metadata": {},
     "output_type": "execute_result"
    }
   ],
   "source": [
    "train.head()"
   ]
  },
  {
   "cell_type": "code",
   "execution_count": 6,
   "metadata": {
    "colab": {
     "base_uri": "https://localhost:8080/"
    },
    "executionInfo": {
     "elapsed": 4,
     "status": "ok",
     "timestamp": 1734588523208,
     "user": {
      "displayName": "koeyhi",
      "userId": "08049178071858703986"
     },
     "user_tz": -540
    },
    "id": "pRq7U8V6ODVx",
    "outputId": "4596d08c-cb8d-49e4-82da-d74c07e9ef17"
   },
   "outputs": [
    {
     "data": {
      "text/plain": [
       "((1344, 25), (896, 25))"
      ]
     },
     "execution_count": 6,
     "metadata": {},
     "output_type": "execute_result"
    }
   ],
   "source": [
    "train_ft = train.iloc[:, 1:-1].copy()\n",
    "test_ft = test.iloc[:, 1:].copy()\n",
    "\n",
    "train_ft.shape , test_ft.shape"
   ]
  },
  {
   "cell_type": "markdown",
   "metadata": {
    "id": "xhqmJxYcPw9A"
   },
   "source": [
    "# 결측치 처리"
   ]
  },
  {
   "cell_type": "code",
   "execution_count": 7,
   "metadata": {
    "colab": {
     "base_uri": "https://localhost:8080/"
    },
    "executionInfo": {
     "elapsed": 3,
     "status": "ok",
     "timestamp": 1734588523208,
     "user": {
      "displayName": "koeyhi",
      "userId": "08049178071858703986"
     },
     "user_tz": -540
    },
    "id": "Qt-qivMPODTG",
    "outputId": "fe7ab1ca-0439-4a94-db51-633e9b332e41"
   },
   "outputs": [
    {
     "data": {
      "text/plain": [
       "Index(['고객_교육수준', '고객_결혼여부', '고객_소득'], dtype='object')"
      ]
     },
     "execution_count": 7,
     "metadata": {},
     "output_type": "execute_result"
    }
   ],
   "source": [
    "mask = train_ft.isnull().sum() > 0\n",
    "cols = train_ft.isnull().sum()[mask].index\n",
    "cols"
   ]
  },
  {
   "cell_type": "code",
   "execution_count": 8,
   "metadata": {
    "executionInfo": {
     "elapsed": 430,
     "status": "ok",
     "timestamp": 1734588523636,
     "user": {
      "displayName": "koeyhi",
      "userId": "08049178071858703986"
     },
     "user_tz": -540
    },
    "id": "TcqOqY_8QQ9P"
   },
   "outputs": [],
   "source": [
    "e_level, m_status  = train_ft[\"고객_교육수준\"].mode()[0], train_ft[\"고객_결혼여부\"].mode()[0]\n",
    "s_mean = train_ft[\"고객_소득\"].mean()"
   ]
  },
  {
   "cell_type": "code",
   "execution_count": 9,
   "metadata": {
    "executionInfo": {
     "elapsed": 2,
     "status": "ok",
     "timestamp": 1734588523636,
     "user": {
      "displayName": "koeyhi",
      "userId": "08049178071858703986"
     },
     "user_tz": -540
    },
    "id": "F3OgkgsmODQa"
   },
   "outputs": [],
   "source": [
    "train_ft[\"고객_교육수준\"] = train_ft[\"고객_교육수준\"].fillna(e_level)\n",
    "train_ft[\"고객_결혼여부\"] = train_ft[\"고객_결혼여부\"].fillna(m_status)\n",
    "train_ft[\"고객_소득\"] = train_ft[\"고객_소득\"].fillna(s_mean)\n",
    "\n",
    "test_ft[\"고객_교육수준\"] = test_ft[\"고객_교육수준\"].fillna(e_level)\n",
    "test_ft[\"고객_결혼여부\"] = test_ft[\"고객_결혼여부\"].fillna(m_status)\n",
    "test_ft[\"고객_소득\"] = test_ft[\"고객_소득\"].fillna(s_mean)"
   ]
  },
  {
   "cell_type": "code",
   "execution_count": 10,
   "metadata": {
    "colab": {
     "base_uri": "https://localhost:8080/"
    },
    "executionInfo": {
     "elapsed": 2,
     "status": "ok",
     "timestamp": 1734588523636,
     "user": {
      "displayName": "koeyhi",
      "userId": "08049178071858703986"
     },
     "user_tz": -540
    },
    "id": "CyjNtHKDODNw",
    "outputId": "ba16ddd2-eea4-4cb1-b7ed-fc3d49f10d48"
   },
   "outputs": [
    {
     "data": {
      "text/plain": [
       "(0, 0)"
      ]
     },
     "execution_count": 10,
     "metadata": {},
     "output_type": "execute_result"
    }
   ],
   "source": [
    "train_ft.isnull().sum().sum(), test_ft.isnull().sum().sum()"
   ]
  },
  {
   "cell_type": "code",
   "execution_count": 11,
   "metadata": {
    "executionInfo": {
     "elapsed": 7507,
     "status": "ok",
     "timestamp": 1734588531142,
     "user": {
      "displayName": "koeyhi",
      "userId": "08049178071858703986"
     },
     "user_tz": -540
    },
    "id": "W67mSxizRU2Q"
   },
   "outputs": [],
   "source": [
    "from sklearn.preprocessing import OneHotEncoder, MinMaxScaler"
   ]
  },
  {
   "cell_type": "code",
   "execution_count": 12,
   "metadata": {
    "executionInfo": {
     "elapsed": 7,
     "status": "ok",
     "timestamp": 1734588531142,
     "user": {
      "displayName": "koeyhi",
      "userId": "08049178071858703986"
     },
     "user_tz": -540
    },
    "id": "ybsaFfxRRtRI"
   },
   "outputs": [],
   "source": [
    "train_ft = train_ft.drop(columns=[\"고객_가입날짜\"])\n",
    "test_ft = test_ft.drop(columns=[\"고객_가입날짜\"])"
   ]
  },
  {
   "cell_type": "code",
   "execution_count": 13,
   "metadata": {
    "colab": {
     "base_uri": "https://localhost:8080/"
    },
    "executionInfo": {
     "elapsed": 7,
     "status": "ok",
     "timestamp": 1734588531142,
     "user": {
      "displayName": "koeyhi",
      "userId": "08049178071858703986"
     },
     "user_tz": -540
    },
    "id": "GkDZ77zSRUv9",
    "outputId": "9057604d-7287-4d68-d47b-75fd111abdb2"
   },
   "outputs": [
    {
     "data": {
      "text/plain": [
       "Index(['고객_교육수준', '고객_결혼여부'], dtype='object')"
      ]
     },
     "execution_count": 13,
     "metadata": {},
     "output_type": "execute_result"
    }
   ],
   "source": [
    "cols = train_ft.select_dtypes(\"object\").columns\n",
    "cols"
   ]
  },
  {
   "cell_type": "code",
   "execution_count": 14,
   "metadata": {
    "executionInfo": {
     "elapsed": 6,
     "status": "ok",
     "timestamp": 1734588531142,
     "user": {
      "displayName": "koeyhi",
      "userId": "08049178071858703986"
     },
     "user_tz": -540
    },
    "id": "N5wbzL2PODKt"
   },
   "outputs": [],
   "source": [
    "enc = OneHotEncoder(handle_unknown=\"ignore\")\n",
    "train_ft[enc.get_feature_names_out()] = enc.fit_transform(train_ft[cols]).A"
   ]
  },
  {
   "cell_type": "code",
   "execution_count": 15,
   "metadata": {
    "executionInfo": {
     "elapsed": 6,
     "status": "ok",
     "timestamp": 1734588531142,
     "user": {
      "displayName": "koeyhi",
      "userId": "08049178071858703986"
     },
     "user_tz": -540
    },
    "id": "wRFAOSWVNiy9"
   },
   "outputs": [],
   "source": [
    "test_ft[enc.get_feature_names_out()] = enc.transform(test_ft[cols]).A"
   ]
  },
  {
   "cell_type": "code",
   "execution_count": 16,
   "metadata": {
    "colab": {
     "base_uri": "https://localhost:8080/"
    },
    "executionInfo": {
     "elapsed": 6,
     "status": "ok",
     "timestamp": 1734588531142,
     "user": {
      "displayName": "koeyhi",
      "userId": "08049178071858703986"
     },
     "user_tz": -540
    },
    "id": "mlcE6XIfScGw",
    "outputId": "4f5d8917-905c-4ca1-e7a2-63018b4eaa8e"
   },
   "outputs": [
    {
     "data": {
      "text/plain": [
       "((1344, 32), (896, 32))"
      ]
     },
     "execution_count": 16,
     "metadata": {},
     "output_type": "execute_result"
    }
   ],
   "source": [
    "train_ft = train_ft.drop(columns=cols)\n",
    "test_ft = test_ft.drop(columns=cols)\n",
    "train_ft.shape, test_ft.shape"
   ]
  },
  {
   "cell_type": "code",
   "execution_count": 17,
   "metadata": {
    "executionInfo": {
     "elapsed": 4,
     "status": "ok",
     "timestamp": 1734588531142,
     "user": {
      "displayName": "koeyhi",
      "userId": "08049178071858703986"
     },
     "user_tz": -540
    },
    "id": "H0aRGbI9ScDg"
   },
   "outputs": [],
   "source": [
    "scaler = MinMaxScaler()\n",
    "train_ft = scaler.fit_transform(train_ft)\n",
    "test_ft = scaler.transform(test_ft)"
   ]
  },
  {
   "cell_type": "code",
   "execution_count": 18,
   "metadata": {
    "colab": {
     "base_uri": "https://localhost:8080/"
    },
    "executionInfo": {
     "elapsed": 4,
     "status": "ok",
     "timestamp": 1734588531142,
     "user": {
      "displayName": "koeyhi",
      "userId": "08049178071858703986"
     },
     "user_tz": -540
    },
    "id": "CtkIgqxZVqnY",
    "outputId": "9ce30877-c446-4f8f-c59a-3633cafcd0fb"
   },
   "outputs": [
    {
     "data": {
      "text/plain": [
       "array([[0.71875   , 0.04311092, 0.5       , ..., 0.        , 0.        ,\n",
       "        0.        ],\n",
       "       [0.69791667, 0.05296299, 0.5       , ..., 0.        , 0.        ,\n",
       "        0.        ],\n",
       "       [0.51041667, 0.06893897, 0.5       , ..., 0.        , 1.        ,\n",
       "        0.        ],\n",
       "       ...,\n",
       "       [0.69791667, 0.05069811, 0.5       , ..., 0.        , 0.        ,\n",
       "        0.        ],\n",
       "       [0.86458333, 0.05272688, 0.        , ..., 0.        , 0.        ,\n",
       "        0.        ],\n",
       "       [0.84375   , 0.05787174, 0.5       , ..., 0.        , 0.        ,\n",
       "        0.        ]])"
      ]
     },
     "execution_count": 18,
     "metadata": {},
     "output_type": "execute_result"
    }
   ],
   "source": [
    "train_ft"
   ]
  },
  {
   "cell_type": "code",
   "execution_count": 19,
   "metadata": {
    "colab": {
     "base_uri": "https://localhost:8080/"
    },
    "executionInfo": {
     "elapsed": 3,
     "status": "ok",
     "timestamp": 1734588531142,
     "user": {
      "displayName": "koeyhi",
      "userId": "08049178071858703986"
     },
     "user_tz": -540
    },
    "id": "iEDrNZaEVrar",
    "outputId": "6539adc2-6739-4861-eafd-4670abc1c306"
   },
   "outputs": [
    {
     "data": {
      "text/plain": [
       "(1344, 1)"
      ]
     },
     "execution_count": 19,
     "metadata": {},
     "output_type": "execute_result"
    }
   ],
   "source": [
    "target = train[\"target\"].to_numpy().reshape(-1, 1).astype(\"float32\")\n",
    "target.shape"
   ]
  },
  {
   "cell_type": "code",
   "execution_count": 20,
   "metadata": {
    "executionInfo": {
     "elapsed": 4298,
     "status": "ok",
     "timestamp": 1734588535438,
     "user": {
      "displayName": "koeyhi",
      "userId": "08049178071858703986"
     },
     "user_tz": -540
    },
    "id": "pYsQMZWG3dnG"
   },
   "outputs": [],
   "source": [
    "from datasets import Dataset"
   ]
  },
  {
   "cell_type": "code",
   "execution_count": 21,
   "metadata": {
    "colab": {
     "base_uri": "https://localhost:8080/"
    },
    "executionInfo": {
     "elapsed": 10,
     "status": "ok",
     "timestamp": 1734588535438,
     "user": {
      "displayName": "koeyhi",
      "userId": "08049178071858703986"
     },
     "user_tz": -540
    },
    "id": "VI-LV-xYWSE8",
    "outputId": "359e9850-5c2d-40b2-c076-eb7d09808fa7"
   },
   "outputs": [
    {
     "data": {
      "text/plain": [
       "Dataset({\n",
       "    features: ['x', 'label'],\n",
       "    num_rows: 1344\n",
       "})"
      ]
     },
     "execution_count": 21,
     "metadata": {},
     "output_type": "execute_result"
    }
   ],
   "source": [
    "train_dict = {\"x\": train_ft, \"label\": target}\n",
    "train_dt = Dataset.from_dict(train_dict)\n",
    "train_dt"
   ]
  },
  {
   "cell_type": "code",
   "execution_count": 22,
   "metadata": {
    "colab": {
     "base_uri": "https://localhost:8080/"
    },
    "executionInfo": {
     "elapsed": 9,
     "status": "ok",
     "timestamp": 1734588535438,
     "user": {
      "displayName": "koeyhi",
      "userId": "08049178071858703986"
     },
     "user_tz": -540
    },
    "id": "JHsfG3CpXDHX",
    "outputId": "90d965d4-4773-44a7-c3a9-073dc691a03e"
   },
   "outputs": [
    {
     "data": {
      "text/plain": [
       "Dataset({\n",
       "    features: ['x', 'label'],\n",
       "    num_rows: 3\n",
       "})"
      ]
     },
     "execution_count": 22,
     "metadata": {},
     "output_type": "execute_result"
    }
   ],
   "source": [
    "train_dt.select([0,1,2])"
   ]
  },
  {
   "cell_type": "markdown",
   "metadata": {
    "id": "vYF_9z8fXtr5"
   },
   "source": [
    "# 모델 클래스"
   ]
  },
  {
   "cell_type": "code",
   "execution_count": 23,
   "metadata": {
    "executionInfo": {
     "elapsed": 341,
     "status": "ok",
     "timestamp": 1734590303122,
     "user": {
      "displayName": "koeyhi",
      "userId": "08049178071858703986"
     },
     "user_tz": -540
    },
    "id": "4wjO_vQRXvae"
   },
   "outputs": [],
   "source": [
    "class Net(torch.nn.Module):\n",
    "    def __init__(self, in_features, hidden_size=16):\n",
    "        super().__init__()\n",
    "        self.seq = torch.nn.Sequential(\n",
    "            torch.nn.Linear(in_features, hidden_size),\n",
    "            torch.nn.ReLU(),\n",
    "            torch.nn.Dropout(0.3),\n",
    "            torch.nn.Linear(hidden_size, hidden_size // 2),\n",
    "            torch.nn.ReLU(),\n",
    "            torch.nn.Linear(hidden_size // 2, 1),\n",
    "        )\n",
    "        self.loss_fn = torch.nn.BCEWithLogitsLoss()\n",
    "\n",
    "    def forward(self, x, labels=None):\n",
    "        result = {\"logits\": self.seq(x)} # 예측값\n",
    "\n",
    "        if labels is not None:\n",
    "            result[\"loss\"] = self.loss_fn(result[\"logits\"], labels)\n",
    "\n",
    "        return result"
   ]
  },
  {
   "cell_type": "code",
   "execution_count": 24,
   "metadata": {
    "colab": {
     "base_uri": "https://localhost:8080/"
    },
    "executionInfo": {
     "elapsed": 308,
     "status": "ok",
     "timestamp": 1734590305268,
     "user": {
      "displayName": "koeyhi",
      "userId": "08049178071858703986"
     },
     "user_tz": -540
    },
    "id": "bAfod6K3XvYQ",
    "outputId": "64269b41-2fd7-4b15-82c8-475b50000b93"
   },
   "outputs": [
    {
     "data": {
      "text/plain": [
       "torch.Size([2, 32])"
      ]
     },
     "execution_count": 24,
     "metadata": {},
     "output_type": "execute_result"
    }
   ],
   "source": [
    "x = torch.Tensor(train_ft[:2])\n",
    "x.shape"
   ]
  },
  {
   "cell_type": "code",
   "execution_count": 25,
   "metadata": {
    "colab": {
     "base_uri": "https://localhost:8080/"
    },
    "executionInfo": {
     "elapsed": 337,
     "status": "ok",
     "timestamp": 1734590307088,
     "user": {
      "displayName": "koeyhi",
      "userId": "08049178071858703986"
     },
     "user_tz": -540
    },
    "id": "gKjohPCWXvWY",
    "outputId": "96bf08ab-e3a7-4f73-a7a1-f92df1b5343c"
   },
   "outputs": [
    {
     "data": {
      "text/plain": [
       "{'logits': tensor([[-0.0416],\n",
       "         [-0.0211]], grad_fn=<AddmmBackward0>),\n",
       " 'loss': tensor(0.6984, grad_fn=<BinaryCrossEntropyWithLogitsBackward0>)}"
      ]
     },
     "execution_count": 25,
     "metadata": {},
     "output_type": "execute_result"
    }
   ],
   "source": [
    "model = Net(train_ft.shape[1])\n",
    "model(x, torch.Tensor(target[:2]))"
   ]
  },
  {
   "cell_type": "markdown",
   "metadata": {
    "id": "fu3HU_eoa_kP"
   },
   "source": [
    "# compute_metrics 파라미터에 전달할 콜백함수"
   ]
  },
  {
   "cell_type": "code",
   "execution_count": 26,
   "metadata": {
    "executionInfo": {
     "elapsed": 297,
     "status": "ok",
     "timestamp": 1734590321429,
     "user": {
      "displayName": "koeyhi",
      "userId": "08049178071858703986"
     },
     "user_tz": -540
    },
    "id": "sh6Zo8K9XvUC"
   },
   "outputs": [],
   "source": [
    "from sklearn.metrics import roc_auc_score\n",
    "\n",
    "def compute_metrics(eval_pred):\n",
    "    true = eval_pred.label_ids\n",
    "    pred = eval_pred.predictions\n",
    "    sig = torch.nn.Sigmoid()\n",
    "    pred = sig(torch.Tensor(pred)).numpy()\n",
    "    return {\"auc\": roc_auc_score(true, pred)}"
   ]
  },
  {
   "cell_type": "code",
   "execution_count": 27,
   "metadata": {
    "executionInfo": {
     "elapsed": 1,
     "status": "ok",
     "timestamp": 1734590322116,
     "user": {
      "displayName": "koeyhi",
      "userId": "08049178071858703986"
     },
     "user_tz": -540
    },
    "id": "6wC1PhiWXuYa"
   },
   "outputs": [],
   "source": [
    "from transformers import TrainingArguments, Trainer"
   ]
  },
  {
   "cell_type": "code",
   "execution_count": 32,
   "metadata": {
    "executionInfo": {
     "elapsed": 2,
     "status": "ok",
     "timestamp": 1734590323162,
     "user": {
      "displayName": "koeyhi",
      "userId": "08049178071858703986"
     },
     "user_tz": -540
    },
    "id": "pJHY-3dWdGZs"
   },
   "outputs": [],
   "source": [
    "train_args_params = {\n",
    "    \"output_dir\": \"../output\",\n",
    "    \"per_device_train_batch_size\": 32,\n",
    "    \"per_device_eval_batch_size\": 32,\n",
    "    \"learning_rate\": 0.001,\n",
    "    \"num_train_epochs\": 100,\n",
    "    \"lr_scheduler_type\": \"reduce_lr_on_plateau\",\n",
    "    \"eval_strategy\": \"epoch\",\n",
    "    \"logging_strategy\": \"epoch\",\n",
    "    \"save_strategy\": \"epoch\",\n",
    "    \"load_best_model_at_end\": True,\n",
    "    \"metric_for_best_model\": \"auc\",\n",
    "    \"greater_is_better\": True,\n",
    "    \"report_to\": \"none\",\n",
    "}\n",
    "\n",
    "train_args = TrainingArguments(**train_args_params)"
   ]
  },
  {
   "cell_type": "code",
   "execution_count": 33,
   "metadata": {
    "executionInfo": {
     "elapsed": 1,
     "status": "ok",
     "timestamp": 1734590324318,
     "user": {
      "displayName": "koeyhi",
      "userId": "08049178071858703986"
     },
     "user_tz": -540
    },
    "id": "syUSyhbbhDUX"
   },
   "outputs": [],
   "source": [
    "from sklearn.model_selection import KFold\n",
    "\n",
    "cv = KFold(5, shuffle=True, random_state=SEED)"
   ]
  },
  {
   "cell_type": "code",
   "execution_count": 34,
   "metadata": {
    "executionInfo": {
     "elapsed": 3,
     "status": "ok",
     "timestamp": 1734590325370,
     "user": {
      "displayName": "koeyhi",
      "userId": "08049178071858703986"
     },
     "user_tz": -540
    },
    "id": "ZRItx2ZYj31O"
   },
   "outputs": [],
   "source": [
    "from transformers import EarlyStoppingCallback\n",
    "\n",
    "es_cb = EarlyStoppingCallback(10)"
   ]
  },
  {
   "cell_type": "code",
   "execution_count": 35,
   "metadata": {
    "colab": {
     "base_uri": "https://localhost:8080/",
     "height": 1000
    },
    "executionInfo": {
     "elapsed": 57320,
     "status": "ok",
     "timestamp": 1734590383150,
     "user": {
      "displayName": "koeyhi",
      "userId": "08049178071858703986"
     },
     "user_tz": -540
    },
    "id": "2RoM3iGihv-r",
    "outputId": "489c970c-433a-4a7c-eecc-324c01294be9"
   },
   "outputs": [
    {
     "data": {
      "application/vnd.jupyter.widget-view+json": {
       "model_id": "b6e90be77a18460aa8e0dec208a2f7b3",
       "version_major": 2,
       "version_minor": 0
      },
      "text/plain": [
       "  0%|          | 0/3400 [00:00<?, ?it/s]"
      ]
     },
     "metadata": {},
     "output_type": "display_data"
    },
    {
     "name": "stdout",
     "output_type": "stream",
     "text": [
      "{'loss': 0.7966, 'grad_norm': 0.48407790064811707, 'learning_rate': 0.001, 'epoch': 1.0}\n"
     ]
    },
    {
     "data": {
      "application/vnd.jupyter.widget-view+json": {
       "model_id": "317546fb4cb94acaa0f515d52e048913",
       "version_major": 2,
       "version_minor": 0
      },
      "text/plain": [
       "  0%|          | 0/9 [00:00<?, ?it/s]"
      ]
     },
     "metadata": {},
     "output_type": "display_data"
    },
    {
     "name": "stdout",
     "output_type": "stream",
     "text": [
      "{'eval_loss': 0.7443380355834961, 'eval_auc': 0.5346508330379298, 'eval_runtime': 0.029, 'eval_samples_per_second': 9275.924, 'eval_steps_per_second': 310.347, 'epoch': 1.0}\n",
      "{'loss': 0.7091, 'grad_norm': 0.5499278903007507, 'learning_rate': 0.001, 'epoch': 2.0}\n"
     ]
    },
    {
     "data": {
      "application/vnd.jupyter.widget-view+json": {
       "model_id": "8e9b21f413ee4dc4810f23fb681205a0",
       "version_major": 2,
       "version_minor": 0
      },
      "text/plain": [
       "  0%|          | 0/9 [00:00<?, ?it/s]"
      ]
     },
     "metadata": {},
     "output_type": "display_data"
    },
    {
     "name": "stdout",
     "output_type": "stream",
     "text": [
      "{'eval_loss': 0.655297040939331, 'eval_auc': 0.49135944700460826, 'eval_runtime': 0.029, 'eval_samples_per_second': 9275.696, 'eval_steps_per_second': 310.339, 'epoch': 2.0}\n",
      "{'loss': 0.5964, 'grad_norm': 0.6038154363632202, 'learning_rate': 0.001, 'epoch': 3.0}\n"
     ]
    },
    {
     "data": {
      "application/vnd.jupyter.widget-view+json": {
       "model_id": "0d7a5b1634424d13962d750fe36f6fa8",
       "version_major": 2,
       "version_minor": 0
      },
      "text/plain": [
       "  0%|          | 0/9 [00:00<?, ?it/s]"
      ]
     },
     "metadata": {},
     "output_type": "display_data"
    },
    {
     "name": "stdout",
     "output_type": "stream",
     "text": [
      "{'eval_loss': 0.5562451481819153, 'eval_auc': 0.4655264090747962, 'eval_runtime': 0.031, 'eval_samples_per_second': 8677.715, 'eval_steps_per_second': 290.332, 'epoch': 3.0}\n",
      "{'loss': 0.472, 'grad_norm': 0.28793027997016907, 'learning_rate': 0.001, 'epoch': 4.0}\n"
     ]
    },
    {
     "data": {
      "application/vnd.jupyter.widget-view+json": {
       "model_id": "860416bd0f274e6ebcc7afd3d192cbcd",
       "version_major": 2,
       "version_minor": 0
      },
      "text/plain": [
       "  0%|          | 0/9 [00:00<?, ?it/s]"
      ]
     },
     "metadata": {},
     "output_type": "display_data"
    },
    {
     "name": "stdout",
     "output_type": "stream",
     "text": [
      "{'eval_loss': 0.4988579750061035, 'eval_auc': 0.4836937256292095, 'eval_runtime': 0.029, 'eval_samples_per_second': 9274.857, 'eval_steps_per_second': 310.311, 'epoch': 4.0}\n",
      "{'loss': 0.4168, 'grad_norm': 0.17005252838134766, 'learning_rate': 0.001, 'epoch': 5.0}\n"
     ]
    },
    {
     "data": {
      "application/vnd.jupyter.widget-view+json": {
       "model_id": "dfc798d43d5149e9ac0a4bb0b70f86ba",
       "version_major": 2,
       "version_minor": 0
      },
      "text/plain": [
       "  0%|          | 0/9 [00:00<?, ?it/s]"
      ]
     },
     "metadata": {},
     "output_type": "display_data"
    },
    {
     "name": "stdout",
     "output_type": "stream",
     "text": [
      "{'eval_loss': 0.4938058853149414, 'eval_auc': 0.5615030131159163, 'eval_runtime': 0.026, 'eval_samples_per_second': 10346.999, 'eval_steps_per_second': 346.182, 'epoch': 5.0}\n",
      "{'loss': 0.3856, 'grad_norm': 0.19093284010887146, 'learning_rate': 0.001, 'epoch': 6.0}\n"
     ]
    },
    {
     "data": {
      "application/vnd.jupyter.widget-view+json": {
       "model_id": "bafda0adffc346dd805d0ba2ca12dbd3",
       "version_major": 2,
       "version_minor": 0
      },
      "text/plain": [
       "  0%|          | 0/9 [00:00<?, ?it/s]"
      ]
     },
     "metadata": {},
     "output_type": "display_data"
    },
    {
     "name": "stdout",
     "output_type": "stream",
     "text": [
      "{'eval_loss': 0.48432791233062744, 'eval_auc': 0.6535802906770648, 'eval_runtime': 0.029, 'eval_samples_per_second': 9276.229, 'eval_steps_per_second': 310.357, 'epoch': 6.0}\n",
      "{'loss': 0.382, 'grad_norm': 0.281551331281662, 'learning_rate': 0.001, 'epoch': 7.0}\n"
     ]
    },
    {
     "data": {
      "application/vnd.jupyter.widget-view+json": {
       "model_id": "18aa77c5e1b547618e0f3222ac5631e6",
       "version_major": 2,
       "version_minor": 0
      },
      "text/plain": [
       "  0%|          | 0/9 [00:00<?, ?it/s]"
      ]
     },
     "metadata": {},
     "output_type": "display_data"
    },
    {
     "name": "stdout",
     "output_type": "stream",
     "text": [
      "{'eval_loss': 0.47270306944847107, 'eval_auc': 0.7215526409074796, 'eval_runtime': 0.029, 'eval_samples_per_second': 9276.306, 'eval_steps_per_second': 310.36, 'epoch': 7.0}\n",
      "{'loss': 0.3702, 'grad_norm': 0.4026000201702118, 'learning_rate': 0.001, 'epoch': 8.0}\n"
     ]
    },
    {
     "data": {
      "application/vnd.jupyter.widget-view+json": {
       "model_id": "cade7fc5bec34242b63217731f40abcd",
       "version_major": 2,
       "version_minor": 0
      },
      "text/plain": [
       "  0%|          | 0/9 [00:00<?, ?it/s]"
      ]
     },
     "metadata": {},
     "output_type": "display_data"
    },
    {
     "name": "stdout",
     "output_type": "stream",
     "text": [
      "{'eval_loss': 0.45761653780937195, 'eval_auc': 0.7647997164126197, 'eval_runtime': 0.03, 'eval_samples_per_second': 8966.96, 'eval_steps_per_second': 300.01, 'epoch': 8.0}\n",
      "{'loss': 0.3499, 'grad_norm': 0.33086517453193665, 'learning_rate': 0.001, 'epoch': 9.0}\n"
     ]
    },
    {
     "data": {
      "application/vnd.jupyter.widget-view+json": {
       "model_id": "6177de8f57184d6f8486c6aa003369ff",
       "version_major": 2,
       "version_minor": 0
      },
      "text/plain": [
       "  0%|          | 0/9 [00:00<?, ?it/s]"
      ]
     },
     "metadata": {},
     "output_type": "display_data"
    },
    {
     "name": "stdout",
     "output_type": "stream",
     "text": [
      "{'eval_loss': 0.45371153950691223, 'eval_auc': 0.782435306628855, 'eval_runtime': 0.031, 'eval_samples_per_second': 8677.581, 'eval_steps_per_second': 290.328, 'epoch': 9.0}\n",
      "{'loss': 0.3553, 'grad_norm': 0.3336843252182007, 'learning_rate': 0.001, 'epoch': 10.0}\n"
     ]
    },
    {
     "data": {
      "application/vnd.jupyter.widget-view+json": {
       "model_id": "79a97370ee7f434dac66f7db9965ac00",
       "version_major": 2,
       "version_minor": 0
      },
      "text/plain": [
       "  0%|          | 0/9 [00:00<?, ?it/s]"
      ]
     },
     "metadata": {},
     "output_type": "display_data"
    },
    {
     "name": "stdout",
     "output_type": "stream",
     "text": [
      "{'eval_loss': 0.4402434825897217, 'eval_auc': 0.7967919177596596, 'eval_runtime': 0.029, 'eval_samples_per_second': 9275.924, 'eval_steps_per_second': 310.347, 'epoch': 10.0}\n",
      "{'loss': 0.3375, 'grad_norm': 0.14876165986061096, 'learning_rate': 0.001, 'epoch': 11.0}\n"
     ]
    },
    {
     "data": {
      "application/vnd.jupyter.widget-view+json": {
       "model_id": "130978eb286c40968b8b46d2318544fd",
       "version_major": 2,
       "version_minor": 0
      },
      "text/plain": [
       "  0%|          | 0/9 [00:00<?, ?it/s]"
      ]
     },
     "metadata": {},
     "output_type": "display_data"
    },
    {
     "name": "stdout",
     "output_type": "stream",
     "text": [
      "{'eval_loss': 0.42829060554504395, 'eval_auc': 0.8072492024104928, 'eval_runtime': 0.045, 'eval_samples_per_second': 5977.388, 'eval_steps_per_second': 199.987, 'epoch': 11.0}\n",
      "{'loss': 0.3301, 'grad_norm': 0.37041229009628296, 'learning_rate': 0.001, 'epoch': 12.0}\n"
     ]
    },
    {
     "data": {
      "application/vnd.jupyter.widget-view+json": {
       "model_id": "4f584499e44347fd9c9d144547e3f768",
       "version_major": 2,
       "version_minor": 0
      },
      "text/plain": [
       "  0%|          | 0/9 [00:00<?, ?it/s]"
      ]
     },
     "metadata": {},
     "output_type": "display_data"
    },
    {
     "name": "stdout",
     "output_type": "stream",
     "text": [
      "{'eval_loss': 0.43134641647338867, 'eval_auc': 0.8080467919177596, 'eval_runtime': 0.029, 'eval_samples_per_second': 9276.077, 'eval_steps_per_second': 310.352, 'epoch': 12.0}\n",
      "{'loss': 0.3222, 'grad_norm': 0.4277331829071045, 'learning_rate': 0.001, 'epoch': 13.0}\n"
     ]
    },
    {
     "data": {
      "application/vnd.jupyter.widget-view+json": {
       "model_id": "44fd4cf0355942668b0826830803ad50",
       "version_major": 2,
       "version_minor": 0
      },
      "text/plain": [
       "  0%|          | 0/9 [00:00<?, ?it/s]"
      ]
     },
     "metadata": {},
     "output_type": "display_data"
    },
    {
     "name": "stdout",
     "output_type": "stream",
     "text": [
      "{'eval_loss': 0.4164610803127289, 'eval_auc': 0.8165544133286069, 'eval_runtime': 0.026, 'eval_samples_per_second': 10344.627, 'eval_steps_per_second': 346.103, 'epoch': 13.0}\n",
      "{'loss': 0.315, 'grad_norm': 0.3666844367980957, 'learning_rate': 0.001, 'epoch': 14.0}\n"
     ]
    },
    {
     "data": {
      "application/vnd.jupyter.widget-view+json": {
       "model_id": "7b62ddf803cc4c709a9122b96e500178",
       "version_major": 2,
       "version_minor": 0
      },
      "text/plain": [
       "  0%|          | 0/9 [00:00<?, ?it/s]"
      ]
     },
     "metadata": {},
     "output_type": "display_data"
    },
    {
     "name": "stdout",
     "output_type": "stream",
     "text": [
      "{'eval_loss': 0.414499968290329, 'eval_auc': 0.8182382133995038, 'eval_runtime': 0.027, 'eval_samples_per_second': 9962.629, 'eval_steps_per_second': 333.322, 'epoch': 14.0}\n",
      "{'loss': 0.3143, 'grad_norm': 0.2171667367219925, 'learning_rate': 0.0001, 'epoch': 15.0}\n"
     ]
    },
    {
     "data": {
      "application/vnd.jupyter.widget-view+json": {
       "model_id": "964367d0861e43718ecbbd046997eb0d",
       "version_major": 2,
       "version_minor": 0
      },
      "text/plain": [
       "  0%|          | 0/9 [00:00<?, ?it/s]"
      ]
     },
     "metadata": {},
     "output_type": "display_data"
    },
    {
     "name": "stdout",
     "output_type": "stream",
     "text": [
      "{'eval_loss': 0.4133386015892029, 'eval_auc': 0.8185040765685927, 'eval_runtime': 0.03, 'eval_samples_per_second': 8966.746, 'eval_steps_per_second': 300.003, 'epoch': 15.0}\n",
      "{'loss': 0.3122, 'grad_norm': 0.23132532835006714, 'learning_rate': 0.0001, 'epoch': 16.0}\n"
     ]
    },
    {
     "data": {
      "application/vnd.jupyter.widget-view+json": {
       "model_id": "e6f66e094c224a22a6c52d1b6381c743",
       "version_major": 2,
       "version_minor": 0
      },
      "text/plain": [
       "  0%|          | 0/9 [00:00<?, ?it/s]"
      ]
     },
     "metadata": {},
     "output_type": "display_data"
    },
    {
     "name": "stdout",
     "output_type": "stream",
     "text": [
      "{'eval_loss': 0.41280436515808105, 'eval_auc': 0.8185926976249556, 'eval_runtime': 0.029, 'eval_samples_per_second': 9275.314, 'eval_steps_per_second': 310.326, 'epoch': 16.0}\n",
      "{'loss': 0.3222, 'grad_norm': 0.238907128572464, 'learning_rate': 0.0001, 'epoch': 17.0}\n"
     ]
    },
    {
     "data": {
      "application/vnd.jupyter.widget-view+json": {
       "model_id": "0f6ee94250d144d18270f3e8642eea6c",
       "version_major": 2,
       "version_minor": 0
      },
      "text/plain": [
       "  0%|          | 0/9 [00:00<?, ?it/s]"
      ]
     },
     "metadata": {},
     "output_type": "display_data"
    },
    {
     "name": "stdout",
     "output_type": "stream",
     "text": [
      "{'eval_loss': 0.41263967752456665, 'eval_auc': 0.8189471818504077, 'eval_runtime': 0.057, 'eval_samples_per_second': 4719.522, 'eval_steps_per_second': 157.902, 'epoch': 17.0}\n",
      "{'loss': 0.3177, 'grad_norm': 0.2973310947418213, 'learning_rate': 0.0001, 'epoch': 18.0}\n"
     ]
    },
    {
     "data": {
      "application/vnd.jupyter.widget-view+json": {
       "model_id": "944b467835fa4ec38139c7540f5689fc",
       "version_major": 2,
       "version_minor": 0
      },
      "text/plain": [
       "  0%|          | 0/9 [00:00<?, ?it/s]"
      ]
     },
     "metadata": {},
     "output_type": "display_data"
    },
    {
     "name": "stdout",
     "output_type": "stream",
     "text": [
      "{'eval_loss': 0.41168293356895447, 'eval_auc': 0.8190358029067707, 'eval_runtime': 0.027, 'eval_samples_per_second': 9962.453, 'eval_steps_per_second': 333.316, 'epoch': 18.0}\n",
      "{'loss': 0.3136, 'grad_norm': 0.24041499197483063, 'learning_rate': 0.0001, 'epoch': 19.0}\n"
     ]
    },
    {
     "data": {
      "application/vnd.jupyter.widget-view+json": {
       "model_id": "11fdab940770446d8e232dfef6be208e",
       "version_major": 2,
       "version_minor": 0
      },
      "text/plain": [
       "  0%|          | 0/9 [00:00<?, ?it/s]"
      ]
     },
     "metadata": {},
     "output_type": "display_data"
    },
    {
     "name": "stdout",
     "output_type": "stream",
     "text": [
      "{'eval_loss': 0.4107148051261902, 'eval_auc': 0.8194789081885856, 'eval_runtime': 0.029, 'eval_samples_per_second': 9275.619, 'eval_steps_per_second': 310.337, 'epoch': 19.0}\n",
      "{'loss': 0.3114, 'grad_norm': 0.4996499717235565, 'learning_rate': 0.0001, 'epoch': 20.0}\n"
     ]
    },
    {
     "data": {
      "application/vnd.jupyter.widget-view+json": {
       "model_id": "e296e9956be641debdad6ea5b42e5e4d",
       "version_major": 2,
       "version_minor": 0
      },
      "text/plain": [
       "  0%|          | 0/9 [00:00<?, ?it/s]"
      ]
     },
     "metadata": {},
     "output_type": "display_data"
    },
    {
     "name": "stdout",
     "output_type": "stream",
     "text": [
      "{'eval_loss': 0.41030651330947876, 'eval_auc': 0.8199220134704006, 'eval_runtime': 0.029, 'eval_samples_per_second': 9275.162, 'eval_steps_per_second': 310.321, 'epoch': 20.0}\n",
      "{'loss': 0.3231, 'grad_norm': 0.6758785843849182, 'learning_rate': 0.0001, 'epoch': 21.0}\n"
     ]
    },
    {
     "data": {
      "application/vnd.jupyter.widget-view+json": {
       "model_id": "6b89f49d6d9843d3ad19ef564aa0d917",
       "version_major": 2,
       "version_minor": 0
      },
      "text/plain": [
       "  0%|          | 0/9 [00:00<?, ?it/s]"
      ]
     },
     "metadata": {},
     "output_type": "display_data"
    },
    {
     "name": "stdout",
     "output_type": "stream",
     "text": [
      "{'eval_loss': 0.41018301248550415, 'eval_auc': 0.8200106345267635, 'eval_runtime': 0.028, 'eval_samples_per_second': 9607.267, 'eval_steps_per_second': 321.433, 'epoch': 21.0}\n",
      "{'loss': 0.3088, 'grad_norm': 0.178353413939476, 'learning_rate': 0.0001, 'epoch': 22.0}\n"
     ]
    },
    {
     "data": {
      "application/vnd.jupyter.widget-view+json": {
       "model_id": "169020b48ef54384a091f74f6882bec1",
       "version_major": 2,
       "version_minor": 0
      },
      "text/plain": [
       "  0%|          | 0/9 [00:00<?, ?it/s]"
      ]
     },
     "metadata": {},
     "output_type": "display_data"
    },
    {
     "name": "stdout",
     "output_type": "stream",
     "text": [
      "{'eval_loss': 0.40968945622444153, 'eval_auc': 0.8207196029776676, 'eval_runtime': 0.0318, 'eval_samples_per_second': 8449.102, 'eval_steps_per_second': 282.684, 'epoch': 22.0}\n",
      "{'loss': 0.301, 'grad_norm': 0.21912285685539246, 'learning_rate': 0.0001, 'epoch': 23.0}\n"
     ]
    },
    {
     "data": {
      "application/vnd.jupyter.widget-view+json": {
       "model_id": "4e251aa1129e4290b93dc5a020f83471",
       "version_major": 2,
       "version_minor": 0
      },
      "text/plain": [
       "  0%|          | 0/9 [00:00<?, ?it/s]"
      ]
     },
     "metadata": {},
     "output_type": "display_data"
    },
    {
     "name": "stdout",
     "output_type": "stream",
     "text": [
      "{'eval_loss': 0.40911340713500977, 'eval_auc': 0.8211627082594825, 'eval_runtime': 0.028, 'eval_samples_per_second': 9606.121, 'eval_steps_per_second': 321.394, 'epoch': 23.0}\n",
      "{'loss': 0.3101, 'grad_norm': 0.29347747564315796, 'learning_rate': 0.0001, 'epoch': 24.0}\n"
     ]
    },
    {
     "data": {
      "application/vnd.jupyter.widget-view+json": {
       "model_id": "1d23c6653ef9483f80037958b5e881d4",
       "version_major": 2,
       "version_minor": 0
      },
      "text/plain": [
       "  0%|          | 0/9 [00:00<?, ?it/s]"
      ]
     },
     "metadata": {},
     "output_type": "display_data"
    },
    {
     "name": "stdout",
     "output_type": "stream",
     "text": [
      "{'eval_loss': 0.4089583456516266, 'eval_auc': 0.8213399503722085, 'eval_runtime': 0.028, 'eval_samples_per_second': 9606.612, 'eval_steps_per_second': 321.411, 'epoch': 24.0}\n",
      "{'loss': 0.3047, 'grad_norm': 0.19717052578926086, 'learning_rate': 0.0001, 'epoch': 25.0}\n"
     ]
    },
    {
     "data": {
      "application/vnd.jupyter.widget-view+json": {
       "model_id": "347eee474f884d828c07a92413b0d48f",
       "version_major": 2,
       "version_minor": 0
      },
      "text/plain": [
       "  0%|          | 0/9 [00:00<?, ?it/s]"
      ]
     },
     "metadata": {},
     "output_type": "display_data"
    },
    {
     "name": "stdout",
     "output_type": "stream",
     "text": [
      "{'eval_loss': 0.4087071120738983, 'eval_auc': 0.8213399503722084, 'eval_runtime': 0.027, 'eval_samples_per_second': 9963.773, 'eval_steps_per_second': 333.36, 'epoch': 25.0}\n",
      "{'loss': 0.3048, 'grad_norm': 0.3636682629585266, 'learning_rate': 1e-05, 'epoch': 26.0}\n"
     ]
    },
    {
     "data": {
      "application/vnd.jupyter.widget-view+json": {
       "model_id": "41e47b6e861846968f1c9556bab65706",
       "version_major": 2,
       "version_minor": 0
      },
      "text/plain": [
       "  0%|          | 0/9 [00:00<?, ?it/s]"
      ]
     },
     "metadata": {},
     "output_type": "display_data"
    },
    {
     "name": "stdout",
     "output_type": "stream",
     "text": [
      "{'eval_loss': 0.40872085094451904, 'eval_auc': 0.8213399503722084, 'eval_runtime': 0.029, 'eval_samples_per_second': 9276.916, 'eval_steps_per_second': 310.38, 'epoch': 26.0}\n",
      "{'loss': 0.3122, 'grad_norm': 0.37282732129096985, 'learning_rate': 1e-05, 'epoch': 27.0}\n"
     ]
    },
    {
     "data": {
      "application/vnd.jupyter.widget-view+json": {
       "model_id": "bfb33cca3d584b33a0673bd042eb28ec",
       "version_major": 2,
       "version_minor": 0
      },
      "text/plain": [
       "  0%|          | 0/9 [00:00<?, ?it/s]"
      ]
     },
     "metadata": {},
     "output_type": "display_data"
    },
    {
     "name": "stdout",
     "output_type": "stream",
     "text": [
      "{'eval_loss': 0.40864452719688416, 'eval_auc': 0.8213399503722084, 'eval_runtime': 0.027, 'eval_samples_per_second': 9962.805, 'eval_steps_per_second': 333.328, 'epoch': 27.0}\n",
      "{'loss': 0.3169, 'grad_norm': 0.3418703079223633, 'learning_rate': 1e-05, 'epoch': 28.0}\n"
     ]
    },
    {
     "data": {
      "application/vnd.jupyter.widget-view+json": {
       "model_id": "74a7f0d06bff48e9a7c933f890e0731c",
       "version_major": 2,
       "version_minor": 0
      },
      "text/plain": [
       "  0%|          | 0/9 [00:00<?, ?it/s]"
      ]
     },
     "metadata": {},
     "output_type": "display_data"
    },
    {
     "name": "stdout",
     "output_type": "stream",
     "text": [
      "{'eval_loss': 0.40854412317276, 'eval_auc': 0.8213399503722084, 'eval_runtime': 0.028, 'eval_samples_per_second': 9606.285, 'eval_steps_per_second': 321.4, 'epoch': 28.0}\n",
      "{'loss': 0.3058, 'grad_norm': 0.38661518692970276, 'learning_rate': 1e-05, 'epoch': 29.0}\n"
     ]
    },
    {
     "data": {
      "application/vnd.jupyter.widget-view+json": {
       "model_id": "f917ec6c902f435ca81150dc802f6db3",
       "version_major": 2,
       "version_minor": 0
      },
      "text/plain": [
       "  0%|          | 0/9 [00:00<?, ?it/s]"
      ]
     },
     "metadata": {},
     "output_type": "display_data"
    },
    {
     "name": "stdout",
     "output_type": "stream",
     "text": [
      "{'eval_loss': 0.4085138142108917, 'eval_auc': 0.8213399503722084, 'eval_runtime': 0.035, 'eval_samples_per_second': 7685.853, 'eval_steps_per_second': 257.147, 'epoch': 29.0}\n",
      "{'loss': 0.3104, 'grad_norm': 0.5050496459007263, 'learning_rate': 1e-05, 'epoch': 30.0}\n"
     ]
    },
    {
     "data": {
      "application/vnd.jupyter.widget-view+json": {
       "model_id": "145372a2b5614cbf82162c1f16917552",
       "version_major": 2,
       "version_minor": 0
      },
      "text/plain": [
       "  0%|          | 0/9 [00:00<?, ?it/s]"
      ]
     },
     "metadata": {},
     "output_type": "display_data"
    },
    {
     "name": "stdout",
     "output_type": "stream",
     "text": [
      "{'eval_loss': 0.4084683656692505, 'eval_auc': 0.8214285714285714, 'eval_runtime': 0.026, 'eval_samples_per_second': 10346.145, 'eval_steps_per_second': 346.154, 'epoch': 30.0}\n",
      "{'loss': 0.3095, 'grad_norm': 0.22034478187561035, 'learning_rate': 1e-05, 'epoch': 31.0}\n"
     ]
    },
    {
     "data": {
      "application/vnd.jupyter.widget-view+json": {
       "model_id": "dcb68f9d569f4bfa80b2223f8a3deab5",
       "version_major": 2,
       "version_minor": 0
      },
      "text/plain": [
       "  0%|          | 0/9 [00:00<?, ?it/s]"
      ]
     },
     "metadata": {},
     "output_type": "display_data"
    },
    {
     "name": "stdout",
     "output_type": "stream",
     "text": [
      "{'eval_loss': 0.4084058701992035, 'eval_auc': 0.8214285714285714, 'eval_runtime': 0.026, 'eval_samples_per_second': 10346.999, 'eval_steps_per_second': 346.182, 'epoch': 31.0}\n",
      "{'loss': 0.3115, 'grad_norm': 0.29551661014556885, 'learning_rate': 1e-05, 'epoch': 32.0}\n"
     ]
    },
    {
     "data": {
      "application/vnd.jupyter.widget-view+json": {
       "model_id": "0b16d94979bc4b84b3fdfce4be1c1913",
       "version_major": 2,
       "version_minor": 0
      },
      "text/plain": [
       "  0%|          | 0/9 [00:00<?, ?it/s]"
      ]
     },
     "metadata": {},
     "output_type": "display_data"
    },
    {
     "name": "stdout",
     "output_type": "stream",
     "text": [
      "{'eval_loss': 0.4083503484725952, 'eval_auc': 0.8214285714285714, 'eval_runtime': 0.027, 'eval_samples_per_second': 9962.19, 'eval_steps_per_second': 333.307, 'epoch': 32.0}\n",
      "{'loss': 0.3166, 'grad_norm': 1.1539727449417114, 'learning_rate': 1e-05, 'epoch': 33.0}\n"
     ]
    },
    {
     "data": {
      "application/vnd.jupyter.widget-view+json": {
       "model_id": "1d939366ac0849daa105b90ec9a07315",
       "version_major": 2,
       "version_minor": 0
      },
      "text/plain": [
       "  0%|          | 0/9 [00:00<?, ?it/s]"
      ]
     },
     "metadata": {},
     "output_type": "display_data"
    },
    {
     "name": "stdout",
     "output_type": "stream",
     "text": [
      "{'eval_loss': 0.4084305763244629, 'eval_auc': 0.8214285714285714, 'eval_runtime': 0.031, 'eval_samples_per_second': 8677.114, 'eval_steps_per_second': 290.312, 'epoch': 33.0}\n",
      "{'loss': 0.3136, 'grad_norm': 0.17946229875087738, 'learning_rate': 1e-05, 'epoch': 34.0}\n"
     ]
    },
    {
     "data": {
      "application/vnd.jupyter.widget-view+json": {
       "model_id": "87050e52dbf64e94b6553fb47058f040",
       "version_major": 2,
       "version_minor": 0
      },
      "text/plain": [
       "  0%|          | 0/9 [00:00<?, ?it/s]"
      ]
     },
     "metadata": {},
     "output_type": "display_data"
    },
    {
     "name": "stdout",
     "output_type": "stream",
     "text": [
      "{'eval_loss': 0.4083050489425659, 'eval_auc': 0.8213399503722084, 'eval_runtime': 0.026, 'eval_samples_per_second': 10346.05, 'eval_steps_per_second': 346.15, 'epoch': 34.0}\n",
      "{'loss': 0.3106, 'grad_norm': 0.21357201039791107, 'learning_rate': 1e-05, 'epoch': 35.0}\n"
     ]
    },
    {
     "data": {
      "application/vnd.jupyter.widget-view+json": {
       "model_id": "a583a1890ff5497da76fab6569e0036c",
       "version_major": 2,
       "version_minor": 0
      },
      "text/plain": [
       "  0%|          | 0/9 [00:00<?, ?it/s]"
      ]
     },
     "metadata": {},
     "output_type": "display_data"
    },
    {
     "name": "stdout",
     "output_type": "stream",
     "text": [
      "{'eval_loss': 0.40825891494750977, 'eval_auc': 0.8212513293158454, 'eval_runtime': 0.027, 'eval_samples_per_second': 9962.19, 'eval_steps_per_second': 333.307, 'epoch': 35.0}\n",
      "{'loss': 0.3081, 'grad_norm': 0.20491591095924377, 'learning_rate': 1e-05, 'epoch': 36.0}\n"
     ]
    },
    {
     "data": {
      "application/vnd.jupyter.widget-view+json": {
       "model_id": "50c35e7fb53c4747981eb42cb4aa046f",
       "version_major": 2,
       "version_minor": 0
      },
      "text/plain": [
       "  0%|          | 0/9 [00:00<?, ?it/s]"
      ]
     },
     "metadata": {},
     "output_type": "display_data"
    },
    {
     "name": "stdout",
     "output_type": "stream",
     "text": [
      "{'eval_loss': 0.4082389771938324, 'eval_auc': 0.8213399503722085, 'eval_runtime': 0.03, 'eval_samples_per_second': 8966.461, 'eval_steps_per_second': 299.993, 'epoch': 36.0}\n",
      "{'loss': 0.3139, 'grad_norm': 0.388141393661499, 'learning_rate': 1.0000000000000002e-06, 'epoch': 37.0}\n"
     ]
    },
    {
     "data": {
      "application/vnd.jupyter.widget-view+json": {
       "model_id": "9832e8c8770042e1858f937072bb6b24",
       "version_major": 2,
       "version_minor": 0
      },
      "text/plain": [
       "  0%|          | 0/9 [00:00<?, ?it/s]"
      ]
     },
     "metadata": {},
     "output_type": "display_data"
    },
    {
     "name": "stdout",
     "output_type": "stream",
     "text": [
      "{'eval_loss': 0.40823930501937866, 'eval_auc': 0.8213399503722085, 'eval_runtime': 0.028, 'eval_samples_per_second': 9606.776, 'eval_steps_per_second': 321.416, 'epoch': 37.0}\n",
      "{'loss': 0.3112, 'grad_norm': 0.21616004407405853, 'learning_rate': 1.0000000000000002e-06, 'epoch': 38.0}\n"
     ]
    },
    {
     "data": {
      "application/vnd.jupyter.widget-view+json": {
       "model_id": "ada999cbf24e406583552e53accc932d",
       "version_major": 2,
       "version_minor": 0
      },
      "text/plain": [
       "  0%|          | 0/9 [00:00<?, ?it/s]"
      ]
     },
     "metadata": {},
     "output_type": "display_data"
    },
    {
     "name": "stdout",
     "output_type": "stream",
     "text": [
      "{'eval_loss': 0.40823328495025635, 'eval_auc': 0.8213399503722085, 'eval_runtime': 0.029, 'eval_samples_per_second': 9275.772, 'eval_steps_per_second': 310.342, 'epoch': 38.0}\n",
      "{'loss': 0.3184, 'grad_norm': 0.2287006974220276, 'learning_rate': 1.0000000000000002e-06, 'epoch': 39.0}\n"
     ]
    },
    {
     "data": {
      "application/vnd.jupyter.widget-view+json": {
       "model_id": "1b6b2d653009491a8856673152795967",
       "version_major": 2,
       "version_minor": 0
      },
      "text/plain": [
       "  0%|          | 0/9 [00:00<?, ?it/s]"
      ]
     },
     "metadata": {},
     "output_type": "display_data"
    },
    {
     "name": "stdout",
     "output_type": "stream",
     "text": [
      "{'eval_loss': 0.4082280397415161, 'eval_auc': 0.8213399503722085, 'eval_runtime': 0.028, 'eval_samples_per_second': 9607.512, 'eval_steps_per_second': 321.441, 'epoch': 39.0}\n",
      "{'loss': 0.3131, 'grad_norm': 0.37016329169273376, 'learning_rate': 1.0000000000000002e-06, 'epoch': 40.0}\n"
     ]
    },
    {
     "data": {
      "application/vnd.jupyter.widget-view+json": {
       "model_id": "d817fdab96024487a6d3e67bfcb6da8a",
       "version_major": 2,
       "version_minor": 0
      },
      "text/plain": [
       "  0%|          | 0/9 [00:00<?, ?it/s]"
      ]
     },
     "metadata": {},
     "output_type": "display_data"
    },
    {
     "name": "stdout",
     "output_type": "stream",
     "text": [
      "{'eval_loss': 0.40822693705558777, 'eval_auc': 0.8213399503722085, 'eval_runtime': 0.027, 'eval_samples_per_second': 9962.453, 'eval_steps_per_second': 333.316, 'epoch': 40.0}\n",
      "{'train_runtime': 7.799, 'train_samples_per_second': 13783.894, 'train_steps_per_second': 435.956, 'train_loss': 0.35636348373749677, 'epoch': 40.0}\n"
     ]
    },
    {
     "data": {
      "application/vnd.jupyter.widget-view+json": {
       "model_id": "d6b98250dabe45f3b4ee6c9f0b488dc7",
       "version_major": 2,
       "version_minor": 0
      },
      "text/plain": [
       "  0%|          | 0/3400 [00:00<?, ?it/s]"
      ]
     },
     "metadata": {},
     "output_type": "display_data"
    },
    {
     "name": "stdout",
     "output_type": "stream",
     "text": [
      "{'loss': 0.5579, 'grad_norm': 0.2147006094455719, 'learning_rate': 0.001, 'epoch': 1.0}\n"
     ]
    },
    {
     "data": {
      "application/vnd.jupyter.widget-view+json": {
       "model_id": "0004eb765d204eb69b002df2eaaf4f5b",
       "version_major": 2,
       "version_minor": 0
      },
      "text/plain": [
       "  0%|          | 0/9 [00:00<?, ?it/s]"
      ]
     },
     "metadata": {},
     "output_type": "display_data"
    },
    {
     "name": "stdout",
     "output_type": "stream",
     "text": [
      "{'eval_loss': 0.5602144598960876, 'eval_auc': 0.5681777298075193, 'eval_runtime': 0.025, 'eval_samples_per_second': 10760.985, 'eval_steps_per_second': 360.033, 'epoch': 1.0}\n",
      "{'loss': 0.502, 'grad_norm': 0.4346275329589844, 'learning_rate': 0.001, 'epoch': 2.0}\n"
     ]
    },
    {
     "data": {
      "application/vnd.jupyter.widget-view+json": {
       "model_id": "ce82c1ef54574dba845bf127d28d0eac",
       "version_major": 2,
       "version_minor": 0
      },
      "text/plain": [
       "  0%|          | 0/9 [00:00<?, ?it/s]"
      ]
     },
     "metadata": {},
     "output_type": "display_data"
    },
    {
     "name": "stdout",
     "output_type": "stream",
     "text": [
      "{'eval_loss': 0.5086501240730286, 'eval_auc': 0.6054146429213887, 'eval_runtime': 0.038, 'eval_samples_per_second': 7078.883, 'eval_steps_per_second': 236.84, 'epoch': 2.0}\n",
      "{'loss': 0.4348, 'grad_norm': 0.39131447672843933, 'learning_rate': 0.001, 'epoch': 3.0}\n"
     ]
    },
    {
     "data": {
      "application/vnd.jupyter.widget-view+json": {
       "model_id": "fc65b8bb0aba48e0bd79564a02fa156e",
       "version_major": 2,
       "version_minor": 0
      },
      "text/plain": [
       "  0%|          | 0/9 [00:00<?, ?it/s]"
      ]
     },
     "metadata": {},
     "output_type": "display_data"
    },
    {
     "name": "stdout",
     "output_type": "stream",
     "text": [
      "{'eval_loss': 0.4719909727573395, 'eval_auc': 0.6819571865443425, 'eval_runtime': 0.027, 'eval_samples_per_second': 9962.805, 'eval_steps_per_second': 333.328, 'epoch': 3.0}\n",
      "{'loss': 0.389, 'grad_norm': 0.26212596893310547, 'learning_rate': 0.001, 'epoch': 4.0}\n"
     ]
    },
    {
     "data": {
      "application/vnd.jupyter.widget-view+json": {
       "model_id": "f7fde4eb49cd45db98a7f0fad8bb2797",
       "version_major": 2,
       "version_minor": 0
      },
      "text/plain": [
       "  0%|          | 0/9 [00:00<?, ?it/s]"
      ]
     },
     "metadata": {},
     "output_type": "display_data"
    },
    {
     "name": "stdout",
     "output_type": "stream",
     "text": [
      "{'eval_loss': 0.46687257289886475, 'eval_auc': 0.7534628530311207, 'eval_runtime': 0.028, 'eval_samples_per_second': 9606.858, 'eval_steps_per_second': 321.419, 'epoch': 4.0}\n",
      "{'loss': 0.3804, 'grad_norm': 0.1896594613790512, 'learning_rate': 0.001, 'epoch': 5.0}\n"
     ]
    },
    {
     "data": {
      "application/vnd.jupyter.widget-view+json": {
       "model_id": "e246dbd1e7ce48d2ad78e2676cf59c46",
       "version_major": 2,
       "version_minor": 0
      },
      "text/plain": [
       "  0%|          | 0/9 [00:00<?, ?it/s]"
      ]
     },
     "metadata": {},
     "output_type": "display_data"
    },
    {
     "name": "stdout",
     "output_type": "stream",
     "text": [
      "{'eval_loss': 0.4580327272415161, 'eval_auc': 0.7866522755891348, 'eval_runtime': 0.027, 'eval_samples_per_second': 9962.102, 'eval_steps_per_second': 333.305, 'epoch': 5.0}\n",
      "{'loss': 0.3691, 'grad_norm': 0.12559135258197784, 'learning_rate': 0.001, 'epoch': 6.0}\n"
     ]
    },
    {
     "data": {
      "application/vnd.jupyter.widget-view+json": {
       "model_id": "43d33a68a10a42bf9ddd0d22d08db32c",
       "version_major": 2,
       "version_minor": 0
      },
      "text/plain": [
       "  0%|          | 0/9 [00:00<?, ?it/s]"
      ]
     },
     "metadata": {},
     "output_type": "display_data"
    },
    {
     "name": "stdout",
     "output_type": "stream",
     "text": [
      "{'eval_loss': 0.442923903465271, 'eval_auc': 0.796096420219464, 'eval_runtime': 0.028, 'eval_samples_per_second': 9605.958, 'eval_steps_per_second': 321.389, 'epoch': 6.0}\n",
      "{'loss': 0.3517, 'grad_norm': 0.3402172923088074, 'learning_rate': 0.001, 'epoch': 7.0}\n"
     ]
    },
    {
     "data": {
      "application/vnd.jupyter.widget-view+json": {
       "model_id": "41666e47f1014b11a7aeae5d5754378b",
       "version_major": 2,
       "version_minor": 0
      },
      "text/plain": [
       "  0%|          | 0/9 [00:00<?, ?it/s]"
      ]
     },
     "metadata": {},
     "output_type": "display_data"
    },
    {
     "name": "stdout",
     "output_type": "stream",
     "text": [
      "{'eval_loss': 0.4378795325756073, 'eval_auc': 0.8029321820471306, 'eval_runtime': 0.026, 'eval_samples_per_second': 10346.05, 'eval_steps_per_second': 346.15, 'epoch': 7.0}\n",
      "{'loss': 0.344, 'grad_norm': 0.21113881468772888, 'learning_rate': 0.001, 'epoch': 8.0}\n"
     ]
    },
    {
     "data": {
      "application/vnd.jupyter.widget-view+json": {
       "model_id": "c86365f5ebe5451b8994e38754bc3b32",
       "version_major": 2,
       "version_minor": 0
      },
      "text/plain": [
       "  0%|          | 0/9 [00:00<?, ?it/s]"
      ]
     },
     "metadata": {},
     "output_type": "display_data"
    },
    {
     "name": "stdout",
     "output_type": "stream",
     "text": [
      "{'eval_loss': 0.42650681734085083, 'eval_auc': 0.8011332973556394, 'eval_runtime': 0.026, 'eval_samples_per_second': 10345.67, 'eval_steps_per_second': 346.138, 'epoch': 8.0}\n",
      "{'loss': 0.3339, 'grad_norm': 0.37507566809654236, 'learning_rate': 0.001, 'epoch': 9.0}\n"
     ]
    },
    {
     "data": {
      "application/vnd.jupyter.widget-view+json": {
       "model_id": "ae1dd9bc938d446bb3eada81c4db3a72",
       "version_major": 2,
       "version_minor": 0
      },
      "text/plain": [
       "  0%|          | 0/9 [00:00<?, ?it/s]"
      ]
     },
     "metadata": {},
     "output_type": "display_data"
    },
    {
     "name": "stdout",
     "output_type": "stream",
     "text": [
      "{'eval_loss': 0.4171946942806244, 'eval_auc': 0.8038316243928764, 'eval_runtime': 0.026, 'eval_samples_per_second': 10345.386, 'eval_steps_per_second': 346.128, 'epoch': 9.0}\n",
      "{'loss': 0.3295, 'grad_norm': 0.27322664856910706, 'learning_rate': 0.001, 'epoch': 10.0}\n"
     ]
    },
    {
     "data": {
      "application/vnd.jupyter.widget-view+json": {
       "model_id": "171bebac9a1144a1bc38e8771cbdeb1c",
       "version_major": 2,
       "version_minor": 0
      },
      "text/plain": [
       "  0%|          | 0/9 [00:00<?, ?it/s]"
      ]
     },
     "metadata": {},
     "output_type": "display_data"
    },
    {
     "name": "stdout",
     "output_type": "stream",
     "text": [
      "{'eval_loss': 0.4109800159931183, 'eval_auc': 0.801852851232236, 'eval_runtime': 0.027, 'eval_samples_per_second': 9962.19, 'eval_steps_per_second': 333.307, 'epoch': 10.0}\n",
      "{'loss': 0.3195, 'grad_norm': 0.3512864112854004, 'learning_rate': 0.001, 'epoch': 11.0}\n"
     ]
    },
    {
     "data": {
      "application/vnd.jupyter.widget-view+json": {
       "model_id": "60d48b41c918446988ec1632b4caf9db",
       "version_major": 2,
       "version_minor": 0
      },
      "text/plain": [
       "  0%|          | 0/9 [00:00<?, ?it/s]"
      ]
     },
     "metadata": {},
     "output_type": "display_data"
    },
    {
     "name": "stdout",
     "output_type": "stream",
     "text": [
      "{'eval_loss': 0.4106331169605255, 'eval_auc': 0.8053606763806439, 'eval_runtime': 0.031, 'eval_samples_per_second': 8677.581, 'eval_steps_per_second': 290.328, 'epoch': 11.0}\n",
      "{'loss': 0.3232, 'grad_norm': 0.19924834370613098, 'learning_rate': 0.001, 'epoch': 12.0}\n"
     ]
    },
    {
     "data": {
      "application/vnd.jupyter.widget-view+json": {
       "model_id": "a78ce84246794f719d671dfef3b202e4",
       "version_major": 2,
       "version_minor": 0
      },
      "text/plain": [
       "  0%|          | 0/9 [00:00<?, ?it/s]"
      ]
     },
     "metadata": {},
     "output_type": "display_data"
    },
    {
     "name": "stdout",
     "output_type": "stream",
     "text": [
      "{'eval_loss': 0.4023212492465973, 'eval_auc': 0.806799784133837, 'eval_runtime': 0.028, 'eval_samples_per_second': 9607.921, 'eval_steps_per_second': 321.455, 'epoch': 12.0}\n",
      "{'loss': 0.3142, 'grad_norm': 0.16982193291187286, 'learning_rate': 0.0001, 'epoch': 13.0}\n"
     ]
    },
    {
     "data": {
      "application/vnd.jupyter.widget-view+json": {
       "model_id": "74b7591d6b7b4b648f78ec788394824b",
       "version_major": 2,
       "version_minor": 0
      },
      "text/plain": [
       "  0%|          | 0/9 [00:00<?, ?it/s]"
      ]
     },
     "metadata": {},
     "output_type": "display_data"
    },
    {
     "name": "stdout",
     "output_type": "stream",
     "text": [
      "{'eval_loss': 0.4017624855041504, 'eval_auc': 0.8069796726029861, 'eval_runtime': 0.039, 'eval_samples_per_second': 6897.303, 'eval_steps_per_second': 230.765, 'epoch': 13.0}\n",
      "{'loss': 0.3149, 'grad_norm': 0.27732911705970764, 'learning_rate': 0.0001, 'epoch': 14.0}\n"
     ]
    },
    {
     "data": {
      "application/vnd.jupyter.widget-view+json": {
       "model_id": "82ee19f0593c4e5a931ca30b2e5482f7",
       "version_major": 2,
       "version_minor": 0
      },
      "text/plain": [
       "  0%|          | 0/9 [00:00<?, ?it/s]"
      ]
     },
     "metadata": {},
     "output_type": "display_data"
    },
    {
     "name": "stdout",
     "output_type": "stream",
     "text": [
      "{'eval_loss': 0.4019775390625, 'eval_auc': 0.8071595610721353, 'eval_runtime': 0.028, 'eval_samples_per_second': 9606.53, 'eval_steps_per_second': 321.408, 'epoch': 14.0}\n",
      "{'loss': 0.3111, 'grad_norm': 0.20207875967025757, 'learning_rate': 0.0001, 'epoch': 15.0}\n"
     ]
    },
    {
     "data": {
      "application/vnd.jupyter.widget-view+json": {
       "model_id": "71153cfa41e9462bb04789b38c686538",
       "version_major": 2,
       "version_minor": 0
      },
      "text/plain": [
       "  0%|          | 0/9 [00:00<?, ?it/s]"
      ]
     },
     "metadata": {},
     "output_type": "display_data"
    },
    {
     "name": "stdout",
     "output_type": "stream",
     "text": [
      "{'eval_loss': 0.40164634585380554, 'eval_auc': 0.8071595610721353, 'eval_runtime': 0.026, 'eval_samples_per_second': 10346.334, 'eval_steps_per_second': 346.16, 'epoch': 15.0}\n",
      "{'loss': 0.3159, 'grad_norm': 0.2682812213897705, 'learning_rate': 0.0001, 'epoch': 16.0}\n"
     ]
    },
    {
     "data": {
      "application/vnd.jupyter.widget-view+json": {
       "model_id": "2fac3e39db6347598df381c4ec9b7c27",
       "version_major": 2,
       "version_minor": 0
      },
      "text/plain": [
       "  0%|          | 0/9 [00:00<?, ?it/s]"
      ]
     },
     "metadata": {},
     "output_type": "display_data"
    },
    {
     "name": "stdout",
     "output_type": "stream",
     "text": [
      "{'eval_loss': 0.4015727639198303, 'eval_auc': 0.8077891707141572, 'eval_runtime': 0.028, 'eval_samples_per_second': 9606.449, 'eval_steps_per_second': 321.405, 'epoch': 16.0}\n",
      "{'loss': 0.3096, 'grad_norm': 0.22218216955661774, 'learning_rate': 0.0001, 'epoch': 17.0}\n"
     ]
    },
    {
     "data": {
      "application/vnd.jupyter.widget-view+json": {
       "model_id": "0003d9bcc58e4f8098a6767b8e2e4877",
       "version_major": 2,
       "version_minor": 0
      },
      "text/plain": [
       "  0%|          | 0/9 [00:00<?, ?it/s]"
      ]
     },
     "metadata": {},
     "output_type": "display_data"
    },
    {
     "name": "stdout",
     "output_type": "stream",
     "text": [
      "{'eval_loss': 0.4012059271335602, 'eval_auc': 0.8083288361216048, 'eval_runtime': 0.031, 'eval_samples_per_second': 8676.914, 'eval_steps_per_second': 290.306, 'epoch': 17.0}\n",
      "{'loss': 0.3089, 'grad_norm': 0.19955873489379883, 'learning_rate': 0.0001, 'epoch': 18.0}\n"
     ]
    },
    {
     "data": {
      "application/vnd.jupyter.widget-view+json": {
       "model_id": "56bd46ec85ac4219affc88614241a4eb",
       "version_major": 2,
       "version_minor": 0
      },
      "text/plain": [
       "  0%|          | 0/9 [00:00<?, ?it/s]"
      ]
     },
     "metadata": {},
     "output_type": "display_data"
    },
    {
     "name": "stdout",
     "output_type": "stream",
     "text": [
      "{'eval_loss': 0.40097710490226746, 'eval_auc': 0.808868501529052, 'eval_runtime': 0.026, 'eval_samples_per_second': 10344.627, 'eval_steps_per_second': 346.103, 'epoch': 18.0}\n",
      "{'loss': 0.3154, 'grad_norm': 0.1941005438566208, 'learning_rate': 0.0001, 'epoch': 19.0}\n"
     ]
    },
    {
     "data": {
      "application/vnd.jupyter.widget-view+json": {
       "model_id": "df2b6cd7e3fe46f98d3538d414190eae",
       "version_major": 2,
       "version_minor": 0
      },
      "text/plain": [
       "  0%|          | 0/9 [00:00<?, ?it/s]"
      ]
     },
     "metadata": {},
     "output_type": "display_data"
    },
    {
     "name": "stdout",
     "output_type": "stream",
     "text": [
      "{'eval_loss': 0.4006139636039734, 'eval_auc': 0.8089584457636265, 'eval_runtime': 0.026, 'eval_samples_per_second': 10345.291, 'eval_steps_per_second': 346.125, 'epoch': 19.0}\n",
      "{'loss': 0.31, 'grad_norm': 0.24860087037086487, 'learning_rate': 0.0001, 'epoch': 20.0}\n"
     ]
    },
    {
     "data": {
      "application/vnd.jupyter.widget-view+json": {
       "model_id": "f8b31ddbef614c3b93370ae0674f6348",
       "version_major": 2,
       "version_minor": 0
      },
      "text/plain": [
       "  0%|          | 0/9 [00:00<?, ?it/s]"
      ]
     },
     "metadata": {},
     "output_type": "display_data"
    },
    {
     "name": "stdout",
     "output_type": "stream",
     "text": [
      "{'eval_loss': 0.4000551700592041, 'eval_auc': 0.808868501529052, 'eval_runtime': 0.025, 'eval_samples_per_second': 10759.138, 'eval_steps_per_second': 359.971, 'epoch': 20.0}\n",
      "{'loss': 0.3086, 'grad_norm': 0.17947182059288025, 'learning_rate': 0.0001, 'epoch': 21.0}\n"
     ]
    },
    {
     "data": {
      "application/vnd.jupyter.widget-view+json": {
       "model_id": "d4c8a73e79144f919bab264240e69e3b",
       "version_major": 2,
       "version_minor": 0
      },
      "text/plain": [
       "  0%|          | 0/9 [00:00<?, ?it/s]"
      ]
     },
     "metadata": {},
     "output_type": "display_data"
    },
    {
     "name": "stdout",
     "output_type": "stream",
     "text": [
      "{'eval_loss': 0.40009990334510803, 'eval_auc': 0.8094081669364994, 'eval_runtime': 0.027, 'eval_samples_per_second': 9963.245, 'eval_steps_per_second': 333.343, 'epoch': 21.0}\n",
      "{'loss': 0.3114, 'grad_norm': 0.22896628081798553, 'learning_rate': 0.0001, 'epoch': 22.0}\n"
     ]
    },
    {
     "data": {
      "application/vnd.jupyter.widget-view+json": {
       "model_id": "a61df4ec1660468cb651421a5e3b18ff",
       "version_major": 2,
       "version_minor": 0
      },
      "text/plain": [
       "  0%|          | 0/9 [00:00<?, ?it/s]"
      ]
     },
     "metadata": {},
     "output_type": "display_data"
    },
    {
     "name": "stdout",
     "output_type": "stream",
     "text": [
      "{'eval_loss': 0.39984744787216187, 'eval_auc': 0.8092282784673503, 'eval_runtime': 0.028, 'eval_samples_per_second': 9607.103, 'eval_steps_per_second': 321.427, 'epoch': 22.0}\n",
      "{'loss': 0.3151, 'grad_norm': 0.35334518551826477, 'learning_rate': 0.0001, 'epoch': 23.0}\n"
     ]
    },
    {
     "data": {
      "application/vnd.jupyter.widget-view+json": {
       "model_id": "87bc707906904b778fe715c31160edfd",
       "version_major": 2,
       "version_minor": 0
      },
      "text/plain": [
       "  0%|          | 0/9 [00:00<?, ?it/s]"
      ]
     },
     "metadata": {},
     "output_type": "display_data"
    },
    {
     "name": "stdout",
     "output_type": "stream",
     "text": [
      "{'eval_loss': 0.39935460686683655, 'eval_auc': 0.8095880554056485, 'eval_runtime': 0.03, 'eval_samples_per_second': 8966.96, 'eval_steps_per_second': 300.01, 'epoch': 23.0}\n",
      "{'loss': 0.3095, 'grad_norm': 0.18589147925376892, 'learning_rate': 1e-05, 'epoch': 24.0}\n"
     ]
    },
    {
     "data": {
      "application/vnd.jupyter.widget-view+json": {
       "model_id": "cdc023e10b3e467882624ba7c53f553f",
       "version_major": 2,
       "version_minor": 0
      },
      "text/plain": [
       "  0%|          | 0/9 [00:00<?, ?it/s]"
      ]
     },
     "metadata": {},
     "output_type": "display_data"
    },
    {
     "name": "stdout",
     "output_type": "stream",
     "text": [
      "{'eval_loss': 0.3993333578109741, 'eval_auc': 0.809677999640223, 'eval_runtime': 0.026, 'eval_samples_per_second': 10346.24, 'eval_steps_per_second': 346.157, 'epoch': 24.0}\n",
      "{'loss': 0.3092, 'grad_norm': 0.21480371057987213, 'learning_rate': 1e-05, 'epoch': 25.0}\n"
     ]
    },
    {
     "data": {
      "application/vnd.jupyter.widget-view+json": {
       "model_id": "3c187fb3fa1547cbb8967ddb8a54367f",
       "version_major": 2,
       "version_minor": 0
      },
      "text/plain": [
       "  0%|          | 0/9 [00:00<?, ?it/s]"
      ]
     },
     "metadata": {},
     "output_type": "display_data"
    },
    {
     "name": "stdout",
     "output_type": "stream",
     "text": [
      "{'eval_loss': 0.39928242564201355, 'eval_auc': 0.8097679438747976, 'eval_runtime': 0.027, 'eval_samples_per_second': 9961.75, 'eval_steps_per_second': 333.293, 'epoch': 25.0}\n",
      "{'loss': 0.3103, 'grad_norm': 0.20534084737300873, 'learning_rate': 1e-05, 'epoch': 26.0}\n"
     ]
    },
    {
     "data": {
      "application/vnd.jupyter.widget-view+json": {
       "model_id": "0313f390dacb4240a2ffbd1cc693b5a5",
       "version_major": 2,
       "version_minor": 0
      },
      "text/plain": [
       "  0%|          | 0/9 [00:00<?, ?it/s]"
      ]
     },
     "metadata": {},
     "output_type": "display_data"
    },
    {
     "name": "stdout",
     "output_type": "stream",
     "text": [
      "{'eval_loss': 0.39925989508628845, 'eval_auc': 0.8097679438747977, 'eval_runtime': 0.027, 'eval_samples_per_second': 9961.574, 'eval_steps_per_second': 333.287, 'epoch': 26.0}\n",
      "{'loss': 0.309, 'grad_norm': 0.19830818474292755, 'learning_rate': 1e-05, 'epoch': 27.0}\n"
     ]
    },
    {
     "data": {
      "application/vnd.jupyter.widget-view+json": {
       "model_id": "6e361f8d9a5a4ef2ad43f573fd1d3613",
       "version_major": 2,
       "version_minor": 0
      },
      "text/plain": [
       "  0%|          | 0/9 [00:00<?, ?it/s]"
      ]
     },
     "metadata": {},
     "output_type": "display_data"
    },
    {
     "name": "stdout",
     "output_type": "stream",
     "text": [
      "{'eval_loss': 0.3992778956890106, 'eval_auc': 0.8097679438747976, 'eval_runtime': 0.027, 'eval_samples_per_second': 9962.805, 'eval_steps_per_second': 333.328, 'epoch': 27.0}\n",
      "{'loss': 0.3088, 'grad_norm': 0.2758598327636719, 'learning_rate': 1e-05, 'epoch': 28.0}\n"
     ]
    },
    {
     "data": {
      "application/vnd.jupyter.widget-view+json": {
       "model_id": "22a182d6e84b4520941bb2794f9dd0e8",
       "version_major": 2,
       "version_minor": 0
      },
      "text/plain": [
       "  0%|          | 0/9 [00:00<?, ?it/s]"
      ]
     },
     "metadata": {},
     "output_type": "display_data"
    },
    {
     "name": "stdout",
     "output_type": "stream",
     "text": [
      "{'eval_loss': 0.39923322200775146, 'eval_auc': 0.8097679438747976, 'eval_runtime': 0.025, 'eval_samples_per_second': 10760.472, 'eval_steps_per_second': 360.016, 'epoch': 28.0}\n",
      "{'loss': 0.3119, 'grad_norm': 0.3850826323032379, 'learning_rate': 1e-05, 'epoch': 29.0}\n"
     ]
    },
    {
     "data": {
      "application/vnd.jupyter.widget-view+json": {
       "model_id": "2ad71cad7b25447d8ac203542999cfe9",
       "version_major": 2,
       "version_minor": 0
      },
      "text/plain": [
       "  0%|          | 0/9 [00:00<?, ?it/s]"
      ]
     },
     "metadata": {},
     "output_type": "display_data"
    },
    {
     "name": "stdout",
     "output_type": "stream",
     "text": [
      "{'eval_loss': 0.39921727776527405, 'eval_auc': 0.8097679438747976, 'eval_runtime': 0.029, 'eval_samples_per_second': 9276.84, 'eval_steps_per_second': 310.378, 'epoch': 29.0}\n",
      "{'loss': 0.309, 'grad_norm': 0.3939700126647949, 'learning_rate': 1e-05, 'epoch': 30.0}\n"
     ]
    },
    {
     "data": {
      "application/vnd.jupyter.widget-view+json": {
       "model_id": "06bd64c0c5f0442ea35d5afb81495a85",
       "version_major": 2,
       "version_minor": 0
      },
      "text/plain": [
       "  0%|          | 0/9 [00:00<?, ?it/s]"
      ]
     },
     "metadata": {},
     "output_type": "display_data"
    },
    {
     "name": "stdout",
     "output_type": "stream",
     "text": [
      "{'eval_loss': 0.3991384506225586, 'eval_auc': 0.8097679438747976, 'eval_runtime': 0.027, 'eval_samples_per_second': 9963.157, 'eval_steps_per_second': 333.34, 'epoch': 30.0}\n",
      "{'loss': 0.3164, 'grad_norm': 0.38220471143722534, 'learning_rate': 1e-05, 'epoch': 31.0}\n"
     ]
    },
    {
     "data": {
      "application/vnd.jupyter.widget-view+json": {
       "model_id": "5fc11b1a97c143eca5bf96e1ccb90c9a",
       "version_major": 2,
       "version_minor": 0
      },
      "text/plain": [
       "  0%|          | 0/9 [00:00<?, ?it/s]"
      ]
     },
     "metadata": {},
     "output_type": "display_data"
    },
    {
     "name": "stdout",
     "output_type": "stream",
     "text": [
      "{'eval_loss': 0.399127334356308, 'eval_auc': 0.8098578881093722, 'eval_runtime': 0.028, 'eval_samples_per_second': 9606.612, 'eval_steps_per_second': 321.411, 'epoch': 31.0}\n",
      "{'loss': 0.312, 'grad_norm': 0.42100784182548523, 'learning_rate': 1e-05, 'epoch': 32.0}\n"
     ]
    },
    {
     "data": {
      "application/vnd.jupyter.widget-view+json": {
       "model_id": "880812aaed264fdaa197ca84144f311c",
       "version_major": 2,
       "version_minor": 0
      },
      "text/plain": [
       "  0%|          | 0/9 [00:00<?, ?it/s]"
      ]
     },
     "metadata": {},
     "output_type": "display_data"
    },
    {
     "name": "stdout",
     "output_type": "stream",
     "text": [
      "{'eval_loss': 0.3990853428840637, 'eval_auc': 0.8097679438747977, 'eval_runtime': 0.031, 'eval_samples_per_second': 8677.448, 'eval_steps_per_second': 290.324, 'epoch': 32.0}\n",
      "{'loss': 0.3113, 'grad_norm': 0.5128201842308044, 'learning_rate': 1e-05, 'epoch': 33.0}\n"
     ]
    },
    {
     "data": {
      "application/vnd.jupyter.widget-view+json": {
       "model_id": "56449cdb14f14d4bbad209f455ed648a",
       "version_major": 2,
       "version_minor": 0
      },
      "text/plain": [
       "  0%|          | 0/9 [00:00<?, ?it/s]"
      ]
     },
     "metadata": {},
     "output_type": "display_data"
    },
    {
     "name": "stdout",
     "output_type": "stream",
     "text": [
      "{'eval_loss': 0.3990480303764343, 'eval_auc': 0.8097679438747977, 'eval_runtime': 0.026, 'eval_samples_per_second': 10346.05, 'eval_steps_per_second': 346.15, 'epoch': 33.0}\n",
      "{'loss': 0.3155, 'grad_norm': 0.25249338150024414, 'learning_rate': 1e-05, 'epoch': 34.0}\n"
     ]
    },
    {
     "data": {
      "application/vnd.jupyter.widget-view+json": {
       "model_id": "72767c435134482baab9ecc0f3f1f5e4",
       "version_major": 2,
       "version_minor": 0
      },
      "text/plain": [
       "  0%|          | 0/9 [00:00<?, ?it/s]"
      ]
     },
     "metadata": {},
     "output_type": "display_data"
    },
    {
     "name": "stdout",
     "output_type": "stream",
     "text": [
      "{'eval_loss': 0.3990202248096466, 'eval_auc': 0.8097679438747977, 'eval_runtime': 0.028, 'eval_samples_per_second': 9606.776, 'eval_steps_per_second': 321.416, 'epoch': 34.0}\n",
      "{'loss': 0.3088, 'grad_norm': 0.18581248819828033, 'learning_rate': 1.0000000000000002e-06, 'epoch': 35.0}\n"
     ]
    },
    {
     "data": {
      "application/vnd.jupyter.widget-view+json": {
       "model_id": "718d27010ace4fc9a5cdbc5b775af554",
       "version_major": 2,
       "version_minor": 0
      },
      "text/plain": [
       "  0%|          | 0/9 [00:00<?, ?it/s]"
      ]
     },
     "metadata": {},
     "output_type": "display_data"
    },
    {
     "name": "stdout",
     "output_type": "stream",
     "text": [
      "{'eval_loss': 0.39901626110076904, 'eval_auc': 0.8097679438747977, 'eval_runtime': 0.026, 'eval_samples_per_second': 10346.24, 'eval_steps_per_second': 346.157, 'epoch': 35.0}\n",
      "{'loss': 0.3115, 'grad_norm': 0.2539944648742676, 'learning_rate': 1.0000000000000002e-06, 'epoch': 36.0}\n"
     ]
    },
    {
     "data": {
      "application/vnd.jupyter.widget-view+json": {
       "model_id": "2bf69388dd3a4073a0e5a8b225d3f6fb",
       "version_major": 2,
       "version_minor": 0
      },
      "text/plain": [
       "  0%|          | 0/9 [00:00<?, ?it/s]"
      ]
     },
     "metadata": {},
     "output_type": "display_data"
    },
    {
     "name": "stdout",
     "output_type": "stream",
     "text": [
      "{'eval_loss': 0.3990117311477661, 'eval_auc': 0.8097679438747977, 'eval_runtime': 0.026, 'eval_samples_per_second': 10345.765, 'eval_steps_per_second': 346.141, 'epoch': 36.0}\n",
      "{'loss': 0.3066, 'grad_norm': 0.3311654329299927, 'learning_rate': 1.0000000000000002e-06, 'epoch': 37.0}\n"
     ]
    },
    {
     "data": {
      "application/vnd.jupyter.widget-view+json": {
       "model_id": "3ca313b9b69a4d8a9505a2417d380ed0",
       "version_major": 2,
       "version_minor": 0
      },
      "text/plain": [
       "  0%|          | 0/9 [00:00<?, ?it/s]"
      ]
     },
     "metadata": {},
     "output_type": "display_data"
    },
    {
     "name": "stdout",
     "output_type": "stream",
     "text": [
      "{'eval_loss': 0.399007111787796, 'eval_auc': 0.8097679438747977, 'eval_runtime': 0.027, 'eval_samples_per_second': 9962.453, 'eval_steps_per_second': 333.316, 'epoch': 37.0}\n",
      "{'loss': 0.304, 'grad_norm': 0.16892357170581818, 'learning_rate': 1.0000000000000002e-06, 'epoch': 38.0}\n"
     ]
    },
    {
     "data": {
      "application/vnd.jupyter.widget-view+json": {
       "model_id": "61629cd210434acf88fb2ae74f962347",
       "version_major": 2,
       "version_minor": 0
      },
      "text/plain": [
       "  0%|          | 0/9 [00:00<?, ?it/s]"
      ]
     },
     "metadata": {},
     "output_type": "display_data"
    },
    {
     "name": "stdout",
     "output_type": "stream",
     "text": [
      "{'eval_loss': 0.3990074694156647, 'eval_auc': 0.8097679438747977, 'eval_runtime': 0.026, 'eval_samples_per_second': 10345.576, 'eval_steps_per_second': 346.134, 'epoch': 38.0}\n",
      "{'loss': 0.31, 'grad_norm': 0.18083573877811432, 'learning_rate': 1.0000000000000002e-06, 'epoch': 39.0}\n"
     ]
    },
    {
     "data": {
      "application/vnd.jupyter.widget-view+json": {
       "model_id": "b0a03b501ecc4e07bb646a842a05e43c",
       "version_major": 2,
       "version_minor": 0
      },
      "text/plain": [
       "  0%|          | 0/9 [00:00<?, ?it/s]"
      ]
     },
     "metadata": {},
     "output_type": "display_data"
    },
    {
     "name": "stdout",
     "output_type": "stream",
     "text": [
      "{'eval_loss': 0.3990045487880707, 'eval_auc': 0.8097679438747977, 'eval_runtime': 0.027, 'eval_samples_per_second': 9963.245, 'eval_steps_per_second': 333.343, 'epoch': 39.0}\n",
      "{'loss': 0.3157, 'grad_norm': 0.33120763301849365, 'learning_rate': 1.0000000000000002e-06, 'epoch': 40.0}\n"
     ]
    },
    {
     "data": {
      "application/vnd.jupyter.widget-view+json": {
       "model_id": "45e79f0952284b4586617ace787be67e",
       "version_major": 2,
       "version_minor": 0
      },
      "text/plain": [
       "  0%|          | 0/9 [00:00<?, ?it/s]"
      ]
     },
     "metadata": {},
     "output_type": "display_data"
    },
    {
     "name": "stdout",
     "output_type": "stream",
     "text": [
      "{'eval_loss': 0.39900273084640503, 'eval_auc': 0.8097679438747977, 'eval_runtime': 0.03, 'eval_samples_per_second': 8966.461, 'eval_steps_per_second': 299.993, 'epoch': 40.0}\n",
      "{'loss': 0.3085, 'grad_norm': 0.13396255671977997, 'learning_rate': 1.0000000000000002e-06, 'epoch': 41.0}\n"
     ]
    },
    {
     "data": {
      "application/vnd.jupyter.widget-view+json": {
       "model_id": "7566e7779e7d49e2a330c2876a3502ab",
       "version_major": 2,
       "version_minor": 0
      },
      "text/plain": [
       "  0%|          | 0/9 [00:00<?, ?it/s]"
      ]
     },
     "metadata": {},
     "output_type": "display_data"
    },
    {
     "name": "stdout",
     "output_type": "stream",
     "text": [
      "{'eval_loss': 0.3990015685558319, 'eval_auc': 0.8097679438747977, 'eval_runtime': 0.029, 'eval_samples_per_second': 9274.857, 'eval_steps_per_second': 310.311, 'epoch': 41.0}\n",
      "{'train_runtime': 7.889, 'train_samples_per_second': 13626.548, 'train_steps_per_second': 430.979, 'train_loss': 0.3331194826999046, 'epoch': 41.0}\n"
     ]
    },
    {
     "data": {
      "application/vnd.jupyter.widget-view+json": {
       "model_id": "22551f52926f46b0ae3c02bc188c7f03",
       "version_major": 2,
       "version_minor": 0
      },
      "text/plain": [
       "  0%|          | 0/3400 [00:00<?, ?it/s]"
      ]
     },
     "metadata": {},
     "output_type": "display_data"
    },
    {
     "name": "stdout",
     "output_type": "stream",
     "text": [
      "{'loss': 0.5743, 'grad_norm': 0.07757870852947235, 'learning_rate': 0.001, 'epoch': 1.0}\n"
     ]
    },
    {
     "data": {
      "application/vnd.jupyter.widget-view+json": {
       "model_id": "ef5cd0ce9f0849a38ef59f26cc4da400",
       "version_major": 2,
       "version_minor": 0
      },
      "text/plain": [
       "  0%|          | 0/9 [00:00<?, ?it/s]"
      ]
     },
     "metadata": {},
     "output_type": "display_data"
    },
    {
     "name": "stdout",
     "output_type": "stream",
     "text": [
      "{'eval_loss': 0.5317915081977844, 'eval_auc': 0.5964473056747734, 'eval_runtime': 0.03, 'eval_samples_per_second': 8965.963, 'eval_steps_per_second': 299.976, 'epoch': 1.0}\n",
      "{'loss': 0.5058, 'grad_norm': 0.20444805920124054, 'learning_rate': 0.001, 'epoch': 2.0}\n"
     ]
    },
    {
     "data": {
      "application/vnd.jupyter.widget-view+json": {
       "model_id": "dede3fbb6a604174ba9349067fa75eda",
       "version_major": 2,
       "version_minor": 0
      },
      "text/plain": [
       "  0%|          | 0/9 [00:00<?, ?it/s]"
      ]
     },
     "metadata": {},
     "output_type": "display_data"
    },
    {
     "name": "stdout",
     "output_type": "stream",
     "text": [
      "{'eval_loss': 0.4503386616706848, 'eval_auc': 0.615999046256557, 'eval_runtime': 0.027, 'eval_samples_per_second': 9963.157, 'eval_steps_per_second': 333.34, 'epoch': 2.0}\n",
      "{'loss': 0.4461, 'grad_norm': 0.2722700536251068, 'learning_rate': 0.001, 'epoch': 3.0}\n"
     ]
    },
    {
     "data": {
      "application/vnd.jupyter.widget-view+json": {
       "model_id": "303c2f5e044f4f66aeb019e1c7527e85",
       "version_major": 2,
       "version_minor": 0
      },
      "text/plain": [
       "  0%|          | 0/9 [00:00<?, ?it/s]"
      ]
     },
     "metadata": {},
     "output_type": "display_data"
    },
    {
     "name": "stdout",
     "output_type": "stream",
     "text": [
      "{'eval_loss': 0.39580366015434265, 'eval_auc': 0.6578445398187888, 'eval_runtime': 0.03, 'eval_samples_per_second': 8966.889, 'eval_steps_per_second': 300.007, 'epoch': 3.0}\n",
      "{'loss': 0.4207, 'grad_norm': 0.27190008759498596, 'learning_rate': 0.001, 'epoch': 4.0}\n"
     ]
    },
    {
     "data": {
      "application/vnd.jupyter.widget-view+json": {
       "model_id": "ff2b020e25bb440b8c66bf75dfe34a72",
       "version_major": 2,
       "version_minor": 0
      },
      "text/plain": [
       "  0%|          | 0/9 [00:00<?, ?it/s]"
      ]
     },
     "metadata": {},
     "output_type": "display_data"
    },
    {
     "name": "stdout",
     "output_type": "stream",
     "text": [
      "{'eval_loss': 0.3744781017303467, 'eval_auc': 0.721864568431092, 'eval_runtime': 0.028, 'eval_samples_per_second': 9606.939, 'eval_steps_per_second': 321.422, 'epoch': 4.0}\n",
      "{'loss': 0.3997, 'grad_norm': 0.35146158933639526, 'learning_rate': 0.001, 'epoch': 5.0}\n"
     ]
    },
    {
     "data": {
      "application/vnd.jupyter.widget-view+json": {
       "model_id": "bfa92f76b9b040d2a362c31c6c4eff2b",
       "version_major": 2,
       "version_minor": 0
      },
      "text/plain": [
       "  0%|          | 0/9 [00:00<?, ?it/s]"
      ]
     },
     "metadata": {},
     "output_type": "display_data"
    },
    {
     "name": "stdout",
     "output_type": "stream",
     "text": [
      "{'eval_loss': 0.3619261682033539, 'eval_auc': 0.7600143061516452, 'eval_runtime': 0.029, 'eval_samples_per_second': 9275.086, 'eval_steps_per_second': 310.319, 'epoch': 5.0}\n",
      "{'loss': 0.3855, 'grad_norm': 0.2285628467798233, 'learning_rate': 0.001, 'epoch': 6.0}\n"
     ]
    },
    {
     "data": {
      "application/vnd.jupyter.widget-view+json": {
       "model_id": "d5e5f961a7db4815852604eef3d79966",
       "version_major": 2,
       "version_minor": 0
      },
      "text/plain": [
       "  0%|          | 0/9 [00:00<?, ?it/s]"
      ]
     },
     "metadata": {},
     "output_type": "display_data"
    },
    {
     "name": "stdout",
     "output_type": "stream",
     "text": [
      "{'eval_loss': 0.35127705335617065, 'eval_auc': 0.7805197901764425, 'eval_runtime': 0.027, 'eval_samples_per_second': 9962.365, 'eval_steps_per_second': 333.313, 'epoch': 6.0}\n",
      "{'loss': 0.3724, 'grad_norm': 0.2544596195220947, 'learning_rate': 0.001, 'epoch': 7.0}\n"
     ]
    },
    {
     "data": {
      "application/vnd.jupyter.widget-view+json": {
       "model_id": "850afea99fa24cdbba01b2352e77bb1e",
       "version_major": 2,
       "version_minor": 0
      },
      "text/plain": [
       "  0%|          | 0/9 [00:00<?, ?it/s]"
      ]
     },
     "metadata": {},
     "output_type": "display_data"
    },
    {
     "name": "stdout",
     "output_type": "stream",
     "text": [
      "{'eval_loss': 0.3400638997554779, 'eval_auc': 0.7929184549356224, 'eval_runtime': 0.028, 'eval_samples_per_second': 9607.185, 'eval_steps_per_second': 321.43, 'epoch': 7.0}\n",
      "{'loss': 0.3674, 'grad_norm': 0.21590176224708557, 'learning_rate': 0.001, 'epoch': 8.0}\n"
     ]
    },
    {
     "data": {
      "application/vnd.jupyter.widget-view+json": {
       "model_id": "3f59fc8b64e3433586e54d1496798a13",
       "version_major": 2,
       "version_minor": 0
      },
      "text/plain": [
       "  0%|          | 0/9 [00:00<?, ?it/s]"
      ]
     },
     "metadata": {},
     "output_type": "display_data"
    },
    {
     "name": "stdout",
     "output_type": "stream",
     "text": [
      "{'eval_loss': 0.32891854643821716, 'eval_auc': 0.8079399141630902, 'eval_runtime': 0.0282, 'eval_samples_per_second': 9527.438, 'eval_steps_per_second': 318.762, 'epoch': 8.0}\n",
      "{'loss': 0.3572, 'grad_norm': 0.22488732635974884, 'learning_rate': 0.001, 'epoch': 9.0}\n"
     ]
    },
    {
     "data": {
      "application/vnd.jupyter.widget-view+json": {
       "model_id": "2d96e626750e4172acf5489f7160a227",
       "version_major": 2,
       "version_minor": 0
      },
      "text/plain": [
       "  0%|          | 0/9 [00:00<?, ?it/s]"
      ]
     },
     "metadata": {},
     "output_type": "display_data"
    },
    {
     "name": "stdout",
     "output_type": "stream",
     "text": [
      "{'eval_loss': 0.31815603375434875, 'eval_auc': 0.8214115402956604, 'eval_runtime': 0.027, 'eval_samples_per_second': 9961.662, 'eval_steps_per_second': 333.29, 'epoch': 9.0}\n",
      "{'loss': 0.3456, 'grad_norm': 0.2301149219274521, 'learning_rate': 0.001, 'epoch': 10.0}\n"
     ]
    },
    {
     "data": {
      "application/vnd.jupyter.widget-view+json": {
       "model_id": "0b7bd5a9cd6542a29426de51881b1418",
       "version_major": 2,
       "version_minor": 0
      },
      "text/plain": [
       "  0%|          | 0/9 [00:00<?, ?it/s]"
      ]
     },
     "metadata": {},
     "output_type": "display_data"
    },
    {
     "name": "stdout",
     "output_type": "stream",
     "text": [
      "{'eval_loss': 0.30996671319007874, 'eval_auc': 0.8254649499284693, 'eval_runtime': 0.031, 'eval_samples_per_second': 8677.448, 'eval_steps_per_second': 290.324, 'epoch': 10.0}\n",
      "{'loss': 0.3443, 'grad_norm': 0.25102168321609497, 'learning_rate': 0.001, 'epoch': 11.0}\n"
     ]
    },
    {
     "data": {
      "application/vnd.jupyter.widget-view+json": {
       "model_id": "750132cc45ba433ba60490738cfc16a7",
       "version_major": 2,
       "version_minor": 0
      },
      "text/plain": [
       "  0%|          | 0/9 [00:00<?, ?it/s]"
      ]
     },
     "metadata": {},
     "output_type": "display_data"
    },
    {
     "name": "stdout",
     "output_type": "stream",
     "text": [
      "{'eval_loss': 0.30289700627326965, 'eval_auc': 0.8346447305674773, 'eval_runtime': 0.025, 'eval_samples_per_second': 10759.959, 'eval_steps_per_second': 359.999, 'epoch': 11.0}\n",
      "{'loss': 0.3236, 'grad_norm': 0.26803770661354065, 'learning_rate': 0.001, 'epoch': 12.0}\n"
     ]
    },
    {
     "data": {
      "application/vnd.jupyter.widget-view+json": {
       "model_id": "675df1fd26ea4942835adcc6962e697b",
       "version_major": 2,
       "version_minor": 0
      },
      "text/plain": [
       "  0%|          | 0/9 [00:00<?, ?it/s]"
      ]
     },
     "metadata": {},
     "output_type": "display_data"
    },
    {
     "name": "stdout",
     "output_type": "stream",
     "text": [
      "{'eval_loss': 0.29501020908355713, 'eval_auc': 0.8384597043395327, 'eval_runtime': 0.027, 'eval_samples_per_second': 9963.245, 'eval_steps_per_second': 333.343, 'epoch': 12.0}\n",
      "{'loss': 0.3233, 'grad_norm': 0.2785767614841461, 'learning_rate': 0.0001, 'epoch': 13.0}\n"
     ]
    },
    {
     "data": {
      "application/vnd.jupyter.widget-view+json": {
       "model_id": "13b48f3b65094a9987bd2ddceb9df9d7",
       "version_major": 2,
       "version_minor": 0
      },
      "text/plain": [
       "  0%|          | 0/9 [00:00<?, ?it/s]"
      ]
     },
     "metadata": {},
     "output_type": "display_data"
    },
    {
     "name": "stdout",
     "output_type": "stream",
     "text": [
      "{'eval_loss': 0.2943804860115051, 'eval_auc': 0.8384597043395327, 'eval_runtime': 0.025, 'eval_samples_per_second': 10761.396, 'eval_steps_per_second': 360.047, 'epoch': 13.0}\n",
      "{'loss': 0.3212, 'grad_norm': 0.2890479564666748, 'learning_rate': 0.0001, 'epoch': 14.0}\n"
     ]
    },
    {
     "data": {
      "application/vnd.jupyter.widget-view+json": {
       "model_id": "6c1b68c0f1d54e298a6265f4bf7a5ef5",
       "version_major": 2,
       "version_minor": 0
      },
      "text/plain": [
       "  0%|          | 0/9 [00:00<?, ?it/s]"
      ]
     },
     "metadata": {},
     "output_type": "display_data"
    },
    {
     "name": "stdout",
     "output_type": "stream",
     "text": [
      "{'eval_loss': 0.29381194710731506, 'eval_auc': 0.8392942298521697, 'eval_runtime': 0.041, 'eval_samples_per_second': 6561.222, 'eval_steps_per_second': 219.52, 'epoch': 14.0}\n",
      "{'loss': 0.3275, 'grad_norm': 0.26530691981315613, 'learning_rate': 0.0001, 'epoch': 15.0}\n"
     ]
    },
    {
     "data": {
      "application/vnd.jupyter.widget-view+json": {
       "model_id": "63ea670d11a2499cb12f3da2d0caac2d",
       "version_major": 2,
       "version_minor": 0
      },
      "text/plain": [
       "  0%|          | 0/9 [00:00<?, ?it/s]"
      ]
     },
     "metadata": {},
     "output_type": "display_data"
    },
    {
     "name": "stdout",
     "output_type": "stream",
     "text": [
      "{'eval_loss': 0.29340821504592896, 'eval_auc': 0.8392942298521697, 'eval_runtime': 0.027, 'eval_samples_per_second': 9962.805, 'eval_steps_per_second': 333.328, 'epoch': 15.0}\n",
      "{'loss': 0.3254, 'grad_norm': 0.3439389169216156, 'learning_rate': 0.0001, 'epoch': 16.0}\n"
     ]
    },
    {
     "data": {
      "application/vnd.jupyter.widget-view+json": {
       "model_id": "66c622e5333443a489ae85ed7612f642",
       "version_major": 2,
       "version_minor": 0
      },
      "text/plain": [
       "  0%|          | 0/9 [00:00<?, ?it/s]"
      ]
     },
     "metadata": {},
     "output_type": "display_data"
    },
    {
     "name": "stdout",
     "output_type": "stream",
     "text": [
      "{'eval_loss': 0.2930430769920349, 'eval_auc': 0.8401287553648069, 'eval_runtime': 0.029, 'eval_samples_per_second': 9276.077, 'eval_steps_per_second': 310.352, 'epoch': 16.0}\n",
      "{'loss': 0.3252, 'grad_norm': 0.38646990060806274, 'learning_rate': 0.0001, 'epoch': 17.0}\n"
     ]
    },
    {
     "data": {
      "application/vnd.jupyter.widget-view+json": {
       "model_id": "3e444eed8db946e59371f647ccceac9c",
       "version_major": 2,
       "version_minor": 0
      },
      "text/plain": [
       "  0%|          | 0/9 [00:00<?, ?it/s]"
      ]
     },
     "metadata": {},
     "output_type": "display_data"
    },
    {
     "name": "stdout",
     "output_type": "stream",
     "text": [
      "{'eval_loss': 0.29285722970962524, 'eval_auc': 0.840486409155937, 'eval_runtime': 0.026, 'eval_samples_per_second': 10345.67, 'eval_steps_per_second': 346.138, 'epoch': 17.0}\n",
      "{'loss': 0.33, 'grad_norm': 0.9767679572105408, 'learning_rate': 0.0001, 'epoch': 18.0}\n"
     ]
    },
    {
     "data": {
      "application/vnd.jupyter.widget-view+json": {
       "model_id": "3af45b0f6f9e47858bc4437c834d8022",
       "version_major": 2,
       "version_minor": 0
      },
      "text/plain": [
       "  0%|          | 0/9 [00:00<?, ?it/s]"
      ]
     },
     "metadata": {},
     "output_type": "display_data"
    },
    {
     "name": "stdout",
     "output_type": "stream",
     "text": [
      "{'eval_loss': 0.29244089126586914, 'eval_auc': 0.8403671912255604, 'eval_runtime': 0.027, 'eval_samples_per_second': 9963.333, 'eval_steps_per_second': 333.346, 'epoch': 18.0}\n",
      "{'loss': 0.3199, 'grad_norm': 0.28472983837127686, 'learning_rate': 0.0001, 'epoch': 19.0}\n"
     ]
    },
    {
     "data": {
      "application/vnd.jupyter.widget-view+json": {
       "model_id": "074e27db7e3b49608d26fd10c40cbafc",
       "version_major": 2,
       "version_minor": 0
      },
      "text/plain": [
       "  0%|          | 0/9 [00:00<?, ?it/s]"
      ]
     },
     "metadata": {},
     "output_type": "display_data"
    },
    {
     "name": "stdout",
     "output_type": "stream",
     "text": [
      "{'eval_loss': 0.2921961843967438, 'eval_auc': 0.8408440629470673, 'eval_runtime': 0.028, 'eval_samples_per_second': 9606.776, 'eval_steps_per_second': 321.416, 'epoch': 19.0}\n",
      "{'loss': 0.3251, 'grad_norm': 0.30794671177864075, 'learning_rate': 0.0001, 'epoch': 20.0}\n"
     ]
    },
    {
     "data": {
      "application/vnd.jupyter.widget-view+json": {
       "model_id": "619da5a6ad6c4da2bb7728deab0ae729",
       "version_major": 2,
       "version_minor": 0
      },
      "text/plain": [
       "  0%|          | 0/9 [00:00<?, ?it/s]"
      ]
     },
     "metadata": {},
     "output_type": "display_data"
    },
    {
     "name": "stdout",
     "output_type": "stream",
     "text": [
      "{'eval_loss': 0.2919117510318756, 'eval_auc': 0.8407248450166905, 'eval_runtime': 0.031, 'eval_samples_per_second': 8678.449, 'eval_steps_per_second': 290.357, 'epoch': 20.0}\n",
      "{'loss': 0.3294, 'grad_norm': 0.42205923795700073, 'learning_rate': 0.0001, 'epoch': 21.0}\n"
     ]
    },
    {
     "data": {
      "application/vnd.jupyter.widget-view+json": {
       "model_id": "c4e28d06244142e3903cb589489d45c1",
       "version_major": 2,
       "version_minor": 0
      },
      "text/plain": [
       "  0%|          | 0/9 [00:00<?, ?it/s]"
      ]
     },
     "metadata": {},
     "output_type": "display_data"
    },
    {
     "name": "stdout",
     "output_type": "stream",
     "text": [
      "{'eval_loss': 0.29173964262008667, 'eval_auc': 0.8416785884597044, 'eval_runtime': 0.025, 'eval_samples_per_second': 10760.472, 'eval_steps_per_second': 360.016, 'epoch': 21.0}\n",
      "{'loss': 0.3238, 'grad_norm': 0.27276259660720825, 'learning_rate': 0.0001, 'epoch': 22.0}\n"
     ]
    },
    {
     "data": {
      "application/vnd.jupyter.widget-view+json": {
       "model_id": "8e6655636e72476b8b6cc3df90910e4c",
       "version_major": 2,
       "version_minor": 0
      },
      "text/plain": [
       "  0%|          | 0/9 [00:00<?, ?it/s]"
      ]
     },
     "metadata": {},
     "output_type": "display_data"
    },
    {
     "name": "stdout",
     "output_type": "stream",
     "text": [
      "{'eval_loss': 0.2913646996021271, 'eval_auc': 0.8421554601812112, 'eval_runtime': 0.028, 'eval_samples_per_second': 9606.694, 'eval_steps_per_second': 321.414, 'epoch': 22.0}\n",
      "{'loss': 0.3213, 'grad_norm': 0.45504146814346313, 'learning_rate': 0.0001, 'epoch': 23.0}\n"
     ]
    },
    {
     "data": {
      "application/vnd.jupyter.widget-view+json": {
       "model_id": "94751d3369c941b694b68e73084ef339",
       "version_major": 2,
       "version_minor": 0
      },
      "text/plain": [
       "  0%|          | 0/9 [00:00<?, ?it/s]"
      ]
     },
     "metadata": {},
     "output_type": "display_data"
    },
    {
     "name": "stdout",
     "output_type": "stream",
     "text": [
      "{'eval_loss': 0.29095473885536194, 'eval_auc': 0.8421554601812112, 'eval_runtime': 0.027, 'eval_samples_per_second': 9962.717, 'eval_steps_per_second': 333.325, 'epoch': 23.0}\n",
      "{'loss': 0.3208, 'grad_norm': 0.34583181142807007, 'learning_rate': 1e-05, 'epoch': 24.0}\n"
     ]
    },
    {
     "data": {
      "application/vnd.jupyter.widget-view+json": {
       "model_id": "90804df3cbd14afa8e8f5a1bdb200ce8",
       "version_major": 2,
       "version_minor": 0
      },
      "text/plain": [
       "  0%|          | 0/9 [00:00<?, ?it/s]"
      ]
     },
     "metadata": {},
     "output_type": "display_data"
    },
    {
     "name": "stdout",
     "output_type": "stream",
     "text": [
      "{'eval_loss': 0.2909161448478699, 'eval_auc': 0.8421554601812112, 'eval_runtime': 0.025, 'eval_samples_per_second': 10760.985, 'eval_steps_per_second': 360.033, 'epoch': 24.0}\n",
      "{'loss': 0.3189, 'grad_norm': 0.40577349066734314, 'learning_rate': 1e-05, 'epoch': 25.0}\n"
     ]
    },
    {
     "data": {
      "application/vnd.jupyter.widget-view+json": {
       "model_id": "b4146d6c474442c7ab0f78177d23a35b",
       "version_major": 2,
       "version_minor": 0
      },
      "text/plain": [
       "  0%|          | 0/9 [00:00<?, ?it/s]"
      ]
     },
     "metadata": {},
     "output_type": "display_data"
    },
    {
     "name": "stdout",
     "output_type": "stream",
     "text": [
      "{'eval_loss': 0.2908831834793091, 'eval_auc': 0.8421554601812112, 'eval_runtime': 0.028, 'eval_samples_per_second': 9608.248, 'eval_steps_per_second': 321.466, 'epoch': 25.0}\n",
      "{'loss': 0.3246, 'grad_norm': 0.29304632544517517, 'learning_rate': 1e-05, 'epoch': 26.0}\n"
     ]
    },
    {
     "data": {
      "application/vnd.jupyter.widget-view+json": {
       "model_id": "2d2ba391b5e540b7b63f4267dd424229",
       "version_major": 2,
       "version_minor": 0
      },
      "text/plain": [
       "  0%|          | 0/9 [00:00<?, ?it/s]"
      ]
     },
     "metadata": {},
     "output_type": "display_data"
    },
    {
     "name": "stdout",
     "output_type": "stream",
     "text": [
      "{'eval_loss': 0.2908420264720917, 'eval_auc': 0.8420362422508346, 'eval_runtime': 0.027, 'eval_samples_per_second': 9962.453, 'eval_steps_per_second': 333.316, 'epoch': 26.0}\n",
      "{'loss': 0.3143, 'grad_norm': 0.703245222568512, 'learning_rate': 1e-05, 'epoch': 27.0}\n"
     ]
    },
    {
     "data": {
      "application/vnd.jupyter.widget-view+json": {
       "model_id": "3386bd1a2afb480386adbca7f430f509",
       "version_major": 2,
       "version_minor": 0
      },
      "text/plain": [
       "  0%|          | 0/9 [00:00<?, ?it/s]"
      ]
     },
     "metadata": {},
     "output_type": "display_data"
    },
    {
     "name": "stdout",
     "output_type": "stream",
     "text": [
      "{'eval_loss': 0.29078882932662964, 'eval_auc': 0.8420362422508346, 'eval_runtime': 0.03, 'eval_samples_per_second': 8966.39, 'eval_steps_per_second': 299.991, 'epoch': 27.0}\n",
      "{'loss': 0.314, 'grad_norm': 0.36058130860328674, 'learning_rate': 1e-05, 'epoch': 28.0}\n"
     ]
    },
    {
     "data": {
      "application/vnd.jupyter.widget-view+json": {
       "model_id": "83630d5eef384ebebe6e2463fb0abd21",
       "version_major": 2,
       "version_minor": 0
      },
      "text/plain": [
       "  0%|          | 0/9 [00:00<?, ?it/s]"
      ]
     },
     "metadata": {},
     "output_type": "display_data"
    },
    {
     "name": "stdout",
     "output_type": "stream",
     "text": [
      "{'eval_loss': 0.29075342416763306, 'eval_auc': 0.8420362422508346, 'eval_runtime': 0.027, 'eval_samples_per_second': 9962.981, 'eval_steps_per_second': 333.334, 'epoch': 28.0}\n",
      "{'loss': 0.3185, 'grad_norm': 0.2869873344898224, 'learning_rate': 1e-05, 'epoch': 29.0}\n"
     ]
    },
    {
     "data": {
      "application/vnd.jupyter.widget-view+json": {
       "model_id": "b47762557e034a4591b1099ea89eb996",
       "version_major": 2,
       "version_minor": 0
      },
      "text/plain": [
       "  0%|          | 0/9 [00:00<?, ?it/s]"
      ]
     },
     "metadata": {},
     "output_type": "display_data"
    },
    {
     "name": "stdout",
     "output_type": "stream",
     "text": [
      "{'eval_loss': 0.2907239496707916, 'eval_auc': 0.8420362422508346, 'eval_runtime': 0.027, 'eval_samples_per_second': 9962.453, 'eval_steps_per_second': 333.316, 'epoch': 29.0}\n",
      "{'loss': 0.3253, 'grad_norm': 0.342040091753006, 'learning_rate': 1e-05, 'epoch': 30.0}\n"
     ]
    },
    {
     "data": {
      "application/vnd.jupyter.widget-view+json": {
       "model_id": "10d1f8eabf2649daa87d5f8e91c3bce5",
       "version_major": 2,
       "version_minor": 0
      },
      "text/plain": [
       "  0%|          | 0/9 [00:00<?, ?it/s]"
      ]
     },
     "metadata": {},
     "output_type": "display_data"
    },
    {
     "name": "stdout",
     "output_type": "stream",
     "text": [
      "{'eval_loss': 0.2907012104988098, 'eval_auc': 0.8420362422508346, 'eval_runtime': 0.026, 'eval_samples_per_second': 10346.24, 'eval_steps_per_second': 346.157, 'epoch': 30.0}\n",
      "{'loss': 0.3178, 'grad_norm': 0.26181933283805847, 'learning_rate': 1e-05, 'epoch': 31.0}\n"
     ]
    },
    {
     "data": {
      "application/vnd.jupyter.widget-view+json": {
       "model_id": "0d785cfe3e604cbfacb2896b962daa28",
       "version_major": 2,
       "version_minor": 0
      },
      "text/plain": [
       "  0%|          | 0/9 [00:00<?, ?it/s]"
      ]
     },
     "metadata": {},
     "output_type": "display_data"
    },
    {
     "name": "stdout",
     "output_type": "stream",
     "text": [
      "{'eval_loss': 0.29066771268844604, 'eval_auc': 0.8421554601812113, 'eval_runtime': 0.031, 'eval_samples_per_second': 8677.247, 'eval_steps_per_second': 290.317, 'epoch': 31.0}\n",
      "{'loss': 0.3182, 'grad_norm': 0.26158884167671204, 'learning_rate': 1e-05, 'epoch': 32.0}\n"
     ]
    },
    {
     "data": {
      "application/vnd.jupyter.widget-view+json": {
       "model_id": "b20faca4f6954eab9f48f77566453d46",
       "version_major": 2,
       "version_minor": 0
      },
      "text/plain": [
       "  0%|          | 0/9 [00:00<?, ?it/s]"
      ]
     },
     "metadata": {},
     "output_type": "display_data"
    },
    {
     "name": "stdout",
     "output_type": "stream",
     "text": [
      "{'eval_loss': 0.29064157605171204, 'eval_auc': 0.8421554601812113, 'eval_runtime': 0.027, 'eval_samples_per_second': 9961.926, 'eval_steps_per_second': 333.299, 'epoch': 32.0}\n",
      "{'loss': 0.327, 'grad_norm': 0.34857383370399475, 'learning_rate': 1e-05, 'epoch': 33.0}\n"
     ]
    },
    {
     "data": {
      "application/vnd.jupyter.widget-view+json": {
       "model_id": "127356525d4b4db38673feac2f2e7577",
       "version_major": 2,
       "version_minor": 0
      },
      "text/plain": [
       "  0%|          | 0/9 [00:00<?, ?it/s]"
      ]
     },
     "metadata": {},
     "output_type": "display_data"
    },
    {
     "name": "stdout",
     "output_type": "stream",
     "text": [
      "{'eval_loss': 0.2906181812286377, 'eval_auc': 0.842274678111588, 'eval_runtime': 0.027, 'eval_samples_per_second': 9962.19, 'eval_steps_per_second': 333.307, 'epoch': 33.0}\n",
      "{'loss': 0.32, 'grad_norm': 0.25624406337738037, 'learning_rate': 1e-05, 'epoch': 34.0}\n"
     ]
    },
    {
     "data": {
      "application/vnd.jupyter.widget-view+json": {
       "model_id": "642c1e446e1f4f70958ffa92e402687f",
       "version_major": 2,
       "version_minor": 0
      },
      "text/plain": [
       "  0%|          | 0/9 [00:00<?, ?it/s]"
      ]
     },
     "metadata": {},
     "output_type": "display_data"
    },
    {
     "name": "stdout",
     "output_type": "stream",
     "text": [
      "{'eval_loss': 0.290592223405838, 'eval_auc': 0.842274678111588, 'eval_runtime': 0.029, 'eval_samples_per_second': 9275.619, 'eval_steps_per_second': 310.337, 'epoch': 34.0}\n",
      "{'loss': 0.3195, 'grad_norm': 0.3287242650985718, 'learning_rate': 1.0000000000000002e-06, 'epoch': 35.0}\n"
     ]
    },
    {
     "data": {
      "application/vnd.jupyter.widget-view+json": {
       "model_id": "0c645de62e1e4b16901d52b362f9cc2a",
       "version_major": 2,
       "version_minor": 0
      },
      "text/plain": [
       "  0%|          | 0/9 [00:00<?, ?it/s]"
      ]
     },
     "metadata": {},
     "output_type": "display_data"
    },
    {
     "name": "stdout",
     "output_type": "stream",
     "text": [
      "{'eval_loss': 0.29059073328971863, 'eval_auc': 0.842274678111588, 'eval_runtime': 0.028, 'eval_samples_per_second': 9606.449, 'eval_steps_per_second': 321.405, 'epoch': 35.0}\n",
      "{'loss': 0.319, 'grad_norm': 0.5124474763870239, 'learning_rate': 1.0000000000000002e-06, 'epoch': 36.0}\n"
     ]
    },
    {
     "data": {
      "application/vnd.jupyter.widget-view+json": {
       "model_id": "a867ae6a04d4433584ed197b6a2c5eb6",
       "version_major": 2,
       "version_minor": 0
      },
      "text/plain": [
       "  0%|          | 0/9 [00:00<?, ?it/s]"
      ]
     },
     "metadata": {},
     "output_type": "display_data"
    },
    {
     "name": "stdout",
     "output_type": "stream",
     "text": [
      "{'eval_loss': 0.2905861437320709, 'eval_auc': 0.842274678111588, 'eval_runtime': 0.038, 'eval_samples_per_second': 7078.883, 'eval_steps_per_second': 236.84, 'epoch': 36.0}\n",
      "{'loss': 0.3187, 'grad_norm': 0.4080304503440857, 'learning_rate': 1.0000000000000002e-06, 'epoch': 37.0}\n"
     ]
    },
    {
     "data": {
      "application/vnd.jupyter.widget-view+json": {
       "model_id": "65cca5f5a9534c20ace59b04c6cafe96",
       "version_major": 2,
       "version_minor": 0
      },
      "text/plain": [
       "  0%|          | 0/9 [00:00<?, ?it/s]"
      ]
     },
     "metadata": {},
     "output_type": "display_data"
    },
    {
     "name": "stdout",
     "output_type": "stream",
     "text": [
      "{'eval_loss': 0.290583074092865, 'eval_auc': 0.842274678111588, 'eval_runtime': 0.029, 'eval_samples_per_second': 9276.229, 'eval_steps_per_second': 310.357, 'epoch': 37.0}\n",
      "{'loss': 0.3168, 'grad_norm': 0.2519524097442627, 'learning_rate': 1.0000000000000002e-06, 'epoch': 38.0}\n"
     ]
    },
    {
     "data": {
      "application/vnd.jupyter.widget-view+json": {
       "model_id": "1d39a1601f984ba1860d57317b0d02a1",
       "version_major": 2,
       "version_minor": 0
      },
      "text/plain": [
       "  0%|          | 0/9 [00:00<?, ?it/s]"
      ]
     },
     "metadata": {},
     "output_type": "display_data"
    },
    {
     "name": "stdout",
     "output_type": "stream",
     "text": [
      "{'eval_loss': 0.2905809283256531, 'eval_auc': 0.842274678111588, 'eval_runtime': 0.027, 'eval_samples_per_second': 9961.574, 'eval_steps_per_second': 333.287, 'epoch': 38.0}\n",
      "{'loss': 0.3164, 'grad_norm': 0.31445494294166565, 'learning_rate': 1.0000000000000002e-06, 'epoch': 39.0}\n"
     ]
    },
    {
     "data": {
      "application/vnd.jupyter.widget-view+json": {
       "model_id": "3d6420310cf445fe83dea755150863b8",
       "version_major": 2,
       "version_minor": 0
      },
      "text/plain": [
       "  0%|          | 0/9 [00:00<?, ?it/s]"
      ]
     },
     "metadata": {},
     "output_type": "display_data"
    },
    {
     "name": "stdout",
     "output_type": "stream",
     "text": [
      "{'eval_loss': 0.29057765007019043, 'eval_auc': 0.842274678111588, 'eval_runtime': 0.028, 'eval_samples_per_second': 9607.267, 'eval_steps_per_second': 321.433, 'epoch': 39.0}\n",
      "{'loss': 0.3241, 'grad_norm': 0.38108792901039124, 'learning_rate': 1.0000000000000002e-06, 'epoch': 40.0}\n"
     ]
    },
    {
     "data": {
      "application/vnd.jupyter.widget-view+json": {
       "model_id": "9c2e12b6eb7d4366807ee6158d945653",
       "version_major": 2,
       "version_minor": 0
      },
      "text/plain": [
       "  0%|          | 0/9 [00:00<?, ?it/s]"
      ]
     },
     "metadata": {},
     "output_type": "display_data"
    },
    {
     "name": "stdout",
     "output_type": "stream",
     "text": [
      "{'eval_loss': 0.29057419300079346, 'eval_auc': 0.842274678111588, 'eval_runtime': 0.029, 'eval_samples_per_second': 9275.543, 'eval_steps_per_second': 310.334, 'epoch': 40.0}\n",
      "{'loss': 0.3171, 'grad_norm': 0.4707827866077423, 'learning_rate': 1.0000000000000002e-06, 'epoch': 41.0}\n"
     ]
    },
    {
     "data": {
      "application/vnd.jupyter.widget-view+json": {
       "model_id": "e18ef35cc9bc4b9398c77c59879e3d00",
       "version_major": 2,
       "version_minor": 0
      },
      "text/plain": [
       "  0%|          | 0/9 [00:00<?, ?it/s]"
      ]
     },
     "metadata": {},
     "output_type": "display_data"
    },
    {
     "name": "stdout",
     "output_type": "stream",
     "text": [
      "{'eval_loss': 0.2905712425708771, 'eval_auc': 0.842274678111588, 'eval_runtime': 0.028, 'eval_samples_per_second': 9607.185, 'eval_steps_per_second': 321.43, 'epoch': 41.0}\n",
      "{'loss': 0.3244, 'grad_norm': 0.36207491159439087, 'learning_rate': 1.0000000000000002e-06, 'epoch': 42.0}\n"
     ]
    },
    {
     "data": {
      "application/vnd.jupyter.widget-view+json": {
       "model_id": "dee96831ae5e4a06b06d997eb73d4a5e",
       "version_major": 2,
       "version_minor": 0
      },
      "text/plain": [
       "  0%|          | 0/9 [00:00<?, ?it/s]"
      ]
     },
     "metadata": {},
     "output_type": "display_data"
    },
    {
     "name": "stdout",
     "output_type": "stream",
     "text": [
      "{'eval_loss': 0.2905680537223816, 'eval_auc': 0.842274678111588, 'eval_runtime': 0.031, 'eval_samples_per_second': 8677.314, 'eval_steps_per_second': 290.319, 'epoch': 42.0}\n",
      "{'loss': 0.3217, 'grad_norm': 0.2636401653289795, 'learning_rate': 1.0000000000000002e-06, 'epoch': 43.0}\n"
     ]
    },
    {
     "data": {
      "application/vnd.jupyter.widget-view+json": {
       "model_id": "0d19ce8cc4c94dfaa1ee04a98d54a6ec",
       "version_major": 2,
       "version_minor": 0
      },
      "text/plain": [
       "  0%|          | 0/9 [00:00<?, ?it/s]"
      ]
     },
     "metadata": {},
     "output_type": "display_data"
    },
    {
     "name": "stdout",
     "output_type": "stream",
     "text": [
      "{'eval_loss': 0.29056596755981445, 'eval_auc': 0.842274678111588, 'eval_runtime': 0.028, 'eval_samples_per_second': 9607.594, 'eval_steps_per_second': 321.444, 'epoch': 43.0}\n",
      "{'train_runtime': 8.3808, 'train_samples_per_second': 12826.932, 'train_steps_per_second': 405.689, 'train_loss': 0.344458820718747, 'epoch': 43.0}\n"
     ]
    },
    {
     "data": {
      "application/vnd.jupyter.widget-view+json": {
       "model_id": "0c808f78770444b583e55c616baadff2",
       "version_major": 2,
       "version_minor": 0
      },
      "text/plain": [
       "  0%|          | 0/3400 [00:00<?, ?it/s]"
      ]
     },
     "metadata": {},
     "output_type": "display_data"
    },
    {
     "name": "stdout",
     "output_type": "stream",
     "text": [
      "{'loss': 0.6007, 'grad_norm': 0.21411705017089844, 'learning_rate': 0.001, 'epoch': 1.0}\n"
     ]
    },
    {
     "data": {
      "application/vnd.jupyter.widget-view+json": {
       "model_id": "0149ce2d26694dfa9b39cffd95bab03c",
       "version_major": 2,
       "version_minor": 0
      },
      "text/plain": [
       "  0%|          | 0/9 [00:00<?, ?it/s]"
      ]
     },
     "metadata": {},
     "output_type": "display_data"
    },
    {
     "name": "stdout",
     "output_type": "stream",
     "text": [
      "{'eval_loss': 0.5442813038825989, 'eval_auc': 0.4365079365079365, 'eval_runtime': 0.027, 'eval_samples_per_second': 9962.278, 'eval_steps_per_second': 333.31, 'epoch': 1.0}\n",
      "{'loss': 0.5088, 'grad_norm': 0.34969303011894226, 'learning_rate': 0.001, 'epoch': 2.0}\n"
     ]
    },
    {
     "data": {
      "application/vnd.jupyter.widget-view+json": {
       "model_id": "2308836c67bd41f59d8fb04fe787d305",
       "version_major": 2,
       "version_minor": 0
      },
      "text/plain": [
       "  0%|          | 0/9 [00:00<?, ?it/s]"
      ]
     },
     "metadata": {},
     "output_type": "display_data"
    },
    {
     "name": "stdout",
     "output_type": "stream",
     "text": [
      "{'eval_loss': 0.43698710203170776, 'eval_auc': 0.5534798534798535, 'eval_runtime': 0.031, 'eval_samples_per_second': 8677.247, 'eval_steps_per_second': 290.317, 'epoch': 2.0}\n",
      "{'loss': 0.4385, 'grad_norm': 0.34250181913375854, 'learning_rate': 0.001, 'epoch': 3.0}\n"
     ]
    },
    {
     "data": {
      "application/vnd.jupyter.widget-view+json": {
       "model_id": "c6155a64695143ea92c66594a58d5a93",
       "version_major": 2,
       "version_minor": 0
      },
      "text/plain": [
       "  0%|          | 0/9 [00:00<?, ?it/s]"
      ]
     },
     "metadata": {},
     "output_type": "display_data"
    },
    {
     "name": "stdout",
     "output_type": "stream",
     "text": [
      "{'eval_loss': 0.3805520236492157, 'eval_auc': 0.6921855921855922, 'eval_runtime': 0.027, 'eval_samples_per_second': 9963.597, 'eval_steps_per_second': 333.355, 'epoch': 3.0}\n",
      "{'loss': 0.4045, 'grad_norm': 0.18349561095237732, 'learning_rate': 0.001, 'epoch': 4.0}\n"
     ]
    },
    {
     "data": {
      "application/vnd.jupyter.widget-view+json": {
       "model_id": "57003eb0145843b3b341b320d7ecc067",
       "version_major": 2,
       "version_minor": 0
      },
      "text/plain": [
       "  0%|          | 0/9 [00:00<?, ?it/s]"
      ]
     },
     "metadata": {},
     "output_type": "display_data"
    },
    {
     "name": "stdout",
     "output_type": "stream",
     "text": [
      "{'eval_loss': 0.3645758330821991, 'eval_auc': 0.742979242979243, 'eval_runtime': 0.031, 'eval_samples_per_second': 8676.714, 'eval_steps_per_second': 290.299, 'epoch': 4.0}\n",
      "{'loss': 0.3955, 'grad_norm': 0.2970419228076935, 'learning_rate': 0.001, 'epoch': 5.0}\n"
     ]
    },
    {
     "data": {
      "application/vnd.jupyter.widget-view+json": {
       "model_id": "6a46f5ff7c37473fa8d5c2f8f3648849",
       "version_major": 2,
       "version_minor": 0
      },
      "text/plain": [
       "  0%|          | 0/9 [00:00<?, ?it/s]"
      ]
     },
     "metadata": {},
     "output_type": "display_data"
    },
    {
     "name": "stdout",
     "output_type": "stream",
     "text": [
      "{'eval_loss': 0.3533629775047302, 'eval_auc': 0.7540903540903541, 'eval_runtime': 0.029, 'eval_samples_per_second': 9276.763, 'eval_steps_per_second': 310.375, 'epoch': 5.0}\n",
      "{'loss': 0.3699, 'grad_norm': 0.24552224576473236, 'learning_rate': 0.001, 'epoch': 6.0}\n"
     ]
    },
    {
     "data": {
      "application/vnd.jupyter.widget-view+json": {
       "model_id": "4e904375a68e43a799b6415bb03c243d",
       "version_major": 2,
       "version_minor": 0
      },
      "text/plain": [
       "  0%|          | 0/9 [00:00<?, ?it/s]"
      ]
     },
     "metadata": {},
     "output_type": "display_data"
    },
    {
     "name": "stdout",
     "output_type": "stream",
     "text": [
      "{'eval_loss': 0.3444630205631256, 'eval_auc': 0.7578754578754578, 'eval_runtime': 0.03, 'eval_samples_per_second': 8966.034, 'eval_steps_per_second': 299.979, 'epoch': 6.0}\n",
      "{'loss': 0.3618, 'grad_norm': 0.3838513493537903, 'learning_rate': 0.001, 'epoch': 7.0}\n"
     ]
    },
    {
     "data": {
      "application/vnd.jupyter.widget-view+json": {
       "model_id": "1dc69353213442e3935df560fa1789d7",
       "version_major": 2,
       "version_minor": 0
      },
      "text/plain": [
       "  0%|          | 0/9 [00:00<?, ?it/s]"
      ]
     },
     "metadata": {},
     "output_type": "display_data"
    },
    {
     "name": "stdout",
     "output_type": "stream",
     "text": [
      "{'eval_loss': 0.3369000256061554, 'eval_auc': 0.763980463980464, 'eval_runtime': 0.032, 'eval_samples_per_second': 8406.17, 'eval_steps_per_second': 281.247, 'epoch': 7.0}\n",
      "{'loss': 0.3547, 'grad_norm': 0.41746804118156433, 'learning_rate': 0.001, 'epoch': 8.0}\n"
     ]
    },
    {
     "data": {
      "application/vnd.jupyter.widget-view+json": {
       "model_id": "2d08adca77f542978d45a366ff7669c5",
       "version_major": 2,
       "version_minor": 0
      },
      "text/plain": [
       "  0%|          | 0/9 [00:00<?, ?it/s]"
      ]
     },
     "metadata": {},
     "output_type": "display_data"
    },
    {
     "name": "stdout",
     "output_type": "stream",
     "text": [
      "{'eval_loss': 0.3310006856918335, 'eval_auc': 0.7716727716727716, 'eval_runtime': 0.028, 'eval_samples_per_second': 9606.939, 'eval_steps_per_second': 321.422, 'epoch': 8.0}\n",
      "{'loss': 0.3357, 'grad_norm': 0.26023125648498535, 'learning_rate': 0.001, 'epoch': 9.0}\n"
     ]
    },
    {
     "data": {
      "application/vnd.jupyter.widget-view+json": {
       "model_id": "ab9b9fd901ee463e9b44dd2d7dc0f365",
       "version_major": 2,
       "version_minor": 0
      },
      "text/plain": [
       "  0%|          | 0/9 [00:00<?, ?it/s]"
      ]
     },
     "metadata": {},
     "output_type": "display_data"
    },
    {
     "name": "stdout",
     "output_type": "stream",
     "text": [
      "{'eval_loss': 0.32553887367248535, 'eval_auc': 0.7818070818070818, 'eval_runtime': 0.028, 'eval_samples_per_second': 9606.694, 'eval_steps_per_second': 321.414, 'epoch': 9.0}\n",
      "{'loss': 0.3325, 'grad_norm': 0.42028331756591797, 'learning_rate': 0.001, 'epoch': 10.0}\n"
     ]
    },
    {
     "data": {
      "application/vnd.jupyter.widget-view+json": {
       "model_id": "594f85fb6f5a47ab80a91fef96f42ccb",
       "version_major": 2,
       "version_minor": 0
      },
      "text/plain": [
       "  0%|          | 0/9 [00:00<?, ?it/s]"
      ]
     },
     "metadata": {},
     "output_type": "display_data"
    },
    {
     "name": "stdout",
     "output_type": "stream",
     "text": [
      "{'eval_loss': 0.3221527934074402, 'eval_auc': 0.7875457875457876, 'eval_runtime': 0.029, 'eval_samples_per_second': 9275.162, 'eval_steps_per_second': 310.321, 'epoch': 10.0}\n",
      "{'loss': 0.3367, 'grad_norm': 0.2843736708164215, 'learning_rate': 0.001, 'epoch': 11.0}\n"
     ]
    },
    {
     "data": {
      "application/vnd.jupyter.widget-view+json": {
       "model_id": "ab3d3482d356486995e428a397bef309",
       "version_major": 2,
       "version_minor": 0
      },
      "text/plain": [
       "  0%|          | 0/9 [00:00<?, ?it/s]"
      ]
     },
     "metadata": {},
     "output_type": "display_data"
    },
    {
     "name": "stdout",
     "output_type": "stream",
     "text": [
      "{'eval_loss': 0.31964555382728577, 'eval_auc': 0.7925518925518925, 'eval_runtime': 0.027, 'eval_samples_per_second': 9963.509, 'eval_steps_per_second': 333.352, 'epoch': 11.0}\n",
      "{'loss': 0.3262, 'grad_norm': 0.3426964282989502, 'learning_rate': 0.001, 'epoch': 12.0}\n"
     ]
    },
    {
     "data": {
      "application/vnd.jupyter.widget-view+json": {
       "model_id": "31d856f6f47645b483fe22f0579dc67c",
       "version_major": 2,
       "version_minor": 0
      },
      "text/plain": [
       "  0%|          | 0/9 [00:00<?, ?it/s]"
      ]
     },
     "metadata": {},
     "output_type": "display_data"
    },
    {
     "name": "stdout",
     "output_type": "stream",
     "text": [
      "{'eval_loss': 0.31577280163764954, 'eval_auc': 0.7970695970695971, 'eval_runtime': 0.027, 'eval_samples_per_second': 9962.893, 'eval_steps_per_second': 333.331, 'epoch': 12.0}\n",
      "{'loss': 0.3182, 'grad_norm': 0.48290619254112244, 'learning_rate': 0.0001, 'epoch': 13.0}\n"
     ]
    },
    {
     "data": {
      "application/vnd.jupyter.widget-view+json": {
       "model_id": "07880c3f9e724badbd6b30e5b001feb1",
       "version_major": 2,
       "version_minor": 0
      },
      "text/plain": [
       "  0%|          | 0/9 [00:00<?, ?it/s]"
      ]
     },
     "metadata": {},
     "output_type": "display_data"
    },
    {
     "name": "stdout",
     "output_type": "stream",
     "text": [
      "{'eval_loss': 0.31537699699401855, 'eval_auc': 0.798046398046398, 'eval_runtime': 0.028, 'eval_samples_per_second': 9607.267, 'eval_steps_per_second': 321.433, 'epoch': 13.0}\n",
      "{'loss': 0.3169, 'grad_norm': 0.2748687267303467, 'learning_rate': 0.0001, 'epoch': 14.0}\n"
     ]
    },
    {
     "data": {
      "application/vnd.jupyter.widget-view+json": {
       "model_id": "d36693d74e7e49228cace58097bc8efb",
       "version_major": 2,
       "version_minor": 0
      },
      "text/plain": [
       "  0%|          | 0/9 [00:00<?, ?it/s]"
      ]
     },
     "metadata": {},
     "output_type": "display_data"
    },
    {
     "name": "stdout",
     "output_type": "stream",
     "text": [
      "{'eval_loss': 0.31507018208503723, 'eval_auc': 0.7973137973137974, 'eval_runtime': 0.029, 'eval_samples_per_second': 9276.382, 'eval_steps_per_second': 310.362, 'epoch': 14.0}\n",
      "{'loss': 0.3196, 'grad_norm': 0.39880460500717163, 'learning_rate': 0.0001, 'epoch': 15.0}\n"
     ]
    },
    {
     "data": {
      "application/vnd.jupyter.widget-view+json": {
       "model_id": "223a8c7e6b6b4169a36aa0c4f0fa2cb7",
       "version_major": 2,
       "version_minor": 0
      },
      "text/plain": [
       "  0%|          | 0/9 [00:00<?, ?it/s]"
      ]
     },
     "metadata": {},
     "output_type": "display_data"
    },
    {
     "name": "stdout",
     "output_type": "stream",
     "text": [
      "{'eval_loss': 0.314668208360672, 'eval_auc': 0.7980463980463981, 'eval_runtime': 0.031, 'eval_samples_per_second': 8676.847, 'eval_steps_per_second': 290.303, 'epoch': 15.0}\n",
      "{'loss': 0.3277, 'grad_norm': 0.505814254283905, 'learning_rate': 0.0001, 'epoch': 16.0}\n"
     ]
    },
    {
     "data": {
      "application/vnd.jupyter.widget-view+json": {
       "model_id": "2370b2ff97144c3386a73bcf1d28ba92",
       "version_major": 2,
       "version_minor": 0
      },
      "text/plain": [
       "  0%|          | 0/9 [00:00<?, ?it/s]"
      ]
     },
     "metadata": {},
     "output_type": "display_data"
    },
    {
     "name": "stdout",
     "output_type": "stream",
     "text": [
      "{'eval_loss': 0.314256876707077, 'eval_auc': 0.7987789987789988, 'eval_runtime': 0.033, 'eval_samples_per_second': 8151.223, 'eval_steps_per_second': 272.717, 'epoch': 16.0}\n",
      "{'loss': 0.328, 'grad_norm': 0.39419519901275635, 'learning_rate': 0.0001, 'epoch': 17.0}\n"
     ]
    },
    {
     "data": {
      "application/vnd.jupyter.widget-view+json": {
       "model_id": "f9d19f1e219d418183b90174b7cc9824",
       "version_major": 2,
       "version_minor": 0
      },
      "text/plain": [
       "  0%|          | 0/9 [00:00<?, ?it/s]"
      ]
     },
     "metadata": {},
     "output_type": "display_data"
    },
    {
     "name": "stdout",
     "output_type": "stream",
     "text": [
      "{'eval_loss': 0.31407663226127625, 'eval_auc': 0.7987789987789988, 'eval_runtime': 0.032, 'eval_samples_per_second': 8406.609, 'eval_steps_per_second': 281.262, 'epoch': 17.0}\n",
      "{'loss': 0.3219, 'grad_norm': 0.6815794110298157, 'learning_rate': 0.0001, 'epoch': 18.0}\n"
     ]
    },
    {
     "data": {
      "application/vnd.jupyter.widget-view+json": {
       "model_id": "798d375b5f0341949fcc0e7d399ed208",
       "version_major": 2,
       "version_minor": 0
      },
      "text/plain": [
       "  0%|          | 0/9 [00:00<?, ?it/s]"
      ]
     },
     "metadata": {},
     "output_type": "display_data"
    },
    {
     "name": "stdout",
     "output_type": "stream",
     "text": [
      "{'eval_loss': 0.3137947618961334, 'eval_auc': 0.7990231990231991, 'eval_runtime': 0.031, 'eval_samples_per_second': 8677.247, 'eval_steps_per_second': 290.317, 'epoch': 18.0}\n",
      "{'loss': 0.3272, 'grad_norm': 0.3147534728050232, 'learning_rate': 0.0001, 'epoch': 19.0}\n"
     ]
    },
    {
     "data": {
      "application/vnd.jupyter.widget-view+json": {
       "model_id": "be998efbe99c4172b39438811907cf99",
       "version_major": 2,
       "version_minor": 0
      },
      "text/plain": [
       "  0%|          | 0/9 [00:00<?, ?it/s]"
      ]
     },
     "metadata": {},
     "output_type": "display_data"
    },
    {
     "name": "stdout",
     "output_type": "stream",
     "text": [
      "{'eval_loss': 0.3136213719844818, 'eval_auc': 0.7992673992673993, 'eval_runtime': 0.034, 'eval_samples_per_second': 7904.578, 'eval_steps_per_second': 264.465, 'epoch': 19.0}\n",
      "{'loss': 0.3209, 'grad_norm': 0.3456777036190033, 'learning_rate': 0.0001, 'epoch': 20.0}\n"
     ]
    },
    {
     "data": {
      "application/vnd.jupyter.widget-view+json": {
       "model_id": "00fb0173ec84466781650c403dc2d5e6",
       "version_major": 2,
       "version_minor": 0
      },
      "text/plain": [
       "  0%|          | 0/9 [00:00<?, ?it/s]"
      ]
     },
     "metadata": {},
     "output_type": "display_data"
    },
    {
     "name": "stdout",
     "output_type": "stream",
     "text": [
      "{'eval_loss': 0.3134456276893616, 'eval_auc': 0.7993894993894993, 'eval_runtime': 0.028, 'eval_samples_per_second': 9606.285, 'eval_steps_per_second': 321.4, 'epoch': 20.0}\n",
      "{'loss': 0.3193, 'grad_norm': 0.3592134714126587, 'learning_rate': 0.0001, 'epoch': 21.0}\n"
     ]
    },
    {
     "data": {
      "application/vnd.jupyter.widget-view+json": {
       "model_id": "c3efc260170940a890cf6e6064054fcb",
       "version_major": 2,
       "version_minor": 0
      },
      "text/plain": [
       "  0%|          | 0/9 [00:00<?, ?it/s]"
      ]
     },
     "metadata": {},
     "output_type": "display_data"
    },
    {
     "name": "stdout",
     "output_type": "stream",
     "text": [
      "{'eval_loss': 0.3132040202617645, 'eval_auc': 0.8002442002442003, 'eval_runtime': 0.027, 'eval_samples_per_second': 9962.453, 'eval_steps_per_second': 333.316, 'epoch': 21.0}\n",
      "{'loss': 0.3285, 'grad_norm': 0.4152067005634308, 'learning_rate': 0.0001, 'epoch': 22.0}\n"
     ]
    },
    {
     "data": {
      "application/vnd.jupyter.widget-view+json": {
       "model_id": "fe9ae0af799e4029987478ba7728a25d",
       "version_major": 2,
       "version_minor": 0
      },
      "text/plain": [
       "  0%|          | 0/9 [00:00<?, ?it/s]"
      ]
     },
     "metadata": {},
     "output_type": "display_data"
    },
    {
     "name": "stdout",
     "output_type": "stream",
     "text": [
      "{'eval_loss': 0.3128615617752075, 'eval_auc': 0.8007326007326008, 'eval_runtime': 0.029, 'eval_samples_per_second': 9275.086, 'eval_steps_per_second': 310.319, 'epoch': 22.0}\n",
      "{'loss': 0.3209, 'grad_norm': 0.48039674758911133, 'learning_rate': 0.0001, 'epoch': 23.0}\n"
     ]
    },
    {
     "data": {
      "application/vnd.jupyter.widget-view+json": {
       "model_id": "4891ef9c5a5948ab97491537e175aa76",
       "version_major": 2,
       "version_minor": 0
      },
      "text/plain": [
       "  0%|          | 0/9 [00:00<?, ?it/s]"
      ]
     },
     "metadata": {},
     "output_type": "display_data"
    },
    {
     "name": "stdout",
     "output_type": "stream",
     "text": [
      "{'eval_loss': 0.3126329481601715, 'eval_auc': 0.8003663003663004, 'eval_runtime': 0.027, 'eval_samples_per_second': 9962.102, 'eval_steps_per_second': 333.305, 'epoch': 23.0}\n",
      "{'loss': 0.3154, 'grad_norm': 0.2654661536216736, 'learning_rate': 1e-05, 'epoch': 24.0}\n"
     ]
    },
    {
     "data": {
      "application/vnd.jupyter.widget-view+json": {
       "model_id": "62f3d9518f2141c2a4f826ade8795be7",
       "version_major": 2,
       "version_minor": 0
      },
      "text/plain": [
       "  0%|          | 0/9 [00:00<?, ?it/s]"
      ]
     },
     "metadata": {},
     "output_type": "display_data"
    },
    {
     "name": "stdout",
     "output_type": "stream",
     "text": [
      "{'eval_loss': 0.31260475516319275, 'eval_auc': 0.8003663003663004, 'eval_runtime': 0.028, 'eval_samples_per_second': 9606.121, 'eval_steps_per_second': 321.394, 'epoch': 24.0}\n",
      "{'loss': 0.3232, 'grad_norm': 0.2761572003364563, 'learning_rate': 1e-05, 'epoch': 25.0}\n"
     ]
    },
    {
     "data": {
      "application/vnd.jupyter.widget-view+json": {
       "model_id": "b552b6d267324549b809d71ed0c87097",
       "version_major": 2,
       "version_minor": 0
      },
      "text/plain": [
       "  0%|          | 0/9 [00:00<?, ?it/s]"
      ]
     },
     "metadata": {},
     "output_type": "display_data"
    },
    {
     "name": "stdout",
     "output_type": "stream",
     "text": [
      "{'eval_loss': 0.31258389353752136, 'eval_auc': 0.8004884004884005, 'eval_runtime': 0.031, 'eval_samples_per_second': 8677.114, 'eval_steps_per_second': 290.312, 'epoch': 25.0}\n",
      "{'loss': 0.3198, 'grad_norm': 0.40500667691230774, 'learning_rate': 1e-05, 'epoch': 26.0}\n"
     ]
    },
    {
     "data": {
      "application/vnd.jupyter.widget-view+json": {
       "model_id": "4632e6149e124cc1a639c02a4918145f",
       "version_major": 2,
       "version_minor": 0
      },
      "text/plain": [
       "  0%|          | 0/9 [00:00<?, ?it/s]"
      ]
     },
     "metadata": {},
     "output_type": "display_data"
    },
    {
     "name": "stdout",
     "output_type": "stream",
     "text": [
      "{'eval_loss': 0.3125544786453247, 'eval_auc': 0.8006105006105007, 'eval_runtime': 0.027, 'eval_samples_per_second': 9962.278, 'eval_steps_per_second': 333.31, 'epoch': 26.0}\n",
      "{'loss': 0.3261, 'grad_norm': 0.628402054309845, 'learning_rate': 1e-05, 'epoch': 27.0}\n"
     ]
    },
    {
     "data": {
      "application/vnd.jupyter.widget-view+json": {
       "model_id": "70921ee6e73d428bbdbb44548286f0d2",
       "version_major": 2,
       "version_minor": 0
      },
      "text/plain": [
       "  0%|          | 0/9 [00:00<?, ?it/s]"
      ]
     },
     "metadata": {},
     "output_type": "display_data"
    },
    {
     "name": "stdout",
     "output_type": "stream",
     "text": [
      "{'eval_loss': 0.31253427267074585, 'eval_auc': 0.8006105006105007, 'eval_runtime': 0.03, 'eval_samples_per_second': 8965.963, 'eval_steps_per_second': 299.976, 'epoch': 27.0}\n",
      "{'loss': 0.317, 'grad_norm': 0.3797178268432617, 'learning_rate': 1e-05, 'epoch': 28.0}\n"
     ]
    },
    {
     "data": {
      "application/vnd.jupyter.widget-view+json": {
       "model_id": "a1d680f15d4448b2a2efe20bcddc8c78",
       "version_major": 2,
       "version_minor": 0
      },
      "text/plain": [
       "  0%|          | 0/9 [00:00<?, ?it/s]"
      ]
     },
     "metadata": {},
     "output_type": "display_data"
    },
    {
     "name": "stdout",
     "output_type": "stream",
     "text": [
      "{'eval_loss': 0.31250685453414917, 'eval_auc': 0.8008547008547009, 'eval_runtime': 0.029, 'eval_samples_per_second': 9275.696, 'eval_steps_per_second': 310.339, 'epoch': 28.0}\n",
      "{'loss': 0.3193, 'grad_norm': 0.24055086076259613, 'learning_rate': 1e-05, 'epoch': 29.0}\n"
     ]
    },
    {
     "data": {
      "application/vnd.jupyter.widget-view+json": {
       "model_id": "a8d70477df8842e1accce9afb9a78c89",
       "version_major": 2,
       "version_minor": 0
      },
      "text/plain": [
       "  0%|          | 0/9 [00:00<?, ?it/s]"
      ]
     },
     "metadata": {},
     "output_type": "display_data"
    },
    {
     "name": "stdout",
     "output_type": "stream",
     "text": [
      "{'eval_loss': 0.31248706579208374, 'eval_auc': 0.8008547008547009, 'eval_runtime': 0.028, 'eval_samples_per_second': 9606.121, 'eval_steps_per_second': 321.394, 'epoch': 29.0}\n",
      "{'loss': 0.3245, 'grad_norm': 0.3753252625465393, 'learning_rate': 1e-05, 'epoch': 30.0}\n"
     ]
    },
    {
     "data": {
      "application/vnd.jupyter.widget-view+json": {
       "model_id": "617bffc5d1b24f1bbdb00cb085192a8a",
       "version_major": 2,
       "version_minor": 0
      },
      "text/plain": [
       "  0%|          | 0/9 [00:00<?, ?it/s]"
      ]
     },
     "metadata": {},
     "output_type": "display_data"
    },
    {
     "name": "stdout",
     "output_type": "stream",
     "text": [
      "{'eval_loss': 0.3124677240848541, 'eval_auc': 0.8008547008547009, 'eval_runtime': 0.029, 'eval_samples_per_second': 9274.781, 'eval_steps_per_second': 310.309, 'epoch': 30.0}\n",
      "{'loss': 0.321, 'grad_norm': 0.34531667828559875, 'learning_rate': 1e-05, 'epoch': 31.0}\n"
     ]
    },
    {
     "data": {
      "application/vnd.jupyter.widget-view+json": {
       "model_id": "c048ce207efa40c68c525b7833ca42dc",
       "version_major": 2,
       "version_minor": 0
      },
      "text/plain": [
       "  0%|          | 0/9 [00:00<?, ?it/s]"
      ]
     },
     "metadata": {},
     "output_type": "display_data"
    },
    {
     "name": "stdout",
     "output_type": "stream",
     "text": [
      "{'eval_loss': 0.31243929266929626, 'eval_auc': 0.800976800976801, 'eval_runtime': 0.027, 'eval_samples_per_second': 9963.333, 'eval_steps_per_second': 333.346, 'epoch': 31.0}\n",
      "{'loss': 0.3232, 'grad_norm': 0.30616071820259094, 'learning_rate': 1e-05, 'epoch': 32.0}\n"
     ]
    },
    {
     "data": {
      "application/vnd.jupyter.widget-view+json": {
       "model_id": "7167844e3cf9434787d65682cbd03581",
       "version_major": 2,
       "version_minor": 0
      },
      "text/plain": [
       "  0%|          | 0/9 [00:00<?, ?it/s]"
      ]
     },
     "metadata": {},
     "output_type": "display_data"
    },
    {
     "name": "stdout",
     "output_type": "stream",
     "text": [
      "{'eval_loss': 0.3124230206012726, 'eval_auc': 0.8008547008547009, 'eval_runtime': 0.0288, 'eval_samples_per_second': 9331.622, 'eval_steps_per_second': 312.21, 'epoch': 32.0}\n",
      "{'loss': 0.3229, 'grad_norm': 0.28089672327041626, 'learning_rate': 1e-05, 'epoch': 33.0}\n"
     ]
    },
    {
     "data": {
      "application/vnd.jupyter.widget-view+json": {
       "model_id": "325429b1cdcd4be6a0493637d32b91fe",
       "version_major": 2,
       "version_minor": 0
      },
      "text/plain": [
       "  0%|          | 0/9 [00:00<?, ?it/s]"
      ]
     },
     "metadata": {},
     "output_type": "display_data"
    },
    {
     "name": "stdout",
     "output_type": "stream",
     "text": [
      "{'eval_loss': 0.31241437792778015, 'eval_auc': 0.8008547008547009, 'eval_runtime': 0.03, 'eval_samples_per_second': 8965.891, 'eval_steps_per_second': 299.974, 'epoch': 33.0}\n",
      "{'loss': 0.323, 'grad_norm': 0.47080954909324646, 'learning_rate': 1e-05, 'epoch': 34.0}\n"
     ]
    },
    {
     "data": {
      "application/vnd.jupyter.widget-view+json": {
       "model_id": "00a4cc1f265d47c6a5879411b293106c",
       "version_major": 2,
       "version_minor": 0
      },
      "text/plain": [
       "  0%|          | 0/9 [00:00<?, ?it/s]"
      ]
     },
     "metadata": {},
     "output_type": "display_data"
    },
    {
     "name": "stdout",
     "output_type": "stream",
     "text": [
      "{'eval_loss': 0.3123864233493805, 'eval_auc': 0.8007326007326008, 'eval_runtime': 0.028, 'eval_samples_per_second': 9606.53, 'eval_steps_per_second': 321.408, 'epoch': 34.0}\n",
      "{'loss': 0.3274, 'grad_norm': 0.6396613717079163, 'learning_rate': 1.0000000000000002e-06, 'epoch': 35.0}\n"
     ]
    },
    {
     "data": {
      "application/vnd.jupyter.widget-view+json": {
       "model_id": "4ce95733ffe346fab5576f29c4a0e159",
       "version_major": 2,
       "version_minor": 0
      },
      "text/plain": [
       "  0%|          | 0/9 [00:00<?, ?it/s]"
      ]
     },
     "metadata": {},
     "output_type": "display_data"
    },
    {
     "name": "stdout",
     "output_type": "stream",
     "text": [
      "{'eval_loss': 0.3123859167098999, 'eval_auc': 0.8008547008547009, 'eval_runtime': 0.028, 'eval_samples_per_second': 9606.858, 'eval_steps_per_second': 321.419, 'epoch': 35.0}\n",
      "{'loss': 0.3167, 'grad_norm': 0.2689070999622345, 'learning_rate': 1.0000000000000002e-06, 'epoch': 36.0}\n"
     ]
    },
    {
     "data": {
      "application/vnd.jupyter.widget-view+json": {
       "model_id": "6545f97f89f24608987e6d5284199310",
       "version_major": 2,
       "version_minor": 0
      },
      "text/plain": [
       "  0%|          | 0/9 [00:00<?, ?it/s]"
      ]
     },
     "metadata": {},
     "output_type": "display_data"
    },
    {
     "name": "stdout",
     "output_type": "stream",
     "text": [
      "{'eval_loss': 0.31238245964050293, 'eval_auc': 0.8008547008547009, 'eval_runtime': 0.034, 'eval_samples_per_second': 7911.95, 'eval_steps_per_second': 264.712, 'epoch': 36.0}\n",
      "{'loss': 0.319, 'grad_norm': 0.30350223183631897, 'learning_rate': 1.0000000000000002e-06, 'epoch': 37.0}\n"
     ]
    },
    {
     "data": {
      "application/vnd.jupyter.widget-view+json": {
       "model_id": "1b3fb257d56941ba9415cb8fb32d2ffa",
       "version_major": 2,
       "version_minor": 0
      },
      "text/plain": [
       "  0%|          | 0/9 [00:00<?, ?it/s]"
      ]
     },
     "metadata": {},
     "output_type": "display_data"
    },
    {
     "name": "stdout",
     "output_type": "stream",
     "text": [
      "{'eval_loss': 0.3123804032802582, 'eval_auc': 0.8008547008547009, 'eval_runtime': 0.026, 'eval_samples_per_second': 10344.722, 'eval_steps_per_second': 346.106, 'epoch': 37.0}\n",
      "{'loss': 0.3139, 'grad_norm': 0.2918669283390045, 'learning_rate': 1.0000000000000002e-06, 'epoch': 38.0}\n"
     ]
    },
    {
     "data": {
      "application/vnd.jupyter.widget-view+json": {
       "model_id": "a3cab0d7aadd4a4c97f662f01cff84ec",
       "version_major": 2,
       "version_minor": 0
      },
      "text/plain": [
       "  0%|          | 0/9 [00:00<?, ?it/s]"
      ]
     },
     "metadata": {},
     "output_type": "display_data"
    },
    {
     "name": "stdout",
     "output_type": "stream",
     "text": [
      "{'eval_loss': 0.3123769164085388, 'eval_auc': 0.8007326007326008, 'eval_runtime': 0.026, 'eval_samples_per_second': 10346.24, 'eval_steps_per_second': 346.157, 'epoch': 38.0}\n",
      "{'loss': 0.3199, 'grad_norm': 0.229884073138237, 'learning_rate': 1.0000000000000002e-06, 'epoch': 39.0}\n"
     ]
    },
    {
     "data": {
      "application/vnd.jupyter.widget-view+json": {
       "model_id": "b595ddbeca1049fd85bde78e8cd041c8",
       "version_major": 2,
       "version_minor": 0
      },
      "text/plain": [
       "  0%|          | 0/9 [00:00<?, ?it/s]"
      ]
     },
     "metadata": {},
     "output_type": "display_data"
    },
    {
     "name": "stdout",
     "output_type": "stream",
     "text": [
      "{'eval_loss': 0.3123750686645508, 'eval_auc': 0.8007326007326008, 'eval_runtime': 0.03, 'eval_samples_per_second': 8965.321, 'eval_steps_per_second': 299.955, 'epoch': 39.0}\n",
      "{'loss': 0.3223, 'grad_norm': 0.2626439034938812, 'learning_rate': 1.0000000000000002e-06, 'epoch': 40.0}\n"
     ]
    },
    {
     "data": {
      "application/vnd.jupyter.widget-view+json": {
       "model_id": "a72c0c4f7baa43fb8f39f800db3d41e6",
       "version_major": 2,
       "version_minor": 0
      },
      "text/plain": [
       "  0%|          | 0/9 [00:00<?, ?it/s]"
      ]
     },
     "metadata": {},
     "output_type": "display_data"
    },
    {
     "name": "stdout",
     "output_type": "stream",
     "text": [
      "{'eval_loss': 0.3123721182346344, 'eval_auc': 0.8007326007326008, 'eval_runtime': 0.03, 'eval_samples_per_second': 8966.818, 'eval_steps_per_second': 300.005, 'epoch': 40.0}\n",
      "{'loss': 0.3192, 'grad_norm': 0.40234845876693726, 'learning_rate': 1.0000000000000002e-06, 'epoch': 41.0}\n"
     ]
    },
    {
     "data": {
      "application/vnd.jupyter.widget-view+json": {
       "model_id": "fd36a2d19cee42d3a3a7d4adcc38b9cd",
       "version_major": 2,
       "version_minor": 0
      },
      "text/plain": [
       "  0%|          | 0/9 [00:00<?, ?it/s]"
      ]
     },
     "metadata": {},
     "output_type": "display_data"
    },
    {
     "name": "stdout",
     "output_type": "stream",
     "text": [
      "{'eval_loss': 0.31237003207206726, 'eval_auc': 0.8007326007326008, 'eval_runtime': 0.025, 'eval_samples_per_second': 10760.164, 'eval_steps_per_second': 360.005, 'epoch': 41.0}\n",
      "{'train_runtime': 8.0446, 'train_samples_per_second': 13362.943, 'train_steps_per_second': 422.642, 'train_loss': 0.343622163173287, 'epoch': 41.0}\n"
     ]
    },
    {
     "data": {
      "application/vnd.jupyter.widget-view+json": {
       "model_id": "8739a7f6d4d3427b84e2a98d3bba6704",
       "version_major": 2,
       "version_minor": 0
      },
      "text/plain": [
       "  0%|          | 0/3400 [00:00<?, ?it/s]"
      ]
     },
     "metadata": {},
     "output_type": "display_data"
    },
    {
     "name": "stdout",
     "output_type": "stream",
     "text": [
      "{'loss': 0.5778, 'grad_norm': 0.11649471521377563, 'learning_rate': 0.001, 'epoch': 1.0}\n"
     ]
    },
    {
     "data": {
      "application/vnd.jupyter.widget-view+json": {
       "model_id": "920799d36aa547a3a61ce92c4a036292",
       "version_major": 2,
       "version_minor": 0
      },
      "text/plain": [
       "  0%|          | 0/9 [00:00<?, ?it/s]"
      ]
     },
     "metadata": {},
     "output_type": "display_data"
    },
    {
     "name": "stdout",
     "output_type": "stream",
     "text": [
      "{'eval_loss': 0.5120256543159485, 'eval_auc': 0.6993006993006993, 'eval_runtime': 0.027, 'eval_samples_per_second': 9924.805, 'eval_steps_per_second': 333.296, 'epoch': 1.0}\n",
      "{'loss': 0.5117, 'grad_norm': 0.5667338371276855, 'learning_rate': 0.001, 'epoch': 2.0}\n"
     ]
    },
    {
     "data": {
      "application/vnd.jupyter.widget-view+json": {
       "model_id": "de87016dc4f2471d9fe067f57676b438",
       "version_major": 2,
       "version_minor": 0
      },
      "text/plain": [
       "  0%|          | 0/9 [00:00<?, ?it/s]"
      ]
     },
     "metadata": {},
     "output_type": "display_data"
    },
    {
     "name": "stdout",
     "output_type": "stream",
     "text": [
      "{'eval_loss': 0.4144202768802643, 'eval_auc': 0.7091544818817546, 'eval_runtime': 0.027, 'eval_samples_per_second': 9926.382, 'eval_steps_per_second': 333.349, 'epoch': 2.0}\n",
      "{'loss': 0.4542, 'grad_norm': 0.2648465633392334, 'learning_rate': 0.001, 'epoch': 3.0}\n"
     ]
    },
    {
     "data": {
      "application/vnd.jupyter.widget-view+json": {
       "model_id": "46a48028ae45472ab0537f9d4919b5e2",
       "version_major": 2,
       "version_minor": 0
      },
      "text/plain": [
       "  0%|          | 0/9 [00:00<?, ?it/s]"
      ]
     },
     "metadata": {},
     "output_type": "display_data"
    },
    {
     "name": "stdout",
     "output_type": "stream",
     "text": [
      "{'eval_loss': 0.3401172161102295, 'eval_auc': 0.7347425301970756, 'eval_runtime': 0.039, 'eval_samples_per_second': 6871.663, 'eval_steps_per_second': 230.765, 'epoch': 3.0}\n",
      "{'loss': 0.4324, 'grad_norm': 0.20265477895736694, 'learning_rate': 0.001, 'epoch': 4.0}\n"
     ]
    },
    {
     "data": {
      "application/vnd.jupyter.widget-view+json": {
       "model_id": "894d2fe421bb4582a49d4f13a33f233e",
       "version_major": 2,
       "version_minor": 0
      },
      "text/plain": [
       "  0%|          | 0/9 [00:00<?, ?it/s]"
      ]
     },
     "metadata": {},
     "output_type": "display_data"
    },
    {
     "name": "stdout",
     "output_type": "stream",
     "text": [
      "{'eval_loss': 0.31592878699302673, 'eval_auc': 0.7774952320406866, 'eval_runtime': 0.027, 'eval_samples_per_second': 9925.068, 'eval_steps_per_second': 333.305, 'epoch': 4.0}\n",
      "{'loss': 0.4102, 'grad_norm': 0.19445228576660156, 'learning_rate': 0.001, 'epoch': 5.0}\n"
     ]
    },
    {
     "data": {
      "application/vnd.jupyter.widget-view+json": {
       "model_id": "b574e0e3b6454de6aa22566f731e38f8",
       "version_major": 2,
       "version_minor": 0
      },
      "text/plain": [
       "  0%|          | 0/9 [00:00<?, ?it/s]"
      ]
     },
     "metadata": {},
     "output_type": "display_data"
    },
    {
     "name": "stdout",
     "output_type": "stream",
     "text": [
      "{'eval_loss': 0.29702889919281006, 'eval_auc': 0.8219961856325493, 'eval_runtime': 0.028, 'eval_samples_per_second': 9570.085, 'eval_steps_per_second': 321.383, 'epoch': 5.0}\n",
      "{'loss': 0.3954, 'grad_norm': 0.3072047233581543, 'learning_rate': 0.001, 'epoch': 6.0}\n"
     ]
    },
    {
     "data": {
      "application/vnd.jupyter.widget-view+json": {
       "model_id": "969f968a0b1f4ac4a704d3cce2b9130a",
       "version_major": 2,
       "version_minor": 0
      },
      "text/plain": [
       "  0%|          | 0/9 [00:00<?, ?it/s]"
      ]
     },
     "metadata": {},
     "output_type": "display_data"
    },
    {
     "name": "stdout",
     "output_type": "stream",
     "text": [
      "{'eval_loss': 0.28233200311660767, 'eval_auc': 0.8418626827717737, 'eval_runtime': 0.026, 'eval_samples_per_second': 10307.778, 'eval_steps_per_second': 346.157, 'epoch': 6.0}\n",
      "{'loss': 0.3829, 'grad_norm': 0.22941668331623077, 'learning_rate': 0.001, 'epoch': 7.0}\n"
     ]
    },
    {
     "data": {
      "application/vnd.jupyter.widget-view+json": {
       "model_id": "b56bfbd13eec4a88a3e6bb7636ec035e",
       "version_major": 2,
       "version_minor": 0
      },
      "text/plain": [
       "  0%|          | 0/9 [00:00<?, ?it/s]"
      ]
     },
     "metadata": {},
     "output_type": "display_data"
    },
    {
     "name": "stdout",
     "output_type": "stream",
     "text": [
      "{'eval_loss': 0.27069953083992004, 'eval_auc': 0.847743165924984, 'eval_runtime': 0.035, 'eval_samples_per_second': 7657.437, 'eval_steps_per_second': 257.153, 'epoch': 7.0}\n",
      "{'loss': 0.374, 'grad_norm': 0.27769744396209717, 'learning_rate': 0.001, 'epoch': 8.0}\n"
     ]
    },
    {
     "data": {
      "application/vnd.jupyter.widget-view+json": {
       "model_id": "39d37dbf94de475caade2a8f9908c49c",
       "version_major": 2,
       "version_minor": 0
      },
      "text/plain": [
       "  0%|          | 0/9 [00:00<?, ?it/s]"
      ]
     },
     "metadata": {},
     "output_type": "display_data"
    },
    {
     "name": "stdout",
     "output_type": "stream",
     "text": [
      "{'eval_loss': 0.26548516750335693, 'eval_auc': 0.8571201525746981, 'eval_runtime': 0.027, 'eval_samples_per_second': 9925.857, 'eval_steps_per_second': 333.331, 'epoch': 8.0}\n",
      "{'loss': 0.3613, 'grad_norm': 0.24106380343437195, 'learning_rate': 0.001, 'epoch': 9.0}\n"
     ]
    },
    {
     "data": {
      "application/vnd.jupyter.widget-view+json": {
       "model_id": "4f0e096f86df42c8b47cb862a46915f5",
       "version_major": 2,
       "version_minor": 0
      },
      "text/plain": [
       "  0%|          | 0/9 [00:00<?, ?it/s]"
      ]
     },
     "metadata": {},
     "output_type": "display_data"
    },
    {
     "name": "stdout",
     "output_type": "stream",
     "text": [
      "{'eval_loss': 0.25656476616859436, 'eval_auc': 0.865702479338843, 'eval_runtime': 0.027, 'eval_samples_per_second': 9925.857, 'eval_steps_per_second': 333.331, 'epoch': 9.0}\n",
      "{'loss': 0.3526, 'grad_norm': 0.331400990486145, 'learning_rate': 0.001, 'epoch': 10.0}\n"
     ]
    },
    {
     "data": {
      "application/vnd.jupyter.widget-view+json": {
       "model_id": "d3265afbcbf74a8ca3eb6df32e6827ec",
       "version_major": 2,
       "version_minor": 0
      },
      "text/plain": [
       "  0%|          | 0/9 [00:00<?, ?it/s]"
      ]
     },
     "metadata": {},
     "output_type": "display_data"
    },
    {
     "name": "stdout",
     "output_type": "stream",
     "text": [
      "{'eval_loss': 0.2476680874824524, 'eval_auc': 0.875079465988557, 'eval_runtime': 0.03, 'eval_samples_per_second': 8933.2, 'eval_steps_per_second': 299.996, 'epoch': 10.0}\n",
      "{'loss': 0.3552, 'grad_norm': 0.38988861441612244, 'learning_rate': 0.001, 'epoch': 11.0}\n"
     ]
    },
    {
     "data": {
      "application/vnd.jupyter.widget-view+json": {
       "model_id": "3b3813067f344f57a4b51126c2ae749a",
       "version_major": 2,
       "version_minor": 0
      },
      "text/plain": [
       "  0%|          | 0/9 [00:00<?, ?it/s]"
      ]
     },
     "metadata": {},
     "output_type": "display_data"
    },
    {
     "name": "stdout",
     "output_type": "stream",
     "text": [
      "{'eval_loss': 0.25020095705986023, 'eval_auc': 0.8780991735537189, 'eval_runtime': 0.0282, 'eval_samples_per_second': 9506.148, 'eval_steps_per_second': 319.236, 'epoch': 11.0}\n",
      "{'loss': 0.3456, 'grad_norm': 0.2547082304954529, 'learning_rate': 0.001, 'epoch': 12.0}\n"
     ]
    },
    {
     "data": {
      "application/vnd.jupyter.widget-view+json": {
       "model_id": "4ccd5c358a8340e094902633a202b523",
       "version_major": 2,
       "version_minor": 0
      },
      "text/plain": [
       "  0%|          | 0/9 [00:00<?, ?it/s]"
      ]
     },
     "metadata": {},
     "output_type": "display_data"
    },
    {
     "name": "stdout",
     "output_type": "stream",
     "text": [
      "{'eval_loss': 0.23636271059513092, 'eval_auc': 0.8833439287984742, 'eval_runtime': 0.03, 'eval_samples_per_second': 8933.484, 'eval_steps_per_second': 300.005, 'epoch': 12.0}\n",
      "{'loss': 0.3473, 'grad_norm': 0.31276485323905945, 'learning_rate': 0.0001, 'epoch': 13.0}\n"
     ]
    },
    {
     "data": {
      "application/vnd.jupyter.widget-view+json": {
       "model_id": "95de320398cd4eb6887e4f1cc7e35db5",
       "version_major": 2,
       "version_minor": 0
      },
      "text/plain": [
       "  0%|          | 0/9 [00:00<?, ?it/s]"
      ]
     },
     "metadata": {},
     "output_type": "display_data"
    },
    {
     "name": "stdout",
     "output_type": "stream",
     "text": [
      "{'eval_loss': 0.23632413148880005, 'eval_auc': 0.883502860775588, 'eval_runtime': 0.027, 'eval_samples_per_second': 9925.769, 'eval_steps_per_second': 333.328, 'epoch': 13.0}\n",
      "{'loss': 0.3338, 'grad_norm': 0.2963481843471527, 'learning_rate': 0.0001, 'epoch': 14.0}\n"
     ]
    },
    {
     "data": {
      "application/vnd.jupyter.widget-view+json": {
       "model_id": "9d43e34cc7c7484f8fefba43cec93ecc",
       "version_major": 2,
       "version_minor": 0
      },
      "text/plain": [
       "  0%|          | 0/9 [00:00<?, ?it/s]"
      ]
     },
     "metadata": {},
     "output_type": "display_data"
    },
    {
     "name": "stdout",
     "output_type": "stream",
     "text": [
      "{'eval_loss': 0.23715181648731232, 'eval_auc': 0.8828671328671329, 'eval_runtime': 0.027, 'eval_samples_per_second': 9925.681, 'eval_steps_per_second': 333.325, 'epoch': 14.0}\n",
      "{'loss': 0.328, 'grad_norm': 0.29110416769981384, 'learning_rate': 0.0001, 'epoch': 15.0}\n"
     ]
    },
    {
     "data": {
      "application/vnd.jupyter.widget-view+json": {
       "model_id": "725a2024a5d349889df0cfd672a226f3",
       "version_major": 2,
       "version_minor": 0
      },
      "text/plain": [
       "  0%|          | 0/9 [00:00<?, ?it/s]"
      ]
     },
     "metadata": {},
     "output_type": "display_data"
    },
    {
     "name": "stdout",
     "output_type": "stream",
     "text": [
      "{'eval_loss': 0.2375069409608841, 'eval_auc': 0.8831849968213604, 'eval_runtime': 0.031, 'eval_samples_per_second': 8644.325, 'eval_steps_per_second': 290.295, 'epoch': 15.0}\n",
      "{'loss': 0.3408, 'grad_norm': 0.3884955048561096, 'learning_rate': 0.0001, 'epoch': 16.0}\n"
     ]
    },
    {
     "data": {
      "application/vnd.jupyter.widget-view+json": {
       "model_id": "257099c735fb4448934418fdcd3892d0",
       "version_major": 2,
       "version_minor": 0
      },
      "text/plain": [
       "  0%|          | 0/9 [00:00<?, ?it/s]"
      ]
     },
     "metadata": {},
     "output_type": "display_data"
    },
    {
     "name": "stdout",
     "output_type": "stream",
     "text": [
      "{'eval_loss': 0.23730072379112244, 'eval_auc': 0.8833439287984743, 'eval_runtime': 0.028, 'eval_samples_per_second': 9571.389, 'eval_steps_per_second': 321.427, 'epoch': 16.0}\n",
      "{'loss': 0.3446, 'grad_norm': 0.24859999120235443, 'learning_rate': 0.0001, 'epoch': 17.0}\n"
     ]
    },
    {
     "data": {
      "application/vnd.jupyter.widget-view+json": {
       "model_id": "7eecaa4d474e4ea89df35fad059a5445",
       "version_major": 2,
       "version_minor": 0
      },
      "text/plain": [
       "  0%|          | 0/9 [00:00<?, ?it/s]"
      ]
     },
     "metadata": {},
     "output_type": "display_data"
    },
    {
     "name": "stdout",
     "output_type": "stream",
     "text": [
      "{'eval_loss': 0.23775582015514374, 'eval_auc': 0.8836617927527018, 'eval_runtime': 0.03, 'eval_samples_per_second': 8932.845, 'eval_steps_per_second': 299.984, 'epoch': 17.0}\n",
      "{'loss': 0.3395, 'grad_norm': 0.7652255296707153, 'learning_rate': 0.0001, 'epoch': 18.0}\n"
     ]
    },
    {
     "data": {
      "application/vnd.jupyter.widget-view+json": {
       "model_id": "74a237abd47641b68f2a85aeb5f7aeda",
       "version_major": 2,
       "version_minor": 0
      },
      "text/plain": [
       "  0%|          | 0/9 [00:00<?, ?it/s]"
      ]
     },
     "metadata": {},
     "output_type": "display_data"
    },
    {
     "name": "stdout",
     "output_type": "stream",
     "text": [
      "{'eval_loss': 0.2383134514093399, 'eval_auc': 0.8836617927527017, 'eval_runtime': 0.026, 'eval_samples_per_second': 10308.345, 'eval_steps_per_second': 346.176, 'epoch': 18.0}\n",
      "{'loss': 0.3404, 'grad_norm': 0.36500903964042664, 'learning_rate': 0.0001, 'epoch': 19.0}\n"
     ]
    },
    {
     "data": {
      "application/vnd.jupyter.widget-view+json": {
       "model_id": "bfec4931435e405181eec7f40879773a",
       "version_major": 2,
       "version_minor": 0
      },
      "text/plain": [
       "  0%|          | 0/9 [00:00<?, ?it/s]"
      ]
     },
     "metadata": {},
     "output_type": "display_data"
    },
    {
     "name": "stdout",
     "output_type": "stream",
     "text": [
      "{'eval_loss': 0.2388351559638977, 'eval_auc': 0.8833439287984743, 'eval_runtime': 0.025, 'eval_samples_per_second': 10719.857, 'eval_steps_per_second': 359.995, 'epoch': 19.0}\n",
      "{'loss': 0.336, 'grad_norm': 0.23655402660369873, 'learning_rate': 0.0001, 'epoch': 20.0}\n"
     ]
    },
    {
     "data": {
      "application/vnd.jupyter.widget-view+json": {
       "model_id": "90a9ea70a53442dc86a61c6716046f31",
       "version_major": 2,
       "version_minor": 0
      },
      "text/plain": [
       "  0%|          | 0/9 [00:00<?, ?it/s]"
      ]
     },
     "metadata": {},
     "output_type": "display_data"
    },
    {
     "name": "stdout",
     "output_type": "stream",
     "text": [
      "{'eval_loss': 0.2395981103181839, 'eval_auc': 0.883661792752702, 'eval_runtime': 0.028, 'eval_samples_per_second': 9571.389, 'eval_steps_per_second': 321.427, 'epoch': 20.0}\n",
      "{'loss': 0.3374, 'grad_norm': 0.33183467388153076, 'learning_rate': 0.0001, 'epoch': 21.0}\n"
     ]
    },
    {
     "data": {
      "application/vnd.jupyter.widget-view+json": {
       "model_id": "eb38374edabb4c1a9d0399f160983dc5",
       "version_major": 2,
       "version_minor": 0
      },
      "text/plain": [
       "  0%|          | 0/9 [00:00<?, ?it/s]"
      ]
     },
     "metadata": {},
     "output_type": "display_data"
    },
    {
     "name": "stdout",
     "output_type": "stream",
     "text": [
      "{'eval_loss': 0.239741250872612, 'eval_auc': 0.8835028607755882, 'eval_runtime': 0.03, 'eval_samples_per_second': 8933.555, 'eval_steps_per_second': 300.007, 'epoch': 21.0}\n",
      "{'loss': 0.3349, 'grad_norm': 0.23713535070419312, 'learning_rate': 0.0001, 'epoch': 22.0}\n"
     ]
    },
    {
     "data": {
      "application/vnd.jupyter.widget-view+json": {
       "model_id": "e402d163a4f74c03aa68919ce33abaff",
       "version_major": 2,
       "version_minor": 0
      },
      "text/plain": [
       "  0%|          | 0/9 [00:00<?, ?it/s]"
      ]
     },
     "metadata": {},
     "output_type": "display_data"
    },
    {
     "name": "stdout",
     "output_type": "stream",
     "text": [
      "{'eval_loss': 0.23939970135688782, 'eval_auc': 0.8838207247298157, 'eval_runtime': 0.027, 'eval_samples_per_second': 9926.032, 'eval_steps_per_second': 333.337, 'epoch': 22.0}\n",
      "{'loss': 0.3377, 'grad_norm': 0.3823864161968231, 'learning_rate': 0.0001, 'epoch': 23.0}\n"
     ]
    },
    {
     "data": {
      "application/vnd.jupyter.widget-view+json": {
       "model_id": "91dbffd0cc694cd18659e632615f40ee",
       "version_major": 2,
       "version_minor": 0
      },
      "text/plain": [
       "  0%|          | 0/9 [00:00<?, ?it/s]"
      ]
     },
     "metadata": {},
     "output_type": "display_data"
    },
    {
     "name": "stdout",
     "output_type": "stream",
     "text": [
      "{'eval_loss': 0.23886217176914215, 'eval_auc': 0.8841385886840433, 'eval_runtime': 0.027, 'eval_samples_per_second': 9925.944, 'eval_steps_per_second': 333.334, 'epoch': 23.0}\n",
      "{'loss': 0.3427, 'grad_norm': 0.5408858060836792, 'learning_rate': 1e-05, 'epoch': 24.0}\n"
     ]
    },
    {
     "data": {
      "application/vnd.jupyter.widget-view+json": {
       "model_id": "49584562109d4e87913830604bfbe8c7",
       "version_major": 2,
       "version_minor": 0
      },
      "text/plain": [
       "  0%|          | 0/9 [00:00<?, ?it/s]"
      ]
     },
     "metadata": {},
     "output_type": "display_data"
    },
    {
     "name": "stdout",
     "output_type": "stream",
     "text": [
      "{'eval_loss': 0.2387315332889557, 'eval_auc': 0.8844564526382709, 'eval_runtime': 0.029, 'eval_samples_per_second': 9240.682, 'eval_steps_per_second': 310.321, 'epoch': 24.0}\n",
      "{'loss': 0.3363, 'grad_norm': 0.3778921365737915, 'learning_rate': 1e-05, 'epoch': 25.0}\n"
     ]
    },
    {
     "data": {
      "application/vnd.jupyter.widget-view+json": {
       "model_id": "52844ba623774ee28d10500be2f84f12",
       "version_major": 2,
       "version_minor": 0
      },
      "text/plain": [
       "  0%|          | 0/9 [00:00<?, ?it/s]"
      ]
     },
     "metadata": {},
     "output_type": "display_data"
    },
    {
     "name": "stdout",
     "output_type": "stream",
     "text": [
      "{'eval_loss': 0.23882333934307098, 'eval_auc': 0.8844564526382709, 'eval_runtime': 0.039, 'eval_samples_per_second': 6871.495, 'eval_steps_per_second': 230.759, 'epoch': 25.0}\n",
      "{'loss': 0.3339, 'grad_norm': 0.3096606135368347, 'learning_rate': 1e-05, 'epoch': 26.0}\n"
     ]
    },
    {
     "data": {
      "application/vnd.jupyter.widget-view+json": {
       "model_id": "9f39eb44d7af4aae84a3849bd1f0bf8f",
       "version_major": 2,
       "version_minor": 0
      },
      "text/plain": [
       "  0%|          | 0/9 [00:00<?, ?it/s]"
      ]
     },
     "metadata": {},
     "output_type": "display_data"
    },
    {
     "name": "stdout",
     "output_type": "stream",
     "text": [
      "{'eval_loss': 0.23877345025539398, 'eval_auc': 0.8844564526382709, 'eval_runtime': 0.028, 'eval_samples_per_second': 9571.552, 'eval_steps_per_second': 321.433, 'epoch': 26.0}\n",
      "{'loss': 0.3332, 'grad_norm': 0.43213486671447754, 'learning_rate': 1e-05, 'epoch': 27.0}\n"
     ]
    },
    {
     "data": {
      "application/vnd.jupyter.widget-view+json": {
       "model_id": "997c8a4174614ae695b7200dd0eee402",
       "version_major": 2,
       "version_minor": 0
      },
      "text/plain": [
       "  0%|          | 0/9 [00:00<?, ?it/s]"
      ]
     },
     "metadata": {},
     "output_type": "display_data"
    },
    {
     "name": "stdout",
     "output_type": "stream",
     "text": [
      "{'eval_loss': 0.2386687695980072, 'eval_auc': 0.8844564526382709, 'eval_runtime': 0.044, 'eval_samples_per_second': 6090.888, 'eval_steps_per_second': 204.545, 'epoch': 27.0}\n",
      "{'loss': 0.3321, 'grad_norm': 0.258098840713501, 'learning_rate': 1e-05, 'epoch': 28.0}\n"
     ]
    },
    {
     "data": {
      "application/vnd.jupyter.widget-view+json": {
       "model_id": "a517251a06b543b39a72982e51508f2b",
       "version_major": 2,
       "version_minor": 0
      },
      "text/plain": [
       "  0%|          | 0/9 [00:00<?, ?it/s]"
      ]
     },
     "metadata": {},
     "output_type": "display_data"
    },
    {
     "name": "stdout",
     "output_type": "stream",
     "text": [
      "{'eval_loss': 0.23868735134601593, 'eval_auc': 0.8844564526382709, 'eval_runtime': 0.028, 'eval_samples_per_second': 9570.818, 'eval_steps_per_second': 321.408, 'epoch': 28.0}\n",
      "{'loss': 0.3326, 'grad_norm': 0.48125824332237244, 'learning_rate': 1e-05, 'epoch': 29.0}\n"
     ]
    },
    {
     "data": {
      "application/vnd.jupyter.widget-view+json": {
       "model_id": "f8fd7a16f7f14611940f4b364021e48a",
       "version_major": 2,
       "version_minor": 0
      },
      "text/plain": [
       "  0%|          | 0/9 [00:00<?, ?it/s]"
      ]
     },
     "metadata": {},
     "output_type": "display_data"
    },
    {
     "name": "stdout",
     "output_type": "stream",
     "text": [
      "{'eval_loss': 0.2386094331741333, 'eval_auc': 0.8844564526382709, 'eval_runtime': 0.046, 'eval_samples_per_second': 5825.875, 'eval_steps_per_second': 195.645, 'epoch': 29.0}\n",
      "{'loss': 0.3395, 'grad_norm': 0.24965451657772064, 'learning_rate': 1e-05, 'epoch': 30.0}\n"
     ]
    },
    {
     "data": {
      "application/vnd.jupyter.widget-view+json": {
       "model_id": "93525b5439f7469b9399ce63f46d2251",
       "version_major": 2,
       "version_minor": 0
      },
      "text/plain": [
       "  0%|          | 0/9 [00:00<?, ?it/s]"
      ]
     },
     "metadata": {},
     "output_type": "display_data"
    },
    {
     "name": "stdout",
     "output_type": "stream",
     "text": [
      "{'eval_loss': 0.23872488737106323, 'eval_auc': 0.8844564526382709, 'eval_runtime': 0.029, 'eval_samples_per_second': 9241.365, 'eval_steps_per_second': 310.344, 'epoch': 30.0}\n",
      "{'loss': 0.3364, 'grad_norm': 0.263850599527359, 'learning_rate': 1e-05, 'epoch': 31.0}\n"
     ]
    },
    {
     "data": {
      "application/vnd.jupyter.widget-view+json": {
       "model_id": "5251b3f01cd4424e87a0e1dbb511ee68",
       "version_major": 2,
       "version_minor": 0
      },
      "text/plain": [
       "  0%|          | 0/9 [00:00<?, ?it/s]"
      ]
     },
     "metadata": {},
     "output_type": "display_data"
    },
    {
     "name": "stdout",
     "output_type": "stream",
     "text": [
      "{'eval_loss': 0.2386605143547058, 'eval_auc': 0.8844564526382709, 'eval_runtime': 0.042, 'eval_samples_per_second': 6380.908, 'eval_steps_per_second': 214.284, 'epoch': 31.0}\n",
      "{'loss': 0.3252, 'grad_norm': 0.3092857897281647, 'learning_rate': 1e-05, 'epoch': 32.0}\n"
     ]
    },
    {
     "data": {
      "application/vnd.jupyter.widget-view+json": {
       "model_id": "8e9e8dccff0c4ac7b8cd1e052acf6b60",
       "version_major": 2,
       "version_minor": 0
      },
      "text/plain": [
       "  0%|          | 0/9 [00:00<?, ?it/s]"
      ]
     },
     "metadata": {},
     "output_type": "display_data"
    },
    {
     "name": "stdout",
     "output_type": "stream",
     "text": [
      "{'eval_loss': 0.23866738379001617, 'eval_auc': 0.8844564526382709, 'eval_runtime': 0.028, 'eval_samples_per_second': 9571.47, 'eval_steps_per_second': 321.43, 'epoch': 32.0}\n",
      "{'loss': 0.3253, 'grad_norm': 0.32626873254776, 'learning_rate': 1e-05, 'epoch': 33.0}\n"
     ]
    },
    {
     "data": {
      "application/vnd.jupyter.widget-view+json": {
       "model_id": "d50c9a308dd249f4a6bad74603ca8be8",
       "version_major": 2,
       "version_minor": 0
      },
      "text/plain": [
       "  0%|          | 0/9 [00:00<?, ?it/s]"
      ]
     },
     "metadata": {},
     "output_type": "display_data"
    },
    {
     "name": "stdout",
     "output_type": "stream",
     "text": [
      "{'eval_loss': 0.23875656723976135, 'eval_auc': 0.8846153846153846, 'eval_runtime': 0.037, 'eval_samples_per_second': 7243.395, 'eval_steps_per_second': 243.248, 'epoch': 33.0}\n",
      "{'loss': 0.3346, 'grad_norm': 0.3541235029697418, 'learning_rate': 1e-05, 'epoch': 34.0}\n"
     ]
    },
    {
     "data": {
      "application/vnd.jupyter.widget-view+json": {
       "model_id": "678be428c1b244f0b288b9b59d414aab",
       "version_major": 2,
       "version_minor": 0
      },
      "text/plain": [
       "  0%|          | 0/9 [00:00<?, ?it/s]"
      ]
     },
     "metadata": {},
     "output_type": "display_data"
    },
    {
     "name": "stdout",
     "output_type": "stream",
     "text": [
      "{'eval_loss': 0.23860247433185577, 'eval_auc': 0.8847743165924984, 'eval_runtime': 0.026, 'eval_samples_per_second': 10307.967, 'eval_steps_per_second': 346.163, 'epoch': 34.0}\n",
      "{'loss': 0.3386, 'grad_norm': 0.5292523503303528, 'learning_rate': 1.0000000000000002e-06, 'epoch': 35.0}\n"
     ]
    },
    {
     "data": {
      "application/vnd.jupyter.widget-view+json": {
       "model_id": "f5d71aa7afdd46a99a4c0d317337da1e",
       "version_major": 2,
       "version_minor": 0
      },
      "text/plain": [
       "  0%|          | 0/9 [00:00<?, ?it/s]"
      ]
     },
     "metadata": {},
     "output_type": "display_data"
    },
    {
     "name": "stdout",
     "output_type": "stream",
     "text": [
      "{'eval_loss': 0.23860378563404083, 'eval_auc': 0.8847743165924984, 'eval_runtime': 0.026, 'eval_samples_per_second': 10304.848, 'eval_steps_per_second': 346.058, 'epoch': 35.0}\n",
      "{'loss': 0.3353, 'grad_norm': 0.21270228922367096, 'learning_rate': 1.0000000000000002e-06, 'epoch': 36.0}\n"
     ]
    },
    {
     "data": {
      "application/vnd.jupyter.widget-view+json": {
       "model_id": "ed2ccc7046c94d8da2629b359c342055",
       "version_major": 2,
       "version_minor": 0
      },
      "text/plain": [
       "  0%|          | 0/9 [00:00<?, ?it/s]"
      ]
     },
     "metadata": {},
     "output_type": "display_data"
    },
    {
     "name": "stdout",
     "output_type": "stream",
     "text": [
      "{'eval_loss': 0.23860663175582886, 'eval_auc': 0.8847743165924984, 'eval_runtime': 0.027, 'eval_samples_per_second': 9926.207, 'eval_steps_per_second': 333.343, 'epoch': 36.0}\n",
      "{'loss': 0.3304, 'grad_norm': 0.37426719069480896, 'learning_rate': 1.0000000000000002e-06, 'epoch': 37.0}\n"
     ]
    },
    {
     "data": {
      "application/vnd.jupyter.widget-view+json": {
       "model_id": "0c44d9b936d94f27a611e682e04c2f70",
       "version_major": 2,
       "version_minor": 0
      },
      "text/plain": [
       "  0%|          | 0/9 [00:00<?, ?it/s]"
      ]
     },
     "metadata": {},
     "output_type": "display_data"
    },
    {
     "name": "stdout",
     "output_type": "stream",
     "text": [
      "{'eval_loss': 0.2385886162519455, 'eval_auc': 0.8847743165924984, 'eval_runtime': 0.029, 'eval_samples_per_second': 9241.441, 'eval_steps_per_second': 310.347, 'epoch': 37.0}\n",
      "{'loss': 0.3273, 'grad_norm': 0.2710532546043396, 'learning_rate': 1.0000000000000002e-06, 'epoch': 38.0}\n"
     ]
    },
    {
     "data": {
      "application/vnd.jupyter.widget-view+json": {
       "model_id": "99b6389603504e0784c17c33c24c909b",
       "version_major": 2,
       "version_minor": 0
      },
      "text/plain": [
       "  0%|          | 0/9 [00:00<?, ?it/s]"
      ]
     },
     "metadata": {},
     "output_type": "display_data"
    },
    {
     "name": "stdout",
     "output_type": "stream",
     "text": [
      "{'eval_loss': 0.23859359323978424, 'eval_auc': 0.8847743165924984, 'eval_runtime': 0.026, 'eval_samples_per_second': 10307.4, 'eval_steps_per_second': 346.144, 'epoch': 38.0}\n",
      "{'loss': 0.3304, 'grad_norm': 0.3380688726902008, 'learning_rate': 1.0000000000000002e-06, 'epoch': 39.0}\n"
     ]
    },
    {
     "data": {
      "application/vnd.jupyter.widget-view+json": {
       "model_id": "2e78b88616f745ce94da4bd8ce1c7c02",
       "version_major": 2,
       "version_minor": 0
      },
      "text/plain": [
       "  0%|          | 0/9 [00:00<?, ?it/s]"
      ]
     },
     "metadata": {},
     "output_type": "display_data"
    },
    {
     "name": "stdout",
     "output_type": "stream",
     "text": [
      "{'eval_loss': 0.23858541250228882, 'eval_auc': 0.8847743165924984, 'eval_runtime': 0.025, 'eval_samples_per_second': 10719.755, 'eval_steps_per_second': 359.992, 'epoch': 39.0}\n",
      "{'loss': 0.328, 'grad_norm': 0.2857165038585663, 'learning_rate': 1.0000000000000002e-06, 'epoch': 40.0}\n"
     ]
    },
    {
     "data": {
      "application/vnd.jupyter.widget-view+json": {
       "model_id": "5af8f9afbe3a41d19d87f679b85eba32",
       "version_major": 2,
       "version_minor": 0
      },
      "text/plain": [
       "  0%|          | 0/9 [00:00<?, ?it/s]"
      ]
     },
     "metadata": {},
     "output_type": "display_data"
    },
    {
     "name": "stdout",
     "output_type": "stream",
     "text": [
      "{'eval_loss': 0.238581120967865, 'eval_auc': 0.8847743165924985, 'eval_runtime': 0.029, 'eval_samples_per_second': 9241.213, 'eval_steps_per_second': 310.339, 'epoch': 40.0}\n",
      "{'loss': 0.3349, 'grad_norm': 0.3158630132675171, 'learning_rate': 1.0000000000000002e-06, 'epoch': 41.0}\n"
     ]
    },
    {
     "data": {
      "application/vnd.jupyter.widget-view+json": {
       "model_id": "bb6c771fa2e1446c80f99272b6517d63",
       "version_major": 2,
       "version_minor": 0
      },
      "text/plain": [
       "  0%|          | 0/9 [00:00<?, ?it/s]"
      ]
     },
     "metadata": {},
     "output_type": "display_data"
    },
    {
     "name": "stdout",
     "output_type": "stream",
     "text": [
      "{'eval_loss': 0.23858414590358734, 'eval_auc': 0.8847743165924984, 'eval_runtime': 0.026, 'eval_samples_per_second': 10307.683, 'eval_steps_per_second': 346.154, 'epoch': 41.0}\n",
      "{'loss': 0.3324, 'grad_norm': 0.23203760385513306, 'learning_rate': 1.0000000000000002e-06, 'epoch': 42.0}\n"
     ]
    },
    {
     "data": {
      "application/vnd.jupyter.widget-view+json": {
       "model_id": "bf1b883235524e07bd99ebbdf5edf7e3",
       "version_major": 2,
       "version_minor": 0
      },
      "text/plain": [
       "  0%|          | 0/9 [00:00<?, ?it/s]"
      ]
     },
     "metadata": {},
     "output_type": "display_data"
    },
    {
     "name": "stdout",
     "output_type": "stream",
     "text": [
      "{'eval_loss': 0.23857936263084412, 'eval_auc': 0.8847743165924984, 'eval_runtime': 0.028, 'eval_samples_per_second': 9570.981, 'eval_steps_per_second': 321.414, 'epoch': 42.0}\n",
      "{'loss': 0.3333, 'grad_norm': 0.3704831898212433, 'learning_rate': 1.0000000000000002e-06, 'epoch': 43.0}\n"
     ]
    },
    {
     "data": {
      "application/vnd.jupyter.widget-view+json": {
       "model_id": "f37724e01c6a4e11b940d771324eea00",
       "version_major": 2,
       "version_minor": 0
      },
      "text/plain": [
       "  0%|          | 0/9 [00:00<?, ?it/s]"
      ]
     },
     "metadata": {},
     "output_type": "display_data"
    },
    {
     "name": "stdout",
     "output_type": "stream",
     "text": [
      "{'eval_loss': 0.23856791853904724, 'eval_auc': 0.8847743165924985, 'eval_runtime': 0.029, 'eval_samples_per_second': 9241.517, 'eval_steps_per_second': 310.349, 'epoch': 43.0}\n",
      "{'loss': 0.3371, 'grad_norm': 0.3859098553657532, 'learning_rate': 1.0000000000000002e-06, 'epoch': 44.0}\n"
     ]
    },
    {
     "data": {
      "application/vnd.jupyter.widget-view+json": {
       "model_id": "d94b37467131400ebbe18f366129e526",
       "version_major": 2,
       "version_minor": 0
      },
      "text/plain": [
       "  0%|          | 0/9 [00:00<?, ?it/s]"
      ]
     },
     "metadata": {},
     "output_type": "display_data"
    },
    {
     "name": "stdout",
     "output_type": "stream",
     "text": [
      "{'eval_loss': 0.23857001960277557, 'eval_auc': 0.8847743165924984, 'eval_runtime': 0.03, 'eval_samples_per_second': 8932.632, 'eval_steps_per_second': 299.976, 'epoch': 44.0}\n",
      "{'loss': 0.3309, 'grad_norm': 0.4461885392665863, 'learning_rate': 1.0000000000000002e-06, 'epoch': 45.0}\n"
     ]
    },
    {
     "data": {
      "application/vnd.jupyter.widget-view+json": {
       "model_id": "5d593541da3449dd94ae85bc69e61b2f",
       "version_major": 2,
       "version_minor": 0
      },
      "text/plain": [
       "  0%|          | 0/9 [00:00<?, ?it/s]"
      ]
     },
     "metadata": {},
     "output_type": "display_data"
    },
    {
     "name": "stdout",
     "output_type": "stream",
     "text": [
      "{'eval_loss': 0.2385542392730713, 'eval_auc': 0.8847743165924985, 'eval_runtime': 0.026, 'eval_samples_per_second': 10307.683, 'eval_steps_per_second': 346.154, 'epoch': 45.0}\n",
      "{'loss': 0.3331, 'grad_norm': 0.41812556982040405, 'learning_rate': 1.0000000000000002e-07, 'epoch': 46.0}\n"
     ]
    },
    {
     "data": {
      "application/vnd.jupyter.widget-view+json": {
       "model_id": "9aa5037146124ee48eb24b6801c17329",
       "version_major": 2,
       "version_minor": 0
      },
      "text/plain": [
       "  0%|          | 0/9 [00:00<?, ?it/s]"
      ]
     },
     "metadata": {},
     "output_type": "display_data"
    },
    {
     "name": "stdout",
     "output_type": "stream",
     "text": [
      "{'eval_loss': 0.238555446267128, 'eval_auc': 0.8847743165924984, 'eval_runtime': 0.034, 'eval_samples_per_second': 7882.261, 'eval_steps_per_second': 264.703, 'epoch': 46.0}\n",
      "{'loss': 0.3347, 'grad_norm': 0.25684085488319397, 'learning_rate': 1.0000000000000002e-07, 'epoch': 47.0}\n"
     ]
    },
    {
     "data": {
      "application/vnd.jupyter.widget-view+json": {
       "model_id": "21f4b61d59994998bd67c93eba942e68",
       "version_major": 2,
       "version_minor": 0
      },
      "text/plain": [
       "  0%|          | 0/9 [00:00<?, ?it/s]"
      ]
     },
     "metadata": {},
     "output_type": "display_data"
    },
    {
     "name": "stdout",
     "output_type": "stream",
     "text": [
      "{'eval_loss': 0.2385544627904892, 'eval_auc': 0.8847743165924985, 'eval_runtime': 0.027, 'eval_samples_per_second': 9926.382, 'eval_steps_per_second': 333.349, 'epoch': 47.0}\n",
      "{'loss': 0.3345, 'grad_norm': 0.6610632538795471, 'learning_rate': 1.0000000000000002e-07, 'epoch': 48.0}\n"
     ]
    },
    {
     "data": {
      "application/vnd.jupyter.widget-view+json": {
       "model_id": "b77e4d44349d4ee9b10d79b6ffb6fe86",
       "version_major": 2,
       "version_minor": 0
      },
      "text/plain": [
       "  0%|          | 0/9 [00:00<?, ?it/s]"
      ]
     },
     "metadata": {},
     "output_type": "display_data"
    },
    {
     "name": "stdout",
     "output_type": "stream",
     "text": [
      "{'eval_loss': 0.2385524958372116, 'eval_auc': 0.8847743165924984, 'eval_runtime': 0.028, 'eval_samples_per_second': 9571.878, 'eval_steps_per_second': 321.444, 'epoch': 48.0}\n",
      "{'loss': 0.3349, 'grad_norm': 0.2811409831047058, 'learning_rate': 1.0000000000000002e-07, 'epoch': 49.0}\n"
     ]
    },
    {
     "data": {
      "application/vnd.jupyter.widget-view+json": {
       "model_id": "f6bee66da01c47dc8685906c1a888f66",
       "version_major": 2,
       "version_minor": 0
      },
      "text/plain": [
       "  0%|          | 0/9 [00:00<?, ?it/s]"
      ]
     },
     "metadata": {},
     "output_type": "display_data"
    },
    {
     "name": "stdout",
     "output_type": "stream",
     "text": [
      "{'eval_loss': 0.2385532110929489, 'eval_auc': 0.8847743165924985, 'eval_runtime': 0.026, 'eval_samples_per_second': 10307.683, 'eval_steps_per_second': 346.154, 'epoch': 49.0}\n",
      "{'loss': 0.3377, 'grad_norm': 0.3841450810432434, 'learning_rate': 1.0000000000000002e-07, 'epoch': 50.0}\n"
     ]
    },
    {
     "data": {
      "application/vnd.jupyter.widget-view+json": {
       "model_id": "199c1d7b56b24b4eb8e90a153ff0d348",
       "version_major": 2,
       "version_minor": 0
      },
      "text/plain": [
       "  0%|          | 0/9 [00:00<?, ?it/s]"
      ]
     },
     "metadata": {},
     "output_type": "display_data"
    },
    {
     "name": "stdout",
     "output_type": "stream",
     "text": [
      "{'eval_loss': 0.23855243623256683, 'eval_auc': 0.8847743165924985, 'eval_runtime': 0.027, 'eval_samples_per_second': 9925.769, 'eval_steps_per_second': 333.328, 'epoch': 50.0}\n",
      "{'train_runtime': 9.772, 'train_samples_per_second': 11011.105, 'train_steps_per_second': 347.935, 'train_loss': 0.3535710003796746, 'epoch': 50.0}\n"
     ]
    }
   ],
   "source": [
    "reset_seeds(SEED)\n",
    "trainer_list = []\n",
    "\n",
    "for i, (tri, vai) in enumerate(cv.split(train_ft)):\n",
    "    x_train = train_dt.select(tri)\n",
    "    x_valid = train_dt.select(vai)\n",
    "    model = Net(train_ft.shape[1])\n",
    "    trainer = Trainer(\n",
    "        model,\n",
    "        train_args,\n",
    "        train_dataset=x_train,\n",
    "        eval_dataset=x_valid,\n",
    "        compute_metrics=compute_metrics,\n",
    "        callbacks=[es_cb],\n",
    "    )\n",
    "    trainer.train()\n",
    "    trainer_list.append(trainer)"
   ]
  },
  {
   "cell_type": "code",
   "execution_count": 36,
   "metadata": {
    "colab": {
     "base_uri": "https://localhost:8080/"
    },
    "executionInfo": {
     "elapsed": 270,
     "status": "ok",
     "timestamp": 1734590395377,
     "user": {
      "displayName": "koeyhi",
      "userId": "08049178071858703986"
     },
     "user_tz": -540
    },
    "id": "-Fa6mGoKhv38",
    "outputId": "30dc3a2e-3448-42a6-f75e-734ad1b7091d"
   },
   "outputs": [
    {
     "data": {
      "text/plain": [
       "0.8318624510437662"
      ]
     },
     "execution_count": 36,
     "metadata": {},
     "output_type": "execute_result"
    }
   ],
   "source": [
    "scores = []\n",
    "for trainer in trainer_list:\n",
    "    scores.append(trainer.state.best_metric)\n",
    "\n",
    "np.mean(scores)"
   ]
  },
  {
   "cell_type": "markdown",
   "metadata": {
    "id": "XCx3m8FllgGt"
   },
   "source": [
    "# 테스트 데이터 예측"
   ]
  },
  {
   "cell_type": "code",
   "execution_count": 37,
   "metadata": {
    "colab": {
     "base_uri": "https://localhost:8080/"
    },
    "executionInfo": {
     "elapsed": 310,
     "status": "ok",
     "timestamp": 1734590404642,
     "user": {
      "displayName": "koeyhi",
      "userId": "08049178071858703986"
     },
     "user_tz": -540
    },
    "id": "4Xgvawd7hv1S",
    "outputId": "c6da7a83-7a5c-405e-a9f4-3709ce08bdae"
   },
   "outputs": [
    {
     "data": {
      "text/plain": [
       "Dataset({\n",
       "    features: ['x'],\n",
       "    num_rows: 896\n",
       "})"
      ]
     },
     "execution_count": 37,
     "metadata": {},
     "output_type": "execute_result"
    }
   ],
   "source": [
    "test_dict = {\"x\": test_ft}\n",
    "test_dt = Dataset.from_dict(test_dict)\n",
    "test_dt"
   ]
  },
  {
   "cell_type": "code",
   "execution_count": 38,
   "metadata": {
    "colab": {
     "base_uri": "https://localhost:8080/",
     "height": 17
    },
    "executionInfo": {
     "elapsed": 557,
     "status": "ok",
     "timestamp": 1734590408143,
     "user": {
      "displayName": "koeyhi",
      "userId": "08049178071858703986"
     },
     "user_tz": -540
    },
    "id": "5lfEfmy4lryP",
    "outputId": "1a91f96b-1af4-4cda-a629-dceb943b1173"
   },
   "outputs": [
    {
     "data": {
      "application/vnd.jupyter.widget-view+json": {
       "model_id": "bf2394fcf735401cb4c5fc5b486d858c",
       "version_major": 2,
       "version_minor": 0
      },
      "text/plain": [
       "  0%|          | 0/28 [00:00<?, ?it/s]"
      ]
     },
     "metadata": {},
     "output_type": "display_data"
    },
    {
     "data": {
      "application/vnd.jupyter.widget-view+json": {
       "model_id": "a6e55a60176b4da5a56531ac99cd9abd",
       "version_major": 2,
       "version_minor": 0
      },
      "text/plain": [
       "  0%|          | 0/28 [00:00<?, ?it/s]"
      ]
     },
     "metadata": {},
     "output_type": "display_data"
    },
    {
     "data": {
      "application/vnd.jupyter.widget-view+json": {
       "model_id": "6b907b51b5cf424796eaae17760c5903",
       "version_major": 2,
       "version_minor": 0
      },
      "text/plain": [
       "  0%|          | 0/28 [00:00<?, ?it/s]"
      ]
     },
     "metadata": {},
     "output_type": "display_data"
    },
    {
     "data": {
      "application/vnd.jupyter.widget-view+json": {
       "model_id": "aa70ee09addb4a35b173279f5eca6a38",
       "version_major": 2,
       "version_minor": 0
      },
      "text/plain": [
       "  0%|          | 0/28 [00:00<?, ?it/s]"
      ]
     },
     "metadata": {},
     "output_type": "display_data"
    },
    {
     "data": {
      "application/vnd.jupyter.widget-view+json": {
       "model_id": "2ff6f71344ef409ba63d0eeae729e76d",
       "version_major": 2,
       "version_minor": 0
      },
      "text/plain": [
       "  0%|          | 0/28 [00:00<?, ?it/s]"
      ]
     },
     "metadata": {},
     "output_type": "display_data"
    }
   ],
   "source": [
    "sig = torch.nn.Sigmoid()\n",
    "pred_list = []\n",
    "for trainer in trainer_list:\n",
    "    pred_output = trainer.predict(test_dt)\n",
    "    pred = torch.Tensor(pred_output.predictions)\n",
    "    pred = sig(pred).numpy()\n",
    "    pred_list.append(pred)"
   ]
  },
  {
   "cell_type": "code",
   "execution_count": 39,
   "metadata": {
    "colab": {
     "base_uri": "https://localhost:8080/"
    },
    "executionInfo": {
     "elapsed": 281,
     "status": "ok",
     "timestamp": 1734590411403,
     "user": {
      "displayName": "koeyhi",
      "userId": "08049178071858703986"
     },
     "user_tz": -540
    },
    "id": "3zIknA6snSmU",
    "outputId": "131d2b66-fefe-47e1-9c45-5bee87e03fcf"
   },
   "outputs": [
    {
     "data": {
      "text/plain": [
       "array([[0.05044533],\n",
       "       [0.09840681],\n",
       "       [0.0909398 ],\n",
       "       [0.33907896],\n",
       "       [0.09959547],\n",
       "       [0.3112548 ],\n",
       "       [0.5630649 ],\n",
       "       [0.14410111],\n",
       "       [0.1128155 ],\n",
       "       [0.07603491],\n",
       "       [0.07350561],\n",
       "       [0.0881794 ],\n",
       "       [0.1505562 ],\n",
       "       [0.08533502],\n",
       "       [0.38068622],\n",
       "       [0.05456564],\n",
       "       [0.12584177],\n",
       "       [0.49073964],\n",
       "       [0.05581699],\n",
       "       [0.16177419],\n",
       "       [0.10844004],\n",
       "       [0.17539969],\n",
       "       [0.03216618],\n",
       "       [0.05652187],\n",
       "       [0.06908792],\n",
       "       [0.2228659 ],\n",
       "       [0.10119226],\n",
       "       [0.12001918],\n",
       "       [0.1363337 ],\n",
       "       [0.21725789],\n",
       "       [0.1224153 ],\n",
       "       [0.26481122],\n",
       "       [0.08616831],\n",
       "       [0.4805251 ],\n",
       "       [0.08482625],\n",
       "       [0.0258268 ],\n",
       "       [0.38198194],\n",
       "       [0.06233369],\n",
       "       [0.06362274],\n",
       "       [0.0603743 ],\n",
       "       [0.41983086],\n",
       "       [0.03229585],\n",
       "       [0.18673691],\n",
       "       [0.03786109],\n",
       "       [0.05390849],\n",
       "       [0.02575592],\n",
       "       [0.04876714],\n",
       "       [0.0489859 ],\n",
       "       [0.07971673],\n",
       "       [0.07200482],\n",
       "       [0.0722013 ],\n",
       "       [0.28558916],\n",
       "       [0.04490123],\n",
       "       [0.03176313],\n",
       "       [0.18566842],\n",
       "       [0.3435663 ],\n",
       "       [0.03196518],\n",
       "       [0.05362374],\n",
       "       [0.04276547],\n",
       "       [0.0636659 ],\n",
       "       [0.254464  ],\n",
       "       [0.23840013],\n",
       "       [0.06573522],\n",
       "       [0.02928018],\n",
       "       [0.10307235],\n",
       "       [0.08739169],\n",
       "       [0.56614244],\n",
       "       [0.08881797],\n",
       "       [0.0539581 ],\n",
       "       [0.10309889],\n",
       "       [0.06062592],\n",
       "       [0.10364523],\n",
       "       [0.06004951],\n",
       "       [0.22486714],\n",
       "       [0.09093776],\n",
       "       [0.05288662],\n",
       "       [0.12212129],\n",
       "       [0.03690465],\n",
       "       [0.08217631],\n",
       "       [0.06423463],\n",
       "       [0.04287189],\n",
       "       [0.09530383],\n",
       "       [0.39270824],\n",
       "       [0.048548  ],\n",
       "       [0.04734452],\n",
       "       [0.07865392],\n",
       "       [0.15845141],\n",
       "       [0.08538041],\n",
       "       [0.03727976],\n",
       "       [0.06240026],\n",
       "       [0.08202327],\n",
       "       [0.07079502],\n",
       "       [0.02984873],\n",
       "       [0.09709662],\n",
       "       [0.10849377],\n",
       "       [0.03366006],\n",
       "       [0.22887127],\n",
       "       [0.08986919],\n",
       "       [0.03453632],\n",
       "       [0.0740917 ],\n",
       "       [0.03388357],\n",
       "       [0.05755941],\n",
       "       [0.09690906],\n",
       "       [0.05143084],\n",
       "       [0.05428332],\n",
       "       [0.14177206],\n",
       "       [0.20354792],\n",
       "       [0.06628688],\n",
       "       [0.38679498],\n",
       "       [0.12077782],\n",
       "       [0.10974248],\n",
       "       [0.05275374],\n",
       "       [0.08449437],\n",
       "       [0.10088664],\n",
       "       [0.15432514],\n",
       "       [0.3112548 ],\n",
       "       [0.10129589],\n",
       "       [0.33760777],\n",
       "       [0.06430503],\n",
       "       [0.06782982],\n",
       "       [0.05494509],\n",
       "       [0.05957136],\n",
       "       [0.11004581],\n",
       "       [0.0904057 ],\n",
       "       [0.06019192],\n",
       "       [0.0574155 ],\n",
       "       [0.06244734],\n",
       "       [0.06356961],\n",
       "       [0.04648125],\n",
       "       [0.0235359 ],\n",
       "       [0.4307804 ],\n",
       "       [0.21598753],\n",
       "       [0.05581699],\n",
       "       [0.0253394 ],\n",
       "       [0.08622857],\n",
       "       [0.06358271],\n",
       "       [0.07844251],\n",
       "       [0.05650475],\n",
       "       [0.06995173],\n",
       "       [0.06690772],\n",
       "       [0.03399737],\n",
       "       [0.03757306],\n",
       "       [0.07093672],\n",
       "       [0.0251318 ],\n",
       "       [0.05894344],\n",
       "       [0.03952925],\n",
       "       [0.28059307],\n",
       "       [0.17754021],\n",
       "       [0.02678575],\n",
       "       [0.5551213 ],\n",
       "       [0.0496866 ],\n",
       "       [0.1275627 ],\n",
       "       [0.07362858],\n",
       "       [0.20376082],\n",
       "       [0.5734186 ],\n",
       "       [0.03632286],\n",
       "       [0.12061097],\n",
       "       [0.03529203],\n",
       "       [0.1198414 ],\n",
       "       [0.1275627 ],\n",
       "       [0.02902327],\n",
       "       [0.01870587],\n",
       "       [0.08715922],\n",
       "       [0.04332518],\n",
       "       [0.11741855],\n",
       "       [0.03438201],\n",
       "       [0.16591927],\n",
       "       [0.09409206],\n",
       "       [0.02693426],\n",
       "       [0.13019101],\n",
       "       [0.136363  ],\n",
       "       [0.02709438],\n",
       "       [0.07385187],\n",
       "       [0.05331025],\n",
       "       [0.0467731 ],\n",
       "       [0.04264486],\n",
       "       [0.1332659 ],\n",
       "       [0.12764253],\n",
       "       [0.21273395],\n",
       "       [0.0858716 ],\n",
       "       [0.34272572],\n",
       "       [0.43218866],\n",
       "       [0.33907896],\n",
       "       [0.0934478 ],\n",
       "       [0.1721396 ],\n",
       "       [0.14192986],\n",
       "       [0.14349361],\n",
       "       [0.14191976],\n",
       "       [0.14008458],\n",
       "       [0.30866712],\n",
       "       [0.08541823],\n",
       "       [0.07183395],\n",
       "       [0.51434547],\n",
       "       [0.07447602],\n",
       "       [0.04285404],\n",
       "       [0.08565639],\n",
       "       [0.05323555],\n",
       "       [0.22518253],\n",
       "       [0.15786536],\n",
       "       [0.05127081],\n",
       "       [0.17526484],\n",
       "       [0.07650508],\n",
       "       [0.08197461],\n",
       "       [0.39134598],\n",
       "       [0.05711637],\n",
       "       [0.03652338],\n",
       "       [0.06432123],\n",
       "       [0.0258018 ],\n",
       "       [0.07659011],\n",
       "       [0.05377708],\n",
       "       [0.2300252 ],\n",
       "       [0.10039274],\n",
       "       [0.04953418],\n",
       "       [0.10604329],\n",
       "       [0.08139247],\n",
       "       [0.29636124],\n",
       "       [0.1731042 ],\n",
       "       [0.17647877],\n",
       "       [0.17775203],\n",
       "       [0.05416257],\n",
       "       [0.15006332],\n",
       "       [0.12585475],\n",
       "       [0.2584185 ],\n",
       "       [0.0180382 ],\n",
       "       [0.03078725],\n",
       "       [0.02763827],\n",
       "       [0.04295692],\n",
       "       [0.14038461],\n",
       "       [0.04867858],\n",
       "       [0.40011472],\n",
       "       [0.5183084 ],\n",
       "       [0.17686887],\n",
       "       [0.08163677],\n",
       "       [0.04174929],\n",
       "       [0.05342442],\n",
       "       [0.07407342],\n",
       "       [0.0363651 ],\n",
       "       [0.10251985],\n",
       "       [0.08274814],\n",
       "       [0.327048  ],\n",
       "       [0.04220374],\n",
       "       [0.08789958],\n",
       "       [0.5679639 ],\n",
       "       [0.105391  ],\n",
       "       [0.04952842],\n",
       "       [0.05485051],\n",
       "       [0.12580581],\n",
       "       [0.11040278],\n",
       "       [0.13828136],\n",
       "       [0.02698418],\n",
       "       [0.05355023],\n",
       "       [0.06458556],\n",
       "       [0.30921808],\n",
       "       [0.0353281 ],\n",
       "       [0.09900814],\n",
       "       [0.06458921],\n",
       "       [0.11825384],\n",
       "       [0.03733603],\n",
       "       [0.12622088],\n",
       "       [0.3844568 ],\n",
       "       [0.03554098],\n",
       "       [0.0540254 ],\n",
       "       [0.49448085],\n",
       "       [0.04420944],\n",
       "       [0.06347438],\n",
       "       [0.0442783 ],\n",
       "       [0.5155983 ],\n",
       "       [0.03727976],\n",
       "       [0.04155868],\n",
       "       [0.02790472],\n",
       "       [0.13765867],\n",
       "       [0.08194765],\n",
       "       [0.10098658],\n",
       "       [0.02474368],\n",
       "       [0.17002758],\n",
       "       [0.0307201 ],\n",
       "       [0.05265697],\n",
       "       [0.02763827],\n",
       "       [0.11572262],\n",
       "       [0.13349894],\n",
       "       [0.06749879],\n",
       "       [0.17525455],\n",
       "       [0.06981652],\n",
       "       [0.09506646],\n",
       "       [0.19538018],\n",
       "       [0.08577605],\n",
       "       [0.16388333],\n",
       "       [0.04686668],\n",
       "       [0.0554889 ],\n",
       "       [0.03821115],\n",
       "       [0.08682993],\n",
       "       [0.25880578],\n",
       "       [0.04061789],\n",
       "       [0.04442366],\n",
       "       [0.4666814 ],\n",
       "       [0.09542166],\n",
       "       [0.0584413 ],\n",
       "       [0.2385991 ],\n",
       "       [0.04818685],\n",
       "       [0.05772022],\n",
       "       [0.08116098],\n",
       "       [0.4900536 ],\n",
       "       [0.08067071],\n",
       "       [0.05155294],\n",
       "       [0.10586183],\n",
       "       [0.4993739 ],\n",
       "       [0.07729314],\n",
       "       [0.14287882],\n",
       "       [0.09734993],\n",
       "       [0.17848974],\n",
       "       [0.09594461],\n",
       "       [0.06088629],\n",
       "       [0.11009254],\n",
       "       [0.19658665],\n",
       "       [0.35437512],\n",
       "       [0.09446554],\n",
       "       [0.10708221],\n",
       "       [0.0431031 ],\n",
       "       [0.06382429],\n",
       "       [0.04976566],\n",
       "       [0.08334983],\n",
       "       [0.11990295],\n",
       "       [0.0910617 ],\n",
       "       [0.04852837],\n",
       "       [0.05571367],\n",
       "       [0.06850414],\n",
       "       [0.0375995 ],\n",
       "       [0.05860002],\n",
       "       [0.05862391],\n",
       "       [0.17299902],\n",
       "       [0.08706503],\n",
       "       [0.16934302],\n",
       "       [0.03354971],\n",
       "       [0.07190066],\n",
       "       [0.08111972],\n",
       "       [0.2604072 ],\n",
       "       [0.07268052],\n",
       "       [0.38150972],\n",
       "       [0.08808223],\n",
       "       [0.03726295],\n",
       "       [0.07731192],\n",
       "       [0.0858965 ],\n",
       "       [0.56622475],\n",
       "       [0.05191109],\n",
       "       [0.19829421],\n",
       "       [0.1069697 ],\n",
       "       [0.05975343],\n",
       "       [0.03717389],\n",
       "       [0.02453473],\n",
       "       [0.08256488],\n",
       "       [0.06163308],\n",
       "       [0.3064375 ],\n",
       "       [0.08940841],\n",
       "       [0.5246287 ],\n",
       "       [0.05361415],\n",
       "       [0.0910617 ],\n",
       "       [0.25995713],\n",
       "       [0.15386657],\n",
       "       [0.12152443],\n",
       "       [0.03769729],\n",
       "       [0.08930041],\n",
       "       [0.03802967],\n",
       "       [0.08111972],\n",
       "       [0.13183406],\n",
       "       [0.09848224],\n",
       "       [0.2336277 ],\n",
       "       [0.03954589],\n",
       "       [0.048297  ],\n",
       "       [0.03629898],\n",
       "       [0.03328312],\n",
       "       [0.04448877],\n",
       "       [0.19262353],\n",
       "       [0.131424  ],\n",
       "       [0.08346422],\n",
       "       [0.03309893],\n",
       "       [0.36098355],\n",
       "       [0.19016193],\n",
       "       [0.15820213],\n",
       "       [0.06498189],\n",
       "       [0.04247529],\n",
       "       [0.13480377],\n",
       "       [0.06295608],\n",
       "       [0.02605286],\n",
       "       [0.03759056],\n",
       "       [0.5618046 ],\n",
       "       [0.04264486],\n",
       "       [0.04522869],\n",
       "       [0.54684395],\n",
       "       [0.49924368],\n",
       "       [0.13516   ],\n",
       "       [0.057808  ],\n",
       "       [0.05128138],\n",
       "       [0.08080833],\n",
       "       [0.08016393],\n",
       "       [0.08904304],\n",
       "       [0.03483485],\n",
       "       [0.03547328],\n",
       "       [0.05905663],\n",
       "       [0.13200602],\n",
       "       [0.08647124],\n",
       "       [0.1802487 ],\n",
       "       [0.0901763 ],\n",
       "       [0.49566984],\n",
       "       [0.05592307],\n",
       "       [0.07032648],\n",
       "       [0.23181947],\n",
       "       [0.08388633],\n",
       "       [0.25995192],\n",
       "       [0.34978557],\n",
       "       [0.16787049],\n",
       "       [0.05835037],\n",
       "       [0.04639096],\n",
       "       [0.3967196 ],\n",
       "       [0.01988285],\n",
       "       [0.07228647],\n",
       "       [0.15036544],\n",
       "       [0.27530292],\n",
       "       [0.04268216],\n",
       "       [0.08030538],\n",
       "       [0.13536544],\n",
       "       [0.03162805],\n",
       "       [0.15621944],\n",
       "       [0.1974933 ],\n",
       "       [0.02295683],\n",
       "       [0.16177419],\n",
       "       [0.03430381],\n",
       "       [0.17003985],\n",
       "       [0.11740418],\n",
       "       [0.10409857],\n",
       "       [0.0961674 ],\n",
       "       [0.15164268],\n",
       "       [0.11912572],\n",
       "       [0.5155983 ],\n",
       "       [0.04707975],\n",
       "       [0.3388985 ],\n",
       "       [0.13065565],\n",
       "       [0.17368332],\n",
       "       [0.07034288],\n",
       "       [0.17130354],\n",
       "       [0.03313351],\n",
       "       [0.05724853],\n",
       "       [0.15266553],\n",
       "       [0.1361843 ],\n",
       "       [0.04500534],\n",
       "       [0.03075366],\n",
       "       [0.04666959],\n",
       "       [0.07503015],\n",
       "       [0.04188488],\n",
       "       [0.1277793 ],\n",
       "       [0.06522142],\n",
       "       [0.05377708],\n",
       "       [0.17647877],\n",
       "       [0.05661748],\n",
       "       [0.02894163],\n",
       "       [0.0635622 ],\n",
       "       [0.10643747],\n",
       "       [0.0957762 ],\n",
       "       [0.02482086],\n",
       "       [0.33246273],\n",
       "       [0.02600389],\n",
       "       [0.44604668],\n",
       "       [0.07123213],\n",
       "       [0.06595393],\n",
       "       [0.12294567],\n",
       "       [0.13751402],\n",
       "       [0.02995402],\n",
       "       [0.03516287],\n",
       "       [0.0563212 ],\n",
       "       [0.08565971],\n",
       "       [0.03500925],\n",
       "       [0.12650028],\n",
       "       [0.03233131],\n",
       "       [0.12719485],\n",
       "       [0.11388072],\n",
       "       [0.5562514 ],\n",
       "       [0.10876365],\n",
       "       [0.11133852],\n",
       "       [0.08242734],\n",
       "       [0.02470885],\n",
       "       [0.12383083],\n",
       "       [0.04859309],\n",
       "       [0.17944342],\n",
       "       [0.54162216],\n",
       "       [0.05906991],\n",
       "       [0.13464022],\n",
       "       [0.08733122],\n",
       "       [0.56853145],\n",
       "       [0.12095411],\n",
       "       [0.19180855],\n",
       "       [0.03669533],\n",
       "       [0.07365998],\n",
       "       [0.09022189],\n",
       "       [0.07085802],\n",
       "       [0.04046441],\n",
       "       [0.02069191],\n",
       "       [0.08483183],\n",
       "       [0.1121433 ],\n",
       "       [0.03668401],\n",
       "       [0.10517539],\n",
       "       [0.02864871],\n",
       "       [0.08797207],\n",
       "       [0.13441852],\n",
       "       [0.17012173],\n",
       "       [0.0676649 ],\n",
       "       [0.05488682],\n",
       "       [0.17154244],\n",
       "       [0.30819765],\n",
       "       [0.08736023],\n",
       "       [0.24929614],\n",
       "       [0.0788738 ],\n",
       "       [0.04224049],\n",
       "       [0.05257449],\n",
       "       [0.06098679],\n",
       "       [0.10722809],\n",
       "       [0.09349535],\n",
       "       [0.04445117],\n",
       "       [0.05323555],\n",
       "       [0.03583001],\n",
       "       [0.02420809],\n",
       "       [0.10908639],\n",
       "       [0.10997081],\n",
       "       [0.11673526],\n",
       "       [0.11052483],\n",
       "       [0.2728324 ],\n",
       "       [0.0782013 ],\n",
       "       [0.08480929],\n",
       "       [0.07929367],\n",
       "       [0.0961674 ],\n",
       "       [0.0260714 ],\n",
       "       [0.5207814 ],\n",
       "       [0.26367787],\n",
       "       [0.2091827 ],\n",
       "       [0.31884643],\n",
       "       [0.15406367],\n",
       "       [0.09135798],\n",
       "       [0.16728865],\n",
       "       [0.04274118],\n",
       "       [0.2108239 ],\n",
       "       [0.03412171],\n",
       "       [0.057808  ],\n",
       "       [0.29270127],\n",
       "       [0.04129466],\n",
       "       [0.07248338],\n",
       "       [0.0370842 ],\n",
       "       [0.5790442 ],\n",
       "       [0.21684368],\n",
       "       [0.23627892],\n",
       "       [0.02703424],\n",
       "       [0.06887218],\n",
       "       [0.25083464],\n",
       "       [0.06023271],\n",
       "       [0.03241235],\n",
       "       [0.05577093],\n",
       "       [0.04392881],\n",
       "       [0.04815273],\n",
       "       [0.08251648],\n",
       "       [0.04179304],\n",
       "       [0.04817432],\n",
       "       [0.5354945 ],\n",
       "       [0.10581563],\n",
       "       [0.02814251],\n",
       "       [0.05300746],\n",
       "       [0.14968097],\n",
       "       [0.0459635 ],\n",
       "       [0.37401807],\n",
       "       [0.07331042],\n",
       "       [0.24775231],\n",
       "       [0.04994428],\n",
       "       [0.54524845],\n",
       "       [0.0771854 ],\n",
       "       [0.03734217],\n",
       "       [0.12265869],\n",
       "       [0.10863853],\n",
       "       [0.29228622],\n",
       "       [0.12813917],\n",
       "       [0.06169174],\n",
       "       [0.13908666],\n",
       "       [0.19538018],\n",
       "       [0.14022833],\n",
       "       [0.5399992 ],\n",
       "       [0.03391987],\n",
       "       [0.45170283],\n",
       "       [0.08239719],\n",
       "       [0.03679665],\n",
       "       [0.10243617],\n",
       "       [0.05247707],\n",
       "       [0.52000463],\n",
       "       [0.05283265],\n",
       "       [0.19581056],\n",
       "       [0.1269383 ],\n",
       "       [0.3693305 ],\n",
       "       [0.22627345],\n",
       "       [0.03320183],\n",
       "       [0.081551  ],\n",
       "       [0.10184677],\n",
       "       [0.11585093],\n",
       "       [0.24682017],\n",
       "       [0.5260084 ],\n",
       "       [0.02979895],\n",
       "       [0.03810408],\n",
       "       [0.57055295],\n",
       "       [0.51013625],\n",
       "       [0.04508526],\n",
       "       [0.38449782],\n",
       "       [0.03431244],\n",
       "       [0.0773614 ],\n",
       "       [0.38831264],\n",
       "       [0.08065442],\n",
       "       [0.17711526],\n",
       "       [0.14758576],\n",
       "       [0.28861108],\n",
       "       [0.07331479],\n",
       "       [0.15692168],\n",
       "       [0.10251798],\n",
       "       [0.03981765],\n",
       "       [0.04475075],\n",
       "       [0.04734579],\n",
       "       [0.23139873],\n",
       "       [0.10767479],\n",
       "       [0.05390849],\n",
       "       [0.07650508],\n",
       "       [0.06382429],\n",
       "       [0.03775671],\n",
       "       [0.42678732],\n",
       "       [0.04428485],\n",
       "       [0.08942346],\n",
       "       [0.15276326],\n",
       "       [0.0583039 ],\n",
       "       [0.09465913],\n",
       "       [0.04606956],\n",
       "       [0.22531812],\n",
       "       [0.11941807],\n",
       "       [0.05728321],\n",
       "       [0.04593091],\n",
       "       [0.07256256],\n",
       "       [0.33293575],\n",
       "       [0.063463  ],\n",
       "       [0.18702811],\n",
       "       [0.09386671],\n",
       "       [0.13396965],\n",
       "       [0.04593368],\n",
       "       [0.33293575],\n",
       "       [0.09032192],\n",
       "       [0.11241136],\n",
       "       [0.06872036],\n",
       "       [0.41024798],\n",
       "       [0.06488637],\n",
       "       [0.03275318],\n",
       "       [0.01591843],\n",
       "       [0.08515108],\n",
       "       [0.19993582],\n",
       "       [0.05972705],\n",
       "       [0.12495676],\n",
       "       [0.23280747],\n",
       "       [0.07950944],\n",
       "       [0.04264592],\n",
       "       [0.22926006],\n",
       "       [0.16290462],\n",
       "       [0.05333789],\n",
       "       [0.07898851],\n",
       "       [0.04352774],\n",
       "       [0.13946427],\n",
       "       [0.43691063],\n",
       "       [0.25488114],\n",
       "       [0.03494679],\n",
       "       [0.04481313],\n",
       "       [0.4544057 ],\n",
       "       [0.04163454],\n",
       "       [0.15513206],\n",
       "       [0.04633325],\n",
       "       [0.06492193],\n",
       "       [0.33406472],\n",
       "       [0.05674406],\n",
       "       [0.06107314],\n",
       "       [0.0881794 ],\n",
       "       [0.03932483],\n",
       "       [0.0824602 ],\n",
       "       [0.08528374],\n",
       "       [0.52888274],\n",
       "       [0.04248394],\n",
       "       [0.03631289],\n",
       "       [0.05472683],\n",
       "       [0.12096722],\n",
       "       [0.02705515],\n",
       "       [0.16793329],\n",
       "       [0.09877561],\n",
       "       [0.07379607],\n",
       "       [0.25097427],\n",
       "       [0.47469002],\n",
       "       [0.08541823],\n",
       "       [0.0735318 ],\n",
       "       [0.0649716 ],\n",
       "       [0.4774583 ],\n",
       "       [0.12399125],\n",
       "       [0.08048209],\n",
       "       [0.17291641],\n",
       "       [0.17575204],\n",
       "       [0.06502217],\n",
       "       [0.5571432 ],\n",
       "       [0.21096854],\n",
       "       [0.06699216],\n",
       "       [0.09703933],\n",
       "       [0.0378126 ],\n",
       "       [0.1048488 ],\n",
       "       [0.14610715],\n",
       "       [0.08471315],\n",
       "       [0.04307575],\n",
       "       [0.53216475],\n",
       "       [0.07488753],\n",
       "       [0.16310178],\n",
       "       [0.05614888],\n",
       "       [0.11045718],\n",
       "       [0.05732988],\n",
       "       [0.0884936 ],\n",
       "       [0.02392524],\n",
       "       [0.03942432],\n",
       "       [0.05372512],\n",
       "       [0.2700387 ],\n",
       "       [0.0539624 ],\n",
       "       [0.13910216],\n",
       "       [0.05105513],\n",
       "       [0.03465475],\n",
       "       [0.01862598],\n",
       "       [0.36377734],\n",
       "       [0.05502618],\n",
       "       [0.06077133],\n",
       "       [0.04659877],\n",
       "       [0.04503639],\n",
       "       [0.08896171],\n",
       "       [0.03701033],\n",
       "       [0.13625239],\n",
       "       [0.49936208],\n",
       "       [0.08146321],\n",
       "       [0.05235595],\n",
       "       [0.05313697],\n",
       "       [0.04350578],\n",
       "       [0.08521918],\n",
       "       [0.08524428],\n",
       "       [0.12890308],\n",
       "       [0.06484085],\n",
       "       [0.05313385],\n",
       "       [0.06457374],\n",
       "       [0.08101149],\n",
       "       [0.2097779 ],\n",
       "       [0.09412576],\n",
       "       [0.04438037],\n",
       "       [0.15899213],\n",
       "       [0.05387828],\n",
       "       [0.02664746],\n",
       "       [0.28925553],\n",
       "       [0.08697633],\n",
       "       [0.05663327],\n",
       "       [0.05788273],\n",
       "       [0.07512552],\n",
       "       [0.10596937],\n",
       "       [0.03652338],\n",
       "       [0.09848224],\n",
       "       [0.14871988],\n",
       "       [0.20435266],\n",
       "       [0.11887345],\n",
       "       [0.09976361],\n",
       "       [0.03625915],\n",
       "       [0.1379129 ],\n",
       "       [0.04174929],\n",
       "       [0.09684817],\n",
       "       [0.27755818],\n",
       "       [0.1332539 ],\n",
       "       [0.0445958 ],\n",
       "       [0.0303508 ],\n",
       "       [0.15471569],\n",
       "       [0.0525208 ],\n",
       "       [0.5260084 ],\n",
       "       [0.06187151],\n",
       "       [0.104418  ],\n",
       "       [0.10608232],\n",
       "       [0.54242766],\n",
       "       [0.1069032 ],\n",
       "       [0.04000304],\n",
       "       [0.04219589],\n",
       "       [0.080289  ],\n",
       "       [0.04745988],\n",
       "       [0.05044746],\n",
       "       [0.08499104],\n",
       "       [0.05726364],\n",
       "       [0.05235595],\n",
       "       [0.12956604],\n",
       "       [0.1260027 ],\n",
       "       [0.03087408],\n",
       "       [0.54467297],\n",
       "       [0.03977366],\n",
       "       [0.05587019],\n",
       "       [0.06716965],\n",
       "       [0.51060545],\n",
       "       [0.18682775],\n",
       "       [0.084336  ],\n",
       "       [0.06162246],\n",
       "       [0.07731192],\n",
       "       [0.04813524],\n",
       "       [0.03910844],\n",
       "       [0.19768181],\n",
       "       [0.08191727],\n",
       "       [0.06361985],\n",
       "       [0.05088592],\n",
       "       [0.17711526],\n",
       "       [0.1126159 ],\n",
       "       [0.49035302],\n",
       "       [0.522812  ],\n",
       "       [0.05331881],\n",
       "       [0.1760083 ],\n",
       "       [0.05076405],\n",
       "       [0.02964664],\n",
       "       [0.08456106],\n",
       "       [0.04705512],\n",
       "       [0.06586581],\n",
       "       [0.02475676],\n",
       "       [0.15370373],\n",
       "       [0.32777223],\n",
       "       [0.07913575],\n",
       "       [0.07385187],\n",
       "       [0.12764236],\n",
       "       [0.06450029],\n",
       "       [0.31196892],\n",
       "       [0.14273825],\n",
       "       [0.08432885],\n",
       "       [0.13381197],\n",
       "       [0.08050554],\n",
       "       [0.05900288],\n",
       "       [0.16261485],\n",
       "       [0.023586  ],\n",
       "       [0.04615181],\n",
       "       [0.20367905],\n",
       "       [0.46839675],\n",
       "       [0.04449974],\n",
       "       [0.05109004],\n",
       "       [0.06803694],\n",
       "       [0.02642275],\n",
       "       [0.49073964],\n",
       "       [0.05565057],\n",
       "       [0.49047565],\n",
       "       [0.04133848],\n",
       "       [0.06266221],\n",
       "       [0.12764236],\n",
       "       [0.18069981],\n",
       "       [0.04937663],\n",
       "       [0.04762475],\n",
       "       [0.04162537],\n",
       "       [0.09473795],\n",
       "       [0.06625501],\n",
       "       [0.07299478],\n",
       "       [0.30375636],\n",
       "       [0.04217412],\n",
       "       [0.42015642],\n",
       "       [0.02566128],\n",
       "       [0.17291622],\n",
       "       [0.11590981],\n",
       "       [0.10060741],\n",
       "       [0.11420023],\n",
       "       [0.02702858],\n",
       "       [0.05485051],\n",
       "       [0.06149099],\n",
       "       [0.03473943],\n",
       "       [0.03991247],\n",
       "       [0.36427015],\n",
       "       [0.2077845 ],\n",
       "       [0.14269255],\n",
       "       [0.04446894],\n",
       "       [0.13527873],\n",
       "       [0.04202393],\n",
       "       [0.15437737],\n",
       "       [0.06764114],\n",
       "       [0.02709438],\n",
       "       [0.07498036],\n",
       "       [0.12716165],\n",
       "       [0.06303289],\n",
       "       [0.1259683 ],\n",
       "       [0.07964966],\n",
       "       [0.06035644],\n",
       "       [0.1227835 ],\n",
       "       [0.05221993],\n",
       "       [0.15981667],\n",
       "       [0.04136707],\n",
       "       [0.03314414],\n",
       "       [0.05150519],\n",
       "       [0.0457055 ],\n",
       "       [0.05486481],\n",
       "       [0.5083522 ],\n",
       "       [0.29380614],\n",
       "       [0.03759056],\n",
       "       [0.07554384],\n",
       "       [0.25783342],\n",
       "       [0.19536445],\n",
       "       [0.05435842],\n",
       "       [0.04264592],\n",
       "       [0.10357881],\n",
       "       [0.47501454],\n",
       "       [0.07572212]], dtype=float32)"
      ]
     },
     "execution_count": 39,
     "metadata": {},
     "output_type": "execute_result"
    }
   ],
   "source": [
    "pred = np.mean(pred_list, axis=0)\n",
    "pred"
   ]
  }
 ],
 "metadata": {
  "accelerator": "GPU",
  "colab": {
   "gpuType": "T4",
   "provenance": []
  },
  "kernelspec": {
   "display_name": "Python 3",
   "name": "python3"
  },
  "language_info": {
   "codemirror_mode": {
    "name": "ipython",
    "version": 3
   },
   "file_extension": ".py",
   "mimetype": "text/x-python",
   "name": "python",
   "nbconvert_exporter": "python",
   "pygments_lexer": "ipython3",
   "version": "3.10.8"
  }
 },
 "nbformat": 4,
 "nbformat_minor": 0
}
