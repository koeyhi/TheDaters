{
 "cells": [
  {
   "cell_type": "markdown",
   "metadata": {
    "id": "j-kxBxf5zt-p"
   },
   "source": [
    "# W&B의 Sweeps\n",
    "- 하이퍼파라미터 최적화를 위한 W&B의 강력한 기능\n",
    "- W&B Sweeps는 하이퍼파라미터 최적화를 위해 여러 실험을 자동 실행하고 결과를 관리하는 도구\n",
    "- 특정 범위의 하이퍼파라미터 조합을 기반으로 여러 실험을 자동으로 실행하고 최적의 모델을 찾는 데 사용"
   ]
  },
  {
   "cell_type": "markdown",
   "metadata": {
    "id": "AIHiJ_QF_9yU"
   },
   "source": [
    "## Sweep Configuration\n",
    "- Sweeps의 실험 설정을 정의\n",
    "- 하이퍼파라미터 범위, 최적화 목표, 실험 방식 등을 설정"
   ]
  },
  {
   "cell_type": "markdown",
   "metadata": {
    "id": "R_ixVBD6AIYD"
   },
   "source": [
    "## Sweep Agent\n",
    "- 개별 하이퍼파라미터 조합을 실행하는 프로세스"
   ]
  },
  {
   "cell_type": "code",
   "execution_count": 1,
   "metadata": {
    "colab": {
     "base_uri": "https://localhost:8080/"
    },
    "executionInfo": {
     "elapsed": 47117,
     "status": "ok",
     "timestamp": 1734566577234,
     "user": {
      "displayName": "koeyhi",
      "userId": "08049178071858703986"
     },
     "user_tz": -540
    },
    "id": "_rmiwZoThbB_",
    "outputId": "22f44d34-8067-4caa-e41c-820d49a9dc8a"
   },
   "outputs": [],
   "source": [
    "import pandas as pd\n",
    "import numpy as np\n",
    "import random\n",
    "import os\n",
    "import torch\n",
    "from sklearn.preprocessing import OneHotEncoder, MinMaxScaler\n",
    "\n",
    "DATA_PATH = \"../data/\"\n",
    "\n",
    "SEED = 42 # 시드값\n",
    "\n",
    "# 데이터 블러오기\n",
    "train = pd.read_csv(f\"{DATA_PATH}titanic_train.csv\") # 학습데이터\n",
    "test = pd.read_csv(f\"{DATA_PATH}titanic_test.csv\") # 테스트 데이터\n",
    "\n",
    "# 결측치 처리\n",
    "age_mean = train[\"age\"].mean()\n",
    "fare_median = train[\"fare\"].median()\n",
    "cabin_unk = \"UNK\"\n",
    "embarked_mode = train[\"embarked\"].mode()[0]\n",
    "train[\"age\"] = train[\"age\"].fillna(age_mean)\n",
    "train[\"cabin\"] = train[\"cabin\"].fillna(cabin_unk)\n",
    "test[\"age\"] = test[\"age\"].fillna(age_mean)\n",
    "test[\"fare\"] = test[\"fare\"].fillna(fare_median)\n",
    "test[\"cabin\"] = test[\"cabin\"].fillna(cabin_unk)\n",
    "test[\"embarked\"] = test[\"embarked\"].fillna(embarked_mode)\n",
    "\n",
    "# 특성으로 사용할 변수 선택\n",
    "cols = [\"age\",\"sibsp\",\"parch\",\"fare\",\"pclass\",\"gender\",\"embarked\"]\n",
    "train_ft = train[cols].copy()\n",
    "test_ft = test[cols].copy()\n",
    "\n",
    "# 범주형 변수 원핫인코딩\n",
    "cols = ['gender','embarked']\n",
    "enc = OneHotEncoder(handle_unknown = 'ignore')\n",
    "enc.fit(train[cols])\n",
    "tmp = pd.DataFrame(\n",
    "    enc.transform(train_ft[cols]).toarray(),\n",
    "    columns = enc.get_feature_names_out()\n",
    ")\n",
    "train_ft = pd.concat([train_ft,tmp],axis=1).drop(columns=cols)\n",
    "tmp = pd.DataFrame(\n",
    "    enc.transform(test_ft[cols]).toarray(),\n",
    "    columns = enc.get_feature_names_out()\n",
    ")\n",
    "test_ft = pd.concat([test_ft,tmp],axis=1).drop(columns=cols)\n",
    "\n",
    "\n",
    "# Min-Max Scaling\n",
    "scaler = MinMaxScaler()\n",
    "scaler.fit(train_ft)\n",
    "train_ft = scaler.transform(train_ft)\n",
    "test_ft = scaler.transform(test_ft)\n",
    "\n",
    "# 정답 데이터\n",
    "target = train[\"survived\"].to_numpy().reshape(-1,1) # 정답 데이터 2차원으로 변경\n",
    "\n",
    "class TitanicDataset(torch.utils.data.Dataset):\n",
    "    def __init__(self, x, y=None):\n",
    "        self.x = x\n",
    "        self.y = y\n",
    "\n",
    "    def __len__(self):\n",
    "        return len(self.x)\n",
    "\n",
    "    def __getitem__(self, idx):\n",
    "        item = {}\n",
    "        item[\"x\"] = torch.Tensor(self.x[idx])\n",
    "        if self.y is not None:\n",
    "            item[\"y\"] = torch.Tensor(self.y[idx])\n",
    "        return item"
   ]
  },
  {
   "cell_type": "code",
   "execution_count": 2,
   "metadata": {
    "executionInfo": {
     "elapsed": 872,
     "status": "ok",
     "timestamp": 1734566578104,
     "user": {
      "displayName": "koeyhi",
      "userId": "08049178071858703986"
     },
     "user_tz": -540
    },
    "id": "OJM6E95-iD7-"
   },
   "outputs": [],
   "source": [
    "def reset_seeds(seed):\n",
    "    random.seed(seed)\n",
    "    os.environ['PYTHONHASHSEED'] = str(seed)\n",
    "    np.random.seed(seed)\n",
    "    torch.manual_seed(seed)\n",
    "    torch.cuda.manual_seed(seed)\n",
    "    torch.backends.cudnn.deterministic = True\n",
    "\n",
    "class Net(torch.nn.Module):\n",
    "    def __init__(self, n_features):\n",
    "        super().__init__()\n",
    "        self.seq = torch.nn.Sequential(\n",
    "            torch.nn.Linear(n_features, 12),\n",
    "            torch.nn.BatchNorm1d(12),\n",
    "            torch.nn.LeakyReLU(),\n",
    "            torch.nn.Linear(12, 8),\n",
    "            torch.nn.BatchNorm1d(8),\n",
    "            torch.nn.LeakyReLU(),\n",
    "            torch.nn.Linear(8, 4),\n",
    "            torch.nn.BatchNorm1d(4),\n",
    "            torch.nn.LeakyReLU(),\n",
    "            torch.nn.Linear(4, 1)\n",
    "        )\n",
    "    def forward(self, x):\n",
    "        return self.seq(x)\n",
    "\n",
    "def train_loop(dl, model, loss_fn, optimizer, device):\n",
    "    epoch_loss = 0\n",
    "    model.train()\n",
    "    for batch in dl:\n",
    "        pred = model(batch[\"x\"].to(device))\n",
    "        loss = loss_fn(pred, batch[\"y\"].to(device))\n",
    "\n",
    "        optimizer.zero_grad()\n",
    "        loss.backward()\n",
    "        optimizer.step()\n",
    "\n",
    "        epoch_loss += loss.item()\n",
    "\n",
    "    epoch_loss /= len(dl)\n",
    "    return epoch_loss\n",
    "\n",
    "@torch.no_grad()\n",
    "def test_loop(dl, model, loss_fn, device):\n",
    "    epoch_loss = 0\n",
    "    model.eval()\n",
    "\n",
    "    act = torch.nn.Sigmoid()\n",
    "    pred_list = []\n",
    "    for batch in dl:\n",
    "        pred = model( batch[\"x\"].to(device) )\n",
    "        if batch.get(\"y\") is not None:\n",
    "            loss = loss_fn(pred, batch[\"y\"].to(device) )\n",
    "            epoch_loss += loss.item()\n",
    "\n",
    "        pred = act(pred)\n",
    "        pred = pred.to(\"cpu\").numpy()\n",
    "        pred_list.append(pred)\n",
    "\n",
    "    pred = np.concatenate(pred_list)\n",
    "    epoch_loss /= len(dl)\n",
    "    return epoch_loss, pred\n",
    "\n",
    "from sklearn.model_selection import KFold\n",
    "from sklearn.metrics import roc_auc_score\n",
    "\n",
    "loss_fn = torch.nn.BCEWithLogitsLoss()\n",
    "device = \"cuda\" if torch.cuda.is_available() else \"cpu\"\n",
    "batch_size = 32\n",
    "n_features = train_ft.shape[1]\n",
    "n_splits = 5\n",
    "\n",
    "cv = KFold(n_splits, shuffle=True, random_state=SEED)"
   ]
  },
  {
   "cell_type": "code",
   "execution_count": 3,
   "metadata": {
    "colab": {
     "base_uri": "https://localhost:8080/",
     "height": 86
    },
    "executionInfo": {
     "elapsed": 11905,
     "status": "ok",
     "timestamp": 1734566590006,
     "user": {
      "displayName": "koeyhi",
      "userId": "08049178071858703986"
     },
     "user_tz": -540
    },
    "id": "PLBhVUJNbWYe",
    "outputId": "550149f8-c04b-4a42-fe5a-769ced1aeb54"
   },
   "outputs": [
    {
     "name": "stderr",
     "output_type": "stream",
     "text": [
      "wandb: Using wandb-core as the SDK backend.  Please refer to https://wandb.me/wandb-core for more information.\n",
      "wandb: Currently logged in as: koeyhi (koeyhi-student). Use `wandb login --relogin` to force relogin\n"
     ]
    },
    {
     "data": {
      "text/plain": [
       "True"
      ]
     },
     "execution_count": 3,
     "metadata": {},
     "output_type": "execute_result"
    }
   ],
   "source": [
    "import wandb\n",
    "\n",
    "wandb.login()"
   ]
  },
  {
   "cell_type": "code",
   "execution_count": 4,
   "metadata": {
    "executionInfo": {
     "elapsed": 315,
     "status": "ok",
     "timestamp": 1734567074539,
     "user": {
      "displayName": "koeyhi",
      "userId": "08049178071858703986"
     },
     "user_tz": -540
    },
    "id": "n2bFe2xmfZU2"
   },
   "outputs": [],
   "source": [
    "class Net(torch.nn.Module):\n",
    "    def __init__(self, n_features, hidden_size, act_func_key, dropout):\n",
    "        super().__init__()\n",
    "        act_func = {\n",
    "            \"relu\": torch.nn.ReLU(),\n",
    "            \"lkrelu\": torch.nn.LeakyReLU(),\n",
    "            \"prelu\": torch.nn.PReLU(),\n",
    "            \"elu\": torch.nn.ELU(),\n",
    "            \"silu\": torch.nn.SiLU(),\n",
    "            \"gelu\": torch.nn.GELU(),\n",
    "        }\n",
    "\n",
    "        self.seq = torch.nn.Sequential(\n",
    "            torch.nn.Linear(n_features, hidden_size),\n",
    "            act_func[act_func_key],\n",
    "            torch.nn.Dropout(dropout),\n",
    "            torch.nn.Linear(hidden_size, hidden_size // 2),\n",
    "            act_func[act_func_key],\n",
    "            torch.nn.Linear(hidden_size // 2, 1),\n",
    "        )\n",
    "\n",
    "    def forward(self, x):\n",
    "        return self.seq(x)"
   ]
  },
  {
   "cell_type": "code",
   "execution_count": 5,
   "metadata": {
    "colab": {
     "base_uri": "https://localhost:8080/"
    },
    "executionInfo": {
     "elapsed": 309,
     "status": "ok",
     "timestamp": 1734567083242,
     "user": {
      "displayName": "koeyhi",
      "userId": "08049178071858703986"
     },
     "user_tz": -540
    },
    "id": "moDrSetHh7HB",
    "outputId": "a8e080c4-c9c7-4607-ca0d-87f368b52b0d"
   },
   "outputs": [
    {
     "data": {
      "text/plain": [
       "tensor([[0.1236],\n",
       "        [0.1805]], grad_fn=<AddmmBackward0>)"
      ]
     },
     "execution_count": 5,
     "metadata": {},
     "output_type": "execute_result"
    }
   ],
   "source": [
    "model = Net(train_ft.shape[1], 16, \"gelu\", 0.1)\n",
    "model(torch.Tensor(train_ft[:2]))"
   ]
  },
  {
   "cell_type": "markdown",
   "metadata": {
    "id": "2an1tyfXb6_j"
   },
   "source": [
    "# Sweep config 설정"
   ]
  },
  {
   "cell_type": "code",
   "execution_count": 6,
   "metadata": {
    "executionInfo": {
     "elapsed": 263,
     "status": "ok",
     "timestamp": 1734566731895,
     "user": {
      "displayName": "koeyhi",
      "userId": "08049178071858703986"
     },
     "user_tz": -540
    },
    "id": "DPVaqezkb6gS"
   },
   "outputs": [],
   "source": [
    "sweep_config = {\n",
    "    \"project\": \"my-project\", # 프로젝트 지정\n",
    "    \"name\": \"titanic-hp-tuning\", # wandb의 UI에 표시되는 스윕의 이름\n",
    "    \"method\": \"bayes\", # 튜닝 전략(\"bayes\", \"random\", \"grid\")\n",
    "}"
   ]
  },
  {
   "cell_type": "code",
   "execution_count": 7,
   "metadata": {
    "executionInfo": {
     "elapsed": 2,
     "status": "ok",
     "timestamp": 1734566732939,
     "user": {
      "displayName": "koeyhi",
      "userId": "08049178071858703986"
     },
     "user_tz": -540
    },
    "id": "emL9uaLUcv71"
   },
   "outputs": [],
   "source": [
    "# 최적화에 사용할 메트릭 지정\n",
    "sweep_config[\"metric\"] = {\n",
    "    \"name\": \"score\", # wandb.log에 기록하는 평가지표의 키 이름\n",
    "    \"goal\": \"maximize\", # maximize, minimize\n",
    "}"
   ]
  },
  {
   "cell_type": "code",
   "execution_count": 8,
   "metadata": {
    "executionInfo": {
     "elapsed": 433,
     "status": "ok",
     "timestamp": 1734567252256,
     "user": {
      "displayName": "koeyhi",
      "userId": "08049178071858703986"
     },
     "user_tz": -540
    },
    "id": "LmmkB4gbdlCe"
   },
   "outputs": [],
   "source": [
    "# 하이퍼파라미터 탐색 범위\n",
    "sweep_config[\"parameters\"] = {\n",
    "    # key: 하이퍼파라미터 명, value: 하이퍼파라미터 범위\n",
    "    \"batch_size\": {\"values\": [8, 16, 32, 64, 128]},\n",
    "    \"lr\": {\n",
    "        \"distribution\": \"uniform\",\n",
    "        \"min\": 0.0001,\n",
    "        \"max\": 0.01\n",
    "    },\n",
    "    \"hidden_size\": {\"values\": [6, 8, 10, 12, 16]},\n",
    "    \"act_func_key\": {\"values\": [\"relu\", \"lkrelu\", \"prelu\", \"elu\", \"silu\", \"gelu\"]},\n",
    "    \"dropout\": {\"values\": [0., 0.1, 0.2, 0.3, 0.4, 0.5]}\n",
    "}"
   ]
  },
  {
   "cell_type": "code",
   "execution_count": 9,
   "metadata": {
    "colab": {
     "base_uri": "https://localhost:8080/"
    },
    "executionInfo": {
     "elapsed": 313,
     "status": "ok",
     "timestamp": 1734567266788,
     "user": {
      "displayName": "koeyhi",
      "userId": "08049178071858703986"
     },
     "user_tz": -540
    },
    "id": "XLmtHKwjPCBC",
    "outputId": "fd66d742-2c27-496d-dd84-d138e7a6980c"
   },
   "outputs": [
    {
     "name": "stdout",
     "output_type": "stream",
     "text": [
      "{'method': 'bayes',\n",
      " 'metric': {'goal': 'maximize', 'name': 'score'},\n",
      " 'name': 'titanic-hp-tuning',\n",
      " 'parameters': {'act_func_key': {'values': ['relu',\n",
      "                                            'lkrelu',\n",
      "                                            'prelu',\n",
      "                                            'elu',\n",
      "                                            'silu',\n",
      "                                            'gelu']},\n",
      "                'batch_size': {'values': [8, 16, 32, 64, 128]},\n",
      "                'dropout': {'values': [0.0, 0.1, 0.2, 0.3, 0.4, 0.5]},\n",
      "                'hidden_size': {'values': [6, 8, 10, 12, 16]},\n",
      "                'lr': {'distribution': 'uniform', 'max': 0.01, 'min': 0.0001}},\n",
      " 'project': 'my-project'}\n"
     ]
    }
   ],
   "source": [
    "from pprint import pprint\n",
    "\n",
    "pprint(sweep_config)"
   ]
  },
  {
   "cell_type": "markdown",
   "metadata": {
    "id": "xWgopKStRiuU"
   },
   "source": [
    "# wandb.sweep 함수\n",
    "- 스윕 생성 함수로 스윕 설정값(딕셔너리 형태)을 전달"
   ]
  },
  {
   "cell_type": "code",
   "execution_count": 14,
   "metadata": {
    "colab": {
     "base_uri": "https://localhost:8080/"
    },
    "executionInfo": {
     "elapsed": 557,
     "status": "ok",
     "timestamp": 1734567388171,
     "user": {
      "displayName": "koeyhi",
      "userId": "08049178071858703986"
     },
     "user_tz": -540
    },
    "id": "mE5X3PeHRXbH",
    "outputId": "faff21d3-8351-4204-e9b6-37bb781dad52"
   },
   "outputs": [
    {
     "name": "stdout",
     "output_type": "stream",
     "text": [
      "Create sweep with ID: g4lfwo5g\n",
      "Sweep URL: https://wandb.ai/koeyhi-student/my-project/sweeps/g4lfwo5g\n"
     ]
    }
   ],
   "source": [
    "sweep_id = wandb.sweep(sweep_config)"
   ]
  },
  {
   "cell_type": "code",
   "execution_count": 15,
   "metadata": {
    "colab": {
     "base_uri": "https://localhost:8080/",
     "height": 35
    },
    "executionInfo": {
     "elapsed": 298,
     "status": "ok",
     "timestamp": 1734567488891,
     "user": {
      "displayName": "koeyhi",
      "userId": "08049178071858703986"
     },
     "user_tz": -540
    },
    "id": "By9t0YGmR2dp",
    "outputId": "b4a135d9-8a09-45ff-be54-19c45d64847f"
   },
   "outputs": [
    {
     "data": {
      "application/vnd.google.colaboratory.intrinsic+json": {
       "type": "string"
      },
      "text/plain": [
       "'g4lfwo5g'"
      ]
     },
     "execution_count": 15,
     "metadata": {},
     "output_type": "execute_result"
    }
   ],
   "source": [
    "sweep_id"
   ]
  },
  {
   "cell_type": "markdown",
   "metadata": {
    "id": "oy9m9muXSBk8"
   },
   "source": [
    "# wandb.agent 함수\n",
    "- 생성된 스윕에 대해 하이퍼파라미터 탐색 수행\n",
    "- 주요 파라미터\n",
    "    - sweep_id\n",
    "    - 콜백함수\n",
    "    - count: 시도 횟수"
   ]
  },
  {
   "cell_type": "code",
   "execution_count": 16,
   "metadata": {
    "executionInfo": {
     "elapsed": 988,
     "status": "ok",
     "timestamp": 1734570203198,
     "user": {
      "displayName": "koeyhi",
      "userId": "08049178071858703986"
     },
     "user_tz": -540
    },
    "id": "iy8BRBO1SjXw"
   },
   "outputs": [],
   "source": [
    "class AgentFunction:\n",
    "    def __init__(self, x, y, loss_fn, device, seed):\n",
    "        self.x, self.y, self.loss_fn, self.device, self.seed = x, y, loss_fn, device, seed\n",
    "        self.cv = KFold(5, shuffle=True, random_state=self.seed)\n",
    "\n",
    "    def __call__(self, config=None):\n",
    "        with wandb.init(config=config):\n",
    "            config = wandb.config\n",
    "            score_list = []\n",
    "            for i, (tri, vai) in enumerate(self.cv.split(self.x)):\n",
    "                train_dt = TitanicDataset(self.x[tri], self.y[tri])\n",
    "                train_dl = torch.utils.data.DataLoader(train_dt, batch_size=config.batch_size, shuffle=True)\n",
    "\n",
    "                valid_dt = TitanicDataset(self.x[vai], self.y[vai])\n",
    "                valid_dl = torch.utils.data.DataLoader(valid_dt, batch_size=config.batch_size, shuffle=False)\n",
    "\n",
    "                model = Net(self.x.shape[1], config.hidden_size, config.act_func_key, config.dropout).to(self.device)\n",
    "                optimizer = torch.optim.Adam(model.parameters(), lr=config.lr)\n",
    "\n",
    "                patience = 0\n",
    "                best_score = 0\n",
    "                for epoch in range(100):\n",
    "                    train_loss = train_loop(train_dl, model, self.loss_fn, optimizer, self.device)\n",
    "                    valid_loss, pred = test_loop(valid_dl, model, self.loss_fn, self.device)\n",
    "                    score = roc_auc_score(self.y[vai], pred)\n",
    "                    patience += 1\n",
    "\n",
    "                    if score > best_score:\n",
    "                        best_score = score\n",
    "                        patience = 0\n",
    "\n",
    "                    if patience == 5:\n",
    "                        break\n",
    "\n",
    "                score_list.append(score)\n",
    "\n",
    "            wandb.log({\"score\": np.mean(score_list)})"
   ]
  },
  {
   "cell_type": "code",
   "execution_count": 17,
   "metadata": {
    "colab": {
     "base_uri": "https://localhost:8080/",
     "height": 1000
    },
    "executionInfo": {
     "elapsed": 214980,
     "status": "ok",
     "timestamp": 1734570552489,
     "user": {
      "displayName": "koeyhi",
      "userId": "08049178071858703986"
     },
     "user_tz": -540
    },
    "id": "mMkP9VOEcNB6",
    "outputId": "e5409862-ddf1-417f-962b-6d1b6a90fa9a"
   },
   "outputs": [
    {
     "name": "stderr",
     "output_type": "stream",
     "text": [
      "\u001b[34m\u001b[1mwandb\u001b[0m: Agent Starting Run: iyvydk7l with config:\n",
      "\u001b[34m\u001b[1mwandb\u001b[0m: \tact_func_key: elu\n",
      "\u001b[34m\u001b[1mwandb\u001b[0m: \tbatch_size: 32\n",
      "\u001b[34m\u001b[1mwandb\u001b[0m: \tdropout: 0\n",
      "\u001b[34m\u001b[1mwandb\u001b[0m: \thidden_size: 16\n",
      "\u001b[34m\u001b[1mwandb\u001b[0m: \tlr: 0.0055241294588629156\n",
      "\u001b[34m\u001b[1mwandb\u001b[0m: Currently logged in as: \u001b[33mkoeyhi\u001b[0m (\u001b[33mkoeyhi-student\u001b[0m). Use \u001b[1m`wandb login --relogin`\u001b[0m to force relogin\n"
     ]
    },
    {
     "data": {
      "text/html": [
       "Tracking run with wandb version 0.19.1"
      ],
      "text/plain": [
       "<IPython.core.display.HTML object>"
      ]
     },
     "metadata": {},
     "output_type": "display_data"
    },
    {
     "data": {
      "text/html": [
       "Run data is saved locally in <code>/content/wandb/run-20241219_010525-iyvydk7l</code>"
      ],
      "text/plain": [
       "<IPython.core.display.HTML object>"
      ]
     },
     "metadata": {},
     "output_type": "display_data"
    },
    {
     "data": {
      "text/html": [
       "Syncing run <strong><a href='https://wandb.ai/koeyhi-student/my-project/runs/iyvydk7l' target=\"_blank\">lively-sweep-1</a></strong> to <a href='https://wandb.ai/koeyhi-student/my-project' target=\"_blank\">Weights & Biases</a> (<a href='https://wandb.me/developer-guide' target=\"_blank\">docs</a>)<br>Sweep page: <a href='https://wandb.ai/koeyhi-student/my-project/sweeps/g4lfwo5g' target=\"_blank\">https://wandb.ai/koeyhi-student/my-project/sweeps/g4lfwo5g</a>"
      ],
      "text/plain": [
       "<IPython.core.display.HTML object>"
      ]
     },
     "metadata": {},
     "output_type": "display_data"
    },
    {
     "data": {
      "text/html": [
       " View project at <a href='https://wandb.ai/koeyhi-student/my-project' target=\"_blank\">https://wandb.ai/koeyhi-student/my-project</a>"
      ],
      "text/plain": [
       "<IPython.core.display.HTML object>"
      ]
     },
     "metadata": {},
     "output_type": "display_data"
    },
    {
     "data": {
      "text/html": [
       " View sweep at <a href='https://wandb.ai/koeyhi-student/my-project/sweeps/g4lfwo5g' target=\"_blank\">https://wandb.ai/koeyhi-student/my-project/sweeps/g4lfwo5g</a>"
      ],
      "text/plain": [
       "<IPython.core.display.HTML object>"
      ]
     },
     "metadata": {},
     "output_type": "display_data"
    },
    {
     "data": {
      "text/html": [
       " View run at <a href='https://wandb.ai/koeyhi-student/my-project/runs/iyvydk7l' target=\"_blank\">https://wandb.ai/koeyhi-student/my-project/runs/iyvydk7l</a>"
      ],
      "text/plain": [
       "<IPython.core.display.HTML object>"
      ]
     },
     "metadata": {},
     "output_type": "display_data"
    },
    {
     "data": {
      "text/html": [],
      "text/plain": [
       "<IPython.core.display.HTML object>"
      ]
     },
     "metadata": {},
     "output_type": "display_data"
    },
    {
     "data": {
      "text/html": [
       "<br>    <style><br>        .wandb-row {<br>            display: flex;<br>            flex-direction: row;<br>            flex-wrap: wrap;<br>            justify-content: flex-start;<br>            width: 100%;<br>        }<br>        .wandb-col {<br>            display: flex;<br>            flex-direction: column;<br>            flex-basis: 100%;<br>            flex: 1;<br>            padding: 10px;<br>        }<br>    </style><br><div class=\"wandb-row\"><div class=\"wandb-col\"><h3>Run history:</h3><br/><table class=\"wandb\"><tr><td>score</td><td>▁</td></tr></table><br/></div><div class=\"wandb-col\"><h3>Run summary:</h3><br/><table class=\"wandb\"><tr><td>score</td><td>0.89764</td></tr></table><br/></div></div>"
      ],
      "text/plain": [
       "<IPython.core.display.HTML object>"
      ]
     },
     "metadata": {},
     "output_type": "display_data"
    },
    {
     "data": {
      "text/html": [
       " View run <strong style=\"color:#cdcd00\">lively-sweep-1</strong> at: <a href='https://wandb.ai/koeyhi-student/my-project/runs/iyvydk7l' target=\"_blank\">https://wandb.ai/koeyhi-student/my-project/runs/iyvydk7l</a><br> View project at: <a href='https://wandb.ai/koeyhi-student/my-project' target=\"_blank\">https://wandb.ai/koeyhi-student/my-project</a><br>Synced 5 W&B file(s), 0 media file(s), 0 artifact file(s) and 0 other file(s)"
      ],
      "text/plain": [
       "<IPython.core.display.HTML object>"
      ]
     },
     "metadata": {},
     "output_type": "display_data"
    },
    {
     "data": {
      "text/html": [
       "Find logs at: <code>./wandb/run-20241219_010525-iyvydk7l/logs</code>"
      ],
      "text/plain": [
       "<IPython.core.display.HTML object>"
      ]
     },
     "metadata": {},
     "output_type": "display_data"
    },
    {
     "name": "stderr",
     "output_type": "stream",
     "text": [
      "\u001b[34m\u001b[1mwandb\u001b[0m: Agent Starting Run: hvmjujar with config:\n",
      "\u001b[34m\u001b[1mwandb\u001b[0m: \tact_func_key: lkrelu\n",
      "\u001b[34m\u001b[1mwandb\u001b[0m: \tbatch_size: 128\n",
      "\u001b[34m\u001b[1mwandb\u001b[0m: \tdropout: 0.3\n",
      "\u001b[34m\u001b[1mwandb\u001b[0m: \thidden_size: 16\n",
      "\u001b[34m\u001b[1mwandb\u001b[0m: \tlr: 0.0012326570558403938\n"
     ]
    },
    {
     "data": {
      "text/html": [
       "Tracking run with wandb version 0.19.1"
      ],
      "text/plain": [
       "<IPython.core.display.HTML object>"
      ]
     },
     "metadata": {},
     "output_type": "display_data"
    },
    {
     "data": {
      "text/html": [
       "Run data is saved locally in <code>/content/wandb/run-20241219_010545-hvmjujar</code>"
      ],
      "text/plain": [
       "<IPython.core.display.HTML object>"
      ]
     },
     "metadata": {},
     "output_type": "display_data"
    },
    {
     "data": {
      "text/html": [
       "Syncing run <strong><a href='https://wandb.ai/koeyhi-student/my-project/runs/hvmjujar' target=\"_blank\">earnest-sweep-2</a></strong> to <a href='https://wandb.ai/koeyhi-student/my-project' target=\"_blank\">Weights & Biases</a> (<a href='https://wandb.me/developer-guide' target=\"_blank\">docs</a>)<br>Sweep page: <a href='https://wandb.ai/koeyhi-student/my-project/sweeps/g4lfwo5g' target=\"_blank\">https://wandb.ai/koeyhi-student/my-project/sweeps/g4lfwo5g</a>"
      ],
      "text/plain": [
       "<IPython.core.display.HTML object>"
      ]
     },
     "metadata": {},
     "output_type": "display_data"
    },
    {
     "data": {
      "text/html": [
       " View project at <a href='https://wandb.ai/koeyhi-student/my-project' target=\"_blank\">https://wandb.ai/koeyhi-student/my-project</a>"
      ],
      "text/plain": [
       "<IPython.core.display.HTML object>"
      ]
     },
     "metadata": {},
     "output_type": "display_data"
    },
    {
     "data": {
      "text/html": [
       " View sweep at <a href='https://wandb.ai/koeyhi-student/my-project/sweeps/g4lfwo5g' target=\"_blank\">https://wandb.ai/koeyhi-student/my-project/sweeps/g4lfwo5g</a>"
      ],
      "text/plain": [
       "<IPython.core.display.HTML object>"
      ]
     },
     "metadata": {},
     "output_type": "display_data"
    },
    {
     "data": {
      "text/html": [
       " View run at <a href='https://wandb.ai/koeyhi-student/my-project/runs/hvmjujar' target=\"_blank\">https://wandb.ai/koeyhi-student/my-project/runs/hvmjujar</a>"
      ],
      "text/plain": [
       "<IPython.core.display.HTML object>"
      ]
     },
     "metadata": {},
     "output_type": "display_data"
    },
    {
     "data": {
      "text/html": [],
      "text/plain": [
       "<IPython.core.display.HTML object>"
      ]
     },
     "metadata": {},
     "output_type": "display_data"
    },
    {
     "data": {
      "text/html": [
       "<br>    <style><br>        .wandb-row {<br>            display: flex;<br>            flex-direction: row;<br>            flex-wrap: wrap;<br>            justify-content: flex-start;<br>            width: 100%;<br>        }<br>        .wandb-col {<br>            display: flex;<br>            flex-direction: column;<br>            flex-basis: 100%;<br>            flex: 1;<br>            padding: 10px;<br>        }<br>    </style><br><div class=\"wandb-row\"><div class=\"wandb-col\"><h3>Run history:</h3><br/><table class=\"wandb\"><tr><td>score</td><td>▁</td></tr></table><br/></div><div class=\"wandb-col\"><h3>Run summary:</h3><br/><table class=\"wandb\"><tr><td>score</td><td>0.88535</td></tr></table><br/></div></div>"
      ],
      "text/plain": [
       "<IPython.core.display.HTML object>"
      ]
     },
     "metadata": {},
     "output_type": "display_data"
    },
    {
     "data": {
      "text/html": [
       " View run <strong style=\"color:#cdcd00\">earnest-sweep-2</strong> at: <a href='https://wandb.ai/koeyhi-student/my-project/runs/hvmjujar' target=\"_blank\">https://wandb.ai/koeyhi-student/my-project/runs/hvmjujar</a><br> View project at: <a href='https://wandb.ai/koeyhi-student/my-project' target=\"_blank\">https://wandb.ai/koeyhi-student/my-project</a><br>Synced 5 W&B file(s), 0 media file(s), 0 artifact file(s) and 0 other file(s)"
      ],
      "text/plain": [
       "<IPython.core.display.HTML object>"
      ]
     },
     "metadata": {},
     "output_type": "display_data"
    },
    {
     "data": {
      "text/html": [
       "Find logs at: <code>./wandb/run-20241219_010545-hvmjujar/logs</code>"
      ],
      "text/plain": [
       "<IPython.core.display.HTML object>"
      ]
     },
     "metadata": {},
     "output_type": "display_data"
    },
    {
     "name": "stderr",
     "output_type": "stream",
     "text": [
      "\u001b[34m\u001b[1mwandb\u001b[0m: Sweep Agent: Waiting for job.\n",
      "\u001b[34m\u001b[1mwandb\u001b[0m: Job received.\n",
      "\u001b[34m\u001b[1mwandb\u001b[0m: Agent Starting Run: jik1yowt with config:\n",
      "\u001b[34m\u001b[1mwandb\u001b[0m: \tact_func_key: prelu\n",
      "\u001b[34m\u001b[1mwandb\u001b[0m: \tbatch_size: 64\n",
      "\u001b[34m\u001b[1mwandb\u001b[0m: \tdropout: 0.5\n",
      "\u001b[34m\u001b[1mwandb\u001b[0m: \thidden_size: 8\n",
      "\u001b[34m\u001b[1mwandb\u001b[0m: \tlr: 0.008486637454744622\n"
     ]
    },
    {
     "data": {
      "text/html": [
       "Tracking run with wandb version 0.19.1"
      ],
      "text/plain": [
       "<IPython.core.display.HTML object>"
      ]
     },
     "metadata": {},
     "output_type": "display_data"
    },
    {
     "data": {
      "text/html": [
       "Run data is saved locally in <code>/content/wandb/run-20241219_010604-jik1yowt</code>"
      ],
      "text/plain": [
       "<IPython.core.display.HTML object>"
      ]
     },
     "metadata": {},
     "output_type": "display_data"
    },
    {
     "data": {
      "text/html": [
       "Syncing run <strong><a href='https://wandb.ai/koeyhi-student/my-project/runs/jik1yowt' target=\"_blank\">dazzling-sweep-3</a></strong> to <a href='https://wandb.ai/koeyhi-student/my-project' target=\"_blank\">Weights & Biases</a> (<a href='https://wandb.me/developer-guide' target=\"_blank\">docs</a>)<br>Sweep page: <a href='https://wandb.ai/koeyhi-student/my-project/sweeps/g4lfwo5g' target=\"_blank\">https://wandb.ai/koeyhi-student/my-project/sweeps/g4lfwo5g</a>"
      ],
      "text/plain": [
       "<IPython.core.display.HTML object>"
      ]
     },
     "metadata": {},
     "output_type": "display_data"
    },
    {
     "data": {
      "text/html": [
       " View project at <a href='https://wandb.ai/koeyhi-student/my-project' target=\"_blank\">https://wandb.ai/koeyhi-student/my-project</a>"
      ],
      "text/plain": [
       "<IPython.core.display.HTML object>"
      ]
     },
     "metadata": {},
     "output_type": "display_data"
    },
    {
     "data": {
      "text/html": [
       " View sweep at <a href='https://wandb.ai/koeyhi-student/my-project/sweeps/g4lfwo5g' target=\"_blank\">https://wandb.ai/koeyhi-student/my-project/sweeps/g4lfwo5g</a>"
      ],
      "text/plain": [
       "<IPython.core.display.HTML object>"
      ]
     },
     "metadata": {},
     "output_type": "display_data"
    },
    {
     "data": {
      "text/html": [
       " View run at <a href='https://wandb.ai/koeyhi-student/my-project/runs/jik1yowt' target=\"_blank\">https://wandb.ai/koeyhi-student/my-project/runs/jik1yowt</a>"
      ],
      "text/plain": [
       "<IPython.core.display.HTML object>"
      ]
     },
     "metadata": {},
     "output_type": "display_data"
    },
    {
     "data": {
      "text/html": [],
      "text/plain": [
       "<IPython.core.display.HTML object>"
      ]
     },
     "metadata": {},
     "output_type": "display_data"
    },
    {
     "data": {
      "text/html": [
       "<br>    <style><br>        .wandb-row {<br>            display: flex;<br>            flex-direction: row;<br>            flex-wrap: wrap;<br>            justify-content: flex-start;<br>            width: 100%;<br>        }<br>        .wandb-col {<br>            display: flex;<br>            flex-direction: column;<br>            flex-basis: 100%;<br>            flex: 1;<br>            padding: 10px;<br>        }<br>    </style><br><div class=\"wandb-row\"><div class=\"wandb-col\"><h3>Run history:</h3><br/><table class=\"wandb\"><tr><td>score</td><td>▁</td></tr></table><br/></div><div class=\"wandb-col\"><h3>Run summary:</h3><br/><table class=\"wandb\"><tr><td>score</td><td>0.89512</td></tr></table><br/></div></div>"
      ],
      "text/plain": [
       "<IPython.core.display.HTML object>"
      ]
     },
     "metadata": {},
     "output_type": "display_data"
    },
    {
     "data": {
      "text/html": [
       " View run <strong style=\"color:#cdcd00\">dazzling-sweep-3</strong> at: <a href='https://wandb.ai/koeyhi-student/my-project/runs/jik1yowt' target=\"_blank\">https://wandb.ai/koeyhi-student/my-project/runs/jik1yowt</a><br> View project at: <a href='https://wandb.ai/koeyhi-student/my-project' target=\"_blank\">https://wandb.ai/koeyhi-student/my-project</a><br>Synced 5 W&B file(s), 0 media file(s), 0 artifact file(s) and 0 other file(s)"
      ],
      "text/plain": [
       "<IPython.core.display.HTML object>"
      ]
     },
     "metadata": {},
     "output_type": "display_data"
    },
    {
     "data": {
      "text/html": [
       "Find logs at: <code>./wandb/run-20241219_010604-jik1yowt/logs</code>"
      ],
      "text/plain": [
       "<IPython.core.display.HTML object>"
      ]
     },
     "metadata": {},
     "output_type": "display_data"
    },
    {
     "name": "stderr",
     "output_type": "stream",
     "text": [
      "\u001b[34m\u001b[1mwandb\u001b[0m: Agent Starting Run: gyyrnw0i with config:\n",
      "\u001b[34m\u001b[1mwandb\u001b[0m: \tact_func_key: gelu\n",
      "\u001b[34m\u001b[1mwandb\u001b[0m: \tbatch_size: 8\n",
      "\u001b[34m\u001b[1mwandb\u001b[0m: \tdropout: 0.3\n",
      "\u001b[34m\u001b[1mwandb\u001b[0m: \thidden_size: 10\n",
      "\u001b[34m\u001b[1mwandb\u001b[0m: \tlr: 0.006671662610639849\n"
     ]
    },
    {
     "data": {
      "text/html": [
       "Tracking run with wandb version 0.19.1"
      ],
      "text/plain": [
       "<IPython.core.display.HTML object>"
      ]
     },
     "metadata": {},
     "output_type": "display_data"
    },
    {
     "data": {
      "text/html": [
       "Run data is saved locally in <code>/content/wandb/run-20241219_010615-gyyrnw0i</code>"
      ],
      "text/plain": [
       "<IPython.core.display.HTML object>"
      ]
     },
     "metadata": {},
     "output_type": "display_data"
    },
    {
     "data": {
      "text/html": [
       "Syncing run <strong><a href='https://wandb.ai/koeyhi-student/my-project/runs/gyyrnw0i' target=\"_blank\">charmed-sweep-4</a></strong> to <a href='https://wandb.ai/koeyhi-student/my-project' target=\"_blank\">Weights & Biases</a> (<a href='https://wandb.me/developer-guide' target=\"_blank\">docs</a>)<br>Sweep page: <a href='https://wandb.ai/koeyhi-student/my-project/sweeps/g4lfwo5g' target=\"_blank\">https://wandb.ai/koeyhi-student/my-project/sweeps/g4lfwo5g</a>"
      ],
      "text/plain": [
       "<IPython.core.display.HTML object>"
      ]
     },
     "metadata": {},
     "output_type": "display_data"
    },
    {
     "data": {
      "text/html": [
       " View project at <a href='https://wandb.ai/koeyhi-student/my-project' target=\"_blank\">https://wandb.ai/koeyhi-student/my-project</a>"
      ],
      "text/plain": [
       "<IPython.core.display.HTML object>"
      ]
     },
     "metadata": {},
     "output_type": "display_data"
    },
    {
     "data": {
      "text/html": [
       " View sweep at <a href='https://wandb.ai/koeyhi-student/my-project/sweeps/g4lfwo5g' target=\"_blank\">https://wandb.ai/koeyhi-student/my-project/sweeps/g4lfwo5g</a>"
      ],
      "text/plain": [
       "<IPython.core.display.HTML object>"
      ]
     },
     "metadata": {},
     "output_type": "display_data"
    },
    {
     "data": {
      "text/html": [
       " View run at <a href='https://wandb.ai/koeyhi-student/my-project/runs/gyyrnw0i' target=\"_blank\">https://wandb.ai/koeyhi-student/my-project/runs/gyyrnw0i</a>"
      ],
      "text/plain": [
       "<IPython.core.display.HTML object>"
      ]
     },
     "metadata": {},
     "output_type": "display_data"
    },
    {
     "data": {
      "text/html": [],
      "text/plain": [
       "<IPython.core.display.HTML object>"
      ]
     },
     "metadata": {},
     "output_type": "display_data"
    },
    {
     "data": {
      "text/html": [
       "<br>    <style><br>        .wandb-row {<br>            display: flex;<br>            flex-direction: row;<br>            flex-wrap: wrap;<br>            justify-content: flex-start;<br>            width: 100%;<br>        }<br>        .wandb-col {<br>            display: flex;<br>            flex-direction: column;<br>            flex-basis: 100%;<br>            flex: 1;<br>            padding: 10px;<br>        }<br>    </style><br><div class=\"wandb-row\"><div class=\"wandb-col\"><h3>Run history:</h3><br/><table class=\"wandb\"><tr><td>score</td><td>▁</td></tr></table><br/></div><div class=\"wandb-col\"><h3>Run summary:</h3><br/><table class=\"wandb\"><tr><td>score</td><td>0.89933</td></tr></table><br/></div></div>"
      ],
      "text/plain": [
       "<IPython.core.display.HTML object>"
      ]
     },
     "metadata": {},
     "output_type": "display_data"
    },
    {
     "data": {
      "text/html": [
       " View run <strong style=\"color:#cdcd00\">charmed-sweep-4</strong> at: <a href='https://wandb.ai/koeyhi-student/my-project/runs/gyyrnw0i' target=\"_blank\">https://wandb.ai/koeyhi-student/my-project/runs/gyyrnw0i</a><br> View project at: <a href='https://wandb.ai/koeyhi-student/my-project' target=\"_blank\">https://wandb.ai/koeyhi-student/my-project</a><br>Synced 5 W&B file(s), 0 media file(s), 0 artifact file(s) and 0 other file(s)"
      ],
      "text/plain": [
       "<IPython.core.display.HTML object>"
      ]
     },
     "metadata": {},
     "output_type": "display_data"
    },
    {
     "data": {
      "text/html": [
       "Find logs at: <code>./wandb/run-20241219_010615-gyyrnw0i/logs</code>"
      ],
      "text/plain": [
       "<IPython.core.display.HTML object>"
      ]
     },
     "metadata": {},
     "output_type": "display_data"
    },
    {
     "name": "stderr",
     "output_type": "stream",
     "text": [
      "\u001b[34m\u001b[1mwandb\u001b[0m: Agent Starting Run: mgfqucf7 with config:\n",
      "\u001b[34m\u001b[1mwandb\u001b[0m: \tact_func_key: elu\n",
      "\u001b[34m\u001b[1mwandb\u001b[0m: \tbatch_size: 16\n",
      "\u001b[34m\u001b[1mwandb\u001b[0m: \tdropout: 0.5\n",
      "\u001b[34m\u001b[1mwandb\u001b[0m: \thidden_size: 8\n",
      "\u001b[34m\u001b[1mwandb\u001b[0m: \tlr: 0.0014257288026262836\n"
     ]
    },
    {
     "data": {
      "text/html": [
       "Tracking run with wandb version 0.19.1"
      ],
      "text/plain": [
       "<IPython.core.display.HTML object>"
      ]
     },
     "metadata": {},
     "output_type": "display_data"
    },
    {
     "data": {
      "text/html": [
       "Run data is saved locally in <code>/content/wandb/run-20241219_010636-mgfqucf7</code>"
      ],
      "text/plain": [
       "<IPython.core.display.HTML object>"
      ]
     },
     "metadata": {},
     "output_type": "display_data"
    },
    {
     "data": {
      "text/html": [
       "Syncing run <strong><a href='https://wandb.ai/koeyhi-student/my-project/runs/mgfqucf7' target=\"_blank\">comic-sweep-5</a></strong> to <a href='https://wandb.ai/koeyhi-student/my-project' target=\"_blank\">Weights & Biases</a> (<a href='https://wandb.me/developer-guide' target=\"_blank\">docs</a>)<br>Sweep page: <a href='https://wandb.ai/koeyhi-student/my-project/sweeps/g4lfwo5g' target=\"_blank\">https://wandb.ai/koeyhi-student/my-project/sweeps/g4lfwo5g</a>"
      ],
      "text/plain": [
       "<IPython.core.display.HTML object>"
      ]
     },
     "metadata": {},
     "output_type": "display_data"
    },
    {
     "data": {
      "text/html": [
       " View project at <a href='https://wandb.ai/koeyhi-student/my-project' target=\"_blank\">https://wandb.ai/koeyhi-student/my-project</a>"
      ],
      "text/plain": [
       "<IPython.core.display.HTML object>"
      ]
     },
     "metadata": {},
     "output_type": "display_data"
    },
    {
     "data": {
      "text/html": [
       " View sweep at <a href='https://wandb.ai/koeyhi-student/my-project/sweeps/g4lfwo5g' target=\"_blank\">https://wandb.ai/koeyhi-student/my-project/sweeps/g4lfwo5g</a>"
      ],
      "text/plain": [
       "<IPython.core.display.HTML object>"
      ]
     },
     "metadata": {},
     "output_type": "display_data"
    },
    {
     "data": {
      "text/html": [
       " View run at <a href='https://wandb.ai/koeyhi-student/my-project/runs/mgfqucf7' target=\"_blank\">https://wandb.ai/koeyhi-student/my-project/runs/mgfqucf7</a>"
      ],
      "text/plain": [
       "<IPython.core.display.HTML object>"
      ]
     },
     "metadata": {},
     "output_type": "display_data"
    },
    {
     "data": {
      "text/html": [],
      "text/plain": [
       "<IPython.core.display.HTML object>"
      ]
     },
     "metadata": {},
     "output_type": "display_data"
    },
    {
     "data": {
      "text/html": [
       "<br>    <style><br>        .wandb-row {<br>            display: flex;<br>            flex-direction: row;<br>            flex-wrap: wrap;<br>            justify-content: flex-start;<br>            width: 100%;<br>        }<br>        .wandb-col {<br>            display: flex;<br>            flex-direction: column;<br>            flex-basis: 100%;<br>            flex: 1;<br>            padding: 10px;<br>        }<br>    </style><br><div class=\"wandb-row\"><div class=\"wandb-col\"><h3>Run history:</h3><br/><table class=\"wandb\"><tr><td>score</td><td>▁</td></tr></table><br/></div><div class=\"wandb-col\"><h3>Run summary:</h3><br/><table class=\"wandb\"><tr><td>score</td><td>0.89134</td></tr></table><br/></div></div>"
      ],
      "text/plain": [
       "<IPython.core.display.HTML object>"
      ]
     },
     "metadata": {},
     "output_type": "display_data"
    },
    {
     "data": {
      "text/html": [
       " View run <strong style=\"color:#cdcd00\">comic-sweep-5</strong> at: <a href='https://wandb.ai/koeyhi-student/my-project/runs/mgfqucf7' target=\"_blank\">https://wandb.ai/koeyhi-student/my-project/runs/mgfqucf7</a><br> View project at: <a href='https://wandb.ai/koeyhi-student/my-project' target=\"_blank\">https://wandb.ai/koeyhi-student/my-project</a><br>Synced 5 W&B file(s), 0 media file(s), 0 artifact file(s) and 0 other file(s)"
      ],
      "text/plain": [
       "<IPython.core.display.HTML object>"
      ]
     },
     "metadata": {},
     "output_type": "display_data"
    },
    {
     "data": {
      "text/html": [
       "Find logs at: <code>./wandb/run-20241219_010636-mgfqucf7/logs</code>"
      ],
      "text/plain": [
       "<IPython.core.display.HTML object>"
      ]
     },
     "metadata": {},
     "output_type": "display_data"
    },
    {
     "name": "stderr",
     "output_type": "stream",
     "text": [
      "\u001b[34m\u001b[1mwandb\u001b[0m: Agent Starting Run: fqxpzh3y with config:\n",
      "\u001b[34m\u001b[1mwandb\u001b[0m: \tact_func_key: prelu\n",
      "\u001b[34m\u001b[1mwandb\u001b[0m: \tbatch_size: 32\n",
      "\u001b[34m\u001b[1mwandb\u001b[0m: \tdropout: 0.1\n",
      "\u001b[34m\u001b[1mwandb\u001b[0m: \thidden_size: 16\n",
      "\u001b[34m\u001b[1mwandb\u001b[0m: \tlr: 0.0028182956367660697\n"
     ]
    },
    {
     "data": {
      "text/html": [
       "Tracking run with wandb version 0.19.1"
      ],
      "text/plain": [
       "<IPython.core.display.HTML object>"
      ]
     },
     "metadata": {},
     "output_type": "display_data"
    },
    {
     "data": {
      "text/html": [
       "Run data is saved locally in <code>/content/wandb/run-20241219_010657-fqxpzh3y</code>"
      ],
      "text/plain": [
       "<IPython.core.display.HTML object>"
      ]
     },
     "metadata": {},
     "output_type": "display_data"
    },
    {
     "data": {
      "text/html": [
       "Syncing run <strong><a href='https://wandb.ai/koeyhi-student/my-project/runs/fqxpzh3y' target=\"_blank\">restful-sweep-6</a></strong> to <a href='https://wandb.ai/koeyhi-student/my-project' target=\"_blank\">Weights & Biases</a> (<a href='https://wandb.me/developer-guide' target=\"_blank\">docs</a>)<br>Sweep page: <a href='https://wandb.ai/koeyhi-student/my-project/sweeps/g4lfwo5g' target=\"_blank\">https://wandb.ai/koeyhi-student/my-project/sweeps/g4lfwo5g</a>"
      ],
      "text/plain": [
       "<IPython.core.display.HTML object>"
      ]
     },
     "metadata": {},
     "output_type": "display_data"
    },
    {
     "data": {
      "text/html": [
       " View project at <a href='https://wandb.ai/koeyhi-student/my-project' target=\"_blank\">https://wandb.ai/koeyhi-student/my-project</a>"
      ],
      "text/plain": [
       "<IPython.core.display.HTML object>"
      ]
     },
     "metadata": {},
     "output_type": "display_data"
    },
    {
     "data": {
      "text/html": [
       " View sweep at <a href='https://wandb.ai/koeyhi-student/my-project/sweeps/g4lfwo5g' target=\"_blank\">https://wandb.ai/koeyhi-student/my-project/sweeps/g4lfwo5g</a>"
      ],
      "text/plain": [
       "<IPython.core.display.HTML object>"
      ]
     },
     "metadata": {},
     "output_type": "display_data"
    },
    {
     "data": {
      "text/html": [
       " View run at <a href='https://wandb.ai/koeyhi-student/my-project/runs/fqxpzh3y' target=\"_blank\">https://wandb.ai/koeyhi-student/my-project/runs/fqxpzh3y</a>"
      ],
      "text/plain": [
       "<IPython.core.display.HTML object>"
      ]
     },
     "metadata": {},
     "output_type": "display_data"
    },
    {
     "data": {
      "text/html": [],
      "text/plain": [
       "<IPython.core.display.HTML object>"
      ]
     },
     "metadata": {},
     "output_type": "display_data"
    },
    {
     "data": {
      "text/html": [
       "<br>    <style><br>        .wandb-row {<br>            display: flex;<br>            flex-direction: row;<br>            flex-wrap: wrap;<br>            justify-content: flex-start;<br>            width: 100%;<br>        }<br>        .wandb-col {<br>            display: flex;<br>            flex-direction: column;<br>            flex-basis: 100%;<br>            flex: 1;<br>            padding: 10px;<br>        }<br>    </style><br><div class=\"wandb-row\"><div class=\"wandb-col\"><h3>Run history:</h3><br/><table class=\"wandb\"><tr><td>score</td><td>▁</td></tr></table><br/></div><div class=\"wandb-col\"><h3>Run summary:</h3><br/><table class=\"wandb\"><tr><td>score</td><td>0.89819</td></tr></table><br/></div></div>"
      ],
      "text/plain": [
       "<IPython.core.display.HTML object>"
      ]
     },
     "metadata": {},
     "output_type": "display_data"
    },
    {
     "data": {
      "text/html": [
       " View run <strong style=\"color:#cdcd00\">restful-sweep-6</strong> at: <a href='https://wandb.ai/koeyhi-student/my-project/runs/fqxpzh3y' target=\"_blank\">https://wandb.ai/koeyhi-student/my-project/runs/fqxpzh3y</a><br> View project at: <a href='https://wandb.ai/koeyhi-student/my-project' target=\"_blank\">https://wandb.ai/koeyhi-student/my-project</a><br>Synced 5 W&B file(s), 0 media file(s), 0 artifact file(s) and 0 other file(s)"
      ],
      "text/plain": [
       "<IPython.core.display.HTML object>"
      ]
     },
     "metadata": {},
     "output_type": "display_data"
    },
    {
     "data": {
      "text/html": [
       "Find logs at: <code>./wandb/run-20241219_010657-fqxpzh3y/logs</code>"
      ],
      "text/plain": [
       "<IPython.core.display.HTML object>"
      ]
     },
     "metadata": {},
     "output_type": "display_data"
    },
    {
     "name": "stderr",
     "output_type": "stream",
     "text": [
      "\u001b[34m\u001b[1mwandb\u001b[0m: Agent Starting Run: 84sm598n with config:\n",
      "\u001b[34m\u001b[1mwandb\u001b[0m: \tact_func_key: gelu\n",
      "\u001b[34m\u001b[1mwandb\u001b[0m: \tbatch_size: 16\n",
      "\u001b[34m\u001b[1mwandb\u001b[0m: \tdropout: 0.3\n",
      "\u001b[34m\u001b[1mwandb\u001b[0m: \thidden_size: 12\n",
      "\u001b[34m\u001b[1mwandb\u001b[0m: \tlr: 0.006299816121834344\n"
     ]
    },
    {
     "data": {
      "text/html": [
       "Tracking run with wandb version 0.19.1"
      ],
      "text/plain": [
       "<IPython.core.display.HTML object>"
      ]
     },
     "metadata": {},
     "output_type": "display_data"
    },
    {
     "data": {
      "text/html": [
       "Run data is saved locally in <code>/content/wandb/run-20241219_010712-84sm598n</code>"
      ],
      "text/plain": [
       "<IPython.core.display.HTML object>"
      ]
     },
     "metadata": {},
     "output_type": "display_data"
    },
    {
     "data": {
      "text/html": [
       "Syncing run <strong><a href='https://wandb.ai/koeyhi-student/my-project/runs/84sm598n' target=\"_blank\">volcanic-sweep-7</a></strong> to <a href='https://wandb.ai/koeyhi-student/my-project' target=\"_blank\">Weights & Biases</a> (<a href='https://wandb.me/developer-guide' target=\"_blank\">docs</a>)<br>Sweep page: <a href='https://wandb.ai/koeyhi-student/my-project/sweeps/g4lfwo5g' target=\"_blank\">https://wandb.ai/koeyhi-student/my-project/sweeps/g4lfwo5g</a>"
      ],
      "text/plain": [
       "<IPython.core.display.HTML object>"
      ]
     },
     "metadata": {},
     "output_type": "display_data"
    },
    {
     "data": {
      "text/html": [
       " View project at <a href='https://wandb.ai/koeyhi-student/my-project' target=\"_blank\">https://wandb.ai/koeyhi-student/my-project</a>"
      ],
      "text/plain": [
       "<IPython.core.display.HTML object>"
      ]
     },
     "metadata": {},
     "output_type": "display_data"
    },
    {
     "data": {
      "text/html": [
       " View sweep at <a href='https://wandb.ai/koeyhi-student/my-project/sweeps/g4lfwo5g' target=\"_blank\">https://wandb.ai/koeyhi-student/my-project/sweeps/g4lfwo5g</a>"
      ],
      "text/plain": [
       "<IPython.core.display.HTML object>"
      ]
     },
     "metadata": {},
     "output_type": "display_data"
    },
    {
     "data": {
      "text/html": [
       " View run at <a href='https://wandb.ai/koeyhi-student/my-project/runs/84sm598n' target=\"_blank\">https://wandb.ai/koeyhi-student/my-project/runs/84sm598n</a>"
      ],
      "text/plain": [
       "<IPython.core.display.HTML object>"
      ]
     },
     "metadata": {},
     "output_type": "display_data"
    },
    {
     "data": {
      "text/html": [],
      "text/plain": [
       "<IPython.core.display.HTML object>"
      ]
     },
     "metadata": {},
     "output_type": "display_data"
    },
    {
     "data": {
      "text/html": [
       "<br>    <style><br>        .wandb-row {<br>            display: flex;<br>            flex-direction: row;<br>            flex-wrap: wrap;<br>            justify-content: flex-start;<br>            width: 100%;<br>        }<br>        .wandb-col {<br>            display: flex;<br>            flex-direction: column;<br>            flex-basis: 100%;<br>            flex: 1;<br>            padding: 10px;<br>        }<br>    </style><br><div class=\"wandb-row\"><div class=\"wandb-col\"><h3>Run history:</h3><br/><table class=\"wandb\"><tr><td>score</td><td>▁</td></tr></table><br/></div><div class=\"wandb-col\"><h3>Run summary:</h3><br/><table class=\"wandb\"><tr><td>score</td><td>0.89985</td></tr></table><br/></div></div>"
      ],
      "text/plain": [
       "<IPython.core.display.HTML object>"
      ]
     },
     "metadata": {},
     "output_type": "display_data"
    },
    {
     "data": {
      "text/html": [
       " View run <strong style=\"color:#cdcd00\">volcanic-sweep-7</strong> at: <a href='https://wandb.ai/koeyhi-student/my-project/runs/84sm598n' target=\"_blank\">https://wandb.ai/koeyhi-student/my-project/runs/84sm598n</a><br> View project at: <a href='https://wandb.ai/koeyhi-student/my-project' target=\"_blank\">https://wandb.ai/koeyhi-student/my-project</a><br>Synced 5 W&B file(s), 0 media file(s), 0 artifact file(s) and 0 other file(s)"
      ],
      "text/plain": [
       "<IPython.core.display.HTML object>"
      ]
     },
     "metadata": {},
     "output_type": "display_data"
    },
    {
     "data": {
      "text/html": [
       "Find logs at: <code>./wandb/run-20241219_010712-84sm598n/logs</code>"
      ],
      "text/plain": [
       "<IPython.core.display.HTML object>"
      ]
     },
     "metadata": {},
     "output_type": "display_data"
    },
    {
     "name": "stderr",
     "output_type": "stream",
     "text": [
      "\u001b[34m\u001b[1mwandb\u001b[0m: Sweep Agent: Waiting for job.\n",
      "\u001b[34m\u001b[1mwandb\u001b[0m: Job received.\n",
      "\u001b[34m\u001b[1mwandb\u001b[0m: Agent Starting Run: cti6zp05 with config:\n",
      "\u001b[34m\u001b[1mwandb\u001b[0m: \tact_func_key: gelu\n",
      "\u001b[34m\u001b[1mwandb\u001b[0m: \tbatch_size: 16\n",
      "\u001b[34m\u001b[1mwandb\u001b[0m: \tdropout: 0.2\n",
      "\u001b[34m\u001b[1mwandb\u001b[0m: \thidden_size: 16\n",
      "\u001b[34m\u001b[1mwandb\u001b[0m: \tlr: 0.006068032076158268\n"
     ]
    },
    {
     "data": {
      "text/html": [
       "Tracking run with wandb version 0.19.1"
      ],
      "text/plain": [
       "<IPython.core.display.HTML object>"
      ]
     },
     "metadata": {},
     "output_type": "display_data"
    },
    {
     "data": {
      "text/html": [
       "Run data is saved locally in <code>/content/wandb/run-20241219_010741-cti6zp05</code>"
      ],
      "text/plain": [
       "<IPython.core.display.HTML object>"
      ]
     },
     "metadata": {},
     "output_type": "display_data"
    },
    {
     "data": {
      "text/html": [
       "Syncing run <strong><a href='https://wandb.ai/koeyhi-student/my-project/runs/cti6zp05' target=\"_blank\">chocolate-sweep-8</a></strong> to <a href='https://wandb.ai/koeyhi-student/my-project' target=\"_blank\">Weights & Biases</a> (<a href='https://wandb.me/developer-guide' target=\"_blank\">docs</a>)<br>Sweep page: <a href='https://wandb.ai/koeyhi-student/my-project/sweeps/g4lfwo5g' target=\"_blank\">https://wandb.ai/koeyhi-student/my-project/sweeps/g4lfwo5g</a>"
      ],
      "text/plain": [
       "<IPython.core.display.HTML object>"
      ]
     },
     "metadata": {},
     "output_type": "display_data"
    },
    {
     "data": {
      "text/html": [
       " View project at <a href='https://wandb.ai/koeyhi-student/my-project' target=\"_blank\">https://wandb.ai/koeyhi-student/my-project</a>"
      ],
      "text/plain": [
       "<IPython.core.display.HTML object>"
      ]
     },
     "metadata": {},
     "output_type": "display_data"
    },
    {
     "data": {
      "text/html": [
       " View sweep at <a href='https://wandb.ai/koeyhi-student/my-project/sweeps/g4lfwo5g' target=\"_blank\">https://wandb.ai/koeyhi-student/my-project/sweeps/g4lfwo5g</a>"
      ],
      "text/plain": [
       "<IPython.core.display.HTML object>"
      ]
     },
     "metadata": {},
     "output_type": "display_data"
    },
    {
     "data": {
      "text/html": [
       " View run at <a href='https://wandb.ai/koeyhi-student/my-project/runs/cti6zp05' target=\"_blank\">https://wandb.ai/koeyhi-student/my-project/runs/cti6zp05</a>"
      ],
      "text/plain": [
       "<IPython.core.display.HTML object>"
      ]
     },
     "metadata": {},
     "output_type": "display_data"
    },
    {
     "data": {
      "text/html": [],
      "text/plain": [
       "<IPython.core.display.HTML object>"
      ]
     },
     "metadata": {},
     "output_type": "display_data"
    },
    {
     "data": {
      "text/html": [
       "<br>    <style><br>        .wandb-row {<br>            display: flex;<br>            flex-direction: row;<br>            flex-wrap: wrap;<br>            justify-content: flex-start;<br>            width: 100%;<br>        }<br>        .wandb-col {<br>            display: flex;<br>            flex-direction: column;<br>            flex-basis: 100%;<br>            flex: 1;<br>            padding: 10px;<br>        }<br>    </style><br><div class=\"wandb-row\"><div class=\"wandb-col\"><h3>Run history:</h3><br/><table class=\"wandb\"><tr><td>score</td><td>▁</td></tr></table><br/></div><div class=\"wandb-col\"><h3>Run summary:</h3><br/><table class=\"wandb\"><tr><td>score</td><td>0.90151</td></tr></table><br/></div></div>"
      ],
      "text/plain": [
       "<IPython.core.display.HTML object>"
      ]
     },
     "metadata": {},
     "output_type": "display_data"
    },
    {
     "data": {
      "text/html": [
       " View run <strong style=\"color:#cdcd00\">chocolate-sweep-8</strong> at: <a href='https://wandb.ai/koeyhi-student/my-project/runs/cti6zp05' target=\"_blank\">https://wandb.ai/koeyhi-student/my-project/runs/cti6zp05</a><br> View project at: <a href='https://wandb.ai/koeyhi-student/my-project' target=\"_blank\">https://wandb.ai/koeyhi-student/my-project</a><br>Synced 5 W&B file(s), 0 media file(s), 0 artifact file(s) and 0 other file(s)"
      ],
      "text/plain": [
       "<IPython.core.display.HTML object>"
      ]
     },
     "metadata": {},
     "output_type": "display_data"
    },
    {
     "data": {
      "text/html": [
       "Find logs at: <code>./wandb/run-20241219_010741-cti6zp05/logs</code>"
      ],
      "text/plain": [
       "<IPython.core.display.HTML object>"
      ]
     },
     "metadata": {},
     "output_type": "display_data"
    },
    {
     "name": "stderr",
     "output_type": "stream",
     "text": [
      "\u001b[34m\u001b[1mwandb\u001b[0m: Agent Starting Run: 360g4o7v with config:\n",
      "\u001b[34m\u001b[1mwandb\u001b[0m: \tact_func_key: gelu\n",
      "\u001b[34m\u001b[1mwandb\u001b[0m: \tbatch_size: 8\n",
      "\u001b[34m\u001b[1mwandb\u001b[0m: \tdropout: 0.2\n",
      "\u001b[34m\u001b[1mwandb\u001b[0m: \thidden_size: 16\n",
      "\u001b[34m\u001b[1mwandb\u001b[0m: \tlr: 0.009208659703468267\n"
     ]
    },
    {
     "data": {
      "text/html": [
       "Tracking run with wandb version 0.19.1"
      ],
      "text/plain": [
       "<IPython.core.display.HTML object>"
      ]
     },
     "metadata": {},
     "output_type": "display_data"
    },
    {
     "data": {
      "text/html": [
       "Run data is saved locally in <code>/content/wandb/run-20241219_010802-360g4o7v</code>"
      ],
      "text/plain": [
       "<IPython.core.display.HTML object>"
      ]
     },
     "metadata": {},
     "output_type": "display_data"
    },
    {
     "data": {
      "text/html": [
       "Syncing run <strong><a href='https://wandb.ai/koeyhi-student/my-project/runs/360g4o7v' target=\"_blank\">crimson-sweep-9</a></strong> to <a href='https://wandb.ai/koeyhi-student/my-project' target=\"_blank\">Weights & Biases</a> (<a href='https://wandb.me/developer-guide' target=\"_blank\">docs</a>)<br>Sweep page: <a href='https://wandb.ai/koeyhi-student/my-project/sweeps/g4lfwo5g' target=\"_blank\">https://wandb.ai/koeyhi-student/my-project/sweeps/g4lfwo5g</a>"
      ],
      "text/plain": [
       "<IPython.core.display.HTML object>"
      ]
     },
     "metadata": {},
     "output_type": "display_data"
    },
    {
     "data": {
      "text/html": [
       " View project at <a href='https://wandb.ai/koeyhi-student/my-project' target=\"_blank\">https://wandb.ai/koeyhi-student/my-project</a>"
      ],
      "text/plain": [
       "<IPython.core.display.HTML object>"
      ]
     },
     "metadata": {},
     "output_type": "display_data"
    },
    {
     "data": {
      "text/html": [
       " View sweep at <a href='https://wandb.ai/koeyhi-student/my-project/sweeps/g4lfwo5g' target=\"_blank\">https://wandb.ai/koeyhi-student/my-project/sweeps/g4lfwo5g</a>"
      ],
      "text/plain": [
       "<IPython.core.display.HTML object>"
      ]
     },
     "metadata": {},
     "output_type": "display_data"
    },
    {
     "data": {
      "text/html": [
       " View run at <a href='https://wandb.ai/koeyhi-student/my-project/runs/360g4o7v' target=\"_blank\">https://wandb.ai/koeyhi-student/my-project/runs/360g4o7v</a>"
      ],
      "text/plain": [
       "<IPython.core.display.HTML object>"
      ]
     },
     "metadata": {},
     "output_type": "display_data"
    },
    {
     "data": {
      "text/html": [],
      "text/plain": [
       "<IPython.core.display.HTML object>"
      ]
     },
     "metadata": {},
     "output_type": "display_data"
    },
    {
     "data": {
      "text/html": [
       "<br>    <style><br>        .wandb-row {<br>            display: flex;<br>            flex-direction: row;<br>            flex-wrap: wrap;<br>            justify-content: flex-start;<br>            width: 100%;<br>        }<br>        .wandb-col {<br>            display: flex;<br>            flex-direction: column;<br>            flex-basis: 100%;<br>            flex: 1;<br>            padding: 10px;<br>        }<br>    </style><br><div class=\"wandb-row\"><div class=\"wandb-col\"><h3>Run history:</h3><br/><table class=\"wandb\"><tr><td>score</td><td>▁</td></tr></table><br/></div><div class=\"wandb-col\"><h3>Run summary:</h3><br/><table class=\"wandb\"><tr><td>score</td><td>0.90296</td></tr></table><br/></div></div>"
      ],
      "text/plain": [
       "<IPython.core.display.HTML object>"
      ]
     },
     "metadata": {},
     "output_type": "display_data"
    },
    {
     "data": {
      "text/html": [
       " View run <strong style=\"color:#cdcd00\">crimson-sweep-9</strong> at: <a href='https://wandb.ai/koeyhi-student/my-project/runs/360g4o7v' target=\"_blank\">https://wandb.ai/koeyhi-student/my-project/runs/360g4o7v</a><br> View project at: <a href='https://wandb.ai/koeyhi-student/my-project' target=\"_blank\">https://wandb.ai/koeyhi-student/my-project</a><br>Synced 5 W&B file(s), 0 media file(s), 0 artifact file(s) and 0 other file(s)"
      ],
      "text/plain": [
       "<IPython.core.display.HTML object>"
      ]
     },
     "metadata": {},
     "output_type": "display_data"
    },
    {
     "data": {
      "text/html": [
       "Find logs at: <code>./wandb/run-20241219_010802-360g4o7v/logs</code>"
      ],
      "text/plain": [
       "<IPython.core.display.HTML object>"
      ]
     },
     "metadata": {},
     "output_type": "display_data"
    },
    {
     "name": "stderr",
     "output_type": "stream",
     "text": [
      "\u001b[34m\u001b[1mwandb\u001b[0m: Agent Starting Run: qcc9rvkm with config:\n",
      "\u001b[34m\u001b[1mwandb\u001b[0m: \tact_func_key: silu\n",
      "\u001b[34m\u001b[1mwandb\u001b[0m: \tbatch_size: 8\n",
      "\u001b[34m\u001b[1mwandb\u001b[0m: \tdropout: 0.2\n",
      "\u001b[34m\u001b[1mwandb\u001b[0m: \thidden_size: 16\n",
      "\u001b[34m\u001b[1mwandb\u001b[0m: \tlr: 0.006302944484363948\n"
     ]
    },
    {
     "data": {
      "text/html": [
       "Tracking run with wandb version 0.19.1"
      ],
      "text/plain": [
       "<IPython.core.display.HTML object>"
      ]
     },
     "metadata": {},
     "output_type": "display_data"
    },
    {
     "data": {
      "text/html": [
       "Run data is saved locally in <code>/content/wandb/run-20241219_010837-qcc9rvkm</code>"
      ],
      "text/plain": [
       "<IPython.core.display.HTML object>"
      ]
     },
     "metadata": {},
     "output_type": "display_data"
    },
    {
     "data": {
      "text/html": [
       "Syncing run <strong><a href='https://wandb.ai/koeyhi-student/my-project/runs/qcc9rvkm' target=\"_blank\">spring-sweep-10</a></strong> to <a href='https://wandb.ai/koeyhi-student/my-project' target=\"_blank\">Weights & Biases</a> (<a href='https://wandb.me/developer-guide' target=\"_blank\">docs</a>)<br>Sweep page: <a href='https://wandb.ai/koeyhi-student/my-project/sweeps/g4lfwo5g' target=\"_blank\">https://wandb.ai/koeyhi-student/my-project/sweeps/g4lfwo5g</a>"
      ],
      "text/plain": [
       "<IPython.core.display.HTML object>"
      ]
     },
     "metadata": {},
     "output_type": "display_data"
    },
    {
     "data": {
      "text/html": [
       " View project at <a href='https://wandb.ai/koeyhi-student/my-project' target=\"_blank\">https://wandb.ai/koeyhi-student/my-project</a>"
      ],
      "text/plain": [
       "<IPython.core.display.HTML object>"
      ]
     },
     "metadata": {},
     "output_type": "display_data"
    },
    {
     "data": {
      "text/html": [
       " View sweep at <a href='https://wandb.ai/koeyhi-student/my-project/sweeps/g4lfwo5g' target=\"_blank\">https://wandb.ai/koeyhi-student/my-project/sweeps/g4lfwo5g</a>"
      ],
      "text/plain": [
       "<IPython.core.display.HTML object>"
      ]
     },
     "metadata": {},
     "output_type": "display_data"
    },
    {
     "data": {
      "text/html": [
       " View run at <a href='https://wandb.ai/koeyhi-student/my-project/runs/qcc9rvkm' target=\"_blank\">https://wandb.ai/koeyhi-student/my-project/runs/qcc9rvkm</a>"
      ],
      "text/plain": [
       "<IPython.core.display.HTML object>"
      ]
     },
     "metadata": {},
     "output_type": "display_data"
    },
    {
     "data": {
      "text/html": [],
      "text/plain": [
       "<IPython.core.display.HTML object>"
      ]
     },
     "metadata": {},
     "output_type": "display_data"
    },
    {
     "data": {
      "text/html": [
       "<br>    <style><br>        .wandb-row {<br>            display: flex;<br>            flex-direction: row;<br>            flex-wrap: wrap;<br>            justify-content: flex-start;<br>            width: 100%;<br>        }<br>        .wandb-col {<br>            display: flex;<br>            flex-direction: column;<br>            flex-basis: 100%;<br>            flex: 1;<br>            padding: 10px;<br>        }<br>    </style><br><div class=\"wandb-row\"><div class=\"wandb-col\"><h3>Run history:</h3><br/><table class=\"wandb\"><tr><td>score</td><td>▁</td></tr></table><br/></div><div class=\"wandb-col\"><h3>Run summary:</h3><br/><table class=\"wandb\"><tr><td>score</td><td>0.9022</td></tr></table><br/></div></div>"
      ],
      "text/plain": [
       "<IPython.core.display.HTML object>"
      ]
     },
     "metadata": {},
     "output_type": "display_data"
    },
    {
     "data": {
      "text/html": [
       " View run <strong style=\"color:#cdcd00\">spring-sweep-10</strong> at: <a href='https://wandb.ai/koeyhi-student/my-project/runs/qcc9rvkm' target=\"_blank\">https://wandb.ai/koeyhi-student/my-project/runs/qcc9rvkm</a><br> View project at: <a href='https://wandb.ai/koeyhi-student/my-project' target=\"_blank\">https://wandb.ai/koeyhi-student/my-project</a><br>Synced 5 W&B file(s), 0 media file(s), 0 artifact file(s) and 0 other file(s)"
      ],
      "text/plain": [
       "<IPython.core.display.HTML object>"
      ]
     },
     "metadata": {},
     "output_type": "display_data"
    },
    {
     "data": {
      "text/html": [
       "Find logs at: <code>./wandb/run-20241219_010837-qcc9rvkm/logs</code>"
      ],
      "text/plain": [
       "<IPython.core.display.HTML object>"
      ]
     },
     "metadata": {},
     "output_type": "display_data"
    }
   ],
   "source": [
    "reset_seeds(SEED)\n",
    "agent_func = AgentFunction(train_ft, target, loss_fn, device, SEED)\n",
    "wandb.agent(sweep_id, agent_func, count=10)"
   ]
  }
 ],
 "metadata": {
  "colab": {
   "provenance": []
  },
  "kernelspec": {
   "display_name": "Python 3",
   "name": "python3"
  },
  "language_info": {
   "codemirror_mode": {
    "name": "ipython",
    "version": 3
   },
   "file_extension": ".py",
   "mimetype": "text/x-python",
   "name": "python",
   "nbconvert_exporter": "python",
   "pygments_lexer": "ipython3",
   "version": "3.10.8"
  }
 },
 "nbformat": 4,
 "nbformat_minor": 0
}
