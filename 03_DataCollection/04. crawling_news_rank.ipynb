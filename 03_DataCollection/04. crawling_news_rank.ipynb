{
 "cells": [
  {
   "cell_type": "code",
   "execution_count": 1,
   "metadata": {},
   "outputs": [],
   "source": [
    "import requests\n",
    "from bs4 import BeautifulSoup\n",
    "from fake_useragent import UserAgent"
   ]
  },
  {
   "cell_type": "code",
   "execution_count": 2,
   "metadata": {},
   "outputs": [
    {
     "data": {
      "text/plain": [
       "200"
      ]
     },
     "execution_count": 2,
     "metadata": {},
     "output_type": "execute_result"
    }
   ],
   "source": [
    "ua = UserAgent()\n",
    "headers = {\"User-Agent\": ua.random}\n",
    "\n",
    "url = 'https://news.naver.com/main/ranking/popularDay.naver'\n",
    "res = requests.get(url, headers=headers)\n",
    "res.status_code"
   ]
  },
  {
   "cell_type": "code",
   "execution_count": 3,
   "metadata": {},
   "outputs": [],
   "source": [
    "soup = BeautifulSoup(res.content, \"html.parser\")\n",
    "# print(soup.prettify())"
   ]
  },
  {
   "cell_type": "markdown",
   "metadata": {},
   "source": [
    "1. 언론사별 박스 선택\n",
    "    > select 메서드로 여러 개 선택\n",
    "2. 각 박스 안의 링크들을 모두 가져옴\n",
    "    > 하나의 박스를 선택했을 때 그 안의 링크들을 추출\n",
    "3. 링크를 get 요청해서 html 문자열을 가져옴\n",
    "4. 뉴스의 제목과 본문을 추출하여 저장"
   ]
  },
  {
   "cell_type": "markdown",
   "metadata": {},
   "source": [
    "- 언론사별 뉴스 박스 선택하기"
   ]
  },
  {
   "cell_type": "code",
   "execution_count": 4,
   "metadata": {},
   "outputs": [
    {
     "data": {
      "text/plain": [
       "12"
      ]
     },
     "execution_count": 4,
     "metadata": {},
     "output_type": "execute_result"
    }
   ],
   "source": [
    "news_box_list = soup.select(\"._officeCard0 > .rankingnews_box\")\n",
    "len(news_box_list)"
   ]
  },
  {
   "cell_type": "code",
   "execution_count": 5,
   "metadata": {},
   "outputs": [
    {
     "data": {
      "text/plain": [
       "'경향신문'"
      ]
     },
     "execution_count": 5,
     "metadata": {},
     "output_type": "execute_result"
    }
   ],
   "source": [
    "news_box_list[5].select_one('.rankingnews_name').text # 언론사명"
   ]
  },
  {
   "cell_type": "code",
   "execution_count": 6,
   "metadata": {},
   "outputs": [
    {
     "data": {
      "text/plain": [
       "[<a class=\"list_title nclicks('RBP.rnknws')\" href=\"https://n.news.naver.com/article/214/0001376490?ntype=RANKING\">NBS 尹 지지율도 '역대 최저'‥'김건희 특검법 찬성' 65%</a>,\n",
       " <a class=\"list_title nclicks('RBP.rnknws')\" href=\"https://n.news.naver.com/article/214/0001376485?ntype=RANKING\">\"명태균, 김 여사 통화 들려줬다\"‥계속되는 폭로 \"국감 나갈 것\"</a>,\n",
       " <a class=\"list_title nclicks('RBP.rnknws')\" href=\"https://n.news.naver.com/article/214/0001376475?ntype=RANKING\">\"무속인이 윤 대통령 서거 얘기\"‥인요한 의원실 전화한 남성 경찰 조사</a>,\n",
       " <a class=\"list_title nclicks('RBP.rnknws')\" href=\"https://n.news.naver.com/article/214/0001376449?ntype=RANKING\">\"김태효, 국기에 대한 경례 거부\"‥폭발한 野 \"파면 요구\"</a>,\n",
       " <a class=\"list_title nclicks('RBP.rnknws')\" href=\"https://n.news.naver.com/article/214/0001376466?ntype=RANKING\">\"맹장 수술도 못 한다고요?\" 부산 헤맨 중학생 어머니</a>]"
      ]
     },
     "execution_count": 6,
     "metadata": {},
     "output_type": "execute_result"
    }
   ],
   "source": [
    "news_list = news_box_list[0].select('.rankingnews_list .list_title') # 언론사별 뉴스 링크\n",
    "news_list"
   ]
  },
  {
   "cell_type": "code",
   "execution_count": 17,
   "metadata": {},
   "outputs": [
    {
     "name": "stdout",
     "output_type": "stream",
     "text": [
      "https://n.news.naver.com/article/020/0003589226?ntype=RANKING\n",
      "https://n.news.naver.com/article/020/0003589298?ntype=RANKING\n",
      "https://n.news.naver.com/article/020/0003589292?ntype=RANKING\n",
      "https://n.news.naver.com/article/020/0003589303?ntype=RANKING\n",
      "https://n.news.naver.com/article/020/0003589297?ntype=RANKING\n"
     ]
    }
   ],
   "source": [
    "for a_tag in news_list:\n",
    "    link = a_tag.get('href')\n",
    "    print(link)\n",
    "    # break"
   ]
  },
  {
   "cell_type": "markdown",
   "metadata": {},
   "source": [
    "- 뉴스 본문 보기"
   ]
  },
  {
   "cell_type": "code",
   "execution_count": 8,
   "metadata": {},
   "outputs": [
    {
     "data": {
      "text/plain": [
       "200"
      ]
     },
     "execution_count": 8,
     "metadata": {},
     "output_type": "execute_result"
    }
   ],
   "source": [
    "res_news = requests.get(link, headers=headers)\n",
    "res_news.status_code"
   ]
  },
  {
   "cell_type": "code",
   "execution_count": 9,
   "metadata": {},
   "outputs": [],
   "source": [
    "soup_news = BeautifulSoup(res_news.content, \"html.parser\")\n",
    "# soup_news"
   ]
  },
  {
   "cell_type": "code",
   "execution_count": 18,
   "metadata": {},
   "outputs": [
    {
     "data": {
      "text/plain": [
       "'“구급대원 연기해 보니 노고와 희생 느껴져”…5000만 원 기부한 배우'"
      ]
     },
     "execution_count": 18,
     "metadata": {},
     "output_type": "execute_result"
    }
   ],
   "source": [
    "soup_news.select_one(\"#title_area span\").text # 뉴스 제목"
   ]
  },
  {
   "cell_type": "code",
   "execution_count": 21,
   "metadata": {},
   "outputs": [
    {
     "data": {
      "text/plain": [
       "'\\n\\n\\n\\n\\n\\n사진출처=tvN배우 김지은이 순직 소방공무원과 유가족들을 위해 5000만 원을 기부했다.김지은 소속사 HB엔터테인먼트는 “김지은이 국민의 안전과 생명을 지키는 소방공무원의 헌신에 보답하는 마음으로 23일 사단법인 소방가족희망나눔에 5000만 원의 후원금을 기부했다”고 밝혔다.현재 방영 중인 tvN ‘엄마친구아들’에서 구급대원 정모음 역으로 출연 중인 김지은은 “이번 드라마를 통해 소방공무원 분들의 노고와 희생을 몸소 느끼게 됐다”며 “어떤 방법으로 감사함과 존경심을 표할 수 있을까 고민하던 중 기부를 결정했다”고 전했다.\\n\\n\\n\\n배우 김지은이 대한소방공제회에서 5000만 원을 소방가족희망나눔에 기부했다. HB엔터테인먼트 제공. 김지은이 전한 후원금은 순직 소방공무원의 유가족 예우 지원뿐만 아니라 소방청에서 주최하는 ‘제1회 119메모리얼데이’ 행사를 위해서 사용될 예정이다. ‘119 메모리얼대회’는 순직 소방공무원에 대한 대국민 예우 문화를 조성하는 국민 참여형 추모행사다.\\n\\n'"
      ]
     },
     "execution_count": 21,
     "metadata": {},
     "output_type": "execute_result"
    }
   ],
   "source": [
    "soup_news.select_one(\"#newsct_article\").text # 뉴스 본문"
   ]
  },
  {
   "cell_type": "markdown",
   "metadata": {},
   "source": [
    "```python\n",
    "[\n",
    "    {\"언론사명\": \"\", \"뉴스제목\": \"\", \"뉴스본문\": \"\"},\n",
    "    {\"언론사명\": \"\", \"뉴스제목\": \"\", \"뉴스본문\": \"\"},\n",
    "    {\"언론사명\": \"\", \"뉴스제목\": \"\", \"뉴스본문\": \"\"},\n",
    "    ...\n",
    "]\n",
    "```"
   ]
  },
  {
   "cell_type": "code",
   "execution_count": 12,
   "metadata": {},
   "outputs": [],
   "source": [
    "ua = UserAgent()\n",
    "\n",
    "while True:\n",
    "    headers = {\"User-Agent\": ua.random}\n",
    "    url = 'https://news.naver.com/main/ranking/popularDay.naver'\n",
    "    res = requests.get(url, headers=headers)\n",
    "\n",
    "    soup = BeautifulSoup(res.content, 'html.parser')\n",
    "    news_box_list = soup.select(\"._officeCard0 > .rankingnews_box\")\n",
    "    if len(news_box_list) > 0:\n",
    "        break\n",
    "\n",
    "news_data = [] # 모든 뉴스들을 담을 리스트\n",
    "\n",
    "for news_box in news_box_list:\n",
    "    news_list = news_box.select('.rankingnews_list .list_title') # 언론사별 뉴스 링크\n",
    "    \n",
    "    for a_tag in news_list:\n",
    "        news_dict = {} # 하나의 뉴스가 들어있는 딕셔너리\n",
    "        news_dict['언론사명'] = news_box.select_one('.rankingnews_name').text # 언론사명\n",
    "        \n",
    "        try:\n",
    "            res_news = requests.get(a_tag['href'], headers=headers)\n",
    "        except Exception as e:\n",
    "            print(e)\n",
    "        else:    \n",
    "            soup_news = BeautifulSoup(res_news.content, 'html.parser')\n",
    "            news_dict['뉴스제목'] = soup_news.select_one(\"#title_area span\").text # 뉴스 제목\n",
    "            news_dict['뉴스본문'] = soup_news.select_one(\"#newsct_article\").text # 뉴스 본문\n",
    "            news_data.append(news_dict)"
   ]
  },
  {
   "cell_type": "code",
   "execution_count": 13,
   "metadata": {},
   "outputs": [
    {
     "data": {
      "text/plain": [
       "60"
      ]
     },
     "execution_count": 13,
     "metadata": {},
     "output_type": "execute_result"
    }
   ],
   "source": [
    "len(news_data)"
   ]
  },
  {
   "cell_type": "code",
   "execution_count": null,
   "metadata": {},
   "outputs": [],
   "source": [
    "import pandas as pd\n",
    "pd.DataFrame(news_data)"
   ]
  }
 ],
 "metadata": {
  "kernelspec": {
   "display_name": "Python 3",
   "language": "python",
   "name": "python3"
  },
  "language_info": {
   "codemirror_mode": {
    "name": "ipython",
    "version": 3
   },
   "file_extension": ".py",
   "mimetype": "text/x-python",
   "name": "python",
   "nbconvert_exporter": "python",
   "pygments_lexer": "ipython3",
   "version": "3.10.8"
  }
 },
 "nbformat": 4,
 "nbformat_minor": 2
}
