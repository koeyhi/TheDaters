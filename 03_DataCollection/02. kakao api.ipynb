{
 "cells": [
  {
   "cell_type": "markdown",
   "metadata": {},
   "source": [
    "## Kakao api 웹문서 검색"
   ]
  },
  {
   "cell_type": "code",
   "execution_count": 76,
   "metadata": {},
   "outputs": [
    {
     "data": {
      "text/plain": [
       "[{'contents': '확률론/베이지언 통계학을 배워야 한다. 수리통계학: 가설검정, 회귀 분석, 여러 가지 확률 분포들이 <b>머신러닝</b> 기법에 등장한다. 이를 개념적으로 아는 것뿐만 아니라 직접 수리적으로 다룰 수 있어야 한다...',\n",
       "  'datetime': '2024-09-22T00:00:00.000+09:00',\n",
       "  'title': '기계학습 - 나무위키',\n",
       "  'url': 'https://namu.wiki/w/%EA%B8%B0%EA%B3%84%ED%95%99%EC%8A%B5'},\n",
       " {'contents': 'PlayStation 6, Xbox Next는 <b>머신 러닝</b>으로 가장 큰 세대적 도약을 이룰 수 있습니다. 현재 세대는 과대평가되었습니다. PlayStation 6과 다음 Xbox 콘솔은 아직 공식적으로 공개되지 않았지만 Microsoft는 이미...',\n",
       "  'datetime': '2024-09-03T23:29:36.000+09:00',\n",
       "  'title': 'PS6 <b>머신러닝</b>으로 엄청난 도약 있을 것',\n",
       "  'url': 'https://gall.dcinside.com/mgallery/board/view/?id=ps5&no=437858'},\n",
       " {'contents': 'IMG_7430.jpeg iOS18, 아이폰15 프로 모델 <b>머신 러닝</b> 점수 20~25% 개선   출처 :\\xa0https://m.blog.naver.com/yeux1122/223482219213',\n",
       "  'datetime': '2024-06-18T11:27:00.000+09:00',\n",
       "  'title': 'iOS18, 아이폰15 프로 모델 <b>머신 러닝</b> 점수 20~25% 개선 - 콘텐츠뷰',\n",
       "  'url': 'https://v.daum.net/v/3KZWDPyjLE'},\n",
       " {'contents': '소노캄 거제에서 열린 2024 한국자동차공학회 춘계학술대회에 참가해 현대자동차와 함께 &#39;인공지능(AI)과 <b>머신러닝</b>(ML)을 활용한 미래 모빌리티 주행성능 버추얼 개발&#39;을 주제로 세미나를 진행했다고 21일 발표...',\n",
       "  'datetime': '2024-06-25T12:15:04.000+09:00',\n",
       "  'title': '한국자동차공학회 세미나서 현대자동차와 인공지능 및 <b>머신러닝</b> 활용 미래 모빌리티 연구 발표 - 콘텐츠뷰',\n",
       "  'url': 'https://v.daum.net/v/XRC9KUkPWu'},\n",
       " {'contents': 'GOGLE검색 – <b>머신러닝</b> 본 글은 실제 검색결과를 기반으로 작성됨 [검색결과] <b>머신러닝</b>이란 무엇인가요? 유형 및 용도 - Gogle Cloud <b>머신러닝</b>이란? | 정의, 유형, 예제 – SAP 기계학습 – 나무위키 스폰서...',\n",
       "  'datetime': '2024-08-29T13:08:23.000+09:00',\n",
       "  'title': 'GOGLE검색 – <b>머신러닝</b>',\n",
       "  'url': 'https://gall.dcinside.com/mgallery/board/view/?id=napolitan&no=21391'},\n",
       " {'contents': '데이터 애널리틱스와 <b>머신러닝</b>은 실질적인 비즈니스 가치를 제공하지만, 목표를 달성하는 프로젝트는 거의 없다는 보고서 결과가 발표됐다. 애널리틱스와 <b>머신러닝</b>이 실패하는 이유는 무엇일까? 파운드리의 &#39;2024...',\n",
       "  'datetime': '2024-07-16T00:00:00.000+09:00',\n",
       "  'title': '&#34;성과 없는 애널리틱스, 개선 없는 <b>머신러닝</b>&#34; AI/ML 프로젝트가 실패하는 이유',\n",
       "  'url': 'https://www.itworld.co.kr/topnews/344460'},\n",
       " {'contents': '라이브러리를 활용하여 방대한 데이터를 수집, 정제 분석의 절차를 통해 데이터를 활용할 수 있고 <b>머신러닝</b> 기술을 사용하여 새로운 형태의 서비스 및 소프트웨어를 개발하고 응용할 수 있다. * 컴퓨터가 스스로...',\n",
       "  'datetime': '2024-09-12T00:00:00.000+09:00',\n",
       "  'title': '파이썬을 활용한 빅데이터 분석 인공지능(AI) <b>머신러닝</b> 개발자 양성과정',\n",
       "  'url': 'https://www.gukbi.com/Course/View.asp?idx=60051&mode=1&category=3'},\n",
       " {'contents': '처리, 이벤트처리 모듈 개발 능력 함양 빅데이터의 패턴과 정보간의 관계를 찾아내기 위한 통계기법, <b>머신러닝</b>, 텍스트마이닝 등의 분석방법들을 적용하기 위한 분석시스템 개발 능력 함양 구축된 플랫폼 확인용...',\n",
       "  'datetime': '2024-08-22T00:00:00.000+09:00',\n",
       "  'title': '<b>머신러닝</b> 기반 빅데이터 플랫폼 개발 전문가 양성과정',\n",
       "  'url': 'https://www.gukbi.com/Course/View.asp?idx=59965&mode=1&category=4'},\n",
       " {'contents': 'H 경북미세먼지 H 경남미세먼지 H 제주미세먼지 B 세종미세먼지 H 서울미세먼지 B 경기미세먼지 B &#34;<b>머신러닝</b> 알고리즘 적용, 실제 문제 해결&#34; 스크롤 이동 상태바 &#34;<b>머신러닝</b> 알고리즘 적용, 실제 문제 해결...',\n",
       "  'datetime': '2024-08-16T13:23:08.000+09:00',\n",
       "  'title': '&#34;<b>머신러닝</b> 알고리즘 적용, 실제 문제 해결&#34; &lt; 학교소식 &lt; 교육 &lt; 기사본문',\n",
       "  'url': 'https://www.jejuinnews.co.kr/news/articleView.html?idxno=337032'},\n",
       " {'contents': '광고와 페북 페이지/인스타 비즈니스 프로필에서 돌리는 광고의 기능적 차이에 대해 묻는 게 아니라 <b>머신러닝</b> 효율 차이가 있나 궁금해서 질문 남깁니다. 그리고 그 둘을 병행하면 서로 <b>머신러닝</b>에 영향을 미치지...',\n",
       "  'datetime': '2024-09-11T09:15:12.000+09:00',\n",
       "  'title': '페이지에서 게시물 광고하기 하는 것과 메타 비즈니스에서 돌리는 광고와 <b>머신러닝</b>의 차이가 있나요?',\n",
       "  'url': 'https://www.i-boss.co.kr/ab-2110-26735'}]"
      ]
     },
     "execution_count": 76,
     "metadata": {},
     "output_type": "execute_result"
    }
   ],
   "source": [
    "import yaml\n",
    "import requests\n",
    "\n",
    "\n",
    "DATA_PATH = \"data/\"\n",
    "\n",
    "\n",
    "with open(f\"{DATA_PATH}config.yml\", \"r\") as f:\n",
    "    CFG = yaml.full_load(f)\n",
    "\n",
    "api_key = CFG[\"KAKAO\"][\"API_KEY\"]\n",
    "url = \"https://dapi.kakao.com/v2/search/web\"\n",
    "headers = {\"Authorization\": f\"KakaoAK {api_key}\"}\n",
    "params = {\n",
    "    \"query\": \"머신러닝\",\n",
    "    \"sort\": \"accuracy\",\n",
    "    \"start\": 1,\n",
    "    \"size\": 10,\n",
    "}  # 파라미터 정보는 공식문서에서 확인\n",
    "res = requests.get(url, params=params, headers=headers)\n",
    "result = res.json()\n",
    "result[\"documents\"]"
   ]
  },
  {
   "cell_type": "markdown",
   "metadata": {},
   "source": [
    "## 메뉴에 따라 검색"
   ]
  },
  {
   "cell_type": "code",
   "execution_count": 3,
   "metadata": {},
   "outputs": [],
   "source": [
    "import requests\n",
    "import yaml\n",
    "\n",
    "DATA_PATH = \"data/\"\n",
    "\n",
    "with open(f\"{DATA_PATH}config.yml\", \"r\") as f:\n",
    "    CFG = yaml.full_load(f)\n",
    "\n",
    "api_key = CFG['KAKAO']['API_KEY']\n",
    "\n",
    "def search_kakao_api(api_key, menu, **params):\n",
    "    if menu != \"book\":\n",
    "        url = f\"https://dapi.kakao.com/v2/search/{menu}\"\n",
    "    else:\n",
    "        url = f\"https://dapi.kakao.com/v3/search/{menu}\"\n",
    "    headers = {\"Authorization\": f\"KakaoAK {api_key}\"}\n",
    "    res = requests.get(url, params=params, headers=headers)\n",
    "    data = res.json()\n",
    "    if res.status_code != 200:\n",
    "        print(res.status_code)\n",
    "        data = None\n",
    "\n",
    "    return data"
   ]
  },
  {
   "cell_type": "code",
   "execution_count": 5,
   "metadata": {},
   "outputs": [
    {
     "data": {
      "text/plain": [
       "{'documents': [{'collection': 'blog',\n",
       "   'datetime': '2024-02-12T15:43:58.000+09:00',\n",
       "   'display_sitename': '티스토리',\n",
       "   'doc_url': 'https://wonyeongg.tistory.com/3',\n",
       "   'height': 478,\n",
       "   'image_url': 'https://blog.kakaocdn.net/dn/b4rTU4/btsEFfdFPbj/FUQQkSHpaSU3yYByeQ0fK0/img.png',\n",
       "   'thumbnail_url': 'https://search2.kakaocdn.net/argon/130x130_85_c/1V8EBImj7Cw',\n",
       "   'width': 895},\n",
       "  {'collection': 'blog',\n",
       "   'datetime': '2024-05-07T16:02:55.000+09:00',\n",
       "   'display_sitename': '티스토리',\n",
       "   'doc_url': 'https://bommbom.tistory.com/193',\n",
       "   'height': 1018,\n",
       "   'image_url': 'https://blog.kakaocdn.net/dn/qkUyu/btsHgnFmjUj/lvMwV0Cn4l6mUiCVxx3Ru0/img.png',\n",
       "   'thumbnail_url': 'https://search4.kakaocdn.net/argon/130x130_85_c/GUsn7TClfAV',\n",
       "   'width': 1280}],\n",
       " 'meta': {'is_end': False, 'pageable_count': 3989, 'total_count': 432624}}"
      ]
     },
     "execution_count": 5,
     "metadata": {},
     "output_type": "execute_result"
    }
   ],
   "source": [
    "menu = input(\"web, vclip, image, blog, book, cafe 중 입력\")\n",
    "search_kakao_api(menu=menu, api_key=api_key, query=\"머신러닝\", size=2)"
   ]
  },
  {
   "cell_type": "markdown",
   "metadata": {},
   "source": [
    "## KoGPT 사용해보기"
   ]
  },
  {
   "cell_type": "code",
   "execution_count": 6,
   "metadata": {},
   "outputs": [
    {
     "data": {
      "text/plain": [
       "<Response [200]>"
      ]
     },
     "execution_count": 6,
     "metadata": {},
     "output_type": "execute_result"
    }
   ],
   "source": [
    "url = \"https://api.kakaobrain.com/v1/inference/kogpt/generation\"\n",
    "headers = {\n",
    "    \"Authorization\": f\"KakaoAK {api_key}\",\n",
    "    \"Content-Type\": \"application/json\"\n",
    "}\n",
    "data = {\n",
    "    \"prompt\": \"데이터 분석이란\",\n",
    "    \"max_tokens\": 200\n",
    "}\n",
    "\n",
    "res = requests.post(url, json=data, headers=headers)\n",
    "res"
   ]
  },
  {
   "cell_type": "code",
   "execution_count": 7,
   "metadata": {},
   "outputs": [
    {
     "data": {
      "text/plain": [
       "{'id': 'cde9aa48-8659-42a7-88f4-4f5994dd5478',\n",
       " 'generations': [{'text': ' 다수 데이터의 정형 및 비정형적 성격을 파악하고 특성에 따라 분류하는 작업으로 공학과 생리학 분야에서 핵심적인 역할로 자리매김한 빅테이터, 정확히 얘기해서 분산되고 이질적이며 거대규모인 집합 자료를 시각화의 관점과 기준을 통해서도(Graphics Notation) 개념화 하게 된다. 또한 이러한 군집들 가운데 의미 있다 판단하여 주제 또는 이벤트 중심 인식 체계로직 화 하여 인적자원 투입기준 의 선정 메타분석 이다 최근 의학 교육현장 특히 치과대학(치의학전문대학원 포함)은 임상실습교육과정으로서 이를 전담할 치의과대 학부생들이 요구된다 (이다원 외, 2011). 일반 경영학 교과서에도 널리 소개된 정보 과학기술부 대표 시스템 gangle 응용 프로그램이라고 하otten study 즉 생체 해부 formata statistical data는 5년 전까나 활용 학문 학문 내용 중심 Pedagogical기 이후 국제사회과학 종합학술지에 게재 논문 중 measur운kyeatingj',\n",
       "   'tokens': 200}],\n",
       " 'usage': {'prompt_tokens': 3, 'generated_tokens': 200, 'total_tokens': 203}}"
      ]
     },
     "execution_count": 7,
     "metadata": {},
     "output_type": "execute_result"
    }
   ],
   "source": [
    "result = res.json()\n",
    "result"
   ]
  },
  {
   "cell_type": "markdown",
   "metadata": {},
   "source": [
    "### 클래스로 만들어 보기"
   ]
  },
  {
   "cell_type": "code",
   "execution_count": 8,
   "metadata": {},
   "outputs": [],
   "source": [
    "class KakaoAI:\n",
    "    def __init__(self, api_key, url):\n",
    "        self.url = url\n",
    "        self.headers = {\"Authorization\": f\"KakaoAK {api_key}\"}\n",
    "\n",
    "    def generate(self, data):\n",
    "        res = requests.post(self.url, headers=self.headers, json=data)\n",
    "        return res.json()"
   ]
  },
  {
   "cell_type": "code",
   "execution_count": 10,
   "metadata": {},
   "outputs": [
    {
     "data": {
      "text/plain": [
       "{'id': '191bbedb-587a-4a37-b3d4-620e6800b8af',\n",
       " 'generations': [{'text': \" 병변의 여러 특성과 규모, 임상경과와 관련된 인자  등 데이터를 이용하여 분 단위로 유의미한 변화도 집단을 분류할 수 있게 해주는 통계적 기법으롤 정의한다.\\n일반적인 보철물 제작 과정은 환간의 교합면에 적합한 재료 준비(환자 구강 내의 치수와 구조를 고려하여 칫솔질의 안정성 구강보건지식 수준 및 순응력 I. 서론 정도)를 행한 뒤 그로부터 시작되어 통상 1개월 이 넘도록 긴밀하게 조정해 가며 최종 제품이 견관 ISO 10993 '구강맞춤형 의치설계 테크닉'을 보계통과 흡사할 때 완료가 된다. 물론 환자의 의 완함으로써 세계 각국에서 계속 사용됨에 따 복경험이나 치과선진국의 경우에도 그동안 국라서 표준화될 움직임이 가속화 되었다. 이제 립치의학회 특별위원회 (2009년 제24차 회의 시까 되어야 될 치과의 전산화  시스템에 대한 가이 WHO 국제\",\n",
       "   'tokens': 200}],\n",
       " 'usage': {'prompt_tokens': 3, 'generated_tokens': 200, 'total_tokens': 203}}"
      ]
     },
     "execution_count": 10,
     "metadata": {},
     "output_type": "execute_result"
    }
   ],
   "source": [
    "kogpt = KakaoAI(api_key, url)\n",
    "\n",
    "data = {\n",
    "    \"prompt\": \"데이터 분석이란\",\n",
    "    \"max_tokens\": 200\n",
    "}\n",
    "kogpt.generate(data)"
   ]
  },
  {
   "cell_type": "markdown",
   "metadata": {},
   "source": [
    "## Karlo 사용해보기"
   ]
  },
  {
   "cell_type": "code",
   "execution_count": 61,
   "metadata": {},
   "outputs": [
    {
     "data": {
      "text/plain": [
       "{'id': '717c3fb6523e27c6',\n",
       " 'model_version': 'v2.1.1.prod',\n",
       " 'images': [{'id': 'a2FybG8tdHJpdG9uLXYyLjEuMS03NTQ1Njg2ZmJmLWZ4Mm43-20d7a8f8-7b12-4f5d-99ee-9a0366ad0810',\n",
       "   'image': 'https://mk.kakaocdn.net/dna/karlo/image/2024-09-25/16/20d7a8f8-7b12-4f5d-99ee-9a0366ad0810.webp?credential=smxRqiqUEJBVgohptvfXS5JoYeFv4Xxa&expires=1727248727&signature=%2FCA2kKkytfQqjHfirPFNojeFNrM%3D',\n",
       "   'seed': 2741810699,\n",
       "   'nsfw_content_detected': None,\n",
       "   'nsfw_score': None}]}"
      ]
     },
     "execution_count": 61,
     "metadata": {},
     "output_type": "execute_result"
    }
   ],
   "source": [
    "url = \"https://api.kakaobrain.com/v2/inference/karlo/t2i\"\n",
    "\n",
    "data = {\n",
    "    \"version\": \"v2.1\",          \n",
    "    \"prompt\": \"likelion\",\n",
    "    \"width\": 768,\n",
    "    \"height\": 768\n",
    "}\n",
    "\n",
    "kogpt = KakaoAI(api_key, url)\n",
    "result = kogpt.generate(data)\n",
    "result"
   ]
  }
 ],
 "metadata": {
  "kernelspec": {
   "display_name": "Python 3",
   "language": "python",
   "name": "python3"
  },
  "language_info": {
   "codemirror_mode": {
    "name": "ipython",
    "version": 3
   },
   "file_extension": ".py",
   "mimetype": "text/x-python",
   "name": "python",
   "nbconvert_exporter": "python",
   "pygments_lexer": "ipython3",
   "version": "3.10.8"
  }
 },
 "nbformat": 4,
 "nbformat_minor": 2
}
