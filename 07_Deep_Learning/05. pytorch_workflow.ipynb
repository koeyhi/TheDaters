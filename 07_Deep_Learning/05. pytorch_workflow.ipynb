{
 "cells": [
  {
   "cell_type": "code",
   "execution_count": 1,
   "metadata": {
    "colab": {
     "base_uri": "https://localhost:8080/"
    },
    "executionInfo": {
     "elapsed": 29740,
     "status": "ok",
     "timestamp": 1732177485844,
     "user": {
      "displayName": "koeyhi",
      "userId": "08049178071858703986"
     },
     "user_tz": -540
    },
    "id": "HHVbRmaJIdKp",
    "outputId": "d8a6268f-ace2-4475-ce36-b8d1e1dd5be8"
   },
   "outputs": [
    {
     "data": {
      "text/plain": [
       "((916, 10), (393, 10), (916, 1))"
      ]
     },
     "execution_count": 1,
     "metadata": {},
     "output_type": "execute_result"
    }
   ],
   "source": [
    "import pandas as pd\n",
    "import numpy as np\n",
    "import random\n",
    "import os\n",
    "import torch\n",
    "from sklearn.preprocessing import OneHotEncoder, MinMaxScaler\n",
    "\n",
    "# from google.colab import drive\n",
    "# drive.mount('/content/drive')\n",
    "\n",
    "DATA_PATH = \"../data/\"\n",
    "\n",
    "SEED = 42  # 시드값\n",
    "\n",
    "# 데이터 블러오기\n",
    "train = pd.read_csv(f\"{DATA_PATH}titanic_train.csv\")  # 학습데이터\n",
    "test = pd.read_csv(f\"{DATA_PATH}titanic_test.csv\")  # 테스트 데이터\n",
    "\n",
    "# 결측치 처리\n",
    "age_mean = train[\"age\"].mean()\n",
    "fare_median = train[\"fare\"].median()\n",
    "cabin_unk = \"UNK\"\n",
    "embarked_mode = train[\"embarked\"].mode()[0]\n",
    "train[\"age\"] = train[\"age\"].fillna(age_mean)\n",
    "train[\"cabin\"] = train[\"cabin\"].fillna(cabin_unk)\n",
    "test[\"age\"] = test[\"age\"].fillna(age_mean)\n",
    "test[\"fare\"] = test[\"fare\"].fillna(fare_median)\n",
    "test[\"cabin\"] = test[\"cabin\"].fillna(cabin_unk)\n",
    "test[\"embarked\"] = test[\"embarked\"].fillna(embarked_mode)\n",
    "\n",
    "# 특성으로 사용할 변수 선택\n",
    "cols = [\"age\", \"sibsp\", \"parch\", \"fare\", \"pclass\", \"gender\", \"embarked\"]\n",
    "train_ft = train[cols].copy()\n",
    "test_ft = test[cols].copy()\n",
    "\n",
    "# 범주형 변수 원핫인코딩\n",
    "cols = [\"gender\", \"embarked\"]\n",
    "enc = OneHotEncoder(handle_unknown=\"ignore\")\n",
    "enc.fit(train[cols])\n",
    "tmp = pd.DataFrame(\n",
    "    enc.transform(train_ft[cols]).toarray(), columns=enc.get_feature_names_out()\n",
    ")\n",
    "train_ft = pd.concat([train_ft, tmp], axis=1).drop(columns=cols)\n",
    "tmp = pd.DataFrame(\n",
    "    enc.transform(test_ft[cols]).toarray(), columns=enc.get_feature_names_out()\n",
    ")\n",
    "test_ft = pd.concat([test_ft, tmp], axis=1).drop(columns=cols)\n",
    "\n",
    "# Min-Max Scaling\n",
    "scaler = MinMaxScaler()\n",
    "scaler.fit(train_ft)\n",
    "train_ft = scaler.transform(train_ft)\n",
    "test_ft = scaler.transform(test_ft)\n",
    "\n",
    "# 정답 데이터\n",
    "target = train[\"survived\"].to_numpy().reshape(-1, 1)  # 정답 데이터 2차원으로 변경\n",
    "\n",
    "train_ft.shape, test_ft.shape, target.shape"
   ]
  },
  {
   "cell_type": "markdown",
   "metadata": {
    "id": "FjlDp55zLxl3"
   },
   "source": [
    "# 재현성 함수(Reproduction)\n",
    "\n"
   ]
  },
  {
   "cell_type": "code",
   "execution_count": 2,
   "metadata": {
    "executionInfo": {
     "elapsed": 8,
     "status": "ok",
     "timestamp": 1732177485844,
     "user": {
      "displayName": "koeyhi",
      "userId": "08049178071858703986"
     },
     "user_tz": -540
    },
    "id": "TzUP4r-uLwCW"
   },
   "outputs": [],
   "source": [
    "def reset_seeds(seed):\n",
    "    random.seed(seed)\n",
    "    os.environ['PYTHONHASHSEED'] = str(seed)\n",
    "    np.random.seed(seed)\n",
    "    torch.manual_seed(seed)\n",
    "    torch.cuda.manual_seed(seed)\n",
    "    torch.backends.cudnn.deterministic = True"
   ]
  },
  {
   "cell_type": "markdown",
   "metadata": {
    "id": "lbL3TT0Zyr-F"
   },
   "source": [
    "# 데이터셋 클래스 구현\n",
    "- 미니 배치 학습을 위해 데이터셋 클래스를 구현하고, DataLoader 클래스를 사용해서 미니 배치 학습이 가능한 상태를 만듦"
   ]
  },
  {
   "cell_type": "code",
   "execution_count": 3,
   "metadata": {
    "executionInfo": {
     "elapsed": 7,
     "status": "ok",
     "timestamp": 1732177485844,
     "user": {
      "displayName": "koeyhi",
      "userId": "08049178071858703986"
     },
     "user_tz": -540
    },
    "id": "Q0jvfiMUyy6X"
   },
   "outputs": [],
   "source": [
    "class TitanicDataset(torch.utils.data.Dataset):\n",
    "    def __init__(self, x, y=None):\n",
    "        self.x = x\n",
    "        self.y = y\n",
    "\n",
    "    def __len__(self):\n",
    "        return len(self.x)\n",
    "\n",
    "    def __getitem__(self, idx):\n",
    "        item = {}\n",
    "        item[\"x\"] = torch.Tensor(self.x[idx])\n",
    "\n",
    "        if self.y is not None:\n",
    "            item[\"y\"] = torch.Tensor(self.y[idx])\n",
    "\n",
    "        return item"
   ]
  },
  {
   "cell_type": "code",
   "execution_count": 4,
   "metadata": {
    "colab": {
     "base_uri": "https://localhost:8080/"
    },
    "executionInfo": {
     "elapsed": 7,
     "status": "ok",
     "timestamp": 1732177485844,
     "user": {
      "displayName": "koeyhi",
      "userId": "08049178071858703986"
     },
     "user_tz": -540
    },
    "id": "HwajPkaJ0_sV",
    "outputId": "a6fbc94e-4d01-44b0-ac99-2661c97d716d"
   },
   "outputs": [
    {
     "data": {
      "text/plain": [
       "{'x': tensor([0.2359, 0.1250, 0.1111, 0.0717, 0.5000, 0.0000, 1.0000, 0.0000, 0.0000,\n",
       "         1.0000]),\n",
       " 'y': tensor([0.])}"
      ]
     },
     "execution_count": 4,
     "metadata": {},
     "output_type": "execute_result"
    }
   ],
   "source": [
    "dt = TitanicDataset(train_ft, target)\n",
    "dt[-1]"
   ]
  },
  {
   "cell_type": "code",
   "execution_count": 5,
   "metadata": {
    "colab": {
     "base_uri": "https://localhost:8080/"
    },
    "executionInfo": {
     "elapsed": 6,
     "status": "ok",
     "timestamp": 1732177485844,
     "user": {
      "displayName": "koeyhi",
      "userId": "08049178071858703986"
     },
     "user_tz": -540
    },
    "id": "gI6CJzxL1QJo",
    "outputId": "5c061861-ec39-45ff-f9b5-e4a3f6ec88a5"
   },
   "outputs": [
    {
     "data": {
      "text/plain": [
       "{'x': tensor([[0.8873, 0.0000, 0.0000, 0.0966, 0.0000, 0.0000, 1.0000, 1.0000, 0.0000,\n",
       "          0.0000],\n",
       "         [0.4238, 0.0000, 0.0000, 0.0157, 1.0000, 0.0000, 1.0000, 0.0000, 0.0000,\n",
       "          1.0000]]),\n",
       " 'y': tensor([[0.],\n",
       "         [0.]])}"
      ]
     },
     "execution_count": 5,
     "metadata": {},
     "output_type": "execute_result"
    }
   ],
   "source": [
    "dl = torch.utils.data.DataLoader(dt, batch_size=2, shuffle=False)\n",
    "next(iter(dl))"
   ]
  },
  {
   "cell_type": "markdown",
   "metadata": {
    "id": "eVOxOrv7y_LP"
   },
   "source": [
    "# 인공 신경망 모델 클래스 구현"
   ]
  },
  {
   "cell_type": "code",
   "execution_count": 6,
   "metadata": {
    "executionInfo": {
     "elapsed": 5,
     "status": "ok",
     "timestamp": 1732177485844,
     "user": {
      "displayName": "koeyhi",
      "userId": "08049178071858703986"
     },
     "user_tz": -540
    },
    "id": "CrYJLu8SzAki"
   },
   "outputs": [],
   "source": [
    "class Net(torch.nn.Module):\n",
    "    def __init__(self, n_features):\n",
    "        super().__init__()\n",
    "        self.seq = torch.nn.Sequential(\n",
    "            torch.nn.Linear(n_features, 12),\n",
    "            torch.nn.BatchNorm1d(12),\n",
    "            torch.nn.LeakyReLU(),\n",
    "            torch.nn.Linear(12, 8),\n",
    "            torch.nn.BatchNorm1d(8),\n",
    "            torch.nn.LeakyReLU(),\n",
    "            torch.nn.Linear(8, 4),\n",
    "            torch.nn.BatchNorm1d(4),\n",
    "            torch.nn.LeakyReLU(),\n",
    "            torch.nn.Linear(4, 1)\n",
    "        )\n",
    "\n",
    "    def forward(self, x):\n",
    "        return self.seq(x)"
   ]
  },
  {
   "cell_type": "code",
   "execution_count": 7,
   "metadata": {
    "colab": {
     "base_uri": "https://localhost:8080/"
    },
    "executionInfo": {
     "elapsed": 5,
     "status": "ok",
     "timestamp": 1732177485844,
     "user": {
      "displayName": "koeyhi",
      "userId": "08049178071858703986"
     },
     "user_tz": -540
    },
    "id": "I-XDBkxPIclI",
    "outputId": "6e862f48-deb3-4573-dc8d-8877b70e604c"
   },
   "outputs": [
    {
     "data": {
      "text/plain": [
       "tensor([[-0.4456],\n",
       "        [-0.4197]], grad_fn=<AddmmBackward0>)"
      ]
     },
     "execution_count": 7,
     "metadata": {},
     "output_type": "execute_result"
    }
   ],
   "source": [
    "batch = next(iter(dl))\n",
    "model = Net(train_ft.shape[1])\n",
    "model(batch[\"x\"])"
   ]
  },
  {
   "cell_type": "markdown",
   "metadata": {
    "id": "S0tWxSffzD4s"
   },
   "source": [
    "# 하이퍼파라미터 정의\n",
    "- 손실함수, 배치사이즈 등"
   ]
  },
  {
   "cell_type": "code",
   "execution_count": 8,
   "metadata": {
    "executionInfo": {
     "elapsed": 327,
     "status": "ok",
     "timestamp": 1732177486167,
     "user": {
      "displayName": "koeyhi",
      "userId": "08049178071858703986"
     },
     "user_tz": -540
    },
    "id": "52zHEVp2zLSt"
   },
   "outputs": [],
   "source": [
    "loss_fn = torch.nn.BCEWithLogitsLoss()\n",
    "device = \"cuda\" if torch.cuda.is_available() else \"cpu\"\n",
    "batch_size = 32\n",
    "n_features = train_ft.shape[1]"
   ]
  },
  {
   "cell_type": "markdown",
   "metadata": {
    "id": "oMenrTa3zMhd"
   },
   "source": [
    "# 학습 loop 구현"
   ]
  },
  {
   "cell_type": "code",
   "execution_count": 9,
   "metadata": {
    "colab": {
     "base_uri": "https://localhost:8080/"
    },
    "executionInfo": {
     "elapsed": 8457,
     "status": "ok",
     "timestamp": 1732177494622,
     "user": {
      "displayName": "koeyhi",
      "userId": "08049178071858703986"
     },
     "user_tz": -540
    },
    "id": "-LbVRLDhzOz1",
    "outputId": "f7d12235-700c-4b68-b1ff-4d51f70edb31"
   },
   "outputs": [
    {
     "name": "stdout",
     "output_type": "stream",
     "text": [
      "0.6511606820698442\n",
      "0.5812931019684364\n",
      "0.5402021366974403\n",
      "0.5049006209291261\n",
      "0.4832064971841615\n",
      "0.46134479498041087\n",
      "0.45694437006424216\n",
      "0.43889735382178735\n",
      "0.4304857675371499\n",
      "0.4153964375627452\n"
     ]
    }
   ],
   "source": [
    "reset_seeds(SEED)\n",
    "model = Net(n_features).to(device)\n",
    "optimizer = torch.optim.Adam(model.parameters())\n",
    "train_dt = TitanicDataset(train_ft, target)\n",
    "train_dl = torch.utils.data.DataLoader(train_dt, batch_size=batch_size, shuffle=True)\n",
    "\n",
    "model.train()\n",
    "for _ in range(10):\n",
    "    epoch_loss = 0\n",
    "\n",
    "    for batch in train_dl:\n",
    "        pred = model(batch[\"x\"].to(device))\n",
    "        loss = loss_fn(pred, batch[\"y\"].to(device))\n",
    "\n",
    "        optimizer.zero_grad()\n",
    "        loss.backward()\n",
    "        optimizer.step()\n",
    "\n",
    "        epoch_loss += loss.item()\n",
    "\n",
    "    epoch_loss /= len(train_dl)\n",
    "    print(epoch_loss)"
   ]
  },
  {
   "cell_type": "markdown",
   "metadata": {
    "id": "Ez4kjlDvJdrq"
   },
   "source": [
    "# 테스트 데이터에 대한 배치 단위 예측 loop 구현"
   ]
  },
  {
   "cell_type": "code",
   "execution_count": 11,
   "metadata": {
    "executionInfo": {
     "elapsed": 4,
     "status": "ok",
     "timestamp": 1732177494623,
     "user": {
      "displayName": "koeyhi",
      "userId": "08049178071858703986"
     },
     "user_tz": -540
    },
    "id": "-wbrpOoZNClc"
   },
   "outputs": [],
   "source": [
    "# test_x = torch.Tensor(test_ft)\n",
    "# model.eval()\n",
    "# model(test_x)"
   ]
  },
  {
   "cell_type": "code",
   "execution_count": 12,
   "metadata": {
    "executionInfo": {
     "elapsed": 4,
     "status": "ok",
     "timestamp": 1732177494623,
     "user": {
      "displayName": "koeyhi",
      "userId": "08049178071858703986"
     },
     "user_tz": -540
    },
    "id": "GbfpRLzjNIR_"
   },
   "outputs": [],
   "source": [
    "test_dt = TitanicDataset(test_ft)\n",
    "test_dl = torch.utils.data.DataLoader(test_dt, batch_size=batch_size, shuffle=False)"
   ]
  },
  {
   "cell_type": "code",
   "execution_count": 13,
   "metadata": {
    "executionInfo": {
     "elapsed": 4,
     "status": "ok",
     "timestamp": 1732177494623,
     "user": {
      "displayName": "koeyhi",
      "userId": "08049178071858703986"
     },
     "user_tz": -540
    },
    "id": "P_pKV-K-NeX7"
   },
   "outputs": [],
   "source": [
    "model.eval()\n",
    "\n",
    "pred_list = []\n",
    "act = torch.nn.Sigmoid()\n",
    "\n",
    "with torch.no_grad():\n",
    "    for batch in test_dl:\n",
    "        pred = model(batch[\"x\"].to(device))\n",
    "        pred = act(pred)\n",
    "        pred = pred.to(\"cpu\").numpy()\n",
    "        pred_list.append(pred)"
   ]
  },
  {
   "cell_type": "code",
   "execution_count": 14,
   "metadata": {
    "colab": {
     "base_uri": "https://localhost:8080/"
    },
    "executionInfo": {
     "elapsed": 4,
     "status": "ok",
     "timestamp": 1732177494623,
     "user": {
      "displayName": "koeyhi",
      "userId": "08049178071858703986"
     },
     "user_tz": -540
    },
    "id": "vVd17FxhOHRP",
    "outputId": "1e94a34f-e742-426c-d972-35e460373456"
   },
   "outputs": [
    {
     "data": {
      "text/plain": [
       "(393, 1)"
      ]
     },
     "execution_count": 14,
     "metadata": {},
     "output_type": "execute_result"
    }
   ],
   "source": [
    "pred = np.concatenate(pred_list)\n",
    "pred.shape"
   ]
  }
 ],
 "metadata": {
  "colab": {
   "provenance": []
  },
  "kernelspec": {
   "display_name": "Python 3",
   "name": "python3"
  },
  "language_info": {
   "codemirror_mode": {
    "name": "ipython",
    "version": 3
   },
   "file_extension": ".py",
   "mimetype": "text/x-python",
   "name": "python",
   "nbconvert_exporter": "python",
   "pygments_lexer": "ipython3",
   "version": "3.10.8"
  }
 },
 "nbformat": 4,
 "nbformat_minor": 0
}
