{
 "cells": [
  {
   "cell_type": "markdown",
   "metadata": {
    "id": "b6-5ukHR-onb"
   },
   "source": [
    "# 평가지표\n",
    "- 정확도\n",
    "- 모델 클래스는 직접 구현"
   ]
  },
  {
   "cell_type": "code",
   "execution_count": 39,
   "metadata": {
    "id": "ptGuzaN5uDT7"
   },
   "outputs": [],
   "source": [
    "import pandas as pd\n",
    "import numpy as np\n",
    "import torch\n",
    "from tqdm.auto import tqdm\n",
    "import random\n",
    "import os\n",
    "\n",
    "def reset_seeds(seed):\n",
    "    random.seed(seed)\n",
    "    os.environ['PYTHONHASHSEED'] = str(seed)\n",
    "    np.random.seed(seed)\n",
    "    torch.manual_seed(seed)\n",
    "    torch.cuda.manual_seed(seed)\n",
    "    torch.backends.cudnn.deterministic = True"
   ]
  },
  {
   "cell_type": "code",
   "execution_count": 40,
   "metadata": {
    "colab": {
     "base_uri": "https://localhost:8080/",
     "height": 35
    },
    "id": "UAuqPVTGuEow",
    "outputId": "8c6ef8f2-c5bc-4315-8f1c-093313443bb8"
   },
   "outputs": [
    {
     "data": {
      "text/plain": [
       "'cuda'"
      ]
     },
     "execution_count": 40,
     "metadata": {},
     "output_type": "execute_result"
    }
   ],
   "source": [
    "DATA_PATH = \"../data/pizza_steak_sushi/\"\n",
    "SEED = 42\n",
    "\n",
    "device = 'cuda' if torch.cuda.is_available() else 'cpu'\n",
    "device"
   ]
  },
  {
   "cell_type": "markdown",
   "metadata": {
    "id": "rKQnsDlagA5y"
   },
   "source": [
    "# 음식 분류 데이터셋\n",
    "- 0 : 피자\n",
    "- 1 : 스테이크\n",
    "- 2 : 스시\n"
   ]
  },
  {
   "cell_type": "code",
   "execution_count": 41,
   "metadata": {
    "colab": {
     "base_uri": "https://localhost:8080/"
    },
    "id": "jctKq2rnrIxD",
    "outputId": "0b1db315-32b1-4e77-e905-c79c90eb18d1"
   },
   "outputs": [
    {
     "data": {
      "text/plain": [
       "((1649, 2), (1350, 2))"
      ]
     },
     "execution_count": 41,
     "metadata": {},
     "output_type": "execute_result"
    }
   ],
   "source": [
    "train = pd.read_csv(f\"{DATA_PATH}train.csv\")\n",
    "test = pd.read_csv(f\"{DATA_PATH}test.csv\")\n",
    "train.shape , test.shape"
   ]
  },
  {
   "cell_type": "code",
   "execution_count": 42,
   "metadata": {
    "colab": {
     "base_uri": "https://localhost:8080/",
     "height": 206
    },
    "id": "pur5E0699jNs",
    "outputId": "dd7da44a-98b9-4355-9910-07a045cf05e6"
   },
   "outputs": [
    {
     "data": {
      "text/html": [
       "<div>\n",
       "<style scoped>\n",
       "    .dataframe tbody tr th:only-of-type {\n",
       "        vertical-align: middle;\n",
       "    }\n",
       "\n",
       "    .dataframe tbody tr th {\n",
       "        vertical-align: top;\n",
       "    }\n",
       "\n",
       "    .dataframe thead th {\n",
       "        text-align: right;\n",
       "    }\n",
       "</style>\n",
       "<table border=\"1\" class=\"dataframe\">\n",
       "  <thead>\n",
       "    <tr style=\"text-align: right;\">\n",
       "      <th></th>\n",
       "      <th>file_name</th>\n",
       "      <th>target</th>\n",
       "    </tr>\n",
       "  </thead>\n",
       "  <tbody>\n",
       "    <tr>\n",
       "      <th>0</th>\n",
       "      <td>2104569.jpg</td>\n",
       "      <td>0</td>\n",
       "    </tr>\n",
       "    <tr>\n",
       "      <th>1</th>\n",
       "      <td>2038418.jpg</td>\n",
       "      <td>1</td>\n",
       "    </tr>\n",
       "    <tr>\n",
       "      <th>2</th>\n",
       "      <td>1919810.jpg</td>\n",
       "      <td>2</td>\n",
       "    </tr>\n",
       "    <tr>\n",
       "      <th>3</th>\n",
       "      <td>2557340.jpg</td>\n",
       "      <td>0</td>\n",
       "    </tr>\n",
       "    <tr>\n",
       "      <th>4</th>\n",
       "      <td>3621562.jpg</td>\n",
       "      <td>1</td>\n",
       "    </tr>\n",
       "  </tbody>\n",
       "</table>\n",
       "</div>"
      ],
      "text/plain": [
       "     file_name  target\n",
       "0  2104569.jpg       0\n",
       "1  2038418.jpg       1\n",
       "2  1919810.jpg       2\n",
       "3  2557340.jpg       0\n",
       "4  3621562.jpg       1"
      ]
     },
     "execution_count": 42,
     "metadata": {},
     "output_type": "execute_result"
    }
   ],
   "source": [
    "train.head()"
   ]
  },
  {
   "cell_type": "code",
   "execution_count": 43,
   "metadata": {
    "colab": {
     "base_uri": "https://localhost:8080/",
     "height": 206
    },
    "id": "oGqGwKRr9scI",
    "outputId": "5b21a96a-1caf-4882-a986-9baba7039357"
   },
   "outputs": [
    {
     "data": {
      "text/html": [
       "<div>\n",
       "<style scoped>\n",
       "    .dataframe tbody tr th:only-of-type {\n",
       "        vertical-align: middle;\n",
       "    }\n",
       "\n",
       "    .dataframe tbody tr th {\n",
       "        vertical-align: top;\n",
       "    }\n",
       "\n",
       "    .dataframe thead th {\n",
       "        text-align: right;\n",
       "    }\n",
       "</style>\n",
       "<table border=\"1\" class=\"dataframe\">\n",
       "  <thead>\n",
       "    <tr style=\"text-align: right;\">\n",
       "      <th></th>\n",
       "      <th>file_name</th>\n",
       "      <th>target</th>\n",
       "    </tr>\n",
       "  </thead>\n",
       "  <tbody>\n",
       "    <tr>\n",
       "      <th>0</th>\n",
       "      <td>3777020.jpg</td>\n",
       "      <td>NaN</td>\n",
       "    </tr>\n",
       "    <tr>\n",
       "      <th>1</th>\n",
       "      <td>931356.jpg</td>\n",
       "      <td>NaN</td>\n",
       "    </tr>\n",
       "    <tr>\n",
       "      <th>2</th>\n",
       "      <td>2599817.jpg</td>\n",
       "      <td>NaN</td>\n",
       "    </tr>\n",
       "    <tr>\n",
       "      <th>3</th>\n",
       "      <td>1251166.jpg</td>\n",
       "      <td>NaN</td>\n",
       "    </tr>\n",
       "    <tr>\n",
       "      <th>4</th>\n",
       "      <td>1183595.jpg</td>\n",
       "      <td>NaN</td>\n",
       "    </tr>\n",
       "  </tbody>\n",
       "</table>\n",
       "</div>"
      ],
      "text/plain": [
       "     file_name  target\n",
       "0  3777020.jpg     NaN\n",
       "1   931356.jpg     NaN\n",
       "2  2599817.jpg     NaN\n",
       "3  1251166.jpg     NaN\n",
       "4  1183595.jpg     NaN"
      ]
     },
     "execution_count": 43,
     "metadata": {},
     "output_type": "execute_result"
    }
   ],
   "source": [
    "test.head()"
   ]
  },
  {
   "cell_type": "markdown",
   "metadata": {},
   "source": [
    "데이터셋 클래스 ~ 테스트 데이터 예측 주석달기"
   ]
  },
  {
   "cell_type": "markdown",
   "metadata": {
    "id": "nPpndZeqB0e4"
   },
   "source": [
    "# 1. 데이터셋 클래스 만들기"
   ]
  },
  {
   "cell_type": "code",
   "execution_count": 44,
   "metadata": {
    "id": "AFZviyU_AyDY"
   },
   "outputs": [],
   "source": [
    "import cv2 # 이미지 처리를 위한 라이브러리"
   ]
  },
  {
   "cell_type": "code",
   "execution_count": 45,
   "metadata": {
    "colab": {
     "base_uri": "https://localhost:8080/"
    },
    "id": "2dhg0q9zzWY0",
    "outputId": "7f660d31-e3fc-4be2-cd18-b77ca0bac216"
   },
   "outputs": [
    {
     "data": {
      "text/plain": [
       "((1649,), (1350,))"
      ]
     },
     "execution_count": 45,
     "metadata": {},
     "output_type": "execute_result"
    }
   ],
   "source": [
    "train_file = train[\"file_name\"].to_numpy() # 파일명 추출 및 numpy 배열로 변환\n",
    "test_file = test[\"file_name\"].to_numpy() # 파일명 추출 및 numpy 배열로 변환\n",
    "\n",
    "train_file.shape, test_file.shape # 파일명 배열의 shape 확인"
   ]
  },
  {
   "cell_type": "code",
   "execution_count": 46,
   "metadata": {
    "colab": {
     "base_uri": "https://localhost:8080/",
     "height": 35
    },
    "id": "oo4ls1yNAYhQ",
    "outputId": "c8422b84-1101-4109-b3be-9a597b149672"
   },
   "outputs": [
    {
     "data": {
      "text/plain": [
       "'2104569.jpg'"
      ]
     },
     "execution_count": 46,
     "metadata": {},
     "output_type": "execute_result"
    }
   ],
   "source": [
    "train_file[0] # 파일명 확인"
   ]
  },
  {
   "cell_type": "code",
   "execution_count": 47,
   "metadata": {
    "colab": {
     "base_uri": "https://localhost:8080/"
    },
    "id": "f5YBnzB8_5OH",
    "outputId": "c763a983-3737-41ee-eb81-bf5be71e3540"
   },
   "outputs": [
    {
     "data": {
      "text/plain": [
       "(1649,)"
      ]
     },
     "execution_count": 47,
     "metadata": {},
     "output_type": "execute_result"
    }
   ],
   "source": [
    "train_target = train[\"target\"].to_numpy() # 타겟 추출 및 numpy 배열로 변환\n",
    "\n",
    "train_target.shape # 타겟 배열의 shape 확인"
   ]
  },
  {
   "cell_type": "markdown",
   "metadata": {},
   "source": [
    "- transform 객체"
   ]
  },
  {
   "cell_type": "code",
   "execution_count": 48,
   "metadata": {},
   "outputs": [],
   "source": [
    "import albumentations as A\n",
    "from albumentations.pytorch.transforms import ToTensorV2\n",
    "\n",
    "resize = [224, 224]\n",
    "mean = [0.485, 0.456, 0.406]\n",
    "std = [0.229, 0.224, 0.225]\n",
    "\n",
    "train_list = [\n",
    "    # 증강\n",
    "    A.Resize(*resize),\n",
    "    A.Normalize(mean, std),\n",
    "    ToTensorV2()\n",
    "]\n",
    "\n",
    "train_transform = A.Compose(train_list)\n",
    "\n",
    "test_list = [\n",
    "    A.Resize(*resize),\n",
    "    A.Normalize(mean, std),\n",
    "    ToTensorV2()\n",
    "]\n",
    "\n",
    "test_transform = A.Compose(test_list)"
   ]
  },
  {
   "cell_type": "code",
   "execution_count": 49,
   "metadata": {
    "id": "QXdswYpq_c7V"
   },
   "outputs": [],
   "source": [
    "class FoodsDataset(torch.utils.data.Dataset): # 데이터셋 클래스 정의\n",
    "    def __init__(self, transform, x, y=None): # x: 파일명, y: 타겟(테스트 데이터 예측 시 정답 데이터가 없으므로 기본값 None 지정), resize: 이미지 크기\n",
    "        self.transform = transform\n",
    "        self.x = x # 파일명\n",
    "        self.y = y # 타겟\n",
    "        # self.resize = resize # 이미지 크기\n",
    "\n",
    "    def __len__(self): # 데이터셋 길이 반환 메서드\n",
    "        return len(self.x)\n",
    "\n",
    "    def __getitem__(self, idx): # 데이터셋에서 특정 인덱스의 아이템 반환\n",
    "        item = {} # 반환할 아이템을 담을 딕셔너리\n",
    "        x = cv2.imread(f\"{DATA_PATH}data/{self.x[idx]}\") # 이미지 파일 읽기\n",
    "        x = cv2.cvtColor(x, cv2.COLOR_BGR2RGB) # 이미지 채널 순서 변경(BGR -> RGB)\n",
    "        # x = cv2.resize(x, self.resize) # 이미지 크기 변경\n",
    "        # x = x / 255 # 이미지 스케일링\n",
    "        # item[\"x\"] = torch.Tensor(x) # 이미지 텐서화\n",
    "        item[\"x\"] = self.transform(image=x)[\"image\"]\n",
    "\n",
    "        if self.y is not None: # 타겟이 존재할 경우\n",
    "            item[\"y\"] = torch.tensor(self.y[idx]) # 타겟 텐서화(다중 클래스 분류 문제이므로 텐서 함수 사용)\n",
    "\n",
    "        return item # 아이템 반환"
   ]
  },
  {
   "cell_type": "code",
   "execution_count": 50,
   "metadata": {
    "colab": {
     "base_uri": "https://localhost:8080/"
    },
    "id": "cZbbfuf1_zKZ",
    "outputId": "fcefe8d3-02a4-4ca7-8cfe-20fccf942995"
   },
   "outputs": [
    {
     "data": {
      "text/plain": [
       "torch.Size([2, 3, 224, 224])"
      ]
     },
     "execution_count": 50,
     "metadata": {},
     "output_type": "execute_result"
    }
   ],
   "source": [
    "# 클래스 잘 작동하는지 확인\n",
    "dataset = FoodsDataset(train_transform, train_file, train_target) # 데이터셋 객체 생성\n",
    "dataloader = torch.utils.data.DataLoader(dataset, 2) # 데이터로더 생성\n",
    "batch = next(iter(dataloader)) # 배치 생성\n",
    "batch[\"x\"].shape # 배치 shape 확인"
   ]
  },
  {
   "cell_type": "markdown",
   "metadata": {
    "id": "ryuSXROzDqS-"
   },
   "source": [
    "# 모델 클래스 만들기"
   ]
  },
  {
   "cell_type": "code",
   "execution_count": 51,
   "metadata": {
    "id": "IJLgRhbIGMdg"
   },
   "outputs": [],
   "source": [
    "class Conv2dNet(torch.nn.Module): # 컨볼루션 신경망 클래스 정의\n",
    "    def __init__(self, in_channels, out_channels, kernel_size): # in_channels: 입력 채널 수, out_channels: 출력 채널 수(커널 수), kernel_size: 커널 크기\n",
    "        super().__init__() # 부모 클래스 초기화 메서드 실행\n",
    "        self.seq = torch.nn.Sequential( # 순차적 계층 변수 생성\n",
    "            torch.nn.Conv2d(in_channels, out_channels, kernel_size), # 컨볼루션 계층\n",
    "            torch.nn.BatchNorm2d(out_channels), # 배치 정규화 계층\n",
    "            torch.nn.PReLU(), # 활성화 함수\n",
    "            torch.nn.MaxPool2d(2), # 맥스 풀링 계층\n",
    "        )\n",
    "\n",
    "    def forward(self, x): # 생성한 순차적 계층 실행 메서드\n",
    "        return self.seq(x) # 순차적 계층에 입력값 x를 순차적으로 통과시킨 결과 반환"
   ]
  },
  {
   "cell_type": "code",
   "execution_count": 52,
   "metadata": {
    "id": "mEPm3tWzn87J"
   },
   "outputs": [],
   "source": [
    "class LinearNet(torch.nn.Module): # 완전 연결 신경망 클래스 정의\n",
    "    def __init__(self, in_channels, out_channels): # in_channels: 입력 채널 수, out_channels: 출력 채널 수(커널 수)\n",
    "        super().__init__() # 부모 클래스 초기화 메서드 실행\n",
    "        self.seq = torch.nn.Sequential( # 순차적 계층 변수 생성\n",
    "            torch.nn.Dropout(0.2), # 드롭아웃 계층\n",
    "            torch.nn.Linear(in_channels, out_channels), # 완전 연결 계층\n",
    "            torch.nn.BatchNorm1d(out_channels), # 배치 정규화 계층\n",
    "            torch.nn.PReLU(), # 활성화 함수\n",
    "        )\n",
    "\n",
    "    def forward(self, x): # 생성한 순차적 계층 실행 메서드\n",
    "        return self.seq(x) # 순차적 계층에 입력값 x를 순차적으로 통과시킨 결과 반환"
   ]
  },
  {
   "cell_type": "code",
   "execution_count": 53,
   "metadata": {
    "id": "iyhmfA6ADrkR"
   },
   "outputs": [],
   "source": [
    "class Net(torch.nn.Module): # 전체 신경망 클래스 정의\n",
    "    def __init__(self, in_channels=3, out_channels=16, kernel_size=3): # in_channels: 입력 채널 수, out_channels: 출력 채널 수(커널 수), kernel_size: 커널 크기\n",
    "        super().__init__() # 부모 클래스 초기화 메서드 실행\n",
    "        self.seq = torch.nn.Sequential( # 순차적 계층 변수 생성\n",
    "            Conv2dNet(in_channels, out_channels, kernel_size), # 컨볼루션 신경망\n",
    "            Conv2dNet(out_channels, out_channels * 2, kernel_size), # 컨볼루션 신경망\n",
    "            Conv2dNet(out_channels * 2, out_channels * 4, kernel_size), # 컨볼루션 신경망\n",
    "            Conv2dNet(out_channels * 4, out_channels * 8, kernel_size), # 컨볼루션 신경망\n",
    "\n",
    "            torch.nn.AdaptiveMaxPool2d(1), # 글로벌 맥스 풀링 계층\n",
    "            torch.nn.Flatten(), # 텐서 펼치기\n",
    "            LinearNet(out_channels * 8, out_channels * 4), # 완전 연결 신경망\n",
    "            LinearNet(out_channels * 4, out_channels * 2), # 완전 연결 신경망\n",
    "            torch.nn.Dropout(0.2), # 드롭아웃 계층\n",
    "            torch.nn.Linear(out_channels * 2, 3), # 완전 연결 신경망(정답 데이터 클래스 개수가 3개이므로 출력 채널 수 3으로 설정)\n",
    "        )\n",
    "\n",
    "    def forward(self, x): # 생성한 순차적 계층 실행 메서드\n",
    "        return self.seq(x.permute(0, 3, 1, 2)) # 순차적 계층에 입력값 x를 순차적으로 통과시킨 결과 반환(입력값 x의 채널 순서 변경)"
   ]
  },
  {
   "cell_type": "code",
   "execution_count": 54,
   "metadata": {},
   "outputs": [],
   "source": [
    "import timm\n",
    "\n",
    "model_name = 'efficientnet_b0.ra4_e3600_r224_in1k'\n",
    "\n",
    "class Net(torch.nn.Module):\n",
    "    def __init__(self, model_name, num_classes):\n",
    "        super().__init__()\n",
    "        self.pre_model = timm.create_model(model_name, pretrained=True, num_classes=num_classes)\n",
    "    \n",
    "    def forward(self, x):\n",
    "        return self.pre_model(x)"
   ]
  },
  {
   "cell_type": "code",
   "execution_count": 55,
   "metadata": {},
   "outputs": [
    {
     "data": {
      "text/plain": [
       "tensor([[-3.7344],\n",
       "        [ 4.4264]], grad_fn=<AddmmBackward0>)"
      ]
     },
     "execution_count": 55,
     "metadata": {},
     "output_type": "execute_result"
    }
   ],
   "source": [
    "model = Net(model_name, 1)\n",
    "model(batch[\"x\"])"
   ]
  },
  {
   "cell_type": "markdown",
   "metadata": {
    "id": "yVPndBqJzWrq"
   },
   "source": [
    "# 2. 학습 loop 함수 만들기"
   ]
  },
  {
   "cell_type": "code",
   "execution_count": 56,
   "metadata": {
    "id": "mPRAvTH_zqEC"
   },
   "outputs": [],
   "source": [
    "def train_loop(dataloader, model, loss_function, optimizer, device): # 학습 함수 정의\n",
    "    epoch_loss = 0 # 에폭 손실값 변수 초기화\n",
    "    model.train() # 모델 학습 상태로 설정\n",
    "\n",
    "    for batch in dataloader: # 데이터로더에서 미니 배치를 하나씩 꺼내 반복\n",
    "        pred = model(batch[\"x\"].to(device)) # 모델에 입력값 x를 넣어 예측값 계산, to 메서드로 연산을 수행할 디바이스로 입력값 x 이동\n",
    "        loss = loss_function(pred, batch[\"y\"].to(device)) # 예측값과 정답 데이터로 손실값 계산, to 메서드로 연산을 수행할 디바이스로 정답 데이터 이동\n",
    "\n",
    "        optimizer.zero_grad() # 기울기 초기화\n",
    "        loss.backward() # 손실값 역전파\n",
    "        optimizer.step() # 옵티마이저 가중치 업데이트\n",
    "\n",
    "        epoch_loss += loss.item() # 손실값 파이썬 숫자로 변환하여 에폭 손실값에 더함\n",
    "\n",
    "    epoch_loss /= len(dataloader) # 에폭 손실값을 데이터로더 길이로 나누어 평균 손실값 계산\n",
    "    return epoch_loss # 에폭 손실값 반환"
   ]
  },
  {
   "cell_type": "markdown",
   "metadata": {
    "id": "a5QXfI4CzbR2"
   },
   "source": [
    "# 3. 테스트 loop 함수 만들기\n",
    "- 데이터 예측 기능 및 검증데이터 손실값 반환하는 기능"
   ]
  },
  {
   "cell_type": "code",
   "execution_count": 57,
   "metadata": {
    "id": "PRyKD03ozbDp"
   },
   "outputs": [],
   "source": [
    "@torch.no_grad() # 기울기 계산하지 않도록 데코레이터 설정\n",
    "def test_loop(dataloader, model, loss_function, device): # 테스트 함수 정의\n",
    "    epoch_loss = 0 # 에폭 손실값 변수 초기화\n",
    "    model.eval() # 모델 평가 상태로 설정\n",
    "    act = torch.nn.Softmax(dim=1) # 활성화 함수 설정(다중 클래스 분류 문제이므로 소프트맥스 함수 사용)\n",
    "    pred_list = [] # 예측값을 담을 리스트 초기화\n",
    "    \n",
    "    for batch in dataloader: # 데이터로더에서 미니 배치를 하나씩 꺼내 반복\n",
    "        pred = model(batch[\"x\"].to(device)) # 모델에 입력값 x를 넣어 예측값 계산, to 메서드로 연산을 수행할 디바이스로 입력값 x 이동\n",
    "        if batch.get(\"y\") is not None: # 정답 데이터가 존재할 경우(검증 데이터)\n",
    "            loss = loss_function(pred, batch[\"y\"].to(device)) # 예측값과 정답 데이터로 손실값 계산, to 메서드로 연산을 수행할 디바이스로 정답 데이터 이동\n",
    "            epoch_loss += loss.item() # 손실값 파이썬 숫자로 변환하여 에폭 손실값에 더함\n",
    "\n",
    "        pred = act(pred) # 활성화 함수 적용\n",
    "        pred = pred.to(\"cpu\").numpy() # 텐서를 cpu 메모리로 이동한 후 넘파이 배열로 변환\n",
    "        pred_list.append(pred) # 예측값 리스트에 추가\n",
    "\n",
    "    pred = np.concatenate(pred_list) # 예측값 리스트를 연결\n",
    "    epoch_loss /= len(dataloader) # 에폭 손실값을 데이터로더 길이로 나누어 평균 손실값 계산\n",
    "\n",
    "    return epoch_loss, pred # 에폭 손실값과 예측값 반환"
   ]
  },
  {
   "cell_type": "markdown",
   "metadata": {
    "id": "d17zL790zwkg"
   },
   "source": [
    "# 4. 학습하기\n"
   ]
  },
  {
   "cell_type": "code",
   "execution_count": 58,
   "metadata": {
    "id": "D5QSzRFTz3iZ"
   },
   "outputs": [],
   "source": [
    "n_splits = 5 # 폴드 수 설정\n",
    "batch_size = 32 # 배치 크기 설정\n",
    "epochs = 100 # 에폭 수 설정\n",
    "loss_function = torch.nn.CrossEntropyLoss() # 손실 함수 설정(다중 클래스 분류 문제이므로 크로스 엔트로피 손실 함수 사용)"
   ]
  },
  {
   "cell_type": "code",
   "execution_count": 59,
   "metadata": {
    "id": "3oGRkwoNEvO9"
   },
   "outputs": [],
   "source": [
    "from sklearn.model_selection import KFold # KFold 클래스 불러오기\n",
    "from sklearn.metrics import accuracy_score # 정확도 계산 함수 불러오기\n",
    "\n",
    "cv = KFold(n_splits, shuffle=True, random_state=SEED) # KFold 객체 생성"
   ]
  },
  {
   "cell_type": "code",
   "execution_count": 62,
   "metadata": {
    "colab": {
     "base_uri": "https://localhost:8080/",
     "height": 292,
     "referenced_widgets": [
      "291e795847ea4a95831ccc282f075b45",
      "2e3ce7714eab406ba3f1a416b07c38f8",
      "a7f3b53d6dd6401caeb3d5260c59eefc",
      "331d0d8c826849c4a5d686023754e008",
      "ecaf725934fa470a9589e202e284cfd2",
      "c9e9153cfe1f42edbeb79f2b922b1a48",
      "86d6f7ae13be4479be5eaba3d4329d3c",
      "99c6399cbeb841e8b5d49476d1226be3",
      "a40df9c9ed2d400bacea46c95bcb5adf",
      "8208a2bdc59b43ec95ed821b069c689f",
      "59bf7f3ee7e145d2ad5019804402cf3b"
     ]
    },
    "id": "2_eZ5P2_EwoE",
    "outputId": "e7385ce9-42bf-4446-ad54-29600c152a57"
   },
   "outputs": [
    {
     "data": {
      "application/vnd.jupyter.widget-view+json": {
       "model_id": "6c5c545b4cb74375999792a2d316e6be",
       "version_major": 2,
       "version_minor": 0
      },
      "text/plain": [
       "  0%|          | 0/100 [00:00<?, ?it/s]"
      ]
     },
     "metadata": {},
     "output_type": "display_data"
    },
    {
     "name": "stdout",
     "output_type": "stream",
     "text": [
      "train_loss:  1.8998, valid_loss:  19653.2274, score:  0.5758\n",
      "train_loss:  0.7126, valid_loss:  553.9701, score:  0.4121\n",
      "train_loss:  0.4282, valid_loss:  9.6122, score:  0.7788\n",
      "train_loss:  0.2691, valid_loss:  0.5452, score:  0.8364\n",
      "train_loss:  0.3216, valid_loss:  0.4694, score:  0.8182\n",
      "train_loss:  0.1586, valid_loss:  0.4120, score:  0.8576\n",
      "train_loss:  0.1244, valid_loss:  0.4946, score:  0.8485\n",
      "train_loss:  0.0770, valid_loss:  0.5466, score:  0.8667\n",
      "train_loss:  0.0429, valid_loss:  0.4323, score:  0.8848\n",
      "train_loss:  0.0545, valid_loss:  0.6611, score:  0.8394\n",
      "train_loss:  0.2031, valid_loss:  1.3517, score:  0.5667\n",
      "train_loss:  0.2307, valid_loss:  0.5718, score:  0.8121\n",
      "train_loss:  0.1525, valid_loss:  0.3548, score:  0.8758\n",
      "train_loss:  0.0711, valid_loss:  0.5688, score:  0.8727\n",
      "train_loss:  0.0186, valid_loss:  0.5333, score:  0.8939\n",
      "train_loss:  0.0305, valid_loss:  0.6834, score:  0.8606\n",
      "train_loss:  0.0923, valid_loss:  0.5913, score:  0.8455\n",
      "train_loss:  0.1397, valid_loss:  0.5773, score:  0.8394\n",
      "train_loss:  0.1325, valid_loss:  0.5659, score:  0.8576\n",
      "train_loss:  0.2984, valid_loss:  0.3661, score:  0.8788\n",
      "train_loss:  0.0968, valid_loss:  0.4417, score:  0.8273\n",
      "train_loss:  0.0413, valid_loss:  0.5937, score:  0.8515\n",
      "train_loss:  0.0685, valid_loss:  2.9515, score:  0.8485\n",
      "train_loss:  0.1660, valid_loss:  0.7772, score:  0.7909\n",
      "train_loss:  0.0349, valid_loss:  0.4700, score:  0.8818\n",
      "train_loss:  0.0475, valid_loss:  0.4986, score:  0.8848\n",
      "train_loss:  0.0523, valid_loss:  0.8802, score:  0.8364\n",
      "train_loss:  0.0407, valid_loss:  0.5576, score:  0.8636\n",
      "train_loss:  0.0197, valid_loss:  0.5278, score:  0.8879\n",
      "train_loss:  0.0152, valid_loss:  0.5278, score:  0.9152\n",
      "train_loss:  0.0429, valid_loss:  0.9242, score:  0.8576\n",
      "train_loss:  0.1166, valid_loss:  0.4654, score:  0.8697\n",
      "train_loss:  0.0932, valid_loss:  0.3763, score:  0.8667\n",
      "train_loss:  0.0473, valid_loss:  0.5907, score:  0.8576\n",
      "train_loss:  0.0396, valid_loss:  0.4239, score:  0.9030\n",
      "train_loss:  0.0333, valid_loss:  0.5250, score:  0.8727\n",
      "train_loss:  0.0171, valid_loss:  0.5390, score:  0.8909\n",
      "train_loss:  0.0626, valid_loss:  0.5398, score:  0.8606\n",
      "train_loss:  0.0318, valid_loss:  0.4741, score:  0.8818\n",
      "train_loss:  0.0663, valid_loss:  0.4838, score:  0.8879\n",
      "train_loss:  0.0779, valid_loss:  0.5448, score:  0.8485\n",
      "train_loss:  0.0918, valid_loss:  0.4397, score:  0.8939\n",
      "train_loss:  0.2358, valid_loss:  0.5509, score:  0.8242\n",
      "train_loss:  0.1467, valid_loss:  16.0994, score:  0.7879\n",
      "train_loss:  0.0752, valid_loss:  55.1725, score:  0.8121\n",
      "Fold-0 Best Loss:  0.4239, Best Acc:  0.9030\n"
     ]
    },
    {
     "data": {
      "application/vnd.jupyter.widget-view+json": {
       "model_id": "e1812b1010c24529a40d059bcb3d28d1",
       "version_major": 2,
       "version_minor": 0
      },
      "text/plain": [
       "  0%|          | 0/100 [00:00<?, ?it/s]"
      ]
     },
     "metadata": {},
     "output_type": "display_data"
    },
    {
     "name": "stdout",
     "output_type": "stream",
     "text": [
      "train_loss:  2.0985, valid_loss:  5.4793, score:  0.3636\n",
      "train_loss:  0.5619, valid_loss:  0.8471, score:  0.7333\n",
      "train_loss:  0.2346, valid_loss:  0.8880, score:  0.7485\n",
      "train_loss:  0.2129, valid_loss:  0.5612, score:  0.8152\n",
      "train_loss:  0.1330, valid_loss:  0.5222, score:  0.8515\n",
      "train_loss:  0.0883, valid_loss:  0.6405, score:  0.8364\n",
      "train_loss:  0.1206, valid_loss:  0.6556, score:  0.8152\n",
      "train_loss:  0.1962, valid_loss:  0.8335, score:  0.7909\n",
      "train_loss:  0.1521, valid_loss:  0.5134, score:  0.8303\n",
      "train_loss:  0.0651, valid_loss:  0.4693, score:  0.8485\n",
      "train_loss:  0.0909, valid_loss:  0.5717, score:  0.8091\n",
      "train_loss:  0.2634, valid_loss:  0.6686, score:  0.7727\n",
      "train_loss:  0.0829, valid_loss:  0.4658, score:  0.8455\n",
      "train_loss:  0.1462, valid_loss:  0.4341, score:  0.8394\n",
      "train_loss:  0.1146, valid_loss:  0.4578, score:  0.8424\n",
      "train_loss:  0.0784, valid_loss:  0.5564, score:  0.8030\n",
      "train_loss:  0.0560, valid_loss:  0.4780, score:  0.8788\n",
      "train_loss:  0.0615, valid_loss:  0.4511, score:  0.8667\n",
      "train_loss:  0.0262, valid_loss:  0.5994, score:  0.8606\n",
      "train_loss:  0.0361, valid_loss:  0.4126, score:  0.8909\n",
      "train_loss:  0.0680, valid_loss:  0.4514, score:  0.8455\n",
      "train_loss:  0.0322, valid_loss:  1.1753, score:  0.5727\n",
      "train_loss:  0.0096, valid_loss:  0.3775, score:  0.8879\n",
      "train_loss:  0.1101, valid_loss:  0.4806, score:  0.8273\n",
      "train_loss:  0.1209, valid_loss:  0.8149, score:  0.8152\n",
      "train_loss:  0.3199, valid_loss:  0.7510, score:  0.7273\n",
      "train_loss:  0.2290, valid_loss:  0.4131, score:  0.8364\n",
      "train_loss:  0.1408, valid_loss:  0.5646, score:  0.7758\n",
      "train_loss:  0.0513, valid_loss:  0.3764, score:  0.8818\n",
      "train_loss:  0.0693, valid_loss:  0.5523, score:  0.8303\n",
      "train_loss:  0.0539, valid_loss:  0.4422, score:  0.8667\n",
      "train_loss:  0.0320, valid_loss:  0.5154, score:  0.8697\n",
      "train_loss:  0.2730, valid_loss:  1.2873, score:  0.5091\n",
      "train_loss:  0.1030, valid_loss:  0.4783, score:  0.8242\n",
      "train_loss:  0.0401, valid_loss:  0.5118, score:  0.8758\n",
      "train_loss:  0.0730, valid_loss:  0.5382, score:  0.8364\n",
      "train_loss:  0.0771, valid_loss:  0.6556, score:  0.8212\n",
      "train_loss:  0.0774, valid_loss:  0.5143, score:  0.8394\n",
      "train_loss:  0.0858, valid_loss:  0.4984, score:  0.8303\n",
      "Fold-1 Best Loss:  0.3764, Best Acc:  0.8818\n"
     ]
    },
    {
     "data": {
      "application/vnd.jupyter.widget-view+json": {
       "model_id": "5ac4b4b702984cfaa1a35b4fc98091cb",
       "version_major": 2,
       "version_minor": 0
      },
      "text/plain": [
       "  0%|          | 0/100 [00:00<?, ?it/s]"
      ]
     },
     "metadata": {},
     "output_type": "display_data"
    },
    {
     "name": "stdout",
     "output_type": "stream",
     "text": [
      "train_loss:  2.3106, valid_loss:  46.4458, score:  0.3697\n",
      "train_loss:  1.2675, valid_loss:  0.9752, score:  0.7061\n",
      "train_loss:  0.4044, valid_loss:  0.6042, score:  0.8152\n",
      "train_loss:  0.3114, valid_loss:  0.7279, score:  0.7697\n",
      "train_loss:  0.1705, valid_loss:  0.7038, score:  0.8152\n",
      "train_loss:  0.1454, valid_loss:  0.5585, score:  0.8303\n",
      "train_loss:  0.1313, valid_loss:  0.5284, score:  0.8485\n",
      "train_loss:  0.1001, valid_loss:  0.6191, score:  0.8576\n",
      "train_loss:  0.1678, valid_loss:  0.6293, score:  0.8273\n",
      "train_loss:  0.1919, valid_loss:  0.9777, score:  0.8152\n",
      "train_loss:  0.0904, valid_loss:  546.4352, score:  0.8000\n",
      "train_loss:  0.0972, valid_loss:  0.6737, score:  0.8303\n",
      "train_loss:  0.0866, valid_loss:  2295.0257, score:  0.8212\n",
      "train_loss:  0.0914, valid_loss:  236.5361, score:  0.8121\n",
      "train_loss:  0.1924, valid_loss:  1257.3697, score:  0.8636\n",
      "train_loss:  0.0656, valid_loss:  1.5602, score:  0.8697\n",
      "train_loss:  0.0344, valid_loss:  887.6749, score:  0.8515\n",
      "train_loss:  0.0717, valid_loss:  1.0126, score:  0.8030\n",
      "train_loss:  0.0591, valid_loss:  0.7387, score:  0.8424\n",
      "train_loss:  0.0633, valid_loss:  133.4446, score:  0.7394\n",
      "train_loss:  0.0560, valid_loss:  0.6215, score:  0.8667\n",
      "train_loss:  0.0697, valid_loss:  0.8285, score:  0.8667\n",
      "train_loss:  0.1352, valid_loss:  0.7427, score:  0.8242\n",
      "train_loss:  0.2642, valid_loss:  0.6523, score:  0.7970\n",
      "train_loss:  0.0942, valid_loss:  0.8728, score:  0.8212\n",
      "train_loss:  0.1652, valid_loss:  105422.4193, score:  0.7606\n",
      "train_loss:  0.1077, valid_loss:  30126.1534, score:  0.8909\n",
      "train_loss:  0.0900, valid_loss:  228519.1222, score:  0.8667\n",
      "train_loss:  0.0551, valid_loss:  0.6383, score:  0.8667\n",
      "train_loss:  0.0343, valid_loss:  0.5359, score:  0.8758\n",
      "train_loss:  0.0241, valid_loss:  0.4802, score:  0.8788\n",
      "train_loss:  0.0239, valid_loss:  0.8417, score:  0.8727\n",
      "train_loss:  0.1112, valid_loss:  0.7030, score:  0.8364\n",
      "train_loss:  0.0827, valid_loss:  0.5134, score:  0.8758\n",
      "train_loss:  0.0370, valid_loss:  0.4216, score:  0.9061\n",
      "train_loss:  0.0195, valid_loss:  0.4862, score:  0.9182\n",
      "train_loss:  0.0132, valid_loss:  0.5172, score:  0.9030\n",
      "train_loss:  0.0478, valid_loss:  0.8431, score:  0.8242\n",
      "train_loss:  0.0510, valid_loss:  0.4333, score:  0.8909\n",
      "train_loss:  0.0118, valid_loss:  0.5495, score:  0.8909\n",
      "train_loss:  0.0163, valid_loss:  0.5794, score:  0.8818\n",
      "train_loss:  0.0323, valid_loss:  0.7327, score:  0.8848\n",
      "train_loss:  0.1704, valid_loss:  0.6028, score:  0.7939\n",
      "train_loss:  0.2108, valid_loss:  0.7694, score:  0.8030\n",
      "train_loss:  0.0736, valid_loss:  0.5620, score:  0.8636\n",
      "train_loss:  0.1413, valid_loss:  0.5061, score:  0.8485\n",
      "train_loss:  0.0544, valid_loss:  0.5110, score:  0.8515\n",
      "train_loss:  0.0192, valid_loss:  0.5582, score:  0.8758\n",
      "train_loss:  0.0112, valid_loss:  0.5198, score:  0.8879\n",
      "Fold-2 Best Loss:  0.4333, Best Acc:  0.8909\n"
     ]
    },
    {
     "data": {
      "application/vnd.jupyter.widget-view+json": {
       "model_id": "3512042297dc433382bb6a1e734787b7",
       "version_major": 2,
       "version_minor": 0
      },
      "text/plain": [
       "  0%|          | 0/100 [00:00<?, ?it/s]"
      ]
     },
     "metadata": {},
     "output_type": "display_data"
    },
    {
     "name": "stdout",
     "output_type": "stream",
     "text": [
      "train_loss:  2.5447, valid_loss:  5.3793, score:  0.3242\n",
      "train_loss:  0.9257, valid_loss:  1.7061, score:  0.5394\n",
      "train_loss:  0.3248, valid_loss:  0.6172, score:  0.7848\n",
      "train_loss:  0.2068, valid_loss:  0.4697, score:  0.8394\n",
      "train_loss:  0.1473, valid_loss:  0.4699, score:  0.8727\n",
      "train_loss:  0.1577, valid_loss:  0.6060, score:  0.8303\n",
      "train_loss:  0.1805, valid_loss:  0.5728, score:  0.8121\n",
      "train_loss:  0.1600, valid_loss:  0.3152, score:  0.8758\n",
      "train_loss:  0.0753, valid_loss:  0.4077, score:  0.8909\n",
      "train_loss:  0.0635, valid_loss:  0.5982, score:  0.8697\n",
      "train_loss:  0.0663, valid_loss:  0.5955, score:  0.8485\n",
      "train_loss:  0.1249, valid_loss:  0.4362, score:  0.8515\n",
      "train_loss:  0.0564, valid_loss:  0.3518, score:  0.8848\n",
      "train_loss:  0.1861, valid_loss:  0.8462, score:  0.7788\n",
      "train_loss:  0.1468, valid_loss:  0.5966, score:  0.8152\n",
      "train_loss:  0.0770, valid_loss:  0.4698, score:  0.8727\n",
      "train_loss:  0.0961, valid_loss:  0.3718, score:  0.8848\n",
      "train_loss:  0.0428, valid_loss:  1.3562, score:  0.7424\n",
      "train_loss:  0.0456, valid_loss:  0.6054, score:  0.8576\n",
      "train_loss:  0.1225, valid_loss:  0.4813, score:  0.8727\n",
      "train_loss:  0.0394, valid_loss:  0.3502, score:  0.8879\n",
      "train_loss:  0.0269, valid_loss:  0.5994, score:  0.8667\n",
      "train_loss:  0.0435, valid_loss:  0.6550, score:  0.8758\n",
      "train_loss:  0.0761, valid_loss:  0.6858, score:  0.8091\n",
      "train_loss:  0.1074, valid_loss:  0.4935, score:  0.8818\n",
      "train_loss:  0.1120, valid_loss:  0.7051, score:  0.7970\n",
      "train_loss:  0.0956, valid_loss:  0.5324, score:  0.8636\n",
      "train_loss:  0.0321, valid_loss:  0.4764, score:  0.8424\n",
      "train_loss:  0.0205, valid_loss:  0.4839, score:  0.8939\n",
      "train_loss:  0.0239, valid_loss:  0.5878, score:  0.8545\n",
      "train_loss:  0.0088, valid_loss:  0.5712, score:  0.8818\n",
      "train_loss:  0.0073, valid_loss:  0.5052, score:  0.8939\n",
      "train_loss:  0.0226, valid_loss:  0.5985, score:  0.8576\n",
      "train_loss:  0.0419, valid_loss:  0.6377, score:  0.8727\n",
      "train_loss:  0.1501, valid_loss:  0.9300, score:  0.7970\n",
      "train_loss:  0.1537, valid_loss:  0.3802, score:  0.8667\n",
      "train_loss:  0.0706, valid_loss:  0.4016, score:  0.8545\n",
      "train_loss:  0.0252, valid_loss:  0.4950, score:  0.8788\n",
      "train_loss:  0.1363, valid_loss:  1.4460, score:  0.6242\n",
      "train_loss:  0.1446, valid_loss:  0.4008, score:  0.8879\n",
      "train_loss:  0.1084, valid_loss:  0.3989, score:  0.8697\n",
      "train_loss:  0.0382, valid_loss:  0.5650, score:  0.8788\n",
      "train_loss:  0.0156, valid_loss:  0.7011, score:  0.8606\n",
      "train_loss:  0.0614, valid_loss:  0.5431, score:  0.8727\n",
      "train_loss:  0.1038, valid_loss:  2.5102, score:  0.5758\n",
      "train_loss:  0.1134, valid_loss:  1.0577, score:  0.5636\n",
      "train_loss:  0.0343, valid_loss:  0.6883, score:  0.8545\n",
      "train_loss:  0.0273, valid_loss:  0.5775, score:  0.8879\n",
      "train_loss:  0.0461, valid_loss:  0.4914, score:  0.8818\n",
      "train_loss:  0.0132, valid_loss:  0.7418, score:  0.8455\n",
      "train_loss:  0.0091, valid_loss:  0.6837, score:  0.8788\n",
      "train_loss:  0.0463, valid_loss:  0.7409, score:  0.8576\n",
      "train_loss:  0.3684, valid_loss:  0.5444, score:  0.8030\n",
      "train_loss:  0.1689, valid_loss:  0.5324, score:  0.8303\n",
      "train_loss:  0.1228, valid_loss:  0.6209, score:  0.8212\n",
      "train_loss:  0.0658, valid_loss:  0.6859, score:  0.8455\n",
      "train_loss:  0.1353, valid_loss:  0.4678, score:  0.8515\n",
      "train_loss:  0.0313, valid_loss:  0.7329, score:  0.8061\n",
      "train_loss:  0.0512, valid_loss:  0.4852, score:  0.8636\n",
      "train_loss:  0.0483, valid_loss:  0.4952, score:  0.8667\n",
      "train_loss:  0.2577, valid_loss:  0.3151, score:  0.8909\n",
      "train_loss:  0.0620, valid_loss:  0.4200, score:  0.8758\n",
      "train_loss:  0.1715, valid_loss:  0.7487, score:  0.8152\n",
      "train_loss:  0.1563, valid_loss:  0.5161, score:  0.8545\n",
      "train_loss:  0.0331, valid_loss:  0.3851, score:  0.8727\n",
      "train_loss:  0.0160, valid_loss:  0.5964, score:  0.8576\n",
      "train_loss:  0.0059, valid_loss:  0.5614, score:  0.8909\n",
      "train_loss:  0.0015, valid_loss:  0.5833, score:  0.8727\n",
      "train_loss:  0.0018, valid_loss:  0.5306, score:  0.8758\n",
      "train_loss:  0.0014, valid_loss:  0.6191, score:  0.8818\n",
      "train_loss:  0.0062, valid_loss:  0.6265, score:  0.8848\n",
      "Fold-3 Best Loss:  0.3151, Best Acc:  0.8909\n"
     ]
    },
    {
     "data": {
      "application/vnd.jupyter.widget-view+json": {
       "model_id": "0775b3f11f9f4a9e9b1f001eb17fc427",
       "version_major": 2,
       "version_minor": 0
      },
      "text/plain": [
       "  0%|          | 0/100 [00:00<?, ?it/s]"
      ]
     },
     "metadata": {},
     "output_type": "display_data"
    },
    {
     "name": "stdout",
     "output_type": "stream",
     "text": [
      "train_loss:  2.5518, valid_loss:  10216030.4194, score:  0.3435\n",
      "train_loss:  0.8903, valid_loss:  12029.4766, score:  0.7416\n",
      "train_loss:  0.5280, valid_loss:  2868.5320, score:  0.8116\n",
      "train_loss:  0.3570, valid_loss:  1370.3406, score:  0.8511\n",
      "train_loss:  0.2418, valid_loss:  21.5321, score:  0.8267\n",
      "train_loss:  0.1684, valid_loss:  0.8706, score:  0.7964\n",
      "train_loss:  0.1876, valid_loss:  25.9204, score:  0.7872\n",
      "train_loss:  0.1319, valid_loss:  0.4833, score:  0.8176\n",
      "train_loss:  0.0842, valid_loss:  5.3182, score:  0.8511\n",
      "train_loss:  0.0864, valid_loss:  237.2914, score:  0.7842\n",
      "train_loss:  0.1849, valid_loss:  0.4803, score:  0.8602\n",
      "train_loss:  0.0762, valid_loss:  25892.6332, score:  0.8116\n",
      "train_loss:  0.0608, valid_loss:  0.4070, score:  0.8967\n",
      "train_loss:  0.0900, valid_loss:  0.4471, score:  0.8571\n",
      "train_loss:  0.1154, valid_loss:  0.3980, score:  0.8784\n",
      "train_loss:  0.0560, valid_loss:  0.4942, score:  0.8754\n",
      "train_loss:  0.1563, valid_loss:  2.5848, score:  0.8024\n",
      "train_loss:  0.1105, valid_loss:  0.3805, score:  0.8784\n",
      "train_loss:  0.0490, valid_loss:  1827.4377, score:  0.8815\n",
      "train_loss:  0.0615, valid_loss:  412.6897, score:  0.8723\n",
      "train_loss:  0.0076, valid_loss:  2.9889, score:  0.8997\n",
      "train_loss:  0.0219, valid_loss:  72.2276, score:  0.8784\n",
      "train_loss:  0.0544, valid_loss:  0.8312, score:  0.8085\n",
      "train_loss:  0.1286, valid_loss:  0.5246, score:  0.8571\n",
      "train_loss:  0.0613, valid_loss:  6697.6457, score:  0.8815\n",
      "train_loss:  0.0990, valid_loss:  8563.9143, score:  0.8602\n",
      "train_loss:  0.0397, valid_loss:  2147.5859, score:  0.8541\n",
      "train_loss:  0.0140, valid_loss:  59.4203, score:  0.8784\n",
      "train_loss:  0.0592, valid_loss:  0.3704, score:  0.9119\n",
      "train_loss:  0.0376, valid_loss:  195.8291, score:  0.8511\n",
      "train_loss:  0.1759, valid_loss:  22.4063, score:  0.8419\n",
      "train_loss:  0.0938, valid_loss:  0.4690, score:  0.8845\n",
      "train_loss:  0.0457, valid_loss:  0.4222, score:  0.8997\n",
      "train_loss:  0.1991, valid_loss:  831.4079, score:  0.8723\n",
      "train_loss:  0.1922, valid_loss:  1.0878, score:  0.6596\n",
      "train_loss:  0.0962, valid_loss:  0.7957, score:  0.8116\n",
      "train_loss:  0.0706, valid_loss:  0.8607, score:  0.8176\n",
      "train_loss:  0.2914, valid_loss:  0.4801, score:  0.8328\n",
      "train_loss:  0.0839, valid_loss:  0.7296, score:  0.8875\n",
      "Fold-4 Best Loss:  0.3704, Best Acc:  0.9119\n"
     ]
    }
   ],
   "source": [
    "is_holdout = False # 홀드아웃 검증 사용 여부 설정\n",
    "reset_seeds(SEED) # 시드 고정\n",
    "score_list = [] # 점수를 담을 리스트 초기화\n",
    "\n",
    "for i, (tri, vai) in enumerate(cv.split(train_file)): # KFold 객체를 통해 학습 데이터 인덱스와 검증 데이터 인덱스를 생성하고 인덱스와 함께 반복\n",
    "    model = Net(model_name, 3).to(device) # 모델 생성 및 디바이스 설정\n",
    "    optimizer = torch.optim.Adam(model.parameters()) # 옵티마이저 생성 및 모델 파라미터 등록\n",
    "\n",
    "    train_dataset = FoodsDataset(train_transform, train_file[tri], train_target[tri]) # 학습 데이터셋 객체 생성\n",
    "    train_dataloader = torch.utils.data.DataLoader(train_dataset, batch_size=batch_size, shuffle=True) # 학습 데이터로더 객체 생성\n",
    "\n",
    "    valid_dataset = FoodsDataset(test_transform, train_file[vai], train_target[vai]) # 검증 데이터셋 객체 생성\n",
    "    valid_dataloader = torch.utils.data.DataLoader(valid_dataset, batch_size=batch_size, shuffle=False) # 검증 데이터로더 객체 생성\n",
    "\n",
    "    best_score = 0 # 최고 점수(정확도) 변수 초기화\n",
    "    best_loss = np.inf # 최저 손실값(검증 손실) 변수 초기화\n",
    "    patience = 0 # 조기 종료 변수 초기화\n",
    "\n",
    "    for epoch in tqdm(range(epochs)): # 에폭 수 만큼 반복\n",
    "        train_loss = train_loop(train_dataloader, model, loss_function, optimizer, device) # 학습 함수 실행\n",
    "        valid_loss, pred = test_loop(valid_dataloader, model, loss_function, device) # 검증 함수 실행\n",
    "        pred = np.argmax(pred, axis=1) # 예측값 중 가장 큰 값의 인덱스를 정답으로 설정\n",
    "        score = accuracy_score(train_target[vai], pred) # 검증 데이터 정답과 예측값으로 정확도 계산\n",
    "\n",
    "        print(f\"train_loss: {train_loss: .4f}, valid_loss: {valid_loss: .4f}, score: {score: .4f}\") # 학습 손실값, 검증 손실값, 정확도 출력\n",
    "        patience += 1 # 조기 종료 변수 1 추가\n",
    "        if score > best_score or best_loss > valid_loss: # 정확도가 높아지거나 검증 손실값이 낮아질 경우\n",
    "            patience = 0 # 조기 종료 변수 초기화\n",
    "            best_score = score # 최고 점수(정확도) 갱신\n",
    "            best_loss = valid_loss # 최저 손실값(검증 손실) 갱신\n",
    "            torch.save(model.state_dict(), f\"../output/model_{i}.pt\") # 모델 저장\n",
    "\n",
    "        if patience == 10: # 조기 종료 조건(10번 연속으로 최고 점수, 최저 손실값 갱신이 일어나지 않을 경우)\n",
    "            break # 학습 종료\n",
    "\n",
    "    print(f\"Fold-{i} Best Loss: {best_loss: .4f}, Best Acc: {best_score: .4f}\") # 폴드별 최고 정확도 출력\n",
    "    score_list.append(best_score) # 폴드별 최고 정확도를 리스트에 추가\n",
    "\n",
    "    if is_holdout: # 홀드아웃 검증 사용할 경우\n",
    "        break # 반복문 종료"
   ]
  },
  {
   "cell_type": "code",
   "execution_count": 63,
   "metadata": {
    "colab": {
     "base_uri": "https://localhost:8080/"
    },
    "id": "s2BpUSPeKL-z",
    "outputId": "f9f89619-1722-4d3e-9487-ade0802eaf49"
   },
   "outputs": [
    {
     "data": {
      "text/plain": [
       "0.8957041540020263"
      ]
     },
     "execution_count": 63,
     "metadata": {},
     "output_type": "execute_result"
    }
   ],
   "source": [
    "np.mean(score_list) # 평균 정확도 계산"
   ]
  },
  {
   "cell_type": "markdown",
   "metadata": {
    "id": "4Tubiiwgz32Q"
   },
   "source": [
    "# 5. 테스트 데이터 예측"
   ]
  },
  {
   "cell_type": "code",
   "execution_count": 64,
   "metadata": {
    "id": "sD1oBbvgvcHa"
   },
   "outputs": [],
   "source": [
    "test_dataset = FoodsDataset(test_transform, test_file) # 테스트 데이터셋 객체 생성\n",
    "test_dataloader = torch.utils.data.DataLoader(test_dataset, batch_size=batch_size, shuffle=False) # 테스트 데이터로더 객체 생성"
   ]
  },
  {
   "cell_type": "code",
   "execution_count": 65,
   "metadata": {
    "colab": {
     "base_uri": "https://localhost:8080/"
    },
    "id": "AL8pTuCZJtUW",
    "outputId": "8b5c1809-7334-4103-b470-cb1becd75d6a"
   },
   "outputs": [
    {
     "data": {
      "text/plain": [
       "array([1, 1, 1, ..., 1, 2, 1], dtype=int64)"
      ]
     },
     "execution_count": 65,
     "metadata": {},
     "output_type": "execute_result"
    }
   ],
   "source": [
    "pred_list = [] # 예측값을 담을 리스트 초기화\n",
    "for i in range(n_splits): # 폴드 수 만큼 반복\n",
    "    model = Net(model_name, 3).to(device) # 모델 생성 및 디바이스 설정\n",
    "    model_params = torch.load(f\"../output/model_{i}.pt\", weights_only=True) # 모델 가중치 불러오기\n",
    "    model.load_state_dict(model_params) # 모델 가중치 업데이트\n",
    "    _, pred = test_loop(test_dataloader, model, loss_function, device) # 예측을 위한 테스트 함수 실행\n",
    "    pred_list.append(pred) # 예측값 리스트에 추가\n",
    "\n",
    "pred = np.mean(pred_list, axis=0) # 예측값 평균 계산\n",
    "pred = np.argmax(pred, axis=1) # 예측값 중 가장 큰 값의 인덱스를 정답으로 설정\n",
    "pred # 예측값 출력"
   ]
  },
  {
   "cell_type": "markdown",
   "metadata": {
    "id": "vPMdyBaDz8GE"
   },
   "source": [
    "# 6. 칸스 사이트의 컴피티션 페이지에 제출하여 점수 확인해보세요."
   ]
  },
  {
   "cell_type": "code",
   "execution_count": 66,
   "metadata": {
    "id": "VreVSDL0bKd4"
   },
   "outputs": [],
   "source": [
    "pd.DataFrame(pred, columns=[\"target\"]).to_csv(\"../output/foods_classification_CNN.csv\", index=False)"
   ]
  }
 ],
 "metadata": {
  "accelerator": "GPU",
  "colab": {
   "gpuType": "T4",
   "provenance": []
  },
  "kernelspec": {
   "display_name": "Python 3",
   "name": "python3"
  },
  "language_info": {
   "codemirror_mode": {
    "name": "ipython",
    "version": 3
   },
   "file_extension": ".py",
   "mimetype": "text/x-python",
   "name": "python",
   "nbconvert_exporter": "python",
   "pygments_lexer": "ipython3",
   "version": "3.10.8"
  },
  "widgets": {
   "application/vnd.jupyter.widget-state+json": {
    "291e795847ea4a95831ccc282f075b45": {
     "model_module": "@jupyter-widgets/controls",
     "model_module_version": "1.5.0",
     "model_name": "HBoxModel",
     "state": {
      "_dom_classes": [],
      "_model_module": "@jupyter-widgets/controls",
      "_model_module_version": "1.5.0",
      "_model_name": "HBoxModel",
      "_view_count": null,
      "_view_module": "@jupyter-widgets/controls",
      "_view_module_version": "1.5.0",
      "_view_name": "HBoxView",
      "box_style": "",
      "children": [
       "IPY_MODEL_2e3ce7714eab406ba3f1a416b07c38f8",
       "IPY_MODEL_a7f3b53d6dd6401caeb3d5260c59eefc",
       "IPY_MODEL_331d0d8c826849c4a5d686023754e008"
      ],
      "layout": "IPY_MODEL_ecaf725934fa470a9589e202e284cfd2"
     }
    },
    "2e3ce7714eab406ba3f1a416b07c38f8": {
     "model_module": "@jupyter-widgets/controls",
     "model_module_version": "1.5.0",
     "model_name": "HTMLModel",
     "state": {
      "_dom_classes": [],
      "_model_module": "@jupyter-widgets/controls",
      "_model_module_version": "1.5.0",
      "_model_name": "HTMLModel",
      "_view_count": null,
      "_view_module": "@jupyter-widgets/controls",
      "_view_module_version": "1.5.0",
      "_view_name": "HTMLView",
      "description": "",
      "description_tooltip": null,
      "layout": "IPY_MODEL_c9e9153cfe1f42edbeb79f2b922b1a48",
      "placeholder": "​",
      "style": "IPY_MODEL_86d6f7ae13be4479be5eaba3d4329d3c",
      "value": " 12%"
     }
    },
    "331d0d8c826849c4a5d686023754e008": {
     "model_module": "@jupyter-widgets/controls",
     "model_module_version": "1.5.0",
     "model_name": "HTMLModel",
     "state": {
      "_dom_classes": [],
      "_model_module": "@jupyter-widgets/controls",
      "_model_module_version": "1.5.0",
      "_model_name": "HTMLModel",
      "_view_count": null,
      "_view_module": "@jupyter-widgets/controls",
      "_view_module_version": "1.5.0",
      "_view_name": "HTMLView",
      "description": "",
      "description_tooltip": null,
      "layout": "IPY_MODEL_8208a2bdc59b43ec95ed821b069c689f",
      "placeholder": "​",
      "style": "IPY_MODEL_59bf7f3ee7e145d2ad5019804402cf3b",
      "value": " 12/100 [01:11&lt;08:24,  5.73s/it]"
     }
    },
    "59bf7f3ee7e145d2ad5019804402cf3b": {
     "model_module": "@jupyter-widgets/controls",
     "model_module_version": "1.5.0",
     "model_name": "DescriptionStyleModel",
     "state": {
      "_model_module": "@jupyter-widgets/controls",
      "_model_module_version": "1.5.0",
      "_model_name": "DescriptionStyleModel",
      "_view_count": null,
      "_view_module": "@jupyter-widgets/base",
      "_view_module_version": "1.2.0",
      "_view_name": "StyleView",
      "description_width": ""
     }
    },
    "8208a2bdc59b43ec95ed821b069c689f": {
     "model_module": "@jupyter-widgets/base",
     "model_module_version": "1.2.0",
     "model_name": "LayoutModel",
     "state": {
      "_model_module": "@jupyter-widgets/base",
      "_model_module_version": "1.2.0",
      "_model_name": "LayoutModel",
      "_view_count": null,
      "_view_module": "@jupyter-widgets/base",
      "_view_module_version": "1.2.0",
      "_view_name": "LayoutView",
      "align_content": null,
      "align_items": null,
      "align_self": null,
      "border": null,
      "bottom": null,
      "display": null,
      "flex": null,
      "flex_flow": null,
      "grid_area": null,
      "grid_auto_columns": null,
      "grid_auto_flow": null,
      "grid_auto_rows": null,
      "grid_column": null,
      "grid_gap": null,
      "grid_row": null,
      "grid_template_areas": null,
      "grid_template_columns": null,
      "grid_template_rows": null,
      "height": null,
      "justify_content": null,
      "justify_items": null,
      "left": null,
      "margin": null,
      "max_height": null,
      "max_width": null,
      "min_height": null,
      "min_width": null,
      "object_fit": null,
      "object_position": null,
      "order": null,
      "overflow": null,
      "overflow_x": null,
      "overflow_y": null,
      "padding": null,
      "right": null,
      "top": null,
      "visibility": null,
      "width": null
     }
    },
    "86d6f7ae13be4479be5eaba3d4329d3c": {
     "model_module": "@jupyter-widgets/controls",
     "model_module_version": "1.5.0",
     "model_name": "DescriptionStyleModel",
     "state": {
      "_model_module": "@jupyter-widgets/controls",
      "_model_module_version": "1.5.0",
      "_model_name": "DescriptionStyleModel",
      "_view_count": null,
      "_view_module": "@jupyter-widgets/base",
      "_view_module_version": "1.2.0",
      "_view_name": "StyleView",
      "description_width": ""
     }
    },
    "99c6399cbeb841e8b5d49476d1226be3": {
     "model_module": "@jupyter-widgets/base",
     "model_module_version": "1.2.0",
     "model_name": "LayoutModel",
     "state": {
      "_model_module": "@jupyter-widgets/base",
      "_model_module_version": "1.2.0",
      "_model_name": "LayoutModel",
      "_view_count": null,
      "_view_module": "@jupyter-widgets/base",
      "_view_module_version": "1.2.0",
      "_view_name": "LayoutView",
      "align_content": null,
      "align_items": null,
      "align_self": null,
      "border": null,
      "bottom": null,
      "display": null,
      "flex": null,
      "flex_flow": null,
      "grid_area": null,
      "grid_auto_columns": null,
      "grid_auto_flow": null,
      "grid_auto_rows": null,
      "grid_column": null,
      "grid_gap": null,
      "grid_row": null,
      "grid_template_areas": null,
      "grid_template_columns": null,
      "grid_template_rows": null,
      "height": null,
      "justify_content": null,
      "justify_items": null,
      "left": null,
      "margin": null,
      "max_height": null,
      "max_width": null,
      "min_height": null,
      "min_width": null,
      "object_fit": null,
      "object_position": null,
      "order": null,
      "overflow": null,
      "overflow_x": null,
      "overflow_y": null,
      "padding": null,
      "right": null,
      "top": null,
      "visibility": null,
      "width": null
     }
    },
    "a40df9c9ed2d400bacea46c95bcb5adf": {
     "model_module": "@jupyter-widgets/controls",
     "model_module_version": "1.5.0",
     "model_name": "ProgressStyleModel",
     "state": {
      "_model_module": "@jupyter-widgets/controls",
      "_model_module_version": "1.5.0",
      "_model_name": "ProgressStyleModel",
      "_view_count": null,
      "_view_module": "@jupyter-widgets/base",
      "_view_module_version": "1.2.0",
      "_view_name": "StyleView",
      "bar_color": null,
      "description_width": ""
     }
    },
    "a7f3b53d6dd6401caeb3d5260c59eefc": {
     "model_module": "@jupyter-widgets/controls",
     "model_module_version": "1.5.0",
     "model_name": "FloatProgressModel",
     "state": {
      "_dom_classes": [],
      "_model_module": "@jupyter-widgets/controls",
      "_model_module_version": "1.5.0",
      "_model_name": "FloatProgressModel",
      "_view_count": null,
      "_view_module": "@jupyter-widgets/controls",
      "_view_module_version": "1.5.0",
      "_view_name": "ProgressView",
      "bar_style": "danger",
      "description": "",
      "description_tooltip": null,
      "layout": "IPY_MODEL_99c6399cbeb841e8b5d49476d1226be3",
      "max": 100,
      "min": 0,
      "orientation": "horizontal",
      "style": "IPY_MODEL_a40df9c9ed2d400bacea46c95bcb5adf",
      "value": 12
     }
    },
    "c9e9153cfe1f42edbeb79f2b922b1a48": {
     "model_module": "@jupyter-widgets/base",
     "model_module_version": "1.2.0",
     "model_name": "LayoutModel",
     "state": {
      "_model_module": "@jupyter-widgets/base",
      "_model_module_version": "1.2.0",
      "_model_name": "LayoutModel",
      "_view_count": null,
      "_view_module": "@jupyter-widgets/base",
      "_view_module_version": "1.2.0",
      "_view_name": "LayoutView",
      "align_content": null,
      "align_items": null,
      "align_self": null,
      "border": null,
      "bottom": null,
      "display": null,
      "flex": null,
      "flex_flow": null,
      "grid_area": null,
      "grid_auto_columns": null,
      "grid_auto_flow": null,
      "grid_auto_rows": null,
      "grid_column": null,
      "grid_gap": null,
      "grid_row": null,
      "grid_template_areas": null,
      "grid_template_columns": null,
      "grid_template_rows": null,
      "height": null,
      "justify_content": null,
      "justify_items": null,
      "left": null,
      "margin": null,
      "max_height": null,
      "max_width": null,
      "min_height": null,
      "min_width": null,
      "object_fit": null,
      "object_position": null,
      "order": null,
      "overflow": null,
      "overflow_x": null,
      "overflow_y": null,
      "padding": null,
      "right": null,
      "top": null,
      "visibility": null,
      "width": null
     }
    },
    "ecaf725934fa470a9589e202e284cfd2": {
     "model_module": "@jupyter-widgets/base",
     "model_module_version": "1.2.0",
     "model_name": "LayoutModel",
     "state": {
      "_model_module": "@jupyter-widgets/base",
      "_model_module_version": "1.2.0",
      "_model_name": "LayoutModel",
      "_view_count": null,
      "_view_module": "@jupyter-widgets/base",
      "_view_module_version": "1.2.0",
      "_view_name": "LayoutView",
      "align_content": null,
      "align_items": null,
      "align_self": null,
      "border": null,
      "bottom": null,
      "display": null,
      "flex": null,
      "flex_flow": null,
      "grid_area": null,
      "grid_auto_columns": null,
      "grid_auto_flow": null,
      "grid_auto_rows": null,
      "grid_column": null,
      "grid_gap": null,
      "grid_row": null,
      "grid_template_areas": null,
      "grid_template_columns": null,
      "grid_template_rows": null,
      "height": null,
      "justify_content": null,
      "justify_items": null,
      "left": null,
      "margin": null,
      "max_height": null,
      "max_width": null,
      "min_height": null,
      "min_width": null,
      "object_fit": null,
      "object_position": null,
      "order": null,
      "overflow": null,
      "overflow_x": null,
      "overflow_y": null,
      "padding": null,
      "right": null,
      "top": null,
      "visibility": null,
      "width": null
     }
    }
   }
  }
 },
 "nbformat": 4,
 "nbformat_minor": 0
}
