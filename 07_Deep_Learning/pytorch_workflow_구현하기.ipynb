{
 "cells": [
  {
   "cell_type": "markdown",
   "metadata": {
    "id": "b6-5ukHR-onb"
   },
   "source": [
    "# 평가지표\n",
    "- 정확도\n",
    "- 모델 클래스는 직접 구현"
   ]
  },
  {
   "cell_type": "code",
   "execution_count": 1,
   "metadata": {
    "id": "ptGuzaN5uDT7"
   },
   "outputs": [],
   "source": [
    "import pandas as pd\n",
    "import numpy as np\n",
    "import torch\n",
    "from tqdm.auto import tqdm\n",
    "import random\n",
    "import os\n",
    "\n",
    "def reset_seeds(seed):\n",
    "    random.seed(seed)\n",
    "    os.environ['PYTHONHASHSEED'] = str(seed)\n",
    "    np.random.seed(seed)\n",
    "    torch.manual_seed(seed)\n",
    "    torch.cuda.manual_seed(seed)\n",
    "    torch.backends.cudnn.deterministic = True"
   ]
  },
  {
   "cell_type": "code",
   "execution_count": 2,
   "metadata": {
    "colab": {
     "base_uri": "https://localhost:8080/",
     "height": 35
    },
    "id": "UAuqPVTGuEow",
    "outputId": "8c6ef8f2-c5bc-4315-8f1c-093313443bb8"
   },
   "outputs": [
    {
     "data": {
      "text/plain": [
       "'cuda'"
      ]
     },
     "execution_count": 2,
     "metadata": {},
     "output_type": "execute_result"
    }
   ],
   "source": [
    "DATA_PATH = \"../data/pizza_steak_sushi/\"\n",
    "SEED = 42\n",
    "\n",
    "device = 'cuda' if torch.cuda.is_available() else 'cpu'\n",
    "device"
   ]
  },
  {
   "cell_type": "markdown",
   "metadata": {
    "id": "rKQnsDlagA5y"
   },
   "source": [
    "# 음식 분류 데이터셋\n",
    "- 0 : 피자\n",
    "- 1 : 스테이크\n",
    "- 2 : 스시\n"
   ]
  },
  {
   "cell_type": "code",
   "execution_count": 3,
   "metadata": {
    "colab": {
     "base_uri": "https://localhost:8080/"
    },
    "id": "jctKq2rnrIxD",
    "outputId": "0b1db315-32b1-4e77-e905-c79c90eb18d1"
   },
   "outputs": [
    {
     "data": {
      "text/plain": [
       "((1649, 2), (1350, 2))"
      ]
     },
     "execution_count": 3,
     "metadata": {},
     "output_type": "execute_result"
    }
   ],
   "source": [
    "train = pd.read_csv(f\"{DATA_PATH}train.csv\")\n",
    "test = pd.read_csv(f\"{DATA_PATH}test.csv\")\n",
    "train.shape , test.shape"
   ]
  },
  {
   "cell_type": "code",
   "execution_count": 4,
   "metadata": {
    "colab": {
     "base_uri": "https://localhost:8080/",
     "height": 206
    },
    "id": "pur5E0699jNs",
    "outputId": "dd7da44a-98b9-4355-9910-07a045cf05e6"
   },
   "outputs": [
    {
     "data": {
      "text/html": [
       "<div>\n",
       "<style scoped>\n",
       "    .dataframe tbody tr th:only-of-type {\n",
       "        vertical-align: middle;\n",
       "    }\n",
       "\n",
       "    .dataframe tbody tr th {\n",
       "        vertical-align: top;\n",
       "    }\n",
       "\n",
       "    .dataframe thead th {\n",
       "        text-align: right;\n",
       "    }\n",
       "</style>\n",
       "<table border=\"1\" class=\"dataframe\">\n",
       "  <thead>\n",
       "    <tr style=\"text-align: right;\">\n",
       "      <th></th>\n",
       "      <th>file_name</th>\n",
       "      <th>target</th>\n",
       "    </tr>\n",
       "  </thead>\n",
       "  <tbody>\n",
       "    <tr>\n",
       "      <th>0</th>\n",
       "      <td>2104569.jpg</td>\n",
       "      <td>0</td>\n",
       "    </tr>\n",
       "    <tr>\n",
       "      <th>1</th>\n",
       "      <td>2038418.jpg</td>\n",
       "      <td>1</td>\n",
       "    </tr>\n",
       "    <tr>\n",
       "      <th>2</th>\n",
       "      <td>1919810.jpg</td>\n",
       "      <td>2</td>\n",
       "    </tr>\n",
       "    <tr>\n",
       "      <th>3</th>\n",
       "      <td>2557340.jpg</td>\n",
       "      <td>0</td>\n",
       "    </tr>\n",
       "    <tr>\n",
       "      <th>4</th>\n",
       "      <td>3621562.jpg</td>\n",
       "      <td>1</td>\n",
       "    </tr>\n",
       "  </tbody>\n",
       "</table>\n",
       "</div>"
      ],
      "text/plain": [
       "     file_name  target\n",
       "0  2104569.jpg       0\n",
       "1  2038418.jpg       1\n",
       "2  1919810.jpg       2\n",
       "3  2557340.jpg       0\n",
       "4  3621562.jpg       1"
      ]
     },
     "execution_count": 4,
     "metadata": {},
     "output_type": "execute_result"
    }
   ],
   "source": [
    "train.head()"
   ]
  },
  {
   "cell_type": "code",
   "execution_count": 5,
   "metadata": {
    "colab": {
     "base_uri": "https://localhost:8080/",
     "height": 206
    },
    "id": "oGqGwKRr9scI",
    "outputId": "5b21a96a-1caf-4882-a986-9baba7039357"
   },
   "outputs": [
    {
     "data": {
      "text/html": [
       "<div>\n",
       "<style scoped>\n",
       "    .dataframe tbody tr th:only-of-type {\n",
       "        vertical-align: middle;\n",
       "    }\n",
       "\n",
       "    .dataframe tbody tr th {\n",
       "        vertical-align: top;\n",
       "    }\n",
       "\n",
       "    .dataframe thead th {\n",
       "        text-align: right;\n",
       "    }\n",
       "</style>\n",
       "<table border=\"1\" class=\"dataframe\">\n",
       "  <thead>\n",
       "    <tr style=\"text-align: right;\">\n",
       "      <th></th>\n",
       "      <th>file_name</th>\n",
       "      <th>target</th>\n",
       "    </tr>\n",
       "  </thead>\n",
       "  <tbody>\n",
       "    <tr>\n",
       "      <th>0</th>\n",
       "      <td>3777020.jpg</td>\n",
       "      <td>NaN</td>\n",
       "    </tr>\n",
       "    <tr>\n",
       "      <th>1</th>\n",
       "      <td>931356.jpg</td>\n",
       "      <td>NaN</td>\n",
       "    </tr>\n",
       "    <tr>\n",
       "      <th>2</th>\n",
       "      <td>2599817.jpg</td>\n",
       "      <td>NaN</td>\n",
       "    </tr>\n",
       "    <tr>\n",
       "      <th>3</th>\n",
       "      <td>1251166.jpg</td>\n",
       "      <td>NaN</td>\n",
       "    </tr>\n",
       "    <tr>\n",
       "      <th>4</th>\n",
       "      <td>1183595.jpg</td>\n",
       "      <td>NaN</td>\n",
       "    </tr>\n",
       "  </tbody>\n",
       "</table>\n",
       "</div>"
      ],
      "text/plain": [
       "     file_name  target\n",
       "0  3777020.jpg     NaN\n",
       "1   931356.jpg     NaN\n",
       "2  2599817.jpg     NaN\n",
       "3  1251166.jpg     NaN\n",
       "4  1183595.jpg     NaN"
      ]
     },
     "execution_count": 5,
     "metadata": {},
     "output_type": "execute_result"
    }
   ],
   "source": [
    "test.head()"
   ]
  },
  {
   "cell_type": "markdown",
   "metadata": {
    "id": "nPpndZeqB0e4"
   },
   "source": [
    "# 1. 데이터셋 클래스 만들기\n"
   ]
  },
  {
   "cell_type": "code",
   "execution_count": 6,
   "metadata": {
    "id": "AFZviyU_AyDY"
   },
   "outputs": [],
   "source": [
    "import cv2\n",
    "import matplotlib.pyplot as plt"
   ]
  },
  {
   "cell_type": "code",
   "execution_count": 7,
   "metadata": {
    "colab": {
     "base_uri": "https://localhost:8080/"
    },
    "id": "2dhg0q9zzWY0",
    "outputId": "7f660d31-e3fc-4be2-cd18-b77ca0bac216"
   },
   "outputs": [
    {
     "data": {
      "text/plain": [
       "((1649,), (1350,))"
      ]
     },
     "execution_count": 7,
     "metadata": {},
     "output_type": "execute_result"
    }
   ],
   "source": [
    "train_file = train[\"file_name\"].to_numpy()\n",
    "test_file = test[\"file_name\"].to_numpy()\n",
    "\n",
    "train_file.shape, test_file.shape"
   ]
  },
  {
   "cell_type": "code",
   "execution_count": 8,
   "metadata": {
    "colab": {
     "base_uri": "https://localhost:8080/",
     "height": 35
    },
    "id": "oo4ls1yNAYhQ",
    "outputId": "c8422b84-1101-4109-b3be-9a597b149672"
   },
   "outputs": [
    {
     "data": {
      "text/plain": [
       "'2104569.jpg'"
      ]
     },
     "execution_count": 8,
     "metadata": {},
     "output_type": "execute_result"
    }
   ],
   "source": [
    "train_file[0]"
   ]
  },
  {
   "cell_type": "code",
   "execution_count": 9,
   "metadata": {
    "colab": {
     "base_uri": "https://localhost:8080/"
    },
    "id": "f5YBnzB8_5OH",
    "outputId": "c763a983-3737-41ee-eb81-bf5be71e3540"
   },
   "outputs": [
    {
     "data": {
      "text/plain": [
       "(1649,)"
      ]
     },
     "execution_count": 9,
     "metadata": {},
     "output_type": "execute_result"
    }
   ],
   "source": [
    "train_target = train[\"target\"].to_numpy()\n",
    "\n",
    "train_target.shape"
   ]
  },
  {
   "cell_type": "code",
   "execution_count": 10,
   "metadata": {
    "id": "QXdswYpq_c7V"
   },
   "outputs": [],
   "source": [
    "class FoodsDataset(torch.utils.data.Dataset):\n",
    "    def __init__(self, x, y=None, resize=(224, 224)):\n",
    "        self.x = x\n",
    "        self.y = y\n",
    "        self.resize = resize\n",
    "\n",
    "    def __len__(self):\n",
    "        return len(self.x)\n",
    "\n",
    "    def __getitem__(self, idx):\n",
    "        item = {}\n",
    "        x = cv2.imread(f\"{DATA_PATH}data/{self.x[idx]}\")\n",
    "        x = cv2.cvtColor(x, cv2.COLOR_BGR2RGB)\n",
    "        x = cv2.resize(x, self.resize)\n",
    "        x = x / 255\n",
    "        item[\"x\"] = torch.Tensor(x)\n",
    "\n",
    "        if self.y is not None:\n",
    "            item[\"y\"] = torch.tensor(self.y[idx])\n",
    "\n",
    "        return item"
   ]
  },
  {
   "cell_type": "code",
   "execution_count": 11,
   "metadata": {
    "colab": {
     "base_uri": "https://localhost:8080/"
    },
    "id": "cZbbfuf1_zKZ",
    "outputId": "fcefe8d3-02a4-4ca7-8cfe-20fccf942995"
   },
   "outputs": [
    {
     "data": {
      "text/plain": [
       "torch.Size([1, 224, 224, 3])"
      ]
     },
     "execution_count": 11,
     "metadata": {},
     "output_type": "execute_result"
    }
   ],
   "source": [
    "dataset = FoodsDataset(train_file, train_target)\n",
    "dataloader = torch.utils.data.DataLoader(dataset, 1)\n",
    "batch = next(iter(dataloader))\n",
    "batch[\"x\"].shape"
   ]
  },
  {
   "cell_type": "markdown",
   "metadata": {
    "id": "ryuSXROzDqS-"
   },
   "source": [
    "# 모델 클래스 만들기"
   ]
  },
  {
   "cell_type": "code",
   "execution_count": 12,
   "metadata": {
    "id": "IJLgRhbIGMdg"
   },
   "outputs": [],
   "source": [
    "class Conv2dNet(torch.nn.Module):\n",
    "    def __init__(self, in_channels, out_channels, kernel_size):\n",
    "        super().__init__()\n",
    "        self.seq = torch.nn.Sequential(\n",
    "            torch.nn.Conv2d(in_channels, out_channels, kernel_size),\n",
    "            torch.nn.BatchNorm2d(out_channels),\n",
    "            torch.nn.PReLU(),\n",
    "            torch.nn.MaxPool2d(2),\n",
    "        )\n",
    "\n",
    "    def forward(self, x):\n",
    "        return self.seq(x)"
   ]
  },
  {
   "cell_type": "code",
   "execution_count": 13,
   "metadata": {
    "id": "mEPm3tWzn87J"
   },
   "outputs": [],
   "source": [
    "class LinearNet(torch.nn.Module):\n",
    "    def __init__(self, in_channels, out_channels):\n",
    "        super().__init__()\n",
    "        self.seq = torch.nn.Sequential(\n",
    "            torch.nn.Dropout(0.2),\n",
    "            torch.nn.Linear(in_channels, out_channels),\n",
    "            torch.nn.BatchNorm1d(out_channels),\n",
    "            torch.nn.PReLU(),\n",
    "        )\n",
    "\n",
    "    def forward(self, x):\n",
    "        return self.seq(x)"
   ]
  },
  {
   "cell_type": "code",
   "execution_count": 14,
   "metadata": {
    "id": "iyhmfA6ADrkR"
   },
   "outputs": [],
   "source": [
    "class Net(torch.nn.Module):\n",
    "    def __init__(self, in_channels=3, out_channels=16, kernel_size=3):\n",
    "        super().__init__()\n",
    "        self.seq = torch.nn.Sequential(\n",
    "            Conv2dNet(in_channels, out_channels, kernel_size),\n",
    "            Conv2dNet(out_channels, out_channels * 2, kernel_size),\n",
    "            Conv2dNet(out_channels * 2, out_channels * 4, kernel_size),\n",
    "            Conv2dNet(out_channels * 4, out_channels * 8, kernel_size),\n",
    "\n",
    "            torch.nn.AdaptiveMaxPool2d(1),\n",
    "            torch.nn.Flatten(),\n",
    "            LinearNet(out_channels * 8, out_channels * 4),\n",
    "            LinearNet(out_channels * 4, out_channels * 2),\n",
    "            torch.nn.Dropout(0.2),\n",
    "            torch.nn.Linear(out_channels * 2, 3),\n",
    "        )\n",
    "\n",
    "    def forward(self, x):\n",
    "        return self.seq(x.permute(0, 3, 1, 2))"
   ]
  },
  {
   "cell_type": "markdown",
   "metadata": {
    "id": "yVPndBqJzWrq"
   },
   "source": [
    "# 2. 학습 loop 함수 만들기"
   ]
  },
  {
   "cell_type": "code",
   "execution_count": 15,
   "metadata": {
    "id": "mPRAvTH_zqEC"
   },
   "outputs": [],
   "source": [
    "def train_loop(dataloader, model, loss_function, optimizer, device):\n",
    "    epoch_loss = 0\n",
    "    model.train()\n",
    "\n",
    "    for batch in dataloader:\n",
    "        pred = model(batch[\"x\"].to(device))\n",
    "        loss = loss_function(pred, batch[\"y\"].to(device))\n",
    "\n",
    "        optimizer.zero_grad()\n",
    "        loss.backward()\n",
    "        optimizer.step()\n",
    "\n",
    "        epoch_loss += loss.item()\n",
    "\n",
    "    epoch_loss /= len(dataloader)\n",
    "    return epoch_loss"
   ]
  },
  {
   "cell_type": "markdown",
   "metadata": {
    "id": "a5QXfI4CzbR2"
   },
   "source": [
    "# 3. 테스트 loop 함수 만들기\n",
    "- 데이터 예측 기능 및 검증데이터 손실값 반환하는 기능"
   ]
  },
  {
   "cell_type": "code",
   "execution_count": 16,
   "metadata": {
    "id": "PRyKD03ozbDp"
   },
   "outputs": [],
   "source": [
    "@torch.no_grad()\n",
    "def test_loop(dataloader, model, loss_function, device):\n",
    "    epoch_loss = 0\n",
    "    model.eval()\n",
    "\n",
    "    act = torch.nn.Softmax(dim=1)\n",
    "    pred_list = []\n",
    "    for batch in dataloader:\n",
    "        pred = model(batch[\"x\"].to(device))\n",
    "        if batch.get(\"y\") is not None:\n",
    "            loss = loss_function(pred, batch[\"y\"].to(device))\n",
    "            epoch_loss += loss.item()\n",
    "\n",
    "        pred = act(pred)\n",
    "        pred = pred.to(\"cpu\").numpy()\n",
    "        pred_list.append(pred)\n",
    "\n",
    "    pred = np.concatenate(pred_list)\n",
    "    epoch_loss /= len(dataloader)\n",
    "\n",
    "    return epoch_loss, pred"
   ]
  },
  {
   "cell_type": "markdown",
   "metadata": {
    "id": "d17zL790zwkg"
   },
   "source": [
    "# 4. 학습하기\n"
   ]
  },
  {
   "cell_type": "code",
   "execution_count": 17,
   "metadata": {
    "id": "D5QSzRFTz3iZ"
   },
   "outputs": [],
   "source": [
    "n_splits = 5\n",
    "batch_size = 16\n",
    "epochs = 100\n",
    "loss_function = torch.nn.CrossEntropyLoss()"
   ]
  },
  {
   "cell_type": "code",
   "execution_count": 18,
   "metadata": {
    "id": "3oGRkwoNEvO9"
   },
   "outputs": [],
   "source": [
    "from sklearn.model_selection import KFold\n",
    "from sklearn.metrics import accuracy_score\n",
    "\n",
    "cv = KFold(n_splits, shuffle=True, random_state=SEED)"
   ]
  },
  {
   "cell_type": "code",
   "execution_count": 23,
   "metadata": {
    "colab": {
     "base_uri": "https://localhost:8080/",
     "height": 292,
     "referenced_widgets": [
      "291e795847ea4a95831ccc282f075b45",
      "2e3ce7714eab406ba3f1a416b07c38f8",
      "a7f3b53d6dd6401caeb3d5260c59eefc",
      "331d0d8c826849c4a5d686023754e008",
      "ecaf725934fa470a9589e202e284cfd2",
      "c9e9153cfe1f42edbeb79f2b922b1a48",
      "86d6f7ae13be4479be5eaba3d4329d3c",
      "99c6399cbeb841e8b5d49476d1226be3",
      "a40df9c9ed2d400bacea46c95bcb5adf",
      "8208a2bdc59b43ec95ed821b069c689f",
      "59bf7f3ee7e145d2ad5019804402cf3b"
     ]
    },
    "id": "2_eZ5P2_EwoE",
    "outputId": "e7385ce9-42bf-4446-ad54-29600c152a57"
   },
   "outputs": [
    {
     "data": {
      "application/vnd.jupyter.widget-view+json": {
       "model_id": "726f15fd34684171b9ac81f40c300ba1",
       "version_major": 2,
       "version_minor": 0
      },
      "text/plain": [
       "  0%|          | 0/100 [00:00<?, ?it/s]"
      ]
     },
     "metadata": {},
     "output_type": "display_data"
    },
    {
     "name": "stdout",
     "output_type": "stream",
     "text": [
      "train_loss:  1.0160, valid_loss:  0.8884, score:  0.5939\n",
      "train_loss:  0.8747, valid_loss:  0.9694, score:  0.4970\n",
      "train_loss:  0.7742, valid_loss:  1.0462, score:  0.4758\n",
      "train_loss:  0.7343, valid_loss:  0.8373, score:  0.6212\n",
      "train_loss:  0.7071, valid_loss:  0.7425, score:  0.7000\n",
      "train_loss:  0.6567, valid_loss:  0.6852, score:  0.7030\n",
      "train_loss:  0.5912, valid_loss:  0.7586, score:  0.6727\n",
      "train_loss:  0.6136, valid_loss:  0.8424, score:  0.6576\n",
      "train_loss:  0.5255, valid_loss:  0.5584, score:  0.7545\n",
      "train_loss:  0.5171, valid_loss:  0.7969, score:  0.6697\n",
      "train_loss:  0.4718, valid_loss:  0.7574, score:  0.6818\n",
      "train_loss:  0.4819, valid_loss:  0.5388, score:  0.7909\n",
      "train_loss:  0.4435, valid_loss:  0.7721, score:  0.7182\n",
      "train_loss:  0.4475, valid_loss:  0.8627, score:  0.6545\n",
      "train_loss:  0.4021, valid_loss:  0.5610, score:  0.8091\n",
      "train_loss:  0.3791, valid_loss:  0.6137, score:  0.7788\n",
      "train_loss:  0.3829, valid_loss:  0.6681, score:  0.7515\n",
      "train_loss:  0.3677, valid_loss:  0.6094, score:  0.7697\n",
      "train_loss:  0.3077, valid_loss:  0.6150, score:  0.7848\n",
      "train_loss:  0.3385, valid_loss:  0.5051, score:  0.7939\n",
      "train_loss:  0.3062, valid_loss:  0.6279, score:  0.7970\n",
      "train_loss:  0.3077, valid_loss:  0.7448, score:  0.7152\n",
      "train_loss:  0.2390, valid_loss:  0.5924, score:  0.8061\n",
      "train_loss:  0.2682, valid_loss:  0.7828, score:  0.7485\n",
      "train_loss:  0.2783, valid_loss:  0.6449, score:  0.7697\n",
      "train_loss:  0.2823, valid_loss:  0.7015, score:  0.7636\n",
      "train_loss:  0.2411, valid_loss:  0.6447, score:  0.7818\n",
      "train_loss:  0.2538, valid_loss:  0.5569, score:  0.8061\n",
      "train_loss:  0.2397, valid_loss:  0.5611, score:  0.7848\n",
      "train_loss:  0.2034, valid_loss:  0.6158, score:  0.7939\n",
      "train_loss:  0.2137, valid_loss:  0.6055, score:  0.7939\n",
      "train_loss:  0.2070, valid_loss:  0.6605, score:  0.7909\n",
      "train_loss:  0.1860, valid_loss:  0.7786, score:  0.7545\n",
      "train_loss:  0.2021, valid_loss:  0.6414, score:  0.7879\n",
      "train_loss:  0.2182, valid_loss:  0.6615, score:  0.8091\n",
      "train_loss:  0.1762, valid_loss:  0.6071, score:  0.7848\n",
      "train_loss:  0.1795, valid_loss:  0.5905, score:  0.8121\n",
      "train_loss:  0.1616, valid_loss:  0.6445, score:  0.7818\n",
      "train_loss:  0.1742, valid_loss:  0.8617, score:  0.7667\n",
      "train_loss:  0.1600, valid_loss:  0.6315, score:  0.7879\n",
      "train_loss:  0.1390, valid_loss:  0.8497, score:  0.7758\n",
      "train_loss:  0.1398, valid_loss:  0.5634, score:  0.8182\n",
      "train_loss:  0.1258, valid_loss:  0.8608, score:  0.7545\n",
      "train_loss:  0.1327, valid_loss:  0.9699, score:  0.7424\n",
      "train_loss:  0.1807, valid_loss:  0.8666, score:  0.7424\n",
      "train_loss:  0.1331, valid_loss:  0.6414, score:  0.7909\n",
      "train_loss:  0.1083, valid_loss:  0.6762, score:  0.8030\n",
      "train_loss:  0.1137, valid_loss:  0.5534, score:  0.7970\n",
      "train_loss:  0.1103, valid_loss:  0.5128, score:  0.8424\n",
      "train_loss:  0.1090, valid_loss:  0.6054, score:  0.8152\n",
      "train_loss:  0.1522, valid_loss:  0.6304, score:  0.8030\n",
      "train_loss:  0.1725, valid_loss:  0.5685, score:  0.8303\n",
      "train_loss:  0.0994, valid_loss:  0.7679, score:  0.7455\n",
      "train_loss:  0.1522, valid_loss:  1.4273, score:  0.6424\n",
      "train_loss:  0.0803, valid_loss:  0.9034, score:  0.7636\n",
      "train_loss:  0.0991, valid_loss:  0.6707, score:  0.7909\n",
      "train_loss:  0.1263, valid_loss:  0.6543, score:  0.7939\n",
      "train_loss:  0.0738, valid_loss:  0.7272, score:  0.8242\n",
      "train_loss:  0.1000, valid_loss:  0.6830, score:  0.7788\n",
      "Fold-0 Best Acc:  0.8424\n"
     ]
    },
    {
     "data": {
      "application/vnd.jupyter.widget-view+json": {
       "model_id": "159b4acfe6cb49c19feb100395db63c5",
       "version_major": 2,
       "version_minor": 0
      },
      "text/plain": [
       "  0%|          | 0/100 [00:00<?, ?it/s]"
      ]
     },
     "metadata": {},
     "output_type": "display_data"
    },
    {
     "name": "stdout",
     "output_type": "stream",
     "text": [
      "train_loss:  1.0288, valid_loss:  0.9888, score:  0.4939\n",
      "train_loss:  0.8870, valid_loss:  0.8699, score:  0.5848\n",
      "train_loss:  0.8146, valid_loss:  0.7319, score:  0.6939\n",
      "train_loss:  0.7336, valid_loss:  0.6662, score:  0.7455\n",
      "train_loss:  0.6736, valid_loss:  1.1135, score:  0.5606\n",
      "train_loss:  0.6620, valid_loss:  0.6510, score:  0.7242\n",
      "train_loss:  0.6019, valid_loss:  0.7303, score:  0.6909\n",
      "train_loss:  0.5719, valid_loss:  0.6635, score:  0.7061\n",
      "train_loss:  0.5407, valid_loss:  1.1509, score:  0.5000\n",
      "train_loss:  0.5035, valid_loss:  0.5057, score:  0.7727\n",
      "train_loss:  0.4806, valid_loss:  0.5779, score:  0.7424\n",
      "train_loss:  0.4706, valid_loss:  0.4465, score:  0.8212\n",
      "train_loss:  0.4565, valid_loss:  0.5011, score:  0.8091\n",
      "train_loss:  0.4146, valid_loss:  0.4375, score:  0.7970\n",
      "train_loss:  0.4135, valid_loss:  0.4464, score:  0.8182\n",
      "train_loss:  0.3977, valid_loss:  0.4654, score:  0.8030\n",
      "train_loss:  0.3581, valid_loss:  0.5596, score:  0.7667\n",
      "train_loss:  0.3655, valid_loss:  0.4304, score:  0.8121\n",
      "train_loss:  0.3071, valid_loss:  0.5246, score:  0.8182\n",
      "train_loss:  0.2908, valid_loss:  0.4353, score:  0.8242\n",
      "train_loss:  0.2844, valid_loss:  0.4996, score:  0.8030\n",
      "train_loss:  0.2694, valid_loss:  0.8056, score:  0.7121\n",
      "train_loss:  0.2967, valid_loss:  0.5518, score:  0.8061\n",
      "train_loss:  0.2422, valid_loss:  0.4088, score:  0.8303\n",
      "train_loss:  0.2184, valid_loss:  0.4715, score:  0.8061\n",
      "train_loss:  0.2286, valid_loss:  0.6280, score:  0.7667\n",
      "train_loss:  0.2043, valid_loss:  0.6664, score:  0.7939\n",
      "train_loss:  0.2421, valid_loss:  0.8416, score:  0.7424\n",
      "train_loss:  0.2175, valid_loss:  0.4982, score:  0.8121\n",
      "train_loss:  0.1807, valid_loss:  0.5966, score:  0.7606\n",
      "train_loss:  0.1545, valid_loss:  0.4683, score:  0.8242\n",
      "train_loss:  0.1893, valid_loss:  0.5935, score:  0.8121\n",
      "train_loss:  0.1750, valid_loss:  0.5345, score:  0.8030\n",
      "train_loss:  0.1635, valid_loss:  0.4784, score:  0.8273\n",
      "Fold-1 Best Acc:  0.8303\n"
     ]
    },
    {
     "data": {
      "application/vnd.jupyter.widget-view+json": {
       "model_id": "17709170c6894dd39f55d18f1c3fa141",
       "version_major": 2,
       "version_minor": 0
      },
      "text/plain": [
       "  0%|          | 0/100 [00:00<?, ?it/s]"
      ]
     },
     "metadata": {},
     "output_type": "display_data"
    },
    {
     "name": "stdout",
     "output_type": "stream",
     "text": [
      "train_loss:  1.0597, valid_loss:  0.9378, score:  0.5909\n",
      "train_loss:  0.9179, valid_loss:  0.7963, score:  0.6909\n",
      "train_loss:  0.8103, valid_loss:  0.7731, score:  0.6879\n",
      "train_loss:  0.7540, valid_loss:  0.6943, score:  0.7000\n",
      "train_loss:  0.7031, valid_loss:  0.7406, score:  0.6909\n",
      "train_loss:  0.6561, valid_loss:  1.1478, score:  0.5909\n",
      "train_loss:  0.6007, valid_loss:  0.6624, score:  0.7212\n",
      "train_loss:  0.5831, valid_loss:  0.6616, score:  0.7273\n",
      "train_loss:  0.5775, valid_loss:  0.7254, score:  0.6818\n",
      "train_loss:  0.5106, valid_loss:  0.5916, score:  0.7788\n",
      "train_loss:  0.5040, valid_loss:  0.5493, score:  0.8000\n",
      "train_loss:  0.4598, valid_loss:  0.5606, score:  0.7788\n",
      "train_loss:  0.4716, valid_loss:  0.4913, score:  0.8030\n",
      "train_loss:  0.4336, valid_loss:  0.5885, score:  0.7636\n",
      "train_loss:  0.4467, valid_loss:  0.7090, score:  0.7000\n",
      "train_loss:  0.4167, valid_loss:  0.4685, score:  0.8121\n",
      "train_loss:  0.3482, valid_loss:  0.9725, score:  0.6697\n",
      "train_loss:  0.3602, valid_loss:  0.9613, score:  0.6788\n",
      "train_loss:  0.3433, valid_loss:  0.4944, score:  0.8182\n",
      "train_loss:  0.3282, valid_loss:  0.5379, score:  0.8030\n",
      "train_loss:  0.3678, valid_loss:  0.7073, score:  0.7394\n",
      "train_loss:  0.3010, valid_loss:  0.6043, score:  0.7485\n",
      "train_loss:  0.2676, valid_loss:  0.4498, score:  0.8455\n",
      "train_loss:  0.2643, valid_loss:  0.7706, score:  0.7212\n",
      "train_loss:  0.2625, valid_loss:  0.5329, score:  0.7818\n",
      "train_loss:  0.2329, valid_loss:  0.5520, score:  0.8121\n",
      "train_loss:  0.2452, valid_loss:  0.5999, score:  0.7758\n",
      "train_loss:  0.2486, valid_loss:  0.4985, score:  0.8121\n",
      "train_loss:  0.2223, valid_loss:  0.4868, score:  0.8030\n",
      "train_loss:  0.2154, valid_loss:  0.6958, score:  0.7636\n",
      "train_loss:  0.1684, valid_loss:  0.6142, score:  0.7697\n",
      "train_loss:  0.1858, valid_loss:  0.4574, score:  0.8303\n",
      "train_loss:  0.1682, valid_loss:  0.5562, score:  0.8242\n",
      "Fold-2 Best Acc:  0.8455\n"
     ]
    },
    {
     "data": {
      "application/vnd.jupyter.widget-view+json": {
       "model_id": "d0e32c4d464e4b2d8320be4519f1bea5",
       "version_major": 2,
       "version_minor": 0
      },
      "text/plain": [
       "  0%|          | 0/100 [00:00<?, ?it/s]"
      ]
     },
     "metadata": {},
     "output_type": "display_data"
    },
    {
     "name": "stdout",
     "output_type": "stream",
     "text": [
      "train_loss:  1.0401, valid_loss:  0.9456, score:  0.5576\n",
      "train_loss:  0.8943, valid_loss:  0.8095, score:  0.6545\n",
      "train_loss:  0.8147, valid_loss:  0.7916, score:  0.6152\n",
      "train_loss:  0.7226, valid_loss:  0.7654, score:  0.6697\n",
      "train_loss:  0.6610, valid_loss:  0.8191, score:  0.6333\n",
      "train_loss:  0.6543, valid_loss:  0.9629, score:  0.6030\n",
      "train_loss:  0.6373, valid_loss:  1.0584, score:  0.5242\n",
      "train_loss:  0.5900, valid_loss:  0.6015, score:  0.7545\n",
      "train_loss:  0.5517, valid_loss:  0.6028, score:  0.7485\n",
      "train_loss:  0.5491, valid_loss:  0.5055, score:  0.8152\n",
      "train_loss:  0.5051, valid_loss:  0.5359, score:  0.7909\n",
      "train_loss:  0.4716, valid_loss:  0.5932, score:  0.7485\n",
      "train_loss:  0.4881, valid_loss:  0.5022, score:  0.8152\n",
      "train_loss:  0.4618, valid_loss:  0.5950, score:  0.7727\n",
      "train_loss:  0.4125, valid_loss:  0.6372, score:  0.7515\n",
      "train_loss:  0.4048, valid_loss:  0.4339, score:  0.8485\n",
      "train_loss:  0.4218, valid_loss:  0.6968, score:  0.7242\n",
      "train_loss:  0.3601, valid_loss:  0.5499, score:  0.8000\n",
      "train_loss:  0.3668, valid_loss:  0.4871, score:  0.8030\n",
      "train_loss:  0.3179, valid_loss:  0.5396, score:  0.7939\n",
      "train_loss:  0.3159, valid_loss:  0.8772, score:  0.6303\n",
      "train_loss:  0.3158, valid_loss:  0.4864, score:  0.8424\n",
      "train_loss:  0.3041, valid_loss:  0.4207, score:  0.8455\n",
      "train_loss:  0.3402, valid_loss:  0.5109, score:  0.8182\n",
      "train_loss:  0.2806, valid_loss:  0.5091, score:  0.8212\n",
      "train_loss:  0.2457, valid_loss:  0.4572, score:  0.8333\n",
      "train_loss:  0.2914, valid_loss:  0.4477, score:  0.8242\n",
      "train_loss:  0.2738, valid_loss:  0.4314, score:  0.8606\n",
      "train_loss:  0.3180, valid_loss:  0.5242, score:  0.7848\n",
      "train_loss:  0.2399, valid_loss:  0.4566, score:  0.8364\n",
      "train_loss:  0.1907, valid_loss:  0.6620, score:  0.7606\n",
      "train_loss:  0.1706, valid_loss:  0.4369, score:  0.8485\n",
      "train_loss:  0.2429, valid_loss:  0.5378, score:  0.8364\n",
      "train_loss:  0.2214, valid_loss:  0.7080, score:  0.7515\n",
      "train_loss:  0.2121, valid_loss:  0.4102, score:  0.8727\n",
      "train_loss:  0.1988, valid_loss:  0.5594, score:  0.8000\n",
      "train_loss:  0.2182, valid_loss:  0.4384, score:  0.8545\n",
      "train_loss:  0.2177, valid_loss:  0.4165, score:  0.8576\n",
      "train_loss:  0.2231, valid_loss:  0.4599, score:  0.8333\n",
      "train_loss:  0.1771, valid_loss:  0.4901, score:  0.8364\n",
      "train_loss:  0.1799, valid_loss:  0.8181, score:  0.7545\n",
      "train_loss:  0.1855, valid_loss:  0.4346, score:  0.8636\n",
      "train_loss:  0.1808, valid_loss:  0.8568, score:  0.7636\n",
      "train_loss:  0.1358, valid_loss:  0.4358, score:  0.8606\n",
      "train_loss:  0.1485, valid_loss:  0.9038, score:  0.7273\n",
      "Fold-3 Best Acc:  0.8727\n"
     ]
    },
    {
     "data": {
      "application/vnd.jupyter.widget-view+json": {
       "model_id": "34a8f2b3afbe45b5ac3d2f0b4fade34a",
       "version_major": 2,
       "version_minor": 0
      },
      "text/plain": [
       "  0%|          | 0/100 [00:00<?, ?it/s]"
      ]
     },
     "metadata": {},
     "output_type": "display_data"
    },
    {
     "name": "stdout",
     "output_type": "stream",
     "text": [
      "train_loss:  1.0404, valid_loss:  0.8518, score:  0.6353\n",
      "train_loss:  0.8889, valid_loss:  0.7662, score:  0.6596\n",
      "train_loss:  0.8244, valid_loss:  0.7138, score:  0.6778\n",
      "train_loss:  0.7706, valid_loss:  0.6635, score:  0.7204\n",
      "train_loss:  0.6787, valid_loss:  0.5579, score:  0.7568\n",
      "train_loss:  0.6896, valid_loss:  0.9544, score:  0.5380\n",
      "train_loss:  0.5992, valid_loss:  1.2173, score:  0.5502\n",
      "train_loss:  0.5853, valid_loss:  0.4964, score:  0.8176\n",
      "train_loss:  0.5779, valid_loss:  0.6766, score:  0.7082\n",
      "train_loss:  0.5315, valid_loss:  0.6791, score:  0.6930\n",
      "train_loss:  0.5032, valid_loss:  0.4376, score:  0.8146\n",
      "train_loss:  0.4696, valid_loss:  0.8826, score:  0.6292\n",
      "train_loss:  0.4326, valid_loss:  0.4982, score:  0.7964\n",
      "train_loss:  0.4399, valid_loss:  0.4106, score:  0.8389\n",
      "train_loss:  0.4067, valid_loss:  0.4136, score:  0.8359\n",
      "train_loss:  0.3472, valid_loss:  0.7031, score:  0.7386\n",
      "train_loss:  0.4112, valid_loss:  0.4649, score:  0.8298\n",
      "train_loss:  0.3349, valid_loss:  0.5221, score:  0.7933\n",
      "train_loss:  0.3036, valid_loss:  0.6009, score:  0.7842\n",
      "train_loss:  0.3000, valid_loss:  0.5225, score:  0.7994\n",
      "train_loss:  0.2765, valid_loss:  0.3863, score:  0.8419\n",
      "train_loss:  0.3544, valid_loss:  0.4686, score:  0.8176\n",
      "train_loss:  0.2439, valid_loss:  0.4412, score:  0.8207\n",
      "train_loss:  0.2529, valid_loss:  0.7071, score:  0.7356\n",
      "train_loss:  0.2379, valid_loss:  0.4607, score:  0.8419\n",
      "train_loss:  0.2498, valid_loss:  0.4037, score:  0.8359\n",
      "train_loss:  0.1830, valid_loss:  0.4603, score:  0.8237\n",
      "train_loss:  0.2196, valid_loss:  0.5905, score:  0.7599\n",
      "train_loss:  0.2022, valid_loss:  0.5940, score:  0.7994\n",
      "train_loss:  0.2189, valid_loss:  0.3874, score:  0.8571\n",
      "train_loss:  0.1863, valid_loss:  0.4018, score:  0.8419\n",
      "train_loss:  0.1977, valid_loss:  0.4519, score:  0.8541\n",
      "train_loss:  0.1547, valid_loss:  0.3709, score:  0.8754\n",
      "train_loss:  0.1780, valid_loss:  0.8017, score:  0.7751\n",
      "train_loss:  0.1670, valid_loss:  0.8311, score:  0.7295\n",
      "train_loss:  0.1921, valid_loss:  0.5520, score:  0.8267\n",
      "train_loss:  0.2008, valid_loss:  0.8065, score:  0.7508\n",
      "train_loss:  0.1673, valid_loss:  0.3784, score:  0.8632\n",
      "train_loss:  0.1400, valid_loss:  0.4378, score:  0.8328\n",
      "train_loss:  0.1697, valid_loss:  0.8926, score:  0.7143\n",
      "train_loss:  0.1554, valid_loss:  0.6167, score:  0.8024\n",
      "train_loss:  0.1553, valid_loss:  0.5613, score:  0.8085\n",
      "train_loss:  0.1154, valid_loss:  0.4481, score:  0.8328\n",
      "Fold-4 Best Acc:  0.8754\n"
     ]
    }
   ],
   "source": [
    "is_holdout = False\n",
    "reset_seeds(SEED)\n",
    "score_list = []\n",
    "\n",
    "for i, (tri, vai) in enumerate(cv.split(train_file)):\n",
    "    model = Net().to(device)\n",
    "    optimizer = torch.optim.Adam(model.parameters())\n",
    "\n",
    "    train_dataset = FoodsDataset(train_file[tri], train_target[tri])\n",
    "    train_dataloader = torch.utils.data.DataLoader(train_dataset, batch_size=batch_size, shuffle=True)\n",
    "\n",
    "    valid_dataset = FoodsDataset(train_file[vai], train_target[vai])\n",
    "    valid_dataloader = torch.utils.data.DataLoader(valid_dataset, batch_size=batch_size, shuffle=False)\n",
    "\n",
    "    best_score = 0\n",
    "    best_loss = np.inf\n",
    "    patience = 0\n",
    "\n",
    "    for epoch in tqdm(range(epochs)):\n",
    "        train_loss = train_loop(train_dataloader, model, loss_function, optimizer, device)\n",
    "        valid_loss, pred = test_loop(valid_dataloader, model, loss_function, device)\n",
    "        pred = np.argmax(pred, axis=1)\n",
    "        score = accuracy_score(train_target[vai], pred)\n",
    "\n",
    "        print(f\"train_loss: {train_loss: .4f}, valid_loss: {valid_loss: .4f}, score: {score: .4f}\")\n",
    "        patience += 1\n",
    "        if score > best_score or best_loss > valid_loss:\n",
    "            patience = 0\n",
    "            best_score = score\n",
    "            best_loss = valid_loss\n",
    "            torch.save(model.state_dict(), f\"../output/model_{i}.pt\")\n",
    "\n",
    "        if patience == 10:\n",
    "            break\n",
    "\n",
    "    print(f\"Fold-{i} Best Acc: {best_score: .4f}\")\n",
    "    score_list.append(best_score)\n",
    "\n",
    "    if is_holdout:\n",
    "        break"
   ]
  },
  {
   "cell_type": "code",
   "execution_count": 24,
   "metadata": {
    "colab": {
     "base_uri": "https://localhost:8080/"
    },
    "id": "s2BpUSPeKL-z",
    "outputId": "f9f89619-1722-4d3e-9487-ade0802eaf49"
   },
   "outputs": [
    {
     "data": {
      "text/plain": [
       "0.8532578060237634"
      ]
     },
     "execution_count": 24,
     "metadata": {},
     "output_type": "execute_result"
    }
   ],
   "source": [
    "np.mean(score_list)"
   ]
  },
  {
   "cell_type": "markdown",
   "metadata": {
    "id": "4Tubiiwgz32Q"
   },
   "source": [
    "# 5. 테스트 데이터 예측"
   ]
  },
  {
   "cell_type": "code",
   "execution_count": 25,
   "metadata": {
    "id": "sD1oBbvgvcHa"
   },
   "outputs": [],
   "source": [
    "test_dataset = FoodsDataset(test_file)\n",
    "test_dataloader = torch.utils.data.DataLoader(test_dataset, batch_size=batch_size, shuffle=False)"
   ]
  },
  {
   "cell_type": "code",
   "execution_count": 26,
   "metadata": {
    "colab": {
     "base_uri": "https://localhost:8080/"
    },
    "id": "AL8pTuCZJtUW",
    "outputId": "8b5c1809-7334-4103-b470-cb1becd75d6a"
   },
   "outputs": [
    {
     "data": {
      "text/plain": [
       "array([1, 1, 1, ..., 1, 2, 1], dtype=int64)"
      ]
     },
     "execution_count": 26,
     "metadata": {},
     "output_type": "execute_result"
    }
   ],
   "source": [
    "pred_list = []\n",
    "for i in range(n_splits):\n",
    "    model = Net().to(device)\n",
    "    model_params = torch.load(f\"../output/model_{i}.pt\", weights_only=True)\n",
    "    model.load_state_dict(model_params)\n",
    "    _, pred = test_loop(test_dataloader, model, loss_function, device)\n",
    "    pred_list.append(pred)\n",
    "\n",
    "pred = np.mean(pred_list, axis=0)\n",
    "pred = np.argmax(pred, axis=1)\n",
    "pred"
   ]
  },
  {
   "cell_type": "markdown",
   "metadata": {
    "id": "vPMdyBaDz8GE"
   },
   "source": [
    "# 6. 칸스 사이트의 컴피티션 페이지에 제출하여 점수 확인해보세요."
   ]
  },
  {
   "cell_type": "code",
   "execution_count": 27,
   "metadata": {
    "id": "VreVSDL0bKd4"
   },
   "outputs": [],
   "source": [
    "pd.DataFrame(pred, columns=[\"target\"]).to_csv(\"../output/foods_classification_CNN.csv\", index=False)"
   ]
  }
 ],
 "metadata": {
  "accelerator": "GPU",
  "colab": {
   "gpuType": "T4",
   "provenance": []
  },
  "kernelspec": {
   "display_name": "Python 3",
   "name": "python3"
  },
  "language_info": {
   "codemirror_mode": {
    "name": "ipython",
    "version": 3
   },
   "file_extension": ".py",
   "mimetype": "text/x-python",
   "name": "python",
   "nbconvert_exporter": "python",
   "pygments_lexer": "ipython3",
   "version": "3.10.8"
  },
  "widgets": {
   "application/vnd.jupyter.widget-state+json": {
    "291e795847ea4a95831ccc282f075b45": {
     "model_module": "@jupyter-widgets/controls",
     "model_module_version": "1.5.0",
     "model_name": "HBoxModel",
     "state": {
      "_dom_classes": [],
      "_model_module": "@jupyter-widgets/controls",
      "_model_module_version": "1.5.0",
      "_model_name": "HBoxModel",
      "_view_count": null,
      "_view_module": "@jupyter-widgets/controls",
      "_view_module_version": "1.5.0",
      "_view_name": "HBoxView",
      "box_style": "",
      "children": [
       "IPY_MODEL_2e3ce7714eab406ba3f1a416b07c38f8",
       "IPY_MODEL_a7f3b53d6dd6401caeb3d5260c59eefc",
       "IPY_MODEL_331d0d8c826849c4a5d686023754e008"
      ],
      "layout": "IPY_MODEL_ecaf725934fa470a9589e202e284cfd2"
     }
    },
    "2e3ce7714eab406ba3f1a416b07c38f8": {
     "model_module": "@jupyter-widgets/controls",
     "model_module_version": "1.5.0",
     "model_name": "HTMLModel",
     "state": {
      "_dom_classes": [],
      "_model_module": "@jupyter-widgets/controls",
      "_model_module_version": "1.5.0",
      "_model_name": "HTMLModel",
      "_view_count": null,
      "_view_module": "@jupyter-widgets/controls",
      "_view_module_version": "1.5.0",
      "_view_name": "HTMLView",
      "description": "",
      "description_tooltip": null,
      "layout": "IPY_MODEL_c9e9153cfe1f42edbeb79f2b922b1a48",
      "placeholder": "​",
      "style": "IPY_MODEL_86d6f7ae13be4479be5eaba3d4329d3c",
      "value": " 12%"
     }
    },
    "331d0d8c826849c4a5d686023754e008": {
     "model_module": "@jupyter-widgets/controls",
     "model_module_version": "1.5.0",
     "model_name": "HTMLModel",
     "state": {
      "_dom_classes": [],
      "_model_module": "@jupyter-widgets/controls",
      "_model_module_version": "1.5.0",
      "_model_name": "HTMLModel",
      "_view_count": null,
      "_view_module": "@jupyter-widgets/controls",
      "_view_module_version": "1.5.0",
      "_view_name": "HTMLView",
      "description": "",
      "description_tooltip": null,
      "layout": "IPY_MODEL_8208a2bdc59b43ec95ed821b069c689f",
      "placeholder": "​",
      "style": "IPY_MODEL_59bf7f3ee7e145d2ad5019804402cf3b",
      "value": " 12/100 [01:11&lt;08:24,  5.73s/it]"
     }
    },
    "59bf7f3ee7e145d2ad5019804402cf3b": {
     "model_module": "@jupyter-widgets/controls",
     "model_module_version": "1.5.0",
     "model_name": "DescriptionStyleModel",
     "state": {
      "_model_module": "@jupyter-widgets/controls",
      "_model_module_version": "1.5.0",
      "_model_name": "DescriptionStyleModel",
      "_view_count": null,
      "_view_module": "@jupyter-widgets/base",
      "_view_module_version": "1.2.0",
      "_view_name": "StyleView",
      "description_width": ""
     }
    },
    "8208a2bdc59b43ec95ed821b069c689f": {
     "model_module": "@jupyter-widgets/base",
     "model_module_version": "1.2.0",
     "model_name": "LayoutModel",
     "state": {
      "_model_module": "@jupyter-widgets/base",
      "_model_module_version": "1.2.0",
      "_model_name": "LayoutModel",
      "_view_count": null,
      "_view_module": "@jupyter-widgets/base",
      "_view_module_version": "1.2.0",
      "_view_name": "LayoutView",
      "align_content": null,
      "align_items": null,
      "align_self": null,
      "border": null,
      "bottom": null,
      "display": null,
      "flex": null,
      "flex_flow": null,
      "grid_area": null,
      "grid_auto_columns": null,
      "grid_auto_flow": null,
      "grid_auto_rows": null,
      "grid_column": null,
      "grid_gap": null,
      "grid_row": null,
      "grid_template_areas": null,
      "grid_template_columns": null,
      "grid_template_rows": null,
      "height": null,
      "justify_content": null,
      "justify_items": null,
      "left": null,
      "margin": null,
      "max_height": null,
      "max_width": null,
      "min_height": null,
      "min_width": null,
      "object_fit": null,
      "object_position": null,
      "order": null,
      "overflow": null,
      "overflow_x": null,
      "overflow_y": null,
      "padding": null,
      "right": null,
      "top": null,
      "visibility": null,
      "width": null
     }
    },
    "86d6f7ae13be4479be5eaba3d4329d3c": {
     "model_module": "@jupyter-widgets/controls",
     "model_module_version": "1.5.0",
     "model_name": "DescriptionStyleModel",
     "state": {
      "_model_module": "@jupyter-widgets/controls",
      "_model_module_version": "1.5.0",
      "_model_name": "DescriptionStyleModel",
      "_view_count": null,
      "_view_module": "@jupyter-widgets/base",
      "_view_module_version": "1.2.0",
      "_view_name": "StyleView",
      "description_width": ""
     }
    },
    "99c6399cbeb841e8b5d49476d1226be3": {
     "model_module": "@jupyter-widgets/base",
     "model_module_version": "1.2.0",
     "model_name": "LayoutModel",
     "state": {
      "_model_module": "@jupyter-widgets/base",
      "_model_module_version": "1.2.0",
      "_model_name": "LayoutModel",
      "_view_count": null,
      "_view_module": "@jupyter-widgets/base",
      "_view_module_version": "1.2.0",
      "_view_name": "LayoutView",
      "align_content": null,
      "align_items": null,
      "align_self": null,
      "border": null,
      "bottom": null,
      "display": null,
      "flex": null,
      "flex_flow": null,
      "grid_area": null,
      "grid_auto_columns": null,
      "grid_auto_flow": null,
      "grid_auto_rows": null,
      "grid_column": null,
      "grid_gap": null,
      "grid_row": null,
      "grid_template_areas": null,
      "grid_template_columns": null,
      "grid_template_rows": null,
      "height": null,
      "justify_content": null,
      "justify_items": null,
      "left": null,
      "margin": null,
      "max_height": null,
      "max_width": null,
      "min_height": null,
      "min_width": null,
      "object_fit": null,
      "object_position": null,
      "order": null,
      "overflow": null,
      "overflow_x": null,
      "overflow_y": null,
      "padding": null,
      "right": null,
      "top": null,
      "visibility": null,
      "width": null
     }
    },
    "a40df9c9ed2d400bacea46c95bcb5adf": {
     "model_module": "@jupyter-widgets/controls",
     "model_module_version": "1.5.0",
     "model_name": "ProgressStyleModel",
     "state": {
      "_model_module": "@jupyter-widgets/controls",
      "_model_module_version": "1.5.0",
      "_model_name": "ProgressStyleModel",
      "_view_count": null,
      "_view_module": "@jupyter-widgets/base",
      "_view_module_version": "1.2.0",
      "_view_name": "StyleView",
      "bar_color": null,
      "description_width": ""
     }
    },
    "a7f3b53d6dd6401caeb3d5260c59eefc": {
     "model_module": "@jupyter-widgets/controls",
     "model_module_version": "1.5.0",
     "model_name": "FloatProgressModel",
     "state": {
      "_dom_classes": [],
      "_model_module": "@jupyter-widgets/controls",
      "_model_module_version": "1.5.0",
      "_model_name": "FloatProgressModel",
      "_view_count": null,
      "_view_module": "@jupyter-widgets/controls",
      "_view_module_version": "1.5.0",
      "_view_name": "ProgressView",
      "bar_style": "danger",
      "description": "",
      "description_tooltip": null,
      "layout": "IPY_MODEL_99c6399cbeb841e8b5d49476d1226be3",
      "max": 100,
      "min": 0,
      "orientation": "horizontal",
      "style": "IPY_MODEL_a40df9c9ed2d400bacea46c95bcb5adf",
      "value": 12
     }
    },
    "c9e9153cfe1f42edbeb79f2b922b1a48": {
     "model_module": "@jupyter-widgets/base",
     "model_module_version": "1.2.0",
     "model_name": "LayoutModel",
     "state": {
      "_model_module": "@jupyter-widgets/base",
      "_model_module_version": "1.2.0",
      "_model_name": "LayoutModel",
      "_view_count": null,
      "_view_module": "@jupyter-widgets/base",
      "_view_module_version": "1.2.0",
      "_view_name": "LayoutView",
      "align_content": null,
      "align_items": null,
      "align_self": null,
      "border": null,
      "bottom": null,
      "display": null,
      "flex": null,
      "flex_flow": null,
      "grid_area": null,
      "grid_auto_columns": null,
      "grid_auto_flow": null,
      "grid_auto_rows": null,
      "grid_column": null,
      "grid_gap": null,
      "grid_row": null,
      "grid_template_areas": null,
      "grid_template_columns": null,
      "grid_template_rows": null,
      "height": null,
      "justify_content": null,
      "justify_items": null,
      "left": null,
      "margin": null,
      "max_height": null,
      "max_width": null,
      "min_height": null,
      "min_width": null,
      "object_fit": null,
      "object_position": null,
      "order": null,
      "overflow": null,
      "overflow_x": null,
      "overflow_y": null,
      "padding": null,
      "right": null,
      "top": null,
      "visibility": null,
      "width": null
     }
    },
    "ecaf725934fa470a9589e202e284cfd2": {
     "model_module": "@jupyter-widgets/base",
     "model_module_version": "1.2.0",
     "model_name": "LayoutModel",
     "state": {
      "_model_module": "@jupyter-widgets/base",
      "_model_module_version": "1.2.0",
      "_model_name": "LayoutModel",
      "_view_count": null,
      "_view_module": "@jupyter-widgets/base",
      "_view_module_version": "1.2.0",
      "_view_name": "LayoutView",
      "align_content": null,
      "align_items": null,
      "align_self": null,
      "border": null,
      "bottom": null,
      "display": null,
      "flex": null,
      "flex_flow": null,
      "grid_area": null,
      "grid_auto_columns": null,
      "grid_auto_flow": null,
      "grid_auto_rows": null,
      "grid_column": null,
      "grid_gap": null,
      "grid_row": null,
      "grid_template_areas": null,
      "grid_template_columns": null,
      "grid_template_rows": null,
      "height": null,
      "justify_content": null,
      "justify_items": null,
      "left": null,
      "margin": null,
      "max_height": null,
      "max_width": null,
      "min_height": null,
      "min_width": null,
      "object_fit": null,
      "object_position": null,
      "order": null,
      "overflow": null,
      "overflow_x": null,
      "overflow_y": null,
      "padding": null,
      "right": null,
      "top": null,
      "visibility": null,
      "width": null
     }
    }
   }
  }
 },
 "nbformat": 4,
 "nbformat_minor": 0
}
