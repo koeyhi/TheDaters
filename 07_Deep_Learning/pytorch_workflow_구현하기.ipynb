{
 "cells": [
  {
   "cell_type": "markdown",
   "metadata": {
    "id": "b6-5ukHR-onb"
   },
   "source": [
    "# 평가지표\n",
    "- 정확도\n",
    "- 모델 클래스는 직접 구현"
   ]
  },
  {
   "cell_type": "code",
   "execution_count": 21,
   "metadata": {
    "id": "ptGuzaN5uDT7"
   },
   "outputs": [],
   "source": [
    "import pandas as pd\n",
    "import numpy as np\n",
    "import torch\n",
    "from tqdm.auto import tqdm\n",
    "import random\n",
    "import os\n",
    "\n",
    "def reset_seeds(seed):\n",
    "    random.seed(seed)\n",
    "    os.environ['PYTHONHASHSEED'] = str(seed)\n",
    "    np.random.seed(seed)\n",
    "    torch.manual_seed(seed)\n",
    "    torch.cuda.manual_seed(seed)\n",
    "    torch.backends.cudnn.deterministic = True"
   ]
  },
  {
   "cell_type": "code",
   "execution_count": 22,
   "metadata": {
    "colab": {
     "base_uri": "https://localhost:8080/",
     "height": 35
    },
    "id": "UAuqPVTGuEow",
    "outputId": "8c6ef8f2-c5bc-4315-8f1c-093313443bb8"
   },
   "outputs": [
    {
     "data": {
      "text/plain": [
       "'cuda'"
      ]
     },
     "execution_count": 22,
     "metadata": {},
     "output_type": "execute_result"
    }
   ],
   "source": [
    "DATA_PATH = \"../data/pizza_steak_sushi/\"\n",
    "SEED = 42\n",
    "\n",
    "device = 'cuda' if torch.cuda.is_available() else 'cpu'\n",
    "device"
   ]
  },
  {
   "cell_type": "markdown",
   "metadata": {
    "id": "rKQnsDlagA5y"
   },
   "source": [
    "# 음식 분류 데이터셋\n",
    "- 0 : 피자\n",
    "- 1 : 스테이크\n",
    "- 2 : 스시\n"
   ]
  },
  {
   "cell_type": "code",
   "execution_count": 23,
   "metadata": {
    "colab": {
     "base_uri": "https://localhost:8080/"
    },
    "id": "jctKq2rnrIxD",
    "outputId": "0b1db315-32b1-4e77-e905-c79c90eb18d1"
   },
   "outputs": [
    {
     "data": {
      "text/plain": [
       "((1649, 2), (1350, 2))"
      ]
     },
     "execution_count": 23,
     "metadata": {},
     "output_type": "execute_result"
    }
   ],
   "source": [
    "train = pd.read_csv(f\"{DATA_PATH}train.csv\")\n",
    "test = pd.read_csv(f\"{DATA_PATH}test.csv\")\n",
    "train.shape , test.shape"
   ]
  },
  {
   "cell_type": "code",
   "execution_count": 24,
   "metadata": {
    "colab": {
     "base_uri": "https://localhost:8080/",
     "height": 206
    },
    "id": "pur5E0699jNs",
    "outputId": "dd7da44a-98b9-4355-9910-07a045cf05e6"
   },
   "outputs": [
    {
     "data": {
      "text/html": [
       "<div>\n",
       "<style scoped>\n",
       "    .dataframe tbody tr th:only-of-type {\n",
       "        vertical-align: middle;\n",
       "    }\n",
       "\n",
       "    .dataframe tbody tr th {\n",
       "        vertical-align: top;\n",
       "    }\n",
       "\n",
       "    .dataframe thead th {\n",
       "        text-align: right;\n",
       "    }\n",
       "</style>\n",
       "<table border=\"1\" class=\"dataframe\">\n",
       "  <thead>\n",
       "    <tr style=\"text-align: right;\">\n",
       "      <th></th>\n",
       "      <th>file_name</th>\n",
       "      <th>target</th>\n",
       "    </tr>\n",
       "  </thead>\n",
       "  <tbody>\n",
       "    <tr>\n",
       "      <th>0</th>\n",
       "      <td>2104569.jpg</td>\n",
       "      <td>0</td>\n",
       "    </tr>\n",
       "    <tr>\n",
       "      <th>1</th>\n",
       "      <td>2038418.jpg</td>\n",
       "      <td>1</td>\n",
       "    </tr>\n",
       "    <tr>\n",
       "      <th>2</th>\n",
       "      <td>1919810.jpg</td>\n",
       "      <td>2</td>\n",
       "    </tr>\n",
       "    <tr>\n",
       "      <th>3</th>\n",
       "      <td>2557340.jpg</td>\n",
       "      <td>0</td>\n",
       "    </tr>\n",
       "    <tr>\n",
       "      <th>4</th>\n",
       "      <td>3621562.jpg</td>\n",
       "      <td>1</td>\n",
       "    </tr>\n",
       "  </tbody>\n",
       "</table>\n",
       "</div>"
      ],
      "text/plain": [
       "     file_name  target\n",
       "0  2104569.jpg       0\n",
       "1  2038418.jpg       1\n",
       "2  1919810.jpg       2\n",
       "3  2557340.jpg       0\n",
       "4  3621562.jpg       1"
      ]
     },
     "execution_count": 24,
     "metadata": {},
     "output_type": "execute_result"
    }
   ],
   "source": [
    "train.head()"
   ]
  },
  {
   "cell_type": "code",
   "execution_count": 25,
   "metadata": {
    "colab": {
     "base_uri": "https://localhost:8080/",
     "height": 206
    },
    "id": "oGqGwKRr9scI",
    "outputId": "5b21a96a-1caf-4882-a986-9baba7039357"
   },
   "outputs": [
    {
     "data": {
      "text/html": [
       "<div>\n",
       "<style scoped>\n",
       "    .dataframe tbody tr th:only-of-type {\n",
       "        vertical-align: middle;\n",
       "    }\n",
       "\n",
       "    .dataframe tbody tr th {\n",
       "        vertical-align: top;\n",
       "    }\n",
       "\n",
       "    .dataframe thead th {\n",
       "        text-align: right;\n",
       "    }\n",
       "</style>\n",
       "<table border=\"1\" class=\"dataframe\">\n",
       "  <thead>\n",
       "    <tr style=\"text-align: right;\">\n",
       "      <th></th>\n",
       "      <th>file_name</th>\n",
       "      <th>target</th>\n",
       "    </tr>\n",
       "  </thead>\n",
       "  <tbody>\n",
       "    <tr>\n",
       "      <th>0</th>\n",
       "      <td>3777020.jpg</td>\n",
       "      <td>NaN</td>\n",
       "    </tr>\n",
       "    <tr>\n",
       "      <th>1</th>\n",
       "      <td>931356.jpg</td>\n",
       "      <td>NaN</td>\n",
       "    </tr>\n",
       "    <tr>\n",
       "      <th>2</th>\n",
       "      <td>2599817.jpg</td>\n",
       "      <td>NaN</td>\n",
       "    </tr>\n",
       "    <tr>\n",
       "      <th>3</th>\n",
       "      <td>1251166.jpg</td>\n",
       "      <td>NaN</td>\n",
       "    </tr>\n",
       "    <tr>\n",
       "      <th>4</th>\n",
       "      <td>1183595.jpg</td>\n",
       "      <td>NaN</td>\n",
       "    </tr>\n",
       "  </tbody>\n",
       "</table>\n",
       "</div>"
      ],
      "text/plain": [
       "     file_name  target\n",
       "0  3777020.jpg     NaN\n",
       "1   931356.jpg     NaN\n",
       "2  2599817.jpg     NaN\n",
       "3  1251166.jpg     NaN\n",
       "4  1183595.jpg     NaN"
      ]
     },
     "execution_count": 25,
     "metadata": {},
     "output_type": "execute_result"
    }
   ],
   "source": [
    "test.head()"
   ]
  },
  {
   "cell_type": "markdown",
   "metadata": {},
   "source": [
    "데이터셋 클래스 ~ 테스트 데이터 예측 주석달기"
   ]
  },
  {
   "cell_type": "markdown",
   "metadata": {
    "id": "nPpndZeqB0e4"
   },
   "source": [
    "# 1. 데이터셋 클래스 만들기"
   ]
  },
  {
   "cell_type": "code",
   "execution_count": 26,
   "metadata": {
    "id": "AFZviyU_AyDY"
   },
   "outputs": [],
   "source": [
    "import cv2 # 이미지 처리를 위한 라이브러리"
   ]
  },
  {
   "cell_type": "code",
   "execution_count": null,
   "metadata": {
    "colab": {
     "base_uri": "https://localhost:8080/"
    },
    "id": "2dhg0q9zzWY0",
    "outputId": "7f660d31-e3fc-4be2-cd18-b77ca0bac216"
   },
   "outputs": [
    {
     "data": {
      "text/plain": [
       "((1649,), (1350,))"
      ]
     },
     "execution_count": 27,
     "metadata": {},
     "output_type": "execute_result"
    }
   ],
   "source": [
    "train_file = train[\"file_name\"].to_numpy() # 파일명 추출 및 numpy 배열로 변환\n",
    "test_file = test[\"file_name\"].to_numpy() # 파일명 추출 및 numpy 배열로 변환\n",
    "\n",
    "train_file.shape, test_file.shape # 파일명 배열의 shape 확인"
   ]
  },
  {
   "cell_type": "code",
   "execution_count": 28,
   "metadata": {
    "colab": {
     "base_uri": "https://localhost:8080/",
     "height": 35
    },
    "id": "oo4ls1yNAYhQ",
    "outputId": "c8422b84-1101-4109-b3be-9a597b149672"
   },
   "outputs": [
    {
     "data": {
      "text/plain": [
       "'2104569.jpg'"
      ]
     },
     "execution_count": 28,
     "metadata": {},
     "output_type": "execute_result"
    }
   ],
   "source": [
    "train_file[0] # 파일명 확인"
   ]
  },
  {
   "cell_type": "code",
   "execution_count": null,
   "metadata": {
    "colab": {
     "base_uri": "https://localhost:8080/"
    },
    "id": "f5YBnzB8_5OH",
    "outputId": "c763a983-3737-41ee-eb81-bf5be71e3540"
   },
   "outputs": [
    {
     "data": {
      "text/plain": [
       "(1649,)"
      ]
     },
     "execution_count": 29,
     "metadata": {},
     "output_type": "execute_result"
    }
   ],
   "source": [
    "train_target = train[\"target\"].to_numpy() # 타겟 추출 및 numpy 배열로 변환\n",
    "\n",
    "train_target.shape # 타겟 배열의 shape 확인"
   ]
  },
  {
   "cell_type": "code",
   "execution_count": 30,
   "metadata": {
    "id": "QXdswYpq_c7V"
   },
   "outputs": [],
   "source": [
    "class FoodsDataset(torch.utils.data.Dataset): # 데이터셋 클래스 정의\n",
    "    def __init__(self, x, y=None, resize=(224, 224)): # x: 파일명, y: 타겟(테스트 데이터 예측 시 정답 데이터가 없으므로 기본값 None 지정), resize: 이미지 크기\n",
    "        self.x = x # 파일명\n",
    "        self.y = y # 타겟\n",
    "        self.resize = resize # 이미지 크기\n",
    "\n",
    "    def __len__(self): # 데이터셋 길이 반환 메서드\n",
    "        return len(self.x)\n",
    "\n",
    "    def __getitem__(self, idx): # 데이터셋에서 특정 인덱스의 아이템 반환\n",
    "        item = {} # 반환할 아이템을 담을 딕셔너리\n",
    "        x = cv2.imread(f\"{DATA_PATH}data/{self.x[idx]}\") # 이미지 파일 읽기\n",
    "        x = cv2.cvtColor(x, cv2.COLOR_BGR2RGB) # 이미지 채널 순서 변경(BGR -> RGB)\n",
    "        x = cv2.resize(x, self.resize) # 이미지 크기 변경\n",
    "        x = x / 255 # 이미지 스케일링\n",
    "        item[\"x\"] = torch.Tensor(x) # 이미지 텐서화\n",
    "\n",
    "        if self.y is not None: # 타겟이 존재할 경우\n",
    "            item[\"y\"] = torch.tensor(self.y[idx]) # 타겟 텐서화(다중 클래스 분류 문제이므로 텐서 함수 사용)\n",
    "\n",
    "        return item # 아이템 반환"
   ]
  },
  {
   "cell_type": "code",
   "execution_count": 31,
   "metadata": {
    "colab": {
     "base_uri": "https://localhost:8080/"
    },
    "id": "cZbbfuf1_zKZ",
    "outputId": "fcefe8d3-02a4-4ca7-8cfe-20fccf942995"
   },
   "outputs": [
    {
     "data": {
      "text/plain": [
       "torch.Size([1, 224, 224, 3])"
      ]
     },
     "execution_count": 31,
     "metadata": {},
     "output_type": "execute_result"
    }
   ],
   "source": [
    "# 클래스 잘 작동하는지 확인\n",
    "dataset = FoodsDataset(train_file, train_target) # 데이터셋 객체 생성\n",
    "dataloader = torch.utils.data.DataLoader(dataset, 1) # 데이터로더 생성\n",
    "batch = next(iter(dataloader)) # 배치 생성\n",
    "batch[\"x\"].shape # 배치 shape 확인"
   ]
  },
  {
   "cell_type": "markdown",
   "metadata": {
    "id": "ryuSXROzDqS-"
   },
   "source": [
    "# 모델 클래스 만들기"
   ]
  },
  {
   "cell_type": "code",
   "execution_count": 32,
   "metadata": {
    "id": "IJLgRhbIGMdg"
   },
   "outputs": [],
   "source": [
    "class Conv2dNet(torch.nn.Module): # 컨볼루션 신경망 클래스 정의\n",
    "    def __init__(self, in_channels, out_channels, kernel_size): # in_channels: 입력 채널 수, out_channels: 출력 채널 수(커널 수), kernel_size: 커널 크기\n",
    "        super().__init__() # 부모 클래스 초기화 메서드 실행\n",
    "        self.seq = torch.nn.Sequential( # 순차적 계층 변수 생성\n",
    "            torch.nn.Conv2d(in_channels, out_channels, kernel_size), # 컨볼루션 계층\n",
    "            torch.nn.BatchNorm2d(out_channels), # 배치 정규화 계층\n",
    "            torch.nn.PReLU(), # 활성화 함수\n",
    "            torch.nn.MaxPool2d(2), # 맥스 풀링 계층\n",
    "        )\n",
    "\n",
    "    def forward(self, x): # 생성한 순차적 계층 실행 메서드\n",
    "        return self.seq(x) # 순차적 계층에 입력값 x를 순차적으로 통과시킨 결과 반환"
   ]
  },
  {
   "cell_type": "code",
   "execution_count": 33,
   "metadata": {
    "id": "mEPm3tWzn87J"
   },
   "outputs": [],
   "source": [
    "class LinearNet(torch.nn.Module): # 완전 연결 신경망 클래스 정의\n",
    "    def __init__(self, in_channels, out_channels): # in_channels: 입력 채널 수, out_channels: 출력 채널 수(커널 수)\n",
    "        super().__init__() # 부모 클래스 초기화 메서드 실행\n",
    "        self.seq = torch.nn.Sequential( # 순차적 계층 변수 생성\n",
    "            torch.nn.Dropout(0.2), # 드롭아웃 계층\n",
    "            torch.nn.Linear(in_channels, out_channels), # 완전 연결 계층\n",
    "            torch.nn.BatchNorm1d(out_channels), # 배치 정규화 계층\n",
    "            torch.nn.PReLU(), # 활성화 함수\n",
    "        )\n",
    "\n",
    "    def forward(self, x): # 생성한 순차적 계층 실행 메서드\n",
    "        return self.seq(x) # 순차적 계층에 입력값 x를 순차적으로 통과시킨 결과 반환"
   ]
  },
  {
   "cell_type": "code",
   "execution_count": 34,
   "metadata": {
    "id": "iyhmfA6ADrkR"
   },
   "outputs": [],
   "source": [
    "class Net(torch.nn.Module): # 전체 신경망 클래스 정의\n",
    "    def __init__(self, in_channels=3, out_channels=16, kernel_size=3): # in_channels: 입력 채널 수, out_channels: 출력 채널 수(커널 수), kernel_size: 커널 크기\n",
    "        super().__init__() # 부모 클래스 초기화 메서드 실행\n",
    "        self.seq = torch.nn.Sequential( # 순차적 계층 변수 생성\n",
    "            Conv2dNet(in_channels, out_channels, kernel_size), # 컨볼루션 신경망\n",
    "            Conv2dNet(out_channels, out_channels * 2, kernel_size), # 컨볼루션 신경망\n",
    "            Conv2dNet(out_channels * 2, out_channels * 4, kernel_size), # 컨볼루션 신경망\n",
    "            Conv2dNet(out_channels * 4, out_channels * 8, kernel_size), # 컨볼루션 신경망\n",
    "\n",
    "            torch.nn.AdaptiveMaxPool2d(1), # 글로벌 맥스 풀링 계층\n",
    "            torch.nn.Flatten(), # 텐서 펼치기\n",
    "            LinearNet(out_channels * 8, out_channels * 4), # 완전 연결 신경망\n",
    "            LinearNet(out_channels * 4, out_channels * 2), # 완전 연결 신경망\n",
    "            torch.nn.Dropout(0.2), # 드롭아웃 계층\n",
    "            torch.nn.Linear(out_channels * 2, 3), # 완전 연결 신경망(정답 데이터 클래스 개수가 3개이므로 출력 채널 수 3으로 설정)\n",
    "        )\n",
    "\n",
    "    def forward(self, x): # 생성한 순차적 계층 실행 메서드\n",
    "        return self.seq(x.permute(0, 3, 1, 2)) # 순차적 계층에 입력값 x를 순차적으로 통과시킨 결과 반환(입력값 x의 채널 순서 변경)"
   ]
  },
  {
   "cell_type": "markdown",
   "metadata": {
    "id": "yVPndBqJzWrq"
   },
   "source": [
    "# 2. 학습 loop 함수 만들기"
   ]
  },
  {
   "cell_type": "code",
   "execution_count": 35,
   "metadata": {
    "id": "mPRAvTH_zqEC"
   },
   "outputs": [],
   "source": [
    "def train_loop(dataloader, model, loss_function, optimizer, device): # 학습 함수 정의\n",
    "    epoch_loss = 0 # 에폭 손실값 변수 초기화\n",
    "    model.train() # 모델 학습 상태로 설정\n",
    "\n",
    "    for batch in dataloader: # 데이터로더에서 미니 배치를 하나씩 꺼내 반복\n",
    "        pred = model(batch[\"x\"].to(device)) # 모델에 입력값 x를 넣어 예측값 계산, to 메서드로 연산을 수행할 디바이스로 입력값 x 이동\n",
    "        loss = loss_function(pred, batch[\"y\"].to(device)) # 예측값과 정답 데이터로 손실값 계산, to 메서드로 연산을 수행할 디바이스로 정답 데이터 이동\n",
    "\n",
    "        optimizer.zero_grad() # 기울기 초기화\n",
    "        loss.backward() # 손실값 역전파\n",
    "        optimizer.step() # 옵티마이저 가중치 업데이트\n",
    "\n",
    "        epoch_loss += loss.item() # 손실값 파이썬 숫자로 변환하여 에폭 손실값에 더함\n",
    "\n",
    "    epoch_loss /= len(dataloader) # 에폭 손실값을 데이터로더 길이로 나누어 평균 손실값 계산\n",
    "    return epoch_loss # 에폭 손실값 반환"
   ]
  },
  {
   "cell_type": "markdown",
   "metadata": {
    "id": "a5QXfI4CzbR2"
   },
   "source": [
    "# 3. 테스트 loop 함수 만들기\n",
    "- 데이터 예측 기능 및 검증데이터 손실값 반환하는 기능"
   ]
  },
  {
   "cell_type": "code",
   "execution_count": 36,
   "metadata": {
    "id": "PRyKD03ozbDp"
   },
   "outputs": [],
   "source": [
    "@torch.no_grad() # 기울기 계산하지 않도록 데코레이터 설정\n",
    "def test_loop(dataloader, model, loss_function, device): # 테스트 함수 정의\n",
    "    epoch_loss = 0 # 에폭 손실값 변수 초기화\n",
    "    model.eval() # 모델 평가 상태로 설정\n",
    "    act = torch.nn.Softmax(dim=1) # 활성화 함수 설정(다중 클래스 분류 문제이므로 소프트맥스 함수 사용)\n",
    "    pred_list = [] # 예측값을 담을 리스트 초기화\n",
    "    \n",
    "    for batch in dataloader: # 데이터로더에서 미니 배치를 하나씩 꺼내 반복\n",
    "        pred = model(batch[\"x\"].to(device)) # 모델에 입력값 x를 넣어 예측값 계산, to 메서드로 연산을 수행할 디바이스로 입력값 x 이동\n",
    "        if batch.get(\"y\") is not None: # 정답 데이터가 존재할 경우(검증 데이터)\n",
    "            loss = loss_function(pred, batch[\"y\"].to(device)) # 예측값과 정답 데이터로 손실값 계산, to 메서드로 연산을 수행할 디바이스로 정답 데이터 이동\n",
    "            epoch_loss += loss.item() # 손실값 파이썬 숫자로 변환하여 에폭 손실값에 더함\n",
    "\n",
    "        pred = act(pred) # 활성화 함수 적용\n",
    "        pred = pred.to(\"cpu\").numpy() # 텐서를 cpu 메모리로 이동한 후 넘파이 배열로 변환\n",
    "        pred_list.append(pred) # 예측값 리스트에 추가\n",
    "\n",
    "    pred = np.concatenate(pred_list) # 예측값 리스트를 연결\n",
    "    epoch_loss /= len(dataloader) # 에폭 손실값을 데이터로더 길이로 나누어 평균 손실값 계산\n",
    "\n",
    "    return epoch_loss, pred # 에폭 손실값과 예측값 반환"
   ]
  },
  {
   "cell_type": "markdown",
   "metadata": {
    "id": "d17zL790zwkg"
   },
   "source": [
    "# 4. 학습하기\n"
   ]
  },
  {
   "cell_type": "code",
   "execution_count": 37,
   "metadata": {
    "id": "D5QSzRFTz3iZ"
   },
   "outputs": [],
   "source": [
    "n_splits = 5 # 폴드 수 설정\n",
    "batch_size = 64 # 배치 크기 설정\n",
    "epochs = 100 # 에폭 수 설정\n",
    "loss_function = torch.nn.CrossEntropyLoss() # 손실 함수 설정(다중 클래스 분류 문제이므로 크로스 엔트로피 손실 함수 사용)"
   ]
  },
  {
   "cell_type": "code",
   "execution_count": 38,
   "metadata": {
    "id": "3oGRkwoNEvO9"
   },
   "outputs": [],
   "source": [
    "from sklearn.model_selection import KFold # KFold 클래스 불러오기\n",
    "from sklearn.metrics import accuracy_score # 정확도 계산 함수 불러오기\n",
    "\n",
    "cv = KFold(n_splits, shuffle=True, random_state=SEED) # KFold 객체 생성"
   ]
  },
  {
   "cell_type": "code",
   "execution_count": 39,
   "metadata": {
    "colab": {
     "base_uri": "https://localhost:8080/",
     "height": 292,
     "referenced_widgets": [
      "291e795847ea4a95831ccc282f075b45",
      "2e3ce7714eab406ba3f1a416b07c38f8",
      "a7f3b53d6dd6401caeb3d5260c59eefc",
      "331d0d8c826849c4a5d686023754e008",
      "ecaf725934fa470a9589e202e284cfd2",
      "c9e9153cfe1f42edbeb79f2b922b1a48",
      "86d6f7ae13be4479be5eaba3d4329d3c",
      "99c6399cbeb841e8b5d49476d1226be3",
      "a40df9c9ed2d400bacea46c95bcb5adf",
      "8208a2bdc59b43ec95ed821b069c689f",
      "59bf7f3ee7e145d2ad5019804402cf3b"
     ]
    },
    "id": "2_eZ5P2_EwoE",
    "outputId": "e7385ce9-42bf-4446-ad54-29600c152a57"
   },
   "outputs": [
    {
     "data": {
      "application/vnd.jupyter.widget-view+json": {
       "model_id": "cbd1889a101148499201792d3159d76c",
       "version_major": 2,
       "version_minor": 0
      },
      "text/plain": [
       "  0%|          | 0/100 [00:00<?, ?it/s]"
      ]
     },
     "metadata": {},
     "output_type": "display_data"
    },
    {
     "name": "stdout",
     "output_type": "stream",
     "text": [
      "train_loss:  1.0397, valid_loss:  1.0718, score:  0.4364\n",
      "train_loss:  0.8849, valid_loss:  1.1456, score:  0.3606\n",
      "train_loss:  0.7902, valid_loss:  0.9428, score:  0.5030\n",
      "train_loss:  0.7026, valid_loss:  0.8089, score:  0.6394\n",
      "train_loss:  0.6379, valid_loss:  0.6532, score:  0.6970\n",
      "train_loss:  0.5821, valid_loss:  0.7008, score:  0.7061\n",
      "train_loss:  0.5668, valid_loss:  0.6375, score:  0.7152\n",
      "train_loss:  0.5303, valid_loss:  0.5359, score:  0.7636\n",
      "train_loss:  0.4694, valid_loss:  0.6267, score:  0.7273\n",
      "train_loss:  0.4320, valid_loss:  0.5243, score:  0.7485\n",
      "train_loss:  0.3996, valid_loss:  0.5052, score:  0.7727\n",
      "train_loss:  0.4013, valid_loss:  0.9149, score:  0.6394\n",
      "train_loss:  0.3920, valid_loss:  0.5963, score:  0.7424\n",
      "train_loss:  0.3538, valid_loss:  0.5257, score:  0.7636\n",
      "train_loss:  0.3266, valid_loss:  0.5347, score:  0.7818\n",
      "train_loss:  0.2973, valid_loss:  1.0522, score:  0.6333\n",
      "train_loss:  0.2613, valid_loss:  0.6924, score:  0.7455\n",
      "train_loss:  0.2651, valid_loss:  0.5278, score:  0.7848\n",
      "train_loss:  0.2477, valid_loss:  0.8266, score:  0.7030\n",
      "train_loss:  0.2122, valid_loss:  0.4403, score:  0.8242\n",
      "train_loss:  0.2146, valid_loss:  0.5528, score:  0.8061\n",
      "train_loss:  0.2113, valid_loss:  1.1313, score:  0.6364\n",
      "train_loss:  0.1966, valid_loss:  0.5471, score:  0.7879\n",
      "train_loss:  0.1740, valid_loss:  0.4843, score:  0.8061\n",
      "train_loss:  0.1616, valid_loss:  0.9310, score:  0.7212\n",
      "train_loss:  0.1591, valid_loss:  0.9770, score:  0.6788\n",
      "train_loss:  0.1934, valid_loss:  0.6281, score:  0.7879\n",
      "train_loss:  0.1612, valid_loss:  0.5882, score:  0.7879\n",
      "train_loss:  0.1580, valid_loss:  0.6079, score:  0.7879\n",
      "train_loss:  0.1382, valid_loss:  0.4982, score:  0.8000\n",
      "Fold-0 Best Loss:  0.4403, Best Acc:  0.8242\n"
     ]
    },
    {
     "data": {
      "application/vnd.jupyter.widget-view+json": {
       "model_id": "8745f084f6de4c90ac2779bf43d12005",
       "version_major": 2,
       "version_minor": 0
      },
      "text/plain": [
       "  0%|          | 0/100 [00:00<?, ?it/s]"
      ]
     },
     "metadata": {},
     "output_type": "display_data"
    },
    {
     "name": "stdout",
     "output_type": "stream",
     "text": [
      "train_loss:  1.0418, valid_loss:  1.0721, score:  0.3424\n",
      "train_loss:  0.9081, valid_loss:  0.9027, score:  0.6121\n",
      "train_loss:  0.7950, valid_loss:  0.8837, score:  0.6030\n",
      "train_loss:  0.7056, valid_loss:  0.6963, score:  0.7030\n",
      "train_loss:  0.6634, valid_loss:  0.8372, score:  0.6061\n",
      "train_loss:  0.6047, valid_loss:  0.7458, score:  0.6758\n",
      "train_loss:  0.5583, valid_loss:  0.5822, score:  0.7455\n",
      "train_loss:  0.5297, valid_loss:  0.5358, score:  0.7939\n",
      "train_loss:  0.4661, valid_loss:  0.6393, score:  0.7000\n",
      "train_loss:  0.4413, valid_loss:  0.6884, score:  0.6788\n",
      "train_loss:  0.4184, valid_loss:  0.5406, score:  0.7667\n",
      "train_loss:  0.4222, valid_loss:  0.4940, score:  0.8152\n",
      "train_loss:  0.3637, valid_loss:  0.4686, score:  0.8000\n",
      "train_loss:  0.3397, valid_loss:  0.4830, score:  0.7970\n",
      "train_loss:  0.3125, valid_loss:  0.4728, score:  0.8091\n",
      "train_loss:  0.2990, valid_loss:  0.6312, score:  0.7364\n",
      "train_loss:  0.2665, valid_loss:  0.6206, score:  0.7424\n",
      "train_loss:  0.2623, valid_loss:  0.5795, score:  0.7485\n",
      "train_loss:  0.2186, valid_loss:  0.6630, score:  0.7242\n",
      "train_loss:  0.2079, valid_loss:  0.6854, score:  0.7485\n",
      "train_loss:  0.1911, valid_loss:  0.6589, score:  0.7697\n",
      "train_loss:  0.1886, valid_loss:  0.7215, score:  0.7667\n",
      "train_loss:  0.1774, valid_loss:  0.6160, score:  0.7697\n",
      "train_loss:  0.1593, valid_loss:  0.6128, score:  0.7515\n",
      "train_loss:  0.1362, valid_loss:  0.8797, score:  0.7303\n",
      "Fold-1 Best Loss:  0.4728, Best Acc:  0.8091\n"
     ]
    },
    {
     "data": {
      "application/vnd.jupyter.widget-view+json": {
       "model_id": "62f48fced1eb4cfc951212050c59838b",
       "version_major": 2,
       "version_minor": 0
      },
      "text/plain": [
       "  0%|          | 0/100 [00:00<?, ?it/s]"
      ]
     },
     "metadata": {},
     "output_type": "display_data"
    },
    {
     "name": "stdout",
     "output_type": "stream",
     "text": [
      "train_loss:  1.0822, valid_loss:  1.0549, score:  0.4273\n",
      "train_loss:  0.9519, valid_loss:  0.9619, score:  0.5667\n",
      "train_loss:  0.8640, valid_loss:  0.9858, score:  0.5303\n",
      "train_loss:  0.7797, valid_loss:  1.1507, score:  0.5182\n",
      "train_loss:  0.7085, valid_loss:  1.1057, score:  0.5909\n",
      "train_loss:  0.6654, valid_loss:  0.6980, score:  0.7273\n",
      "train_loss:  0.6009, valid_loss:  0.8830, score:  0.6394\n",
      "train_loss:  0.5511, valid_loss:  0.8258, score:  0.7000\n",
      "train_loss:  0.5640, valid_loss:  0.6368, score:  0.7697\n",
      "train_loss:  0.4942, valid_loss:  0.7910, score:  0.6697\n",
      "train_loss:  0.4491, valid_loss:  0.9532, score:  0.6545\n",
      "train_loss:  0.4593, valid_loss:  0.5777, score:  0.7909\n",
      "train_loss:  0.4279, valid_loss:  0.5021, score:  0.8455\n",
      "train_loss:  0.3681, valid_loss:  1.0818, score:  0.6485\n",
      "train_loss:  0.3902, valid_loss:  0.6331, score:  0.7424\n",
      "train_loss:  0.3457, valid_loss:  0.6250, score:  0.7667\n",
      "train_loss:  0.3421, valid_loss:  0.4579, score:  0.8333\n",
      "train_loss:  0.3090, valid_loss:  0.5029, score:  0.8061\n",
      "train_loss:  0.2999, valid_loss:  0.7102, score:  0.7455\n",
      "train_loss:  0.2734, valid_loss:  0.5631, score:  0.7667\n",
      "train_loss:  0.2823, valid_loss:  0.5003, score:  0.8576\n",
      "train_loss:  0.2279, valid_loss:  0.6045, score:  0.7576\n",
      "train_loss:  0.2097, valid_loss:  0.6441, score:  0.7788\n",
      "train_loss:  0.2206, valid_loss:  0.6715, score:  0.7879\n",
      "train_loss:  0.2048, valid_loss:  0.6418, score:  0.8121\n",
      "train_loss:  0.1697, valid_loss:  0.7277, score:  0.7636\n",
      "train_loss:  0.1700, valid_loss:  0.4799, score:  0.8697\n",
      "train_loss:  0.1685, valid_loss:  0.7176, score:  0.8061\n",
      "train_loss:  0.1575, valid_loss:  0.5519, score:  0.8394\n",
      "train_loss:  0.1417, valid_loss:  0.5988, score:  0.8455\n",
      "train_loss:  0.1637, valid_loss:  0.8314, score:  0.7727\n",
      "train_loss:  0.1279, valid_loss:  0.9984, score:  0.7697\n",
      "train_loss:  0.1355, valid_loss:  0.7357, score:  0.7939\n",
      "train_loss:  0.1164, valid_loss:  0.6579, score:  0.8333\n",
      "train_loss:  0.1292, valid_loss:  0.7791, score:  0.8030\n",
      "train_loss:  0.1108, valid_loss:  0.8542, score:  0.7909\n",
      "train_loss:  0.0909, valid_loss:  0.5552, score:  0.8758\n",
      "train_loss:  0.1006, valid_loss:  0.6530, score:  0.7970\n",
      "train_loss:  0.1109, valid_loss:  0.5584, score:  0.8545\n",
      "train_loss:  0.1207, valid_loss:  0.6886, score:  0.7606\n",
      "train_loss:  0.1031, valid_loss:  0.6466, score:  0.8667\n",
      "train_loss:  0.0767, valid_loss:  0.5569, score:  0.8636\n",
      "train_loss:  0.0837, valid_loss:  0.6670, score:  0.8303\n",
      "train_loss:  0.1091, valid_loss:  0.6129, score:  0.8303\n",
      "train_loss:  0.1000, valid_loss:  0.4796, score:  0.8545\n",
      "train_loss:  0.1139, valid_loss:  1.0878, score:  0.7333\n",
      "train_loss:  0.1070, valid_loss:  0.6147, score:  0.8576\n",
      "train_loss:  0.0818, valid_loss:  0.6551, score:  0.8394\n",
      "train_loss:  0.0808, valid_loss:  0.8967, score:  0.8000\n",
      "train_loss:  0.0851, valid_loss:  0.8414, score:  0.7970\n",
      "train_loss:  0.0693, valid_loss:  0.7284, score:  0.8394\n",
      "train_loss:  0.0662, valid_loss:  0.6877, score:  0.8758\n",
      "train_loss:  0.0882, valid_loss:  0.6537, score:  0.8576\n",
      "train_loss:  0.0969, valid_loss:  0.6691, score:  0.8606\n",
      "train_loss:  0.0820, valid_loss:  0.6352, score:  0.8636\n",
      "train_loss:  0.0921, valid_loss:  0.7830, score:  0.7697\n",
      "train_loss:  0.0879, valid_loss:  1.2539, score:  0.7152\n",
      "train_loss:  0.0693, valid_loss:  0.7216, score:  0.8364\n",
      "train_loss:  0.0731, valid_loss:  0.9416, score:  0.7879\n",
      "train_loss:  0.0518, valid_loss:  0.9017, score:  0.8212\n",
      "train_loss:  0.0465, valid_loss:  0.7849, score:  0.8121\n",
      "train_loss:  0.0658, valid_loss:  0.7018, score:  0.7939\n",
      "train_loss:  0.0718, valid_loss:  0.8503, score:  0.8030\n",
      "train_loss:  0.0879, valid_loss:  1.1077, score:  0.7485\n",
      "train_loss:  0.0654, valid_loss:  0.6390, score:  0.8333\n",
      "Fold-2 Best Loss:  0.6352, Best Acc:  0.8636\n"
     ]
    },
    {
     "data": {
      "application/vnd.jupyter.widget-view+json": {
       "model_id": "56162fa216f54290833d052b3492e632",
       "version_major": 2,
       "version_minor": 0
      },
      "text/plain": [
       "  0%|          | 0/100 [00:00<?, ?it/s]"
      ]
     },
     "metadata": {},
     "output_type": "display_data"
    },
    {
     "name": "stdout",
     "output_type": "stream",
     "text": [
      "train_loss:  1.0386, valid_loss:  1.1164, score:  0.3333\n",
      "train_loss:  0.9196, valid_loss:  0.9616, score:  0.5273\n",
      "train_loss:  0.8193, valid_loss:  0.8507, score:  0.6121\n",
      "train_loss:  0.7825, valid_loss:  0.8873, score:  0.5970\n",
      "train_loss:  0.6822, valid_loss:  0.7212, score:  0.6879\n",
      "train_loss:  0.6123, valid_loss:  0.6133, score:  0.7545\n",
      "train_loss:  0.5830, valid_loss:  0.7275, score:  0.6788\n",
      "train_loss:  0.5400, valid_loss:  0.5358, score:  0.7727\n",
      "train_loss:  0.5080, valid_loss:  0.6959, score:  0.7091\n",
      "train_loss:  0.4922, valid_loss:  0.6235, score:  0.7242\n",
      "train_loss:  0.4494, valid_loss:  0.8466, score:  0.6364\n",
      "train_loss:  0.4071, valid_loss:  0.7129, score:  0.6879\n",
      "train_loss:  0.3893, valid_loss:  0.5759, score:  0.7727\n",
      "train_loss:  0.3499, valid_loss:  0.5469, score:  0.7727\n",
      "train_loss:  0.3401, valid_loss:  0.6252, score:  0.7515\n",
      "train_loss:  0.3253, valid_loss:  0.5036, score:  0.7970\n",
      "train_loss:  0.2873, valid_loss:  0.5346, score:  0.7788\n",
      "train_loss:  0.2838, valid_loss:  0.7151, score:  0.7394\n",
      "train_loss:  0.2481, valid_loss:  0.8228, score:  0.6848\n",
      "train_loss:  0.2375, valid_loss:  0.4449, score:  0.8152\n",
      "train_loss:  0.1933, valid_loss:  0.4586, score:  0.8424\n",
      "train_loss:  0.2027, valid_loss:  0.4939, score:  0.8182\n",
      "train_loss:  0.1764, valid_loss:  0.6097, score:  0.7848\n",
      "train_loss:  0.1697, valid_loss:  0.6344, score:  0.7727\n",
      "train_loss:  0.1587, valid_loss:  0.5195, score:  0.8152\n",
      "train_loss:  0.1661, valid_loss:  0.5614, score:  0.8152\n",
      "train_loss:  0.1594, valid_loss:  0.5185, score:  0.8061\n",
      "train_loss:  0.1758, valid_loss:  0.5839, score:  0.8121\n",
      "train_loss:  0.1734, valid_loss:  1.3004, score:  0.6424\n",
      "train_loss:  0.1505, valid_loss:  0.4298, score:  0.8697\n",
      "train_loss:  0.1152, valid_loss:  0.5198, score:  0.8455\n",
      "train_loss:  0.1180, valid_loss:  1.3227, score:  0.6242\n",
      "train_loss:  0.1193, valid_loss:  0.5654, score:  0.8182\n",
      "train_loss:  0.1350, valid_loss:  0.6335, score:  0.7939\n",
      "train_loss:  0.1388, valid_loss:  1.0168, score:  0.7152\n",
      "train_loss:  0.1399, valid_loss:  0.5851, score:  0.8061\n",
      "train_loss:  0.1039, valid_loss:  0.7326, score:  0.7606\n",
      "train_loss:  0.1273, valid_loss:  0.7559, score:  0.7606\n",
      "train_loss:  0.0856, valid_loss:  0.5807, score:  0.8061\n",
      "train_loss:  0.0951, valid_loss:  0.5976, score:  0.7939\n",
      "Fold-3 Best Loss:  0.4298, Best Acc:  0.8697\n"
     ]
    },
    {
     "data": {
      "application/vnd.jupyter.widget-view+json": {
       "model_id": "99fc667b49e24e7ebb73075d4f424800",
       "version_major": 2,
       "version_minor": 0
      },
      "text/plain": [
       "  0%|          | 0/100 [00:00<?, ?it/s]"
      ]
     },
     "metadata": {},
     "output_type": "display_data"
    },
    {
     "name": "stdout",
     "output_type": "stream",
     "text": [
      "train_loss:  1.0770, valid_loss:  1.0745, score:  0.3404\n",
      "train_loss:  0.9252, valid_loss:  1.0719, score:  0.4681\n",
      "train_loss:  0.7973, valid_loss:  0.8727, score:  0.5623\n",
      "train_loss:  0.7480, valid_loss:  0.6392, score:  0.7295\n",
      "train_loss:  0.6676, valid_loss:  0.8685, score:  0.6140\n",
      "train_loss:  0.6268, valid_loss:  0.5266, score:  0.7842\n",
      "train_loss:  0.6034, valid_loss:  0.5024, score:  0.8055\n",
      "train_loss:  0.5239, valid_loss:  0.5246, score:  0.7447\n",
      "train_loss:  0.5158, valid_loss:  0.8753, score:  0.6140\n",
      "train_loss:  0.4585, valid_loss:  0.5947, score:  0.7508\n",
      "train_loss:  0.4549, valid_loss:  0.4865, score:  0.8116\n",
      "train_loss:  0.4133, valid_loss:  0.4447, score:  0.8237\n",
      "train_loss:  0.3855, valid_loss:  0.4632, score:  0.8298\n",
      "train_loss:  0.3687, valid_loss:  0.5385, score:  0.7690\n",
      "train_loss:  0.3488, valid_loss:  0.5020, score:  0.7964\n",
      "train_loss:  0.3299, valid_loss:  0.5014, score:  0.7872\n",
      "train_loss:  0.3034, valid_loss:  0.4099, score:  0.8237\n",
      "train_loss:  0.2721, valid_loss:  0.4273, score:  0.8237\n",
      "train_loss:  0.2383, valid_loss:  0.7472, score:  0.7599\n",
      "train_loss:  0.2356, valid_loss:  0.8133, score:  0.7325\n",
      "train_loss:  0.2043, valid_loss:  0.4903, score:  0.8085\n",
      "train_loss:  0.2107, valid_loss:  0.6277, score:  0.7751\n",
      "train_loss:  0.2057, valid_loss:  1.2543, score:  0.6444\n",
      "train_loss:  0.1956, valid_loss:  0.8177, score:  0.7082\n",
      "train_loss:  0.1614, valid_loss:  0.4284, score:  0.8298\n",
      "train_loss:  0.1594, valid_loss:  0.7012, score:  0.7416\n",
      "train_loss:  0.1604, valid_loss:  0.4264, score:  0.8176\n",
      "train_loss:  0.1479, valid_loss:  0.4659, score:  0.8055\n",
      "train_loss:  0.1402, valid_loss:  0.4563, score:  0.8176\n",
      "train_loss:  0.1292, valid_loss:  0.5659, score:  0.7842\n",
      "train_loss:  0.1505, valid_loss:  0.8526, score:  0.7052\n",
      "train_loss:  0.1169, valid_loss:  0.4228, score:  0.8419\n",
      "train_loss:  0.1193, valid_loss:  0.4462, score:  0.8298\n",
      "train_loss:  0.1107, valid_loss:  0.4190, score:  0.8511\n",
      "train_loss:  0.1016, valid_loss:  0.9724, score:  0.7264\n",
      "train_loss:  0.0956, valid_loss:  0.5090, score:  0.8207\n",
      "train_loss:  0.0843, valid_loss:  0.5151, score:  0.8298\n",
      "train_loss:  0.1132, valid_loss:  1.1231, score:  0.7264\n",
      "train_loss:  0.1262, valid_loss:  0.5966, score:  0.8085\n",
      "train_loss:  0.1121, valid_loss:  0.5323, score:  0.8146\n",
      "train_loss:  0.1018, valid_loss:  0.5453, score:  0.8267\n",
      "train_loss:  0.0948, valid_loss:  0.4920, score:  0.8359\n",
      "train_loss:  0.0849, valid_loss:  0.7105, score:  0.7477\n",
      "train_loss:  0.0728, valid_loss:  0.4512, score:  0.8389\n",
      "Fold-4 Best Loss:  0.4190, Best Acc:  0.8511\n"
     ]
    }
   ],
   "source": [
    "is_holdout = False # 홀드아웃 검증 사용 여부 설정\n",
    "reset_seeds(SEED) # 시드 고정\n",
    "score_list = [] # 점수를 담을 리스트 초기화\n",
    "\n",
    "for i, (tri, vai) in enumerate(cv.split(train_file)): # KFold 객체를 통해 학습 데이터 인덱스와 검증 데이터 인덱스를 생성하고 인덱스와 함께 반복\n",
    "    model = Net().to(device) # 모델 생성 및 디바이스 설정\n",
    "    optimizer = torch.optim.Adam(model.parameters()) # 옵티마이저 생성 및 모델 파라미터 등록\n",
    "\n",
    "    train_dataset = FoodsDataset(train_file[tri], train_target[tri]) # 학습 데이터셋 객체 생성\n",
    "    train_dataloader = torch.utils.data.DataLoader(train_dataset, batch_size=batch_size, shuffle=True) # 학습 데이터로더 객체 생성\n",
    "\n",
    "    valid_dataset = FoodsDataset(train_file[vai], train_target[vai]) # 검증 데이터셋 객체 생성\n",
    "    valid_dataloader = torch.utils.data.DataLoader(valid_dataset, batch_size=batch_size, shuffle=False) # 검증 데이터로더 객체 생성\n",
    "\n",
    "    best_score = 0 # 최고 점수(정확도) 변수 초기화\n",
    "    best_loss = np.inf # 최저 손실값(검증 손실) 변수 초기화\n",
    "    patience = 0 # 조기 종료 변수 초기화\n",
    "\n",
    "    for epoch in tqdm(range(epochs)): # 에폭 수 만큼 반복\n",
    "        train_loss = train_loop(train_dataloader, model, loss_function, optimizer, device) # 학습 함수 실행\n",
    "        valid_loss, pred = test_loop(valid_dataloader, model, loss_function, device) # 검증 함수 실행\n",
    "        pred = np.argmax(pred, axis=1) # 예측값 중 가장 큰 값의 인덱스를 정답으로 설정\n",
    "        score = accuracy_score(train_target[vai], pred) # 검증 데이터 정답과 예측값으로 정확도 계산\n",
    "\n",
    "        print(f\"train_loss: {train_loss: .4f}, valid_loss: {valid_loss: .4f}, score: {score: .4f}\") # 학습 손실값, 검증 손실값, 정확도 출력\n",
    "        patience += 1 # 조기 종료 변수 1 추가\n",
    "        if score > best_score or best_loss > valid_loss: # 정확도가 높아지거나 검증 손실값이 낮아질 경우\n",
    "            patience = 0 # 조기 종료 변수 초기화\n",
    "            best_score = score # 최고 점수(정확도) 갱신\n",
    "            best_loss = valid_loss # 최저 손실값(검증 손실) 갱신\n",
    "            torch.save(model.state_dict(), f\"../output/model_{i}.pt\") # 모델 저장\n",
    "\n",
    "        if patience == 10: # 조기 종료 조건(10번 연속으로 최고 점수, 최저 손실값 갱신이 일어나지 않을 경우)\n",
    "            break # 학습 종료\n",
    "\n",
    "    print(f\"Fold-{i} Best Loss: {best_loss: .4f}, Best Acc: {best_score: .4f}\") # 폴드별 최고 정확도 출력\n",
    "    score_list.append(best_score) # 폴드별 최고 정확도를 리스트에 추가\n",
    "\n",
    "    if is_holdout: # 홀드아웃 검증 사용할 경우\n",
    "        break # 반복문 종료"
   ]
  },
  {
   "cell_type": "code",
   "execution_count": 40,
   "metadata": {
    "colab": {
     "base_uri": "https://localhost:8080/"
    },
    "id": "s2BpUSPeKL-z",
    "outputId": "f9f89619-1722-4d3e-9487-ade0802eaf49"
   },
   "outputs": [
    {
     "data": {
      "text/plain": [
       "0.8435460992907802"
      ]
     },
     "execution_count": 40,
     "metadata": {},
     "output_type": "execute_result"
    }
   ],
   "source": [
    "np.mean(score_list) # 평균 정확도 계산"
   ]
  },
  {
   "cell_type": "markdown",
   "metadata": {
    "id": "4Tubiiwgz32Q"
   },
   "source": [
    "# 5. 테스트 데이터 예측"
   ]
  },
  {
   "cell_type": "code",
   "execution_count": 41,
   "metadata": {
    "id": "sD1oBbvgvcHa"
   },
   "outputs": [],
   "source": [
    "test_dataset = FoodsDataset(test_file) # 테스트 데이터셋 객체 생성\n",
    "test_dataloader = torch.utils.data.DataLoader(test_dataset, batch_size=batch_size, shuffle=False) # 테스트 데이터로더 객체 생성"
   ]
  },
  {
   "cell_type": "code",
   "execution_count": 42,
   "metadata": {
    "colab": {
     "base_uri": "https://localhost:8080/"
    },
    "id": "AL8pTuCZJtUW",
    "outputId": "8b5c1809-7334-4103-b470-cb1becd75d6a"
   },
   "outputs": [
    {
     "data": {
      "text/plain": [
       "array([1, 1, 1, ..., 1, 2, 1], dtype=int64)"
      ]
     },
     "execution_count": 42,
     "metadata": {},
     "output_type": "execute_result"
    }
   ],
   "source": [
    "pred_list = [] # 예측값을 담을 리스트 초기화\n",
    "for i in range(n_splits): # 폴드 수 만큼 반복\n",
    "    model = Net().to(device) # 모델 생성 및 디바이스 설정\n",
    "    model_params = torch.load(f\"../output/model_{i}.pt\", weights_only=True) # 모델 가중치 불러오기\n",
    "    model.load_state_dict(model_params) # 모델 가중치 업데이트\n",
    "    _, pred = test_loop(test_dataloader, model, loss_function, device) # 예측을 위한 테스트 함수 실행\n",
    "    pred_list.append(pred) # 예측값 리스트에 추가\n",
    "\n",
    "pred = np.mean(pred_list, axis=0) # 예측값 평균 계산\n",
    "pred = np.argmax(pred, axis=1) # 예측값 중 가장 큰 값의 인덱스를 정답으로 설정\n",
    "pred # 예측값 출력"
   ]
  },
  {
   "cell_type": "markdown",
   "metadata": {
    "id": "vPMdyBaDz8GE"
   },
   "source": [
    "# 6. 칸스 사이트의 컴피티션 페이지에 제출하여 점수 확인해보세요."
   ]
  },
  {
   "cell_type": "code",
   "execution_count": 43,
   "metadata": {
    "id": "VreVSDL0bKd4"
   },
   "outputs": [],
   "source": [
    "pd.DataFrame(pred, columns=[\"target\"]).to_csv(\"../output/foods_classification_CNN.csv\", index=False)"
   ]
  }
 ],
 "metadata": {
  "accelerator": "GPU",
  "colab": {
   "gpuType": "T4",
   "provenance": []
  },
  "kernelspec": {
   "display_name": "Python 3",
   "name": "python3"
  },
  "language_info": {
   "codemirror_mode": {
    "name": "ipython",
    "version": 3
   },
   "file_extension": ".py",
   "mimetype": "text/x-python",
   "name": "python",
   "nbconvert_exporter": "python",
   "pygments_lexer": "ipython3",
   "version": "3.10.8"
  },
  "widgets": {
   "application/vnd.jupyter.widget-state+json": {
    "291e795847ea4a95831ccc282f075b45": {
     "model_module": "@jupyter-widgets/controls",
     "model_module_version": "1.5.0",
     "model_name": "HBoxModel",
     "state": {
      "_dom_classes": [],
      "_model_module": "@jupyter-widgets/controls",
      "_model_module_version": "1.5.0",
      "_model_name": "HBoxModel",
      "_view_count": null,
      "_view_module": "@jupyter-widgets/controls",
      "_view_module_version": "1.5.0",
      "_view_name": "HBoxView",
      "box_style": "",
      "children": [
       "IPY_MODEL_2e3ce7714eab406ba3f1a416b07c38f8",
       "IPY_MODEL_a7f3b53d6dd6401caeb3d5260c59eefc",
       "IPY_MODEL_331d0d8c826849c4a5d686023754e008"
      ],
      "layout": "IPY_MODEL_ecaf725934fa470a9589e202e284cfd2"
     }
    },
    "2e3ce7714eab406ba3f1a416b07c38f8": {
     "model_module": "@jupyter-widgets/controls",
     "model_module_version": "1.5.0",
     "model_name": "HTMLModel",
     "state": {
      "_dom_classes": [],
      "_model_module": "@jupyter-widgets/controls",
      "_model_module_version": "1.5.0",
      "_model_name": "HTMLModel",
      "_view_count": null,
      "_view_module": "@jupyter-widgets/controls",
      "_view_module_version": "1.5.0",
      "_view_name": "HTMLView",
      "description": "",
      "description_tooltip": null,
      "layout": "IPY_MODEL_c9e9153cfe1f42edbeb79f2b922b1a48",
      "placeholder": "​",
      "style": "IPY_MODEL_86d6f7ae13be4479be5eaba3d4329d3c",
      "value": " 12%"
     }
    },
    "331d0d8c826849c4a5d686023754e008": {
     "model_module": "@jupyter-widgets/controls",
     "model_module_version": "1.5.0",
     "model_name": "HTMLModel",
     "state": {
      "_dom_classes": [],
      "_model_module": "@jupyter-widgets/controls",
      "_model_module_version": "1.5.0",
      "_model_name": "HTMLModel",
      "_view_count": null,
      "_view_module": "@jupyter-widgets/controls",
      "_view_module_version": "1.5.0",
      "_view_name": "HTMLView",
      "description": "",
      "description_tooltip": null,
      "layout": "IPY_MODEL_8208a2bdc59b43ec95ed821b069c689f",
      "placeholder": "​",
      "style": "IPY_MODEL_59bf7f3ee7e145d2ad5019804402cf3b",
      "value": " 12/100 [01:11&lt;08:24,  5.73s/it]"
     }
    },
    "59bf7f3ee7e145d2ad5019804402cf3b": {
     "model_module": "@jupyter-widgets/controls",
     "model_module_version": "1.5.0",
     "model_name": "DescriptionStyleModel",
     "state": {
      "_model_module": "@jupyter-widgets/controls",
      "_model_module_version": "1.5.0",
      "_model_name": "DescriptionStyleModel",
      "_view_count": null,
      "_view_module": "@jupyter-widgets/base",
      "_view_module_version": "1.2.0",
      "_view_name": "StyleView",
      "description_width": ""
     }
    },
    "8208a2bdc59b43ec95ed821b069c689f": {
     "model_module": "@jupyter-widgets/base",
     "model_module_version": "1.2.0",
     "model_name": "LayoutModel",
     "state": {
      "_model_module": "@jupyter-widgets/base",
      "_model_module_version": "1.2.0",
      "_model_name": "LayoutModel",
      "_view_count": null,
      "_view_module": "@jupyter-widgets/base",
      "_view_module_version": "1.2.0",
      "_view_name": "LayoutView",
      "align_content": null,
      "align_items": null,
      "align_self": null,
      "border": null,
      "bottom": null,
      "display": null,
      "flex": null,
      "flex_flow": null,
      "grid_area": null,
      "grid_auto_columns": null,
      "grid_auto_flow": null,
      "grid_auto_rows": null,
      "grid_column": null,
      "grid_gap": null,
      "grid_row": null,
      "grid_template_areas": null,
      "grid_template_columns": null,
      "grid_template_rows": null,
      "height": null,
      "justify_content": null,
      "justify_items": null,
      "left": null,
      "margin": null,
      "max_height": null,
      "max_width": null,
      "min_height": null,
      "min_width": null,
      "object_fit": null,
      "object_position": null,
      "order": null,
      "overflow": null,
      "overflow_x": null,
      "overflow_y": null,
      "padding": null,
      "right": null,
      "top": null,
      "visibility": null,
      "width": null
     }
    },
    "86d6f7ae13be4479be5eaba3d4329d3c": {
     "model_module": "@jupyter-widgets/controls",
     "model_module_version": "1.5.0",
     "model_name": "DescriptionStyleModel",
     "state": {
      "_model_module": "@jupyter-widgets/controls",
      "_model_module_version": "1.5.0",
      "_model_name": "DescriptionStyleModel",
      "_view_count": null,
      "_view_module": "@jupyter-widgets/base",
      "_view_module_version": "1.2.0",
      "_view_name": "StyleView",
      "description_width": ""
     }
    },
    "99c6399cbeb841e8b5d49476d1226be3": {
     "model_module": "@jupyter-widgets/base",
     "model_module_version": "1.2.0",
     "model_name": "LayoutModel",
     "state": {
      "_model_module": "@jupyter-widgets/base",
      "_model_module_version": "1.2.0",
      "_model_name": "LayoutModel",
      "_view_count": null,
      "_view_module": "@jupyter-widgets/base",
      "_view_module_version": "1.2.0",
      "_view_name": "LayoutView",
      "align_content": null,
      "align_items": null,
      "align_self": null,
      "border": null,
      "bottom": null,
      "display": null,
      "flex": null,
      "flex_flow": null,
      "grid_area": null,
      "grid_auto_columns": null,
      "grid_auto_flow": null,
      "grid_auto_rows": null,
      "grid_column": null,
      "grid_gap": null,
      "grid_row": null,
      "grid_template_areas": null,
      "grid_template_columns": null,
      "grid_template_rows": null,
      "height": null,
      "justify_content": null,
      "justify_items": null,
      "left": null,
      "margin": null,
      "max_height": null,
      "max_width": null,
      "min_height": null,
      "min_width": null,
      "object_fit": null,
      "object_position": null,
      "order": null,
      "overflow": null,
      "overflow_x": null,
      "overflow_y": null,
      "padding": null,
      "right": null,
      "top": null,
      "visibility": null,
      "width": null
     }
    },
    "a40df9c9ed2d400bacea46c95bcb5adf": {
     "model_module": "@jupyter-widgets/controls",
     "model_module_version": "1.5.0",
     "model_name": "ProgressStyleModel",
     "state": {
      "_model_module": "@jupyter-widgets/controls",
      "_model_module_version": "1.5.0",
      "_model_name": "ProgressStyleModel",
      "_view_count": null,
      "_view_module": "@jupyter-widgets/base",
      "_view_module_version": "1.2.0",
      "_view_name": "StyleView",
      "bar_color": null,
      "description_width": ""
     }
    },
    "a7f3b53d6dd6401caeb3d5260c59eefc": {
     "model_module": "@jupyter-widgets/controls",
     "model_module_version": "1.5.0",
     "model_name": "FloatProgressModel",
     "state": {
      "_dom_classes": [],
      "_model_module": "@jupyter-widgets/controls",
      "_model_module_version": "1.5.0",
      "_model_name": "FloatProgressModel",
      "_view_count": null,
      "_view_module": "@jupyter-widgets/controls",
      "_view_module_version": "1.5.0",
      "_view_name": "ProgressView",
      "bar_style": "danger",
      "description": "",
      "description_tooltip": null,
      "layout": "IPY_MODEL_99c6399cbeb841e8b5d49476d1226be3",
      "max": 100,
      "min": 0,
      "orientation": "horizontal",
      "style": "IPY_MODEL_a40df9c9ed2d400bacea46c95bcb5adf",
      "value": 12
     }
    },
    "c9e9153cfe1f42edbeb79f2b922b1a48": {
     "model_module": "@jupyter-widgets/base",
     "model_module_version": "1.2.0",
     "model_name": "LayoutModel",
     "state": {
      "_model_module": "@jupyter-widgets/base",
      "_model_module_version": "1.2.0",
      "_model_name": "LayoutModel",
      "_view_count": null,
      "_view_module": "@jupyter-widgets/base",
      "_view_module_version": "1.2.0",
      "_view_name": "LayoutView",
      "align_content": null,
      "align_items": null,
      "align_self": null,
      "border": null,
      "bottom": null,
      "display": null,
      "flex": null,
      "flex_flow": null,
      "grid_area": null,
      "grid_auto_columns": null,
      "grid_auto_flow": null,
      "grid_auto_rows": null,
      "grid_column": null,
      "grid_gap": null,
      "grid_row": null,
      "grid_template_areas": null,
      "grid_template_columns": null,
      "grid_template_rows": null,
      "height": null,
      "justify_content": null,
      "justify_items": null,
      "left": null,
      "margin": null,
      "max_height": null,
      "max_width": null,
      "min_height": null,
      "min_width": null,
      "object_fit": null,
      "object_position": null,
      "order": null,
      "overflow": null,
      "overflow_x": null,
      "overflow_y": null,
      "padding": null,
      "right": null,
      "top": null,
      "visibility": null,
      "width": null
     }
    },
    "ecaf725934fa470a9589e202e284cfd2": {
     "model_module": "@jupyter-widgets/base",
     "model_module_version": "1.2.0",
     "model_name": "LayoutModel",
     "state": {
      "_model_module": "@jupyter-widgets/base",
      "_model_module_version": "1.2.0",
      "_model_name": "LayoutModel",
      "_view_count": null,
      "_view_module": "@jupyter-widgets/base",
      "_view_module_version": "1.2.0",
      "_view_name": "LayoutView",
      "align_content": null,
      "align_items": null,
      "align_self": null,
      "border": null,
      "bottom": null,
      "display": null,
      "flex": null,
      "flex_flow": null,
      "grid_area": null,
      "grid_auto_columns": null,
      "grid_auto_flow": null,
      "grid_auto_rows": null,
      "grid_column": null,
      "grid_gap": null,
      "grid_row": null,
      "grid_template_areas": null,
      "grid_template_columns": null,
      "grid_template_rows": null,
      "height": null,
      "justify_content": null,
      "justify_items": null,
      "left": null,
      "margin": null,
      "max_height": null,
      "max_width": null,
      "min_height": null,
      "min_width": null,
      "object_fit": null,
      "object_position": null,
      "order": null,
      "overflow": null,
      "overflow_x": null,
      "overflow_y": null,
      "padding": null,
      "right": null,
      "top": null,
      "visibility": null,
      "width": null
     }
    }
   }
  }
 },
 "nbformat": 4,
 "nbformat_minor": 0
}
