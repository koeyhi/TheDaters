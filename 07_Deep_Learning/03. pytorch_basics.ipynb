{
 "cells": [
  {
   "cell_type": "markdown",
   "metadata": {
    "id": "zxGmINSV7bLN"
   },
   "source": [
    "# Pytorch\n",
    "- 구글의 tensorflow와 유사한 딥러닝 라이브러리\n",
    "- 페이스북 인공지능 연구팀에 의해 주로 개발\n",
    "- torch\n",
    "    - 텐서 변환 및 다양한 수학 함수와 클래스가 포함되어 있다.\n",
    "    - 텐서(Tensor)란?\n",
    "        - 스칼라, 벡터, 행렬, 다차원 배열등의 다양한 모양의 숫자들을 모아놓은 구조\n",
    "        - 다차원의 배열을 통칭\n",
    "\n",
    "- torch.nn\n",
    "    - 신경망을 구축하기 위한 레이어(층), 활성화 함수, 손실함수 등에 대한 함수와 클래스가 포함되어 있다.\n",
    "- torch.utils.data\n",
    "    - 미니 배치 학습을 위한 데이터셋 구성관련 함수와 클래스가 포함되어 있다.\n",
    "- torch.optim\n",
    "    - optimizer 관련 함수와 클래스가 포함되어 있다.\n",
    "- https://pytorch.org/"
   ]
  },
  {
   "cell_type": "markdown",
   "metadata": {
    "id": "cJzvQaWh83aY"
   },
   "source": [
    "# 타이타닉 데이터셋을 pytorch로 학습 시켜보기\n",
    "1. 데이터 전처리\n",
    "2. 학습 데이터를 텐서로 변경\n",
    "3. 인공 신경망 모델 객체 생성\n",
    "4. 하이퍼파라미터(손실함수 및 옵티마이저 등 선택)\n",
    "5. 학습 및 테스트 예측 loop 구현"
   ]
  },
  {
   "cell_type": "code",
   "execution_count": null,
   "metadata": {
    "colab": {
     "base_uri": "https://localhost:8080/"
    },
    "executionInfo": {
     "elapsed": 25383,
     "status": "ok",
     "timestamp": 1732149849974,
     "user": {
      "displayName": "koeyhi",
      "userId": "08049178071858703986"
     },
     "user_tz": -540
    },
    "id": "HHVbRmaJIdKp",
    "outputId": "37d83917-50d1-4274-ba66-05cd2c19dce3"
   },
   "outputs": [
    {
     "data": {
      "text/plain": [
       "((916, 10), (393, 10), (916,))"
      ]
     },
     "execution_count": 2,
     "metadata": {},
     "output_type": "execute_result"
    }
   ],
   "source": [
    "import pandas as pd\n",
    "import numpy as np\n",
    "from sklearn.preprocessing import OneHotEncoder, MinMaxScaler\n",
    "\n",
    "# from google.colab import drive\n",
    "# drive.mount('/content/drive')\n",
    "\n",
    "DATA_PATH = \"../data/\"\n",
    "\n",
    "SEED = 42  # 시드값\n",
    "\n",
    "# 데이터 블러오기\n",
    "train = pd.read_csv(f\"{DATA_PATH}titanic_train.csv\")  # 학습데이터\n",
    "test = pd.read_csv(f\"{DATA_PATH}titanic_test.csv\")  # 테스트 데이터\n",
    "\n",
    "# 결측치 처리\n",
    "age_mean = train[\"age\"].mean()\n",
    "fare_median = train[\"fare\"].median()\n",
    "cabin_unk = \"UNK\"\n",
    "embarked_mode = train[\"embarked\"].mode()[0]\n",
    "train[\"age\"] = train[\"age\"].fillna(age_mean)\n",
    "train[\"cabin\"] = train[\"cabin\"].fillna(cabin_unk)\n",
    "test[\"age\"] = test[\"age\"].fillna(age_mean)\n",
    "test[\"fare\"] = test[\"fare\"].fillna(fare_median)\n",
    "test[\"cabin\"] = test[\"cabin\"].fillna(cabin_unk)\n",
    "test[\"embarked\"] = test[\"embarked\"].fillna(embarked_mode)\n",
    "\n",
    "# 특성으로 사용할 변수 선택\n",
    "cols = [\"age\", \"sibsp\", \"parch\", \"fare\", \"pclass\", \"gender\", \"embarked\"]\n",
    "train_ft = train[cols].copy()\n",
    "test_ft = test[cols].copy()\n",
    "\n",
    "# 범주형 변수 원핫인코딩\n",
    "cols = [\"gender\", \"embarked\"]\n",
    "enc = OneHotEncoder(handle_unknown=\"ignore\")\n",
    "enc.fit(train[cols])\n",
    "tmp = pd.DataFrame(\n",
    "    enc.transform(train_ft[cols]).toarray(), columns=enc.get_feature_names_out()\n",
    ")\n",
    "train_ft = pd.concat([train_ft, tmp], axis=1).drop(columns=cols)\n",
    "tmp = pd.DataFrame(\n",
    "    enc.transform(test_ft[cols]).toarray(), columns=enc.get_feature_names_out()\n",
    ")\n",
    "test_ft = pd.concat([test_ft, tmp], axis=1).drop(columns=cols)\n",
    "\n",
    "# Min-Max Scaling\n",
    "scaler = MinMaxScaler()\n",
    "scaler.fit(train_ft)\n",
    "train_ft = scaler.transform(train_ft)\n",
    "test_ft = scaler.transform(test_ft)\n",
    "\n",
    "# 정답 데이터\n",
    "target = train[\"survived\"].to_numpy()\n",
    "\n",
    "train_ft.shape, test_ft.shape, target.shape"
   ]
  },
  {
   "cell_type": "code",
   "execution_count": null,
   "metadata": {
    "colab": {
     "base_uri": "https://localhost:8080/"
    },
    "executionInfo": {
     "elapsed": 3,
     "status": "ok",
     "timestamp": 1732149849974,
     "user": {
      "displayName": "koeyhi",
      "userId": "08049178071858703986"
     },
     "user_tz": -540
    },
    "id": "ztvTT-wyHP9R",
    "outputId": "04cc5825-4a17-41e1-c91b-5bc75bf22d37"
   },
   "outputs": [
    {
     "data": {
      "text/plain": [
       "array([[0.88726043, 0.        , 0.        , ..., 1.        , 0.        ,\n",
       "        0.        ],\n",
       "       [0.42377552, 0.        , 0.        , ..., 0.        , 0.        ,\n",
       "        1.        ],\n",
       "       [0.36114243, 0.375     , 0.11111111, ..., 0.        , 0.        ,\n",
       "        1.        ],\n",
       "       ...,\n",
       "       [0.44882876, 0.        , 0.        , ..., 0.        , 0.        ,\n",
       "        1.        ],\n",
       "       [0.473882  , 0.        , 0.        , ..., 0.        , 0.        ,\n",
       "        1.        ],\n",
       "       [0.23587624, 0.125     , 0.11111111, ..., 0.        , 0.        ,\n",
       "        1.        ]])"
      ]
     },
     "execution_count": 2,
     "metadata": {},
     "output_type": "execute_result"
    }
   ],
   "source": [
    "train_ft"
   ]
  },
  {
   "cell_type": "code",
   "execution_count": null,
   "metadata": {
    "colab": {
     "base_uri": "https://localhost:8080/"
    },
    "executionInfo": {
     "elapsed": 3,
     "status": "ok",
     "timestamp": 1732149849974,
     "user": {
      "displayName": "koeyhi",
      "userId": "08049178071858703986"
     },
     "user_tz": -540
    },
    "id": "Gdxxjdr7HP6z",
    "outputId": "ed57c420-70a8-4086-8895-1e9dca7828ab"
   },
   "outputs": [
    {
     "data": {
      "text/plain": [
       "array([0, 0, 0, 1, 1, 0, 0, 1, 0, 0, 0, 1, 0, 1, 1, 0, 1, 0, 0, 0, 0, 0,\n",
       "       0, 0, 0, 0, 0, 0, 0, 0, 1, 0, 1, 1, 0, 0, 0, 1, 0, 0, 1, 0, 0, 0,\n",
       "       0, 1, 0, 1, 0, 0, 1, 0, 0, 0, 0, 1, 0, 0, 0, 0, 1, 0, 0, 0, 1, 1,\n",
       "       0, 0, 0, 1, 0, 0, 1, 1, 1, 0, 0, 0, 1, 0, 0, 1, 0, 0, 1, 0, 1, 0,\n",
       "       1, 0, 0, 1, 1, 0, 1, 0, 0, 0, 0, 0, 0, 1, 0, 0, 0, 0, 0, 0, 0, 0,\n",
       "       0, 1, 0, 0, 0, 1, 1, 0, 0, 0, 1, 1, 0, 0, 0, 0, 0, 0, 0, 0, 0, 0,\n",
       "       1, 0, 0, 0, 0, 1, 0, 0, 0, 1, 1, 1, 0, 0, 0, 0, 0, 1, 0, 0, 0, 0,\n",
       "       1, 1, 0, 0, 0, 0, 0, 0, 1, 0, 0, 1, 0, 0, 1, 1, 0, 1, 0, 0, 0, 0,\n",
       "       0, 1, 1, 0, 0, 0, 0, 0, 0, 1, 1, 1, 1, 0, 0, 1, 1, 0, 1, 1, 0, 0,\n",
       "       0, 1, 0, 0, 1, 1, 0, 1, 0, 1, 0, 1, 1, 0, 0, 0, 0, 0, 1, 1, 0, 0,\n",
       "       0, 0, 0, 0, 0, 1, 1, 1, 0, 1, 1, 0, 0, 0, 0, 1, 0, 0, 1, 0, 0, 1,\n",
       "       0, 0, 0, 0, 1, 1, 0, 0, 0, 1, 1, 1, 0, 0, 0, 0, 0, 0, 1, 0, 1, 1,\n",
       "       0, 1, 0, 0, 1, 0, 1, 0, 1, 0, 1, 0, 0, 1, 0, 1, 0, 1, 0, 0, 1, 0,\n",
       "       1, 0, 1, 1, 0, 0, 0, 1, 0, 0, 0, 0, 0, 0, 0, 1, 1, 0, 0, 1, 0, 0,\n",
       "       0, 0, 0, 0, 1, 0, 0, 0, 1, 0, 0, 0, 1, 1, 0, 0, 1, 0, 1, 0, 0, 0,\n",
       "       0, 1, 1, 0, 0, 1, 1, 1, 0, 0, 1, 0, 1, 0, 0, 0, 1, 0, 1, 0, 0, 0,\n",
       "       1, 0, 0, 1, 1, 0, 0, 0, 0, 1, 0, 1, 1, 0, 1, 1, 1, 1, 0, 1, 0, 0,\n",
       "       1, 0, 0, 1, 0, 0, 0, 0, 0, 0, 1, 0, 1, 0, 1, 0, 0, 1, 0, 0, 0, 1,\n",
       "       1, 0, 1, 1, 1, 0, 0, 0, 1, 0, 0, 0, 0, 0, 1, 0, 1, 0, 0, 0, 1, 1,\n",
       "       0, 0, 0, 1, 1, 0, 0, 0, 1, 0, 1, 0, 0, 1, 1, 1, 1, 1, 0, 1, 0, 1,\n",
       "       0, 1, 1, 0, 0, 0, 1, 0, 0, 1, 1, 1, 1, 1, 0, 1, 0, 1, 0, 0, 1, 0,\n",
       "       0, 0, 0, 0, 1, 0, 1, 0, 0, 0, 1, 0, 1, 0, 0, 0, 1, 0, 1, 1, 1, 0,\n",
       "       1, 1, 0, 1, 0, 1, 1, 1, 0, 0, 0, 1, 1, 0, 0, 0, 0, 1, 0, 0, 0, 0,\n",
       "       1, 0, 0, 0, 0, 1, 0, 0, 0, 0, 0, 0, 1, 0, 0, 0, 0, 0, 1, 0, 0, 1,\n",
       "       0, 1, 0, 0, 0, 1, 1, 1, 1, 1, 1, 0, 1, 1, 0, 0, 0, 1, 1, 0, 0, 1,\n",
       "       0, 0, 0, 0, 1, 0, 0, 1, 1, 1, 0, 1, 0, 0, 0, 0, 1, 0, 1, 0, 1, 1,\n",
       "       1, 1, 1, 0, 1, 0, 1, 0, 1, 0, 1, 0, 0, 1, 0, 1, 0, 1, 0, 0, 0, 1,\n",
       "       0, 1, 0, 0, 1, 0, 0, 0, 0, 1, 1, 0, 0, 1, 1, 1, 0, 0, 1, 0, 0, 1,\n",
       "       0, 1, 1, 1, 0, 1, 0, 1, 1, 0, 0, 1, 0, 1, 0, 0, 0, 1, 0, 1, 0, 0,\n",
       "       0, 1, 0, 0, 1, 0, 0, 1, 1, 0, 0, 1, 0, 1, 0, 1, 0, 1, 0, 1, 0, 1,\n",
       "       0, 0, 1, 1, 0, 1, 0, 1, 1, 0, 0, 0, 1, 0, 0, 0, 0, 0, 1, 0, 1, 0,\n",
       "       1, 0, 1, 1, 1, 1, 1, 0, 1, 0, 0, 1, 1, 0, 0, 1, 0, 1, 1, 0, 0, 0,\n",
       "       1, 1, 0, 1, 0, 0, 0, 1, 0, 0, 0, 0, 1, 1, 0, 0, 0, 0, 0, 0, 0, 0,\n",
       "       1, 0, 1, 1, 1, 1, 1, 0, 0, 0, 0, 0, 0, 0, 1, 0, 1, 1, 0, 0, 1, 0,\n",
       "       1, 0, 0, 0, 1, 0, 1, 0, 0, 0, 1, 1, 0, 1, 0, 0, 0, 0, 1, 0, 0, 0,\n",
       "       0, 0, 1, 0, 1, 1, 1, 0, 0, 1, 0, 1, 0, 0, 0, 1, 1, 0, 1, 0, 0, 0,\n",
       "       0, 1, 1, 1, 0, 0, 0, 0, 1, 0, 0, 1, 0, 1, 1, 0, 0, 1, 0, 0, 0, 0,\n",
       "       0, 1, 0, 1, 0, 0, 0, 0, 0, 0, 0, 0, 0, 0, 1, 0, 0, 0, 1, 0, 0, 1,\n",
       "       1, 1, 1, 0, 0, 0, 0, 0, 0, 0, 0, 0, 0, 1, 0, 0, 1, 0, 1, 0, 0, 0,\n",
       "       0, 1, 1, 1, 0, 0, 0, 0, 1, 1, 0, 0, 1, 0, 0, 0, 1, 0, 0, 1, 0, 0,\n",
       "       1, 1, 1, 0, 1, 0, 1, 0, 1, 1, 0, 0, 1, 0, 1, 1, 0, 1, 0, 1, 1, 0,\n",
       "       1, 0, 0, 1, 1, 1, 1, 0, 0, 1, 0, 0, 0, 0])"
      ]
     },
     "execution_count": 3,
     "metadata": {},
     "output_type": "execute_result"
    }
   ],
   "source": [
    "target"
   ]
  },
  {
   "cell_type": "markdown",
   "metadata": {
    "id": "9AarWZYpHU6f"
   },
   "source": [
    "# 손실함수(loss function)"
   ]
  },
  {
   "cell_type": "markdown",
   "metadata": {
    "id": "3-_YZVwNHZ26"
   },
   "source": [
    "## 회귀문제에서의 손실함수"
   ]
  },
  {
   "cell_type": "code",
   "execution_count": null,
   "metadata": {
    "id": "it-RQPzkHP33"
   },
   "outputs": [],
   "source": [
    "import torch"
   ]
  },
  {
   "cell_type": "markdown",
   "metadata": {
    "id": "zz3yEU_Zn300"
   },
   "source": [
    "- 회귀 문제에서 정답데이터는 2차원 형식이어야 하고, 데이터 타입은 float32 이어야 한다."
   ]
  },
  {
   "cell_type": "code",
   "execution_count": null,
   "metadata": {
    "id": "pKzogiAqHUuX"
   },
   "outputs": [],
   "source": [
    "torch.manual_seed(SEED)\n",
    "x = torch.randn(2,3) # 2개의 샘플, 3개의 피처\n",
    "y = torch.randn(2,1) # 2개의 정답 데이터, 정답데이터는 2차원 형식이어야 함"
   ]
  },
  {
   "cell_type": "code",
   "execution_count": null,
   "metadata": {
    "id": "kkmZfcPEHUqi"
   },
   "outputs": [],
   "source": [
    "torch.manual_seed(SEED)\n",
    "model = torch.nn.Linear(x.shape[1], 1) # 선형회귀"
   ]
  },
  {
   "cell_type": "code",
   "execution_count": null,
   "metadata": {
    "colab": {
     "base_uri": "https://localhost:8080/"
    },
    "executionInfo": {
     "elapsed": 10,
     "status": "ok",
     "timestamp": 1732149855632,
     "user": {
      "displayName": "koeyhi",
      "userId": "08049178071858703986"
     },
     "user_tz": -540
    },
    "id": "RwbSOLwzHP0G",
    "outputId": "6ed9c508-c551-4aab-94f8-9d54090c6382"
   },
   "outputs": [
    {
     "data": {
      "text/plain": [
       "tensor([[0.7090],\n",
       "        [0.1192]], grad_fn=<AddmmBackward0>)"
      ]
     },
     "execution_count": 7,
     "metadata": {},
     "output_type": "execute_result"
    }
   ],
   "source": [
    "pred = model(x)\n",
    "pred"
   ]
  },
  {
   "cell_type": "markdown",
   "metadata": {
    "id": "Qu7Jsdv5LXAN"
   },
   "source": [
    "- MSE"
   ]
  },
  {
   "cell_type": "code",
   "execution_count": null,
   "metadata": {
    "colab": {
     "base_uri": "https://localhost:8080/"
    },
    "executionInfo": {
     "elapsed": 10,
     "status": "ok",
     "timestamp": 1732149855632,
     "user": {
      "displayName": "koeyhi",
      "userId": "08049178071858703986"
     },
     "user_tz": -540
    },
    "id": "p37Bj_3OHPx-",
    "outputId": "2f380159-7c8a-403d-870a-458d4156e769"
   },
   "outputs": [
    {
     "data": {
      "text/plain": [
       "tensor(1.4105, grad_fn=<MseLossBackward0>)"
      ]
     },
     "execution_count": 8,
     "metadata": {},
     "output_type": "execute_result"
    }
   ],
   "source": [
    "loss_fn = torch.nn.MSELoss() # 손실을 계산할 수 있는 손실함수 객체가 반환됨\n",
    "loss = loss_fn(pred, y) # 손실함수에는 첫 번째 인수로 예측값, 두 번째 인수로 정답값 전달\n",
    "loss"
   ]
  },
  {
   "cell_type": "code",
   "execution_count": null,
   "metadata": {
    "id": "CSGBgRbaLWe5"
   },
   "outputs": [],
   "source": [
    "loss.backward() # 역전파"
   ]
  },
  {
   "cell_type": "markdown",
   "metadata": {
    "id": "o2LyhrA9MXyH"
   },
   "source": [
    "- MAE"
   ]
  },
  {
   "cell_type": "code",
   "execution_count": null,
   "metadata": {
    "colab": {
     "base_uri": "https://localhost:8080/"
    },
    "executionInfo": {
     "elapsed": 362,
     "status": "ok",
     "timestamp": 1732149855985,
     "user": {
      "displayName": "koeyhi",
      "userId": "08049178071858703986"
     },
     "user_tz": -540
    },
    "id": "GK4o2qRhMXmv",
    "outputId": "f2bcab33-504f-4712-c605-02ba5ca534ab"
   },
   "outputs": [
    {
     "data": {
      "text/plain": [
       "tensor(1.1282, grad_fn=<MeanBackward0>)"
      ]
     },
     "execution_count": 10,
     "metadata": {},
     "output_type": "execute_result"
    }
   ],
   "source": [
    "loss_fn = torch.nn.L1Loss()\n",
    "loss = loss_fn(pred, y)\n",
    "loss"
   ]
  },
  {
   "cell_type": "code",
   "execution_count": null,
   "metadata": {
    "id": "dgYGJ-CtMXkh"
   },
   "outputs": [],
   "source": [
    "# loss.backward()"
   ]
  },
  {
   "cell_type": "markdown",
   "metadata": {
    "id": "EhMi1-CxNRqN"
   },
   "source": [
    "## 분류문제에서의 손실함수"
   ]
  },
  {
   "cell_type": "markdown",
   "metadata": {
    "id": "zjveWFWxNYS7"
   },
   "source": [
    "- BCE\n",
    "    - 이진 분류 문제에서 사용되는 손실함수"
   ]
  },
  {
   "cell_type": "code",
   "execution_count": null,
   "metadata": {
    "colab": {
     "base_uri": "https://localhost:8080/"
    },
    "executionInfo": {
     "elapsed": 11,
     "status": "ok",
     "timestamp": 1732149855985,
     "user": {
      "displayName": "koeyhi",
      "userId": "08049178071858703986"
     },
     "user_tz": -540
    },
    "id": "qcLEVCCsLWZI",
    "outputId": "ce055646-686b-42b8-b8c8-80c1f2bfc265"
   },
   "outputs": [
    {
     "data": {
      "text/plain": [
       "tensor([[ 0.3367,  0.1288,  0.2345],\n",
       "        [ 0.2303, -1.1229, -0.1863]])"
      ]
     },
     "execution_count": 12,
     "metadata": {},
     "output_type": "execute_result"
    }
   ],
   "source": [
    "x"
   ]
  },
  {
   "cell_type": "markdown",
   "metadata": {
    "id": "CEQSGKUDQCD0"
   },
   "source": [
    "- 이진 분류 문제에서 정답데이터는 2차원 형식이어야 하고, 데이터 타입은 float32 이어야 한다."
   ]
  },
  {
   "cell_type": "code",
   "execution_count": null,
   "metadata": {
    "colab": {
     "base_uri": "https://localhost:8080/"
    },
    "executionInfo": {
     "elapsed": 10,
     "status": "ok",
     "timestamp": 1732149855985,
     "user": {
      "displayName": "koeyhi",
      "userId": "08049178071858703986"
     },
     "user_tz": -540
    },
    "id": "70xeQ_mHLWWh",
    "outputId": "966f10af-640f-4b8e-f19e-b79801890d32"
   },
   "outputs": [
    {
     "data": {
      "text/plain": [
       "tensor([[0.],\n",
       "        [1.]])"
      ]
     },
     "execution_count": 13,
     "metadata": {},
     "output_type": "execute_result"
    }
   ],
   "source": [
    "y = torch.Tensor([0,1]).view(-1,1)\n",
    "y"
   ]
  },
  {
   "cell_type": "code",
   "execution_count": null,
   "metadata": {
    "colab": {
     "base_uri": "https://localhost:8080/"
    },
    "executionInfo": {
     "elapsed": 9,
     "status": "ok",
     "timestamp": 1732149855985,
     "user": {
      "displayName": "koeyhi",
      "userId": "08049178071858703986"
     },
     "user_tz": -540
    },
    "id": "2SssMwAWNje7",
    "outputId": "4cfee2fa-b43f-4ca9-c0c9-540f8619c2c4"
   },
   "outputs": [
    {
     "data": {
      "text/plain": [
       "tensor([[0.2456],\n",
       "        [0.2315]], grad_fn=<AddmmBackward0>)"
      ]
     },
     "execution_count": 14,
     "metadata": {},
     "output_type": "execute_result"
    }
   ],
   "source": [
    "model = torch.nn.Linear(x.shape[1], 1)\n",
    "pred = model(x)\n",
    "pred"
   ]
  },
  {
   "cell_type": "markdown",
   "metadata": {
    "id": "l63EcBYkO1r_"
   },
   "source": [
    "- 정의한 모델의 출력이 시그모이드 함수를 통과한 경우"
   ]
  },
  {
   "cell_type": "code",
   "execution_count": null,
   "metadata": {
    "colab": {
     "base_uri": "https://localhost:8080/"
    },
    "executionInfo": {
     "elapsed": 8,
     "status": "ok",
     "timestamp": 1732149855985,
     "user": {
      "displayName": "koeyhi",
      "userId": "08049178071858703986"
     },
     "user_tz": -540
    },
    "id": "v2LIotnrNjcf",
    "outputId": "897dfd75-7374-44e8-dc17-8210b8b4e96a"
   },
   "outputs": [
    {
     "data": {
      "text/plain": [
       "tensor(0.7038, grad_fn=<BinaryCrossEntropyBackward0>)"
      ]
     },
     "execution_count": 15,
     "metadata": {},
     "output_type": "execute_result"
    }
   ],
   "source": [
    "sig = torch.nn.Sigmoid() # 시그모이드 함수를 반환하는 클래스\n",
    "loss_fn = torch.nn.BCELoss()\n",
    "loss_fn(sig(pred), y)"
   ]
  },
  {
   "cell_type": "markdown",
   "metadata": {
    "id": "F6SDqVsdPBRN"
   },
   "source": [
    "- 정의한 모델의 출력이 시그모이드 함수를 통과하지 않은 경우*"
   ]
  },
  {
   "cell_type": "code",
   "execution_count": null,
   "metadata": {
    "colab": {
     "base_uri": "https://localhost:8080/"
    },
    "executionInfo": {
     "elapsed": 7,
     "status": "ok",
     "timestamp": 1732149855985,
     "user": {
      "displayName": "koeyhi",
      "userId": "08049178071858703986"
     },
     "user_tz": -540
    },
    "id": "_TTVwUrTNjZz",
    "outputId": "11e91b89-5578-49fd-9198-b1033b625247"
   },
   "outputs": [
    {
     "data": {
      "text/plain": [
       "tensor(0.7038, grad_fn=<BinaryCrossEntropyWithLogitsBackward0>)"
      ]
     },
     "execution_count": 16,
     "metadata": {},
     "output_type": "execute_result"
    }
   ],
   "source": [
    "loss_fn = torch.nn.BCEWithLogitsLoss()\n",
    "loss_fn(pred, y)"
   ]
  },
  {
   "cell_type": "markdown",
   "metadata": {
    "id": "HfVP8iF4QW6M"
   },
   "source": [
    "- CE(Cross Entropy)\n",
    "    - 다중 분류 문제에서 사용되는 손실함수"
   ]
  },
  {
   "cell_type": "code",
   "execution_count": null,
   "metadata": {
    "colab": {
     "base_uri": "https://localhost:8080/"
    },
    "executionInfo": {
     "elapsed": 7,
     "status": "ok",
     "timestamp": 1732149855985,
     "user": {
      "displayName": "koeyhi",
      "userId": "08049178071858703986"
     },
     "user_tz": -540
    },
    "id": "Xa4QrN49PEoN",
    "outputId": "2ef87109-e7fb-454c-b84c-43f07b0b3a4d"
   },
   "outputs": [
    {
     "data": {
      "text/plain": [
       "tensor([[-1.1229, -0.1863],\n",
       "        [ 2.2082, -0.6380],\n",
       "        [ 0.4617,  0.2674],\n",
       "        [ 0.5349,  0.8094]])"
      ]
     },
     "execution_count": 17,
     "metadata": {},
     "output_type": "execute_result"
    }
   ],
   "source": [
    "x = torch.randn(4,2) # 4개의 샘플 2개의 피처\n",
    "x"
   ]
  },
  {
   "cell_type": "markdown",
   "metadata": {
    "id": "1eqffFkIQysu"
   },
   "source": [
    "- 다중 분류 문제에서의 정답데이터는 1차원 형태여야 하고, 데이터타입은 int64 형태여야 함"
   ]
  },
  {
   "cell_type": "code",
   "execution_count": null,
   "metadata": {
    "colab": {
     "base_uri": "https://localhost:8080/"
    },
    "executionInfo": {
     "elapsed": 6,
     "status": "ok",
     "timestamp": 1732149855985,
     "user": {
      "displayName": "koeyhi",
      "userId": "08049178071858703986"
     },
     "user_tz": -540
    },
    "id": "MC0w8DLUPElq",
    "outputId": "e8249e4c-7043-4c1b-f920-4fe1de2f22d6"
   },
   "outputs": [
    {
     "data": {
      "text/plain": [
       "(torch.Size([4]), torch.int64)"
      ]
     },
     "execution_count": 18,
     "metadata": {},
     "output_type": "execute_result"
    }
   ],
   "source": [
    "y = torch.tensor([0,1,2,1], dtype=torch.int64)\n",
    "y.shape, y.dtype"
   ]
  },
  {
   "cell_type": "code",
   "execution_count": null,
   "metadata": {
    "colab": {
     "base_uri": "https://localhost:8080/"
    },
    "executionInfo": {
     "elapsed": 5,
     "status": "ok",
     "timestamp": 1732149855985,
     "user": {
      "displayName": "koeyhi",
      "userId": "08049178071858703986"
     },
     "user_tz": -540
    },
    "id": "x_hWQTFNNjVh",
    "outputId": "221913a6-32c2-4580-d299-606fff441f96"
   },
   "outputs": [
    {
     "data": {
      "text/plain": [
       "tensor([[ 1.3261, -0.2972,  0.6011],\n",
       "        [-0.3860, -0.7703,  1.1389],\n",
       "        [ 0.2938, -0.8065,  0.3900],\n",
       "        [ 0.0762, -1.0516,  0.0164]], grad_fn=<AddmmBackward0>)"
      ]
     },
     "execution_count": 19,
     "metadata": {},
     "output_type": "execute_result"
    }
   ],
   "source": [
    "model = torch.nn.Linear(x.shape[1], 3)\n",
    "pred = model(x)\n",
    "pred"
   ]
  },
  {
   "cell_type": "code",
   "execution_count": null,
   "metadata": {
    "colab": {
     "base_uri": "https://localhost:8080/"
    },
    "executionInfo": {
     "elapsed": 5,
     "status": "ok",
     "timestamp": 1732149855985,
     "user": {
      "displayName": "koeyhi",
      "userId": "08049178071858703986"
     },
     "user_tz": -540
    },
    "id": "2GEVtnmoNjSl",
    "outputId": "245a1e18-6204-4069-a1e1-f37c89eb44b4"
   },
   "outputs": [
    {
     "data": {
      "text/plain": [
       "tensor(1.3699, grad_fn=<NllLossBackward0>)"
      ]
     },
     "execution_count": 20,
     "metadata": {},
     "output_type": "execute_result"
    }
   ],
   "source": [
    "loss_fn = torch.nn.CrossEntropyLoss()\n",
    "loss_fn(pred, y)"
   ]
  },
  {
   "cell_type": "markdown",
   "metadata": {
    "id": "OS1gQ4GCSKWk"
   },
   "source": [
    "# 옵티마이저(Optimizer)\n",
    "- pytorch 의 옵티마이저의 주요 파라미터\n",
    "    - 첫 번째 인수로 모델의 파라미터 전달\n",
    "    - lr: 학습률\n",
    "    - weight_decay: 가중치 감소(L2 정규화)를 적용하는데 사용되는 계수\n",
    "        - 기본값은 0: 가중치 감소 x"
   ]
  },
  {
   "cell_type": "code",
   "execution_count": null,
   "metadata": {
    "colab": {
     "base_uri": "https://localhost:8080/"
    },
    "executionInfo": {
     "elapsed": 4,
     "status": "ok",
     "timestamp": 1732149855985,
     "user": {
      "displayName": "koeyhi",
      "userId": "08049178071858703986"
     },
     "user_tz": -540
    },
    "id": "GcQ7btHbSOKI",
    "outputId": "a2cc1f1c-d72c-4047-9f5b-7ad8f60abb05"
   },
   "outputs": [
    {
     "data": {
      "text/plain": [
       "<generator object Module.parameters at 0x7c40a1376810>"
      ]
     },
     "execution_count": 21,
     "metadata": {},
     "output_type": "execute_result"
    }
   ],
   "source": [
    "model.parameters()"
   ]
  },
  {
   "cell_type": "code",
   "execution_count": null,
   "metadata": {
    "id": "HzXi9DvHSOFq"
   },
   "outputs": [],
   "source": [
    "optim = torch.optim.SGD(model.parameters(), lr=0.001)"
   ]
  },
  {
   "cell_type": "code",
   "execution_count": null,
   "metadata": {
    "id": "i2EbyQfESOBl"
   },
   "outputs": [],
   "source": [
    "optim.step() # 가중치 업데이트"
   ]
  },
  {
   "cell_type": "markdown",
   "metadata": {
    "id": "2hdC_WjoTyqC"
   },
   "source": [
    "## momentum"
   ]
  },
  {
   "cell_type": "code",
   "execution_count": null,
   "metadata": {
    "id": "J4Av_yEESNy8"
   },
   "outputs": [],
   "source": [
    "optim = torch.optim.SGD(model.parameters(), lr=0.001, momentum=0.9)"
   ]
  },
  {
   "cell_type": "markdown",
   "metadata": {
    "id": "7EmnyE94UTi4"
   },
   "source": [
    "## Adagrad"
   ]
  },
  {
   "cell_type": "code",
   "execution_count": null,
   "metadata": {
    "id": "hKTwgcZVT6Tk"
   },
   "outputs": [],
   "source": [
    "optim = torch.optim.Adagrad(model.parameters())"
   ]
  },
  {
   "cell_type": "markdown",
   "metadata": {
    "id": "GRF3KhTIUa-1"
   },
   "source": [
    "## RMSprop"
   ]
  },
  {
   "cell_type": "code",
   "execution_count": null,
   "metadata": {
    "id": "DsoDOXyHT6YD"
   },
   "outputs": [],
   "source": [
    "optim = torch.optim.RMSprop(model.parameters())"
   ]
  },
  {
   "cell_type": "markdown",
   "metadata": {
    "id": "JYDIa4ZaUfex"
   },
   "source": [
    "## Adam*"
   ]
  },
  {
   "cell_type": "code",
   "execution_count": null,
   "metadata": {
    "id": "1mOrLKefT6b1"
   },
   "outputs": [],
   "source": [
    "optim = torch.optim.Adam(model.parameters())"
   ]
  },
  {
   "cell_type": "code",
   "execution_count": null,
   "metadata": {
    "id": "9G5pyJKBUp4Z"
   },
   "outputs": [],
   "source": [
    "# 역전파 후\n",
    "optim.step()"
   ]
  },
  {
   "cell_type": "markdown",
   "metadata": {
    "id": "cmc43wrBDTaG"
   },
   "source": [
    "# 입력 데이터 텐서로 변환"
   ]
  },
  {
   "cell_type": "markdown",
   "metadata": {
    "id": "3XHW3HVsDGUk"
   },
   "source": [
    "- 일반적으로 입력으로 들어가는 텐서의 dtype 은 float32"
   ]
  },
  {
   "cell_type": "code",
   "execution_count": null,
   "metadata": {
    "colab": {
     "base_uri": "https://localhost:8080/"
    },
    "executionInfo": {
     "elapsed": 13,
     "status": "ok",
     "timestamp": 1732149861614,
     "user": {
      "displayName": "koeyhi",
      "userId": "08049178071858703986"
     },
     "user_tz": -540
    },
    "id": "mX5ahfJKCfL4",
    "outputId": "9d45911e-4e52-4159-eecc-cfcf3a978b93"
   },
   "outputs": [
    {
     "data": {
      "text/plain": [
       "(torch.Size([916, 10]), torch.float32)"
      ]
     },
     "execution_count": 29,
     "metadata": {},
     "output_type": "execute_result"
    }
   ],
   "source": [
    "x_train = torch.Tensor(train_ft)\n",
    "x_train.shape, x_train.dtype"
   ]
  },
  {
   "cell_type": "markdown",
   "metadata": {
    "id": "jsrPkxxyDWgg"
   },
   "source": [
    "# 정답 데이터 텐서로 변환"
   ]
  },
  {
   "cell_type": "code",
   "execution_count": null,
   "metadata": {
    "colab": {
     "base_uri": "https://localhost:8080/"
    },
    "executionInfo": {
     "elapsed": 13,
     "status": "ok",
     "timestamp": 1732149861614,
     "user": {
      "displayName": "koeyhi",
      "userId": "08049178071858703986"
     },
     "user_tz": -540
    },
    "id": "xz1R_mkQCe1p",
    "outputId": "5b737e8a-6f98-43d4-8d98-6ec63b022844"
   },
   "outputs": [
    {
     "data": {
      "text/plain": [
       "(torch.Size([916, 1]), torch.float32)"
      ]
     },
     "execution_count": 30,
     "metadata": {},
     "output_type": "execute_result"
    }
   ],
   "source": [
    "y_train = torch.Tensor(target.reshape(-1,1))\n",
    "y_train.shape, y_train.dtype"
   ]
  },
  {
   "cell_type": "code",
   "execution_count": null,
   "metadata": {
    "colab": {
     "base_uri": "https://localhost:8080/",
     "height": 35
    },
    "executionInfo": {
     "elapsed": 13,
     "status": "ok",
     "timestamp": 1732149861615,
     "user": {
      "displayName": "koeyhi",
      "userId": "08049178071858703986"
     },
     "user_tz": -540
    },
    "id": "wneRtYjKCeyV",
    "outputId": "6a0be15a-53b7-4097-d973-c4227b2ad240"
   },
   "outputs": [
    {
     "data": {
      "application/vnd.google.colaboratory.intrinsic+json": {
       "type": "string"
      },
      "text/plain": [
       "'cuda'"
      ]
     },
     "execution_count": 31,
     "metadata": {},
     "output_type": "execute_result"
    }
   ],
   "source": [
    "device = \"cuda\" if torch.cuda.is_available() else \"cpu\"\n",
    "device"
   ]
  },
  {
   "cell_type": "markdown",
   "metadata": {
    "id": "xGeCXEy4EUEc"
   },
   "source": [
    "# 손실함수 객체 생성"
   ]
  },
  {
   "cell_type": "code",
   "execution_count": null,
   "metadata": {
    "id": "OnOlexvSCevq"
   },
   "outputs": [],
   "source": [
    "loss_fn = torch.nn.BCEWithLogitsLoss()"
   ]
  },
  {
   "cell_type": "markdown",
   "metadata": {
    "id": "sMCKtImMEppl"
   },
   "source": [
    "# 학습 loop 구현\n",
    "- 에폭 100"
   ]
  },
  {
   "cell_type": "code",
   "execution_count": null,
   "metadata": {
    "colab": {
     "base_uri": "https://localhost:8080/"
    },
    "executionInfo": {
     "elapsed": 1226,
     "status": "ok",
     "timestamp": 1732149862836,
     "user": {
      "displayName": "koeyhi",
      "userId": "08049178071858703986"
     },
     "user_tz": -540
    },
    "id": "W2OSoHguCetR",
    "outputId": "5f45cd4c-a101-4b3a-ac53-e072baedc892"
   },
   "outputs": [
    {
     "name": "stdout",
     "output_type": "stream",
     "text": [
      "epoch 1 loss: 0.6774646639823914\n",
      "epoch 2 loss: 0.6765611171722412\n",
      "epoch 3 loss: 0.6756607890129089\n",
      "epoch 4 loss: 0.6747637987136841\n",
      "epoch 5 loss: 0.6738703846931458\n",
      "epoch 6 loss: 0.6729801893234253\n",
      "epoch 7 loss: 0.6720936894416809\n",
      "epoch 8 loss: 0.6712106466293335\n",
      "epoch 9 loss: 0.6703311800956726\n",
      "epoch 10 loss: 0.6694554686546326\n",
      "epoch 11 loss: 0.6685833930969238\n",
      "epoch 12 loss: 0.6677150130271912\n",
      "epoch 13 loss: 0.6668505668640137\n",
      "epoch 14 loss: 0.6659897565841675\n",
      "epoch 15 loss: 0.6651329398155212\n",
      "epoch 16 loss: 0.6642799973487854\n",
      "epoch 17 loss: 0.6634309887886047\n",
      "epoch 18 loss: 0.6625859141349792\n",
      "epoch 19 loss: 0.6617448329925537\n",
      "epoch 20 loss: 0.6609077453613281\n",
      "epoch 21 loss: 0.660074770450592\n",
      "epoch 22 loss: 0.6592457890510559\n",
      "epoch 23 loss: 0.6584208607673645\n",
      "epoch 24 loss: 0.6576001048088074\n",
      "epoch 25 loss: 0.6567834615707397\n",
      "epoch 26 loss: 0.6559708714485168\n",
      "epoch 27 loss: 0.6551624536514282\n",
      "epoch 28 loss: 0.6543582081794739\n",
      "epoch 29 loss: 0.6535580158233643\n",
      "epoch 30 loss: 0.6527620553970337\n",
      "epoch 31 loss: 0.6519702076911926\n",
      "epoch 32 loss: 0.6511824727058411\n",
      "epoch 33 loss: 0.6503989696502686\n",
      "epoch 34 loss: 0.6496195793151855\n",
      "epoch 35 loss: 0.6488443613052368\n",
      "epoch 36 loss: 0.6480732560157776\n",
      "epoch 37 loss: 0.6473062038421631\n",
      "epoch 38 loss: 0.6465433835983276\n",
      "epoch 39 loss: 0.6457846164703369\n",
      "epoch 40 loss: 0.6450297832489014\n",
      "epoch 41 loss: 0.6442792415618896\n",
      "epoch 42 loss: 0.6435326337814331\n",
      "epoch 43 loss: 0.6427900791168213\n",
      "epoch 44 loss: 0.6420515775680542\n",
      "epoch 45 loss: 0.6413171291351318\n",
      "epoch 46 loss: 0.6405866146087646\n",
      "epoch 47 loss: 0.6398600339889526\n",
      "epoch 48 loss: 0.6391373872756958\n",
      "epoch 49 loss: 0.6384186744689941\n",
      "epoch 50 loss: 0.6377038955688477\n",
      "epoch 51 loss: 0.6369929909706116\n",
      "epoch 52 loss: 0.6362859010696411\n",
      "epoch 53 loss: 0.635582685470581\n",
      "epoch 54 loss: 0.6348832249641418\n",
      "epoch 55 loss: 0.6341875195503235\n",
      "epoch 56 loss: 0.6334956884384155\n",
      "epoch 57 loss: 0.6328074336051941\n",
      "epoch 58 loss: 0.6321230530738831\n",
      "epoch 59 loss: 0.6314423084259033\n",
      "epoch 60 loss: 0.6307652592658997\n",
      "epoch 61 loss: 0.6300917863845825\n",
      "epoch 62 loss: 0.6294219493865967\n",
      "epoch 63 loss: 0.6287556886672974\n",
      "epoch 64 loss: 0.6280930638313293\n",
      "epoch 65 loss: 0.6274340152740479\n",
      "epoch 66 loss: 0.6267784237861633\n",
      "epoch 67 loss: 0.6261263489723206\n",
      "epoch 68 loss: 0.6254778504371643\n",
      "epoch 69 loss: 0.6248327493667603\n",
      "epoch 70 loss: 0.6241911053657532\n",
      "epoch 71 loss: 0.6235529184341431\n",
      "epoch 72 loss: 0.6229180097579956\n",
      "epoch 73 loss: 0.6222866177558899\n",
      "epoch 74 loss: 0.6216585636138916\n",
      "epoch 75 loss: 0.621033787727356\n",
      "epoch 76 loss: 0.6204123497009277\n",
      "epoch 77 loss: 0.6197941899299622\n",
      "epoch 78 loss: 0.6191794276237488\n",
      "epoch 79 loss: 0.6185678243637085\n",
      "epoch 80 loss: 0.6179593801498413\n",
      "epoch 81 loss: 0.6173542141914368\n",
      "epoch 82 loss: 0.6167522668838501\n",
      "epoch 83 loss: 0.6161535382270813\n",
      "epoch 84 loss: 0.6155579686164856\n",
      "epoch 85 loss: 0.6149654388427734\n",
      "epoch 86 loss: 0.6143760085105896\n",
      "epoch 87 loss: 0.6137897968292236\n",
      "epoch 88 loss: 0.6132065653800964\n",
      "epoch 89 loss: 0.6126265525817871\n",
      "epoch 90 loss: 0.6120493412017822\n",
      "epoch 91 loss: 0.6114752292633057\n",
      "epoch 92 loss: 0.6109041571617126\n",
      "epoch 93 loss: 0.6103361248970032\n",
      "epoch 94 loss: 0.6097709536552429\n",
      "epoch 95 loss: 0.6092087030410767\n",
      "epoch 96 loss: 0.6086494326591492\n",
      "epoch 97 loss: 0.6080930829048157\n",
      "epoch 98 loss: 0.6075395345687866\n",
      "epoch 99 loss: 0.6069889068603516\n",
      "epoch 100 loss: 0.6064411401748657\n"
     ]
    }
   ],
   "source": [
    "torch.manual_seed(SEED)\n",
    "model = torch.nn.Linear(x_train.shape[1], 1).to(device)\n",
    "optimizer = torch.optim.Adam(model.parameters())\n",
    "\n",
    "model.train() # 학습모드\n",
    "for i in range(100):\n",
    "    pred = model(x_train.to(device)) # 예측\n",
    "    loss = loss_fn(pred, y_train.to(device)) # 손실 계산 후 손실 텐서 반환\n",
    "\n",
    "    optimizer.zero_grad() # 기울기 0으로 초기화\n",
    "    loss.backward() # 역전파\n",
    "    optimizer.step() # 가중치 업데이트\n",
    "\n",
    "    print(f\"epoch {i+1} loss: {loss.item()}\")"
   ]
  },
  {
   "cell_type": "code",
   "execution_count": null,
   "metadata": {
    "colab": {
     "base_uri": "https://localhost:8080/"
    },
    "executionInfo": {
     "elapsed": 7,
     "status": "ok",
     "timestamp": 1732149862837,
     "user": {
      "displayName": "koeyhi",
      "userId": "08049178071858703986"
     },
     "user_tz": -540
    },
    "id": "WCE7ER7DDaSw",
    "outputId": "52134d74-571c-4266-c955-d9d4346c3bbf"
   },
   "outputs": [
    {
     "data": {
      "text/plain": [
       "(torch.Size([393, 10]), torch.float32)"
      ]
     },
     "execution_count": 34,
     "metadata": {},
     "output_type": "execute_result"
    }
   ],
   "source": [
    "x_test = torch.Tensor(test_ft)\n",
    "x_test.shape, x_test.dtype"
   ]
  },
  {
   "cell_type": "code",
   "execution_count": null,
   "metadata": {
    "colab": {
     "base_uri": "https://localhost:8080/"
    },
    "executionInfo": {
     "elapsed": 295,
     "status": "ok",
     "timestamp": 1732149899448,
     "user": {
      "displayName": "koeyhi",
      "userId": "08049178071858703986"
     },
     "user_tz": -540
    },
    "id": "jPGNnOVTF8WL",
    "outputId": "4c848467-b501-4a8b-d061-3d548bb186bf"
   },
   "outputs": [
    {
     "data": {
      "text/plain": [
       "array([[0.43729886],\n",
       "       [0.4247257 ],\n",
       "       [0.37824133],\n",
       "       [0.6071703 ],\n",
       "       [0.60195106],\n",
       "       [0.5011371 ],\n",
       "       [0.40200987],\n",
       "       [0.48077458],\n",
       "       [0.48190418],\n",
       "       [0.6115566 ],\n",
       "       [0.39849135],\n",
       "       [0.6071784 ],\n",
       "       [0.53903604],\n",
       "       [0.5178673 ],\n",
       "       [0.5789724 ],\n",
       "       [0.38065284],\n",
       "       [0.42397705],\n",
       "       [0.5048228 ],\n",
       "       [0.49144453],\n",
       "       [0.3806299 ],\n",
       "       [0.38200328],\n",
       "       [0.5545891 ],\n",
       "       [0.6072311 ],\n",
       "       [0.37788776],\n",
       "       [0.3848875 ],\n",
       "       [0.551164  ],\n",
       "       [0.39494857],\n",
       "       [0.43791315],\n",
       "       [0.42235377],\n",
       "       [0.5258509 ],\n",
       "       [0.48895422],\n",
       "       [0.48309287],\n",
       "       [0.36441907],\n",
       "       [0.5060695 ],\n",
       "       [0.4836451 ],\n",
       "       [0.52307546],\n",
       "       [0.62173694],\n",
       "       [0.42235377],\n",
       "       [0.37945077],\n",
       "       [0.3869444 ],\n",
       "       [0.5046821 ],\n",
       "       [0.59152395],\n",
       "       [0.38247728],\n",
       "       [0.39811417],\n",
       "       [0.48201627],\n",
       "       [0.38199148],\n",
       "       [0.41835648],\n",
       "       [0.508773  ],\n",
       "       [0.39874646],\n",
       "       [0.5072391 ],\n",
       "       [0.5479088 ],\n",
       "       [0.38500234],\n",
       "       [0.47876635],\n",
       "       [0.50534   ],\n",
       "       [0.48201627],\n",
       "       [0.5137232 ],\n",
       "       [0.42474842],\n",
       "       [0.4760679 ],\n",
       "       [0.6270759 ],\n",
       "       [0.37980473],\n",
       "       [0.39720818],\n",
       "       [0.37887418],\n",
       "       [0.4770386 ],\n",
       "       [0.60263294],\n",
       "       [0.37743375],\n",
       "       [0.54756504],\n",
       "       [0.41835648],\n",
       "       [0.4013781 ],\n",
       "       [0.5731189 ],\n",
       "       [0.3782483 ],\n",
       "       [0.48715997],\n",
       "       [0.5114245 ],\n",
       "       [0.37733084],\n",
       "       [0.6445777 ],\n",
       "       [0.46530417],\n",
       "       [0.5590147 ],\n",
       "       [0.4831553 ],\n",
       "       [0.5243295 ],\n",
       "       [0.47852346],\n",
       "       [0.39211762],\n",
       "       [0.5048228 ],\n",
       "       [0.49951434],\n",
       "       [0.37665674],\n",
       "       [0.6449758 ],\n",
       "       [0.58901924],\n",
       "       [0.5080369 ],\n",
       "       [0.5251545 ],\n",
       "       [0.4646989 ],\n",
       "       [0.5086173 ],\n",
       "       [0.3861029 ],\n",
       "       [0.65994525],\n",
       "       [0.3822485 ],\n",
       "       [0.3713387 ],\n",
       "       [0.38292494],\n",
       "       [0.37709737],\n",
       "       [0.41002172],\n",
       "       [0.6392071 ],\n",
       "       [0.431244  ],\n",
       "       [0.48998627],\n",
       "       [0.38156357],\n",
       "       [0.42636132],\n",
       "       [0.4149775 ],\n",
       "       [0.38005552],\n",
       "       [0.6071728 ],\n",
       "       [0.4713094 ],\n",
       "       [0.38969752],\n",
       "       [0.6419312 ],\n",
       "       [0.47304323],\n",
       "       [0.40470994],\n",
       "       [0.50062686],\n",
       "       [0.3763541 ],\n",
       "       [0.38156787],\n",
       "       [0.50062686],\n",
       "       [0.40129274],\n",
       "       [0.37536448],\n",
       "       [0.3744383 ],\n",
       "       [0.54006594],\n",
       "       [0.5106233 ],\n",
       "       [0.51024616],\n",
       "       [0.4697838 ],\n",
       "       [0.4237399 ],\n",
       "       [0.37622193],\n",
       "       [0.38350567],\n",
       "       [0.5048228 ],\n",
       "       [0.3879016 ],\n",
       "       [0.38610876],\n",
       "       [0.6071728 ],\n",
       "       [0.39874646],\n",
       "       [0.6380391 ],\n",
       "       [0.5803952 ],\n",
       "       [0.3887158 ],\n",
       "       [0.5447985 ],\n",
       "       [0.37669438],\n",
       "       [0.5104188 ],\n",
       "       [0.3780262 ],\n",
       "       [0.42978978],\n",
       "       [0.3864376 ],\n",
       "       [0.38964954],\n",
       "       [0.3806952 ],\n",
       "       [0.41068083],\n",
       "       [0.41018376],\n",
       "       [0.6134548 ],\n",
       "       [0.63999236],\n",
       "       [0.6409998 ],\n",
       "       [0.40974396],\n",
       "       [0.4089519 ],\n",
       "       [0.38065284],\n",
       "       [0.4770191 ],\n",
       "       [0.38695082],\n",
       "       [0.5456438 ],\n",
       "       [0.5300559 ],\n",
       "       [0.36709544],\n",
       "       [0.5258015 ],\n",
       "       [0.37755916],\n",
       "       [0.38176724],\n",
       "       [0.64055973],\n",
       "       [0.48637697],\n",
       "       [0.3824786 ],\n",
       "       [0.5380269 ],\n",
       "       [0.49739793],\n",
       "       [0.49553448],\n",
       "       [0.48201558],\n",
       "       [0.48201558],\n",
       "       [0.3943241 ],\n",
       "       [0.39939746],\n",
       "       [0.61093384],\n",
       "       [0.42170766],\n",
       "       [0.63322574],\n",
       "       [0.3821225 ],\n",
       "       [0.38355252],\n",
       "       [0.38350567],\n",
       "       [0.47808823],\n",
       "       [0.54049116],\n",
       "       [0.4186516 ],\n",
       "       [0.5048228 ],\n",
       "       [0.4856762 ],\n",
       "       [0.48345068],\n",
       "       [0.5492762 ],\n",
       "       [0.37701955],\n",
       "       [0.54934645],\n",
       "       [0.5297135 ],\n",
       "       [0.60616964],\n",
       "       [0.3806299 ],\n",
       "       [0.50334656],\n",
       "       [0.3843012 ],\n",
       "       [0.4199347 ],\n",
       "       [0.3953441 ],\n",
       "       [0.37945077],\n",
       "       [0.37447894],\n",
       "       [0.5048228 ],\n",
       "       [0.47828773],\n",
       "       [0.38156787],\n",
       "       [0.3806952 ],\n",
       "       [0.580066  ],\n",
       "       [0.40421686],\n",
       "       [0.5393841 ],\n",
       "       [0.37398896],\n",
       "       [0.4950501 ],\n",
       "       [0.6013399 ],\n",
       "       [0.4864764 ],\n",
       "       [0.50469655],\n",
       "       [0.39626545],\n",
       "       [0.48235074],\n",
       "       [0.42381695],\n",
       "       [0.40075788],\n",
       "       [0.48677927],\n",
       "       [0.4828366 ],\n",
       "       [0.48349622],\n",
       "       [0.37868574],\n",
       "       [0.38057843],\n",
       "       [0.6270338 ],\n",
       "       [0.39798725],\n",
       "       [0.5072405 ],\n",
       "       [0.505986  ],\n",
       "       [0.6347421 ],\n",
       "       [0.3967559 ],\n",
       "       [0.66476583],\n",
       "       [0.5080579 ],\n",
       "       [0.40348333],\n",
       "       [0.38711983],\n",
       "       [0.4950501 ],\n",
       "       [0.49430278],\n",
       "       [0.378915  ],\n",
       "       [0.3753201 ],\n",
       "       [0.40484825],\n",
       "       [0.3806299 ],\n",
       "       [0.5048228 ],\n",
       "       [0.47864556],\n",
       "       [0.48937568],\n",
       "       [0.38078332],\n",
       "       [0.53321767],\n",
       "       [0.380209  ],\n",
       "       [0.4494757 ],\n",
       "       [0.47857544],\n",
       "       [0.50535005],\n",
       "       [0.5399771 ],\n",
       "       [0.48201558],\n",
       "       [0.5332126 ],\n",
       "       [0.48047802],\n",
       "       [0.5375765 ],\n",
       "       [0.37811702],\n",
       "       [0.3856442 ],\n",
       "       [0.5272255 ],\n",
       "       [0.5889147 ],\n",
       "       [0.43149397],\n",
       "       [0.37843278],\n",
       "       [0.4840769 ],\n",
       "       [0.3806299 ],\n",
       "       [0.37447894],\n",
       "       [0.48201627],\n",
       "       [0.397586  ],\n",
       "       [0.5996438 ],\n",
       "       [0.377001  ],\n",
       "       [0.44242164],\n",
       "       [0.3750122 ],\n",
       "       [0.5035339 ],\n",
       "       [0.61969924],\n",
       "       [0.4281713 ],\n",
       "       [0.4848228 ],\n",
       "       [0.38626343],\n",
       "       [0.47957665],\n",
       "       [0.39939746],\n",
       "       [0.37795198],\n",
       "       [0.42608956],\n",
       "       [0.50062793],\n",
       "       [0.4176516 ],\n",
       "       [0.3806299 ],\n",
       "       [0.54954225],\n",
       "       [0.6071772 ],\n",
       "       [0.5422722 ],\n",
       "       [0.5048228 ],\n",
       "       [0.6071728 ],\n",
       "       [0.38062865],\n",
       "       [0.49881548],\n",
       "       [0.62701905],\n",
       "       [0.38436922],\n",
       "       [0.6004784 ],\n",
       "       [0.37844762],\n",
       "       [0.38053384],\n",
       "       [0.48633605],\n",
       "       [0.36138985],\n",
       "       [0.37580755],\n",
       "       [0.38065284],\n",
       "       [0.37665674],\n",
       "       [0.39894432],\n",
       "       [0.57522535],\n",
       "       [0.38521346],\n",
       "       [0.47857937],\n",
       "       [0.48905358],\n",
       "       [0.37920007],\n",
       "       [0.41077986],\n",
       "       [0.39830986],\n",
       "       [0.4006958 ],\n",
       "       [0.46450853],\n",
       "       [0.65131485],\n",
       "       [0.43729886],\n",
       "       [0.46249753],\n",
       "       [0.4435399 ],\n",
       "       [0.60450864],\n",
       "       [0.5157375 ],\n",
       "       [0.42444882],\n",
       "       [0.528017  ],\n",
       "       [0.42243844],\n",
       "       [0.47969165],\n",
       "       [0.4790942 ],\n",
       "       [0.5048228 ],\n",
       "       [0.6031527 ],\n",
       "       [0.41248843],\n",
       "       [0.5043954 ],\n",
       "       [0.37976697],\n",
       "       [0.53074443],\n",
       "       [0.38292494],\n",
       "       [0.48291275],\n",
       "       [0.3778914 ],\n",
       "       [0.5497429 ],\n",
       "       [0.48976249],\n",
       "       [0.37107772],\n",
       "       [0.53106993],\n",
       "       [0.43048936],\n",
       "       [0.42243844],\n",
       "       [0.38065284],\n",
       "       [0.6071728 ],\n",
       "       [0.52739346],\n",
       "       [0.39874646],\n",
       "       [0.38598007],\n",
       "       [0.5373212 ],\n",
       "       [0.5797369 ],\n",
       "       [0.37978178],\n",
       "       [0.40715563],\n",
       "       [0.40986562],\n",
       "       [0.39849135],\n",
       "       [0.4367623 ],\n",
       "       [0.40285346],\n",
       "       [0.3805041 ],\n",
       "       [0.56793165],\n",
       "       [0.42293835],\n",
       "       [0.5447126 ],\n",
       "       [0.66352236],\n",
       "       [0.48425376],\n",
       "       [0.42304668],\n",
       "       [0.43772995],\n",
       "       [0.64841515],\n",
       "       [0.37887418],\n",
       "       [0.48749024],\n",
       "       [0.505195  ],\n",
       "       [0.38788548],\n",
       "       [0.505195  ],\n",
       "       [0.49008155],\n",
       "       [0.38451877],\n",
       "       [0.49271807],\n",
       "       [0.64294297],\n",
       "       [0.53774905],\n",
       "       [0.5774335 ],\n",
       "       [0.50653845],\n",
       "       [0.3757669 ],\n",
       "       [0.6564454 ],\n",
       "       [0.3881764 ],\n",
       "       [0.38156787],\n",
       "       [0.5090584 ],\n",
       "       [0.37909812],\n",
       "       [0.54533464],\n",
       "       [0.40257418],\n",
       "       [0.38325217],\n",
       "       [0.43164286],\n",
       "       [0.40174147],\n",
       "       [0.40484825],\n",
       "       [0.6071922 ],\n",
       "       [0.40621468],\n",
       "       [0.47380972],\n",
       "       [0.4986681 ],\n",
       "       [0.37799713],\n",
       "       [0.5683952 ],\n",
       "       [0.37667155],\n",
       "       [0.41835648],\n",
       "       [0.37646562],\n",
       "       [0.6071728 ],\n",
       "       [0.40575993],\n",
       "       [0.43509603],\n",
       "       [0.47777623],\n",
       "       [0.37578475],\n",
       "       [0.66307956],\n",
       "       [0.5669917 ],\n",
       "       [0.47402263],\n",
       "       [0.39574715],\n",
       "       [0.48206046],\n",
       "       [0.50061417],\n",
       "       [0.38203248],\n",
       "       [0.40883037],\n",
       "       [0.37578475],\n",
       "       [0.58470255],\n",
       "       [0.37667587],\n",
       "       [0.3806299 ],\n",
       "       [0.37933683]], dtype=float32)"
      ]
     },
     "execution_count": 36,
     "metadata": {},
     "output_type": "execute_result"
    }
   ],
   "source": [
    "model.eval() # 평가모드\n",
    "sig = torch.nn.Sigmoid()\n",
    "\n",
    "with torch.no_grad(): # 예측 과정에서 경사추적 할 필요 없기 때문에 with 문 내에서 예측 수행\n",
    "    pred = model(x_test.to(device)) # 실수 예측값 반환\n",
    "    pred = sig(pred) # 예측 확률로 변환\n",
    "    pred = pred.to(\"cpu\").numpy() # cpu 이동 후 ndarray 변환\n",
    "\n",
    "pred"
   ]
  },
  {
   "cell_type": "code",
   "execution_count": null,
   "metadata": {
    "colab": {
     "base_uri": "https://localhost:8080/"
    },
    "executionInfo": {
     "elapsed": 295,
     "status": "ok",
     "timestamp": 1732150186673,
     "user": {
      "displayName": "koeyhi",
      "userId": "08049178071858703986"
     },
     "user_tz": -540
    },
    "id": "fzSV2wgYF8UA",
    "outputId": "64dec944-b008-4c40-d898-8afd2b4aafd4"
   },
   "outputs": [
    {
     "data": {
      "text/plain": [
       "array([[0],\n",
       "       [0],\n",
       "       [0],\n",
       "       [1],\n",
       "       [1],\n",
       "       [1],\n",
       "       [0],\n",
       "       [0],\n",
       "       [0],\n",
       "       [1],\n",
       "       [0],\n",
       "       [1],\n",
       "       [1],\n",
       "       [1],\n",
       "       [1],\n",
       "       [0],\n",
       "       [0],\n",
       "       [1],\n",
       "       [0],\n",
       "       [0],\n",
       "       [0],\n",
       "       [1],\n",
       "       [1],\n",
       "       [0],\n",
       "       [0],\n",
       "       [1],\n",
       "       [0],\n",
       "       [0],\n",
       "       [0],\n",
       "       [1],\n",
       "       [0],\n",
       "       [0],\n",
       "       [0],\n",
       "       [1],\n",
       "       [0],\n",
       "       [1],\n",
       "       [1],\n",
       "       [0],\n",
       "       [0],\n",
       "       [0],\n",
       "       [1],\n",
       "       [1],\n",
       "       [0],\n",
       "       [0],\n",
       "       [0],\n",
       "       [0],\n",
       "       [0],\n",
       "       [1],\n",
       "       [0],\n",
       "       [1],\n",
       "       [1],\n",
       "       [0],\n",
       "       [0],\n",
       "       [1],\n",
       "       [0],\n",
       "       [1],\n",
       "       [0],\n",
       "       [0],\n",
       "       [1],\n",
       "       [0],\n",
       "       [0],\n",
       "       [0],\n",
       "       [0],\n",
       "       [1],\n",
       "       [0],\n",
       "       [1],\n",
       "       [0],\n",
       "       [0],\n",
       "       [1],\n",
       "       [0],\n",
       "       [0],\n",
       "       [1],\n",
       "       [0],\n",
       "       [1],\n",
       "       [0],\n",
       "       [1],\n",
       "       [0],\n",
       "       [1],\n",
       "       [0],\n",
       "       [0],\n",
       "       [1],\n",
       "       [0],\n",
       "       [0],\n",
       "       [1],\n",
       "       [1],\n",
       "       [1],\n",
       "       [1],\n",
       "       [0],\n",
       "       [1],\n",
       "       [0],\n",
       "       [1],\n",
       "       [0],\n",
       "       [0],\n",
       "       [0],\n",
       "       [0],\n",
       "       [0],\n",
       "       [1],\n",
       "       [0],\n",
       "       [0],\n",
       "       [0],\n",
       "       [0],\n",
       "       [0],\n",
       "       [0],\n",
       "       [1],\n",
       "       [0],\n",
       "       [0],\n",
       "       [1],\n",
       "       [0],\n",
       "       [0],\n",
       "       [1],\n",
       "       [0],\n",
       "       [0],\n",
       "       [1],\n",
       "       [0],\n",
       "       [0],\n",
       "       [0],\n",
       "       [1],\n",
       "       [1],\n",
       "       [1],\n",
       "       [0],\n",
       "       [0],\n",
       "       [0],\n",
       "       [0],\n",
       "       [1],\n",
       "       [0],\n",
       "       [0],\n",
       "       [1],\n",
       "       [0],\n",
       "       [1],\n",
       "       [1],\n",
       "       [0],\n",
       "       [1],\n",
       "       [0],\n",
       "       [1],\n",
       "       [0],\n",
       "       [0],\n",
       "       [0],\n",
       "       [0],\n",
       "       [0],\n",
       "       [0],\n",
       "       [0],\n",
       "       [1],\n",
       "       [1],\n",
       "       [1],\n",
       "       [0],\n",
       "       [0],\n",
       "       [0],\n",
       "       [0],\n",
       "       [0],\n",
       "       [1],\n",
       "       [1],\n",
       "       [0],\n",
       "       [1],\n",
       "       [0],\n",
       "       [0],\n",
       "       [1],\n",
       "       [0],\n",
       "       [0],\n",
       "       [1],\n",
       "       [0],\n",
       "       [0],\n",
       "       [0],\n",
       "       [0],\n",
       "       [0],\n",
       "       [0],\n",
       "       [1],\n",
       "       [0],\n",
       "       [1],\n",
       "       [0],\n",
       "       [0],\n",
       "       [0],\n",
       "       [0],\n",
       "       [1],\n",
       "       [0],\n",
       "       [1],\n",
       "       [0],\n",
       "       [0],\n",
       "       [1],\n",
       "       [0],\n",
       "       [1],\n",
       "       [1],\n",
       "       [1],\n",
       "       [0],\n",
       "       [1],\n",
       "       [0],\n",
       "       [0],\n",
       "       [0],\n",
       "       [0],\n",
       "       [0],\n",
       "       [1],\n",
       "       [0],\n",
       "       [0],\n",
       "       [0],\n",
       "       [1],\n",
       "       [0],\n",
       "       [1],\n",
       "       [0],\n",
       "       [0],\n",
       "       [1],\n",
       "       [0],\n",
       "       [1],\n",
       "       [0],\n",
       "       [0],\n",
       "       [0],\n",
       "       [0],\n",
       "       [0],\n",
       "       [0],\n",
       "       [0],\n",
       "       [0],\n",
       "       [0],\n",
       "       [1],\n",
       "       [0],\n",
       "       [1],\n",
       "       [1],\n",
       "       [1],\n",
       "       [0],\n",
       "       [1],\n",
       "       [1],\n",
       "       [0],\n",
       "       [0],\n",
       "       [0],\n",
       "       [0],\n",
       "       [0],\n",
       "       [0],\n",
       "       [0],\n",
       "       [0],\n",
       "       [1],\n",
       "       [0],\n",
       "       [0],\n",
       "       [0],\n",
       "       [1],\n",
       "       [0],\n",
       "       [0],\n",
       "       [0],\n",
       "       [1],\n",
       "       [1],\n",
       "       [0],\n",
       "       [1],\n",
       "       [0],\n",
       "       [1],\n",
       "       [0],\n",
       "       [0],\n",
       "       [1],\n",
       "       [1],\n",
       "       [0],\n",
       "       [0],\n",
       "       [0],\n",
       "       [0],\n",
       "       [0],\n",
       "       [0],\n",
       "       [0],\n",
       "       [1],\n",
       "       [0],\n",
       "       [0],\n",
       "       [0],\n",
       "       [1],\n",
       "       [1],\n",
       "       [0],\n",
       "       [0],\n",
       "       [0],\n",
       "       [0],\n",
       "       [0],\n",
       "       [0],\n",
       "       [0],\n",
       "       [1],\n",
       "       [0],\n",
       "       [0],\n",
       "       [1],\n",
       "       [1],\n",
       "       [1],\n",
       "       [1],\n",
       "       [1],\n",
       "       [0],\n",
       "       [0],\n",
       "       [1],\n",
       "       [0],\n",
       "       [1],\n",
       "       [0],\n",
       "       [0],\n",
       "       [0],\n",
       "       [0],\n",
       "       [0],\n",
       "       [0],\n",
       "       [0],\n",
       "       [0],\n",
       "       [1],\n",
       "       [0],\n",
       "       [0],\n",
       "       [0],\n",
       "       [0],\n",
       "       [0],\n",
       "       [0],\n",
       "       [0],\n",
       "       [0],\n",
       "       [1],\n",
       "       [0],\n",
       "       [0],\n",
       "       [0],\n",
       "       [1],\n",
       "       [1],\n",
       "       [0],\n",
       "       [1],\n",
       "       [0],\n",
       "       [0],\n",
       "       [0],\n",
       "       [1],\n",
       "       [1],\n",
       "       [0],\n",
       "       [1],\n",
       "       [0],\n",
       "       [1],\n",
       "       [0],\n",
       "       [0],\n",
       "       [0],\n",
       "       [1],\n",
       "       [0],\n",
       "       [0],\n",
       "       [1],\n",
       "       [0],\n",
       "       [0],\n",
       "       [0],\n",
       "       [1],\n",
       "       [1],\n",
       "       [0],\n",
       "       [0],\n",
       "       [1],\n",
       "       [1],\n",
       "       [0],\n",
       "       [0],\n",
       "       [0],\n",
       "       [0],\n",
       "       [0],\n",
       "       [0],\n",
       "       [0],\n",
       "       [1],\n",
       "       [0],\n",
       "       [1],\n",
       "       [1],\n",
       "       [0],\n",
       "       [0],\n",
       "       [0],\n",
       "       [1],\n",
       "       [0],\n",
       "       [0],\n",
       "       [1],\n",
       "       [0],\n",
       "       [1],\n",
       "       [0],\n",
       "       [0],\n",
       "       [0],\n",
       "       [1],\n",
       "       [1],\n",
       "       [1],\n",
       "       [1],\n",
       "       [0],\n",
       "       [1],\n",
       "       [0],\n",
       "       [0],\n",
       "       [1],\n",
       "       [0],\n",
       "       [1],\n",
       "       [0],\n",
       "       [0],\n",
       "       [0],\n",
       "       [0],\n",
       "       [0],\n",
       "       [1],\n",
       "       [0],\n",
       "       [0],\n",
       "       [0],\n",
       "       [0],\n",
       "       [1],\n",
       "       [0],\n",
       "       [0],\n",
       "       [0],\n",
       "       [1],\n",
       "       [0],\n",
       "       [0],\n",
       "       [0],\n",
       "       [0],\n",
       "       [1],\n",
       "       [1],\n",
       "       [0],\n",
       "       [0],\n",
       "       [0],\n",
       "       [1],\n",
       "       [0],\n",
       "       [0],\n",
       "       [0],\n",
       "       [1],\n",
       "       [0],\n",
       "       [0],\n",
       "       [0]])"
      ]
     },
     "execution_count": 38,
     "metadata": {},
     "output_type": "execute_result"
    }
   ],
   "source": [
    "threshold = 0.5\n",
    "(pred > threshold).astype(int)"
   ]
  }
 ],
 "metadata": {
  "colab": {
   "provenance": []
  },
  "kernelspec": {
   "display_name": "Python 3",
   "name": "python3"
  },
  "language_info": {
   "codemirror_mode": {
    "name": "ipython",
    "version": 3
   },
   "file_extension": ".py",
   "mimetype": "text/x-python",
   "name": "python",
   "nbconvert_exporter": "python",
   "pygments_lexer": "ipython3",
   "version": "3.10.8"
  }
 },
 "nbformat": 4,
 "nbformat_minor": 0
}
